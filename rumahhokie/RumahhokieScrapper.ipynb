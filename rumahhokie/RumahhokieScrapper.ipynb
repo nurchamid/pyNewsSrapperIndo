{
 "cells": [
  {
   "cell_type": "code",
   "execution_count": 1,
   "metadata": {},
   "outputs": [],
   "source": [
    "from Rumahhokie import Rumahhokie\n",
    "# import mysql.connector\n",
    "#kelaarr\n",
    "obj = Rumahhokie()"
   ]
  },
  {
   "cell_type": "code",
   "execution_count": 3,
   "metadata": {},
   "outputs": [
    {
     "name": "stdout",
     "output_type": "stream",
     "text": [
      "page  142\n",
      "http://www.rumahhokie.com/beritaproperti/page/142/?s\n",
      "http://www.rumahhokie.com/beritaproperti/konsep-loft-apartemen-ini-maksimalkan-kenyamanan-penghuninya/\n",
      "memasukkan berita id  6085\n",
      "Insert berita  Konsep Loft Apartemen Ini Maksimalkan Kenyamanan Penghuninya\n",
      "salah2\n",
      "http://www.rumahhokie.com/beritaproperti/bogor-outer-ring-road-bikin-harga-lahan-meroket/\n",
      "memasukkan berita id  6068\n",
      "Insert berita  Bogor Outer Ring Road Bikin Harga Lahan Meroket\n",
      "salah2\n",
      "http://www.rumahhokie.com/beritaproperti/jaring-semua-segmen-kingland-usung-konsep-mixed-use-integrated/\n",
      "memasukkan berita id  6062\n",
      "Insert berita  Jaring Semua Segmen, Kingland Usung Konsep Mixed-Use Integrated\n",
      "salah2\n",
      "http://www.rumahhokie.com/beritaproperti/tips-feng-shui-waspadai-bangunan-baru-di-sekitar-rumah-anda/\n",
      "memasukkan berita id  6051\n",
      "Insert berita  Tips Feng Shui: Waspadai Bangunan Baru di Sekitar Rumah Anda!\n",
      "salah2\n",
      "http://www.rumahhokie.com/beritaproperti/hong-kong-kingland-mulai-pembangunan-tower-pertama/\n",
      "memasukkan berita id  6058\n",
      "Insert berita  Hong Kong Kingland Mulai Pembangunan Tower Pertama\n",
      "salah2\n",
      "http://www.rumahhokie.com/beritaproperti/pemkot-tangerang-minta-pemerintah-bangun-rusunawa-pemulung/\n",
      "memasukkan berita id  6047\n",
      "Insert berita  Pemkot Tangerang Minta Pemerintah Bangun Rusunawa Pemulung\n",
      "salah2\n"
     ]
    },
    {
     "ename": "AttributeError",
     "evalue": "'NoneType' object has no attribute 'get_text'",
     "output_type": "error",
     "traceback": [
      "\u001b[1;31m---------------------------------------------------------------------------\u001b[0m",
      "\u001b[1;31mAttributeError\u001b[0m                            Traceback (most recent call last)",
      "\u001b[1;32m<ipython-input-3-099c80b48032>\u001b[0m in \u001b[0;36m<module>\u001b[1;34m()\u001b[0m\n\u001b[1;32m----> 1\u001b[1;33m \u001b[0mobj\u001b[0m\u001b[1;33m.\u001b[0m\u001b[0mgetAllBerita\u001b[0m\u001b[1;33m(\u001b[0m\u001b[1;33m[\u001b[0m\u001b[1;33m]\u001b[0m\u001b[1;33m,\u001b[0m \u001b[1;36m142\u001b[0m\u001b[1;33m)\u001b[0m\u001b[1;33m\u001b[0m\u001b[0m\n\u001b[0m",
      "\u001b[1;32mD:\\OJT FILES\\Scrapper\\pyNewsSrapperIndo\\rumahhokie\\Rumahhokie.py\u001b[0m in \u001b[0;36mgetAllBerita\u001b[1;34m(self, details, page, date)\u001b[0m\n\u001b[0;32m     41\u001b[0m         \u001b[0mflag\u001b[0m \u001b[1;33m=\u001b[0m \u001b[1;32mTrue\u001b[0m\u001b[1;33m\u001b[0m\u001b[0m\n\u001b[0;32m     42\u001b[0m         \u001b[1;32mfor\u001b[0m \u001b[0mpost\u001b[0m \u001b[1;32min\u001b[0m \u001b[0mindeks\u001b[0m\u001b[1;33m:\u001b[0m\u001b[1;33m\u001b[0m\u001b[0m\n\u001b[1;32m---> 43\u001b[1;33m             \u001b[0mlink\u001b[0m \u001b[1;33m=\u001b[0m \u001b[1;33m[\u001b[0m\u001b[0mpost\u001b[0m\u001b[1;33m.\u001b[0m\u001b[0mfind\u001b[0m\u001b[1;33m(\u001b[0m\u001b[1;34m'h3'\u001b[0m\u001b[1;33m,\u001b[0m \u001b[0mclass_\u001b[0m\u001b[1;33m=\u001b[0m\u001b[1;34m\"entry-title td-module-title\"\u001b[0m\u001b[1;33m)\u001b[0m\u001b[1;33m.\u001b[0m\u001b[0mfind\u001b[0m\u001b[1;33m(\u001b[0m\u001b[1;34m'a'\u001b[0m\u001b[1;33m,\u001b[0m \u001b[0mhref\u001b[0m\u001b[1;33m=\u001b[0m\u001b[1;32mTrue\u001b[0m\u001b[1;33m)\u001b[0m\u001b[1;33m[\u001b[0m\u001b[1;34m'href'\u001b[0m\u001b[1;33m]\u001b[0m\u001b[1;33m,\u001b[0m \u001b[0mpost\u001b[0m\u001b[1;33m.\u001b[0m\u001b[0mfind\u001b[0m\u001b[1;33m(\u001b[0m\u001b[1;34m'a'\u001b[0m\u001b[1;33m,\u001b[0m \u001b[0mclass_\u001b[0m\u001b[1;33m=\u001b[0m\u001b[1;34m\"td-post-category\"\u001b[0m\u001b[1;33m)\u001b[0m\u001b[1;33m.\u001b[0m\u001b[0mget_text\u001b[0m\u001b[1;33m(\u001b[0m\u001b[0mstrip\u001b[0m\u001b[1;33m=\u001b[0m\u001b[1;32mTrue\u001b[0m\u001b[1;33m)\u001b[0m\u001b[1;33m]\u001b[0m\u001b[1;33m\u001b[0m\u001b[0m\n\u001b[0m\u001b[0;32m     44\u001b[0m             \u001b[1;31m#check if there are a post with same url\u001b[0m\u001b[1;33m\u001b[0m\u001b[1;33m\u001b[0m\u001b[0m\n\u001b[0;32m     45\u001b[0m             \u001b[1;31m# con = mysql.connector.connect(user='root', password='', host='127.0.0.1', database='news_db')\u001b[0m\u001b[1;33m\u001b[0m\u001b[1;33m\u001b[0m\u001b[0m\n",
      "\u001b[1;31mAttributeError\u001b[0m: 'NoneType' object has no attribute 'get_text'"
     ]
    }
   ],
   "source": [
    "obj.getAllBerita([], 142)"
   ]
  },
  {
   "cell_type": "code",
   "execution_count": null,
   "metadata": {},
   "outputs": [],
   "source": []
  }
 ],
 "metadata": {
  "kernelspec": {
   "display_name": "Python 3",
   "language": "python",
   "name": "python3"
  },
  "language_info": {
   "codemirror_mode": {
    "name": "ipython",
    "version": 3
   },
   "file_extension": ".py",
   "mimetype": "text/x-python",
   "name": "python",
   "nbconvert_exporter": "python",
   "pygments_lexer": "ipython3",
   "version": "3.6.6"
  }
 },
 "nbformat": 4,
 "nbformat_minor": 2
}
