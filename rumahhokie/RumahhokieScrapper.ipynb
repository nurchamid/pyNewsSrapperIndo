{
 "cells": [
  {
   "cell_type": "code",
   "execution_count": 1,
   "metadata": {},
   "outputs": [],
   "source": [
    "from Rumahhokie import Rumahhokie\n",
    "# import mysql.connector\n",
    "#kelaarr\n",
    "obj = Rumahhokie()"
   ]
  },
  {
   "cell_type": "code",
   "execution_count": 2,
   "metadata": {},
   "outputs": [
    {
     "name": "stdout",
     "output_type": "stream",
     "text": [
      "page  1\n",
      "http://www.rumahhokie.com/beritaproperti/page/1/?s\n",
      "http://www.rumahhokie.com/beritaproperti/dibalik-uniknya-tampilan-natural-cofftea-house-di-komplek-gbk-jakarta/\n",
      "memasukkan berita id  16618\n",
      "Insert berita  Dibalik Uniknya Tampilan Natural Cofftea House di Komplek GBK Jakarta\n",
      "masuk\n"
     ]
    },
    {
     "data": {
      "text/plain": [
       "'berhasil ambil semua berita'"
      ]
     },
     "execution_count": 2,
     "metadata": {},
     "output_type": "execute_result"
    }
   ],
   "source": [
    "obj.getAllBerita([], 1)"
   ]
  },
  {
   "cell_type": "code",
   "execution_count": null,
   "metadata": {},
   "outputs": [],
   "source": []
  }
 ],
 "metadata": {
  "kernelspec": {
   "display_name": "Python 3",
   "language": "python",
   "name": "python3"
  },
  "language_info": {
   "codemirror_mode": {
    "name": "ipython",
    "version": 3
   },
   "file_extension": ".py",
   "mimetype": "text/x-python",
   "name": "python",
   "nbconvert_exporter": "python",
   "pygments_lexer": "ipython3",
   "version": "3.6.6"
  }
 },
 "nbformat": 4,
 "nbformat_minor": 2
}
