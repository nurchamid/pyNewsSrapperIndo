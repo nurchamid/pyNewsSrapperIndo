{
 "cells": [
  {
   "cell_type": "code",
   "execution_count": 1,
   "metadata": {},
   "outputs": [],
   "source": [
    "from Rumahhokie import Rumahhokie\n",
    "# import mysql.connector\n",
    "#kelaarr\n",
    "obj = Rumahhokie()"
   ]
  },
  {
   "cell_type": "code",
   "execution_count": 2,
   "metadata": {},
   "outputs": [
    {
     "name": "stdout",
     "output_type": "stream",
     "text": [
      "page  1\n",
      "http://www.rumahhokie.com/beritaproperti/page/1/?s\n",
      "http://www.rumahhokie.com/beritaproperti/kementerian-pupr-terus-pantau-pembangunan-rumah-di-daerah/\n",
      "memasukkan berita id  16867\n",
      "Insert berita  Kementerian PUPR Terus Pantau Pembangunan Rumah di Daerah\n",
      "masuk\n",
      "http://www.rumahhokie.com/beritaproperti/potret-rumah-mewah-youtuber-indonesia-salah-satunya-bergaya-klasik/\n",
      "memasukkan berita id  16848\n",
      "Insert berita  Potret Rumah Mewah Youtuber Indonesia, Salah Satunya Bergaya Klasik\n",
      "masuk\n",
      "http://www.rumahhokie.com/beritaproperti/tips-investasi-properti-di-luar-negeri-yang-aman-dan-menguntungkan/\n",
      "memasukkan berita id  16858\n",
      "Insert berita  Tips Investasi Properti di Luar Negeri yang Aman dan Menguntungkan\n",
      "masuk\n",
      "http://www.rumahhokie.com/beritaproperti/infografis-tips-memilih-asuransi-rumah/\n",
      "memasukkan berita id  16849\n",
      "Insert berita  Infografis: Tips Memilih Asuransi Rumah\n",
      "masuk\n",
      "http://www.rumahhokie.com/beritaproperti/tips-feng-shui-membangun-hunian-di-lahan-berkontur-dan-berbukit/\n",
      "memasukkan berita id  16833\n",
      "Insert berita  Tips Feng Shui: Membangun Hunian di Lahan Berkontur dan Berbukit\n",
      "masuk\n",
      "http://www.rumahhokie.com/beritaproperti/proyek-solar-panel-garapan-sharp-indonesia-raih-penghargaan/\n",
      "memasukkan berita id  16828\n",
      "Insert berita  Proyek Solar Panel Garapan Sharp Indonesia Raih Penghargaan\n",
      "masuk\n",
      "http://www.rumahhokie.com/beritaproperti/tidak-ada-perubahan-berarti-pasar-retail-jakarta-dinilai-stabil/\n",
      "memasukkan berita id  16814\n",
      "Insert berita  Tidak Ada Perubahan Berarti, Pasar Retail Jakarta Dinilai Stabil\n",
      "masuk\n",
      "http://www.rumahhokie.com/beritaproperti/dilengkapi-3-in-1-tuner-tv-polytron-bisa-tangkap-siaran-dari-luar-negeri/\n",
      "memasukkan berita id  16809\n",
      "Insert berita  Dilengkapi 3-in-1 Tuner, TV Polytron Bisa Tangkap Siaran dari Luar Negeri\n",
      "masuk\n",
      "http://www.rumahhokie.com/beritaproperti/pp-properti-gencarkan-strategi-demi-wujudkan-laba-bersih-rp520-miliar/\n",
      "memasukkan berita id  16805\n",
      "Insert berita  PP Properti Gencarkan Strategi Demi Wujudkan Laba Bersih Rp520 Miliar\n",
      "masuk\n",
      "http://www.rumahhokie.com/beritaproperti/benarkah-asian-games-2018-pengaruhi-pasar-properti-indonesia/\n",
      "memasukkan berita id  16795\n",
      "Insert berita  Benarkah Asian Games 2018 Pengaruhi Pasar Properti Indonesia?\n",
      "masuk\n",
      "page  2\n",
      "http://www.rumahhokie.com/beritaproperti/page/2/?s\n",
      "http://www.rumahhokie.com/beritaproperti/metland-optimis-penuhi-target-penjualan-rp2-triliun-hingga-akhir-tahun/\n",
      "memasukkan berita id  16783\n",
      "Insert berita  Metland Optimistis Penuhi Target Penjualan Rp2 Triliun Hingga Akhir Tahun\n",
      "masuk\n",
      "http://www.rumahhokie.com/beritaproperti/cara-aman-membeli-rumah-tanpa-masalah-bagi-konsumen-pemula/\n",
      "memasukkan berita id  16784\n",
      "Insert berita  Cara Aman Membeli Rumah Tanpa Masalah Bagi Konsumen Pemula\n",
      "masuk\n",
      "http://www.rumahhokie.com/beritaproperti/sinar-mas-land-luncurkan-caelus-cluster-berkonsep-resor-di-bsd-city/\n",
      "memasukkan berita id  16775\n",
      "Insert berita  Sinar Mas Land Luncurkan Caelus, Cluster Hunian Berkonsep Resor di BSD City\n",
      "masuk\n",
      "http://www.rumahhokie.com/beritaproperti/4-keuntungan-memiliki-hunian-di-perumahan-cluster/\n",
      "memasukkan berita id  16771\n",
      "Insert berita  4 Keuntungan Memiliki Hunian di Perumahan Cluster\n",
      "masuk\n",
      "http://www.rumahhokie.com/beritaproperti/jll-volume-investasi-properti-di-asia-pasifik-capai-rekor-usd81-miliar/\n",
      "memasukkan berita id  16762\n",
      "Insert berita  JLL: Volume Investasi Properti di Asia Pasifik Capai Rekor USD81 Miliar\n",
      "masuk\n"
     ]
    },
    {
     "data": {
      "text/plain": [
       "'berhasil ambil semua berita'"
      ]
     },
     "execution_count": 2,
     "metadata": {},
     "output_type": "execute_result"
    }
   ],
   "source": [
    "obj.getAllBerita([], 1)"
   ]
  },
  {
   "cell_type": "code",
   "execution_count": null,
   "metadata": {},
   "outputs": [],
   "source": []
  }
 ],
 "metadata": {
  "kernelspec": {
   "display_name": "Python 3",
   "language": "python",
   "name": "python3"
  },
  "language_info": {
   "codemirror_mode": {
    "name": "ipython",
    "version": 3
   },
   "file_extension": ".py",
   "mimetype": "text/x-python",
   "name": "python",
   "nbconvert_exporter": "python",
   "pygments_lexer": "ipython3",
   "version": "3.6.6"
  }
 },
 "nbformat": 4,
 "nbformat_minor": 2
}
