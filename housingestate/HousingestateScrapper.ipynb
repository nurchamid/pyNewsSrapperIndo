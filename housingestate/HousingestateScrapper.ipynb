{
 "cells": [
  {
   "cell_type": "code",
   "execution_count": 1,
   "metadata": {},
   "outputs": [],
   "source": [
    "from Housingestate import Housingestate\n",
    "from datetime import timedelta, date, datetime\n",
    "from IPython.display import clear_output\n",
    "\n",
    "def daterange(start_date, end_date):\n",
    "    for n in range(int ((end_date - start_date).days)):\n",
    "        yield start_date + timedelta(n)"
   ]
  },
  {
   "cell_type": "code",
   "execution_count": 4,
   "metadata": {},
   "outputs": [],
   "source": [
    "obj = Housingestate()\n",
    "end_date = date(2018, 9, 1)\n",
    "start_date = date(2018, 8, 21)"
   ]
  },
  {
   "cell_type": "code",
   "execution_count": 5,
   "metadata": {},
   "outputs": [
    {
     "name": "stdout",
     "output_type": "stream",
     "text": [
      "2018-08-31\n",
      "http://housingestate.id/wp-admin/admin-ajax.php?action=alm_query_posts&order=DESC&orderby=date&month=8&year=2018&day=31\n",
      "http://housingestate.id/read/2018/08/31/central-depstore-gelar-dekorasi-bunga-segar-terbesar/\n",
      "memasukkan berita id  25849\n",
      "Insert berita  Central Depstore Gelar Dekorasi Bunga Segar Terbesar  \n",
      "masuk\n",
      "http://housingestate.id/read/2018/08/31/monokrom-nan-mewah/\n",
      "memasukkan berita id  25829\n",
      "Insert berita  Monokrom Nan Mewah\n",
      "masuk\n",
      "http://housingestate.id/read/2018/08/31/hidupkan-suasana-dengan-dekorasi-dinding/\n",
      "memasukkan berita id  25834\n",
      "Insert berita  Hidupkan Suasana dengan Dekorasi Dinding\n",
      "masuk\n",
      "http://housingestate.id/read/2018/08/31/memperluas-rumah-ke-atas-atau-ke-samping/\n",
      "memasukkan berita id  25839\n",
      "Insert berita  Memperluas Rumah, ke Atas atau ke Samping?\n",
      "masuk\n"
     ]
    }
   ],
   "source": [
    "for single_date in daterange(start_date, end_date):\n",
    "    clear_output()\n",
    "    print(single_date.strftime(\"%Y-%m-%d\"))\n",
    "    obj.getAllBerita([],single_date.strftime(\"%Y/%m/%d\"))"
   ]
  },
  {
   "cell_type": "code",
   "execution_count": null,
   "metadata": {},
   "outputs": [],
   "source": []
  }
 ],
 "metadata": {
  "kernelspec": {
   "display_name": "Python 3",
   "language": "python",
   "name": "python3"
  },
  "language_info": {
   "codemirror_mode": {
    "name": "ipython",
    "version": 3
   },
   "file_extension": ".py",
   "mimetype": "text/x-python",
   "name": "python",
   "nbconvert_exporter": "python",
   "pygments_lexer": "ipython3",
   "version": "3.6.6"
  }
 },
 "nbformat": 4,
 "nbformat_minor": 2
}
