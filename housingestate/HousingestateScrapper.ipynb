{
 "cells": [
  {
   "cell_type": "code",
   "execution_count": 2,
   "metadata": {},
   "outputs": [],
   "source": [
    "from Housingestate import Housingestate\n",
    "from datetime import timedelta, date, datetime\n",
    "from IPython.display import clear_output\n",
    "\n",
    "def daterange(start_date, end_date):\n",
    "    for n in range(int ((end_date - start_date).days)):\n",
    "        yield start_date + timedelta(n)"
   ]
  },
  {
   "cell_type": "code",
   "execution_count": 3,
   "metadata": {},
   "outputs": [],
   "source": [
    "obj = Housingestate()\n",
    "end_date = date(2018, 8, 21)\n",
    "start_date = date(2018, 8, 18)"
   ]
  },
  {
   "cell_type": "code",
   "execution_count": 4,
   "metadata": {},
   "outputs": [
    {
     "name": "stdout",
     "output_type": "stream",
     "text": [
      "2018-08-20\n",
      "http://housingestate.id/wp-admin/admin-ajax.php?action=alm_query_posts&order=DESC&orderby=date&month=8&year=2018&day=20\n",
      "http://housingestate.id/read/2018/08/20/mau-perbaikan-rumah-tinggal-klik-tukang-online/\n",
      "memasukkan berita id  25796\n",
      "Insert berita  Mau Perbaikan Rumah, Tinggal Klik Tukang Online\n",
      "masuk\n",
      "http://housingestate.id/read/2018/08/20/di-pondok-indah-rumah-rp5-miliar-bisa-dibeli-rp35-miliar/\n",
      "memasukkan berita id  25794\n",
      "Insert berita  Di Pondok Indah Rumah Rp5 Miliar Bisa Dibeli Rp3,5 Miliar\n",
      "masuk\n",
      "http://housingestate.id/read/2018/08/20/targetkan-pertumbuhan-kpr-double-digit-bank-bukopin-gandeng-smf/\n",
      "memasukkan berita id  25792\n",
      "Insert berita  Targetkan Pertumbuhan KPR Double Digit, Bank Bukopin Gandeng SMF\n",
      "masuk\n",
      "http://housingestate.id/read/2018/08/20/yu-sing-rancang-rumah-vida-bekasi-agar-menyatu-dengan-alam/\n",
      "memasukkan berita id  25790\n",
      "Insert berita  Yu Sing Rancang Rumah Vida Bekasi Agar Menyatu Dengan Alam\n",
      "masuk\n"
     ]
    }
   ],
   "source": [
    "for single_date in daterange(start_date, end_date):\n",
    "    clear_output()\n",
    "    print(single_date.strftime(\"%Y-%m-%d\"))\n",
    "    obj.getAllBerita([],single_date.strftime(\"%Y/%m/%d\"))"
   ]
  },
  {
   "cell_type": "code",
   "execution_count": null,
   "metadata": {},
   "outputs": [],
   "source": []
  }
 ],
 "metadata": {
  "kernelspec": {
   "display_name": "Python 3",
   "language": "python",
   "name": "python3"
  },
  "language_info": {
   "codemirror_mode": {
    "name": "ipython",
    "version": 3
   },
   "file_extension": ".py",
   "mimetype": "text/x-python",
   "name": "python",
   "nbconvert_exporter": "python",
   "pygments_lexer": "ipython3",
   "version": "3.6.6"
  }
 },
 "nbformat": 4,
 "nbformat_minor": 2
}
