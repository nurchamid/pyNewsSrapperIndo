{
 "cells": [
  {
   "cell_type": "code",
   "execution_count": 1,
   "metadata": {},
   "outputs": [],
   "source": [
    "import requests\n",
    "from bs4 import BeautifulSoup\n",
    "from datetime import datetime, timedelta\n",
    "import locale\n",
    "locale.setlocale(locale.LC_ALL, 'ID')\n",
    "import re\n",
    "import pandas as pd\n",
    "from selenium import webdriver\n",
    "from selenium.webdriver.chrome.options import Options\n",
    "import html\n",
    "import json\n",
    "import time\n",
    "from requests.exceptions import ConnectionError, TooManyRedirects\n",
    "import unicodedata\n",
    "import mysql.connector"
   ]
  },
  {
   "cell_type": "code",
   "execution_count": 2,
   "metadata": {},
   "outputs": [],
   "source": [
    "con = mysql.connector.connect(user='root', password='', host='127.0.0.1', database='news_db')"
   ]
  },
  {
   "cell_type": "markdown",
   "metadata": {},
   "source": [
    "### Handling Link Sisip Video"
   ]
  },
  {
   "cell_type": "code",
   "execution_count": 8,
   "metadata": {},
   "outputs": [],
   "source": [
    "# raw = pd.read_sql(\"SELECT id, url, source FROM article WHERE source='liputan6' and content like '%Saksikan video pilihan di bawah%'\", con)\n",
    "# for index, row in raw.iterrows():\n",
    "#     print(row['url'])\n",
    "#     response = requests.get(row['url'])\n",
    "#     html = response.text\n",
    "#     soup = BeautifulSoup(html, \"html5lib\")\n",
    "    \n",
    "#     article = soup.find(\"div\", class_=\"article-content-body__item-content\")             \n",
    "\n",
    "#     for link in article.findAll('div', class_=\"baca-juga\"):\n",
    "#         link.decompose()\n",
    "    \n",
    "#     for vid in article.findAll('p'):\n",
    "#         if \"saksikan video di bawah\" in vid.get_text(strip=True).lower():\n",
    "#             vid.decompose()\n",
    "\n",
    "#     for vid2 in article.findAll('p'):\n",
    "#         if \"saksikan video pilihan di bawah\" in vid2.get_text(strip=True).lower():\n",
    "#             vid2.decompose()\n",
    "\n",
    "#     for vid3 in article.findAll('p'):\n",
    "#         if \"saksikan cuplikan pertandingan dari liga inggris\" in vid3.get_text(strip=True).lower():\n",
    "#             vid3.decompose()\n",
    "        \n",
    "#     detail = BeautifulSoup(article.decode_contents().replace('<br/>', ' '), \"html5lib\")\n",
    "#     content = re.sub(r'\\n|\\t|\\b|\\r','',unicodedata.normalize(\"NFKD\",detail.get_text(strip=True)))\n",
    "#     content = content.replace(\"‘\",\"\").replace(\"‘\",\"\").replace(\"'\",\"\")\n",
    "                \n",
    "#     cursor = con.cursor()\n",
    "#     sql = \"UPDATE article SET content = '\"+content+\"' WHERE id = \"+str(row['id'])\n",
    "#     cursor.execute(sql)\n",
    "#     con.commit()\n",
    "#     cursor.close()"
   ]
  },
  {
   "cell_type": "code",
   "execution_count": null,
   "metadata": {},
   "outputs": [],
   "source": []
  }
 ],
 "metadata": {
  "kernelspec": {
   "display_name": "Python 3",
   "language": "python",
   "name": "python3"
  },
  "language_info": {
   "codemirror_mode": {
    "name": "ipython",
    "version": 3
   },
   "file_extension": ".py",
   "mimetype": "text/x-python",
   "name": "python",
   "nbconvert_exporter": "python",
   "pygments_lexer": "ipython3",
   "version": "3.6.4"
  }
 },
 "nbformat": 4,
 "nbformat_minor": 2
}
