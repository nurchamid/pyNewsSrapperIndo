{
 "cells": [
  {
   "cell_type": "code",
   "execution_count": 1,
   "metadata": {},
   "outputs": [],
   "source": [
    "from Liputan6 import Liputan6 #class news Scrapper\n",
    "from datetime import timedelta, date, datetime\n",
    "from IPython.display import clear_output"
   ]
  },
  {
   "cell_type": "code",
   "execution_count": 2,
   "metadata": {},
   "outputs": [],
   "source": [
    "def daterange(start_date, end_date):\n",
    "    for n in range(int ((end_date - start_date).days)):\n",
    "        yield start_date + timedelta(n)"
   ]
  },
  {
   "cell_type": "code",
   "execution_count": 3,
   "metadata": {},
   "outputs": [],
   "source": [
    "# health\n",
    "obj = Liputan6()\n",
    "end_date = date(2018, 8, 8)\n",
    "start_date = date(2018, 1, 10)\n",
    "init_page = 4\n",
    "list_cat = [['news', 'news'], ['otomotif', 'otomotif'], ['properti', 'properti'],['bisnis','bisnis'],['showbiz','showbiz'],\n",
    "           ['bola','bola'],['tekno','tekno'],['fashion-beauty','fashion-beauty'],['lifestye','lifestye']]\n",
    "init_cat = list_cat[3:]"
   ]
  },
  {
   "cell_type": "code",
   "execution_count": null,
   "metadata": {
    "scrolled": false
   },
   "outputs": [
    {
     "name": "stdout",
     "output_type": "stream",
     "text": [
      "2018-01-10\n",
      "bola\n",
      "page  1\n",
      "https://www.liputan6.com/bola/indeks/2018/01/10?page=1\n",
      "Insert berita  Persipura Belum Putuskan Ikuti Piala Presiden\n",
      "masuk\n",
      "Insert berita  Saksikan Live Streaming Laga NBA Timberwolves Vs Thunder\n",
      "masuk\n",
      "Insert berita  David Laly Ikuti Evan Dimas dan Ilham Udin Bermain di Malaysia\n",
      "masuk\n",
      "Insert berita  Jelang Piala Presiden 2018, Madura United Launching Tim\n",
      "masuk\n",
      "Insert berita  Peserta Proliga 2018 Boleh Daftarkan 14 Pemain\n",
      "masuk\n",
      "Insert berita  Debut Terens Puhiri di Thailand Berujung Kekalahan\n",
      "masuk\n",
      "Insert berita  Lini Depan PSMS Medan Masih Bermasalah\n",
      "masuk\n",
      "Insert berita  Hengkang dari SFC, Yanto Basna Gabung Klub Thailand\n",
      "masuk\n",
      "Insert berita  Tidak Ada Pembatasan Pembelian Tiket Indonesia Masters\n",
      "masuk\n",
      "Insert berita  Jadwal NBA, Kamis 11 Januari 2018\n",
      "masuk\n",
      "Insert berita  De Bruyne Sambut Baik Keinginan Manchester City Boyong Sanchez\n",
      "masuk\n",
      "Insert berita  Daud Yordan Mulai Berlatih di Madrid\n",
      "masuk\n",
      "Insert berita  Dapatkan Coutinho, Barcelona Akan Lepas Gelandang\n",
      "masuk\n",
      "Insert berita  Presiden Boca Juniors: Arsenal Belum Tawar Cristian Pavon\n",
      "masuk\n",
      "Insert berita  Bintang Atalanta Masuk Daftar Pengganti Coutinho di Liverpool\n",
      "masuk\n"
     ]
    }
   ],
   "source": [
    "for single_date in daterange(start_date, end_date):\n",
    "    for cat in init_cat:\n",
    "        clear_output()\n",
    "        print(single_date.strftime(\"%Y-%m-%d\"))\n",
    "        print(cat[0])\n",
    "        obj.getAllBerita([], init_page, cat[0], cat[1], single_date.strftime(\"%Y/%m/%d\"))\n",
    "        init_page = 1\n",
    "    init_cat = list_cat"
   ]
  },
  {
   "cell_type": "code",
   "execution_count": null,
   "metadata": {},
   "outputs": [],
   "source": []
  }
 ],
 "metadata": {
  "kernelspec": {
   "display_name": "Python 3",
   "language": "python",
   "name": "python3"
  },
  "language_info": {
   "codemirror_mode": {
    "name": "ipython",
    "version": 3
   },
   "file_extension": ".py",
   "mimetype": "text/x-python",
   "name": "python",
   "nbconvert_exporter": "python",
   "pygments_lexer": "ipython3",
   "version": "3.6.4"
  }
 },
 "nbformat": 4,
 "nbformat_minor": 2
}
