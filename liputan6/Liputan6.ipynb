{
 "cells": [
  {
   "cell_type": "code",
   "execution_count": 1,
   "metadata": {},
   "outputs": [],
   "source": [
    "from Liputan6 import Liputan6 #class news Scrapper\n",
    "from datetime import timedelta, date, datetime\n",
    "from IPython.display import clear_output"
   ]
  },
  {
   "cell_type": "code",
   "execution_count": 2,
   "metadata": {},
   "outputs": [],
   "source": [
    "def daterange(start_date, end_date):\n",
    "    for n in range(int ((end_date - start_date).days)):\n",
    "        yield start_date + timedelta(n)"
   ]
  },
  {
   "cell_type": "code",
   "execution_count": 13,
   "metadata": {},
   "outputs": [],
   "source": [
    "# health\n",
    "obj = Liputan6()\n",
    "end_date = date(2018, 8, 8)\n",
    "start_date = date(2018, 1, 3)\n",
    "init_page = 1\n",
    "list_cat = [['news', 'news'], ['otomotif', 'otomotif'], ['properti', 'properti'],['bisnis','bisnis'],['showbiz','showbiz'],\n",
    "           ['bola','bola'],['tekno','tekno'],['fashion-beauty','fashion-beauty'],['lifestye','lifestye']]\n",
    "init_cat = list_cat[5:]"
   ]
  },
  {
   "cell_type": "code",
   "execution_count": null,
   "metadata": {
    "scrolled": false
   },
   "outputs": [
    {
     "name": "stdout",
     "output_type": "stream",
     "text": [
      "2018-01-05\n",
      "showbiz\n",
      "page  1\n",
      "https://www.liputan6.com/showbiz/indeks/2018/01/05?page=1\n",
      "Insert berita  Sangat Mengerikan, 6 Film Hollywood Ini Bikin Penonton Trauma\n",
      "masuk\n",
      "Insert berita  Yon Koeswoyo Pernah Minta Kaset O.M Pengantar Minum Racun\n",
      "masuk\n",
      "Insert berita  Jawaban Dimas Anggara soal Foto Mesra Bareng Nadine Chandrawinata\n",
      "masuk\n",
      "Insert berita  Video Kedekatan Ayu Ting Ting dan Boy William jadi Viral\n",
      "masuk\n",
      "Insert berita  Shawol Kesal, Jonghyun SHINee Disebut Meninggal Akibat Narkoba\n",
      "masuk\n",
      "Insert berita  Cerita Sandra Dewi yang Gagal Melahirkan Cantik\n",
      "masuk\n",
      "Insert berita  Sebelum Kembali ke London, El Rumi Nikmati Petai Bareng Pacar\n",
      "masuk\n",
      "Insert berita  Tatapan Mesra Chicco Jerikho ke Putri Marino Bikin Fans Menangis\n",
      "masuk\n",
      "Insert berita  Rahmat Cinta: Tineka Masih Hidup, Dewa Bakal Dibunuh Adit\n",
      "masuk\n",
      "Insert berita  Habis Melahirkan, Sandra Dewi Langsung Kejar Tayang\n",
      "masuk\n",
      "Insert berita  Istri Faisal Harris Ingin Jenguk Jennifer Dunn di Penjara\n",
      "masuk\n",
      "Insert berita  Pernikahan Pangeran Harry dan Meghan Markle Dobrak Tradisi?\n",
      "masuk\n",
      "Insert berita  Sheila Marcia Mesra dengan Pria Bertato, Kekasih Baru?\n",
      "masuk\n",
      "Insert berita  Tribute to Yon Koeswoyo Langsung Dibuat di Yogyakarta\n",
      "masuk\n",
      "Insert berita  Ini Permintaan Terakhir Yon Koeswoyo Sebelum Meninggal Dunia\n",
      "masuk\n",
      "Insert berita  Salmafina Mulai Menata Hati dari Taqy Malik\n",
      "masuk\n",
      "Insert berita  Anak Langit: Milka Dalam Bahaya, Emon-Kei Bakal Putus Lagi?\n",
      "masuk\n",
      "Insert berita  Yon Koeswoyo Wafat, Anies Baswedan Sampai Jokowi Berduka\n",
      "masuk\n",
      "page  2\n",
      "https://www.liputan6.com/showbiz/indeks/2018/01/05?page=2\n",
      "Insert berita  ‎Saat Andika Kangen Band Sindir Istrinya\n",
      "masuk\n",
      "Insert berita  Kylie Jenner Melahirkan, Rumah Sakit Repot Hadapi Permintaannya?\n",
      "masuk\n"
     ]
    }
   ],
   "source": [
    "for single_date in daterange(start_date, end_date):\n",
    "    for cat in init_cat:\n",
    "        clear_output()\n",
    "        print(single_date.strftime(\"%Y-%m-%d\"))\n",
    "        print(cat[0])\n",
    "        obj.getAllBerita([], init_page, cat[0], cat[1], single_date.strftime(\"%Y/%m/%d\"))\n",
    "        init_page = 1\n",
    "    init_cat = list_cat"
   ]
  }
 ],
 "metadata": {
  "kernelspec": {
   "display_name": "Python 3",
   "language": "python",
   "name": "python3"
  },
  "language_info": {
   "codemirror_mode": {
    "name": "ipython",
    "version": 3
   },
   "file_extension": ".py",
   "mimetype": "text/x-python",
   "name": "python",
   "nbconvert_exporter": "python",
   "pygments_lexer": "ipython3",
   "version": "3.6.4"
  }
 },
 "nbformat": 4,
 "nbformat_minor": 2
}
