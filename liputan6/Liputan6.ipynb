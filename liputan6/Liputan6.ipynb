{
 "cells": [
  {
   "cell_type": "code",
   "execution_count": 1,
   "metadata": {},
   "outputs": [],
   "source": [
    "from Liputan6 import Liputan6 #class news Scrapper\n",
    "from datetime import timedelta, date, datetime\n",
    "from IPython.display import clear_output"
   ]
  },
  {
   "cell_type": "code",
   "execution_count": 2,
   "metadata": {},
   "outputs": [],
   "source": [
    "def daterange(start_date, end_date):\n",
    "    for n in range(int ((end_date - start_date).days)):\n",
    "        yield start_date + timedelta(n)"
   ]
  },
  {
   "cell_type": "code",
   "execution_count": 10,
   "metadata": {},
   "outputs": [],
   "source": [
    "# health\n",
    "obj = Liputan6()\n",
    "end_date = date(2018, 8, 8)\n",
    "start_date = date(2018, 1, 24)\n",
    "init_page = 1\n",
    "list_cat = [['news', 'news'], ['otomotif', 'otomotif'], ['properti', 'properti'],['bisnis','bisnis'],['showbiz','showbiz'],\n",
    "           ['bola','bola'],['tekno','tekno'],['fashion-beauty','fashion-beauty'],['lifestye','lifestye']]\n",
    "init_cat = list_cat[1:]"
   ]
  },
  {
   "cell_type": "code",
   "execution_count": null,
   "metadata": {
    "scrolled": false
   },
   "outputs": [
    {
     "name": "stdout",
     "output_type": "stream",
     "text": [
      "2018-01-24\n",
      "bisnis\n",
      "page  1\n",
      "https://www.liputan6.com/bisnis/indeks/2018/01/24?page=1\n",
      "Insert berita  Pengusaha Tolak Sri Mulyani Pangkas Batasan Omzet Kena Pajak UKM\n",
      "masuk\n",
      "Insert berita  Menperin: Impor Garam Industri Sudah Sejak Bertahun-tahun Lalu\n",
      "masuk\n",
      "Insert berita  Kapitalisasi Tembus Rp 180 T, Agensi Iklan London Incar Pasar RI\n",
      "masuk\n",
      "Insert berita  Kemenperin Kaji Temuan Alat Pengolahan Limbah Plastik Jadi BBM\n",
      "masuk\n",
      "Insert berita  Perpres Kendaraan Listrik Tunggu Restu Presiden\n",
      "masuk\n",
      "Insert berita  PLN Tetap Awasi Pelayanan Listrik di Banten Usai Gempa\n",
      "masuk\n",
      "Insert berita  Keran Impor Garam Industri Dibuka 3,7 Juta Ton, untuk Apa Saja?\n",
      "masuk\n",
      "Insert berita  ESDM Bakal Masukkan Harga Batu Bara di Formula Tarif Listrik\n",
      "masuk\n",
      "Insert berita  Harga Minyak Naik, Tarif Listrik Nonsubsidi Tak Berubah\n",
      "masuk\n",
      "Insert berita  Mau Gulingkan Donald Trump, Miliarder Ini Lakukan Hal Tak Terduga\n",
      "masuk\n",
      "Insert berita  Pemerintah Diminta Tegaskan Peran dalam RUU Pertembakauan\n",
      "masuk\n",
      "Insert berita  DPR Bakal Panggil Kementerian PUPR soal Insiden Proyek LRT\n",
      "masuk\n",
      "Insert berita  Bakal Terbentuk Holding Migas, Intip Laju Saham PGN\n",
      "masuk\n",
      "Insert berita  Berkat Supermarket Tanpa Kasir, Harta Jeff Bezos Melonjak Rp 35 T\n",
      "masuk\n",
      "Insert berita  Awasi Impor Mainan, Petugas Bea Cukai Janji Tak akan Kaku\n",
      "masuk\n",
      "Insert berita  ESDM Rilis Aturan Terbaru SNI buat Sektor Ketenagalistrikan\n",
      "masuk\n",
      "Insert berita  124 Kendaraan Melebihi Muatan Lewati Ruas Tol Jakarta-Cikampek\n",
      "masuk\n",
      "Insert berita  Pengusaha: Pemerintah Rancu antara Garam Industri dan Konsumsi\n",
      "masuk\n"
     ]
    }
   ],
   "source": [
    "for single_date in daterange(start_date, end_date):\n",
    "    for cat in init_cat:\n",
    "        clear_output()\n",
    "        print(single_date.strftime(\"%Y-%m-%d\"))\n",
    "        print(cat[0])\n",
    "        obj.getAllBerita([], init_page, cat[0], cat[1], single_date.strftime(\"%Y/%m/%d\"))\n",
    "        init_page = 1\n",
    "    init_cat = list_cat"
   ]
  },
  {
   "cell_type": "code",
   "execution_count": null,
   "metadata": {},
   "outputs": [],
   "source": []
  }
 ],
 "metadata": {
  "kernelspec": {
   "display_name": "Python 3",
   "language": "python",
   "name": "python3"
  },
  "language_info": {
   "codemirror_mode": {
    "name": "ipython",
    "version": 3
   },
   "file_extension": ".py",
   "mimetype": "text/x-python",
   "name": "python",
   "nbconvert_exporter": "python",
   "pygments_lexer": "ipython3",
   "version": "3.6.4"
  }
 },
 "nbformat": 4,
 "nbformat_minor": 2
}
