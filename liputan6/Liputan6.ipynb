{
 "cells": [
  {
   "cell_type": "code",
   "execution_count": 1,
   "metadata": {},
   "outputs": [],
   "source": [
    "from Liputan6 import Liputan6 #class news Scrapper\n",
    "from datetime import timedelta, date, datetime\n",
    "from IPython.display import clear_output"
   ]
  },
  {
   "cell_type": "code",
   "execution_count": 2,
   "metadata": {},
   "outputs": [],
   "source": [
    "def daterange(start_date, end_date):\n",
    "    for n in range(int ((end_date - start_date).days)):\n",
    "        yield start_date + timedelta(n)"
   ]
  },
  {
   "cell_type": "code",
   "execution_count": 3,
   "metadata": {},
   "outputs": [],
   "source": [
    "# health\n",
    "obj = Liputan6()\n",
    "end_date = date(2018, 8, 8)\n",
    "start_date = date(2018, 1, 15)\n",
    "init_page = 3\n",
    "list_cat = [['news', 'news'], ['otomotif', 'otomotif'], ['properti', 'properti'],['bisnis','bisnis'],['showbiz','showbiz'],\n",
    "           ['bola','bola'],['tekno','tekno'],['fashion-beauty','fashion-beauty'],['lifestye','lifestye']]\n",
    "init_cat = list_cat[2:]"
   ]
  },
  {
   "cell_type": "code",
   "execution_count": null,
   "metadata": {
    "scrolled": false
   },
   "outputs": [
    {
     "name": "stdout",
     "output_type": "stream",
     "text": [
      "2018-01-15\n",
      "news\n",
      "page  1\n",
      "https://www.liputan6.com/news/indeks/2018/01/15?page=1\n",
      "Insert berita  Anies-Sandi Takziah ke Rumah Duka Habib Abdurrahman Kwitang\n",
      "salah2\n",
      "Insert berita  Polisi Cek Unsur Pidana Ambruknya Balkon BEI\n",
      "salah2\n",
      "Insert berita  Habib Abdurrahman Kwitang Meninggal\n",
      "salah2\n",
      "Insert berita  Ini Peran Tersangka Pesta Seks Gay di Cipanas\n",
      "salah2\n",
      "Insert berita  Pengelola BEI: Tower I Beroperasi Normal Besok\n",
      "salah2\n",
      "Insert berita  Kios Cenderamata di TMII Terbakar\n",
      "salah2\n",
      "Insert berita  Cerita Jokowi Dapat Pesan Jaga Persatuan RI dari Raja Salman\n",
      "salah2\n",
      "Insert berita  Ini Sosok Pejuang bagi Ibu Hamil di Desa Pao Pao Sulsel\n",
      "salah2\n",
      "Insert berita  Kasus Fredrich, Ajudan Setnov Mangkir Panggilan KPK\n",
      "salah2\n",
      "Insert berita  Polisi Pastikan Tak Ada Petugas Tewas Akibat Ambruknya Balkon BEI\n",
      "salah2\n",
      "Insert berita  Mahasiswa Loncat Saat Selfie Bukan Penyebab Balkon BEI Ambruk\n",
      "salah2\n",
      "Insert berita  Polisi: Balkon BEI Ambruk Bukan karena Sabotase Perdagangan Saham\n",
      "salah2\n",
      "Insert berita  Bukan karena Bom, Polisi Masih Selidiki Sebab Ambruknya Balkon BEI\n",
      "salah2\n",
      "Insert berita  Yos Sudarso dan Ambisi Tak Tercapai di Irian Barat\n",
      "salah2\n",
      "Insert berita  KPK Dalami Penjualan Rumah Iis Sugianto Terkait Kasus Suap Garuda\n",
      "salah2\n",
      "Insert berita  Ular Piton 7 Meter Serang Petani di Kebun Kelapa Sawit Mamuju\n",
      "salah2\n",
      "Insert berita  Bambang Soesatyo Ingin Jadikan DPR Sahabat Pemerintahan Jokowi\n",
      "salah2\n",
      "Insert berita  Begini Situasi Saat Korban Ambruknya Balkon BEI Dievakuasi\n",
      "salah2\n",
      "Insert berita  Gaya Anies Baswedan Tinjau Kondisi Balkon BEI yang Ambruk\n",
      "salah2\n",
      "page  2\n",
      "https://www.liputan6.com/news/indeks/2018/01/15?page=2\n",
      "Insert berita  Tujuh Korban Balkon BEI Ambruk Dioperasi di RS Siloam\n",
      "salah2\n",
      "Insert berita  Balkon BEI Ambruk Kejutkan Pihak Kampus Universitas Bina Darma\n",
      "salah2\n",
      "Insert berita  Korban Balkon BEI Ambruk Terparah Alami Patah Tulang Kemaluan\n",
      "salah2\n",
      "Insert berita  Pakar Nilai HGB Jadi Pegangan Anies Kontrol Reklamasi\n",
      "salah2\n",
      "Insert berita  Kronologi Ambruknya Balkon Gedung BEI Versi Polisi\n",
      "salah2\n",
      "Insert berita  Anies Baswedan: Audit Gedung BEI Dilakukan Malam Ini\n",
      "salah2\n",
      "Insert berita  JK: Rumah Cimanggis Milik Penjajah Korup, Masa Mau Jadi Situs?\n",
      "salah2\n",
      "Insert berita  5 Korban Ambruknya Balkon BEI Dibolehkan Pulang dari RS Siloam\n",
      "salah2\n",
      "Insert berita  JK Tegaskan Rumah Cimanggis Tak Terkena Proyek Pembangunan UIII\n",
      "salah2\n",
      "Insert berita  JK Sebut Sudah Dengar Konflik Internal Partai Hanura\n",
      "salah2\n",
      "Insert berita  Anies Datangi RS Siloam Cek Kondisi Korban Balkon BEI Ambruk\n",
      "salah2\n",
      "Insert berita  Anies Baswedan Pastikan Korban Balkon BEI Ambruk Dapat Perawatan\n",
      "salah2\n",
      "Insert berita  Anies Minta BPN Tak Buru-Buru Tolak Batalkan HGB Pulau Reklamasi\n",
      "salah2\n",
      "page  3\n",
      "https://www.liputan6.com/news/indeks/2018/01/15?page=3\n",
      "Insert berita  Perampok Spesialis Ruko Beraksi di Tangerang hingga ke Cikeas\n",
      "salah2\n",
      "Insert berita  Kala Peserta Kuis Tolak Hadiah Sepeda dari Jokowi\n",
      "salah2\n",
      "Insert berita  Saksi Robohnya Balkon BEI: Saya Kirain Satu Gedung Roboh\n",
      "salah2\n",
      "Insert berita  Anies: Tim DKI Kesulitan Cek Kelayakan Gedung BEI\n",
      "salah2\n",
      "Insert berita  Salah Ucap, Sumpah Ketua DPR Bambang Soesatyo Diulang 4 Kali\n",
      "salah2\n"
     ]
    }
   ],
   "source": [
    "for single_date in daterange(start_date, end_date):\n",
    "    for cat in init_cat:\n",
    "        clear_output()\n",
    "        print(single_date.strftime(\"%Y-%m-%d\"))\n",
    "        print(cat[0])\n",
    "        obj.getAllBerita([], init_page, cat[0], cat[1], single_date.strftime(\"%Y/%m/%d\"))\n",
    "        init_page = 1\n",
    "    init_cat = list_cat"
   ]
  },
  {
   "cell_type": "code",
   "execution_count": null,
   "metadata": {},
   "outputs": [],
   "source": []
  }
 ],
 "metadata": {
  "kernelspec": {
   "display_name": "Python 3",
   "language": "python",
   "name": "python3"
  },
  "language_info": {
   "codemirror_mode": {
    "name": "ipython",
    "version": 3
   },
   "file_extension": ".py",
   "mimetype": "text/x-python",
   "name": "python",
   "nbconvert_exporter": "python",
   "pygments_lexer": "ipython3",
   "version": "3.6.4"
  }
 },
 "nbformat": 4,
 "nbformat_minor": 2
}
