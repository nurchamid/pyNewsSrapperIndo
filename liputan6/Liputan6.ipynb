{
 "cells": [
  {
   "cell_type": "code",
   "execution_count": 1,
   "metadata": {},
   "outputs": [],
   "source": [
    "from Liputan6 import Liputan6 #class news Scrapper\n",
    "from datetime import timedelta, date, datetime\n",
    "from IPython.display import clear_output"
   ]
  },
  {
   "cell_type": "code",
   "execution_count": 2,
   "metadata": {},
   "outputs": [],
   "source": [
    "def daterange(start_date, end_date):\n",
    "    for n in range(int ((end_date - start_date).days)):\n",
    "        yield start_date + timedelta(n)"
   ]
  },
  {
   "cell_type": "code",
   "execution_count": 3,
   "metadata": {},
   "outputs": [],
   "source": [
    "# health\n",
    "obj = Liputan6()\n",
    "end_date = date(2018, 8, 8)\n",
    "start_date = date(2018, 1, 26)\n",
    "init_page = 2\n",
    "list_cat = [['news', 'news'], ['otomotif', 'otomotif'], ['properti', 'properti'],['bisnis','bisnis'],['showbiz','showbiz'],\n",
    "           ['bola','bola'],['tekno','tekno'],['fashion-beauty','fashion-beauty'],['lifestye','lifestye']]\n",
    "init_cat = list_cat[3:]"
   ]
  },
  {
   "cell_type": "code",
   "execution_count": null,
   "metadata": {
    "scrolled": false
   },
   "outputs": [
    {
     "name": "stdout",
     "output_type": "stream",
     "text": [
      "2018-01-29\n",
      "news\n",
      "page  1\n",
      "https://www.liputan6.com/news/indeks/2018/01/29?page=1\n",
      "Insert berita  Bendahara Datangi KPU, PAN Lolos Verifikasi Faktual\n",
      "masuk\n",
      "Insert berita  Polda Metro Tembak Mati Pengedar Narkoba Jaringan Thailand\n",
      "masuk\n",
      "Insert berita  Survei: Muslim Indonesia Dukung Pancasila untuk Kehidupan Bangsa\n",
      "masuk\n",
      "Insert berita  Penyidik: Ahok dan Anies Berpotensi Diperiksa Terkait Reklamasi\n",
      "masuk\n",
      "Insert berita  Demo Angkot Bikin Transjakarta Setop Bus Tanah Abang Explorer\n",
      "masuk\n",
      "Insert berita  Bareskrim Polri Bongkar Sindikat Pembuat Uang Palsu\n",
      "masuk\n",
      "Insert berita  Harapan Menko Puan untuk Para Perempuan Indonesia\n",
      "masuk\n",
      "Insert berita  Top 3 News: Penganiaya Pimpinan Ponpes Diduga Gangguan Jiwa\n",
      "masuk\n",
      "Insert berita  Bekasi Diprediksi Bebas Macet pada 2023\n",
      "masuk\n",
      "Insert berita  Detik-Detik Plafon Kantor Gubernur NTT Ambruk Diterjang Angin\n",
      "masuk\n",
      "Insert berita  Ini Perempuan yang Membuat DPP PKPI Belum Lolos Verifikasi KPU\n",
      "masuk\n",
      "Insert berita  Terobos Demonstrasi Sopir Taksi Online, Mobil Ini Picu Kericuhan\n",
      "masuk\n",
      "Insert berita  Kemendagri: 2 Nama Calon Penjabat Gubernur Baru Bersifat Usulan\n",
      "masuk\n",
      "Insert berita  Soal Usulan 2 Pati Polri Jadi Pj Gubernur, Mendagri Siap Disanksi\n",
      "masuk\n",
      "Insert berita  Sandiaga Uno Kaget Pulau Tidung Krisis Ikan\n",
      "masuk\n",
      "Insert berita  Anarkistis, Ratusan Pelajar di Bogor Mengadang Truk Pasir\n",
      "masuk\n",
      "Insert berita  Blangkon Mural Kare dan Bunga di Kampong Glam Singapura\n",
      "masuk\n",
      "Insert berita  Terganjal Perempuan, DPP PKPI Belum Lolos Verifikasi Faktual KPU\n",
      "masuk\n",
      "page  2\n",
      "https://www.liputan6.com/news/indeks/2018/01/29?page=2\n",
      "Insert berita  Bisikan Gaib Irma Diduga Jadi Penyebab Kebakaran Tamansari\n",
      "masuk\n",
      "Insert berita  Mendagri Ingin Plt Gubernur Papua Juga dari Jenderal TNI/Polri\n",
      "masuk\n",
      "Insert berita  Tak Sampai 30 Menit, DPP PDIP Dinyatakan Lolos Verifikasi Faktual\n",
      "masuk\n",
      "Insert berita  Polisi Panggil Ulang Sofyan Djalil sebagai Saksi Kasus Reklamasi\n",
      "masuk\n",
      "Insert berita  Pengemudi Ojek Online dan Pangkalan Nyaris Bentrok di Bogor\n",
      "masuk\n",
      "Insert berita  Detik-Detik Polisi Bentrok dengan Ormas di Rawamangun\n",
      "masuk\n",
      "Insert berita  Ke Afghanistan Pascateror, Jokowi Pakai Kendaraan Lapis Baja\n",
      "masuk\n",
      "Insert berita  Mendagri: Usulan 2 Jenderal Jadi Pj Gubernur Tak Terkait PDIP\n",
      "masuk\n",
      "Insert berita  Baru Diserang Teror, Ini Alasan Jokowi Tetap ke Afghanistan\n",
      "masuk\n",
      "Insert berita  Bandara Kulon Progo Diklaim Bakal Kurangi Pengangguran Hingga 40%\n",
      "masuk\n",
      "Insert berita  Menikmati Masa Pensiun ala Iman Suligi dan Gigih Rachwartini\n",
      "masuk\n",
      "Insert berita  Bawaslu: Polisi Penjabat Gubernur, Komando Beralih ke Mendagri\n",
      "masuk\n",
      "Insert berita  Kasus Pengeroyokan Disetop, Pengacara LBH Praperadilankan Polisi\n",
      "masuk\n",
      "Insert berita  Istana Pastikan Keamanan Jokowi Terjamin Selama di Afghanistan\n",
      "masuk\n",
      "Insert berita  Ke Pulau Bidadari, Sandiaga Uno Bicara Jodoh dan Galau\n",
      "masuk\n",
      "Insert berita  Polisi Pakai Cara Khusus Ungkap Penganiayaan Bocah Gol Bunuh Diri\n"
     ]
    }
   ],
   "source": [
    "for single_date in daterange(start_date, end_date):\n",
    "    for cat in init_cat:\n",
    "        clear_output()\n",
    "        print(single_date.strftime(\"%Y-%m-%d\"))\n",
    "        print(cat[0])\n",
    "        obj.getAllBerita([], init_page, cat[0], cat[1], single_date.strftime(\"%Y/%m/%d\"))\n",
    "        init_page = 1\n",
    "    init_cat = list_cat"
   ]
  },
  {
   "cell_type": "code",
   "execution_count": null,
   "metadata": {},
   "outputs": [],
   "source": []
  }
 ],
 "metadata": {
  "kernelspec": {
   "display_name": "Python 3",
   "language": "python",
   "name": "python3"
  },
  "language_info": {
   "codemirror_mode": {
    "name": "ipython",
    "version": 3
   },
   "file_extension": ".py",
   "mimetype": "text/x-python",
   "name": "python",
   "nbconvert_exporter": "python",
   "pygments_lexer": "ipython3",
   "version": "3.6.4"
  }
 },
 "nbformat": 4,
 "nbformat_minor": 2
}
