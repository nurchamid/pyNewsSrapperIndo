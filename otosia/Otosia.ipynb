{
 "cells": [
  {
   "cell_type": "code",
   "execution_count": 1,
   "metadata": {},
   "outputs": [],
   "source": [
    "from Otosia import Otosia #class news Scrapper\n",
    "from datetime import timedelta, date, datetime\n",
    "from IPython.display import clear_output"
   ]
  },
  {
   "cell_type": "code",
   "execution_count": 2,
   "metadata": {},
   "outputs": [],
   "source": [
    "obj = Otosia()\n",
    "init_page = 667\n",
    "list_cat = [['berita'],['tips'],['lifestyle'],['selebriti'],['komunitas']]\n",
    "init_cat = list_cat[0:]"
   ]
  },
  {
   "cell_type": "code",
   "execution_count": 3,
   "metadata": {
    "scrolled": false
   },
   "outputs": [
    {
     "name": "stdout",
     "output_type": "stream",
     "text": [
      "berita\n",
      "page  664\n",
      "https://www.otosia.com/berita/index664.html\n",
      "Insert berita  Ferrari Laferrari Ditantang KTM Super Duke!\n",
      "salah2\n",
      "Insert berita  Rafid Topan Tatap Moto2 Albacete Spanyol\n",
      "salah2\n",
      "Insert berita  Royal Enfield Perkenalkan Dua Unit Kustom Pabrikannya\n",
      "salah2\n",
      "Insert berita  Konsumsi Kafein Justru Bikin Cepat Haus Saat Mudik\n",
      "salah2\n",
      "Insert berita  Saat Mudik, Fasilitas Road Service 24 Jam Kawasaki Rp 299 Ribu\n",
      "salah2\n",
      "Insert berita  Inilah Sosok KTM Duke 390 Model 2017 Pertama Kali\n",
      "masuk\n",
      "Insert berita  Dipercepat! Datsun Go-Cross Jadi Rilis Tahun Depan?\n",
      "masuk\n",
      "Insert berita  Harley-Davidson Tunda Pemasaran Moge Elektriknya\n",
      "masuk\n",
      "Insert berita  Angan-Angan Hijau Porsche Terwujud di Cayenne S E-Hybrid\n",
      "masuk\n",
      "Insert berita  Ahok Bersihkan Parkir Liar PRJ Rp 50 Ribu Per Mobil\n",
      "masuk\n",
      "Insert berita  Spesial Edition! Subaru BRZ ini Tahun Depan Dijual Terbatas\n",
      "masuk\n",
      "Insert berita  Katanya Parkir Motor PRJ Rp 10 Ribu, Kok Jadi Rp 15 Ribu?\n",
      "masuk\n",
      "Insert berita  Tampang Futuristik Helm 'Berbaju' MV Agusta Seharga Rp 5 Jutaan!\n",
      "masuk\n",
      "Insert berita  Hadapi Sirkuit Baru, Ini Ban Pilihan Rio Haryanto\n",
      "masuk\n",
      "Insert berita  Jaguar Land Rover, Service Week Selama Bulan Ramadhan\n",
      "masuk\n",
      "page  665\n",
      "https://www.otosia.com/berita/index665.html\n",
      "Insert berita  Gagal Menang, Pembalap Ferrari Salahkan Burung Camar di Tengah Lintasan\n",
      "masuk\n",
      "Insert berita  Inilah Alasan Mengapa Volkswagen adalah Mobil Handal!\n",
      "masuk\n",
      "Insert berita  Jorge Lorenzo Jadi Duta Sirkuit Sokol Di Kazakhstan\n",
      "masuk\n",
      "Insert berita  McLaren P1 GTR Makin Spesial, Terinspirasi Juara Dunianya\n",
      "masuk\n",
      "Insert berita  Kreasi Terbaru Mansory, Buat Mercedes-AMG GT Makin Gahar\n",
      "masuk\n",
      "Insert berita  Seribu Kuda Baru Untuk Tantang Ferrari LaFerrari\n",
      "masuk\n",
      "Insert berita  Apakah Saluran Air-Intake Ini Sinyal Ninja 250R Supercharged?\n",
      "masuk\n",
      "Insert berita  Inilah Sosok Naked Bike 313cc, BMW G310R\n",
      "masuk\n",
      "Insert berita  Byson Jakarta Exploride Rayakan HUT ke-5 dengan Syukuran\n",
      "masuk\n",
      "Insert berita  Ultah ACI Jabodetabek ke-11 Santuni Anak Yatim\n",
      "masuk\n",
      "Insert berita  Bengkel AC Rotary Bintaro Beri Harga Spesial Lebaran Bagi Komunitas\n",
      "masuk\n",
      "Insert berita  Kisah Manis Dian, Fans Valentino Rossi Indonesia\n",
      "masuk\n",
      "Insert berita  Waspada Bahaya Berkendara Ketika Mendekati Waktu Berbuka\n",
      "masuk\n",
      "Insert berita  46|ASIA Mendarat Rupanya Juga Atas Usulan Fans Indonesia\n",
      "masuk\n",
      "Insert berita  Bos Suderia Ferrari: Kami Membuat Kesalahan\n",
      "masuk\n",
      "page  666\n",
      "https://www.otosia.com/berita/index666.html\n",
      "Insert berita  Cairan Ban Anti-Bocor Laris Diboyong Pengunjung PRJ\n",
      "masuk\n",
      "Insert berita  Yang Beda di Ninja ZX10R Terbaru Ada di Panjangnya\n",
      "masuk\n",
      "Insert berita  Rumor Panas! Mobil Sport Kia Stinger Meluncur Tahun Depan?\n",
      "masuk\n",
      "Insert berita  Shell Ajak Pemegang Kartu ClubSmart Donasi Santapan Berbuka\n",
      "masuk\n",
      "Insert berita  Pagani Buat Kokpit Mobil Dari Bongkahan Batu?\n",
      "masuk\n",
      "Insert berita  Kalau Dapat 'Penumpang' Seperti ini, Apa Reaksi Anda?\n",
      "masuk\n",
      "Insert berita  Nih Gengs, Motor Calon Penakluk CBR dan R15!\n",
      "masuk\n",
      "Insert berita  Gara-gara Hujan, Balapan Ini Baru Finish Pada Bulan Agustus\n",
      "masuk\n",
      "Insert berita  Merchandise Valentino Rossi Kini Hadir Di Indonesia Via 46|ASIA\n",
      "masuk\n",
      "Insert berita  Yang Tersisa Dari Tim Formula 1 yang Bangkrut\n",
      "masuk\n",
      "Insert berita  Didera Berbagai Masalah, Rio Berhasil Selesaikan GP F1 Kanada\n",
      "masuk\n",
      "Insert berita  Pertimbangkan Kembali Ke Moto2, Bradl Awasi WorldSBK\n",
      "masuk\n",
      "Insert berita  Simak Hasil Uji Tabrak dari Honda Civic 2016!\n",
      "masuk\n",
      "Insert berita  Hebat! Polisi ini Rela Kawal Scooterist di Tengah Hutan\n",
      "masuk\n",
      "Insert berita  Pengawas Balap MotoGP Jelaskan Penalti Andrea Iannone\n",
      "masuk\n",
      "page  667\n",
      "https://www.otosia.com/berita/index667.html\n"
     ]
    },
    {
     "ename": "KeyboardInterrupt",
     "evalue": "",
     "output_type": "error",
     "traceback": [
      "\u001b[1;31m---------------------------------------------------------------------------\u001b[0m",
      "\u001b[1;31mKeyboardInterrupt\u001b[0m                         Traceback (most recent call last)",
      "\u001b[1;32m<ipython-input-3-c154e5164c38>\u001b[0m in \u001b[0;36m<module>\u001b[1;34m()\u001b[0m\n\u001b[0;32m      2\u001b[0m     \u001b[0mclear_output\u001b[0m\u001b[1;33m(\u001b[0m\u001b[1;33m)\u001b[0m\u001b[1;33m\u001b[0m\u001b[0m\n\u001b[0;32m      3\u001b[0m     \u001b[0mprint\u001b[0m\u001b[1;33m(\u001b[0m\u001b[0mcat\u001b[0m\u001b[1;33m[\u001b[0m\u001b[1;36m0\u001b[0m\u001b[1;33m]\u001b[0m\u001b[1;33m)\u001b[0m\u001b[1;33m\u001b[0m\u001b[0m\n\u001b[1;32m----> 4\u001b[1;33m     \u001b[0mobj\u001b[0m\u001b[1;33m.\u001b[0m\u001b[0mgetAllBerita\u001b[0m\u001b[1;33m(\u001b[0m\u001b[1;33m[\u001b[0m\u001b[1;33m]\u001b[0m\u001b[1;33m,\u001b[0m \u001b[0minit_page\u001b[0m\u001b[1;33m,\u001b[0m \u001b[0mcat\u001b[0m\u001b[1;33m[\u001b[0m\u001b[1;36m0\u001b[0m\u001b[1;33m]\u001b[0m\u001b[1;33m)\u001b[0m\u001b[1;33m\u001b[0m\u001b[0m\n\u001b[0m\u001b[0;32m      5\u001b[0m     \u001b[0minit_page\u001b[0m \u001b[1;33m=\u001b[0m \u001b[1;36m1\u001b[0m\u001b[1;33m\u001b[0m\u001b[0m\n\u001b[0;32m      6\u001b[0m \u001b[0minit_cat\u001b[0m \u001b[1;33m=\u001b[0m \u001b[0mlist_cat\u001b[0m\u001b[1;33m\u001b[0m\u001b[0m\n",
      "\u001b[1;32mD:\\OJT\\pyNewsSrapperIndo\\otosia\\Otosia.py\u001b[0m in \u001b[0;36mgetAllBerita\u001b[1;34m(self, details, page, cat, date)\u001b[0m\n\u001b[0;32m     70\u001b[0m             \u001b[1;32mif\u001b[0m \u001b[0mactive_page\u001b[0m \u001b[1;33m<=\u001b[0m \u001b[0mlast_page\u001b[0m\u001b[1;33m:\u001b[0m\u001b[1;33m\u001b[0m\u001b[0m\n\u001b[0;32m     71\u001b[0m                 \u001b[0mtime\u001b[0m\u001b[1;33m.\u001b[0m\u001b[0msleep\u001b[0m\u001b[1;33m(\u001b[0m\u001b[1;36m5\u001b[0m\u001b[1;33m)\u001b[0m\u001b[1;33m\u001b[0m\u001b[0m\n\u001b[1;32m---> 72\u001b[1;33m                 \u001b[0mdetails\u001b[0m \u001b[1;33m=\u001b[0m \u001b[0mself\u001b[0m\u001b[1;33m.\u001b[0m\u001b[0mgetAllBerita\u001b[0m\u001b[1;33m(\u001b[0m\u001b[0mdetails\u001b[0m\u001b[1;33m,\u001b[0m \u001b[0mactive_page\u001b[0m\u001b[1;33m+\u001b[0m\u001b[1;36m1\u001b[0m\u001b[1;33m,\u001b[0m \u001b[0mcat\u001b[0m\u001b[1;33m,\u001b[0m \u001b[0mdate\u001b[0m\u001b[1;33m)\u001b[0m\u001b[1;33m\u001b[0m\u001b[0m\n\u001b[0m\u001b[0;32m     73\u001b[0m \u001b[1;33m\u001b[0m\u001b[0m\n\u001b[0;32m     74\u001b[0m         \u001b[1;32mreturn\u001b[0m \u001b[1;34m'berhasil ambil semua berita'\u001b[0m\u001b[1;33m\u001b[0m\u001b[0m\n",
      "\u001b[1;32mD:\\OJT\\pyNewsSrapperIndo\\otosia\\Otosia.py\u001b[0m in \u001b[0;36mgetAllBerita\u001b[1;34m(self, details, page, cat, date)\u001b[0m\n\u001b[0;32m     70\u001b[0m             \u001b[1;32mif\u001b[0m \u001b[0mactive_page\u001b[0m \u001b[1;33m<=\u001b[0m \u001b[0mlast_page\u001b[0m\u001b[1;33m:\u001b[0m\u001b[1;33m\u001b[0m\u001b[0m\n\u001b[0;32m     71\u001b[0m                 \u001b[0mtime\u001b[0m\u001b[1;33m.\u001b[0m\u001b[0msleep\u001b[0m\u001b[1;33m(\u001b[0m\u001b[1;36m5\u001b[0m\u001b[1;33m)\u001b[0m\u001b[1;33m\u001b[0m\u001b[0m\n\u001b[1;32m---> 72\u001b[1;33m                 \u001b[0mdetails\u001b[0m \u001b[1;33m=\u001b[0m \u001b[0mself\u001b[0m\u001b[1;33m.\u001b[0m\u001b[0mgetAllBerita\u001b[0m\u001b[1;33m(\u001b[0m\u001b[0mdetails\u001b[0m\u001b[1;33m,\u001b[0m \u001b[0mactive_page\u001b[0m\u001b[1;33m+\u001b[0m\u001b[1;36m1\u001b[0m\u001b[1;33m,\u001b[0m \u001b[0mcat\u001b[0m\u001b[1;33m,\u001b[0m \u001b[0mdate\u001b[0m\u001b[1;33m)\u001b[0m\u001b[1;33m\u001b[0m\u001b[0m\n\u001b[0m\u001b[0;32m     73\u001b[0m \u001b[1;33m\u001b[0m\u001b[0m\n\u001b[0;32m     74\u001b[0m         \u001b[1;32mreturn\u001b[0m \u001b[1;34m'berhasil ambil semua berita'\u001b[0m\u001b[1;33m\u001b[0m\u001b[0m\n",
      "\u001b[1;32mD:\\OJT\\pyNewsSrapperIndo\\otosia\\Otosia.py\u001b[0m in \u001b[0;36mgetAllBerita\u001b[1;34m(self, details, page, cat, date)\u001b[0m\n\u001b[0;32m     70\u001b[0m             \u001b[1;32mif\u001b[0m \u001b[0mactive_page\u001b[0m \u001b[1;33m<=\u001b[0m \u001b[0mlast_page\u001b[0m\u001b[1;33m:\u001b[0m\u001b[1;33m\u001b[0m\u001b[0m\n\u001b[0;32m     71\u001b[0m                 \u001b[0mtime\u001b[0m\u001b[1;33m.\u001b[0m\u001b[0msleep\u001b[0m\u001b[1;33m(\u001b[0m\u001b[1;36m5\u001b[0m\u001b[1;33m)\u001b[0m\u001b[1;33m\u001b[0m\u001b[0m\n\u001b[1;32m---> 72\u001b[1;33m                 \u001b[0mdetails\u001b[0m \u001b[1;33m=\u001b[0m \u001b[0mself\u001b[0m\u001b[1;33m.\u001b[0m\u001b[0mgetAllBerita\u001b[0m\u001b[1;33m(\u001b[0m\u001b[0mdetails\u001b[0m\u001b[1;33m,\u001b[0m \u001b[0mactive_page\u001b[0m\u001b[1;33m+\u001b[0m\u001b[1;36m1\u001b[0m\u001b[1;33m,\u001b[0m \u001b[0mcat\u001b[0m\u001b[1;33m,\u001b[0m \u001b[0mdate\u001b[0m\u001b[1;33m)\u001b[0m\u001b[1;33m\u001b[0m\u001b[0m\n\u001b[0m\u001b[0;32m     73\u001b[0m \u001b[1;33m\u001b[0m\u001b[0m\n\u001b[0;32m     74\u001b[0m         \u001b[1;32mreturn\u001b[0m \u001b[1;34m'berhasil ambil semua berita'\u001b[0m\u001b[1;33m\u001b[0m\u001b[0m\n",
      "\u001b[1;32mD:\\OJT\\pyNewsSrapperIndo\\otosia\\Otosia.py\u001b[0m in \u001b[0;36mgetAllBerita\u001b[1;34m(self, details, page, cat, date)\u001b[0m\n\u001b[0;32m     57\u001b[0m             \u001b[1;31m#     break\u001b[0m\u001b[1;33m\u001b[0m\u001b[1;33m\u001b[0m\u001b[0m\n\u001b[0;32m     58\u001b[0m             \u001b[1;31m# else:\u001b[0m\u001b[1;33m\u001b[0m\u001b[1;33m\u001b[0m\u001b[0m\n\u001b[1;32m---> 59\u001b[1;33m             \u001b[0mdetail\u001b[0m \u001b[1;33m=\u001b[0m \u001b[0mself\u001b[0m\u001b[1;33m.\u001b[0m\u001b[0mgetDetailBerita\u001b[0m\u001b[1;33m(\u001b[0m\u001b[0mlink\u001b[0m\u001b[1;33m)\u001b[0m\u001b[1;33m\u001b[0m\u001b[0m\n\u001b[0m\u001b[0;32m     60\u001b[0m             \u001b[1;32mif\u001b[0m \u001b[0mdetail\u001b[0m\u001b[1;33m:\u001b[0m\u001b[1;33m\u001b[0m\u001b[0m\n\u001b[0;32m     61\u001b[0m                 \u001b[1;32mif\u001b[0m \u001b[0mself\u001b[0m\u001b[1;33m.\u001b[0m\u001b[0minsertDB\u001b[0m\u001b[1;33m(\u001b[0m\u001b[0mdetail\u001b[0m\u001b[1;33m)\u001b[0m\u001b[1;33m:\u001b[0m\u001b[1;33m\u001b[0m\u001b[0m\n",
      "\u001b[1;32mD:\\OJT\\pyNewsSrapperIndo\\otosia\\Otosia.py\u001b[0m in \u001b[0;36mgetDetailBerita\u001b[1;34m(self, link)\u001b[0m\n\u001b[0;32m     78\u001b[0m         \u001b[0mMengambil\u001b[0m \u001b[0mseluruh\u001b[0m \u001b[0melement\u001b[0m \u001b[0mdari\u001b[0m \u001b[0mhalaman\u001b[0m \u001b[0mberita\u001b[0m\u001b[1;33m\u001b[0m\u001b[0m\n\u001b[0;32m     79\u001b[0m         \"\"\"\n\u001b[1;32m---> 80\u001b[1;33m         \u001b[0mtime\u001b[0m\u001b[1;33m.\u001b[0m\u001b[0msleep\u001b[0m\u001b[1;33m(\u001b[0m\u001b[1;36m5\u001b[0m\u001b[1;33m)\u001b[0m\u001b[1;33m\u001b[0m\u001b[0m\n\u001b[0m\u001b[0;32m     81\u001b[0m         \u001b[0marticles\u001b[0m \u001b[1;33m=\u001b[0m \u001b[1;33m{\u001b[0m\u001b[1;33m}\u001b[0m\u001b[1;33m\u001b[0m\u001b[0m\n\u001b[0;32m     82\u001b[0m         \u001b[1;31m#link\u001b[0m\u001b[1;33m\u001b[0m\u001b[1;33m\u001b[0m\u001b[0m\n",
      "\u001b[1;31mKeyboardInterrupt\u001b[0m: "
     ]
    }
   ],
   "source": [
    "for cat in init_cat:\n",
    "    clear_output()\n",
    "    print(cat[0])\n",
    "    obj.getAllBerita([], init_page, cat[0])\n",
    "    init_page = 1\n",
    "init_cat = list_cat"
   ]
  },
  {
   "cell_type": "code",
   "execution_count": null,
   "metadata": {},
   "outputs": [],
   "source": []
  }
 ],
 "metadata": {
  "kernelspec": {
   "display_name": "Python 3",
   "language": "python",
   "name": "python3"
  },
  "language_info": {
   "codemirror_mode": {
    "name": "ipython",
    "version": 3
   },
   "file_extension": ".py",
   "mimetype": "text/x-python",
   "name": "python",
   "nbconvert_exporter": "python",
   "pygments_lexer": "ipython3",
   "version": "3.6.4"
  }
 },
 "nbformat": 4,
 "nbformat_minor": 2
}
