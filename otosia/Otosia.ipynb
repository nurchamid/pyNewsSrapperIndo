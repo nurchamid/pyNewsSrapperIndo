{
 "cells": [
  {
   "cell_type": "code",
   "execution_count": 12,
   "metadata": {},
   "outputs": [],
   "source": [
    "from Otosia import Otosia #class news Scrapper\n",
    "import mysql.connector"
   ]
  },
  {
   "cell_type": "code",
   "execution_count": 13,
   "metadata": {},
   "outputs": [],
   "source": [
    "obj = Otosia()"
   ]
  },
  {
   "cell_type": "code",
   "execution_count": 14,
   "metadata": {},
   "outputs": [
    {
     "data": {
      "text/plain": [
       "<Otosia.Otosia at 0x211f6289a20>"
      ]
     },
     "execution_count": 14,
     "metadata": {},
     "output_type": "execute_result"
    }
   ],
   "source": [
    "obj"
   ]
  },
  {
   "cell_type": "code",
   "execution_count": 15,
   "metadata": {},
   "outputs": [
    {
     "ename": "NameError",
     "evalue": "name 'mysql' is not defined",
     "output_type": "error",
     "traceback": [
      "\u001b[1;31m---------------------------------------------------------------------------\u001b[0m",
      "\u001b[1;31mNameError\u001b[0m                                 Traceback (most recent call last)",
      "\u001b[1;32m<ipython-input-15-86b2878721ea>\u001b[0m in \u001b[0;36m<module>\u001b[1;34m()\u001b[0m\n\u001b[1;32m----> 1\u001b[1;33m \u001b[0mlinks\u001b[0m \u001b[1;33m=\u001b[0m \u001b[0mobj\u001b[0m\u001b[1;33m.\u001b[0m\u001b[0mgetIndeksLink\u001b[0m\u001b[1;33m(\u001b[0m\u001b[1;33m[\u001b[0m\u001b[1;33m]\u001b[0m\u001b[1;33m,\u001b[0m \u001b[1;36m1\u001b[0m\u001b[1;33m,\u001b[0m \u001b[1;34m'berita'\u001b[0m\u001b[1;33m,\u001b[0m \u001b[1;34m'otomotif'\u001b[0m\u001b[1;33m)\u001b[0m\u001b[1;33m\u001b[0m\u001b[0m\n\u001b[0m",
      "\u001b[1;32mD:\\OJT\\pyNewsSrapperIndo\\otosia\\Otosia.py\u001b[0m in \u001b[0;36mgetIndeksLink\u001b[1;34m(self, links, page, cat_link, cat, date)\u001b[0m\n\u001b[0;32m     19\u001b[0m         \u001b[0mUntuk\u001b[0m \u001b[0mmengambil\u001b[0m \u001b[0mseluruh\u001b[0m \u001b[0murl\u001b[0m\u001b[1;33m\u001b[0m\u001b[0m\n\u001b[0;32m     20\u001b[0m         \u001b[0mlink\u001b[0m \u001b[0mpada\u001b[0m \u001b[0mindeks\u001b[0m \u001b[0mcategory\u001b[0m \u001b[0mtertentu\u001b[0m\u001b[1;33m\u001b[0m\u001b[0m\n\u001b[1;32m---> 21\u001b[1;33m         \u001b[0mdate\u001b[0m \u001b[0mformat\u001b[0m \u001b[1;33m:\u001b[0m \u001b[0mYYYY\u001b[0m\u001b[1;33m/\u001b[0m\u001b[0mmm\u001b[0m\u001b[1;33m/\u001b[0m\u001b[0mdd\u001b[0m\u001b[1;33m\u001b[0m\u001b[0m\n\u001b[0m\u001b[0;32m     22\u001b[0m         \u001b[0mcategory\u001b[0m \u001b[1;33m:\u001b[0m \u001b[0mberita\u001b[0m\u001b[1;33m,\u001b[0m \u001b[0mtips\u001b[0m\u001b[1;33m,\u001b[0m \u001b[0mlifetyle\u001b[0m\u001b[1;33m,\u001b[0m \u001b[0mselebriti\u001b[0m\u001b[1;33m,\u001b[0m \u001b[0mkomunitas\u001b[0m\u001b[1;33m,\u001b[0m \u001b[0mgaleri\u001b[0m\u001b[1;33m\u001b[0m\u001b[0m\n\u001b[0;32m     23\u001b[0m         \"\"\"\n",
      "\u001b[1;31mNameError\u001b[0m: name 'mysql' is not defined"
     ]
    }
   ],
   "source": [
    "links = obj.getIndeksLink([], 1, 'berita', 'otomotif')"
   ]
  },
  {
   "cell_type": "code",
   "execution_count": null,
   "metadata": {},
   "outputs": [],
   "source": [
    "detail = obj.getDetailBerita(links[10:13])"
   ]
  },
  {
   "cell_type": "code",
   "execution_count": 137,
   "metadata": {},
   "outputs": [
    {
     "ename": "NameError",
     "evalue": "name 'detail' is not defined",
     "output_type": "error",
     "traceback": [
      "\u001b[1;31m---------------------------------------------------------------------------\u001b[0m",
      "\u001b[1;31mNameError\u001b[0m                                 Traceback (most recent call last)",
      "\u001b[1;32m<ipython-input-137-86d098d51554>\u001b[0m in \u001b[0;36m<module>\u001b[1;34m()\u001b[0m\n\u001b[1;32m----> 1\u001b[1;33m \u001b[0mdetail\u001b[0m\u001b[1;33m\u001b[0m\u001b[0m\n\u001b[0m",
      "\u001b[1;31mNameError\u001b[0m: name 'detail' is not defined"
     ]
    }
   ],
   "source": [
    "detail"
   ]
  },
  {
   "cell_type": "code",
   "execution_count": null,
   "metadata": {},
   "outputs": [],
   "source": [
    "con = mysql.connector.connect(user='root', password='',\n",
    "                              host='192.168.43.93',\n",
    "                              database='news_db')\n",
    "cursor = con.cursor()"
   ]
  },
  {
   "cell_type": "code",
   "execution_count": null,
   "metadata": {},
   "outputs": [],
   "source": [
    "for det in detail:\n",
    "    add_article = (\"INSERT INTO article\"\n",
    "              \"(post_id, author, pubdate, category, subcategory, content, comments, images, title, tags, url, source) \"\n",
    "              \"VALUES (%(id)s, %(author)s, %(pubdate)s, %(category)s, %(subcategory)s, %(content)s, %(comments)s, %(images)s, %(title)s, %(tags)s, %(url)s, %(source)s)\")\n",
    "    # Insert article\n",
    "    cursor.execute(add_article, det)\n",
    "    con.commit()\n",
    "\n",
    "cursor.close()"
   ]
  },
  {
   "cell_type": "code",
   "execution_count": null,
   "metadata": {},
   "outputs": [],
   "source": [
    "import pandas as pd"
   ]
  },
  {
   "cell_type": "code",
   "execution_count": null,
   "metadata": {},
   "outputs": [],
   "source": [
    "df1 = pd.read_sql(\"Select * from article\", con)"
   ]
  },
  {
   "cell_type": "code",
   "execution_count": null,
   "metadata": {},
   "outputs": [],
   "source": [
    "df1"
   ]
  },
  {
   "cell_type": "code",
   "execution_count": null,
   "metadata": {},
   "outputs": [],
   "source": [
    "con.close()"
   ]
  },
  {
   "cell_type": "code",
   "execution_count": null,
   "metadata": {},
   "outputs": [],
   "source": [
    "from datetime import datetime, timedelta\n",
    "import locale\n",
    "locale.setlocale(locale.LC_ALL, 'ID')"
   ]
  },
  {
   "cell_type": "code",
   "execution_count": null,
   "metadata": {},
   "outputs": [],
   "source": [
    "yes = datetime.now() - timedelta(1)"
   ]
  },
  {
   "cell_type": "code",
   "execution_count": null,
   "metadata": {},
   "outputs": [],
   "source": [
    "datetime.strftime(yes, '%a %Y-%b-%d %H:%M:%S')"
   ]
  },
  {
   "cell_type": "code",
   "execution_count": 5,
   "metadata": {},
   "outputs": [],
   "source": [
    "import requests\n",
    "from bs4 import BeautifulSoup\n",
    "from datetime import datetime, timedelta\n",
    "import locale\n",
    "locale.setlocale(locale.LC_ALL, 'ID')\n",
    "import re\n",
    "import pandas as pd\n",
    "from selenium import webdriver\n",
    "from selenium.webdriver.chrome.options import Options"
   ]
  },
  {
   "cell_type": "code",
   "execution_count": 80,
   "metadata": {},
   "outputs": [],
   "source": [
    "url = \"https://www.otosia.com/berita/index3214.html\""
   ]
  },
  {
   "cell_type": "code",
   "execution_count": 81,
   "metadata": {},
   "outputs": [],
   "source": [
    "response = requests.get(url)\n",
    "# Extract HTML texts contained in Response object: html\n",
    "html = response.text\n",
    "# Create a BeautifulSoup object from the HTML: soup\n",
    "soup = BeautifulSoup(html, \"html5lib\")"
   ]
  },
  {
   "cell_type": "code",
   "execution_count": 82,
   "metadata": {},
   "outputs": [
    {
     "data": {
      "text/plain": [
       "<div id=\"mobart-box-big\">\n",
       "\t\t\t\t\t\t<div class=\"clear\"></div>\n",
       "\t\t\t\t\t\t<div class=\"OtoMid\">\n",
       "\t\t\t\t\t\t\t<div class=\"iHeadBox\">\n",
       "\t\t\t\t\t\t\t\t<div class=\"iHeadL\"> </div>\n",
       "\t\t\t\t\t\t\t\t<div class=\"iHeadM\">BERITA</div>\n",
       "\t\t\t\t\t\t\t\t<div class=\"iHeadR\"> </div>\n",
       "\t\t\t\t\t\t\t</div>\n",
       "\t\t\t\t\t\t\t<br class=\"clear\"/>\n",
       "\t\t\t\t\t\t\t<br class=\"clear\"/>\n",
       "\t\t\t\t\t\t\t<div id=\"kl-social-tabs\" style=\"margin-bottom: 22px;\">\n",
       "\t\t\t\t\t\t\t\t<script src=\"https://a.otosia.com/v1/js/minified/socialtab.php?20120726\" type=\"text/javascript\"></script>\n",
       "\t\t\t\t\t\t\t\t<script type=\"text/javascript\">\n",
       "\t\t\t\t\t\t\t\t$(document).ready(function() {\n",
       "\t\t\t\t\t\t\t\t  var total = 0;\n",
       "\n",
       "\t\t\t\t\t\t\t\t  $('#kl-social-tabs').klsocial({\n",
       "\t\t\t\t\t\t\t\t\t  twitter_user:\"otosia\",\n",
       "\t\t\t\t\t\t\t\t\t  comment_count:-1,\n",
       "\t\t\t\t\t\t\t\t\t  tabs_width:\"658px\",\n",
       "\t\t\t\t\t\t\t\t\t  like_width:\"440px\"\n",
       "\t\t\t\t\t\t\t\t  });\n",
       "\n",
       "\t\t\t\t\t\t\t\t  $(\".clasit\").parent(\"div\").css(\"width\",\"234px\");\n",
       "\t\t\t\t\t\t\t\t});\n",
       "\t\t\t\t\t\t\t\t</script>\n",
       "\t\t\t\t\t\t\t</div>\n",
       "\t\t\t\t\t\t\t<br class=\"clear\"/>\n",
       "\t\t\t\t\t\t\t<br class=\"clear\"/>\n",
       "\t\t\t\t\t\t\t\n",
       "\t\t\t\t\t\t</div>\n",
       "\t\t\t\t\t\t<div class=\"clear\"></div>\n",
       "\t\t\t\t\t\t <div class=\"article-index-box\">\n",
       "\t\t\t\t<ul>\n",
       "\t\t\t\t\t<li class=\"artbox-img\"><a href=\"/berita/lewis-hamilton-rajai-pembukaan-musim-di-australia-eyobhry.html\"><img alt=\"Lewis Hamilton Rajai Pembukaan Musim di Australia\" class=\"lazy_loaded pt5\" data-src=\"https://cdns.klimg.com/otosia.com/resized/300x150/p/headline/476x238/0000218200.jpg\" height=\"150\" src=\"https://cdns.klimg.com/otosia.com/i/a/1px_white.JPG\" width=\"300\"/></a></li>\n",
       "\t\t\t\t\t<li class=\"artbox-text\">\n",
       "\t\t\t\t\t   <h2><a href=\"/berita/lewis-hamilton-rajai-pembukaan-musim-di-australia-eyobhry.html\">Lewis Hamilton Rajai Pembukaan Musim di Australia</a></h2>\n",
       "\t\t\t\t\t   <span class=\"newsdetail-schedule\" style=\"color:#808080;\">Minggu, 16 Maret 2008 17:24</span>\n",
       "\t\t\t\t\t   <br/>\n",
       "\t\t\t\t\t   <div class=\"entertainment-synopsis\"><p>Pembalap McLaren Lewis Hamilton menghindari banyaknya tabrakan yang terjadi di Grand Prix Australia, Minggu (16/3), untuk menang pada pembuka musim Formula Satu itu. Pembalap Inggris berusia 23 tahun, yang sensasional di debutnya musim lalu, start..</p></div>\n",
       "\t\t\t\t\t</li>\n",
       "\t\t\t\t</ul>\n",
       "\t\t\t\t<br class=\"v5_0\"/>\n",
       "\t\t\t\t</div><div class=\"clear\"></div>\n",
       "\t\t\t\t<br class=\"clear\"/>\n",
       "\t\t\t\t<br class=\"clear\"/><div class=\"article-index-box\">\n",
       "\t\t\t\t<ul>\n",
       "\t\t\t\t\t<li class=\"artbox-img\"><a href=\"/berita/singapura-larang-iklan-tembakau-di-grand-prix-ugiomh8.html\"><img alt=\"Singapura Larang Iklan Tembakau di Grand Prix\" class=\"lazy_loaded pt5\" data-src=\"https://cdns.klimg.com/otosia.com/resized/300x150/p/headline/476x238/0000218199.jpg\" height=\"150\" src=\"https://cdns.klimg.com/otosia.com/i/a/1px_white.JPG\" width=\"300\"/></a></li>\n",
       "\t\t\t\t\t<li class=\"artbox-text\">\n",
       "\t\t\t\t\t   <h2><a href=\"/berita/singapura-larang-iklan-tembakau-di-grand-prix-ugiomh8.html\">Singapura Larang Iklan Tembakau di Grand Prix</a></h2>\n",
       "\t\t\t\t\t   <span class=\"newsdetail-schedule\" style=\"color:#808080;\">Minggu, 16 Maret 2008 16:28</span>\n",
       "\t\t\t\t\t   <br/>\n",
       "\t\t\t\t\t   <div class=\"entertainment-synopsis\"><p>Undang-undang ketat Singapura terhadap larangan iklan tembakau akan diberlakukan dalam Grand Prix pertama di negara itu pada September mendatang, demikian dilaporkan, Minggu (16/3).\n",
       "</p></div>\n",
       "\t\t\t\t\t</li>\n",
       "\t\t\t\t</ul>\n",
       "\t\t\t\t<br class=\"v5_0\"/>\n",
       "\t\t\t\t</div><div class=\"clear\"></div>\n",
       "\t\t\t\t<br class=\"clear\"/>\n",
       "\t\t\t\t<br class=\"clear\"/><div class=\"article-index-box\">\n",
       "\t\t\t\t<ul>\n",
       "\t\t\t\t\t<li class=\"artbox-img\"><a href=\"/berita/hamilton-awali-musim-baru-f1-dengan-raih-pole-05ti3ec.html\"><img alt=\"Hamilton Awali Musim Baru F1 Dengan Raih 'Pole'\" class=\"lazy_loaded pt5\" data-src=\"https://cdns.klimg.com/otosia.com/resized/300x150/p/headline/476x238/0000218119.jpg\" height=\"150\" src=\"https://cdns.klimg.com/otosia.com/i/a/1px_white.JPG\" width=\"300\"/></a></li>\n",
       "\t\t\t\t\t<li class=\"artbox-text\">\n",
       "\t\t\t\t\t   <h2><a href=\"/berita/hamilton-awali-musim-baru-f1-dengan-raih-pole-05ti3ec.html\">Hamilton Awali Musim Baru F1 Dengan Raih 'Pole'</a></h2>\n",
       "\t\t\t\t\t   <span class=\"newsdetail-schedule\" style=\"color:#808080;\">Sabtu, 15 Maret 2008 17:35</span>\n",
       "\t\t\t\t\t   <br/>\n",
       "\t\t\t\t\t   <div class=\"entertainment-synopsis\"><p>Lewis Hamilton membawa mobil McLaren Mercedes-nya ke posisi pole (start terdepan) untuk Grand Prix pembuka musim di Australia, Sabtu, sementara juara dunia Kimi Raikkonen mengalami kerusakan kendaraan. </p></div>\n",
       "\t\t\t\t\t</li>\n",
       "\t\t\t\t</ul>\n",
       "\t\t\t\t<br class=\"v5_0\"/>\n",
       "\t\t\t\t</div><div class=\"clear\"></div>\n",
       "\t\t\t\t<br class=\"clear\"/>\n",
       "\t\t\t\t<br class=\"clear\"/><div class=\"article-index-box\">\n",
       "\t\t\t\t<ul>\n",
       "\t\t\t\t\t<li class=\"artbox-img\"><a href=\"/berita/bmw-sauber-teratas-dalam-sesi-latihan-bebas-wbupzqz.html\"><img alt=\"BMW-Sauber Teratas Dalam Sesi Latihan Bebas\" class=\"lazy_loaded pt5\" data-src=\"https://cdns.klimg.com/otosia.com/resized/300x150/p/headline/476x238/0000218116.jpg\" height=\"150\" src=\"https://cdns.klimg.com/otosia.com/i/a/1px_white.JPG\" width=\"300\"/></a></li>\n",
       "\t\t\t\t\t<li class=\"artbox-text\">\n",
       "\t\t\t\t\t   <h2><a href=\"/berita/bmw-sauber-teratas-dalam-sesi-latihan-bebas-wbupzqz.html\">BMW-Sauber Teratas Dalam Sesi Latihan Bebas</a></h2>\n",
       "\t\t\t\t\t   <span class=\"newsdetail-schedule\" style=\"color:#808080;\">Sabtu, 15 Maret 2008 15:19</span>\n",
       "\t\t\t\t\t   <br/>\n",
       "\t\t\t\t\t   <div class=\"entertainment-synopsis\"><p>Tim Formula Satu Jerman BMW-Sauber Sabtu memimpin dalam sesi pelatihan bebas di Melbourne. </p></div>\n",
       "\t\t\t\t\t</li>\n",
       "\t\t\t\t</ul>\n",
       "\t\t\t\t<br class=\"v5_0\"/>\n",
       "\t\t\t\t</div><div class=\"clear\"></div>\n",
       "\t\t\t\t<br class=\"clear\"/>\n",
       "\t\t\t\t<br class=\"clear\"/><div class=\"article-index-box\">\n",
       "\t\t\t\t<ul>\n",
       "\t\t\t\t\t<li class=\"artbox-img\"><a href=\"/berita/hasil-latihan-sesi-kedua-f1-gp-australia-sftblpv.html\"><img alt=\"Hasil Latihan Sesi Kedua F1 GP Australia\" class=\"lazy_loaded pt5\" data-src=\"https://cdns.klimg.com/otosia.com/resized/300x150/p/headline/476x238/0000217957.jpg\" height=\"150\" src=\"https://cdns.klimg.com/otosia.com/i/a/1px_white.JPG\" width=\"300\"/></a></li>\n",
       "\t\t\t\t\t<li class=\"artbox-text\">\n",
       "\t\t\t\t\t   <h2><a href=\"/berita/hasil-latihan-sesi-kedua-f1-gp-australia-sftblpv.html\">Hasil Latihan Sesi Kedua F1 GP Australia</a></h2>\n",
       "\t\t\t\t\t   <span class=\"newsdetail-schedule\" style=\"color:#808080;\">Jum'at, 14 Maret 2008 15:24</span>\n",
       "\t\t\t\t\t   <br/>\n",
       "\t\t\t\t\t   <div class=\"entertainment-synopsis\"><p>Berikut catatan waktu dari latihan sesi kedua GP Formula Satu (F1) Australia yang digelar di Albert Park, Melbourne, Jumat.</p></div>\n",
       "\t\t\t\t\t</li>\n",
       "\t\t\t\t</ul>\n",
       "\t\t\t\t<br class=\"v5_0\"/>\n",
       "\t\t\t\t</div><div class=\"clear\"></div>\n",
       "\t\t\t\t<br class=\"clear\"/>\n",
       "\t\t\t\t<br class=\"clear\"/><div class=\"article-index-box\">\n",
       "\t\t\t\t<ul>\n",
       "\t\t\t\t\t<li class=\"artbox-img\"><a href=\"/berita/subhan-aksa-dan-navigatornya-jadi-duta-aids-6xvka9x.html\"><img alt=\"Subhan Aksa dan Navigatornya Jadi Duta AIDS\" class=\"lazy_loaded pt5\" data-src=\"https://cdns.klimg.com/otosia.com/resized/300x150/p/headline/476x238/0000217938.jpg\" height=\"150\" src=\"https://cdns.klimg.com/otosia.com/i/a/1px_white.JPG\" width=\"300\"/></a></li>\n",
       "\t\t\t\t\t<li class=\"artbox-text\">\n",
       "\t\t\t\t\t   <h2><a href=\"/berita/subhan-aksa-dan-navigatornya-jadi-duta-aids-6xvka9x.html\">Subhan Aksa dan Navigatornya Jadi Duta AIDS</a></h2>\n",
       "\t\t\t\t\t   <span class=\"newsdetail-schedule\" style=\"color:#808080;\">Jum'at, 14 Maret 2008 14:21</span>\n",
       "\t\t\t\t\t   <br/>\n",
       "\t\t\t\t\t   <div class=\"entertainment-synopsis\"><p>Pereli nasional, Subhan Aksa dan navigator Hade Mboi, terpilih sebagai Duta AIDS oleh Komisi Penanggulangan AIDS Nasional yang diumumkan dalam acara pembukaan Lokakarya Penanggulangan AIDS Nasional di Gedung Bappenas, Jakarta. </p></div>\n",
       "\t\t\t\t\t</li>\n",
       "\t\t\t\t</ul>\n",
       "\t\t\t\t<br class=\"v5_0\"/>\n",
       "\t\t\t\t</div><div class=\"clear\"></div>\n",
       "\t\t\t\t<br class=\"clear\"/>\n",
       "\t\t\t\t<br class=\"clear\"/><div class=\"article-index-box\">\n",
       "\t\t\t\t<ul>\n",
       "\t\t\t\t\t<li class=\"artbox-img\"><a href=\"/berita/kimi-raikkonen-tercepat-dalam-latihan-ic4tidp.html\"><img alt=\"Kimi Raikkonen Tercepat Dalam Latihan\" class=\"lazy_loaded pt5\" data-src=\"https://cdns.klimg.com/otosia.com/resized/300x150/p/headline/476x238/0000217910.jpg\" height=\"150\" src=\"https://cdns.klimg.com/otosia.com/i/a/1px_white.JPG\" width=\"300\"/></a></li>\n",
       "\t\t\t\t\t<li class=\"artbox-text\">\n",
       "\t\t\t\t\t   <h2><a href=\"/berita/kimi-raikkonen-tercepat-dalam-latihan-ic4tidp.html\">Kimi Raikkonen Tercepat Dalam Latihan</a></h2>\n",
       "\t\t\t\t\t   <span class=\"newsdetail-schedule\" style=\"color:#808080;\">Jum'at, 14 Maret 2008 11:20</span>\n",
       "\t\t\t\t\t   <br/>\n",
       "\t\t\t\t\t   <div class=\"entertainment-synopsis\"><p>Juara dunia bertahan Kimi Raikkonen, yang tahun lalu memenangi Australia Grand Prix bersama Ferrari, Jumat membukukan waktu tercepat dalam latihan bebas pertama menjelang perlombaan F1 Australia Grand Prix di Albert Park, Melbourne.</p></div>\n",
       "\t\t\t\t\t</li>\n",
       "\t\t\t\t</ul>\n",
       "\t\t\t\t<br class=\"v5_0\"/>\n",
       "\t\t\t\t</div><div class=\"clear\"></div>\n",
       "\t\t\t\t<br class=\"clear\"/>\n",
       "\t\t\t\t<br class=\"clear\"/><div class=\"article-index-box\">\n",
       "\t\t\t\t<ul>\n",
       "\t\t\t\t\t<li class=\"artbox-img\"><a href=\"/berita/percobaan-hafid-test-1.html\"><img alt=\"Percobaan Hafid Test 1\" class=\"lazy_loaded pt5\" data-src=\"https://cdns.klimg.com/otosia.com/resized/300x150/p/headline/476x238/0000434715.jpg\" height=\"150\" src=\"https://cdns.klimg.com/otosia.com/i/a/1px_white.JPG\" width=\"300\"/></a></li>\n",
       "\t\t\t\t\t<li class=\"artbox-text\">\n",
       "\t\t\t\t\t   <h2><a href=\"/berita/percobaan-hafid-test-1.html\">Percobaan Hafid Test 1</a></h2>\n",
       "\t\t\t\t\t   <span class=\"newsdetail-schedule\" style=\"color:#808080;\">Sabtu, 03 November 2007 21:08</span>\n",
       "\t\t\t\t\t   <br/>\n",
       "\t\t\t\t\t   <div class=\"entertainment-synopsis\"><p></p></div>\n",
       "\t\t\t\t\t</li>\n",
       "\t\t\t\t</ul>\n",
       "\t\t\t\t<br class=\"v5_0\"/>\n",
       "\t\t\t\t</div><div class=\"clear\"></div>\n",
       "\t\t\t\t<br class=\"clear\"/>\n",
       "\t\t\t\t<br class=\"clear\"/><div class=\"article-index-box\">\n",
       "\t\t\t\t<ul>\n",
       "\t\t\t\t\t<li class=\"artbox-img\"><a href=\"/berita/what-is-lorem-ipsum.html\"><img alt=\"What Is Lorem Ipsum\" class=\"lazy_loaded pt5\" data-src=\"https://cdns.klimg.com/otosia.com/resized/300x150/p/headline/476x238/0000437011.jpg\" height=\"150\" src=\"https://cdns.klimg.com/otosia.com/i/a/1px_white.JPG\" width=\"300\"/></a></li>\n",
       "\t\t\t\t\t<li class=\"artbox-text\">\n",
       "\t\t\t\t\t   <h2><a href=\"/berita/what-is-lorem-ipsum.html\">What Is Lorem Ipsum</a></h2>\n",
       "\t\t\t\t\t   <span class=\"newsdetail-schedule\" style=\"color:#808080;\">Senin, 05 Februari 2007 23:20</span>\n",
       "\t\t\t\t\t   <br/>\n",
       "\t\t\t\t\t   <div class=\"entertainment-synopsis\"><p>Lorem Ipsum is simply dummy text of the printing and typesetting industry. Lorem Ipsum has been the industry's standard dummy text ever since the 1500s, when an unknown printer took a galley of type and scrambled it to make a type specimen book. It..</p></div>\n",
       "\t\t\t\t\t</li>\n",
       "\t\t\t\t</ul>\n",
       "\t\t\t\t<br class=\"v5_0\"/>\n",
       "\t\t\t\t</div><div class=\"clear\"></div>\n",
       "\t\t\t\t<br class=\"clear\"/>\n",
       "\t\t\t\t<br class=\"clear\"/><div class=\"iADS\">\n",
       "\t\t\t\t  <script type=\"text/javascript\">\n",
       "\t\t\t\t\t  google_ad_client = \"ca-pub-8413700652631137\";\n",
       "\t\t\t\t\t  /* 468x60 Otosia.com */\n",
       "\t\t\t\t\t  google_ad_slot = \"4238273514\";\n",
       "\t\t\t\t\t  google_ad_width = 468;\n",
       "\t\t\t\t\t  google_ad_height = 60;\n",
       "\n",
       "\t\t\t\t  </script>\n",
       "\t\t\t\t  <script src=\"https://pagead2.googlesyndication.com/pagead/show_ads.js\" type=\"text/javascript\">\n",
       "\t\t\t\t  </script>\n",
       "\t\t\t\t</div><div class=\"article-index-box\">\n",
       "\t\t\t\t<ul>\n",
       "\t\t\t\t\t<li class=\"artbox-img\"><a href=\"/berita/bernie-samakan-ferrari-dengan-rolling-stones.html\"><img alt=\"Bernie Samakan Ferrari Dengan Rolling Stones\" class=\"lazy_loaded pt5\" data-src=\"https://cdns.klimg.com/otosia.com/resized/300x150/p/headline/476x238/0000438784.jpg\" height=\"150\" src=\"https://cdns.klimg.com/otosia.com/i/a/1px_white.JPG\" width=\"300\"/></a></li>\n",
       "\t\t\t\t\t<li class=\"artbox-text\">\n",
       "\t\t\t\t\t   <h2><a href=\"/berita/bernie-samakan-ferrari-dengan-rolling-stones.html\">Bernie Samakan Ferrari Dengan Rolling Stones</a></h2>\n",
       "\t\t\t\t\t   <span class=\"newsdetail-schedule\" style=\"color:#808080;\">Jum'at, 30 November 2001 18:15</span>\n",
       "\t\t\t\t\t   <br/>\n",
       "\t\t\t\t\t   <div class=\"entertainment-synopsis\"><p>Supremo F1, Bernie Ecclestone, menyamakan tim Scuderia Ferrari setara dengan grup band The Rolling Stones.</p></div>\n",
       "\t\t\t\t\t</li>\n",
       "\t\t\t\t</ul>\n",
       "\t\t\t\t<br class=\"v5_0\"/>\n",
       "\t\t\t\t</div><div class=\"clear\"></div>\n",
       "\t\t\t\t<br class=\"clear\"/>\n",
       "\t\t\t\t<br class=\"clear\"/><div class=\"article-index-box\">\n",
       "\t\t\t\t<ul>\n",
       "\t\t\t\t\t<li class=\"artbox-img\"><a href=\"/berita/london-ikuti-langkah-paris-mulai-larang-motor-tua-pada-2017.html\"><img alt=\"London Ikuti Langkah Paris, Mulai Larang Motor Tua Pada 2017\" class=\"lazy_loaded pt5\" data-src=\"https://cdns.klimg.com/otosia.com/resized/300x150/p/headline/476x238/0000440721.jpg\" height=\"150\" src=\"https://cdns.klimg.com/otosia.com/i/a/1px_white.JPG\" width=\"300\"/></a></li>\n",
       "\t\t\t\t\t<li class=\"artbox-text\">\n",
       "\t\t\t\t\t   <h2><a href=\"/berita/london-ikuti-langkah-paris-mulai-larang-motor-tua-pada-2017.html\">London Ikuti Langkah Paris, Mulai Larang Motor Tua Pada 2017</a></h2>\n",
       "\t\t\t\t\t   <span class=\"newsdetail-schedule\" style=\"color:#808080;\">Rabu, 21 Juni 2000 15:15</span>\n",
       "\t\t\t\t\t   <br/>\n",
       "\t\t\t\t\t   <div class=\"entertainment-synopsis\"><p>kota London mengikuti langkah kota Paris untuk mulai melarang peredaran motor tua pada 2017</p></div>\n",
       "\t\t\t\t\t</li>\n",
       "\t\t\t\t</ul>\n",
       "\t\t\t\t<br class=\"v5_0\"/>\n",
       "\t\t\t\t</div><div class=\"clear\"></div>\n",
       "\t\t\t\t<br class=\"clear\"/>\n",
       "\t\t\t\t<br class=\"clear\"/><div class=\"article-index-box\">\n",
       "\t\t\t\t<ul>\n",
       "\t\t\t\t\t<li class=\"artbox-img\"><a href=\"/berita/angan-angan-hijau-porsche-terwujud-di-cayenne-s-e-hybrid.html\"><img alt=\"Angan-Angan Hijau Porsche Terwujud di Cayenne S E-Hybrid\" class=\"lazy_loaded pt5\" data-src=\"https://cdns.klimg.com/otosia.com/resized/300x150/p/headline/476x238/0000440540.jpg\" height=\"150\" src=\"https://cdns.klimg.com/otosia.com/i/a/1px_white.JPG\" width=\"300\"/></a></li>\n",
       "\t\t\t\t\t<li class=\"artbox-text\">\n",
       "\t\t\t\t\t   <h2><a href=\"/berita/angan-angan-hijau-porsche-terwujud-di-cayenne-s-e-hybrid.html\">Angan-Angan Hijau Porsche Terwujud di Cayenne S E-Hybrid</a></h2>\n",
       "\t\t\t\t\t   <span class=\"newsdetail-schedule\" style=\"color:#808080;\">Rabu, 14 Juni 2000 13:16</span>\n",
       "\t\t\t\t\t   <br/>\n",
       "\t\t\t\t\t   <div class=\"entertainment-synopsis\"><p>Porsche yang ramah lingkungan terwujud dalam Cayenne S E-Hybrid yang terbaru.</p></div>\n",
       "\t\t\t\t\t</li>\n",
       "\t\t\t\t</ul>\n",
       "\t\t\t\t<br class=\"v5_0\"/>\n",
       "\t\t\t\t</div><div class=\"clear\"></div>\n",
       "\t\t\t\t<br class=\"clear\"/>\n",
       "\t\t\t\t<br class=\"clear\"/><div class=\"article-index-box\">\n",
       "\t\t\t\t<ul>\n",
       "\t\t\t\t\t<li class=\"artbox-img\"><a href=\"/berita/hadapi-lintasan-gunung-rekor-lintasan-paling-berbahaya-akhirnya-ditaklukkan.html\"><img alt=\"Hadapi Lintasan Gunung, Rekor Lintasan Paling Berbahaya Akhirnya Ditaklukkan\" class=\"lazy_loaded pt5\" data-src=\"https://cdns.klimg.com/otosia.com/resized/300x150/p/headline/476x238/0000440414.jpg\" height=\"150\" src=\"https://cdns.klimg.com/otosia.com/i/a/1px_white.JPG\" width=\"300\"/></a></li>\n",
       "\t\t\t\t\t<li class=\"artbox-text\">\n",
       "\t\t\t\t\t   <h2><a href=\"/berita/hadapi-lintasan-gunung-rekor-lintasan-paling-berbahaya-akhirnya-ditaklukkan.html\">Hadapi Lintasan Gunung, Rekor Lintasan Paling Berbahaya Akhirnya Ditaklukkan</a></h2>\n",
       "\t\t\t\t\t   <span class=\"newsdetail-schedule\" style=\"color:#808080;\">Jum'at, 09 Juni 2000 15:30</span>\n",
       "\t\t\t\t\t   <br/>\n",
       "\t\t\t\t\t   <div class=\"entertainment-synopsis\"><p>Michaeil Dunlop menjadi orang pertama yang mampu menembus waktu kurang dari 17 menit.</p></div>\n",
       "\t\t\t\t\t</li>\n",
       "\t\t\t\t</ul>\n",
       "\t\t\t\t<br class=\"v5_0\"/>\n",
       "\t\t\t\t</div><div class=\"clear\"></div>\n",
       "\t\t\t\t<br class=\"clear\"/>\n",
       "\t\t\t\t<br class=\"clear\"/><div class=\"article-index-box\">\n",
       "\t\t\t\t<ul>\n",
       "\t\t\t\t\t<li class=\"artbox-img\"><a href=\"/berita/edan-mobil-balap-bersejarah-dijatuhkan-dari-ketinggian-10-meter.html\"><img alt=\"Edan! Mobil Balap Bersejarah Dijatuhkan Dari Ketinggian 10 Meter!\" class=\"lazy_loaded pt5\" data-src=\"https://cdns.klimg.com/otosia.com/resized/300x150/p/headline/476x238/0000439897.jpg\" height=\"150\" src=\"https://cdns.klimg.com/otosia.com/i/a/1px_white.JPG\" width=\"300\"/></a></li>\n",
       "\t\t\t\t\t<li class=\"artbox-text\">\n",
       "\t\t\t\t\t   <h2><a href=\"/berita/edan-mobil-balap-bersejarah-dijatuhkan-dari-ketinggian-10-meter.html\">Edan! Mobil Balap Bersejarah Dijatuhkan Dari Ketinggian 10 Meter!</a></h2>\n",
       "\t\t\t\t\t   <span class=\"newsdetail-schedule\" style=\"color:#808080;\">Selasa, 23 Mei 2000 14:30</span>\n",
       "\t\t\t\t\t   <br/>\n",
       "\t\t\t\t\t   <div class=\"entertainment-synopsis\"><p>Mobil yang dulu pernah mengantarkan gelar juara dunia 1976 pada James Hunt terjatuh dari ketinggian 10 meter.</p></div>\n",
       "\t\t\t\t\t</li>\n",
       "\t\t\t\t</ul>\n",
       "\t\t\t\t<br class=\"v5_0\"/>\n",
       "\t\t\t\t</div><div class=\"clear\"></div>\n",
       "\t\t\t\t<br class=\"clear\"/>\n",
       "\t\t\t\t<br class=\"clear\"/><div class=\"article-index-box\">\n",
       "\t\t\t\t<ul>\n",
       "\t\t\t\t\t<li class=\"artbox-img\"><a href=\"/berita/rio-haryanto-berharap-manor-racing-pertahankan-dirinya.html\"><img alt=\"Rio Haryanto Berharap Manor Racing Pertahankan Dirinya\" class=\"lazy_loaded pt5\" data-src=\"https://cdns.klimg.com/otosia.com/resized/300x150/p/headline/476x238/0000439884.jpg\" height=\"150\" src=\"https://cdns.klimg.com/otosia.com/i/a/1px_white.JPG\" width=\"300\"/></a></li>\n",
       "\t\t\t\t\t<li class=\"artbox-text\">\n",
       "\t\t\t\t\t   <h2><a href=\"/berita/rio-haryanto-berharap-manor-racing-pertahankan-dirinya.html\">Rio Haryanto Berharap Manor Racing Pertahankan Dirinya</a></h2>\n",
       "\t\t\t\t\t   <span class=\"newsdetail-schedule\" style=\"color:#808080;\">Selasa, 23 Mei 2000 11:15</span>\n",
       "\t\t\t\t\t   <br/>\n",
       "\t\t\t\t\t   <div class=\"entertainment-synopsis\"><p>Dengan masalah pendanaan yang agak terhambat, Rio haryanto terancam digantikan di tengah musim.</p></div>\n",
       "\t\t\t\t\t</li>\n",
       "\t\t\t\t</ul>\n",
       "\t\t\t\t<br class=\"v5_0\"/>\n",
       "\t\t\t\t</div><div class=\"clear\"></div>\n",
       "\t\t\t\t<br class=\"clear\"/>\n",
       "\t\t\t\t<br class=\"clear\"/>\n",
       "\t\t\t\t\t\t   <br/>\n",
       "\t\t\t\t\t\t   <!--PAGING-->\n",
       "\t\t\t\t\t\t   <div class=\"tac mb15 mt15 pgCtnD\">\n",
       "\t\t\t\t\t\t\t   <div class=\"mphold-g posr\"><a class=\"mpprev\" href=\"index3213.html\"><span>PREV</span></a> <a class=\"mplink\" href=\"index3208.html\">3208</a> <a class=\"mplink\" href=\"index3209.html\">3209</a> <a class=\"mplink\" href=\"index3210.html\">3210</a> <a class=\"mplink\" href=\"index3211.html\">3211</a> <a class=\"mplink\" href=\"index3212.html\">3212</a> <a class=\"mplink\" href=\"index3213.html\">3213</a> <span class=\"mpnolink\">3214</span> <a class=\"mplink\" href=\"index3215.html\">3215</a> <a class=\"mpnext\" href=\"index3215.html\"><span>NEXT</span></a></div>\n",
       "\t\t\t\t\t\t   </div>\n",
       "\t\t\t\t\t\t   <!--ENDOFPAGING-->\n",
       "\t\t\t\t\t </div>"
      ]
     },
     "execution_count": 82,
     "metadata": {},
     "output_type": "execute_result"
    }
   ],
   "source": [
    "el_page = soup.find('div', attrs={\"id\":\"mobart-box-big\"})\n",
    "el_page"
   ]
  },
  {
   "cell_type": "code",
   "execution_count": 68,
   "metadata": {},
   "outputs": [
    {
     "data": {
      "text/plain": [
       "[<h2><a href=\"/berita/lewis-hamilton-rajai-pembukaan-musim-di-australia-eyobhry.html\">Lewis Hamilton Rajai Pembukaan Musim di Australia</a></h2>,\n",
       " <h2><a href=\"/berita/singapura-larang-iklan-tembakau-di-grand-prix-ugiomh8.html\">Singapura Larang Iklan Tembakau di Grand Prix</a></h2>,\n",
       " <h2><a href=\"/berita/hamilton-awali-musim-baru-f1-dengan-raih-pole-05ti3ec.html\">Hamilton Awali Musim Baru F1 Dengan Raih 'Pole'</a></h2>,\n",
       " <h2><a href=\"/berita/bmw-sauber-teratas-dalam-sesi-latihan-bebas-wbupzqz.html\">BMW-Sauber Teratas Dalam Sesi Latihan Bebas</a></h2>,\n",
       " <h2><a href=\"/berita/hasil-latihan-sesi-kedua-f1-gp-australia-sftblpv.html\">Hasil Latihan Sesi Kedua F1 GP Australia</a></h2>,\n",
       " <h2><a href=\"/berita/subhan-aksa-dan-navigatornya-jadi-duta-aids-6xvka9x.html\">Subhan Aksa dan Navigatornya Jadi Duta AIDS</a></h2>,\n",
       " <h2><a href=\"/berita/kimi-raikkonen-tercepat-dalam-latihan-ic4tidp.html\">Kimi Raikkonen Tercepat Dalam Latihan</a></h2>,\n",
       " <h2><a href=\"/berita/percobaan-hafid-test-1.html\">Percobaan Hafid Test 1</a></h2>,\n",
       " <h2><a href=\"/berita/what-is-lorem-ipsum.html\">What Is Lorem Ipsum</a></h2>,\n",
       " <h2><a href=\"/berita/bernie-samakan-ferrari-dengan-rolling-stones.html\">Bernie Samakan Ferrari Dengan Rolling Stones</a></h2>,\n",
       " <h2><a href=\"/berita/london-ikuti-langkah-paris-mulai-larang-motor-tua-pada-2017.html\">London Ikuti Langkah Paris, Mulai Larang Motor Tua Pada 2017</a></h2>,\n",
       " <h2><a href=\"/berita/angan-angan-hijau-porsche-terwujud-di-cayenne-s-e-hybrid.html\">Angan-Angan Hijau Porsche Terwujud di Cayenne S E-Hybrid</a></h2>,\n",
       " <h2><a href=\"/berita/hadapi-lintasan-gunung-rekor-lintasan-paling-berbahaya-akhirnya-ditaklukkan.html\">Hadapi Lintasan Gunung, Rekor Lintasan Paling Berbahaya Akhirnya Ditaklukkan</a></h2>,\n",
       " <h2><a href=\"/berita/edan-mobil-balap-bersejarah-dijatuhkan-dari-ketinggian-10-meter.html\">Edan! Mobil Balap Bersejarah Dijatuhkan Dari Ketinggian 10 Meter!</a></h2>,\n",
       " <h2><a href=\"/berita/rio-haryanto-berharap-manor-racing-pertahankan-dirinya.html\">Rio Haryanto Berharap Manor Racing Pertahankan Dirinya</a></h2>]"
      ]
     },
     "execution_count": 68,
     "metadata": {},
     "output_type": "execute_result"
    }
   ],
   "source": [
    "el_page.findAll('h2')"
   ]
  },
  {
   "cell_type": "code",
   "execution_count": 83,
   "metadata": {},
   "outputs": [
    {
     "data": {
      "text/plain": [
       "3214"
      ]
     },
     "execution_count": 83,
     "metadata": {},
     "output_type": "execute_result"
    }
   ],
   "source": [
    "active_page = int(el_page.find('span', class_=\"mpnolink\").text)\n",
    "active_page"
   ]
  },
  {
   "cell_type": "code",
   "execution_count": 53,
   "metadata": {},
   "outputs": [],
   "source": [
    "el_page = soup.find('div', class_=\"simple-pagination__container\")\n",
    "if el_page:\n",
    "    last_page = el_page.findAll('a')[-2].text\n",
    "    active_page = el_page.find('span', class_=\"mpnolink\").text\n",
    "\n",
    "    if last_page > active_page:\n",
    "        time.sleep(10)\n",
    "        links = self.getIndeksLink(links, int(active_page)+1, cat, date)\n",
    "        "
   ]
  },
  {
   "cell_type": "code",
   "execution_count": 84,
   "metadata": {},
   "outputs": [
    {
     "data": {
      "text/plain": [
       "'3215'"
      ]
     },
     "execution_count": 84,
     "metadata": {},
     "output_type": "execute_result"
    }
   ],
   "source": [
    "last_page = el_page.findAll('a')[-2].text\n",
    "last_page"
   ]
  },
  {
   "cell_type": "code",
   "execution_count": null,
   "metadata": {},
   "outputs": [],
   "source": []
  }
 ],
 "metadata": {
  "kernelspec": {
   "display_name": "Python 3",
   "language": "python",
   "name": "python3"
  },
  "language_info": {
   "codemirror_mode": {
    "name": "ipython",
    "version": 3
   },
   "file_extension": ".py",
   "mimetype": "text/x-python",
   "name": "python",
   "nbconvert_exporter": "python",
   "pygments_lexer": "ipython3",
   "version": "3.6.4"
  }
 },
 "nbformat": 4,
 "nbformat_minor": 2
}
