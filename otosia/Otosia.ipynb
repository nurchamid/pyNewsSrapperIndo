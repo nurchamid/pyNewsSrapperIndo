{
 "cells": [
  {
   "cell_type": "code",
   "execution_count": 1,
   "metadata": {},
   "outputs": [],
   "source": [
    "from Otosia import Otosia #class news Scrapper\n",
    "from datetime import timedelta, date, datetime\n",
    "from IPython.display import clear_output"
   ]
  },
  {
   "cell_type": "code",
   "execution_count": null,
   "metadata": {},
   "outputs": [],
   "source": [
    "obj = Otosia()\n",
    "init_page = 796\n",
    "list_cat = [['berita'],['tips'],['lifestyle'],['selebriti'],['komunitas']]\n",
    "init_cat = list_cat[0:]"
   ]
  },
  {
   "cell_type": "code",
   "execution_count": null,
   "metadata": {
    "scrolled": false
   },
   "outputs": [],
   "source": [
    "for cat in init_cat:\n",
    "    clear_output()\n",
    "    print(cat[0])\n",
    "    obj.getAllBerita([], init_page, cat[0])\n",
    "    init_page = 1\n",
    "init_cat = list_cat"
   ]
  },
  {
   "cell_type": "code",
   "execution_count": null,
   "metadata": {},
   "outputs": [],
   "source": []
  }
 ],
 "metadata": {
  "kernelspec": {
   "display_name": "Python 3",
   "language": "python",
   "name": "python3"
  },
  "language_info": {
   "codemirror_mode": {
    "name": "ipython",
    "version": 3
   },
   "file_extension": ".py",
   "mimetype": "text/x-python",
   "name": "python",
   "nbconvert_exporter": "python",
   "pygments_lexer": "ipython3",
   "version": "3.6.4"
  }
 },
 "nbformat": 4,
 "nbformat_minor": 2
}
