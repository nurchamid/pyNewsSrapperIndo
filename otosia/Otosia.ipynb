{
 "cells": [
  {
   "cell_type": "code",
   "execution_count": 1,
   "metadata": {},
   "outputs": [],
   "source": [
    "from Otosia import Otosia #class news Scrapper\n",
    "import mysql.connector"
   ]
  },
  {
   "cell_type": "code",
   "execution_count": 2,
   "metadata": {},
   "outputs": [],
   "source": [
    "obj = Otosia()"
   ]
  },
  {
   "cell_type": "code",
   "execution_count": 3,
   "metadata": {},
   "outputs": [
    {
     "name": "stdout",
     "output_type": "stream",
     "text": [
      "page  1\n",
      "https://www.otosia.com/berita/index.html\n"
     ]
    }
   ],
   "source": [
    "links = obj.getAllBerita([], 1, 'berita')"
   ]
  },
  {
   "cell_type": "code",
   "execution_count": 4,
   "metadata": {},
   "outputs": [
    {
     "data": {
      "text/plain": [
       "[{'author': 'Ahmad Muzaki',\n",
       "  'category': 'Otomotif',\n",
       "  'comments': 0,\n",
       "  'content': 'Otosia.com - Mobil tipe keluarga memang sangat seru untuk dibahas, apalagi jenis mobil satu ini adalah mobil favorit sebagian konsumen Indonesia. Sebagian lagi jenis mobil ini bukan hanya masuk pada segmen mobil keluarga, tetapi juga masih pada kelas mobil LCGC.Pasar mobil LCGC sebenarnya sudah cukup sesak dalam persaingan dengan banyaknya pilihan mobil LCGC yang memberikan berbagai inovasi terbaru di era ini. Sehingga keadaan ini tak akan mudah untuk mobil-mobil tipe LCGC untuk mendominasi kelasnya.Daihatsu Sigra merupakan salah satu keluaran pabrikan produsen mobil Daihatsu dan merupakan mobil LCGC berkapasias 7 penumpang. Kehadiran Daihatsu Sigra terbukti sukses, karena pasar bisa menerima Daihatsu Sigra, bahkan bisa dibilang laris manis. Kondisi ini terbukti dengan penjualan Daihatsu Sigra yang terus meningkat. Apalagi Daihatsu Sigra sendiri berhasil menggeser mobil keluaran produsen mobil Daihatsu lainnya dalam urusan penjualan, yaitu mobil Daihatsu Xenia.Lalu, apa sebenarnya yang membuat Daihatsu Sigra menjadi primadona baru dalam kelas mobil keluarga dan mobil LCGC? Apakah hal ini berkaitan dengan desain, spesifikasi dan harga Daihatsu Sigra? Jika melirik desainnya sendiri sebenarnya Daihatsu Sigra cukup menarik. Hal ini disebabkan Daihatsu Sigra terbilang mini, tetapi bisa menampung 7 penumpang. Untuk mengenal lebih lanjut Daihatsu Sigra, simak ulasan berikut ini Otolovers.Harga Mobil Daihatsu Sigra Agustus 2018Harga mobil Daihatsu Sigra pada bulan Agustus 2018 masih sama dengan harga mobil Daihatsu Sigra pada bulan Juli 2018 lalu. Masih belum ada perubahan soal harga mobil Daihatsu Sigra.Harga Mobil Daihatsu Sigra Juli 2018Berikut ini harga mobil Daihatsu Sigra pada bulan Juli 2018 lalu.Interior Daihatsu SigraInterior sebuah mobil memang penting untuk selalu diperhatikan, mengingat interior ini berkaitan dengan kenyamanan dalam berkendara. Interior Daihatsu Sigra bukan hanya memberikan nyaman, tetapi juga akan memberi kesan mewah. Mengapa Daihatsu Sigra bisa demikian? Hal ini karena Daihatsu Sigra telah dilengkapi persneling in-dash dan armrest. Kegunaan dari fitur ini sendiri yang paling utama adalah memberikan kesan luas pada kabin Daihatsu Sigra.Berbicara soal nyaman dan luas pada Daihatsu Sigra tentu cukup mengherankan, karena dari sisi desain sendiri Daihatsu Sigra terbilang mini, tetapi sisi bagasi dan kabin cukup lapang. Sehingga Daihatsu Sigra bisa membawa barang bawaan cukup banyak ketika bepergian ke manapun.Alasan lainnya mengapa Daihatsu Sigra ini menjadi salah satu primadona mobil LCGC dan mobil keluarga adalah faktor kapasitas penumpang. Daihatsu Sigra sendiri bisa mengangkut penumpang sebanyak 7 orang.Dikatakan mewah karena Daihatsu Sigradisematkan 2 warna pada dashboard. Warna dashboard ini sendiri memberikan kesan stylish, mewah, dan modern pada Daihatsu Sigra. Tidak hanya itu, Daihatsu Sigra juga telah menggunakan fitur digital yang membuat pengendara makin nyaman. Fitur digital pada Daihatsu Sigra mempunyai 5 fungsi, yaitu AVG, Range, Odo Meter, dan clock.Eksterior Daihatsu SigraInterior Daihatsu Sigra sangat stylish dan modern, lalu bagaimana dengan eksterior Daihatsu Sigra tersebut? Daihatsu Sigra sendiri memiliki desain eksterior stylish dan modern karena adanya Multireflector Headlamp yang menambah kesan stylish tersebut. Selain itu juga Daihatsu Sigra ditunjang dengan Fog lamp yang berdesain asimetris memanjang yang dilapisi chrome.Pada dasarnya bukan hanya stylish dan modern, eksterior Daihatsu Sigra juga nyaman. Karenakan adanya desain door handle model grips yang berfungsi saat membuka pintu Daihatsu Sigra agar nyaman dan mudah.Mesin Daihatsu SigraDaihatsu Sigra sendiri sudah ditopang dengan mesin bertipe 1 KR-VE, DOHC VVT-i berkapasitas 998cc, mesin ini hanya untuk tipe Daihatsu Sigra D dan M. Dari mesin ini Daihatsu Sigra D dan M bisa menghasilkan tenaga maksimum sebesar 67 PS pada 6.000 rpm dengan torsi maksimal mencapai 89 Kg.m pada 4.400 rpm.Sedangkan mesin yang digunakan untuk tipe Daihatsu Sigra X dan R bertipe 3NR-VE, DOHC Dual VVT-i dengan kapasitas mesinnya sendiri sebesar 1.197cc. Mesin dari tipe Daihatsu Sigra X dan R ini bisa menghasilkan tenaga maksimal sebesar 88 PS pada 6.000 rpm, sedangkan torsi puncaknya mencapai 108 Kg.m pada 4.200 rpm. Harga Mobil Daihatsu SigraMobil Daihatsu Sigra yang berkapasitas 7 penumpang memang cukup dicari konsumen. Hal ini sebenarnya sudah bisa diperkirakan karena Toyota Calya yang merupakan pengembangan bersama dengan Daihatsu Sigra juga laris di pasaran. Bisa dibilang mobil LCGC berkapasitas 7 penumpang banyak peminat di Indonesia. Penyebabnya karena mobil LCGC terkenal dengan mobil yang ramah lingkungan dan ramah kantong atau mempunyai harga Daihatsu Sigra yang murah. Harga Daihatsu Sigra sendiri berkisar antara Rp100 juta sampai Rp150 juta.Karena penjualan yang cukup tinggi dari mobil Daihatsu Sigra membuat pabrikan Daihatsu sampai menjaga stok mobil keluarannya ini yang beredar di dealer. Hal ini terjadi ketika penjualan mobil Daihatsu Sigra pada waktu Desember ke Januari lalu. Lebih jelasnya Otolovers bisa mengeceknya di sini.Harga dan Spesifikasi Daihatsu SigraMenarik memang jika membahas mobil murah dan mempunyai spesifikasi yang cukup mumpuni. Terlebih lagi mobil yang merupakan kebutuhan masyarakat Indonesia. Sama halnya dengan Daihatsu Sigra yang mempunyai harga Daihatsu Sigra yang cukup murah dan spesifikasi Daihatsu Sigra yang tidak bisa dianggap remeh.Pertanyaannya tentu adalah dengan harga Daihatsu Sigra yang terbilang sangat murah, bagaimana spesifikasinya? Mumpuni atau tidak sebagai mobil LCGC? Untuk menjawab pertanyaan itu, simak spesifikasi Daihatsu Sigra berikut ini.Harga Baru Daihatsu SigraHarga Daihatsu Sigra baru memang cukup murah, bisa dibilang sangat murah. Karena harga Daihatsu Sigra tipe terendah saja Rp109.9 juta. Sangat murah bukan! Dari segi spesifikasi juga cukup mumpuni, tidak terlalu buruk sebagai mobil ramah lingkungan dan ramah kantong.Menyikapi spesifikasi Daihatsu Sigra, bagaimana jika Daihatsu Sigra membawa beban berat, seperti orang dewasa?. Pengaruh dari hal seperti ini pasti ada di mobil Daihatsu Sigra. Terlebih lagi dengan berat orang dewasa sebanyak 7 orang pasti beban yang harus dibawa sangat berat. Efeknya tentu pada sisi suspensi dan ban. Ingin tahu akibat dari kapasitas yang berlebihan dari mobil Daihatsu Sigra, cek di sini.Harga Daihatsu Sigra 2017Sejarahnya sendiri Daihatsu Sigra mulai diperkenalkan di Indonesia pada tahun 2016. Selang waktu tersebut tentu kondisi bekas dari mobil Sigra sudah banyak. Dan pastinya Daihatsu Sigra akan dicari mobil yang mempunyai tahun 2017. Hal ini wajar karena tahun 2017 masih muda berumur sekitar 1 tahun dan kondisi mobil masih cukup baik.Dengan kondisi bekas Daihatsu Sigra 2017 tentu harga Daihatsu Sigra yang ditawarkan bisa sangat murah. Tetapi mobil ini sendiri juga memiliki pesaingnya, yaitu Toyota Calya. Lalu lebih baik mana antara kedua mobil ini, karena dari segi harga mobil sampai spesifikasi tidak jauh berbeda. Karena mobil Daihatsu Sigra dan Toyota Calya merupakan pengembangan bersama dua pabrikan Daihatsu dan Toyota. Untuk mengetahui spesifikasi keduanya cek di sini.Harga Daihatsu Sigra MedanDaihatsu Sigra tentu cukup dicari oleh banyak kalangan, mulai dari perkotaan sampai pedesaan. Soal harga Daihatsu Sigra memang murah, tapi sebenarnya mobil satu ini dipilih bukan soal itu, melainkan sesuai kebutuhan konsumen. Apalagi kota besar seperti Medan banyak konsumen di sana yang memerlukan mobil murah yang dapat memuat banyak penumpang.Lalu berapa harga Daihatsu Sigra di kota Medan? Memang setiap daerah memiliki harga Daihatsu Sigra yang berbeda-beda. Terlebih lagi perbedaan tersebut terkadang cukup jauh. Untuk harga Daihatsu Sigra Medan sekitar Rp119 juta sampai Rp150 juta. Berikut ini daftar harga Daihatsu Sigra Medan.Harga Daihatsu Sigra SurabayaSebagai pusat dari Provinsi Jawa Timur kebutuhan akan mobil Daihatsu Sigra di Surabaya cukup banyak. Bukan hanya menjawab kebutuhan konsumen di kota Surabaya saja, tetapi Surabaya juga merupakan pasar potensial otomotif mobil keluarga berkapasitas 7 penumpang.Harga Daihatsu Sigra Surabaya tentu banyak dicari konsumen di sana. Hal ini bukan hanya untuk memudahkan mereka dalam menentukan mobil apa yang akan dibeli, tetapi juga bisa membandingkan antara harga dan spesifikasi, apakah sebanding? Tenang saja Otolovers, kami sudah sediakan daftar harga Daihatsu Sigra Surabaya terbaru. Berikut ini harga Daihatsu Sigra tersebut.Harga Daihatsu Sigra BandungSedangkan di Provinsi Jawa Barat yang cukup potensial pasar otomotif mobilnya adalah Bandung. Kebutuhan mobil Daihatsu Sigra di kota Bandung tentu juga potensial. Informasi tentang harga Daihatsu Sigra juga sangat dibutuhkan konsumen di kota Bandung. Kira-kira berapa harga Daihatsu Sigra di kota Bandung ini? Berikut ini daftar harga Daihatsu Sigra Bandung. Harga Daihatsu Sigra BekasSebagai mobil yang cukup laris di pasaran Indonesia tentu Daihatsu Sigra bekas cukup dicari konsumen. Mengingat harga Daihatsu Sigra baru sangat murah sekitar Rp109 jutaan. Lalu berapa harga Daihatsu Sigra bekas? Untuk memudahkan Otolovers, kami sudah sediakan di bawah ini harga Daihatsu Sigra bekas yang berhasil dihimpun dari Jual Beli Mobil Otosia.com. Berikut ini harga Daihatsu Sigra bekas tersebut.Harga Kredit Daihatsu SigraTrend akan opsi beli mobil secara kredit memang tengah terjadi. Soalnya dengan harga kredit Daihatsu Sigra konsumen bisa mendapatkan kemudahan. Hal itu adalah mudah dalam membawa pulang Daihatsu Sigra, pasalnya konsumen hanya butuh membayar uang muka dan angsuran pertama saja. Dengan kredit ini pula konsumen Daihatsu Sigra jadi punya kewajiban, yatiu membayar angsuran setiap bulannya. Berikut ini kami sajikan simulasi kredit harga Daihatsu Sigra.Daftar Harga Daihatsu SigraMencari referensi daftar harga Daihatsu Sigra menjadi kebutuhan penting bagi calon konsumen mobil ini. Mengetahui daftar harga Daihatsu Sigra dan budget yang dimiliki akan mempermudah konsumen untuk memilih tipe apa yang akan dibeli dari mobil Daihatsu Sigra. Kisaran harga Daihatsu Sigra sendiri sekitar Rp109 juta hingga Rp150 juta. Berikut ini daftar harga Daihatsu Sigra terbaru di Bulan Juli 2018. Video Mobil Daihatsu Sigra(kpl/ahm) ',\n",
       "  'id': 1532760401,\n",
       "  'image': 'https://cdns.klimg.com/otosia.com/p/headline/100x100/0000462532.jpg',\n",
       "  'pubdate': '2018-07-28 13:45:00',\n",
       "  'source': 'otosia.com',\n",
       "  'subcategory': 'BERITA',\n",
       "  'tags': 'Daihatsu Sigra,Harga Mobil Baru',\n",
       "  'title': 'Harga Mobil Daihatsu Sigra Seri 2017 Kredit, Bekas & Spesifikasi Bulan Agustus 2018',\n",
       "  'url': 'https://www.otosia.com/berita/harga-mobil-daihatsu-sigra-seri-2017-kredit-bekas--spesifikasi-kln.html'},\n",
       " {'author': 'Cornelius Candra',\n",
       "  'category': 'Otomotif',\n",
       "  'comments': 0,\n",
       "  'content': 'Otosia.com - Mantan punggawa tim nasional Perancis sekaligus pesepak bola legendaris, Thierry Henry diangkat sebagai brand ambassadot Renault.Sebenarnya, kolaborasi antara Henry dan Renault sudah dimulai sejak tahun 2002 silam. Kala itu, Henry yang masih berseragam Arsenal menjadi bintang iklan Renault.Kini, mantan pesepakbola dan pabrikan asal Perancis tersebut kembali berkolaborasi dalam hashtag #withyouallteway. Tujuannya tentu adalah memperbesar pemasaran berbagai model Renault dengan menyentuh sektor penggemar sepak bola di Inggris.\"Rasanya luar biasa bisa berkolaborasi lagi dengan Renault, terlebih ketika saya kembali ke tim pertama di karis sepak bola saya. Setelah bermain di banyak stadion di seluruh dunia, saya tahu keinginan para penggemar untuk kehidupan dan olahraga favorit mereka. Saya tidak sabar untuk membantu Renault untuk merayakan hasrat ini,\" ujar Henry dalam Carscoops.com.Sementara itu, bos Renault Inggris, Vincent Tourette menyatakan kegembiraannya dengan bergabungnya Henry dalam Renault. Ia pun mengatakan bahwa sepakbola mampu memberikan berbagai hal positif bagi para penikmatnya.(kpl/crn) ',\n",
       "  'id': 1533705412,\n",
       "  'image': 'https://cdns.klimg.com/otosia.com/p/headline/100x100/0000462633.jpg',\n",
       "  'pubdate': '2018-08-08 12:15:00',\n",
       "  'source': 'otosia.com',\n",
       "  'subcategory': 'BERITA',\n",
       "  'tags': 'Lifestyle,Otomotif Selebriti',\n",
       "  'title': 'Sesama Berdarah Perancis, Thierry Henry Diangkat Jadi Brand Ambassador Renault',\n",
       "  'url': 'https://www.otosia.com/berita/sesama-berdarah-perancis-thierry-henry-diangkat-jadi-brand-ambassador-renault.html'},\n",
       " {'author': 'Ahmad Muzaki',\n",
       "  'category': 'Otomotif',\n",
       "  'comments': 0,\n",
       "  'content': 'Otosia.com - Kehadiran Nmax yang dikeluarkan pabrikan Yamaha terbilang cukup sukses. Pasalnya Yamaha Nmax telah mampu mendongkrak penjualan motor Yamaha di segmen matik. Dan yang menarik dari Yamaha Nmax adalah harga yamaha Nmax yang terbilang cukup kompetitif, serta mampu bersaing dengan pesaing-pesaingnya.Yamaha Nmax jadi tulang punggung Yamaha dalam penjualan di segmen matik, pertama karena harga Yamaha Nmax yang ditawarkan cukup menarik. Yang kedua adalah karena dengan harga Yamaha Nmax tersebut pembeli sudah bisa memboyong motor yang memiliki desain unik khas matik bongsor.Selain itu, dengan harga Yamaha Nmax tersebut pula juga terbilang murah. Pasalnya harga Yamaha Nmax hampir sama dengan motor naked, seperti Yamaha Vixion. Tak heran Apabila motor Yamaha Nmax sudah digandurngi oleh banyak kalangan saat pertama diluncurkan.Yamaha Nmax mempunyai dua tipe yang ditawarkan, yaitu ABS dan non ABS. Setiap tipe tentunya memiliki harga Yamaha Nmax yang berbeda-beda pula. Berikut ini review, spesifikasi, harga Yamaha Nmax, harga Yamaha Nmax bekas, Simulasi kredit, dan Video Yamaha Nmax.Harga Yamaha Nmax Juli 2018Yamaha Nmax mempunyai dua tipe yang dibedakan dari sistem pengereman, ada sistem standard dan ABS. Untuk harga bulan Juli masih sama dengan harga bulan Juni kemarin. Berikut harga Yamaha Nmax terbaru Juli 2018.Harga Yamaha Nmax Juni 2018Desain Yamaha NmaxBerbicara tentang desain dari Yamaha Nmax memang cukup menarik. Pasalnya Yamaha Nmax mempunyai desain khas matik bongsor yang masih jarang ada di Indonesia. Hal ini dikarenakan desain Yamaha Nmax serupa dengan skutik eropa yang didesain gambot modern.Pada tahun 2018 ini Yamaha Nmax mempunyai warna baru yang lebih modern dibandingkan dengan warna-warna sebelumnya. Warna dari Yamaha Nmax sebelumnya adalah merah doff (matte), grey doff, hitam dan putih metalik. Sedangkan warna baru yang diusung pada tahun 2018 ini adalah biru metallik, sedangkan warna lainnya hitam, putih, dan grey hanya berganti skema.Perubahan skema warna ini sendiri pada dasarnya merupakan trik yang dilakukan pabrikan untuk memberikan penyegaran pada produknya. Sehingga, kesan motor tersebut terasa baru dan memiliki gairah lagi di pasar. Sampai saat ini kebanyakan, apabila ada warna baru yang diusung pastinya juga ditopang dengan pembenahan yang dilakukan pada sektor lainnya. Kondisi ini juga terdapat pada Yamaha Nmax.Dimensi Yamaha NmaxMotor keluaran pabrikan Yamaha satu ini memang sangat cocok untuk masyarakat Indonesia, menapa demikian? Hal ini terkait dengan minat touring atau perjalanan jauh dengan motor yang masih sering dilakukan oleh komunitas atau perorangan.Dengan desain gambot ala motor besar, Yamaha Nmax pasti sangat nyaman saat diguanakan berkendara. Hal ini bisa dilihat dari dimensi Yamaha Nmax, panjangnya 1.955 mm, lebar 740 mm, dan tinggi 1.115 mm. Sedangkan untuk sumbu roda belakang dan depan 1.350 mm dan jarak ke tanah 135 mm. Agar motor Yamaha Nmax nyaman digunakan tinggi tempat duduknya 765 mm dan dengan berat 127 kg.Bagaimana otolovers, sangat cocok bukan Yamaha Nmax untuk touirng? Dengan dimensi sangat nyaman dan harga Yamaha Nmax yang cukup murah, sudah jelas bahwa motor Yamaha Nmax akan digandrungi masyarakat Indonesia.Suspensi Yamaha NmaxNyaman saat berkendara tidak hanya diukur dari dimensi, tetapi juga diukur berdasarkan suspensi yang ada pada Yamaha Nmax. Karena pengaruh suspensi pada sebuah kendaraan sangat penting. Apalagi suspensi ini berperan juga dalam pengendalian motor Yamaha Nmax yang terbilang didesain bongsor.Dengan suspensi sokbreaker yang lebih sporty, Yamaha Nmax mampu berjalan lebih lincah. Memang sepatutnya motor Yamha Nmax dengan desain gambot ini didukung dengan suspensi terbaik. Pasalnya motor bongsor apabila memilliki suspensi yang buruk sudah jelas apa yang akan terjadi. Bukan hanya tidak nyaman untuk penumpang, tetapi juga akan sulit untuk bermanuver.Mesin Yamaha NmaxDalam membeli sebuah motor yang selalu menjadi perhatian utama adalah mesin. Hal ini dikarenakan perbandingan mesin dengan motor lainnya sangat berpengaruh dalam keputusan membeli atau tidak. Jika melihat dari desain yang gambot, tentu Yamaha Nmax memiliki mesin yang kurang mumpuni? Apakah benar begitu?Nyatanya tidak, dengan mesin berkapasitas 155cc yang diusung membuat mesin Yamaha Nmax cukup menjanjikan. Ditambah dengan teknologi Blue Core dan Variable Valve Actuation membuat performa mesin semakin mantap, serta bertenaga. Tidak hanya bertenaga Yamaha Nmax juga irit konsumsi bahan bakar.Fitur Yamaha NmaxFitur utama dari Yamaha Nmax adalah panel instrument. Fitur satu ini pada 2018 mendapatkan penyegaran yang cukup berarti. Dikarenakan LCD pada panel instrument Yamaha Nmax disegarkan dengan desain kotak yang sebelumnya didesain bulat. Hal ini membuat tampilan Yamaha Nmax semakin modern dan mewah.Tidak hanya pada panel instrument penyegaran lainnya juga ada pada jok Yamaha Nmax. Penyegaran tersebut adalah penggunaan material kulit kombinasi. Sehingga ada warna kontras yang terlihat pada jok Yamaha Nmax. Tambah nyaman dan kerenkan otolovers?Kelebihan Yamaha NmaxSecara umum Yamaha Nmax memiliki beberapa kelebihan yang bisa dirasakan pengendara. Pertama adalah desain yang khas dan mewah, serta harga Yamaha Nmax yang cukup kompetitif. Selain itu berkendara dengan Yamaha Nmax pasti nyaman dan membanggakan, pasalnya ada varian warna baru yang mewah dan modern dalam penyegaran Yamaha Nmax 2018.Panel instrument LCD lebih jelas terlihat dibandingkan dengan sebelum penyegaran Yamaha Nmax 2018. Dan yang membuat berkendara semakin nyaman adalah adanya sokbreaker baru pada penyegaran Yamaha Nmax 2018. Sehingga berkendara lebih lincah saat digunakan bermanuver.Kekurangan Yamaha NmaxWalaupun sudah mengelami penyegaran Yamaha Nmax 2018 masih tetap memiliki kekurangan. Hal ini berkaitan dengan bagasi Yamaha Nmax yang masih bisa ditingkatkan bentuk dan fleksibilitasnya. Meskipun ada warna baru pada Yamaha Nmax 2018, faktanya itu hanya aksentuasinya saja yang berubah.Sudah ada penyegarandi tahun 2018, Yamaha Nmax dari keluaran pertama hingga penyegaran ini tetap tidak ada fitur teknologi Auto Start Stop. Padahal fitur satu ini sudah lumrah digunakan motor pada era seperti ini.Spesifikasi Yamaha NmaxMotor dengan desain mewah, modern dan lainnya pun akan percuma jika mempunyai mesin yang tidak menjanjikan. Karena mesin mempunyai pengaruh besar untuk kenyamanan berkendara. Lalu bagaimana dengan Yamaha Nmax?Yamaha Nmax dengan harga Yamaha Nmax yang terbilang kompetitif nyatanya memiliki mesin yang sangat menjanjikan. Dengan kapasitas mesin 155cc bertipe Liquid cooled 4-stroke, SOHC ini dapat menghasilkan tenaga maksimal mencapai 11.1 kW pada 8.000 rpm. Sedangkan torsi yang bisa dihasilkan dari mesin Yamaha Nmax sebesar 14.4 Nm pada 6.000 rpm. Tidak hanya bertenaga Yamaha Nmax juga irit bahan bakar karena sudah menggunakan sistem bahan bakar Fuel Injection. Berikut ini adalah spesifikasi lengkap Yamaha Nmax 2018. Harga Yamaha NmaxSeperti yang sudah dijelaskan diawal tadi harga Yamaha Nmax cukup kompetitif. Karena mempunyai harga Yamaha Nmax diantara Rp25-30 juta. Untuk harga Yamaha Nmax non ABS sebesar Rp26.500.000, sedangkan harga Yamaha Nmax0 ABS sebesar Rp30.400.000.Harga Yamaha Nmax BekasHarga Yamaha Nmax1 Nmax bekas menjadi solusi yang tepat bagi para pemburu Yamaha Nmax yang tidak memiliki dana cukup. Dengan keadaan bekas tentu keadaan Yamaha Nmax tidak 100% normal. Walaupun keadaan 100% bisa saja terjadi, tetapi kecil kemungkinan. Karena dengan keadaan bekas, pembeli bisa menjadi tangan kedua atau lebih.Kisaran harga Yamaha Nmax ABS bekas Rp24.900.000, sedangkan harga Yamaha Nmax non ABS bekas Rp21.750.000. Harga Yamaha Nmax bekas ini tentunya bisa turun dan naik tergantung kondisi motor Yamaha Nmax dan daerah jualnya. Karena setiap daerah memiliki harga Yamaha Nmax bekas tertinggi dan terendah yang berbeda-beda.Simulasi Kredit Yamaha NmaxTidak ingin membeli Yamaha Nmax secara tunai atau kondisi bekas, otolovers bisa melakukan Yamaha Nmax2 Yamaha Nmax. Dengan simulasi kredit ini otolovers bisa mendapatkan harga Yamaha Nmax3 Nmax murah dalam artian dalam pembayaran pertama. Karena simulasi kredit Yamaha Nmax menuntut untuk selalu melakukan pembayaran angsuran setiap bulan. Berikut ini simulasi kredit Yamaha Nmax tipe non ABS.Video Yamaha Nmax(kpl/ahm) ',\n",
       "  'id': 1527653812,\n",
       "  'image': 'https://cdns.klimg.com/otosia.com/p/headline/100x100/0000461759.jpg',\n",
       "  'pubdate': '2018-05-30 11:15:00',\n",
       "  'source': 'otosia.com',\n",
       "  'subcategory': 'BERITA',\n",
       "  'tags': 'Yamaha NMAX',\n",
       "  'title': 'Harga Yamaha NMAX, Review, Spesifikasi dan Simulasi Kredit Terbaru Juli 2018',\n",
       "  'url': 'https://www.otosia.com/berita/harga-yamaha-nmax-review-spesifikasi-dan-simulasi-kredit-terbaru-mei-2018-kln.html'}]"
      ]
     },
     "execution_count": 4,
     "metadata": {},
     "output_type": "execute_result"
    }
   ],
   "source": [
    "links"
   ]
  },
  {
   "cell_type": "code",
   "execution_count": null,
   "metadata": {},
   "outputs": [],
   "source": [
    "con = mysql.connector.connect(user='root', password='',\n",
    "                              host='192.168.43.93',\n",
    "                              database='news_db')\n",
    "cursor = con.cursor()"
   ]
  },
  {
   "cell_type": "code",
   "execution_count": null,
   "metadata": {},
   "outputs": [],
   "source": [
    "for det in detail:\n",
    "    add_article = (\"INSERT INTO article\"\n",
    "              \"(post_id, author, pubdate, category, subcategory, content, comments, images, title, tags, url, source) \"\n",
    "              \"VALUES (%(id)s, %(author)s, %(pubdate)s, %(category)s, %(subcategory)s, %(content)s, %(comments)s, %(images)s, %(title)s, %(tags)s, %(url)s, %(source)s)\")\n",
    "    # Insert article\n",
    "    cursor.execute(add_article, det)\n",
    "    con.commit()\n",
    "\n",
    "cursor.close()"
   ]
  },
  {
   "cell_type": "code",
   "execution_count": null,
   "metadata": {},
   "outputs": [],
   "source": [
    "import pandas as pd"
   ]
  },
  {
   "cell_type": "code",
   "execution_count": null,
   "metadata": {},
   "outputs": [],
   "source": [
    "df1 = pd.read_sql(\"Select * from article\", con)"
   ]
  },
  {
   "cell_type": "code",
   "execution_count": null,
   "metadata": {},
   "outputs": [],
   "source": [
    "df1"
   ]
  },
  {
   "cell_type": "code",
   "execution_count": null,
   "metadata": {},
   "outputs": [],
   "source": [
    "con.close()"
   ]
  },
  {
   "cell_type": "code",
   "execution_count": null,
   "metadata": {},
   "outputs": [],
   "source": [
    "from datetime import datetime, timedelta\n",
    "import locale\n",
    "locale.setlocale(locale.LC_ALL, 'ID')"
   ]
  },
  {
   "cell_type": "code",
   "execution_count": null,
   "metadata": {},
   "outputs": [],
   "source": [
    "yes = datetime.now() - timedelta(1)"
   ]
  },
  {
   "cell_type": "code",
   "execution_count": null,
   "metadata": {},
   "outputs": [],
   "source": [
    "datetime.strftime(yes, '%a %Y-%b-%d %H:%M:%S')"
   ]
  }
 ],
 "metadata": {
  "kernelspec": {
   "display_name": "Python 3",
   "language": "python",
   "name": "python3"
  },
  "language_info": {
   "codemirror_mode": {
    "name": "ipython",
    "version": 3
   },
   "file_extension": ".py",
   "mimetype": "text/x-python",
   "name": "python",
   "nbconvert_exporter": "python",
   "pygments_lexer": "ipython3",
   "version": "3.6.4"
  }
 },
 "nbformat": 4,
 "nbformat_minor": 2
}
