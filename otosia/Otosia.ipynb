{
 "cells": [
  {
   "cell_type": "code",
   "execution_count": 1,
   "metadata": {},
   "outputs": [],
   "source": [
    "from Otosia import Otosia #class news Scrapper\n",
    "from datetime import timedelta, date, datetime\n",
    "from IPython.display import clear_output"
   ]
  },
  {
   "cell_type": "code",
   "execution_count": 14,
   "metadata": {},
   "outputs": [],
   "source": [
    "obj = Otosia()\n",
    "init_page = 476\n",
    "list_cat = [['berita'],['tips'],['lifestyle'],['selebriti'],['komunitas']]\n",
    "init_cat = list_cat[0:]"
   ]
  },
  {
   "cell_type": "code",
   "execution_count": null,
   "metadata": {
    "scrolled": false
   },
   "outputs": [
    {
     "name": "stdout",
     "output_type": "stream",
     "text": [
      "berita\n",
      "page  476\n",
      "https://www.otosia.com/berita/index476.html\n",
      "Insert berita  Serius Garap Mobil Penumpang, Mitsubishi Siapkan Perusahaan Baru\n",
      "salah2\n",
      "Insert berita  Patah Tulang Bahu, Pedrosa Absen Di MotoGP Jepang\n",
      "salah2\n",
      "Insert berita  Bikers Rusia Kepincut Yamaha N-Max\n",
      "salah2\n",
      "Insert berita  Moge Retro Modern Triumph Punya Mesin Lebih Kecil\n",
      "salah2\n",
      "Insert berita  Supercar Listrik Buatan China Mulai Tampakkan Diri\n",
      "salah2\n",
      "Insert berita  Jalani Tiga Seri Beruntun, Valentino Rossi Dilematis\n",
      "salah2\n",
      "Insert berita  Toyota dan Suzuki Umukan Kerjasama Dalam Bidang Teknologi\n",
      "salah2\n",
      "Insert berita  Yamaha YZF-R6 Model Terbaru Sudah Muncul\n",
      "salah2\n",
      "Insert berita  Garang! Ken Block Bikin Mustang Lawas Bertenaga 1.400 HP\n",
      "salah2\n",
      "Insert berita  Honda Luncurkan CR-V Generasi Teranyar\n",
      "salah2\n",
      "Insert berita  Inilah Dia BMW 5-Series Generasi Ketujuh, Semewah 7-Series\n",
      "salah2\n",
      "Insert berita  Vespa Petualang Rp 43,9 Juta Sapa Skuteris Indonesia\n",
      "salah2\n",
      "Insert berita  IMAS Ajak Dirt Biker Australia Sekaligus Jenguk Garut\n",
      "salah2\n"
     ]
    }
   ],
   "source": [
    "for cat in init_cat:\n",
    "    clear_output()\n",
    "    print(cat[0])\n",
    "    obj.getAllBerita([], init_page, cat[0])\n",
    "    init_page = 1\n",
    "init_cat = list_cat"
   ]
  },
  {
   "cell_type": "code",
   "execution_count": null,
   "metadata": {},
   "outputs": [],
   "source": []
  }
 ],
 "metadata": {
  "kernelspec": {
   "display_name": "Python 3",
   "language": "python",
   "name": "python3"
  },
  "language_info": {
   "codemirror_mode": {
    "name": "ipython",
    "version": 3
   },
   "file_extension": ".py",
   "mimetype": "text/x-python",
   "name": "python",
   "nbconvert_exporter": "python",
   "pygments_lexer": "ipython3",
   "version": "3.6.4"
  }
 },
 "nbformat": 4,
 "nbformat_minor": 2
}
