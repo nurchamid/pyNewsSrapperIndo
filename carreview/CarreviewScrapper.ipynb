{
 "cells": [
  {
   "cell_type": "code",
   "execution_count": 1,
   "metadata": {},
   "outputs": [],
   "source": [
    "from Carreview import Carreview\n",
    "import mysql.connector"
   ]
  },
  {
   "cell_type": "code",
   "execution_count": 2,
   "metadata": {},
   "outputs": [
    {
     "name": "stdout",
     "output_type": "stream",
     "text": [
      "page  1\n",
      "http://carreview.id/news?page=1\n",
      "SELECT count(*) FROM article WHERE url like 'http://carreview.id/news/evalube-luncurkan-helios-platium-dengan-spesifikasi-khusus-tipikal-jalanan-indonesia/12190'\n",
      "SELECT count(*) FROM article WHERE url like 'http://carreview.id/news/program-pembelian-menarik-honda-di-giias-2018-dari-dp-ringan-hingga-hadiah-motor-pcx/12189'\n",
      "SELECT count(*) FROM article WHERE url like 'http://carreview.id/news/berikut-ini-50-lokasi-dealer-dfsk-yang-siap-cover-garansi-7-tahun-konsumen/12188'\n",
      "SELECT count(*) FROM article WHERE url like 'http://carreview.id/news/berminat-memiliki-edisi-1st-anniversary-confero-ini-syaratnya/12187'\n",
      "SELECT count(*) FROM article WHERE url like 'http://carreview.id/news/all-new-jimny-1-5-dipastikan-dijual-di-indonesia-ini-dia-bocorannya/12185'\n",
      "SELECT count(*) FROM article WHERE url like 'http://carreview.id/news/mazda-percaya-diri-bawa-diesel-tiga-tahun-lagi/12184'\n",
      "SELECT count(*) FROM article WHERE url like 'http://carreview.id/news/toyota-hadirkan-mobil-konsep-ramah-lingkungan-di-giias-2018/12174'\n",
      "SELECT count(*) FROM article WHERE url like 'http://carreview.id/news/the-new-chevrolet-trailblazer-tampil-memikat-di-giias-2018-inilah-besaran-harganya/12183'\n",
      "SELECT count(*) FROM article WHERE url like 'http://carreview.id/news/datsun-go-live-lebih-bergaya-dengan-sentuhan-sporti-berkelir-kuning/12180'\n",
      "SELECT count(*) FROM article WHERE url like 'http://carreview.id/news/belum-bisa-dipesan-suzuki-tepis-rumor-penjualan-jimny-di-giias-2018/12179'\n",
      "SELECT count(*) FROM article WHERE url like 'http://carreview.id/news/penjualan-melempem-juke-ditendang-dari-lineup-nissan/12165'\n",
      "SELECT count(*) FROM article WHERE url like 'http://carreview.id/news/jajaran-mobil-konsep-dan-ramah-lingkungan-toyota-di-giias-2018/12175'\n",
      "SELECT count(*) FROM article WHERE url like 'http://carreview.id/news/mini-hadirkan-3-mobil-baru-di-giias-2018-ini-dia-keunggulannya/12177'\n",
      "SELECT count(*) FROM article WHERE url like 'http://carreview.id/news/penampakan-the-new-chevrolet-spark-terlihat-di-giias-2018-yuk-intip-fitur-dan-harganya/12178'\n",
      "SELECT count(*) FROM article WHERE url like 'http://carreview.id/news/sukses-masuk-10-besar-penjualan-mobil-di-indonesia-wuling-kini-goda-konsumen-dengan-suv-modern/12173'\n",
      "SELECT count(*) FROM article WHERE url like 'http://carreview.id/news/hyundai-luncurkan-model-h-1-santa-fe-anyar-di-giias-2018/12172'\n",
      "SELECT count(*) FROM article WHERE url like 'http://carreview.id/news/daihatsu-unjuk-gigi-di-giias-2018-dari-kendaraan-model-jepang-hingga-special-edition/12170'\n",
      "SELECT count(*) FROM article WHERE url like 'http://carreview.id/news/seperti-inilah-semangat-baru-mitsubishi-di-giias-2018/12169'\n",
      "SELECT count(*) FROM article WHERE url like 'http://carreview.id/news/dua-sosok-yang-mencuri-perhatian-di-booth-lexus/12168'\n",
      "SELECT count(*) FROM article WHERE url like 'http://carreview.id/news/autovision-akan-luncurkan-6-produk-baru-selama-di-giias-2018/12166'\n",
      "SELECT count(*) FROM article WHERE url like 'http://carreview.id/versus/resmi-diluncurkan-inilah-perkiraan-harga-all-new-honda-brio-satya-dan-rs/12171'\n",
      "SELECT count(*) FROM article WHERE url like 'http://carreview.id/news/penawaran-menarik-modal-rp-19-jutaan-bisa-bungkus-mitsubishi-xpander-matik-ke-rumah/12147'\n",
      "SELECT count(*) FROM article WHERE url like 'http://carreview.id/versus/seperti-inikah-wajah-penerus-toyota-land-cruiser-sosoknya-lebih-lebar-dan-tinggi/12146'\n",
      "SELECT count(*) FROM article WHERE url like 'http://carreview.id/versus/wuling-suv-530-mirip-cx-5-meluncur-tahun-depan-ini-dia-bocoran-spesifikasinya/12181'\n",
      "SELECT count(*) FROM article WHERE url like 'http://carreview.id/versus/wuling-confero-edisi-spesial-tampil-menawan-apa-saja-bedanya/12167'\n",
      "page  2\n",
      "http://carreview.id/news?page=2\n",
      "SELECT count(*) FROM article WHERE url like 'http://carreview.id/news/selain-jimny-suzuki-bawa-swift-hybrid-ke-giias-2018-intip-teknologinya/12164'\n",
      "SELECT count(*) FROM article WHERE url like 'http://carreview.id/news/nissan-besok-terra-resmi-meluncur-dengan-mesin-navara/12163'\n",
      "SELECT count(*) FROM article WHERE url like 'http://carreview.id/news/carro-siap-glontorkan-investasi-rp-1t-untuk-garap-pasar-mobil-bekas/12162'\n",
      "SELECT count(*) FROM article WHERE url like 'http://carreview.id/news/pemilik-mobil-honda-wajib-tahu-nomor-baru-customer-care-24-jam/12161'\n",
      "SELECT count(*) FROM article WHERE url like 'http://carreview.id/news/mengenal-lebih-jauh-mobil-hybrid-di-giias-2018/12156'\n",
      "SELECT count(*) FROM article WHERE url like 'http://carreview.id/news/all-new-jimny-dan-all-new-swift-dipastikan-melantai-di-giias-2018-ini-buktinya/12157'\n",
      "SELECT count(*) FROM article WHERE url like 'http://carreview.id/news/cylinder-deactivation-teknologi-efesiensi-bbm-yang-hadir-di-giias-2018/12155'\n",
      "SELECT count(*) FROM article WHERE url like 'http://carreview.id/news/beli-mobil-lexus-langsung-dapat-pelayanan-layaknya-sultan-berkat-hal-ini/12154'\n",
      "SELECT count(*) FROM article WHERE url like 'http://carreview.id/news/seberapa-hebat-microlino-mobil-listrik-bergaya-retro/12153'\n",
      "SELECT count(*) FROM article WHERE url like 'http://carreview.id/news/karena-masalah-sepele-mercedes-benz-recall-amg-g65-apa-sebabnya/12150'\n",
      "SELECT count(*) FROM article WHERE url like 'http://carreview.id/news/inilah-lima-merek-kaca-film-terbaik-di-indonesia/12151'\n",
      "SELECT count(*) FROM article WHERE url like 'http://carreview.id/news/yuk-intip-kejutan-datsun-di-giias-2018-go-special-edition/12149'\n",
      "SELECT count(*) FROM article WHERE url like 'http://carreview.id/news/ini-dia-bocoran-program-toyota-auto2000-selama-giias-2018-berhadiah-1-alphard-dan-8-c-hr/12148'\n",
      "SELECT count(*) FROM article WHERE url like 'http://carreview.id/news/penawaran-menarik-modal-rp-19-jutaan-bisa-bungkus-mitsubishi-xpander-matik-ke-rumah/12147'\n",
      "SELECT count(*) FROM article WHERE url like 'http://carreview.id/news/inilah-harga-tiket-dan-beberapa-kategori-yang-gratis-masuk-giias/12144'\n",
      "SELECT count(*) FROM article WHERE url like 'http://carreview.id/news/bukan-rekayasa-mitsubishi-xpander-kuat-tarik-beban-24-ton/12141'\n",
      "SELECT count(*) FROM article WHERE url like 'http://carreview.id/news/varian-terbaru-mitsubishi-xpander-dipastikan-lebih-merakyat-apa-sebabnya/12142'\n",
      "SELECT count(*) FROM article WHERE url like 'http://carreview.id/news/dipastikan-suzuki-all-new-jimny-tidak-hadir-dengan-versi-long-wheelbase-mengapa-demikian/12143'\n",
      "SELECT count(*) FROM article WHERE url like 'http://carreview.id/news/pesta-kegembiraan-xpander-berawal-dari-bekasi/12140'\n",
      "SELECT count(*) FROM article WHERE url like 'http://carreview.id/news/tebus-toyota-fortuner-vrz-matik-diesel-cuma-modal-rp-78-juta-begini-caranya/12139'\n",
      "SELECT count(*) FROM article WHERE url like 'http://carreview.id/versus/resmi-diluncurkan-inilah-perkiraan-harga-all-new-honda-brio-satya-dan-rs/12171'\n",
      "SELECT count(*) FROM article WHERE url like 'http://carreview.id/news/penawaran-menarik-modal-rp-19-jutaan-bisa-bungkus-mitsubishi-xpander-matik-ke-rumah/12147'\n",
      "SELECT count(*) FROM article WHERE url like 'http://carreview.id/versus/seperti-inikah-wajah-penerus-toyota-land-cruiser-sosoknya-lebih-lebar-dan-tinggi/12146'\n",
      "SELECT count(*) FROM article WHERE url like 'http://carreview.id/versus/wuling-suv-530-mirip-cx-5-meluncur-tahun-depan-ini-dia-bocoran-spesifikasinya/12181'\n",
      "SELECT count(*) FROM article WHERE url like 'http://carreview.id/versus/wuling-confero-edisi-spesial-tampil-menawan-apa-saja-bedanya/12167'\n",
      "page  3\n",
      "http://carreview.id/news?page=3\n",
      "SELECT count(*) FROM article WHERE url like 'http://carreview.id/news/tips-murah-merawat-kaca-spion-agar-tetap-bening/12137'\n",
      "SELECT count(*) FROM article WHERE url like 'http://carreview.id/news/bos-besar-ferrari-dan-fca-tutup-usia/12138'\n",
      "SELECT count(*) FROM article WHERE url like 'http://carreview.id/news/diskon-menarik-dapatkan-agya-g-m-t-hanya-modal-rp-14-juta/12135'\n",
      "SELECT count(*) FROM article WHERE url like 'http://carreview.id/news/resmi-dipasarkan-ini-dia-ciri-dan-harga-dua-supercar-limited-edition/12134'\n",
      "SELECT count(*) FROM article WHERE url like 'http://carreview.id/news/setelah-di-thailand-suzuki-all-new-jimny-dipastikan-hadir-di-indonesia-ini-dia-lokasinya/12133'\n",
      "SELECT count(*) FROM article WHERE url like 'http://carreview.id/news/penasaran-dengan-wujud-mobil-listrik-wulling-yang-segera-hadir-di-indonesia-inilah-jawabannya/12132'\n",
      "SELECT count(*) FROM article WHERE url like 'http://carreview.id/news/bmw-630i-luxury-gran-turismo-pionir-mobil-berjenis-sport-activity-vehicle-di-indonesia/12131'\n",
      "SELECT count(*) FROM article WHERE url like 'http://carreview.id/news/seperti-ini-rasanya-mengendarai-monster-bertorsi-2-800-nm/12129'\n",
      "SELECT count(*) FROM article WHERE url like 'http://carreview.id/news/mitsubishi-mirage-edisi-selanjutnya-akan-berjenis-crossover-yuk-intip-spesifikasinya/12130'\n",
      "SELECT count(*) FROM article WHERE url like 'http://carreview.id/news/meski-tergolong-baru-tetapi-civic-type-r-akan-muncul-versi-facelift/12128'\n",
      "SELECT count(*) FROM article WHERE url like 'http://carreview.id/news/daihatsu-terios-raih-good-design-indonesia-2018-dari-kementrian-perdagangan/12127'\n",
      "SELECT count(*) FROM article WHERE url like 'http://carreview.id/news/giias-2018-ajak-masyarakat-mengenal-lebih-dalam-teknologi-terdepan/12125'\n",
      "SELECT count(*) FROM article WHERE url like 'http://carreview.id/news/inilah-kunci-honda-civic-type-r-mampu-melibas-lintasan-estoril-sebagai-yang-tercepat/12124'\n",
      "SELECT count(*) FROM article WHERE url like 'http://carreview.id/news/intip-kecanggihan-dan-harga-honda-clarity-phev-yang-baru-diluncurkan/12123'\n",
      "SELECT count(*) FROM article WHERE url like 'http://carreview.id/news/indonesia-menjadi-negara-asia-tenggara-pertama-yang-disambangi-toyota-i-series-pada-giias-2018/12122'\n",
      "SELECT count(*) FROM article WHERE url like 'http://carreview.id/news/pemilik-daihatsu-modifikasi-di-batam-makassar-dan-manado-jangan-sampai-kelewatan-kontes-bergengsi-ini/12120'\n",
      "SELECT count(*) FROM article WHERE url like 'http://carreview.id/news/ring-of-java-x-country-beramal-sambil-menguji-ketangguhan-mobil-di-pesisir-laut-jawa/12119'\n",
      "SELECT count(*) FROM article WHERE url like 'http://carreview.id/news/mau-ke-giias-pakai-shuttle-bus-gratis-ini-dia-titik-lokasi-penjemputannya/12116'\n",
      "SELECT count(*) FROM article WHERE url like 'http://carreview.id/news/dfsk-berani-kasih-garansi-7-tahun-pabrikan-jepang-perlu-khawatir-meliputi-apa-saja-garansinya/12114'\n",
      "SELECT count(*) FROM article WHERE url like 'http://carreview.id/news/beli-tiket-giias-2018-secara-online-tidak-perlu-susah-susah-berhadiah-pula/12113'\n",
      "SELECT count(*) FROM article WHERE url like 'http://carreview.id/versus/resmi-diluncurkan-inilah-perkiraan-harga-all-new-honda-brio-satya-dan-rs/12171'\n",
      "SELECT count(*) FROM article WHERE url like 'http://carreview.id/news/penawaran-menarik-modal-rp-19-jutaan-bisa-bungkus-mitsubishi-xpander-matik-ke-rumah/12147'\n",
      "SELECT count(*) FROM article WHERE url like 'http://carreview.id/versus/seperti-inikah-wajah-penerus-toyota-land-cruiser-sosoknya-lebih-lebar-dan-tinggi/12146'\n",
      "SELECT count(*) FROM article WHERE url like 'http://carreview.id/versus/wuling-suv-530-mirip-cx-5-meluncur-tahun-depan-ini-dia-bocoran-spesifikasinya/12181'\n",
      "SELECT count(*) FROM article WHERE url like 'http://carreview.id/versus/wuling-confero-edisi-spesial-tampil-menawan-apa-saja-bedanya/12167'\n"
     ]
    },
    {
     "ename": "ValueError",
     "evalue": "empty separator",
     "output_type": "error",
     "traceback": [
      "\u001b[1;31m---------------------------------------------------------------------------\u001b[0m",
      "\u001b[1;31mValueError\u001b[0m                                Traceback (most recent call last)",
      "\u001b[1;32m<ipython-input-2-f16b7d7fa3f5>\u001b[0m in \u001b[0;36m<module>\u001b[1;34m()\u001b[0m\n\u001b[0;32m      1\u001b[0m \u001b[0mobj\u001b[0m \u001b[1;33m=\u001b[0m \u001b[0mCarreview\u001b[0m\u001b[1;33m(\u001b[0m\u001b[1;33m)\u001b[0m\u001b[1;33m\u001b[0m\u001b[0m\n\u001b[0;32m      2\u001b[0m \u001b[0mlinks\u001b[0m \u001b[1;33m=\u001b[0m \u001b[0mobj\u001b[0m\u001b[1;33m.\u001b[0m\u001b[0mgetIndeksLink\u001b[0m\u001b[1;33m(\u001b[0m\u001b[1;33m[\u001b[0m\u001b[1;33m]\u001b[0m\u001b[1;33m,\u001b[0m \u001b[1;36m1\u001b[0m\u001b[1;33m,\u001b[0m \u001b[1;34m'news'\u001b[0m\u001b[1;33m)\u001b[0m\u001b[1;33m\u001b[0m\u001b[0m\n\u001b[1;32m----> 3\u001b[1;33m \u001b[0mdetails\u001b[0m \u001b[1;33m=\u001b[0m \u001b[0mobj\u001b[0m\u001b[1;33m.\u001b[0m\u001b[0mgetDetailBerita\u001b[0m\u001b[1;33m(\u001b[0m\u001b[0mlinks\u001b[0m\u001b[1;33m[\u001b[0m\u001b[1;33m:\u001b[0m\u001b[1;36m2\u001b[0m\u001b[1;33m]\u001b[0m\u001b[1;33m)\u001b[0m\u001b[1;33m\u001b[0m\u001b[0m\n\u001b[0m",
      "\u001b[1;32mD:\\OJT FILES\\Scrapper\\pyNewsSrapperIndo\\carreview\\Carreview.py\u001b[0m in \u001b[0;36mgetDetailBerita\u001b[1;34m(self, links)\u001b[0m\n\u001b[0;32m     90\u001b[0m \u001b[1;33m\u001b[0m\u001b[0m\n\u001b[0;32m     91\u001b[0m             \u001b[1;31m#extract date\u001b[0m\u001b[1;33m\u001b[0m\u001b[1;33m\u001b[0m\u001b[0m\n\u001b[1;32m---> 92\u001b[1;33m             \u001b[0mpubdate\u001b[0m \u001b[1;33m=\u001b[0m \u001b[0marticle\u001b[0m\u001b[1;33m.\u001b[0m\u001b[0mfind\u001b[0m\u001b[1;33m(\u001b[0m\u001b[1;34m'li'\u001b[0m\u001b[1;33m,\u001b[0m \u001b[1;33m{\u001b[0m\u001b[1;34m'class'\u001b[0m\u001b[1;33m:\u001b[0m\u001b[1;34m'publish-date'\u001b[0m\u001b[1;33m}\u001b[0m\u001b[1;33m)\u001b[0m\u001b[1;33m.\u001b[0m\u001b[0mtext\u001b[0m\u001b[1;33m.\u001b[0m\u001b[0msplit\u001b[0m\u001b[1;33m(\u001b[0m\u001b[1;34m''\u001b[0m\u001b[1;33m)\u001b[0m\u001b[1;33m\u001b[0m\u001b[0m\n\u001b[0m\u001b[0;32m     93\u001b[0m             \u001b[0mpubdate\u001b[0m \u001b[1;33m=\u001b[0m \u001b[0mpubdate\u001b[0m\u001b[1;33m[\u001b[0m\u001b[1;36m1\u001b[0m\u001b[1;33m]\u001b[0m\u001b[1;33m.\u001b[0m\u001b[0mstrip\u001b[0m\u001b[1;33m(\u001b[0m\u001b[1;34m' \\t\\n\\r'\u001b[0m\u001b[1;33m)\u001b[0m\u001b[1;33m\u001b[0m\u001b[0m\n\u001b[0;32m     94\u001b[0m             \u001b[0marticles\u001b[0m\u001b[1;33m[\u001b[0m\u001b[1;34m'pubdate'\u001b[0m\u001b[1;33m]\u001b[0m \u001b[1;33m=\u001b[0m \u001b[0mdatetime\u001b[0m\u001b[1;33m.\u001b[0m\u001b[0mstrftime\u001b[0m\u001b[1;33m(\u001b[0m\u001b[0mdatetime\u001b[0m\u001b[1;33m.\u001b[0m\u001b[0mstrptime\u001b[0m\u001b[1;33m(\u001b[0m\u001b[0mpubdate\u001b[0m\u001b[1;33m,\u001b[0m \u001b[1;34m\"%d-%b-%Y %H:%M\"\u001b[0m\u001b[1;33m)\u001b[0m\u001b[1;33m,\u001b[0m \u001b[1;34m'%Y-%m-%d %H:%M:%S'\u001b[0m\u001b[1;33m)\u001b[0m\u001b[1;33m\u001b[0m\u001b[0m\n",
      "\u001b[1;31mValueError\u001b[0m: empty separator"
     ]
    }
   ],
   "source": [
    "obj = Carreview()\n",
    "links = obj.getIndeksLink([], 1, 'news')\n",
    "details = obj.getDetailBerita(links[:2])"
   ]
  },
  {
   "cell_type": "code",
   "execution_count": null,
   "metadata": {},
   "outputs": [],
   "source": [
    "links"
   ]
  },
  {
   "cell_type": "code",
   "execution_count": null,
   "metadata": {},
   "outputs": [],
   "source": [
    "obj = Carreview()\n",
    "links = obj.getIndeksLink([], 1, 'berita')\n",
    "details = obj.getDetailBerita(links)\n",
    "con = mysql.connector.connect(user='root', password='', host='127.0.0.1', database='news_db')\n",
    "cursor = con.cursor()\n",
    "for det in details:\n",
    "    add_article = (\"INSERT INTO article\"\n",
    "              \"(post_id, author, pubdate, category, subcategory, content, comments, images, title, tags, url, source) \"\n",
    "              \"VALUES (%(id)s, %(author)s, %(pubdate)s, %(category)s, %(subcategory)s, %(content)s, %(comments)s, %(images)s, %(title)s, %(tags)s, %(url)s, %(source)s)\")\n",
    "    # Insert article\n",
    "    cursor.execute(add_article, det)\n",
    "    con.commit()\n",
    "\n",
    "cursor.close()\n",
    "con.close()"
   ]
  }
 ],
 "metadata": {
  "kernelspec": {
   "display_name": "Python 3",
   "language": "python",
   "name": "python3"
  },
  "language_info": {
   "codemirror_mode": {
    "name": "ipython",
    "version": 3
   },
   "file_extension": ".py",
   "mimetype": "text/x-python",
   "name": "python",
   "nbconvert_exporter": "python",
   "pygments_lexer": "ipython3",
   "version": "3.6.6"
  }
 },
 "nbformat": 4,
 "nbformat_minor": 2
}
