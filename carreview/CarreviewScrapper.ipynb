{
 "cells": [
  {
   "cell_type": "code",
   "execution_count": 1,
   "metadata": {},
   "outputs": [],
   "source": [
    "from Carreview import Carreview"
   ]
  },
  {
   "cell_type": "code",
   "execution_count": 2,
   "metadata": {},
   "outputs": [],
   "source": [
    "obj = Carreview()"
   ]
  },
  {
   "cell_type": "code",
   "execution_count": 3,
   "metadata": {},
   "outputs": [
    {
     "name": "stdout",
     "output_type": "stream",
     "text": [
      "page  1\n",
      "http://carreview.id/news?page=1\n",
      "memasukkan berita id  1535709987\n",
      "Insert berita  Goodyear Assurance TripleMax 2 Lebih Kuat Berkat Hal Ini\n",
      "masuk\n",
      "memasukkan berita id  1535698905\n",
      "Insert berita  Mitsubishi Raih Peringkat Tertinggi Dalam Kepuasan Pelanggan, Ini Alasannya\n",
      "masuk\n",
      "memasukkan berita id  1535691688\n",
      "Insert berita  Bridgestone Alokasikan Dana CSR Untuk Korban Gempa Lombok\n",
      "masuk\n",
      "memasukkan berita id  1535680004\n",
      "Insert berita  Kevin Sanjaya 'Minion' Punya Sederet Mobil Keren, Ford Mustang Salah Satunya\n",
      "masuk\n",
      "memasukkan berita id  1535675495\n",
      "Insert berita  Suzuki Ertiga Akan Punya Pilihan Varian Crossover? Ini Bocorannya\n",
      "masuk\n",
      "memasukkan berita id  1535623293\n",
      "Insert berita  DFSK Glory 580 Jadi Mobil Terfavorit di Makassar, Apa Alasannya?\n",
      "masuk\n",
      "memasukkan berita id  1535614317\n",
      "Insert berita  Generasi Penerus Nissan Juke Dipastikan Hadir Beberapa Bulan Lagi, Yuk Intip Bocorannya\n",
      "masuk\n",
      "memasukkan berita id  1535590905\n",
      "Insert berita  Suzuki Kewalahan Penuhi Pesanan Jimny, Peluang Dijual di Indonesia Mengecil?\n",
      "masuk\n",
      "memasukkan berita id  1535587300\n",
      "Insert berita  GM Holden Bertransformasi Jadi Pusat Pengembangan EV dan Mobil Otonom\n",
      "masuk\n",
      "memasukkan berita id  1535502686\n",
      "Insert berita  Taksi Otonom Pertama di Dunia Sudah Beroperasi di Tokyo\n",
      "masuk\n",
      "memasukkan berita id  1535449606\n",
      "Insert berita  Mendukung Sosialisasi Euro4, Toyota Sediakan Alat Uji Emisi di Bengkel Resmi\n",
      "masuk\n",
      "memasukkan berita id  1535421711\n",
      "Insert berita  Kloningan Mobil Pengantin Pangeran Harry Segera Diproduksi Dalam Jumlah Terbatas\n",
      "masuk\n",
      "memasukkan berita id  1535421691\n",
      "Insert berita  DFSK Percaya Diri Melangkahkan Kaki Ke Sulawesi, Ini Buktinya\n",
      "masuk\n",
      "memasukkan berita id  1535353290\n",
      "Insert berita  Ratu Wushu Indonesia Diganjar Wuling Confero Tipe Tertinggi\n",
      "masuk\n",
      "memasukkan berita id  1535346088\n",
      "Insert berita  Honda Jazz Crossover, Hadir di 2020? Berikut Ini Bocorannya\n",
      "masuk\n",
      "memasukkan berita id  1535333511\n",
      "Insert berita  Ingin Mobil Daihatsu Anda Direkondisi Kembali Seperti Baru? Begini Persyaratannya\n",
      "masuk\n",
      "memasukkan berita id  1535328104\n",
      "Insert berita  Bawa Pulang Innova Tipe G Dengan Modal Rp 40 Juta, Kok Bisa? Begini Caranya\n",
      "masuk\n",
      "memasukkan berita id  1535241705\n",
      "Insert berita  Bos Besar Mitsubishi Indonesia Digeser Saat Di Puncak Kegemilangan, Mengapa?\n",
      "masuk\n",
      "memasukkan berita id  1535170314\n",
      "Insert berita  Promo DP Ringan Warnai Penjualan Daihatsu di Makassar, Apa Saja Unit yang Dipasarkan?\n",
      "masuk\n",
      "memasukkan berita id  1535162492\n",
      "Insert berita  Melihat Kehebatan Generasi Terbaru Honda NSX 2019, Super Cepat!\n",
      "masuk\n"
     ]
    },
    {
     "data": {
      "text/plain": [
       "'berhasil ambil semua berita'"
      ]
     },
     "execution_count": 3,
     "metadata": {},
     "output_type": "execute_result"
    }
   ],
   "source": [
    "obj.getAllBerita([], 1, 'news')"
   ]
  },
  {
   "cell_type": "code",
   "execution_count": null,
   "metadata": {},
   "outputs": [],
   "source": []
  }
 ],
 "metadata": {
  "kernelspec": {
   "display_name": "Python 3",
   "language": "python",
   "name": "python3"
  },
  "language_info": {
   "codemirror_mode": {
    "name": "ipython",
    "version": 3
   },
   "file_extension": ".py",
   "mimetype": "text/x-python",
   "name": "python",
   "nbconvert_exporter": "python",
   "pygments_lexer": "ipython3",
   "version": "3.6.6"
  }
 },
 "nbformat": 4,
 "nbformat_minor": 2
}
