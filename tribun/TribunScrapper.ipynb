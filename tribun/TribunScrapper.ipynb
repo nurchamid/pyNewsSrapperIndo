{
 "cells": [
  {
   "cell_type": "code",
   "execution_count": 4,
   "metadata": {},
   "outputs": [],
   "source": [
    "from Tribun import Tribun #class news Scrapper\n",
    "from datetime import timedelta, date, datetime\n",
    "from IPython.display import clear_output\n",
    "\n",
    "def daterange(start_date, end_date):\n",
    "    for n in range(int ((end_date - start_date).days)):\n",
    "        yield start_date + timedelta(n)"
   ]
  },
  {
   "cell_type": "code",
   "execution_count": 5,
   "metadata": {},
   "outputs": [],
   "source": [
    "obj = Tribun()\n",
    "end_date = date(2018, 8, 12)\n",
    "start_date = date(2018, 1, 1)"
   ]
  },
  {
   "cell_type": "code",
   "execution_count": null,
   "metadata": {},
   "outputs": [
    {
     "name": "stdout",
     "output_type": "stream",
     "text": [
      "2018-01-01\n",
      "page  1\n",
      "http://www.tribunnews.com/index-news?date=2018-01-01&page=1\n",
      "http://www.tribunnews.com/superskor/2018/01/01/jadi-tuan-rumah-piala-presiden-2018-manajemen-persib-bandung-bahas-hasil-pemusatan-latihan?page=all\n",
      "memasukkan berita id  5330300\n",
      "Insert berita  Jadi Tuan Rumah Piala Presiden 2018, Manajemen Persib Bandung Bahas Hasil TC dan Kekurangan Pemain\n",
      "masuk\n",
      "http://www.tribunnews.com/nasional/2018/01/01/lihat-kemeriahan-tahun-baru-asia-pasifik?page=all\n",
      "memasukkan berita id  5330299\n",
      "Insert berita  Lihat Kemeriahan Tahun Baru Asia Pasifik!\n",
      "masuk\n",
      "http://www.tribunnews.com/nasional/2018/01/01/polemik-penempatan-pedagang-tanah-abang?page=all\n",
      "memasukkan berita id  5330298\n",
      "Insert berita  Polemik Penempatan Pedagang Tanah Abang\n",
      "masuk\n",
      "http://www.tribunnews.com/regional/2018/01/01/185-rumah-di-pemalang-dihantam-puting-beliung-kerugian-capai-rp-24-miliar?page=all\n",
      "memasukkan berita id  5330297\n",
      "Insert berita  185 Rumah di Pemalang Dihantam Puting Beliung, Kerugian Capai Rp 2,4 Miliar\n",
      "masuk\n",
      "http://www.tribunnews.com/regional/2018/01/01/korban-jembatan-putus-di-penangkaran-rusa-cariu-bogor-bertambah-satu-orang-tewas?page=all\n",
      "memasukkan berita id  5330296\n",
      "Insert berita  Korban Jembatan Putus di Penangkaran Rusa Cariu Bogor Bertambah, Satu Orang Tewas\n",
      "masuk\n",
      "http://www.tribunnews.com/nasional/2018/01/01/partai-garuda-tak-segan-rekrut-anak-muda-yang-ingin-membuat-perubahan?page=all\n",
      "memasukkan berita id  5330295\n",
      "Insert berita  Partai Garuda Tak Segan Rekrut Anak Muda yang Ingin Membuat Perubahan\n",
      "masuk\n",
      "http://www.tribunnews.com/regional/2018/01/01/ust-atm-memuji-kegiatan-keagamaan-rutin-yang-dilakukan-pemkot-makassar?page=all\n",
      "memasukkan berita id  5330294\n",
      "Insert berita  Ust. ATM Memuji Kegiatan Keagamaan Rutin yang Dilakukan Pemkot Makassar\n",
      "masuk\n",
      "http://www.tribunnews.com/nasional/2018/01/01/sapa-pengendara-di-tol-cikampek-kakorlantas-jangan-dipaksakan-kalau-mengantuk?page=all\n"
     ]
    }
   ],
   "source": [
    "init_page = 1\n",
    "for single_date in daterange(start_date, end_date):\n",
    "    clear_output()\n",
    "    print(single_date.strftime(\"%Y-%m-%d\"))\n",
    "    obj.getAllBerita([], init_page, single_date.strftime(\"%Y-%m-%d\"))\n",
    "    init_page = 1"
   ]
  },
  {
   "cell_type": "code",
   "execution_count": null,
   "metadata": {},
   "outputs": [],
   "source": []
  }
 ],
 "metadata": {
  "kernelspec": {
   "display_name": "Python 3",
   "language": "python",
   "name": "python3"
  },
  "language_info": {
   "codemirror_mode": {
    "name": "ipython",
    "version": 3
   },
   "file_extension": ".py",
   "mimetype": "text/x-python",
   "name": "python",
   "nbconvert_exporter": "python",
   "pygments_lexer": "ipython3",
   "version": "3.6.6"
  }
 },
 "nbformat": 4,
 "nbformat_minor": 2
}
