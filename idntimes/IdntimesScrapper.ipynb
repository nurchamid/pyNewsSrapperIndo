{
 "cells": [
  {
   "cell_type": "code",
   "execution_count": 1,
   "metadata": {},
   "outputs": [],
   "source": [
    "from Idntimes import Idntimes\n",
    "from datetime import timedelta, date, datetime\n",
    "from IPython.display import clear_output\n",
    "\n",
    "def daterange(start_date, end_date):\n",
    "    for n in range(int ((end_date - start_date).days)):\n",
    "        yield start_date + timedelta(n)\n",
    "        \n",
    "obj = Idntimes()"
   ]
  },
  {
   "cell_type": "code",
   "execution_count": 2,
   "metadata": {},
   "outputs": [],
   "source": [
    "end_date = date(2018, 8, 12)\n",
    "start_date = date(2018, 5, 18)\n",
    "init_page = 1"
   ]
  },
  {
   "cell_type": "code",
   "execution_count": 3,
   "metadata": {},
   "outputs": [
    {
     "name": "stdout",
     "output_type": "stream",
     "text": [
      "2018-05-18\n",
      "page  1\n",
      "https://www.idntimes.com/ajax/index?category=news&type=all&page=1&date=2018-05-18\n",
      "https://www.idntimes.com/news/world/dian-f-hanum/video-penyiksaan-anjing-tiongkok-warganet-c1c2\n",
      "memasukkan berita id  1526576495\n",
      "Insert berita  Video Penyiksaan Anjing oleh Anak-anak di Tiongkok Tuai Kemarahan Warganet\n",
      "masuk\n",
      "https://www.idntimes.com/news/world/yakobus-david-lay-se/aktivis-lingkungan-pahat-wajah-trump-es-kritik-c1c2\n",
      "memasukkan berita id  1526576508\n",
      "Insert berita  Aktivis Lingkungan Akan Pahat Wajah Trump di Bongkahan Es Sebagai Kritik\n",
      "masuk\n",
      "https://www.idntimes.com/news/world/christ-bastian-waruwu/pertemuan-korea-utara-amerika-serikat-c1c2\n",
      "memasukkan berita id  1526576500\n",
      "Insert berita  Terancam Batal Bertemu, Trump Ancam Kim Bisa Gagal Seperti Khadafi\n",
      "masuk\n",
      "https://www.idntimes.com/news/world/dwi-ayu-silawati/6-drama-yang-sempat-muncul-jelang-pernikahan-harry-meghan-markle-c1c2\n",
      "memasukkan berita id  1526576522\n",
      "Insert berita  6 Drama yang Sempat Muncul Jelang Pernikahan Harry &amp; Meghan Markle\n",
      "masuk\n",
      "https://www.idntimes.com/news/indonesia/santi-dewi/untuk-kali-pertama-kpk-tetapkan-perusahaan-jadi-tersangka-tindak-pidana-pencucian-uang-1\n",
      "memasukkan berita id  1526576539\n",
      "Insert berita  Untuk Kali Pertama KPK Tetapkan Perusahaan Jadi Tersangka Tindak Pidana Pencucian Uang\n",
      "masuk\n",
      "https://www.idntimes.com/news/world/umayati-khasanah/kekayaan-mantan-najib-razak-c1c2\n",
      "memasukkan berita id  1526576485\n",
      "Insert berita  Polisi Sita Puluhan Tas Mewah Milik Najib Razak\n",
      "masuk\n",
      "https://rappler.idntimes.com/sakinah-haniy/fakta-royal-wedding-yang-perlu-diketahui-pernikahan-pangeran-harry-meghan-markle-1\n",
      "memasukkan berita id  1526576525\n",
      "Insert berita  Royal Wedding: Semua Yang Perlu Diketahui tentang Pernikahan Pangeran Harry dan Meghan Markle\n",
      "masuk\n",
      "https://www.idntimes.com/news/indonesia/fitria-madia/benda-asing-diduga-bom-di-tol-sidoarjo-ternyata-ini-isinya\n",
      "memasukkan berita id  1526576511\n",
      "Insert berita  Benda Asing Diduga Bom di Tol Sidoarjo, Ternyata Ini Isinya\n",
      "masuk\n",
      "https://www.idntimes.com/news/indonesia/fitang-adhitia/aman-abdurrahman-dituntut-hukuman-mati-polri-gak-khawatir-ada-serangan-balik-1\n",
      "memasukkan berita id  1526576533\n",
      "Insert berita  Aman Abdurrahman Dituntut Hukuman Mati, Polri Gak Khawatir Ada Serangan Balik\n",
      "masuk\n",
      "https://www.idntimes.com/news/indonesia/vanny-rahman/disebut-kaki-tangan-isis-gojek-indonesia-lapor-ke-polisi-1\n",
      "memasukkan berita id  1526576511\n",
      "Insert berita  Disebut Kaki-Tangan ISIS, Gojek Indonesia Lapor ke Polisi\n",
      "masuk\n",
      "https://www.idntimes.com/news/indonesia/rosa-folia/ragam-opini-warga-soal-pemakaman-jenazah-teroris-di-wilayah-mereka-1\n",
      "memasukkan berita id  1526576519\n",
      "Insert berita  Ragam Opini Warga Soal Pemakaman Jenazah Teroris di Wilayah Mereka\n",
      "masuk\n"
     ]
    },
    {
     "ename": "KeyboardInterrupt",
     "evalue": "",
     "output_type": "error",
     "traceback": [
      "\u001b[1;31m---------------------------------------------------------------------------\u001b[0m",
      "\u001b[1;31mKeyboardInterrupt\u001b[0m                         Traceback (most recent call last)",
      "\u001b[1;32m<ipython-input-3-8c800e367135>\u001b[0m in \u001b[0;36m<module>\u001b[1;34m()\u001b[0m\n\u001b[0;32m      2\u001b[0m     \u001b[0mclear_output\u001b[0m\u001b[1;33m(\u001b[0m\u001b[1;33m)\u001b[0m\u001b[1;33m\u001b[0m\u001b[0m\n\u001b[0;32m      3\u001b[0m     \u001b[0mprint\u001b[0m\u001b[1;33m(\u001b[0m\u001b[0msingle_date\u001b[0m\u001b[1;33m.\u001b[0m\u001b[0mstrftime\u001b[0m\u001b[1;33m(\u001b[0m\u001b[1;34m\"%Y-%m-%d\"\u001b[0m\u001b[1;33m)\u001b[0m\u001b[1;33m)\u001b[0m\u001b[1;33m\u001b[0m\u001b[0m\n\u001b[1;32m----> 4\u001b[1;33m     \u001b[0mobj\u001b[0m\u001b[1;33m.\u001b[0m\u001b[0mgetAllBerita\u001b[0m\u001b[1;33m(\u001b[0m\u001b[1;33m[\u001b[0m\u001b[1;33m]\u001b[0m\u001b[1;33m,\u001b[0m \u001b[1;34m'news'\u001b[0m\u001b[1;33m,\u001b[0m \u001b[0minit_page\u001b[0m\u001b[1;33m,\u001b[0m \u001b[0msingle_date\u001b[0m\u001b[1;33m.\u001b[0m\u001b[0mstrftime\u001b[0m\u001b[1;33m(\u001b[0m\u001b[1;34m\"%Y-%m-%d\"\u001b[0m\u001b[1;33m)\u001b[0m\u001b[1;33m)\u001b[0m\u001b[1;33m\u001b[0m\u001b[0m\n\u001b[0m\u001b[0;32m      5\u001b[0m     \u001b[0minit_page\u001b[0m \u001b[1;33m=\u001b[0m \u001b[1;36m1\u001b[0m\u001b[1;33m\u001b[0m\u001b[0m\n",
      "\u001b[1;32mD:\\OJT FILES\\Scrapper\\pyNewsSrapperIndo\\idntimes\\Idntimes.py\u001b[0m in \u001b[0;36mgetAllBerita\u001b[1;34m(self, details, cat_link, page, date)\u001b[0m\n\u001b[0;32m     42\u001b[0m             \u001b[1;32mfor\u001b[0m \u001b[0mpost\u001b[0m \u001b[1;32min\u001b[0m \u001b[0mindeks\u001b[0m\u001b[1;33m:\u001b[0m\u001b[1;33m\u001b[0m\u001b[0m\n\u001b[0;32m     43\u001b[0m                 \u001b[0mlink\u001b[0m \u001b[1;33m=\u001b[0m \u001b[1;33m[\u001b[0m\u001b[0mpost\u001b[0m\u001b[1;33m.\u001b[0m\u001b[0mfind\u001b[0m\u001b[1;33m(\u001b[0m\u001b[1;34m'a'\u001b[0m\u001b[1;33m,\u001b[0m \u001b[0mhref\u001b[0m\u001b[1;33m=\u001b[0m\u001b[1;32mTrue\u001b[0m\u001b[1;33m)\u001b[0m\u001b[1;33m[\u001b[0m\u001b[1;34m'href'\u001b[0m\u001b[1;33m]\u001b[0m\u001b[1;33m,\u001b[0m \u001b[0mcat_link\u001b[0m\u001b[1;33m]\u001b[0m\u001b[1;33m\u001b[0m\u001b[0m\n\u001b[1;32m---> 44\u001b[1;33m                 \u001b[0mdetail\u001b[0m \u001b[1;33m=\u001b[0m \u001b[0mself\u001b[0m\u001b[1;33m.\u001b[0m\u001b[0mgetDetailBerita\u001b[0m\u001b[1;33m(\u001b[0m\u001b[0mlink\u001b[0m\u001b[1;33m)\u001b[0m\u001b[1;33m\u001b[0m\u001b[0m\n\u001b[0m\u001b[0;32m     45\u001b[0m                 \u001b[1;32mif\u001b[0m \u001b[0mdetail\u001b[0m\u001b[1;33m:\u001b[0m\u001b[1;33m\u001b[0m\u001b[0m\n\u001b[0;32m     46\u001b[0m                     \u001b[1;32mif\u001b[0m \u001b[0mself\u001b[0m\u001b[1;33m.\u001b[0m\u001b[0minsertDB\u001b[0m\u001b[1;33m(\u001b[0m\u001b[0mdetail\u001b[0m\u001b[1;33m)\u001b[0m\u001b[1;33m:\u001b[0m\u001b[1;33m\u001b[0m\u001b[0m\n",
      "\u001b[1;32mD:\\OJT FILES\\Scrapper\\pyNewsSrapperIndo\\idntimes\\Idntimes.py\u001b[0m in \u001b[0;36mgetDetailBerita\u001b[1;34m(self, link)\u001b[0m\n\u001b[0;32m     55\u001b[0m         \u001b[0mMengambil\u001b[0m \u001b[0mseluruh\u001b[0m \u001b[0melement\u001b[0m \u001b[0mdari\u001b[0m \u001b[0mhalaman\u001b[0m \u001b[0mberita\u001b[0m\u001b[1;33m\u001b[0m\u001b[0m\n\u001b[0;32m     56\u001b[0m         \"\"\"\n\u001b[1;32m---> 57\u001b[1;33m         \u001b[0mtime\u001b[0m\u001b[1;33m.\u001b[0m\u001b[0msleep\u001b[0m\u001b[1;33m(\u001b[0m\u001b[1;36m10\u001b[0m\u001b[1;33m)\u001b[0m\u001b[1;33m\u001b[0m\u001b[0m\n\u001b[0m\u001b[0;32m     58\u001b[0m         \u001b[0marticles\u001b[0m \u001b[1;33m=\u001b[0m \u001b[1;33m{\u001b[0m\u001b[1;33m}\u001b[0m\u001b[1;33m\u001b[0m\u001b[0m\n\u001b[0;32m     59\u001b[0m         \u001b[1;31m#link\u001b[0m\u001b[1;33m\u001b[0m\u001b[1;33m\u001b[0m\u001b[0m\n",
      "\u001b[1;31mKeyboardInterrupt\u001b[0m: "
     ]
    }
   ],
   "source": [
    "for single_date in daterange(start_date, end_date):\n",
    "    clear_output()\n",
    "    print(single_date.strftime(\"%Y-%m-%d\"))\n",
    "    obj.getAllBerita([], 'news', init_page, single_date.strftime(\"%Y-%m-%d\"))\n",
    "    init_page = 1"
   ]
  },
  {
   "cell_type": "code",
   "execution_count": null,
   "metadata": {},
   "outputs": [],
   "source": []
  }
 ],
 "metadata": {
  "kernelspec": {
   "display_name": "Python 3",
   "language": "python",
   "name": "python3"
  },
  "language_info": {
   "codemirror_mode": {
    "name": "ipython",
    "version": 3
   },
   "file_extension": ".py",
   "mimetype": "text/x-python",
   "name": "python",
   "nbconvert_exporter": "python",
   "pygments_lexer": "ipython3",
   "version": "3.6.6"
  }
 },
 "nbformat": 4,
 "nbformat_minor": 2
}
