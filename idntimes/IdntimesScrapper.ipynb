{
 "cells": [
  {
   "cell_type": "code",
   "execution_count": 1,
   "metadata": {},
   "outputs": [],
   "source": [
    "import requests\n",
    "from bs4 import BeautifulSoup\n",
    "from datetime import datetime, timedelta\n",
    "import locale\n",
    "locale.setlocale(locale.LC_ALL, 'ID')\n",
    "import re\n",
    "import pandas as pd\n",
    "from selenium import webdriver\n",
    "from selenium.webdriver.chrome.options import Options\n",
    "import html\n",
    "import json"
   ]
  },
  {
   "cell_type": "code",
   "execution_count": 48,
   "metadata": {},
   "outputs": [],
   "source": [
    "def getIndeksLink(links, cat_link, page, date=datetime.strftime(datetime.today(), '%Y-%m-%d')):\n",
    "    \"\"\"\n",
    "    Untuk mengambil seluruh url \n",
    "    link pada indeks category tertentu\n",
    "    date format : YYYY-mm-dd\n",
    "    \"\"\"\n",
    "    print(\"page \", page)\n",
    "    url = \"https://www.idntimes.com/ajax/index?category=\"+cat_link+\"&type=all&page=\"+str(page)+\"&date=\"+date\n",
    "    print(url)\n",
    "    # Make the request and create the response object: response\n",
    "    response = requests.get(url)\n",
    "    # Extract HTML texts contained in Response object: html\n",
    "    html = response.text\n",
    "    # Create a BeautifulSoup object from the HTML: soup\n",
    "    soup = BeautifulSoup(html, \"html5lib\")\n",
    "        \n",
    "    indeks = soup.findAll('div', class_=\"box-latest box-list \")\n",
    "    if indeks:\n",
    "        for post in indeks:\n",
    "            link = [post.find('a', href=True)['href'], cat_link]\n",
    "            links.append(link)\n",
    "        links = getIndeksLink(links, cat_link, page+1, date)\n",
    "        \n",
    "    return links"
   ]
  },
  {
   "cell_type": "code",
   "execution_count": 78,
   "metadata": {},
   "outputs": [],
   "source": [
    "def getDetailBerita(links):\n",
    "    \"\"\"\n",
    "    Mengambil seluruh element dari halaman berita\n",
    "    \"\"\"\n",
    "    all_articles = []\n",
    "    for link in links[:2]:\n",
    "        articles = {}\n",
    "        #link\n",
    "        url = link[0]\n",
    "        print(url)\n",
    "        response = requests.get(url)\n",
    "        html = response.text\n",
    "        # Create a BeautifulSoup object from the HTML: soup\n",
    "        soup = BeautifulSoup(html, \"html5lib\")\n",
    "        \n",
    "        #extract scrip json ld\n",
    "        scripts_all = soup.findAll('script', attrs={'type':'application/ld+json'})\n",
    "#         print(len(scripts_all))\n",
    "        scripts = json.loads(scripts_all[-2].text)\n",
    "        scripts2 = json.loads(scripts_all[-1].text)\n",
    "        \n",
    "        #category\n",
    "        articles['category'] = scripts2['itemListElement'][0]['item']['name']\n",
    "        articles['subcategory'] = scripts2['itemListElement'][1]['item']['name']\n",
    "        \n",
    "        articles['url'] = url\n",
    "        \n",
    "        article = soup.find('section', class_=\"content-post clearfix\")\n",
    "        \n",
    "        #extract date\n",
    "        pubdate = scripts['datePublished']\n",
    "        pubdate = pubdate[0:19].strip(' \\t\\n\\r')\n",
    "        articles['pubdate'] = datetime.strftime(datetime.strptime(pubdate, \"%Y-%m-%dT%H:%M:%S\"), '%Y-%m-%d %H:%M:%S')\n",
    "        articles['id'] = int(datetime.strptime(pubdate, \"%Y-%m-%dT%H:%M:%S\").timestamp()) + len(url)\n",
    "        \n",
    "        #extract author\n",
    "        articles['author'] = scripts['author']['name']\n",
    "        \n",
    "        #extract title\n",
    "        articles['title'] = scripts['headline']\n",
    "        \n",
    "        #source\n",
    "        articles['source'] = 'idntimes'\n",
    "        \n",
    "        #extract comments count\n",
    "#         articles['comments'] = int(soup.find('span', class_=\"commentWidget-total\").find('b').text.strip(' \\t\\n\\r'))\n",
    "        articles['comments'] = 0\n",
    "    \n",
    "        #extract tags\n",
    "        tags = article.find('div', class_=\"content-post-topic\").findAll('a')\n",
    "        articles['tags'] = ','.join([x.text for x in tags])\n",
    "        \n",
    "        #extract images\n",
    "        articles['images'] = scripts['image']['url']\n",
    "        \n",
    "        #extract detail\n",
    "        detail = article.find('article', attrs={'id':'article-content'})\n",
    "            \n",
    "        #hapus div\n",
    "        if detail.findAll('div'):\n",
    "            for div in detail.findAll('div'):\n",
    "                div.decompose()\n",
    "            \n",
    "        #hapus link sisip\n",
    "        if detail.findAll('strong'):\n",
    "            for b in detail.findAll('strong'):\n",
    "                if (\"baca juga\" in b.text.lower()):\n",
    "                    b.decompose()\n",
    "            \n",
    "        #extract content\n",
    "        detail = BeautifulSoup(detail.decode_contents().replace('<br/>', ' '), \"html5lib\")\n",
    "        content = re.sub(r'\\n|\\t|\\b|\\r','',detail.text)\n",
    "        articles['content'] = content\n",
    "        print('memasukkan berita id ', articles['id'])\n",
    "        all_articles.append(articles)\n",
    "    return all_articles"
   ]
  },
  {
   "cell_type": "code",
   "execution_count": 63,
   "metadata": {},
   "outputs": [
    {
     "name": "stdout",
     "output_type": "stream",
     "text": [
      "page  1\n",
      "https://www.idntimes.com/ajax/index?category=news&type=all&page=1&date=2018-08-01\n",
      "page  2\n",
      "https://www.idntimes.com/ajax/index?category=news&type=all&page=2&date=2018-08-01\n",
      "page  3\n",
      "https://www.idntimes.com/ajax/index?category=news&type=all&page=3&date=2018-08-01\n",
      "page  4\n",
      "https://www.idntimes.com/ajax/index?category=news&type=all&page=4&date=2018-08-01\n",
      "page  5\n",
      "https://www.idntimes.com/ajax/index?category=news&type=all&page=5&date=2018-08-01\n",
      "page  6\n",
      "https://www.idntimes.com/ajax/index?category=news&type=all&page=6&date=2018-08-01\n"
     ]
    }
   ],
   "source": [
    "links = getIndeksLink([], 'news', 1, '2018-08-01')"
   ]
  },
  {
   "cell_type": "code",
   "execution_count": 76,
   "metadata": {},
   "outputs": [
    {
     "name": "stdout",
     "output_type": "stream",
     "text": [
      "https://www.idntimes.com/news/indonesia/margith-juita-damanik/video-wanita-diusir-saat-nonton-jokowi-jenguk-kahiyang\n",
      "memasukkan berita id  1483203777\n",
      "https://www.idntimes.com/news/indonesia/indianamalia/1134-bencana-pada-2018-kemensos-targetkan-100-kampung-siaga-bencana\n",
      "memasukkan berita id  1483203781\n"
     ]
    }
   ],
   "source": [
    "detail = getDetailBerita(links)"
   ]
  },
  {
   "cell_type": "code",
   "execution_count": 77,
   "metadata": {},
   "outputs": [
    {
     "data": {
      "text/plain": [
       "[{'category': 'News',\n",
       "  'subcategory': 'Indonesia',\n",
       "  'url': 'https://www.idntimes.com/news/indonesia/margith-juita-damanik/video-wanita-diusir-saat-nonton-jokowi-jenguk-kahiyang',\n",
       "  'pubdate': '1970-01-01 07:00:00',\n",
       "  'id': 1483203777,\n",
       "  'author': 'Margith Juita Damanik',\n",
       "  'title': 'Video Wanita Diusir saat Nonton Jokowi Jenguk Kahiyang',\n",
       "  'source': 'idntimes',\n",
       "  'comments': 0,\n",
       "  'tags': 'kahiyang ayu,jokowi,cucu jokowi,#2019GantiPresiden',\n",
       "  'images': 'https://cdn.idntimes.com/content-images/post/20180801/9e5ad7eebcb5204ae69e8ecf9edae487_600x400.jpeg',\n",
       "  'content': 'Jakarta, IDN Times - Keluarga besar Presiden Joko \\'Jokowi\\' Widodo hari ini mendapatkan anggota baru, dengan lahirnya puteri pertama dari pasangan Kahiyang Ayu-Bobby Nasution. Bayi perempuan ini menjadi cucu perempuan pertama Jokowi dan Iriana Joko Widodo.Di saat momen bahagia tersebut, siapa sangka ada sedikit peristiwa berbeda di luar rumah sakit. Beruntung, kejadian tersebut tidak mengganggu Kahiyang, bayinya, maupun pasien rumah sakit yang lain.Seorang wanita menggunakan kaos putih bertuliskan #2019GantiPresiden berjalan mendekati rumah sakit. Perempuan paruh baya itu akhirnya dihampiri pihak keamanan.1. Wanita itu diajak menjauh dari rumah sakitPerempuan yang menggunakan kaos #2019GantiPresiden itu datang dari sebelah kiri rumah sakit, arah gereja Santa Theresia. Perempuan itu lantas dihampiri petugas keamanan.Dari perkataan perempuan tersebut, diketahui ia tiba di lokasi menggunakan ojek. \"Ojeknya belum bayar. Itu nungguin,\" kata perempuan itu kepada pihak keamanan. Beberapa pihak keamanan mengatakan kepada si perempuan tersebut bahwa ojeknya akan dibayar polisi.                                    2. Wanita itu mengaku ingin membeli bensinDi tangan kiri wanita berkaos #2019GantiPresiden itu terdapat jirigen minyak kosong. Kepada petugas keamanan, perempuan itu beberapa kali berkata hendak mengisi bensin di SPBU yang memang terletak persis di sebelah rumah sakit.Si perempuan sempat menolak dibawa mendekati SPBU dan sedikit menjauh dari rumah sakit. Hal ini membuat lalu lintas di depan rumah sakit sempat terjadi kemacetan karena peritiwa ini.\"Jangan di jalan, macet,\" kata salah satu petugas keamanan. \"Udah tahu, sabar,\" kata perempuan itu dengan nada tinggi.3. Sempat adu mulut dengan petugas keamananKedatangan perempuan berkaos #2019GantiPresiden itu berselang tidak lama dari kepulangan Presiden Jokowi dari rumah sakit pada Rabu sore (1/8).Berdasarkan pantauan IDN Times, dari kejauhan pihak keamanan dan wanita itu sempat terlihat cekcok. Sementara, pihak keamanan tampak kesulitan mengajak perempuan tersebut menjauh dari rumah sakit.Kenapa wanita itu memakai kaos dobel ya guys?                                                                        '},\n",
       " {'category': 'News',\n",
       "  'subcategory': 'Indonesia',\n",
       "  'url': 'https://www.idntimes.com/news/indonesia/indianamalia/1134-bencana-pada-2018-kemensos-targetkan-100-kampung-siaga-bencana',\n",
       "  'pubdate': '1970-01-01 07:00:00',\n",
       "  'id': 1483203781,\n",
       "  'author': 'Indiana Malia',\n",
       "  'title': '1.134 Bencana pada 2018, Kemensos Targetkan 100 Kampung Siaga Bencana',\n",
       "  'source': 'idntimes',\n",
       "  'comments': 0,\n",
       "  'tags': 'Kemensos,bencana alam,bencana',\n",
       "  'images': 'https://cdn.idntimes.com/content-images/post/20180730/7c5dd54765d964b67702b86021b7bcdd_600x400.JPG',\n",
       "  'content': 'Pangandaran, IDN Times - Kementerian Sosial menargetkan 100 Kampung Siaga Bencana (KSB) berdiri di sejumlah kabupaten dan kota pada 2018. Hal itu sebagai upaya mendorong kesiapsiagaan masyarakat dalam menghadapi bencana.Direktur Jenderal Perlindungan dan Jaminan Sosial Kementerian Sosial RI Harry Hikmat menyatakan, tinggal di lokasi rawan bencana bukan berarti hidup dalam kekhawatiran. Bukan pula menunggu bencana datang lalu baru menggerakkan dan melatih warga kesiapsiagaan menghadapi bencana.\"Kita harus menyadari betul bahwa Indonesia adalah daerah dengan risiko rawan bencana sehingga harus selalu siaga. Dalam hal kewaspadaan ini, tentunya masyarakat yang lebih mengetahui kondisi wilayahnya masih-masing karena merupakan tempat tinggal mereka,\" ujar Harry usai mengukuhkan Desa Kalijati, Kecamatan Sidamulih, Kabupaten Pangandaran sebagai Kampung Siaga Bencana ke-609, Rabu (1/8).1. 2018 ditargetkan ada 100 KSBKSB merupakan wadah penanggulangan bencana berbasis masyarakat yang dijadikan kawasan atau tempat untuk program penanggulangan bencana. Hingga Juli 2018, jumlah KSB adalah 609 dan diharapkan jumlahnya terus bertambah hingga 100 KSB di akhir 2018.Beberapa titik yang tengah disiapkan untuk menjadi KSB adalah Kabupaten Sumba Timur di Provinsi NTT, Kabupaten Lombok Timur di Provinsi NTB, Kabupaten Pulau Buru Selatan di Provinsi Maluku dan Kabupaten Cilacap di Provinsi Jawa Tengah.Tujuan KSB adalah untuk memberikan pemahaman dan kesadaran masyarakat tentang bahaya dan risiko bencana, membentuk jejaring siaga bencana berbasis masyarakat dan memperkuat interaksi sosial anggota masyarakat, mengorganisasikan masyarakat terlatih untuk siaga bencana, serta mengoptimalkan potensi dan sumber daya yang ada untuk penanggulangan bencana.\"Intinya agar masyarakat dapat waspada terhadap bencana, siaga pada perubahan lingkungan yang ekstrem, serta mengetahui langkah-langkah yang diperlukan dalam menanggulangi bencana,\" Harry.                                    2. Sebanyak 1.134 bencana terjadi hingga Juni 2018Direktorat Perlindungan Korban Bencana Alam (PSKBA) Ditjen Perlindungan dan Jaminan Sosial mencatat, sepanjang Januari hingga Juni 2018 telah terjadi 1.134 bencana.Sebanyak 124 orang meninggal dunia, 427 orang mengalami luka-luka dan 777.620 orang mengungsi. Sebanyak 2.700 rumah rusak berat, 4.760 rumah rusak sedang, dan 12.672 rumah rusak ringan.Beberapa bencana tersebut di antaranya kejadian Luar Biasa (KLB) gizi buruk di Kabupaten Asmat Papua, gempa bumi di Banten, tanah longsor di Bogor, erupsi Gunung Sinabung di Karo dan erupsi Gunung Agung di Bali, banjir di Cirebon dna Banyuwangi, gempa bumi di Banjarnegara dan Sumenep.\"Peran Kementerian Sosial dalam penanggulangan bencana mencakup 3 hal besar, yakni penguatan kapasitas sosial yang dilakukan pada tahap sebelum terjadi bencana, asistensi sosial pada saat terjadi bencana, serta pemulihan sosial pada tahap lanjut setelah bencana terjadi,\" ujar Harry.3. Ada 5 hal penting dalam penanggulangan hencanaHarry menjelaskan, ada lima hal yang harus diperhatikan terkait KSB, yaitu warga harus bermental tangguh, solidaritas, kepekaan mendeteksi bencana, pengetahuan keterampilan, dan kesiapsiagaan menghadapi bencana.“Hutan-hutan dan lereng bukit tidak boleh gundul, pohon-pohon tidak ditebang, reboisasi terus digalakkan, masyarakat tidak membuang sampah di sungai, dan seterusnya,\" kata Harry.                                                                        '}]"
      ]
     },
     "execution_count": 77,
     "metadata": {},
     "output_type": "execute_result"
    }
   ],
   "source": [
    "detail"
   ]
  },
  {
   "cell_type": "code",
   "execution_count": null,
   "metadata": {},
   "outputs": [],
   "source": []
  }
 ],
 "metadata": {
  "kernelspec": {
   "display_name": "Python 3",
   "language": "python",
   "name": "python3"
  },
  "language_info": {
   "codemirror_mode": {
    "name": "ipython",
    "version": 3
   },
   "file_extension": ".py",
   "mimetype": "text/x-python",
   "name": "python",
   "nbconvert_exporter": "python",
   "pygments_lexer": "ipython3",
   "version": "3.6.6"
  }
 },
 "nbformat": 4,
 "nbformat_minor": 2
}
