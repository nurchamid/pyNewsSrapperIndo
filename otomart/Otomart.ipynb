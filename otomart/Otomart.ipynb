{
 "cells": [
  {
   "cell_type": "code",
   "execution_count": 1,
   "metadata": {},
   "outputs": [],
   "source": [
    "from Otomart import Otomart #class news Scrapper\n",
    "# import mysql.connector"
   ]
  },
  {
   "cell_type": "code",
   "execution_count": 2,
   "metadata": {},
   "outputs": [],
   "source": [
    "obj = Otomart()"
   ]
  },
  {
   "cell_type": "code",
   "execution_count": 3,
   "metadata": {},
   "outputs": [
    {
     "name": "stdout",
     "output_type": "stream",
     "text": [
      "page  1\n",
      "https://www.otomart.id/berita/page/1\n",
      "{'category': 'Otomotif', 'subcategory': 'Berita Mobil', 'url': 'https://www.otomart.id/berita/suzuki-jimny-bintang-giias-2018.html', 'pubdate': '2018-08-09 12:19:58', 'id': 1533792064, 'author': 'Ahmad Nur Ubaidah', 'title': 'Suzuki Jimny Jadi Bintang di Gelaran GIIAS 2018', 'source': 'otomart.com', 'comments': 0, 'tags': 'GIIAS,GIIAS 2018,jimny,Jimny 2018,Jimny Terbaru,PT Suzuki Indomobil Sales (SIS),Suzuki Jimny,Suzuki Jimny Indonesia', 'images': <meta content=\"https://www.otomart.id/berita/wp-content/uploads/2018/08/Suzuki-Jimny.jpg\" property=\"og:image:secure_url\"/>, 'content': 'OTOmart – Sebagai salah satu mobil klasik di era 80-an, Suzuki Jimny tampil kembali di gelaran Gaikindo Indonesia International Auto Show (GIIAS) 2018. Bahkan mobil ini boleh dibilang menjadi salah satu bintang dalam gelaran tersebut, karena tidak pernah sepi pengunjung yang ingin melihat. Walaupun PT Suzuki Indomobil Sales (SIS) belum meluncurkan kendaraan ini secara resmi, baik secara produk maupun harga.Namun, ratusan pemesan telah terdata karena tergoda dengan penampilannya yang klasik dan iconic sehingga membuat mobil ini banyak diminati. “Untuk saat ini baru kami data saja, yang tertarik dan mau membelinya, kami akan simpan untuk selanjutnya akan dihubungi setelah peluncuran. Kami pun tidak menyebut para konsumen tersebut sebagai pemesan, tapi sebatas peminat saja untuk saat ini,” terang Head of Brand Development and Marketing Research 4W PT Suzuki Indomobil Sales (SIS), Harold Donnel, seperti dilansir laman oto.com.Harold juga menuturkan bahwa hingga kini tidak kurang dari 500 pemesan yang telah terdata dan tentunya tidak ada satu rupiah pun yang telah dibayarkan oleh para konsumen. Pihak SIS sendiri hingga saat ini belum memberikan instruksi kepada seluruh tenaga penjualnya untuk mengumpulkan biaya kepada calon konsumen, baik itu biaya booking fee atau pun down payment. Selain itu, dalam sesi pengumpulan data yang dilakukan oleh para calon konsumen juga dikumpulkan berbagai masukan masyarakat mengenai berapakah harga yang pantas diberikan bagi Suzuki Jimny tersebut.Sekedar untuk diketahui jika Suzuki Jimny yang ditampilkan dalam gelaran GIIAS 2018 merupakan tipe Sierra yang berasal dari Jepang. Versi Sierra memang dikenal merupakan Jimny yang dipasarkan di luar Jepang dan dikenal dengan nama Jimny saja. Sedangkan di dalam Jepang sendiri, terdapat dua varian, yaitu Jimny dan Sierra.Dengan menggunakan format yang sama dengan DNA yang telah diusung selama 3 generasi ini, dimana Anda dapat melihat karakter jip yang tangguh dan kokoh disajikan dalam dimensi kompak. Selain itu, ukuran bodi Jimny tersebut membuat mobil ini sangat sulit untuk dibandingkan dengan merek yang lain. Jimny sendiri mempunyai panjang 3,6 meter, lebar 1,6 meter dan tinggi 1,725 meter dengan ground clearancenya mempunyai bentuk yang khas dengan SUV, 210 mm sehingga membuat daya jelajah Jimny menjadi lebih leluasa.Selain itu, skema gerak menggunakan empat roda telah menjadi standar Jimny di semua variannya. Hal ini dilakukan karena Suzuki tidak mau berkonsolidasi mengenai hal ini agar karakter SUV sejati yang telah diadopsinya tetap dapat terjaga. Suzuki Jimny di Indonesia sendiri kabarnya akan menggunakan mesin unit K15B yang mampu menyemburkan tenaga maksimal mencapai 102 dk, dimana torsi maksimal yang dapat diraih mencapai angka 130 Nm.Sumber: Oto.com    '}\n"
     ]
    },
    {
     "ename": "ProgrammingError",
     "evalue": "Failed processing pyformat-parameters; Python 'tag' cannot be converted to a MySQL type",
     "output_type": "error",
     "traceback": [
      "\u001b[1;31m---------------------------------------------------------------------------\u001b[0m",
      "\u001b[1;31mAttributeError\u001b[0m                            Traceback (most recent call last)",
      "\u001b[1;32m~\\AppData\\Local\\Continuum\\anaconda3\\lib\\site-packages\\mysql\\connector\\conversion.py\u001b[0m in \u001b[0;36mto_mysql\u001b[1;34m(self, value)\u001b[0m\n\u001b[0;32m    178\u001b[0m         \u001b[1;32mtry\u001b[0m\u001b[1;33m:\u001b[0m\u001b[1;33m\u001b[0m\u001b[0m\n\u001b[1;32m--> 179\u001b[1;33m             \u001b[1;32mreturn\u001b[0m \u001b[0mgetattr\u001b[0m\u001b[1;33m(\u001b[0m\u001b[0mself\u001b[0m\u001b[1;33m,\u001b[0m \u001b[1;34m\"_{0}_to_mysql\"\u001b[0m\u001b[1;33m.\u001b[0m\u001b[0mformat\u001b[0m\u001b[1;33m(\u001b[0m\u001b[0mtype_name\u001b[0m\u001b[1;33m)\u001b[0m\u001b[1;33m)\u001b[0m\u001b[1;33m(\u001b[0m\u001b[0mvalue\u001b[0m\u001b[1;33m)\u001b[0m\u001b[1;33m\u001b[0m\u001b[0m\n\u001b[0m\u001b[0;32m    180\u001b[0m         \u001b[1;32mexcept\u001b[0m \u001b[0mAttributeError\u001b[0m\u001b[1;33m:\u001b[0m\u001b[1;33m\u001b[0m\u001b[0m\n",
      "\u001b[1;31mAttributeError\u001b[0m: 'MySQLConverter' object has no attribute '_tag_to_mysql'",
      "\nDuring handling of the above exception, another exception occurred:\n",
      "\u001b[1;31mTypeError\u001b[0m                                 Traceback (most recent call last)",
      "\u001b[1;32m~\\AppData\\Local\\Continuum\\anaconda3\\lib\\site-packages\\mysql\\connector\\cursor.py\u001b[0m in \u001b[0;36m_process_params_dict\u001b[1;34m(self, params)\u001b[0m\n\u001b[0;32m    397\u001b[0m                 \u001b[0mconv\u001b[0m \u001b[1;33m=\u001b[0m \u001b[0mvalue\u001b[0m\u001b[1;33m\u001b[0m\u001b[0m\n\u001b[1;32m--> 398\u001b[1;33m                 \u001b[0mconv\u001b[0m \u001b[1;33m=\u001b[0m \u001b[0mto_mysql\u001b[0m\u001b[1;33m(\u001b[0m\u001b[0mconv\u001b[0m\u001b[1;33m)\u001b[0m\u001b[1;33m\u001b[0m\u001b[0m\n\u001b[0m\u001b[0;32m    399\u001b[0m                 \u001b[0mconv\u001b[0m \u001b[1;33m=\u001b[0m \u001b[0mescape\u001b[0m\u001b[1;33m(\u001b[0m\u001b[0mconv\u001b[0m\u001b[1;33m)\u001b[0m\u001b[1;33m\u001b[0m\u001b[0m\n",
      "\u001b[1;32m~\\AppData\\Local\\Continuum\\anaconda3\\lib\\site-packages\\mysql\\connector\\conversion.py\u001b[0m in \u001b[0;36mto_mysql\u001b[1;34m(self, value)\u001b[0m\n\u001b[0;32m    181\u001b[0m             raise TypeError(\"Python '{0}' cannot be converted to a \"\n\u001b[1;32m--> 182\u001b[1;33m                             \"MySQL type\".format(type_name))\n\u001b[0m\u001b[0;32m    183\u001b[0m \u001b[1;33m\u001b[0m\u001b[0m\n",
      "\u001b[1;31mTypeError\u001b[0m: Python 'tag' cannot be converted to a MySQL type",
      "\nDuring handling of the above exception, another exception occurred:\n",
      "\u001b[1;31mProgrammingError\u001b[0m                          Traceback (most recent call last)",
      "\u001b[1;32m<ipython-input-3-badd94e9c935>\u001b[0m in \u001b[0;36m<module>\u001b[1;34m()\u001b[0m\n\u001b[1;32m----> 1\u001b[1;33m \u001b[0mlinks\u001b[0m \u001b[1;33m=\u001b[0m \u001b[0mobj\u001b[0m\u001b[1;33m.\u001b[0m\u001b[0mgetAllBerita\u001b[0m\u001b[1;33m(\u001b[0m\u001b[1;33m[\u001b[0m\u001b[1;33m]\u001b[0m\u001b[1;33m,\u001b[0m \u001b[1;36m1\u001b[0m\u001b[1;33m)\u001b[0m\u001b[1;33m\u001b[0m\u001b[0m\n\u001b[0m",
      "\u001b[1;32mD:\\OJT\\pyNewsSrapperIndo\\otomart\\Otomart.py\u001b[0m in \u001b[0;36mgetAllBerita\u001b[1;34m(self, details, page, date)\u001b[0m\n\u001b[0;32m     55\u001b[0m             \u001b[1;31m# else:\u001b[0m\u001b[1;33m\u001b[0m\u001b[1;33m\u001b[0m\u001b[0m\n\u001b[0;32m     56\u001b[0m             \u001b[0mdetail\u001b[0m \u001b[1;33m=\u001b[0m \u001b[0mself\u001b[0m\u001b[1;33m.\u001b[0m\u001b[0mgetDetailBerita\u001b[0m\u001b[1;33m(\u001b[0m\u001b[0mlink\u001b[0m\u001b[1;33m)\u001b[0m\u001b[1;33m\u001b[0m\u001b[0m\n\u001b[1;32m---> 57\u001b[1;33m             \u001b[1;32mif\u001b[0m \u001b[0mself\u001b[0m\u001b[1;33m.\u001b[0m\u001b[0minsertDB\u001b[0m\u001b[1;33m(\u001b[0m\u001b[0mcon\u001b[0m\u001b[1;33m,\u001b[0m \u001b[0mdetail\u001b[0m\u001b[1;33m)\u001b[0m\u001b[1;33m:\u001b[0m\u001b[1;33m\u001b[0m\u001b[0m\n\u001b[0m\u001b[0;32m     58\u001b[0m                 \u001b[0mdetails\u001b[0m\u001b[1;33m.\u001b[0m\u001b[0mappend\u001b[0m\u001b[1;33m(\u001b[0m\u001b[0mdetail\u001b[0m\u001b[1;33m)\u001b[0m\u001b[1;33m\u001b[0m\u001b[0m\n\u001b[0;32m     59\u001b[0m         \u001b[1;32mif\u001b[0m \u001b[0mflag\u001b[0m\u001b[1;33m:\u001b[0m\u001b[1;33m\u001b[0m\u001b[0m\n",
      "\u001b[1;32mD:\\OJT\\pyNewsSrapperIndo\\otomart\\Otomart.py\u001b[0m in \u001b[0;36minsertDB\u001b[1;34m(self, con, articles)\u001b[0m\n\u001b[0;32m    160\u001b[0m             \u001b[0madd_article\u001b[0m \u001b[1;33m=\u001b[0m \u001b[1;33m(\u001b[0m\u001b[1;34m\"INSERT INTO article (post_id, author, pubdate, category, subcategory, content, comments, images, title, tags, url, source) VALUES (%(id)s, %(author)s, %(pubdate)s, %(category)s, %(subcategory)s, %(content)s, %(comments)s, %(images)s, %(title)s, %(tags)s, %(url)s, %(source)s)\"\u001b[0m\u001b[1;33m)\u001b[0m\u001b[1;33m\u001b[0m\u001b[0m\n\u001b[0;32m    161\u001b[0m             \u001b[1;31m# Insert article\u001b[0m\u001b[1;33m\u001b[0m\u001b[1;33m\u001b[0m\u001b[0m\n\u001b[1;32m--> 162\u001b[1;33m             \u001b[0mcursor\u001b[0m\u001b[1;33m.\u001b[0m\u001b[0mexecute\u001b[0m\u001b[1;33m(\u001b[0m\u001b[0madd_article\u001b[0m\u001b[1;33m,\u001b[0m \u001b[0marticles\u001b[0m\u001b[1;33m)\u001b[0m\u001b[1;33m\u001b[0m\u001b[0m\n\u001b[0m\u001b[0;32m    163\u001b[0m             \u001b[0mcon\u001b[0m\u001b[1;33m.\u001b[0m\u001b[0mcommit\u001b[0m\u001b[1;33m(\u001b[0m\u001b[1;33m)\u001b[0m\u001b[1;33m\u001b[0m\u001b[0m\n\u001b[0;32m    164\u001b[0m             \u001b[0mprint\u001b[0m\u001b[1;33m(\u001b[0m\u001b[1;34m'masuk'\u001b[0m\u001b[1;33m)\u001b[0m\u001b[1;33m\u001b[0m\u001b[0m\n",
      "\u001b[1;32m~\\AppData\\Local\\Continuum\\anaconda3\\lib\\site-packages\\mysql\\connector\\cursor.py\u001b[0m in \u001b[0;36mexecute\u001b[1;34m(self, operation, params, multi)\u001b[0m\n\u001b[0;32m    538\u001b[0m             \u001b[1;32mif\u001b[0m \u001b[0misinstance\u001b[0m\u001b[1;33m(\u001b[0m\u001b[0mparams\u001b[0m\u001b[1;33m,\u001b[0m \u001b[0mdict\u001b[0m\u001b[1;33m)\u001b[0m\u001b[1;33m:\u001b[0m\u001b[1;33m\u001b[0m\u001b[0m\n\u001b[0;32m    539\u001b[0m                 stmt = _bytestr_format_dict(\n\u001b[1;32m--> 540\u001b[1;33m                     stmt, self._process_params_dict(params))\n\u001b[0m\u001b[0;32m    541\u001b[0m             \u001b[1;32melif\u001b[0m \u001b[0misinstance\u001b[0m\u001b[1;33m(\u001b[0m\u001b[0mparams\u001b[0m\u001b[1;33m,\u001b[0m \u001b[1;33m(\u001b[0m\u001b[0mlist\u001b[0m\u001b[1;33m,\u001b[0m \u001b[0mtuple\u001b[0m\u001b[1;33m)\u001b[0m\u001b[1;33m)\u001b[0m\u001b[1;33m:\u001b[0m\u001b[1;33m\u001b[0m\u001b[0m\n\u001b[0;32m    542\u001b[0m                 \u001b[0mpsub\u001b[0m \u001b[1;33m=\u001b[0m \u001b[0m_ParamSubstitutor\u001b[0m\u001b[1;33m(\u001b[0m\u001b[0mself\u001b[0m\u001b[1;33m.\u001b[0m\u001b[0m_process_params\u001b[0m\u001b[1;33m(\u001b[0m\u001b[0mparams\u001b[0m\u001b[1;33m)\u001b[0m\u001b[1;33m)\u001b[0m\u001b[1;33m\u001b[0m\u001b[0m\n",
      "\u001b[1;32m~\\AppData\\Local\\Continuum\\anaconda3\\lib\\site-packages\\mysql\\connector\\cursor.py\u001b[0m in \u001b[0;36m_process_params_dict\u001b[1;34m(self, params)\u001b[0m\n\u001b[0;32m    405\u001b[0m         \u001b[1;32mexcept\u001b[0m \u001b[0mException\u001b[0m \u001b[1;32mas\u001b[0m \u001b[0merr\u001b[0m\u001b[1;33m:\u001b[0m\u001b[1;33m\u001b[0m\u001b[0m\n\u001b[0;32m    406\u001b[0m             raise errors.ProgrammingError(\n\u001b[1;32m--> 407\u001b[1;33m                 \"Failed processing pyformat-parameters; %s\" % err)\n\u001b[0m\u001b[0;32m    408\u001b[0m         \u001b[1;32melse\u001b[0m\u001b[1;33m:\u001b[0m\u001b[1;33m\u001b[0m\u001b[0m\n\u001b[0;32m    409\u001b[0m             \u001b[1;32mreturn\u001b[0m \u001b[0mres\u001b[0m\u001b[1;33m\u001b[0m\u001b[0m\n",
      "\u001b[1;31mProgrammingError\u001b[0m: Failed processing pyformat-parameters; Python 'tag' cannot be converted to a MySQL type"
     ]
    }
   ],
   "source": [
    "links = obj.getAllBerita([], 1)"
   ]
  },
  {
   "cell_type": "code",
   "execution_count": null,
   "metadata": {},
   "outputs": [],
   "source": [
    "import requests\n",
    "from bs4 import BeautifulSoup\n",
    "from datetime import datetime, timedelta\n",
    "import locale\n",
    "locale.setlocale(locale.LC_ALL, 'ID')\n",
    "import re\n",
    "import pandas as pd\n",
    "from selenium import webdriver\n",
    "from selenium.webdriver.chrome.options import Options\n",
    "import html\n",
    "import json\n",
    "import time\n",
    "from requests.exceptions import ConnectionError\n",
    "import unicodedata\n",
    "import mysql.connector"
   ]
  },
  {
   "cell_type": "code",
   "execution_count": null,
   "metadata": {},
   "outputs": [],
   "source": [
    "url = \"https://www.otomart.id/berita/suzuki-jimny-bintang-giias-2018.html\""
   ]
  },
  {
   "cell_type": "code",
   "execution_count": null,
   "metadata": {},
   "outputs": [],
   "source": [
    "response = requests.get(url)\n",
    "html = response.text\n",
    "# Create a BeautifulSoup object from the HTML: soup\n",
    "soup = BeautifulSoup(html, \"html5lib\")\n",
    "articles = {}"
   ]
  },
  {
   "cell_type": "code",
   "execution_count": null,
   "metadata": {},
   "outputs": [],
   "source": [
    "tags = soup.findAll('meta', attrs={'property':'article:tag'})\n",
    "tags = ','.join([x['content'] for x in tags])\n",
    "tags\n",
    "# articles['tags'] = str(tags)\n",
    "# articles['tags']"
   ]
  },
  {
   "cell_type": "code",
   "execution_count": null,
   "metadata": {},
   "outputs": [],
   "source": [
    "bc = soup.find('a', attrs={'rel':'category tag'})\n",
    "bc.text"
   ]
  },
  {
   "cell_type": "code",
   "execution_count": null,
   "metadata": {},
   "outputs": [],
   "source": []
  }
 ],
 "metadata": {
  "kernelspec": {
   "display_name": "Python 3",
   "language": "python",
   "name": "python3"
  },
  "language_info": {
   "codemirror_mode": {
    "name": "ipython",
    "version": 3
   },
   "file_extension": ".py",
   "mimetype": "text/x-python",
   "name": "python",
   "nbconvert_exporter": "python",
   "pygments_lexer": "ipython3",
   "version": "3.6.4"
  }
 },
 "nbformat": 4,
 "nbformat_minor": 2
}
