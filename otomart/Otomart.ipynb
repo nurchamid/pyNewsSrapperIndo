{
 "cells": [
  {
   "cell_type": "code",
   "execution_count": 1,
   "metadata": {},
   "outputs": [],
   "source": [
    "from Otomart import Otomart #class news Scrapper\n",
    "import mysql.connector"
   ]
  },
  {
   "cell_type": "code",
   "execution_count": 2,
   "metadata": {},
   "outputs": [],
   "source": [
    "obj = Otomart()"
   ]
  },
  {
   "cell_type": "code",
   "execution_count": 3,
   "metadata": {},
   "outputs": [
    {
     "name": "stdout",
     "output_type": "stream",
     "text": [
      "page  1\n",
      "https://www.otomart.id/berita/page/1\n"
     ]
    }
   ],
   "source": [
    "links = obj.getAllBerita([], 1)"
   ]
  },
  {
   "cell_type": "code",
   "execution_count": 4,
   "metadata": {},
   "outputs": [
    {
     "data": {
      "text/plain": [
       "[{'author': 'Ahmad Nur Ubaidah',\n",
       "  'category': 'Otomotif',\n",
       "  'comments': 0,\n",
       "  'content': 'OTOmart – Anda berniat untuk mendapatkan kendaraan terbaru? Silahkan datang ke GIIAS 2018 yang diselenggarakan di ICE, BSD. Di sana ditampilkan berbagai macam kendaraan yang berasal dari berbagai merek ternama dan beredar di Indonesia. Jika Anda mempunyai budget sebesar Rp 200 jutaan, tidak perlu khawatir, sebab Anda dapat memilih jenis kendaraan bertipe Low MPV sampai mobil kompak SUV berkapasitas 7 penumpang di pameran tersebut.Jika Anda berniat membeli kendaraan jenis kompak SUV, maka terdapat beberapa pilihan mobil yang bisa Anda dapatkan di rentang harga tersebut, antara lain yaitu DFSK Glory 1.8MT yang dibanderol mulai dari harga Rp245,9 juta. Lalu ada Toyota Rush yang dibanderol mulai dari harga Rp239 juta hingga Rp260 juta.Sedangkan untuk saudaranya, yaitu Daihatsu Terios ditawarkan mulai dari harga Rp195 juta hingga Rp248 juta. Selain itu, terdapat juga Honda BR-V yang dibanderol mulai dari harga Rp236 juta.Jika Anda mempunyai budget terbatas, maka sebaiknya tunggulah hingga menjelang penutupan dan di akhir pekan. Sebab, pada waktu-waktu tersebut para APM biasanya getol dalam memberikan promo dan diskon yang lebih. Namun, sebaiknya Anda jangan mudah tergiur dengan promo tersebut. Sebisa mungkin bandingkan mana yang paling realistis dari nilai yang ditawarkan oleh tenaga penjual. Hal ini sebab, perbandingan komparasi harga sangat penting dalam memilih mobil yang sesuai dengan budget Anda.Selain jenis mobil kompak SUV, mobil di segmen LMPV pun tidak kalah membuat Anda merasa galau. Sebab, pilihannya menjadi semakin banyak dan harganya pun berbeda tipis. Selain itu, dengan budget sebanyak Rp200 juta, Anda juga bisa mendapatkan kendaraan LMPV lainnya, seperti Mitsubishi Xpander mulai dari varian terendah hingga ke varian tertingginya seharga Rp255,4 juta.Jika Anda merasa bahwa harga tersebut masih terlalu mahal dengan budget yang Anda miliki, maka Wuling bisa menjadi alternatif pilihan lainnya. Sebab, Anda dapat membeli produk Wuling seperti Cortez 1.5 type C yang dibanderol dengan harga Rp203 juta. Sedangkan, untuk varian mesin berkapasitas 1.8 liter ditawarkan mulai dari harga Rp218 juta hingga Rp260 juta.Jika Wuling pun masih terasa mahal bagi Anda, maka sepertinya Anda bisa memilih Suzuki Ertiga generasi kedua yang ditampilkan di GIIAS 2018. Mobil ini banyak diincar oleh masyarakat, bahkan beberapa konsumen pun tidak membutuhkan waktu inden yang cukup lama. Harganya pun cukup murah, dimulai dari harga Rp200 jutaan untuk varian GL M/T hingga ke varian termahalnya yang dibanderol dengan harga Rp233 juta untuk tipe GX AT.Selain Suzuki, Nissan juga mempunyai mobil berjenis LMPV yang dibanderol dengan harga Rp200 jutaan, yaitu Grand Livina. Model tersebut dibanderol dengan harga mulai dari Rp221,8 juta hingga Rp262,4 juta on the road Jakarta. Sebenarnya masyarakat telah cukup antusias akan kedatangan Xpander versi Nissan yang disebut-sebut sebagai generasi lanjutan dari Livina. Sehingga model saat ini menjadi kurang dilirik oleh para konsumen.Jika Anda mempunyai keinginan membeli Toyota, maka terdapat pilihan mobil Toyota yang bisa Anda dapatkan, seperti Avanza varian 1.3 E AT yang dibanderol dengan harga Rp202,1 juta hingga 1.5 Veloz AT yang dibanderol dengan harga Rp239 juta. Selain itu, juga ada Sienta yang dijual dengan harga mulai dari Rp234 juta.Jika Anda mencari mobil Honda, maka Honda Mobilio varian E MT bisa Anda dapatkan karena dibanderol dengan harga Rp215 juta dan paling mahal varian RS CVT Two Tone yang dibanderol dengan harga Rp248,5 juta.Jika Daihatsu, maka dengan budget Rp200 juta, Anda bisa mendapatkan mobil Daihatsu Xenia R AT Custom yang dibanderol dengan harga Rp215 juta. Itulah beberapa pilihan mobil seharga Rp200 juta yang bisa Anda dapatkan di GIIAS 2018.    ',\n",
       "  'id': 1533705910,\n",
       "  'image': 'https://www.otomart.id/berita/wp-content/uploads/2018/08/suasana-giias-2018.jpg',\n",
       "  'pubdate': '2018-08-08 12:24:05',\n",
       "  'source': 'otomart.com',\n",
       "  'subcategory': 'Berita Mobil',\n",
       "  'tags': 'Berita Mobil,berita otomotif,GIIAS,Kabar Otomotif,Pameran Otomotif',\n",
       "  'title': 'Pilihan Mobil di GIIAS Bagi Anda Yang Punya Budget Rp200 Juta',\n",
       "  'url': 'https://www.otomart.id/berita/mobil-di-giias-budget-200-juta.html'},\n",
       " {'author': 'Ahmad Nur Ubaidah',\n",
       "  'category': 'Otomotif',\n",
       "  'comments': 0,\n",
       "  'content': 'OTOmart – Selain menampilkan teknologi serta mobil terbarunya, Agen pemegang merek Honda di Indonesia, Honda Prospect Motor (HPM) juga memberikan promo kepada para pengunjung acara GIIAS 2018.Seperti tidak mau kehilangan momen, HPM memanfaatkan gelaran GIIAS 2018 ini untuk bersentuhan langsung dengan para calon konsumennya dengan memberikan berbagai promo mobilnya. Namun, promo ini hanya berlaku selama gelaran GIIAS berlangsung saja. selain promo kendaraan, Honda juga menawarkan program layanan purnajual yang cukup menarik untuk berbagai model mobil Honda yang dibeli pengunjung.Beberapa program penjualan serta aktifitas yang bisa Anda dapatkan di booth Honda, antara lain yaitu:1. Program cicilan dengan bunga sebesar 1,7%2. Grandprize trip ke Turki bagi 8 orang pemenang yang beruntung3. Premium Deals berhadiah 15 PCX Hybrid, 5 PCX serta 25 Smartphone4. Bebas perawatan secara berkala hingga jarak 50.000 km atau selama 4 tahun (sudah termasuk jasa dan suku cadang)5. Lucky Dip berhadiah miliaran rupiah6. ADDB sebesar 20%7. Aksesori dengan harga spesial mulai dari Rp 17.0008. Gratis merchandise HondaSelain itu, masih banyak lagi program yang ditawarkan oleh Honda. Salah satunya adalah program Free Service 50.000 km, yaitu bagi Anda yang membeli produk Honda bisa mendapatkan biaya jasa gratis serta perawatan berkala yang terdapat di bengkel resmi Honda hingga jarak kendaraan mencapai angka 50.000 km atau selama 4 tahun (tergantung yang paling cepat di dahului). Namun, program yang ditawarkan oleh Honda ini mulai berlaku sejak tanggal 1 Agustus 2018 bagi seluruh konsumen yang membeli kendaraan Honda bertipe apapun.Selain promo penjualan, Honda juga menawarkan kepada para konsumen setianya dengan berbagai promo aksesori, antara lain yaitu:1. Harga spesial bagi pembeli yang membeli aksesori Honda CR-V serta Honda Civic Hatchback tertentu2. Gratis voucher 4L Oli Honda E-Pro Gold bagi setiap pembelian paket aksesori.3. Kemudahan dalam melakukan pembayaran dengan cicilan sebesar 0% atau pembayaran paket aksesori yang digabungkan dengan pembayaran leasing kendaraan.“Kami membawa tema di gelaran GIIAS 2018 ini merupakan bagian dari rangkaian kegiatan Honda yang terjadi di tahun ini. Temanya adalah mengedepankan berbagai inovasi teknologi untuk mobilitas. Selain itu, kami juga menyiapkan berbagai program yang dapat memudahkan para konsumen dalam membeli produk Honda bahkan sampai program purnajualnya. Hal ini tentu dapat meringankan konsumen dari biaya perawatan kendaraan. Sebab, kami percaya bahwa dengan produk baru yang kami tampilkan serta program yang cukup menarik yang kami tawarkan pada gelaran ini dapat membuat pasar otomotif menjadi lebih bergairah dengan membawa excitement baru bagi pasar otomotif di paruh kedua pada tahun ini,” ucap After Sales Service Director PT Honda Prospect Motor, Jonfis Fandy, seperti dilansir laman oto.com.    ',\n",
       "  'id': 1533700034,\n",
       "  'image': 'https://www.otomart.id/berita/wp-content/uploads/2018/08/promo-honda.jpg',\n",
       "  'pubdate': '2018-08-08 10:46:02',\n",
       "  'source': 'otomart.com',\n",
       "  'subcategory': 'Berita Mobil',\n",
       "  'tags': 'Berita Honda,GIIAS,GIIAS 2018,Promo,Promo Honda,Promo Mobil',\n",
       "  'title': 'Di GIIAS 2018, Honda Tawarkan Berbagai Promo Menarik',\n",
       "  'url': 'https://www.otomart.id/berita/honda-tawarkan-promo-menarik-di-giias.html'},\n",
       " {'author': 'Ahmad Nur Ubaidah',\n",
       "  'category': 'Otomotif',\n",
       "  'comments': 0,\n",
       "  'content': 'OTOmart – MPV atau yang lebih dikenal dengan mobil keluarga selama pameran GIIAS berlangsung tidak pernah absen untuk tampil. Meskipun tidak banyak produk baru yang dikeluarkan, terdapat sejumlah MPV yang justru mempunyai daya tarik bagi para pengunjung selama gelaran berlangsung. Namun tidak semua yang ditampilkan dalam GIIAS merupakan unit yang dijual, sedangkan sebagian yang lainnya hanyalah sebagai pencuci mata pengunjung.Lima MPV pemikat keluarga IndonesiaMitsubishi Xpander Varian TerbaruDengan varian serta warna terbaru, membuat euforia masyarakat terhadap Xpander masih dapat dipertahankan. Apalagi saat ini, Mitsubishi memberikan warna baru Deep Bronze Metallic yang tentunya menjadi pilihan bagi Anda yang merasa bosan dengan warna standar yang ada. Begitu pun dengan transmisi otomatis yang diberikan bagi varian GLS. Hal ini tentu membuat masyarakat mempunyai banyak pilhan Xpander bertransmisi otomatis dengan harga yang lebih murah daripada membeli varian Sport dan Ultimate yang mempunyai harga sedikit lebih mahal.Suzuki Ertiga SportMobil ini tampil di GIIAS 2018 namun merupakan mobil yang tidak untuk dijual alias hanya sebagai pajangan saja. Pihak Suzuki Indomobil Sales sengaja memamerkan Ertiga Sport hanya untuk pencuci mata pengunjung saja. Dengan basis All New Ertiga yang telah diberikan beberapa ubahan yang cukup signifikan pada bagian bodinya sehingga membuat penampilannya menjadi lebih sporty. Hal ini dapat dilihat dari berbagai sisi. Suzuki ertiga nampak sporty apalagi dengan pelek berukuran 16 inci, spoiler atas serta sejumlah bagian bodi kit lainnya. Selain itu, postur bodi juga sengaja dibuat lebih rendah dengan suspensi yang telah disetel agar dapat mengakomodasi performa sportnya. Hal ini dapat dijadikan acuan untuk dapat memodifikasi Ertiga Sport terbaru.Daihatsu Xenia Special EditionDalam gelaran GIIAS 2018, Daihatsu tidak membawa model baru, namun terdapat sedikit perbedaan dari unit yang telah dipajang. Xenia yang dipajang tersebut mendapat imbuhan nama Special Edition. Lalu apa yang spesial dari Daihatsu Xenia tersebut? Daihatsu Xenia SE ternyata hanya ditawarkan terbatas sebanyak 18 unit saja. Dengan tampilannya yang lebih sporty berbalut warna utama hitam hingga ke bagian grille dan pelek. Garis berwarna merah kontras terbentang mulai dari kap bagian depan hingga ke bagian atap. Sedangkan untuk di bagian kabin, menggunakan basis tipe R, dan Xenia SE juga mempunyai balutan kulit berkualitas di jok serta lingkar kemudinya.Hyundai H-1Mobil ini sebelumnya telah diperkenalkan, namun baru dipamerkan dalam gelaran GIIAS 2018 ini, sekaligus pengumuman harga resmi mobilnya. Melihat penampilannya, terdapat beberapa penyempurnaan dan peningkatan fitur yang diberikan pada H-1 terbaru selain dari ubahan desainnya yang terbilang ringan, dimana yang paling menonjol terlihat terletak di bagian wajahnya.Wuling Confero Special EditionJika Anda main ke booth Wuling Motors pada gelaran GIIAS 2018, Anda akan menemukan satu unit Confero Special Edition. Tampilannya jelas lebih modern daripada seri Confero yang dijual. Hal ini tentu membuat banyak para pengunjung yang semakin penasaran dengan mobil ini. Namun sayangnya kendaraan ini tidak dijual, melainkan hanya diberikan bagi orang yang beruntung dengan melakukan SPK Wuling dalam gelaran GIIAS kali ini. Jika Anda beruntung dan berhasil melalui tahap pengundian, maka Anda dapat membawa pulang dua mobil sekaligus, dimana salah satunya adalah Confero Special Edition.    ',\n",
       "  'id': 1533618706,\n",
       "  'image': 'https://www.otomart.id/berita/wp-content/uploads/2018/08/xpander-giias-2018.jpg',\n",
       "  'pubdate': '2018-08-07 12:10:34',\n",
       "  'source': 'otomart.com',\n",
       "  'subcategory': 'Artikel Mobil',\n",
       "  'tags': 'Berita Mobil,berita otomotif,GIIAS,GIIAS 2018,Kabar Otomotif,Mobil MPV,mpv',\n",
       "  'title': '5 MPV Keluarga Terpopuler di Gelaran GIIAS 2018',\n",
       "  'url': 'https://www.otomart.id/berita/mpv-keluarga-terpopuler-di-giias-2018.html'}]"
      ]
     },
     "execution_count": 4,
     "metadata": {},
     "output_type": "execute_result"
    }
   ],
   "source": [
    "links"
   ]
  },
  {
   "cell_type": "code",
   "execution_count": null,
   "metadata": {},
   "outputs": [],
   "source": [
    "con = mysql.connector.connect(user='root', password='',\n",
    "                              host='127.0.0.1',\n",
    "                              database='news_db')\n",
    "cursor = con.cursor()"
   ]
  },
  {
   "cell_type": "code",
   "execution_count": null,
   "metadata": {},
   "outputs": [],
   "source": [
    "for det in detail:\n",
    "    add_article = (\"INSERT INTO article\"\n",
    "              \"(post_id, author, pubdate, category, subcategory, content, comments, images, title, tags, url, source) \"\n",
    "              \"VALUES (%(id)s, %(author)s, %(pubdate)s, %(category)s, %(subcategory)s, %(content)s, %(comments)s, %(images)s, %(title)s, %(tags)s, %(url)s, %(source)s)\")\n",
    "    # Insert article\n",
    "    cursor.execute(add_article, det)\n",
    "    con.commit()\n",
    "\n",
    "cursor.close()"
   ]
  },
  {
   "cell_type": "code",
   "execution_count": null,
   "metadata": {},
   "outputs": [],
   "source": [
    "import pandas as pd"
   ]
  },
  {
   "cell_type": "code",
   "execution_count": null,
   "metadata": {},
   "outputs": [],
   "source": [
    "df1 = pd.read_sql(\"Select * from article\", con)"
   ]
  },
  {
   "cell_type": "code",
   "execution_count": null,
   "metadata": {},
   "outputs": [],
   "source": [
    "df1"
   ]
  },
  {
   "cell_type": "code",
   "execution_count": null,
   "metadata": {},
   "outputs": [],
   "source": [
    "con.close()"
   ]
  },
  {
   "cell_type": "code",
   "execution_count": null,
   "metadata": {},
   "outputs": [],
   "source": [
    "from datetime import datetime, timedelta\n",
    "import locale\n",
    "locale.setlocale(locale.LC_ALL, 'ID')"
   ]
  },
  {
   "cell_type": "code",
   "execution_count": null,
   "metadata": {},
   "outputs": [],
   "source": [
    "yes = datetime.now() - timedelta(1)"
   ]
  },
  {
   "cell_type": "code",
   "execution_count": null,
   "metadata": {},
   "outputs": [],
   "source": [
    "datetime.strftime(yes, '%a %Y-%b-%d %H:%M:%S')"
   ]
  },
  {
   "cell_type": "code",
   "execution_count": null,
   "metadata": {},
   "outputs": [],
   "source": []
  }
 ],
 "metadata": {
  "kernelspec": {
   "display_name": "Python 3",
   "language": "python",
   "name": "python3"
  },
  "language_info": {
   "codemirror_mode": {
    "name": "ipython",
    "version": 3
   },
   "file_extension": ".py",
   "mimetype": "text/x-python",
   "name": "python",
   "nbconvert_exporter": "python",
   "pygments_lexer": "ipython3",
   "version": "3.6.4"
  }
 },
 "nbformat": 4,
 "nbformat_minor": 2
}
