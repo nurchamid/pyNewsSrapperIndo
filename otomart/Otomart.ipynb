{
 "cells": [
  {
   "cell_type": "code",
   "execution_count": 1,
   "metadata": {},
   "outputs": [],
   "source": [
    "from Otomart import Otomart #class news Scrapper\n",
    "# import mysql.connector"
   ]
  },
  {
   "cell_type": "code",
   "execution_count": 2,
   "metadata": {},
   "outputs": [],
   "source": [
    "obj = Otomart()"
   ]
  },
  {
   "cell_type": "code",
   "execution_count": 3,
   "metadata": {
    "scrolled": false
   },
   "outputs": [
    {
     "name": "stdout",
     "output_type": "stream",
     "text": [
      "page  1\n",
      "https://www.otomart.id/berita/page/1\n",
      "Insert berita  Tiga Produsen Dengan Tingkat Kepuasan Tertinggi di Indonesia\n",
      "masuk\n",
      "Insert berita  Beli Mobil Toyota di Auto2000 Bisa Dapat Alphard dan C-HR\n",
      "masuk\n",
      "Insert berita  Penjualan SUV di Pasar Mobil Bekas Semakin Meningkat\n",
      "masuk\n",
      "Insert berita  Daihatsu Rekondisi Terios dan Xenia Lawas Milik Pelanggannya\n",
      "masuk\n",
      "Insert berita  Raih Medali Emas Atlet Wushu Ini Dapat Hadiah Mobil China\n",
      "masuk\n",
      "Insert berita  Bikin Aki Tekor Sebaiknya Hindari Kebiasaan Berikut Ini\n",
      "masuk\n",
      "Insert berita  Tips Mudah Mengetahui Kondisi Aki Soak Atau Tidak\n",
      "masuk\n",
      "Insert berita  Kia dan Hyundai Dikeluarkan dari Keanggotaan Gaikindo\n",
      "masuk\n"
     ]
    }
   ],
   "source": [
    "links = obj.getAllBerita([], 1)"
   ]
  },
  {
   "cell_type": "code",
   "execution_count": null,
   "metadata": {},
   "outputs": [],
   "source": []
  }
 ],
 "metadata": {
  "kernelspec": {
   "display_name": "Python 3",
   "language": "python",
   "name": "python3"
  },
  "language_info": {
   "codemirror_mode": {
    "name": "ipython",
    "version": 3
   },
   "file_extension": ".py",
   "mimetype": "text/x-python",
   "name": "python",
   "nbconvert_exporter": "python",
   "pygments_lexer": "ipython3",
   "version": "3.6.4"
  }
 },
 "nbformat": 4,
 "nbformat_minor": 2
}
