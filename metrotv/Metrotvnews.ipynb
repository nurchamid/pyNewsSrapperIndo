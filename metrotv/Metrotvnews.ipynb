{
 "cells": [
  {
   "cell_type": "code",
   "execution_count": 1,
   "metadata": {},
   "outputs": [],
   "source": [
    "from Metrotv import Metrotv\n",
    "import mysql.connector"
   ]
  },
  {
   "cell_type": "code",
   "execution_count": 2,
   "metadata": {},
   "outputs": [],
   "source": [
    "obj = Metrotv()"
   ]
  },
  {
   "cell_type": "code",
   "execution_count": null,
   "metadata": {},
   "outputs": [],
   "source": [
    "#links = obj.getAllBerita([], 1, 0, 'news', 'news', '2018/07/28')\n",
    "# internasional\n",
    "# ekonomi\n",
    "# bola\n",
    "# olahraga\n",
    "# teknologi\n",
    "# otomotif\n",
    "# hiburan\n",
    "# rona"
   ]
  },
  {
   "cell_type": "code",
   "execution_count": 34,
   "metadata": {
    "scrolled": false
   },
   "outputs": [
    {
     "name": "stdout",
     "output_type": "stream",
     "text": [
      "page  2\n",
      "http://internasional.metrotvnews.com/index/2018/07/30/0\n",
      "Insert berita  Penduduk Inggris Ingin Tetap di Uni Eropa\n",
      "salah2\n",
      "Insert berita  Serang Manusia, Beruang Kutub Ditembak Sampai Mati\n",
      "salah2\n",
      "Insert berita  Mugabe Berikan Suara dalam Pemilu Usai Dilengserkan\n",
      "salah2\n",
      "Insert berita  Wanita Inggris Lahirkan Anak Pertama di Usia 58 Tahun\n",
      "salah2\n",
      "Insert berita  Tak Ada Bukti Baru, Keluarga Korban MH370 Marah Besar\n",
      "salah2\n",
      "Insert berita  Mantan PM Pakistan Dilarikan ke RS akibat Masalah Jantung\n",
      "salah2\n",
      "Insert berita  Koran Pemerintah Zimbabwe Serang Capres Oposisi\n",
      "salah2\n",
      "Insert berita  RI-Iran Sepakati MoU Pemberdayaan Perempuan dan Perlindungan Anak\n",
      "salah2\n",
      "Insert berita  11 WNI Terjerat Perdagangan Manusia di Tiongkok\n",
      "salah2\n",
      "Insert berita  Mantan Pengacara Trump Punya 180 Rekaman Rahasia\n",
      "salah2\n",
      "Insert berita  Ketimpangan Demokrasi Kamboja Berdampak ke ASEAN\n",
      "salah2\n",
      "Insert berita  Oposisi Sebut Pemilu di Kamboja Seperti \\'Sirkus\\'\n",
      "salah2\n",
      "Insert berita  Partai Oposisi Minta RI Suarakan Demokrasi di Kamboja\n",
      "salah2\n",
      "Insert berita  Mugabe Dukung Kubu Oposisi dalam Pemilu Zimbabwe\n",
      "salah2\n",
      "Insert berita  Enam Orang Tewas dalam Kebakaran Hutan California\n",
      "salah2\n",
      "Insert berita  Korban Gempa asal Malaysia Berhasil Sampai Puncak Rinjani\n",
      "salah2\n",
      "Insert berita  Dana Bangun Tembok Mandek, Trump Ancam Tutup Pemerintah\n",
      "salah2\n",
      "Insert berita  Israel Cegat Kapal Bantuan Menuju Jalur Gaza\n",
      "salah2\n",
      "Insert berita  Partai Oposisi Kamboja Tolak Hasil Pemilu\n",
      "salah2\n",
      "Insert berita  Keluarga Korban MH370 Nantikan Laporan Resmi Penyelidikan\n",
      "salah2\n",
      "Insert berita  Empat Turis Tewas dalam Tabrak Lari di Tajikistan\n",
      "salah2\n",
      "Insert berita  Spanyol Selamatkan Lebih dari 200 Imigran di Mediterania\n",
      "salah2\n",
      "Insert berita  Teknologi Informasi Penting Bagi Pemberdayaan Ekonomi Perempuan\n",
      "salah2\n",
      "Insert berita  Tokoh Partai Oposisi Kamboja Ingin Bertemu Menlu Retno\n",
      "salah2\n",
      "Insert berita  Tiongkok Ada di Belakang Partai Berkuasa Kamboja\n",
      "salah2\n",
      "Insert berita  Kemenlu Malaysia Benarkan Warganya Tewas dalam Gempa Lombok\n",
      "salah2\n",
      "Insert berita  Partai PM Kamboja Klaim Kemenangan dalam Pemilu\n",
      "salah2\n",
      "Insert berita  Empat Pendaki Tewas dalam Insiden di Alpen Prancis\n",
      "salah2\n",
      "Insert berita  Korban Tewas Kebakaran Yunani Bertambah Jadi 91 Orang\n",
      "salah2\n",
      "Insert berita  Pemilu Pertama Zimbabwe Tanpa Mugabe Dimulai\n",
      "salah2\n",
      "Insert berita  Hanya karena Makanan, Dua Pilot Berkelahi di Udara\n",
      "salah2\n"
     ]
    }
   ],
   "source": [
    "# links = obj.getAllBerita([], 1, 0, 'internasional', 'internasional', '2018/07/31')\n",
    "links = obj.getAllBerita([], 2, 0, 'internasional', 'internasional', '2018/07/30')\n",
    "# links = obj.getAllBerita([], 1, 0, 'internasional', 'internasional', '2018/07/29')\n",
    "# links = obj.getAllBerita([], 1, 0, 'internasional', 'internasional', '2018/07/28')\n",
    "\n",
    "# links = obj.getAllBerita([], 1, 0, 'ekonomi', 'ekonomi', '2018/08/08')\n",
    "# links = obj.getAllBerita([], 1, 0, 'ekonomi', 'ekonomi', '2018/08/07')\n",
    "# links = obj.getAllBerita([], 1, 0, 'ekonomi', 'ekonomi', '2018/08/06')\n",
    "# links = obj.getAllBerita([], 1, 0, 'ekonomi', 'ekonomi', '2018/08/05')\n",
    "# links = obj.getAllBerita([], 1, 0, 'ekonomi', 'ekonomi', '2018/08/04')\n",
    "# links = obj.getAllBerita([], 1, 0, 'ekonomi', 'ekonomi', '2018/08/03')\n",
    "# links = obj.getAllBerita([], 1, 0, 'ekonomi', 'ekonomi', '2018/08/02')\n",
    "# links = obj.getAllBerita([], 1, 0, 'ekonomi', 'ekonomi', '2018/08/01')\n",
    "# links = obj.getAllBerita([], 1, 0, 'ekonomi', 'ekonomi', '2018/07/31')\n",
    "# links = obj.getAllBerita([], 1, 0, 'ekonomi', 'ekonomi', '2018/07/30')\n",
    "# links = obj.getAllBerita([], 1, 0, 'ekonomi', 'ekonomi', '2018/07/29')\n",
    "# links = obj.getAllBerita([], 1, 0, 'ekonomi', 'ekonomi', '2018/07/28')\n"
   ]
  },
  {
   "cell_type": "code",
   "execution_count": null,
   "metadata": {},
   "outputs": [],
   "source": []
  }
 ],
 "metadata": {
  "kernelspec": {
   "display_name": "Python 3",
   "language": "python",
   "name": "python3"
  },
  "language_info": {
   "codemirror_mode": {
    "name": "ipython",
    "version": 3
   },
   "file_extension": ".py",
   "mimetype": "text/x-python",
   "name": "python",
   "nbconvert_exporter": "python",
   "pygments_lexer": "ipython3",
   "version": "3.6.4"
  }
 },
 "nbformat": 4,
 "nbformat_minor": 2
}
