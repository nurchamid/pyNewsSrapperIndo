{
 "cells": [
  {
   "cell_type": "code",
   "execution_count": 2,
   "metadata": {},
   "outputs": [],
   "source": [
    "import requests\n",
    "from bs4 import BeautifulSoup\n",
    "from datetime import datetime, timedelta\n",
    "import locale\n",
    "locale.setlocale(locale.LC_ALL, 'ID')\n",
    "import re\n",
    "import pandas as pd\n",
    "from selenium import webdriver\n",
    "from selenium.webdriver.chrome.options import Options"
   ]
  },
  {
   "cell_type": "code",
   "execution_count": null,
   "metadata": {},
   "outputs": [],
   "source": [
    "http://www.metrotvnews.com/index/2018/07/28\n",
    "http://otomotif.metrotvnews.com/index/"
   ]
  },
  {
   "cell_type": "markdown",
   "metadata": {},
   "source": [
    "## GET INDEKS LINK"
   ]
  },
  {
   "cell_type": "code",
   "execution_count": 424,
   "metadata": {},
   "outputs": [],
   "source": [
    "def getIndeksLink(links, cat_link, date=datetime.strftime(datetime.today(), '%Y/%m/%d')):\n",
    "    \"\"\"\n",
    "    Untuk mengambil seluruh url \n",
    "    link pada indeks category tertentu\n",
    "    date format : YYYY-mm-dd\n",
    "    \"\"\"\n",
    "#     print(\"page \", page)\n",
    "    if cat_link == 'metrotvnews':\n",
    "        url = \"https://metrotvnews.com/index/\"+date\n",
    "    else :\n",
    "        url = \"https://\"+cat_link+\".metrotvnews.com/index/\"+date\n",
    "    print(url)\n",
    "    # Make the request and create the response object: response\n",
    "    response = requests.get(url)\n",
    "    # Extract HTML texts contained in Response object: html\n",
    "    html = response.text\n",
    "    # Create a BeautifulSoup object from the HTML: soup\n",
    "    soup = BeautifulSoup(html, \"html5lib\")\n",
    "    contentDiv = soup.find('div', class_=\"style_06\").findAll('h2')\n",
    "    contentDiv\n",
    "    for post in contentDiv:\n",
    "        link = [post.find('a',href=True)['href']]\n",
    "        links.append(link)\n",
    "        \n",
    "    el_page = soup.find('div', class_=\"extrapadding\")\n",
    "    if el_page:\n",
    "        a_page = el_page.findAll('div', class_='bu fr')[-1].find('a')\n",
    "        if  el_page.findAll('div', class_='paging__item')[-1].find('a', class_=\"paging__link paging__link--active\"):\n",
    "            max_page = page\n",
    "        else:\n",
    "            max_page = int(a_page['data-ci-pagination-page'].replace('\\n', '').strip(' '))\n",
    "            \n",
    "        if page < max_page:\n",
    "            links = getIndeksLink(links, page+1, cat_link, category, date)\n",
    "        \n",
    "    return links"
   ]
  },
  {
   "cell_type": "code",
   "execution_count": 203,
   "metadata": {},
   "outputs": [
    {
     "data": {
      "text/plain": [
       "<div class=\"extrapadding\">\n",
       "    <div class=\"grid\"><div class=\"bu fr\"><a data-ci-pagination-page=\"2\" href=\"http://news.metrotvnews.com/index/2018/07/27/30\" rel=\"next\">NEXT ›</a></div><div class=\"bu fr\"><a data-ci-pagination-page=\"4\" href=\"http://news.metrotvnews.com/index/2018/07/27/90\">LAST »</a></div></div></div>"
      ]
     },
     "execution_count": 203,
     "metadata": {},
     "output_type": "execute_result"
    }
   ],
   "source": [
    "soup.find('div', class_=\"extrapadding\")"
   ]
  },
  {
   "cell_type": "code",
   "execution_count": null,
   "metadata": {},
   "outputs": [],
   "source": []
  },
  {
   "cell_type": "code",
   "execution_count": 201,
   "metadata": {},
   "outputs": [],
   "source": [
    "links = []\n",
    "contentDiv = soup.find('div', class_=\"style_06\").findAll('h2')\n",
    "contentDiv\n",
    "for post in contentDiv:\n",
    "    link = [post.find('a',href=True)['href']]\n",
    "    links.append(link)"
   ]
  },
  {
   "cell_type": "code",
   "execution_count": 202,
   "metadata": {},
   "outputs": [
    {
     "data": {
      "text/plain": [
       "[['http://news.metrotvnews.com/peristiwa/JKRn8m3K-staf-kjri-johor-bahru-belajar-jurnalistik-bersama-metro-tv'],\n",
       " ['http://news.metrotvnews.com/politik/eN4X9j7N-barisan-tgb-merapat-ke-nasdem'],\n",
       " ['http://news.metrotvnews.com/hukum/8Ky7DEOb-bupati-lampung-selatan-jadi-tersangka-suap'],\n",
       " ['http://news.metrotvnews.com/metro/aNrDzGVk-kasn-anies-langgar-prosedur-perombakan-pejabat-dki'],\n",
       " ['http://news.metrotvnews.com/politik/gNQngDwb-nasdem-coret-15-nama-bacaleg-eks-napi-korupsi'],\n",
       " ['http://news.metrotvnews.com/politik/4KZ4rY6b-petani-adukan-harga-gula-rendah-ke-ombudsman'],\n",
       " ['http://news.metrotvnews.com/peristiwa/RkjZn7Rk-asap-karhutla-dipastikan-tak-ganggu-asian-games'],\n",
       " ['http://news.metrotvnews.com/peristiwa/0kp21xnN-sumsel-tidak-liburkan-siswa-selama-asian-games'],\n",
       " ['http://news.metrotvnews.com/peristiwa/8N0V9mEk-menhut-tegaskan-isu-udara-jakarta-buruk-tidak-benar'],\n",
       " ['http://news.metrotvnews.com/politik/nN95ZzRN-pks-dinilai-berpotensi-hengkang-dari-poros-prabowo'],\n",
       " ['http://news.metrotvnews.com/peristiwa/GNlAaVyb-palembang-siap-menggelar-asian-games'],\n",
       " ['http://news.metrotvnews.com/peristiwa/lKYERLQK-dana-bos-boleh-digunakan-untuk-internet-sekolah'],\n",
       " ['http://news.metrotvnews.com/peristiwa/ybDOmnjN-kemenaker-dorong-pemanfaatan-ti-untuk-meningkatkan-produktivitas'],\n",
       " ['http://news.metrotvnews.com/metro/aNrD5M6k-sandi-pembawa-obor-asian-games-tokoh-inspiratif'],\n",
       " ['http://news.metrotvnews.com/politik/8Ky7DMEb-adhyaksa-dault-urung-nyaleg'],\n",
       " ['http://news.metrotvnews.com/peristiwa/Wb7J9ZrN-anies-minta-pusat-tak-ganggu-pembenahan-kali-item'],\n",
       " ['http://news.metrotvnews.com/hukum/DkqLZgZb-tiga-orang-ditangkap-terkait-penembakan-di-penjaringan'],\n",
       " ['http://news.metrotvnews.com/politik/Rb1V9q2k-pemerintah-buat-komik-pemilu-untuk-gaet-pemilih-pemula'],\n",
       " ['http://news.metrotvnews.com/peristiwa/PNgeoQ8k-tgb-buka-konferensi-ulama-internasional'],\n",
       " ['http://news.metrotvnews.com/peristiwa/0kp21aRN-ombudsman-minta-kemendikbud-beri-sanksi-pada-sekolah'],\n",
       " ['http://news.metrotvnews.com/peristiwa/4baoeDJK-polda-larang-keke-challenge'],\n",
       " ['http://news.metrotvnews.com/metro/ob3Vd90N-kali-item-akan-disemprot-pewangi'],\n",
       " ['http://news.metrotvnews.com/peristiwa/nbw7293b-umm-kembangkan-produk-mie-dari-umbi-umbian'],\n",
       " ['http://news.metrotvnews.com/peristiwa/eN4X9AyN-baznas-microfinance-desa-diresmikan-di-bogor'],\n",
       " ['http://news.metrotvnews.com/politik/8Ky7DrEb-pdi-perjuangan-enggan-korbankan-sistem-ketatanegaraan-demi-jk'],\n",
       " ['http://news.metrotvnews.com/metro/zNP0a9xN-palyja-temukan-579-pipa-sambungan-air-ilegal'],\n",
       " ['http://news.metrotvnews.com/peristiwa/nN95ZLjN-adhyaksa-dault-ngadu-pembekuan-anggaran-pramuka-ke-jk'],\n",
       " ['http://news.metrotvnews.com/peristiwa/GNGqQndk-perundungan-di-dunia-pendidikan-jadi-perhatian-unicef'],\n",
       " ['http://news.metrotvnews.com/hukum/0k8Zp2ON-pemilik-akun-bola-gila-mangkir'],\n",
       " ['http://news.metrotvnews.com/hukum/GbmjgVLk-masa-jabatan-kepala-negara-di-uud-sudah-jelas']]"
      ]
     },
     "execution_count": 202,
     "metadata": {},
     "output_type": "execute_result"
    }
   ],
   "source": [
    "links"
   ]
  },
  {
   "cell_type": "code",
   "execution_count": null,
   "metadata": {},
   "outputs": [],
   "source": [
    "el_page = soup.find('div', class_=\"paging__wrap clearfix\")"
   ]
  },
  {
   "cell_type": "code",
   "execution_count": 155,
   "metadata": {},
   "outputs": [],
   "source": [
    "url = \"http://news.metrotvnews.com/index/2018/07/27\""
   ]
  },
  {
   "cell_type": "code",
   "execution_count": 128,
   "metadata": {},
   "outputs": [],
   "source": [
    "# links = getIndeksLink([], 'otomotif')"
   ]
  },
  {
   "cell_type": "markdown",
   "metadata": {},
   "source": [
    "## GET DETAIL BERITA"
   ]
  },
  {
   "cell_type": "code",
   "execution_count": 123,
   "metadata": {},
   "outputs": [],
   "source": [
    "def getDetailBerita(url):\n",
    "#     all_articles = []\n",
    "#     for link in links:\n",
    "    articles = {}\n",
    "    #link\n",
    "#         url = link[0]\n",
    "    response = requests.get(url)\n",
    "    html = response.text\n",
    "\n",
    "    # Create a BeautifulSoup object from the HTML: soup\n",
    "    soup = BeautifulSoup(html, \"html5lib\")\n",
    "\n",
    "    #extract subcategory from breadcrumb\n",
    "    bc = soup.find('div', class_=\"breadcrumbs\")\n",
    "#     if not bc:\n",
    "#         continue\n",
    "\n",
    "    sub = bc.findAll('a')[1].text\n",
    "#     if (\"foto\" in sub.lower()) or  \"video\" in sub.lower(): \n",
    "#         continue\n",
    "\n",
    "    articles['subcategory'] = sub\n",
    "\n",
    "    #articles['id'] = int(soup.find(\"meta\", attrs={'name':'articleid'})['content'])\n",
    "\n",
    "    #category\n",
    "#         articles['category'] = link[1]\n",
    "    articles['url'] = url\n",
    "\n",
    "    article = soup.find('div', class_=\"tru\")\n",
    "\n",
    "    #extract date\n",
    "    pubdate_author = soup.find(\"div\",class_=\"reg\").text\n",
    "    pubdate_author_split = pubdate_author.split(' \\xa0\\xa0 • \\xa0\\xa0 ')\n",
    "    pubdate = pubdate_author_split[1]\n",
    "    pubdate = pubdate.strip(' \\t\\n\\r')\n",
    "    pubdate = pubdate.replace(' WIB','')\n",
    "    articles['pubdate'] = datetime.strftime(datetime.strptime(pubdate, \"%A, %d %b %Y %H:%M\"), \"%Y-%m-%d %H:%M:%S\")\n",
    "\n",
    "    #extract author\n",
    "    author = pubdate_author_split[0]\n",
    "    articles['author'] = author\n",
    "\n",
    "    #extract title\n",
    "    articles['title'] = soup.find('meta', attrs={\"property\":\"og:title\"})['content']\n",
    "\n",
    "    #source\n",
    "    articles['source'] = 'metrotvnews'\n",
    "\n",
    "    #extract comments count\n",
    "    #articles['comments'] = int(soup.find('a', class_=\"komentar\").find('span').text.replace('Komentar', '').strip(' \\t\\n\\r'))\n",
    "    articles['comment'] = print(\"?\")\n",
    "    \n",
    "    #extract tags\n",
    "    tags = soup.find('div', class_=\"line\").findAll('a', class_=\"tag\")\n",
    "    articles['tags'] = ','.join([x.text for x in tags])\n",
    "\n",
    "    #extract images\n",
    "    articles['images'] = soup.find('img', class_=\"pic\")['src']\n",
    "\n",
    "    #extract detail\n",
    "    detail = soup.find('div', class_=\"tru\")\n",
    "\n",
    "    #hapus link sisip\n",
    "    for link in detail.findAll('div', class_=\"related\"):\n",
    "        link.decompose()\n",
    "\n",
    "    #hapus video sisip\n",
    "    for tag in detail.findAll('iframe', class_=\"embedv\"):\n",
    "        tag.decompose()\n",
    "\n",
    "    #hapus all setelah clear fix\n",
    "    #for det in detail.find('div', class_=\"wfull fl rl\"):\n",
    "    #    det.decompose()\n",
    "\n",
    "    #hapus all script\n",
    "    for script in detail.findAll('script'):\n",
    "        script.decompose()\n",
    "\n",
    "    #extract content\n",
    "    detail = BeautifulSoup(detail.decode_contents().replace('<br/>', ' '), \"html5lib\")\n",
    "    content = re.sub(r'\\n|\\t|\\b|\\r','',detail.text)\n",
    "    articles['content'] = content.strip(' ')\n",
    "    #print('memasukkan berita id ', articles['id'])\n",
    "    #all_articles.append(articles)\n",
    "    return articles"
   ]
  },
  {
   "cell_type": "code",
   "execution_count": 124,
   "metadata": {},
   "outputs": [],
   "source": [
    "url = \"http://news.metrotvnews.com/peristiwa/JKRn8m3K-staf-kjri-johor-bahru-belajar-jurnalistik-bersama-metro-tv\""
   ]
  },
  {
   "cell_type": "code",
   "execution_count": 156,
   "metadata": {},
   "outputs": [],
   "source": [
    "response = requests.get(url)\n",
    "    # Extract HTML texts contained in Response object: html\n",
    "html = response.text\n",
    "    # Create a BeautifulSoup object from the HTML: soup\n",
    "soup = BeautifulSoup(html, \"html5lib\")"
   ]
  },
  {
   "cell_type": "code",
   "execution_count": 143,
   "metadata": {},
   "outputs": [],
   "source": [
    "# articles['comments'] = int(soup.find('a', class_=\"komentar\").find('span').text.replace('Komentar', '').strip(' \\t\\n\\r'))\n",
    "# articles['comments'] "
   ]
  },
  {
   "cell_type": "code",
   "execution_count": 125,
   "metadata": {},
   "outputs": [
    {
     "name": "stdout",
     "output_type": "stream",
     "text": [
      "?\n"
     ]
    },
    {
     "data": {
      "text/plain": [
       "[{'author': ' ',\n",
       "  'comment': None,\n",
       "  'content': 'Johor Bahru: Staf Konsulat Jenderal RI (KJRI) Johor Bahru, Malaysia, mendapatkan pengalaman belajar ilmu jurnalistik bersama Metro TV. Pelatihan ini dibuka oleh Konsul Jenderal RI di Johor Bahru, Haris Nugroho.  \"Sayang kalau pelatihan ini tidak dimanfaatkan dengan baik. Apalagi kita sudah mengundang narasumber dari Metro TV yang didatangkan langsung dari Jakarta,\" kata Haris saat memberi sambutan di depan 50 peserta pelatihan, di kantor perwakilan KJRI di Johor Bahru, Malaysia, Jumat, 27 Juli 2018.     Haris mengingatkan seluruh peserta agar mengaplikasikan pengetahuan yang diperoleh untuk meningkatkan kualitas karya jurnalistik, khususnya di unit penerangan KJRI Johor Bahru. Ia juga berharap pelatihan ini bisa meningkatkan pengetahuan peserta.  \"Usai pelatihan ini saya berharap peserta mampu menunjukkan kualitas kerja dan fungsi pelayanan informasi di lingkungan kantor perwakilan kita,\" kata Haris.  Bertindak sebagai narasumber pelatihan adalah jurnalis senior Metro TV, Budiyanto. Ia memberikan materi teknik pengambilan gambar, teknik penulisan berita televisi, dan sejumlah materi jurnalistik lainnya.  Baca: Dunia Jurnalistik Diminati Mahasiswa  Budiyanto yang juga mewakili Medcom.id turut berbagi pengalaman selama bertugas sebagai jurnalis di medan konflik, baik di dalam maupun luar negeri.  Pelatihan jurnalistik terhadap staf internal di KJRI Johor Bahru berlangsung hingga 28 Juli 2018.  Pada Minggu, 29 Juli 2018, Metro TV juga akan memberikan pelatihan jurnalistik kepada 40 mahasiswa Universitas Terbuka, Johor Bahru. Mahasiswa peserta pelatihan ini tak lain adalah tenaga kerja Indonesia (TKI).                 (UWA)',\n",
       "  'images': 'http://cdn.metrotvnews.com/dynamic/content/2018/07/27/907692/9aBFixdLsP.jpeg?w=650',\n",
       "  'pubdate': '2018-07-27 23:19:00',\n",
       "  'source': 'metrotvnews',\n",
       "  'subcategory': 'Peristiwa',\n",
       "  'tags': 'metro tv,jurnalistik',\n",
       "  'title': 'Staf KJRI Johor Bahru Belajar Jurnalistik Bersama Metro TV',\n",
       "  'url': 'http://news.metrotvnews.com/peristiwa/JKRn8m3K-staf-kjri-johor-bahru-belajar-jurnalistik-bersama-metro-tv'}]"
      ]
     },
     "execution_count": 125,
     "metadata": {},
     "output_type": "execute_result"
    }
   ],
   "source": [
    "details = [getDetailBerita(url)]\n",
    "details"
   ]
  },
  {
   "cell_type": "code",
   "execution_count": 126,
   "metadata": {},
   "outputs": [],
   "source": [
    "df = pd.DataFrame(details)"
   ]
  },
  {
   "cell_type": "code",
   "execution_count": 127,
   "metadata": {},
   "outputs": [
    {
     "data": {
      "text/html": [
       "<div>\n",
       "<style scoped>\n",
       "    .dataframe tbody tr th:only-of-type {\n",
       "        vertical-align: middle;\n",
       "    }\n",
       "\n",
       "    .dataframe tbody tr th {\n",
       "        vertical-align: top;\n",
       "    }\n",
       "\n",
       "    .dataframe thead th {\n",
       "        text-align: right;\n",
       "    }\n",
       "</style>\n",
       "<table border=\"1\" class=\"dataframe\">\n",
       "  <thead>\n",
       "    <tr style=\"text-align: right;\">\n",
       "      <th></th>\n",
       "      <th>author</th>\n",
       "      <th>comment</th>\n",
       "      <th>content</th>\n",
       "      <th>images</th>\n",
       "      <th>pubdate</th>\n",
       "      <th>source</th>\n",
       "      <th>subcategory</th>\n",
       "      <th>tags</th>\n",
       "      <th>title</th>\n",
       "      <th>url</th>\n",
       "    </tr>\n",
       "  </thead>\n",
       "  <tbody>\n",
       "    <tr>\n",
       "      <th>0</th>\n",
       "      <td></td>\n",
       "      <td>None</td>\n",
       "      <td>Johor Bahru: Staf Konsulat Jenderal RI (KJRI) ...</td>\n",
       "      <td>http://cdn.metrotvnews.com/dynamic/content/201...</td>\n",
       "      <td>2018-07-27 23:19:00</td>\n",
       "      <td>metrotvnews</td>\n",
       "      <td>Peristiwa</td>\n",
       "      <td>metro tv,jurnalistik</td>\n",
       "      <td>Staf KJRI Johor Bahru Belajar Jurnalistik Bers...</td>\n",
       "      <td>http://news.metrotvnews.com/peristiwa/JKRn8m3K...</td>\n",
       "    </tr>\n",
       "  </tbody>\n",
       "</table>\n",
       "</div>"
      ],
      "text/plain": [
       "  author comment                                            content  \\\n",
       "0           None  Johor Bahru: Staf Konsulat Jenderal RI (KJRI) ...   \n",
       "\n",
       "                                              images              pubdate  \\\n",
       "0  http://cdn.metrotvnews.com/dynamic/content/201...  2018-07-27 23:19:00   \n",
       "\n",
       "        source subcategory                  tags  \\\n",
       "0  metrotvnews   Peristiwa  metro tv,jurnalistik   \n",
       "\n",
       "                                               title  \\\n",
       "0  Staf KJRI Johor Bahru Belajar Jurnalistik Bers...   \n",
       "\n",
       "                                                 url  \n",
       "0  http://news.metrotvnews.com/peristiwa/JKRn8m3K...  "
      ]
     },
     "execution_count": 127,
     "metadata": {},
     "output_type": "execute_result"
    }
   ],
   "source": [
    "df"
   ]
  },
  {
   "cell_type": "code",
   "execution_count": 122,
   "metadata": {},
   "outputs": [],
   "source": [
    "# options = Options()\n",
    "# options.add_argument('--headless')\n",
    "# options.add_argument('--disable-gpu')  # Last I checked this was necessary.\n",
    "# options.add_argument('--disable-extensions')\n",
    "\n",
    "# driver = webdriver.Chrome(\"../chromedriver.exe\", chrome_options=options)\n",
    "# driver.get(url)\n",
    "# html = driver.page_source\n",
    "# soup = BeautifulSoup(html, 'html5lib')\n",
    "\n",
    "# comment = soup.find('div', class_=\"span4 comments-count tright\")\n",
    "# comment_num = comment.text.replace('Ada ', '')\n",
    "# comment_num = comment_num.replace(' komentar untuk artikel ini', '')"
   ]
  },
  {
   "cell_type": "code",
   "execution_count": null,
   "metadata": {},
   "outputs": [],
   "source": []
  }
 ],
 "metadata": {
  "kernelspec": {
   "display_name": "Python 3",
   "language": "python",
   "name": "python3"
  },
  "language_info": {
   "codemirror_mode": {
    "name": "ipython",
    "version": 3
   },
   "file_extension": ".py",
   "mimetype": "text/x-python",
   "name": "python",
   "nbconvert_exporter": "python",
   "pygments_lexer": "ipython3",
   "version": "3.6.4"
  }
 },
 "nbformat": 4,
 "nbformat_minor": 2
}
