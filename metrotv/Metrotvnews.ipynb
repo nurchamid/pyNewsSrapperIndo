{
 "cells": [
  {
   "cell_type": "code",
   "execution_count": 1,
   "metadata": {},
   "outputs": [],
   "source": [
    "from Metrotv import Metrotv #class news Scrapper\n",
    "from datetime import timedelta, date, datetime\n",
    "from IPython.display import clear_output"
   ]
  },
  {
   "cell_type": "code",
   "execution_count": 2,
   "metadata": {},
   "outputs": [],
   "source": [
    "def daterange(start_date, end_date):\n",
    "    for n in range(int ((end_date - start_date).days)):\n",
    "        yield start_date + timedelta(n)"
   ]
  },
  {
   "cell_type": "code",
   "execution_count": 9,
   "metadata": {},
   "outputs": [],
   "source": [
    "obj = Metrotv()\n",
    "end_date = date(2018, 8, 8)\n",
    "start_date = date(2018, 2, 23)\n",
    "init_page = 1\n",
    "list_cat = [['internasional', 'internasional'], ['otomotif', 'otomotif'], ['ekonomi', 'ekonomi'],['bola','bola'],\n",
    "            ['olahraga','olahraga'],['teknologi','teknologi'],['hiburan','hiburan'],['rona','rona']]\n",
    "init_cat = list_cat[7:]"
   ]
  },
  {
   "cell_type": "code",
   "execution_count": null,
   "metadata": {
    "scrolled": false
   },
   "outputs": [
    {
     "name": "stdout",
     "output_type": "stream",
     "text": [
      "2018-02-25\n",
      "bola\n",
      "page  1\n",
      "http://bola.metrotvnews.com/index/2018/02/25/0\n",
      "http://bola.metrotvnews.com/italia/8N08mMzN-lazio-pesta-gol-di-markas-sassuolo\n",
      "Insert berita  Lazio Pesta Gol di Markas Sassuolo\n",
      "masuk\n",
      "http://bola.metrotvnews.com/inggris/dN6rYnvN-sundulan-lingard-pastikan-kemenangan-mu-atas-chelsea\n",
      "Insert berita  Sundulan Lingard Pastikan Kemenangan MU atas Chelsea\n",
      "masuk\n",
      "http://bola.metrotvnews.com/dunia/1bV43VPK-tersangkut-kasus-doping-samir-nasri-dihukum-enam-bulan\n",
      "Insert berita  Tersangkut Kasus Doping, Samir Nasri Dihukum Enam Bulan\n",
      "masuk\n",
      "http://bola.metrotvnews.com/inggris/ob3AQMyK-gol-telat-kane-lanjutkan-catatan-impresif-tottenham-hotspur\n",
      "Insert berita  Gol Telat Kane Lanjutkan Catatan Impresif Tottenham Hotspur\n",
      "masuk\n",
      "http://bola.metrotvnews.com/inggris/zNA7qLwk-polling-twitter-metro-tv-mu-dijagokan-menang-atas-chelsea\n",
      "Insert berita  Polling Twitter Metro TV, MU Dijagokan Menang atas Chelsea\n",
      "masuk\n",
      "http://bola.metrotvnews.com/spanyol/8Kyve46N-barcelona-kehilangan-bek-sayap-andalan-lima-pekan\n",
      "Insert berita  Barcelona Kehilangan Bek Sayap Andalan Lima Pekan\n",
      "masuk\n",
      "http://bola.metrotvnews.com/dunia/GKdQ1WrN-neymar-dan-mbappe-tidak-memiliki-dna-psg\n",
      "Insert berita  Neymar dan Mbappe Tidak Memiliki DNA PSG\n",
      "masuk\n",
      "http://bola.metrotvnews.com/inggris/nN9Dv59K-kepercayaan-diri-chelsea-bertambah-usai-lawan-barcelona\n",
      "Insert berita  Kepercayaan Diri Chelsea Bertambah Usai Lawan Barcelona\n",
      "masuk\n",
      "http://bola.metrotvnews.com/inggris/1bV43GPK-aubameyang-enggan-mengubah-gaya-hidup-mewahnya\n",
      "Insert berita  Aubameyang Enggan Mengubah Gaya Hidup Mewahnya\n",
      "masuk\n"
     ]
    }
   ],
   "source": [
    "for single_date in daterange(start_date, end_date):\n",
    "    for cat in init_cat:\n",
    "        clear_output()\n",
    "        print(single_date.strftime(\"%Y-%m-%d\"))\n",
    "        print(cat[0])\n",
    "        obj.getAllBerita([], init_page, 0, cat[0], cat[1], single_date.strftime(\"%Y/%m/%d\"))\n",
    "        init_cat = list_cat\n",
    "    init_page = 1"
   ]
  },
  {
   "cell_type": "code",
   "execution_count": null,
   "metadata": {},
   "outputs": [],
   "source": []
  }
 ],
 "metadata": {
  "kernelspec": {
   "display_name": "Python 3",
   "language": "python",
   "name": "python3"
  },
  "language_info": {
   "codemirror_mode": {
    "name": "ipython",
    "version": 3
   },
   "file_extension": ".py",
   "mimetype": "text/x-python",
   "name": "python",
   "nbconvert_exporter": "python",
   "pygments_lexer": "ipython3",
   "version": "3.6.4"
  }
 },
 "nbformat": 4,
 "nbformat_minor": 2
}
