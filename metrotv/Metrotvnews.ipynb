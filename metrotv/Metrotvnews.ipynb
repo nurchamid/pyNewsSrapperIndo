{
 "cells": [
  {
   "cell_type": "code",
   "execution_count": 1,
   "metadata": {},
   "outputs": [],
   "source": [
    "import requests\n",
    "from bs4 import BeautifulSoup\n",
    "from datetime import datetime, timedelta\n",
    "import locale\n",
    "locale.setlocale(locale.LC_ALL, 'ID')\n",
    "import re\n",
    "import pandas as pd\n",
    "from selenium import webdriver\n",
    "from selenium.webdriver.chrome.options import Options\n",
    "http://news.metrotvnews.com/index/2018/07/30/30"
   ]
  },
  {
   "cell_type": "markdown",
   "metadata": {},
   "source": [
    "## GET INDEKS LINK"
   ]
  },
  {
   "cell_type": "code",
   "execution_count": 14,
   "metadata": {},
   "outputs": [],
   "source": [
    "def getIndeksLink(links, page, offset, cat_link, category, date=datetime.strftime(datetime.today(), '%Y/%m/%d')):\n",
    "    \"\"\"\n",
    "    Untuk mengambil seluruh url \n",
    "    link pada indeks category tertentu\n",
    "    date format : YYYY-mm-dd\n",
    "    \"\"\"\n",
    "    print(\"page \", page)\n",
    "    url = \"http://\"+cat_link+\".metrotvnews.com/index/\"+date+\"/\"+ str(offset)\n",
    "    print(url)\n",
    "    # Make the request and create the response object: response\n",
    "    response = requests.get(url)\n",
    "    # Extract HTML texts contained in Response object: html\n",
    "    html = response.text\n",
    "    # Create a BeautifulSoup object from the HTML: soup\n",
    "    soup = BeautifulSoup(html, \"html5lib\")\n",
    "    contentDiv = soup.find('div', class_=\"style_06\").findAll('h2')\n",
    "    contentDiv\n",
    "    for post in contentDiv:\n",
    "        link = [post.find('a',href=True)['href']]\n",
    "        links.append(link)\n",
    "            \n",
    "    el_page = soup.find('div', class_=\"extrapadding\")\n",
    "    if el_page:\n",
    "        a_page = el_page.findAll('div', class_='bu fr')[-1].find('a')\n",
    "        max_page = int(a_page['data-ci-pagination-page'].replace('\\n', '').strip(' '))\n",
    "        \n",
    "        if page < max_page:\n",
    "            links = getIndeksLink(links, page+1, offset+30, cat_link, category, date)    \n",
    "        \n",
    "    return links"
   ]
  },
  {
   "cell_type": "markdown",
   "metadata": {},
   "source": [
    "## GET DETAIL BERITA"
   ]
  },
  {
   "cell_type": "code",
   "execution_count": 33,
   "metadata": {},
   "outputs": [],
   "source": [
    "def getDetailBerita(url):\n",
    "    all_articles = []\n",
    "    for link in links:\n",
    "        articles = {}\n",
    "        #link\n",
    "        url = link[0]\n",
    "        response = requests.get(url)\n",
    "        html = response.text\n",
    "\n",
    "        #Create a BeautifulSoup object from the HTML: soup\n",
    "        soup = BeautifulSoup(html, \"html5lib\")\n",
    "\n",
    "        #extract subcategory from breadcrumb\n",
    "        bc = soup.find('div', class_=\"breadcrumbs\")\n",
    "        if not bc:\n",
    "            continue\n",
    "        cat = bc.findAll('a')[-2].text\n",
    "        sub = bc.findAll('a')[-1].text\n",
    "\n",
    "        #articles['id'] = int(soup.find(\"meta\", attrs={'name':'articleid'})['content'])\n",
    "\n",
    "        #category\n",
    "        #category\n",
    "        articles['category'] = cat\n",
    "        articles['subcategory'] = sub\n",
    "        \n",
    "        articles['url'] = url\n",
    "\n",
    "        article = soup.find('div', class_=\"tru\")\n",
    "\n",
    "        #extract date\n",
    "        pubdate_author = soup.find(\"div\",class_=\"reg\").text\n",
    "        pubdate_author_split = pubdate_author.split(' \\xa0\\xa0 • \\xa0\\xa0 ')\n",
    "        pubdate = pubdate_author_split[1]\n",
    "        pubdate = pubdate.strip(' \\t\\n\\r')\n",
    "        pubdate = pubdate.replace(' WIB','')\n",
    "        articles['pubdate'] = datetime.strftime(datetime.strptime(pubdate, \"%A, %d %b %Y %H:%M\"), \"%Y-%m-%d %H:%M:%S\")\n",
    "\n",
    "        #extract author\n",
    "        author = pubdate_author_split[0]\n",
    "        articles['author'] = author\n",
    "\n",
    "        #extract title\n",
    "        articles['title'] = soup.find('meta', attrs={\"property\":\"og:title\"})['content']\n",
    "        if (\"foto\" in sub.lower()) or  \"video\" in sub.lower(): \n",
    "            continue\n",
    "            \n",
    "        #source\n",
    "        articles['source'] = 'metrotvnews'\n",
    "\n",
    "        #extract comments count\n",
    "        #articles['comments'] = int(soup.find('a', class_=\"komentar\").find('span').text.replace('Komentar', '').strip(' \\t\\n\\r'))\n",
    "        #articles['comment'] = print(\"?\")\n",
    "\n",
    "        #extract tags\n",
    "        tags = soup.find('div', class_=\"line\").findAll('a', class_=\"tag\")\n",
    "        articles['tags'] = ','.join([x.text for x in tags])\n",
    "\n",
    "        #extract images\n",
    "        articles['images'] = soup.find('img', class_=\"pic\")['src']\n",
    "\n",
    "        #extract detail\n",
    "        detail = soup.find('div', class_=\"tru\")\n",
    "\n",
    "        #hapus link sisip\n",
    "        for link in detail.findAll('div', class_=\"related\"):\n",
    "            link.decompose()\n",
    "\n",
    "        #hapus video sisip\n",
    "        for tag in detail.findAll('iframe', class_=\"embedv\"):\n",
    "            tag.decompose()\n",
    "\n",
    "        #hapus all setelah clear fix\n",
    "        #for det in detail.find('div', class_=\"wfull fl rl\"):\n",
    "        #    det.decompose()\n",
    "\n",
    "        #hapus all script\n",
    "        for script in detail.findAll('script'):\n",
    "            script.decompose()\n",
    "\n",
    "        #extract content\n",
    "        detail = BeautifulSoup(detail.decode_contents().replace('<br/>', ' '), \"html5lib\")\n",
    "        content = re.sub(r'\\n|\\t|\\b|\\r','',detail.text)\n",
    "        articles['content'] = content.strip(' ')\n",
    "        #print('memasukkan berita id ', articles['id'])\n",
    "        #all_articles.append(articles)\n",
    "    return articles"
   ]
  },
  {
   "cell_type": "code",
   "execution_count": 18,
   "metadata": {},
   "outputs": [
    {
     "name": "stdout",
     "output_type": "stream",
     "text": [
      "page  1\n",
      "http://news.metrotvnews.com/index/2018/07/31/0\n",
      "page  2\n",
      "http://news.metrotvnews.com/index/2018/07/31/30\n"
     ]
    }
   ],
   "source": [
    "links = getIndeksLink([], 1, 0, 'news', 'news')"
   ]
  },
  {
   "cell_type": "code",
   "execution_count": 19,
   "metadata": {},
   "outputs": [
    {
     "data": {
      "text/plain": [
       "[['http://news.metrotvnews.com/metro/VNx7ODJK-lrt-jakarta-dibuka-10-agustus'],\n",
       " ['http://news.metrotvnews.com/metro/zNAwE18k-polri-tagih-pergub-ganjil-genap-ke-pemprov-dki'],\n",
       " ['http://news.metrotvnews.com/politik/4KZ4B9gb-sandiaga-uno-mundur-sebagai-ketua-pemenangan-pemilu-gerindra'],\n",
       " ['http://news.metrotvnews.com/peristiwa/ybDOGgvN-polri-minta-masyarakat-membantu-pergerakan-atlet'],\n",
       " ['http://news.metrotvnews.com/politik/aNrDzR2k-koalisi-pendukung-prabowo-diklaim-solid'],\n",
       " ['http://news.metrotvnews.com/metro/yKX93Z7N-sandi-sebut-sudah-tandatangani-pergub-ganjil-genap'],\n",
       " ['http://news.metrotvnews.com/peristiwa/4KZ4BAYb-guru-wajib-beri-tugas-siswa-yang-libur'],\n",
       " ['http://news.metrotvnews.com/politik/8N0V4Rrk-pbb-kpu-capai-kesepakatan-lewat-mediasi-di-bawaslu'],\n",
       " ['http://news.metrotvnews.com/hukum/GKdW8eAk-pangeran-qatar-dapat-pengamanan-ektra-di-asian-games'],\n",
       " ['http://news.metrotvnews.com/hukum/nN95p33N-jad-dibekukan'],\n",
       " ['http://news.metrotvnews.com/metro/8korj5rb-ganjil-genap-diklaim-efektif-turunkan-volume-kendaraan'],\n",
       " ['http://news.metrotvnews.com/metro/lKYEQ5XK-sandi-janji-benahi-jalur-sepeda-di-jalan-asia-afrika'],\n",
       " ['http://news.metrotvnews.com/politik/gNQn2aYb-ma-prioritaskan-sidang-perkara-pkpu-larangan-eks-koruptor-nyaleg'],\n",
       " ['http://news.metrotvnews.com/politik/ob3VPLoN-pan-duel-jokowi-prabowo-sudah-final'],\n",
       " ['http://news.metrotvnews.com/politik/Zke0V36b-fahri-sebut-salim-segaf-bukan-pilihan-utama-kader-pks'],\n",
       " ['http://news.metrotvnews.com/metro/ObzdoeYK-penutupan-19-pintu-tol-difokuskan-di-tiga-titik'],\n",
       " ['http://news.metrotvnews.com/peristiwa/nbw7Bw6b-siswa-indonesia-torehkan-emas-di-republik-ceko-dan-portugal'],\n",
       " ['http://news.metrotvnews.com/metro/8Ky7YxYb-separator-pasar-rebo-kembali-dicat-hitam-putih'],\n",
       " ['http://news.metrotvnews.com/daerah/Wb7JPdBN-duda-pemburu-janda-di-tangerang-ditembak'],\n",
       " ['http://news.metrotvnews.com/politik/MkMnA5mK-sambut-hut-ri-benda-koleksi-kepresidenan-bakal-dipamerkan'],\n",
       " ['http://news.metrotvnews.com/politik/zNP0rRgN-mencuatnya-salim-segaf-jadi-cawapres-dari-pks-dipertanyakan'],\n",
       " ['http://news.metrotvnews.com/politik/nN95pd3N-prabowo-siap-mundur-dari-bursa-capres-hanya-retorika'],\n",
       " ['http://news.metrotvnews.com/metro/0k8ZPdaN-sandi-klaim-jakarta-siap-menyambut-asian-games'],\n",
       " ['http://news.metrotvnews.com/peristiwa/akW3emLk-jokowi-instruksikan-impor-barang-tak-strategis-disetop'],\n",
       " ['http://news.metrotvnews.com/metro/GNlAR12b-polisi-siap-beri-sanksi-pelangar-ganjil-genap'],\n",
       " ['http://news.metrotvnews.com/hukum/lKYEQ3XK-kakak-cak-imin-diperiksa-terkait-gratifikasi-bupati-nganjuk'],\n",
       " ['http://news.metrotvnews.com/daerah/gNQn2rYb-pdrb-kemendes-pdtt-tingkatkan-koordinasi-tangani-gempa-di-ntb'],\n",
       " ['http://news.metrotvnews.com/metro/ob3VPyoN-penutupan-19-pintu-tol-tunggu-efektivitas-ganjil-genap'],\n",
       " ['http://news.metrotvnews.com/hukum/nbw7B56b-mantan-koordinator-keuangan-pt-jasindo-diperiksa-kpk'],\n",
       " ['http://news.metrotvnews.com/politik/ybDOGyvN-pertemuan-jokowi-sekjen-parpol-koalisi-masuk-tataran-teknis'],\n",
       " ['http://news.metrotvnews.com/politik/JKRnL5QK-demokrat-bantah-memaksakan-duet-prabowo-dan-ahy'],\n",
       " ['http://news.metrotvnews.com/hukum/aNrDzj2k-dirut-pln-kembali-diperiksa-kpk'],\n",
       " ['http://news.metrotvnews.com/daerah/9K54Pelk-setelah-gempa-sebanyak-1-090-pengunjung-rinjani-turun-gunung'],\n",
       " ['http://news.metrotvnews.com/metro/GbmjrD1k-pergub-ganjil-genap-terbit-hari-ini'],\n",
       " ['http://news.metrotvnews.com/politik/nbw7Boxb-jokowi-kumpulkan-sekjen-partai-koalisi-malam-nanti'],\n",
       " ['http://news.metrotvnews.com/peristiwa/aNrDzjzk-tni-polri-pastikan-keamanan-kontingen-asian-games'],\n",
       " ['http://news.metrotvnews.com/hukum/JKRnL58K-istri-gubernur-aceh-diperiksa-kpk'],\n",
       " ['http://news.metrotvnews.com/politik/8N0V4Lwk-uu-sudah-cukup-melawan-politisasi-sara'],\n",
       " ['http://news.metrotvnews.com/politik/MkMnAOVK-jokowi-undang-sekjen-parpol-pendukung-ke-istana-bogor'],\n",
       " ['http://news.metrotvnews.com/metro/zNP0rlWN-simulasi-penutupan-19-pintu-tol-jakarta-ditunda'],\n",
       " ['http://news.metrotvnews.com/metro/nN95pO5N-mulai-agustus-pelanggar-ganjil-genap-ditilang'],\n",
       " ['http://news.metrotvnews.com/politik/GbmjrP1k-tepi-cara-psi-rekrut-caleg-patut-ditiru'],\n",
       " ['http://news.metrotvnews.com/politik/zNAwEQ6k-pengamat-koalisi-dengan-gerindra-demokrat-tak-mau-ketinggalan-kereta'],\n",
       " ['http://news.metrotvnews.com/politik/nN95p25N-bamsoet-minta-penanganan-gempa-lombok-dilakukan-cepat'],\n",
       " ['http://news.metrotvnews.com/politik/lKYEQvWK-perludem-citra-psi-terdongkrak-karena-tak-calegkan-koruptor'],\n",
       " ['http://news.metrotvnews.com/metro/aNrDz0zk-polda-metro-jaya-simulasikan-penutupan-19-pintu-tol'],\n",
       " ['http://news.metrotvnews.com/hukum/JKRnLv8K-kemenkumham-bakal-wajibkan-napi-transaksi-pakai-uang-elektronik-khusus'],\n",
       " ['http://news.metrotvnews.com/metro/9K54PD3k-jakarta-diprediksi-cerah-berawan'],\n",
       " ['http://news.metrotvnews.com/politik/4KZ4B1Jb-bahas-ijtima-ulama-pks-rayu-pan'],\n",
       " ['http://news.metrotvnews.com/politik/GbmjrM9k-sby-minta-prabowo-bijaksana-memilih-cawapres'],\n",
       " ['http://news.metrotvnews.com/metro/Obzdo0eK-sistem-ganjil-genap-jelang-asian-games-diklaim-kurangi-20-kemacetan'],\n",
       " ['http://news.metrotvnews.com/peristiwa/nbw7B05b-bnpb-pastikan-tenaga-medis-dan-obat-obatan-tercukupi'],\n",
       " ['http://news.metrotvnews.com/politik/yNLd531N-demokrat-pks-satu-suara-mengusung-prabowo'],\n",
       " ['http://news.metrotvnews.com/daerah/5b2VPrrb-tim-gabungan-evakuasi-543-pendaki-rinjani']]"
      ]
     },
     "execution_count": 19,
     "metadata": {},
     "output_type": "execute_result"
    }
   ],
   "source": [
    "links"
   ]
  },
  {
   "cell_type": "code",
   "execution_count": 34,
   "metadata": {},
   "outputs": [
    {
     "data": {
      "text/plain": [
       "[{'author': ' Yogi Bayu Aji',\n",
       "  'category': 'News',\n",
       "  'content': 'Jakarta: Tim gabungan berhasil mengevakuasi 543 pendaki yang terjebak di Gunung Rinjani, Nusa Tenggara Barat (NTB). Para pendaki yang berhasil dievakuasi terdiri dari 189 pendaki warga negara asing, 173 warga negara Indonesia, 150 orang porter, dan 31 orang guide.  Sebelum mengevakuasi, tim gabungan yang berjumlah 122 personel berhasil melakukan kontak dengan para wisatawan pendaki Gunung Rinjani. Mereka kemudian dievakuasi lantaran sejumlah jalur pendakian tertutup material longsor pascagempa.     Hingga saat ini, tim gabungan masih terus mengevakuasi para pendaki wisatawan lokal dan asing yang terperangkap akibat gempa bumi 6,4 SR yang terjadi beberapa waktu yang lalu.\\xa0  \"Tim gabungan evakuasi pendaki Gunung Rinjani masih berusaha keras menyelamatkan pendaki gunung yang masih berada di atas Gunung Rinjani,\" kata Kabidpenum Puspen TNI Kolonel Sus Taibur Rahman dalam keterangan resmi yang diterima Medcom.id, Jakarta, Senin, 30 Juli 2018.  Baca juga: Evakuasi Pendaki Terjebak di Rinjani jadi Prioritas  Adapun tim gabungan terdiri dari 20 prajurit TNI, 16 personel Polri/Sabhara, 34 personel Basarnas, 6 personel tenaga Medis, 4 personel Mahasiswa Pencinta Alam (Mapala), 10 personel staf Taman Nasional Gunung Rinjani (TNGR), 16 personel SAR, dan 16 orang masyarakat.  Dalam kegiatan penanganan, lanjutnya, tim gabungan mendirikan posko rumah sakit lapangan di depan Puskesmas Sembalun, Puskesmas Belanting, lapangan depan Kantor Desa Obel-obel, dan lapangan Desa Madayin.  \"Tim gabungan juga mendirikan dapur umum di Kantor Camat Sembalun, Kantor Desa Obel-obel, Kantor Desa Belanting, dan lapangan Desa Madayin untuk memudahkan tim gabungan menyalurkan bantuan berupa makanan yang siap saji bagi warga yang membutuhkan,\" tutup Sus Taibur Rahman.                 (HUS)',\n",
       "  'images': 'http://cdn.metrotvnews.com/dynamic/content/2018/07/31/908794/BoZIeX5SdM.jpg?w=650',\n",
       "  'pubdate': '2018-07-31 02:10:00',\n",
       "  'source': 'metrotvnews',\n",
       "  'subcategory': 'Daerah',\n",
       "  'tags': 'gempa,gempa bumi',\n",
       "  'title': 'Tim Gabungan Evakuasi 543 Pendaki Rinjani',\n",
       "  'url': 'http://news.metrotvnews.com/daerah/5b2VPrrb-tim-gabungan-evakuasi-543-pendaki-rinjani'}]"
      ]
     },
     "execution_count": 34,
     "metadata": {},
     "output_type": "execute_result"
    }
   ],
   "source": [
    "details = [getDetailBerita(links[:2])]\n",
    "details"
   ]
  },
  {
   "cell_type": "code",
   "execution_count": 35,
   "metadata": {},
   "outputs": [],
   "source": [
    "df = pd.DataFrame(details)"
   ]
  },
  {
   "cell_type": "code",
   "execution_count": 36,
   "metadata": {},
   "outputs": [
    {
     "data": {
      "text/html": [
       "<div>\n",
       "<style scoped>\n",
       "    .dataframe tbody tr th:only-of-type {\n",
       "        vertical-align: middle;\n",
       "    }\n",
       "\n",
       "    .dataframe tbody tr th {\n",
       "        vertical-align: top;\n",
       "    }\n",
       "\n",
       "    .dataframe thead th {\n",
       "        text-align: right;\n",
       "    }\n",
       "</style>\n",
       "<table border=\"1\" class=\"dataframe\">\n",
       "  <thead>\n",
       "    <tr style=\"text-align: right;\">\n",
       "      <th></th>\n",
       "      <th>author</th>\n",
       "      <th>category</th>\n",
       "      <th>content</th>\n",
       "      <th>images</th>\n",
       "      <th>pubdate</th>\n",
       "      <th>source</th>\n",
       "      <th>subcategory</th>\n",
       "      <th>tags</th>\n",
       "      <th>title</th>\n",
       "      <th>url</th>\n",
       "    </tr>\n",
       "  </thead>\n",
       "  <tbody>\n",
       "    <tr>\n",
       "      <th>0</th>\n",
       "      <td>Yogi Bayu Aji</td>\n",
       "      <td>News</td>\n",
       "      <td>Jakarta: Tim gabungan berhasil mengevakuasi 54...</td>\n",
       "      <td>http://cdn.metrotvnews.com/dynamic/content/201...</td>\n",
       "      <td>2018-07-31 02:10:00</td>\n",
       "      <td>metrotvnews</td>\n",
       "      <td>Daerah</td>\n",
       "      <td>gempa,gempa bumi</td>\n",
       "      <td>Tim Gabungan Evakuasi 543 Pendaki Rinjani</td>\n",
       "      <td>http://news.metrotvnews.com/daerah/5b2VPrrb-ti...</td>\n",
       "    </tr>\n",
       "  </tbody>\n",
       "</table>\n",
       "</div>"
      ],
      "text/plain": [
       "           author category                                            content  \\\n",
       "0   Yogi Bayu Aji     News  Jakarta: Tim gabungan berhasil mengevakuasi 54...   \n",
       "\n",
       "                                              images              pubdate  \\\n",
       "0  http://cdn.metrotvnews.com/dynamic/content/201...  2018-07-31 02:10:00   \n",
       "\n",
       "        source subcategory              tags  \\\n",
       "0  metrotvnews      Daerah  gempa,gempa bumi   \n",
       "\n",
       "                                       title  \\\n",
       "0  Tim Gabungan Evakuasi 543 Pendaki Rinjani   \n",
       "\n",
       "                                                 url  \n",
       "0  http://news.metrotvnews.com/daerah/5b2VPrrb-ti...  "
      ]
     },
     "execution_count": 36,
     "metadata": {},
     "output_type": "execute_result"
    }
   ],
   "source": [
    "df"
   ]
  },
  {
   "cell_type": "code",
   "execution_count": null,
   "metadata": {},
   "outputs": [],
   "source": []
  }
 ],
 "metadata": {
  "kernelspec": {
   "display_name": "Python 3",
   "language": "python",
   "name": "python3"
  },
  "language_info": {
   "codemirror_mode": {
    "name": "ipython",
    "version": 3
   },
   "file_extension": ".py",
   "mimetype": "text/x-python",
   "name": "python",
   "nbconvert_exporter": "python",
   "pygments_lexer": "ipython3",
   "version": "3.6.4"
  }
 },
 "nbformat": 4,
 "nbformat_minor": 2
}
