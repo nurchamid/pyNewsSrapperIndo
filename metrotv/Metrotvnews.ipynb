{
 "cells": [
  {
   "cell_type": "code",
   "execution_count": 1,
   "metadata": {},
   "outputs": [],
   "source": [
    "from Metrotv import Metrotv\n",
    "import mysql.connector"
   ]
  },
  {
   "cell_type": "code",
   "execution_count": 2,
   "metadata": {},
   "outputs": [],
   "source": [
    "obj = Metrotv()"
   ]
  },
  {
   "cell_type": "code",
   "execution_count": 3,
   "metadata": {
    "scrolled": false
   },
   "outputs": [
    {
     "name": "stdout",
     "output_type": "stream",
     "text": [
      "page  1\n",
      "http://news.metrotvnews.com/index/2018/08/03/0\n",
      "Insert berita  Capres-Cawapres Diimbau Segera Melaporkan Kekayaan ke KPK\n",
      "salah2\n",
      "Insert berita  AHY Siap Ditunjuk Jadi Cawapres\n",
      "salah2\n",
      "Insert berita  KPK Apresiasi Anies Laporkan Tongkat  dari Ghana\n",
      "salah2\n",
      "Insert berita  Pindah Kampus, dan Jadi Guru Les untuk Biayai Hidup\n",
      "salah2\n",
      "Insert berita  PDIP Bantah Sodorkan Puan Jadi Ketua Timses Jokowi\n",
      "salah2\n",
      "Insert berita  AHY: Pemuda Bukan soal Usia\n",
      "salah2\n",
      "Insert berita  Kemenperin Siap Hilirisasi Produk Inovasi Perguruan Tinggi\n",
      "salah2\n",
      "Insert berita  Pehobi Dukung Pembatasan Mobil Mewah\n",
      "salah2\n",
      "Insert berita  PGN Kawal Torch Relay Asian Games 2018 di Jambi\n",
      "salah2\n",
      "Insert berita  Kapolsek Sampoabalo Bakal Diberi Sanksi\n",
      "salah2\n",
      "Insert berita  Kematangan Demokrasi Indonesia Dicontoh Dunia\n",
      "salah2\n",
      "Insert berita  Gaya Blusukan Jokowi Disebut Mirip Soeharto\n",
      "salah2\n",
      "Insert berita  KPK Verifikasi Harta Rp20 Triliun Wilhelmus\n",
      "salah2\n",
      "Insert berita  Penumpang Transjakarta Meningkat saat Perluasan Ganjil Genap\n",
      "salah2\n"
     ]
    },
    {
     "ename": "TypeError",
     "evalue": "'bool' object is not subscriptable",
     "output_type": "error",
     "traceback": [
      "\u001b[1;31m---------------------------------------------------------------------------\u001b[0m",
      "\u001b[1;31mTypeError\u001b[0m                                 Traceback (most recent call last)",
      "\u001b[1;32m<ipython-input-3-41f9b6d9eb3c>\u001b[0m in \u001b[0;36m<module>\u001b[1;34m()\u001b[0m\n\u001b[1;32m----> 1\u001b[1;33m \u001b[0mlinks\u001b[0m \u001b[1;33m=\u001b[0m \u001b[0mobj\u001b[0m\u001b[1;33m.\u001b[0m\u001b[0mgetAllBerita\u001b[0m\u001b[1;33m(\u001b[0m\u001b[1;33m[\u001b[0m\u001b[1;33m]\u001b[0m\u001b[1;33m,\u001b[0m \u001b[1;36m1\u001b[0m\u001b[1;33m,\u001b[0m \u001b[1;36m0\u001b[0m\u001b[1;33m,\u001b[0m \u001b[1;34m'news'\u001b[0m\u001b[1;33m,\u001b[0m \u001b[1;34m'news'\u001b[0m\u001b[1;33m,\u001b[0m \u001b[1;34m'2018/08/03'\u001b[0m\u001b[1;33m)\u001b[0m\u001b[1;33m\u001b[0m\u001b[0m\n\u001b[0m",
      "\u001b[1;32mD:\\OJT\\pyNewsSrapperIndo\\metrotv\\Metrotv.py\u001b[0m in \u001b[0;36mgetAllBerita\u001b[1;34m(self, details, page, offset, cat_link, category, date)\u001b[0m\n\u001b[0;32m     40\u001b[0m             \u001b[0mlink\u001b[0m \u001b[1;33m=\u001b[0m \u001b[1;33m[\u001b[0m\u001b[0mpost\u001b[0m\u001b[1;33m.\u001b[0m\u001b[0mfind\u001b[0m\u001b[1;33m(\u001b[0m\u001b[1;34m'a'\u001b[0m\u001b[1;33m,\u001b[0m\u001b[0mhref\u001b[0m\u001b[1;33m=\u001b[0m\u001b[1;32mTrue\u001b[0m\u001b[1;33m)\u001b[0m\u001b[1;33m[\u001b[0m\u001b[1;34m'href'\u001b[0m\u001b[1;33m]\u001b[0m\u001b[1;33m]\u001b[0m\u001b[1;33m\u001b[0m\u001b[0m\n\u001b[0;32m     41\u001b[0m             \u001b[0mdetail\u001b[0m \u001b[1;33m=\u001b[0m \u001b[0mself\u001b[0m\u001b[1;33m.\u001b[0m\u001b[0mgetDetailBerita\u001b[0m\u001b[1;33m(\u001b[0m\u001b[0mlink\u001b[0m\u001b[1;33m)\u001b[0m\u001b[1;33m\u001b[0m\u001b[0m\n\u001b[1;32m---> 42\u001b[1;33m             \u001b[1;32mif\u001b[0m \u001b[0mself\u001b[0m\u001b[1;33m.\u001b[0m\u001b[0minsertDB\u001b[0m\u001b[1;33m(\u001b[0m\u001b[0mcon\u001b[0m\u001b[1;33m,\u001b[0m \u001b[0mdetail\u001b[0m\u001b[1;33m)\u001b[0m\u001b[1;33m:\u001b[0m\u001b[1;33m\u001b[0m\u001b[0m\n\u001b[0m\u001b[0;32m     43\u001b[0m                 \u001b[0mdetails\u001b[0m\u001b[1;33m.\u001b[0m\u001b[0mappend\u001b[0m\u001b[1;33m(\u001b[0m\u001b[0mdetail\u001b[0m\u001b[1;33m)\u001b[0m\u001b[1;33m\u001b[0m\u001b[0m\n\u001b[0;32m     44\u001b[0m \u001b[1;33m\u001b[0m\u001b[0m\n",
      "\u001b[1;32mD:\\OJT\\pyNewsSrapperIndo\\metrotv\\Metrotv.py\u001b[0m in \u001b[0;36minsertDB\u001b[1;34m(self, con, articles)\u001b[0m\n\u001b[0;32m    149\u001b[0m         \u001b[0mUntuk\u001b[0m \u001b[0mmemasukkan\u001b[0m \u001b[0mberita\u001b[0m \u001b[0mke\u001b[0m \u001b[0mDB\u001b[0m\u001b[1;33m\u001b[0m\u001b[0m\n\u001b[0;32m    150\u001b[0m         \"\"\"\n\u001b[1;32m--> 151\u001b[1;33m         \u001b[0mprint\u001b[0m\u001b[1;33m(\u001b[0m\u001b[1;34m\"Insert berita \"\u001b[0m\u001b[1;33m,\u001b[0m \u001b[0marticles\u001b[0m\u001b[1;33m[\u001b[0m\u001b[1;34m'title'\u001b[0m\u001b[1;33m]\u001b[0m\u001b[1;33m)\u001b[0m\u001b[1;33m\u001b[0m\u001b[0m\n\u001b[0m\u001b[0;32m    152\u001b[0m \u001b[1;33m\u001b[0m\u001b[0m\n\u001b[0;32m    153\u001b[0m         \u001b[0mcursor\u001b[0m \u001b[1;33m=\u001b[0m \u001b[0mcon\u001b[0m\u001b[1;33m.\u001b[0m\u001b[0mcursor\u001b[0m\u001b[1;33m(\u001b[0m\u001b[1;33m)\u001b[0m\u001b[1;33m\u001b[0m\u001b[0m\n",
      "\u001b[1;31mTypeError\u001b[0m: 'bool' object is not subscriptable"
     ]
    }
   ],
   "source": [
    "links = obj.getAllBerita([], 1, 0, 'news', 'news', '2018/08/03')"
   ]
  },
  {
   "cell_type": "code",
   "execution_count": null,
   "metadata": {},
   "outputs": [],
   "source": [
    "import requests\n",
    "from bs4 import BeautifulSoup\n",
    "from datetime import datetime, timedelta\n",
    "import locale\n",
    "locale.setlocale(locale.LC_ALL, 'ID')\n",
    "import re\n",
    "import pandas as pd\n",
    "from selenium import webdriver\n",
    "from selenium.webdriver.chrome.options import Options\n",
    "import time\n",
    "from requests.exceptions import ConnectionError\n",
    "import unicodedata\n",
    "import json\n",
    "import mysql.connector"
   ]
  },
  {
   "cell_type": "code",
   "execution_count": null,
   "metadata": {},
   "outputs": [],
   "source": [
    "articles = {}\n",
    "#link\n",
    "url = \"http://news.metrotvnews.com/peristiwa/nN95meEN-beasiswa-osc-ditantang-akomodir-siswa-berprestasi-nonakademik\"\n",
    "response = requests.get(url)\n",
    "html = response.text\n",
    "# Create a BeautifulSoup object from the HTML: soup\n",
    "soup = BeautifulSoup(html, \"html5lib\")"
   ]
  },
  {
   "cell_type": "code",
   "execution_count": null,
   "metadata": {},
   "outputs": [],
   "source": [
    "pubdate_author = soup.find('div', class_='reg').text\n",
    "pubdate_author\n",
    "pubdate_author_split = pubdate_author.split(' \\xa0\\xa0 • \\xa0\\xa0 ')\n",
    "pubdate_author_split\n",
    "pubdate = pubdate_author_split[1]\n",
    "pubdate = pubdate.strip(' \\t\\n\\r')\n",
    "pubdate = pubdate.replace(' WIB','')\n",
    "pubdate = pubdate.replace('Aug', 'Agt').replace('Juli', 'Jul').replace('Juni', 'Jun')\n",
    "pubdate = datetime.strftime(datetime.strptime(pubdate, \"%A, %d %b %Y %H:%M\"), \"%Y-%m-%d %H:%M:%S\")\n",
    "articles['pubdate'] = pubdate\n",
    "articles['pubdate']"
   ]
  },
  {
   "cell_type": "code",
   "execution_count": null,
   "metadata": {},
   "outputs": [],
   "source": [
    "soup.find('meta', attrs={\"property\":\"og:image\"})['content']"
   ]
  },
  {
   "cell_type": "code",
   "execution_count": null,
   "metadata": {},
   "outputs": [],
   "source": [
    "json.loads(soup.findAll('script', {'type':'text/javascript'}))"
   ]
  },
  {
   "cell_type": "code",
   "execution_count": null,
   "metadata": {},
   "outputs": [],
   "source": [
    "json.loads(soup.findAll('script', {'type':'text/javascript'}))"
   ]
  },
  {
   "cell_type": "code",
   "execution_count": null,
   "metadata": {},
   "outputs": [],
   "source": []
  }
 ],
 "metadata": {
  "kernelspec": {
   "display_name": "Python 3",
   "language": "python",
   "name": "python3"
  },
  "language_info": {
   "codemirror_mode": {
    "name": "ipython",
    "version": 3
   },
   "file_extension": ".py",
   "mimetype": "text/x-python",
   "name": "python",
   "nbconvert_exporter": "python",
   "pygments_lexer": "ipython3",
   "version": "3.6.4"
  }
 },
 "nbformat": 4,
 "nbformat_minor": 2
}
