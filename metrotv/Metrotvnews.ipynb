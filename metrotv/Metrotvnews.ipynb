{
 "cells": [
  {
   "cell_type": "code",
   "execution_count": 1,
   "metadata": {},
   "outputs": [],
   "source": [
    "from Metrotv import Metrotv #class news Scrapper\n",
    "from datetime import timedelta, date, datetime\n",
    "from IPython.display import clear_output"
   ]
  },
  {
   "cell_type": "code",
   "execution_count": 2,
   "metadata": {},
   "outputs": [],
   "source": [
    "def daterange(start_date, end_date):\n",
    "    for n in range(int ((end_date - start_date).days)):\n",
    "        yield start_date + timedelta(n)"
   ]
  },
  {
   "cell_type": "code",
   "execution_count": 3,
   "metadata": {},
   "outputs": [],
   "source": [
    "#start_date = date(2018, 5, 7)\n",
    "obj = Metrotv()\n",
    "end_date = date(2018, 9, 1)\n",
    "start_date = date(2018, 8, 29)\n",
    "init_page = 1\n",
    "list_cat = [['internasional', 'internasional'], ['otomotif', 'otomotif'], ['ekonomi', 'ekonomi'],['bola','bola'],\n",
    "            ['olahraga','olahraga'],['teknologi','teknologi'],['hiburan','hiburan'],['rona','rona']]\n",
    "init_cat = list_cat[1:]"
   ]
  },
  {
   "cell_type": "code",
   "execution_count": null,
   "metadata": {
    "scrolled": false
   },
   "outputs": [
    {
     "name": "stdout",
     "output_type": "stream",
     "text": [
      "2018-08-29\n",
      "bola\n",
      "page  1\n",
      "http://bola.metrotvnews.com/index/2018/08/29/0\n",
      "http://bola.metrotvnews.com/dunia/5b2V3vdb-empat-remaja-penghuni-rusunawa-jakarta-berlatih-di-manchester-city\n",
      "Insert berita  Empat Remaja Penghuni Rusunawa Jakarta Berlatih di Manchester City\n",
      "masuk\n",
      "http://bola.metrotvnews.com/spanyol/MkMn98wK-ronaldo-akan-beli-klub-la-liga\n",
      "Insert berita  Ronaldo akan Beli Klub La Liga\n",
      "masuk\n",
      "http://bola.metrotvnews.com/inggris/JKRnZ0xK-kane-senang-spurs-tidak-datangkan-pemain-baru\n",
      "Insert berita  Kane Senang Spurs tidak Datangkan Pemain Baru\n"
     ]
    }
   ],
   "source": [
    "for single_date in daterange(start_date, end_date):\n",
    "    for cat in init_cat:\n",
    "        clear_output()\n",
    "        print(single_date.strftime(\"%Y-%m-%d\"))\n",
    "        print(cat[0])\n",
    "        obj.getAllBerita([], init_page, 0, cat[0], cat[1], single_date.strftime(\"%Y/%m/%d\"))\n",
    "        init_cat = list_cat\n",
    "    init_page = 1"
   ]
  },
  {
   "cell_type": "code",
   "execution_count": null,
   "metadata": {},
   "outputs": [],
   "source": []
  }
 ],
 "metadata": {
  "kernelspec": {
   "display_name": "Python 3",
   "language": "python",
   "name": "python3"
  },
  "language_info": {
   "codemirror_mode": {
    "name": "ipython",
    "version": 3
   },
   "file_extension": ".py",
   "mimetype": "text/x-python",
   "name": "python",
   "nbconvert_exporter": "python",
   "pygments_lexer": "ipython3",
   "version": "3.6.4"
  }
 },
 "nbformat": 4,
 "nbformat_minor": 2
}
