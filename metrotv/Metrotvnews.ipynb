{
 "cells": [
  {
   "cell_type": "code",
   "execution_count": 1,
   "metadata": {},
   "outputs": [],
   "source": [
    "from Metrotv import Metrotv #class news Scrapper\n",
    "from datetime import timedelta, date, datetime\n",
    "from IPython.display import clear_output"
   ]
  },
  {
   "cell_type": "code",
   "execution_count": 2,
   "metadata": {},
   "outputs": [],
   "source": [
    "def daterange(start_date, end_date):\n",
    "    for n in range(int ((end_date - start_date).days)):\n",
    "        yield start_date + timedelta(n)"
   ]
  },
  {
   "cell_type": "code",
   "execution_count": 3,
   "metadata": {},
   "outputs": [],
   "source": [
    "#bola\n",
    "obj = Metrotv()\n",
    "end_date = date(2018, 8, 8)\n",
    "start_date = date(2018, 1, 23)\n",
    "init_page = 1\n",
    "list_cat = [['internasional', 'internasional'], ['otomotif', 'otomotif'], ['ekonomi', 'ekonomi'],\n",
    "            ['olahraga','olahraga'],['teknologi','teknologi'],['hiburan','hiburan'],['rona','rona']]\n",
    "init_cat = list_cat[3:]"
   ]
  },
  {
   "cell_type": "code",
   "execution_count": 4,
   "metadata": {
    "scrolled": false
   },
   "outputs": [
    {
     "name": "stdout",
     "output_type": "stream",
     "text": [
      "2018-01-24\n",
      "ekonomi\n",
      "page  1\n",
      "http://ekonomi.metrotvnews.com/index/2018/01/24/0\n",
      "http://ekonomi.metrotvnews.com/mikro/GKdQBRrN-di-tahun-politik-apindo-yakin-ekonomi-cenderung-stabil\n",
      "Insert berita  Di Tahun Politik, Apindo Yakin Ekonomi Cenderung Stabil\n",
      "masuk\n",
      "page  2\n",
      "http://ekonomi.metrotvnews.com/index/2018/01/24/30\n",
      "http://ekonomi.metrotvnews.com/mikro/zNPvaAEk-pemerintah-jamin-kesejahteraan-petani-terjaga\n",
      "Insert berita  Pemerintah Jamin Kesejahteraan Petani Terjaga\n",
      "masuk\n",
      "page  3\n",
      "http://ekonomi.metrotvnews.com/index/2018/01/24/60\n",
      "http://ekonomi.metrotvnews.com/mikro/zNPva5gk-emas-antam-menguat-ke-rp637-ribu-gram\n",
      "Insert berita  Emas Antam Menguat ke Rp637 Ribu/Gram\n",
      "masuk\n",
      "http://ekonomi.metrotvnews.com/bursa/5b259v4N-rupiah-diprediksi-menguat-didorong-sejumlah-sentimen-positif\n",
      "Insert berita  Rupiah Diprediksi Menguat Didorong Sejumlah Sentimen Positif\n",
      "masuk\n",
      "http://ekonomi.metrotvnews.com/globals/ybJMYEBN-bursa-saham-inggris-naik-0-21\n",
      "Insert berita  Bursa Saham Inggris Naik 0,21%\n",
      "masuk\n",
      "http://ekonomi.metrotvnews.com/globals/8KyvD6YN-usd-tergelincir-usai-zona-euro-rilis-data-kepercayaan-konsumen\n",
      "Insert berita  USD Tergelincir Usai Zona Euro Rilis Data Kepercayaan Konsumen\n",
      "masuk\n",
      "http://ekonomi.metrotvnews.com/mikro/GNGMQ9Qk-nelayan-dan-surat-edaran-tertulis-untuk-cantrang\n",
      "Insert berita  Nelayan dan Surat Edaran Tertulis untuk Cantrang\n",
      "masuk\n",
      "http://ekonomi.metrotvnews.com/bursa/Rb1Z98Yk-ihsg-perdagangan-pagi-dibuka-menguat-ke-6-635\n",
      "Insert berita  IHSG Perdagangan Pagi Dibuka Menguat ke 6.635\n",
      "masuk\n",
      "http://ekonomi.metrotvnews.com/bursa/1bV45LWK-indeks-diprediksi-lanjutkan-penguatan\n",
      "Insert berita  Indeks Diprediksi Lanjutkan Penguatan\n",
      "masuk\n",
      "http://ekonomi.metrotvnews.com/bursa/0k8LpMak-ihsg-berpeluang-menguat\n",
      "Insert berita  IHSG Berpeluang Menguat\n",
      "masuk\n",
      "http://ekonomi.metrotvnews.com/bursa/3NOEWZ0k-rupiah-perdagangan-pagi-menguat-ke-rp13-329-usd\n",
      "Insert berita  Rupiah Perdagangan Pagi Menguat ke Rp13.329/USD\n",
      "masuk\n",
      "http://ekonomi.metrotvnews.com/bursa/wkBnwoqk-gerak-rupiah-diperkirakan-melemah\n",
      "Insert berita  Gerak Rupiah Diperkirakan Melemah\n",
      "masuk\n",
      "http://ekonomi.metrotvnews.com/mikro/5b259l4N-memasuki-musim-panen-diharapkan-harga-beras-turun\n",
      "Insert berita  Memasuki Musim Panen Diharapkan Harga Beras Turun\n",
      "masuk\n",
      "http://ekonomi.metrotvnews.com/globals/8N089BrN-emas-dunia-naik-ditopang-pelemahan-usd\n",
      "Insert berita  Emas Dunia Naik Ditopang Pelemahan USD\n",
      "masuk\n",
      "http://ekonomi.metrotvnews.com/globals/GKdQBZAN-harga-minyak-dunia-menguat-akibat-ekspektasi-permintaan-meningkat\n",
      "Insert berita  Harga Minyak Dunia Menguat Akibat Ekspektasi Permintaan Meningkat\n",
      "masuk\n",
      "http://ekonomi.metrotvnews.com/energi/Wb729WBN-jadi-bagian-pertamina-saka-energi-masuk-ke-subholding-hulu\n",
      "Insert berita  Jadi Bagian Pertamina, Saka Energi Masuk ke Subholding Hulu\n",
      "masuk\n",
      "http://ekonomi.metrotvnews.com/globals/MkMMv6mk-wall-street-berakhir-bervariasi-usai-laporan-pendapatan\n",
      "Insert berita  Wall Street Berakhir Bervariasi Usai Laporan Pendapatan\n",
      "masuk\n",
      "http://ekonomi.metrotvnews.com/mikro/aNrVY3zN-bumdes-bakal-didukung-mesin-edc\n",
      "Insert berita  BUMDes Bakal Didukung Mesin EDC\n",
      "masuk\n",
      "http://ekonomi.metrotvnews.com/bursa/Dkq3ZjnN-kenaikan-ihsg-dorong-penjualan-unit-link\n",
      "Insert berita  Kenaikan IHSG Dorong Penjualan Unit Link\n",
      "masuk\n"
     ]
    },
    {
     "ename": "AttributeError",
     "evalue": "'str' object has no attribute 'append'",
     "output_type": "error",
     "traceback": [
      "\u001b[1;31m---------------------------------------------------------------------------\u001b[0m",
      "\u001b[1;31mAttributeError\u001b[0m                            Traceback (most recent call last)",
      "\u001b[1;32m<ipython-input-4-147cd27d9a58>\u001b[0m in \u001b[0;36m<module>\u001b[1;34m()\u001b[0m\n\u001b[0;32m      4\u001b[0m         \u001b[0mprint\u001b[0m\u001b[1;33m(\u001b[0m\u001b[0msingle_date\u001b[0m\u001b[1;33m.\u001b[0m\u001b[0mstrftime\u001b[0m\u001b[1;33m(\u001b[0m\u001b[1;34m\"%Y-%m-%d\"\u001b[0m\u001b[1;33m)\u001b[0m\u001b[1;33m)\u001b[0m\u001b[1;33m\u001b[0m\u001b[0m\n\u001b[0;32m      5\u001b[0m         \u001b[0mprint\u001b[0m\u001b[1;33m(\u001b[0m\u001b[0mcat\u001b[0m\u001b[1;33m[\u001b[0m\u001b[1;36m0\u001b[0m\u001b[1;33m]\u001b[0m\u001b[1;33m)\u001b[0m\u001b[1;33m\u001b[0m\u001b[0m\n\u001b[1;32m----> 6\u001b[1;33m         \u001b[0mobj\u001b[0m\u001b[1;33m.\u001b[0m\u001b[0mgetAllBerita\u001b[0m\u001b[1;33m(\u001b[0m\u001b[1;33m[\u001b[0m\u001b[1;33m]\u001b[0m\u001b[1;33m,\u001b[0m \u001b[0minit_page\u001b[0m\u001b[1;33m,\u001b[0m \u001b[1;36m0\u001b[0m\u001b[1;33m,\u001b[0m \u001b[0mcat\u001b[0m\u001b[1;33m[\u001b[0m\u001b[1;36m0\u001b[0m\u001b[1;33m]\u001b[0m\u001b[1;33m,\u001b[0m \u001b[0mcat\u001b[0m\u001b[1;33m[\u001b[0m\u001b[1;36m1\u001b[0m\u001b[1;33m]\u001b[0m\u001b[1;33m,\u001b[0m \u001b[0msingle_date\u001b[0m\u001b[1;33m.\u001b[0m\u001b[0mstrftime\u001b[0m\u001b[1;33m(\u001b[0m\u001b[1;34m\"%Y/%m/%d\"\u001b[0m\u001b[1;33m)\u001b[0m\u001b[1;33m)\u001b[0m\u001b[1;33m\u001b[0m\u001b[0m\n\u001b[0m\u001b[0;32m      7\u001b[0m         \u001b[0minit_cat\u001b[0m \u001b[1;33m=\u001b[0m \u001b[0mlist_cat\u001b[0m\u001b[1;33m\u001b[0m\u001b[0m\n\u001b[0;32m      8\u001b[0m     \u001b[0minit_page\u001b[0m \u001b[1;33m=\u001b[0m \u001b[1;36m1\u001b[0m\u001b[1;33m\u001b[0m\u001b[0m\n",
      "\u001b[1;32mD:\\OJT\\pyNewsSrapperIndo\\metrotv\\Metrotv.py\u001b[0m in \u001b[0;36mgetAllBerita\u001b[1;34m(self, details, page, offset, cat_link, category, date)\u001b[0m\n\u001b[0;32m     60\u001b[0m                 \u001b[1;32mif\u001b[0m \u001b[0mpage\u001b[0m \u001b[1;33m<\u001b[0m \u001b[0mmax_page\u001b[0m\u001b[1;33m:\u001b[0m\u001b[1;33m\u001b[0m\u001b[0m\n\u001b[0;32m     61\u001b[0m                     \u001b[0mtime\u001b[0m\u001b[1;33m.\u001b[0m\u001b[0msleep\u001b[0m\u001b[1;33m(\u001b[0m\u001b[1;36m5\u001b[0m\u001b[1;33m)\u001b[0m\u001b[1;33m\u001b[0m\u001b[0m\n\u001b[1;32m---> 62\u001b[1;33m                     \u001b[0mdetails\u001b[0m \u001b[1;33m=\u001b[0m \u001b[0mself\u001b[0m\u001b[1;33m.\u001b[0m\u001b[0mgetAllBerita\u001b[0m\u001b[1;33m(\u001b[0m\u001b[0mdetails\u001b[0m\u001b[1;33m,\u001b[0m \u001b[0mpage\u001b[0m\u001b[1;33m+\u001b[0m\u001b[1;36m1\u001b[0m\u001b[1;33m,\u001b[0m \u001b[0moffset\u001b[0m\u001b[1;33m+\u001b[0m\u001b[1;36m30\u001b[0m\u001b[1;33m,\u001b[0m \u001b[0mcat_link\u001b[0m\u001b[1;33m,\u001b[0m \u001b[0mcategory\u001b[0m\u001b[1;33m,\u001b[0m \u001b[0mdate\u001b[0m\u001b[1;33m)\u001b[0m\u001b[1;33m\u001b[0m\u001b[0m\n\u001b[0m\u001b[0;32m     63\u001b[0m         \u001b[1;32mreturn\u001b[0m \u001b[1;34m'berhasil ambil semua berita'\u001b[0m\u001b[1;33m\u001b[0m\u001b[0m\n\u001b[0;32m     64\u001b[0m \u001b[1;33m\u001b[0m\u001b[0m\n",
      "\u001b[1;32mD:\\OJT\\pyNewsSrapperIndo\\metrotv\\Metrotv.py\u001b[0m in \u001b[0;36mgetAllBerita\u001b[1;34m(self, details, page, offset, cat_link, category, date)\u001b[0m\n\u001b[0;32m     51\u001b[0m             \u001b[1;32mif\u001b[0m \u001b[0mdetail\u001b[0m\u001b[1;33m:\u001b[0m\u001b[1;33m\u001b[0m\u001b[0m\n\u001b[0;32m     52\u001b[0m                 \u001b[1;32mif\u001b[0m \u001b[0mself\u001b[0m\u001b[1;33m.\u001b[0m\u001b[0minsertDB\u001b[0m\u001b[1;33m(\u001b[0m\u001b[0mdetail\u001b[0m\u001b[1;33m)\u001b[0m\u001b[1;33m:\u001b[0m\u001b[1;33m\u001b[0m\u001b[0m\n\u001b[1;32m---> 53\u001b[1;33m                     \u001b[0mdetails\u001b[0m\u001b[1;33m.\u001b[0m\u001b[0mappend\u001b[0m\u001b[1;33m(\u001b[0m\u001b[0mdetail\u001b[0m\u001b[1;33m)\u001b[0m\u001b[1;33m\u001b[0m\u001b[0m\n\u001b[0m\u001b[0;32m     54\u001b[0m \u001b[1;33m\u001b[0m\u001b[0m\n\u001b[0;32m     55\u001b[0m             \u001b[0mel_page\u001b[0m \u001b[1;33m=\u001b[0m \u001b[0msoup\u001b[0m\u001b[1;33m.\u001b[0m\u001b[0mfind\u001b[0m\u001b[1;33m(\u001b[0m\u001b[1;34m'div'\u001b[0m\u001b[1;33m,\u001b[0m \u001b[0mclass_\u001b[0m\u001b[1;33m=\u001b[0m\u001b[1;34m\"grid\"\u001b[0m\u001b[1;33m)\u001b[0m\u001b[1;33m\u001b[0m\u001b[0m\n",
      "\u001b[1;31mAttributeError\u001b[0m: 'str' object has no attribute 'append'"
     ]
    }
   ],
   "source": [
    "for single_date in daterange(start_date, end_date):\n",
    "    for cat in init_cat:\n",
    "        clear_output()\n",
    "        print(single_date.strftime(\"%Y-%m-%d\"))\n",
    "        print(cat[0])\n",
    "        obj.getAllBerita([], init_page, 0, cat[0], cat[1], single_date.strftime(\"%Y/%m/%d\"))\n",
    "        init_cat = list_cat\n",
    "    init_page = 1"
   ]
  },
  {
   "cell_type": "code",
   "execution_count": null,
   "metadata": {},
   "outputs": [],
   "source": []
  }
 ],
 "metadata": {
  "kernelspec": {
   "display_name": "Python 3",
   "language": "python",
   "name": "python3"
  },
  "language_info": {
   "codemirror_mode": {
    "name": "ipython",
    "version": 3
   },
   "file_extension": ".py",
   "mimetype": "text/x-python",
   "name": "python",
   "nbconvert_exporter": "python",
   "pygments_lexer": "ipython3",
   "version": "3.6.4"
  }
 },
 "nbformat": 4,
 "nbformat_minor": 2
}
