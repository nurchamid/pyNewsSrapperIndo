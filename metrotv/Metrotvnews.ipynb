{
 "cells": [
  {
   "cell_type": "code",
   "execution_count": 1,
   "metadata": {},
   "outputs": [],
   "source": [
    "from Metrotv import Metrotv #class news Scrapper\n",
    "from datetime import timedelta, date, datetime\n",
    "from IPython.display import clear_output"
   ]
  },
  {
   "cell_type": "code",
   "execution_count": 2,
   "metadata": {},
   "outputs": [],
   "source": [
    "def daterange(start_date, end_date):\n",
    "    for n in range(int ((end_date - start_date).days)):\n",
    "        yield start_date + timedelta(n)"
   ]
  },
  {
   "cell_type": "code",
   "execution_count": 3,
   "metadata": {},
   "outputs": [],
   "source": [
    "obj = Metrotv()\n",
    "end_date = date(2018, 8, 8)\n",
    "start_date = date(2018, 2, 25)\n",
    "init_page = 1\n",
    "list_cat = [['internasional', 'internasional'], ['otomotif', 'otomotif'], ['ekonomi', 'ekonomi'],['bola','bola'],\n",
    "            ['olahraga','olahraga'],['teknologi','teknologi'],['hiburan','hiburan'],['rona','rona']]\n",
    "init_cat = list_cat[3:]"
   ]
  },
  {
   "cell_type": "code",
   "execution_count": null,
   "metadata": {
    "scrolled": false
   },
   "outputs": [
    {
     "name": "stdout",
     "output_type": "stream",
     "text": [
      "2018-02-27\n",
      "bola\n",
      "page  1\n",
      "http://bola.metrotvnews.com/index/2018/02/27/0\n",
      "http://bola.metrotvnews.com/dunia/ybDMPnqk-widodo-akui-bali-united-buang-banyak-peluang\n",
      "Insert berita  Widodo Akui Bali United Buang Banyak Peluang\n",
      "masuk\n",
      "http://bola.metrotvnews.com/indonesia/zNA7qzek-arema-rebut-tiket-semifinal-piala-gubernur-kaltim\n",
      "Insert berita  Arema Rebut Tiket Semifinal Piala Gubernur Kaltim\n",
      "masuk\n",
      "http://bola.metrotvnews.com/champions/ybJM5jjN-uefa-umumkan-perubahan-di-fase-grup-liga-champions-2018-2019\n",
      "Insert berita  UEFA Umumkan Perubahan di Fase Grup Liga Champions 2018--2019\n",
      "masuk\n",
      "http://bola.metrotvnews.com/dunia/GNGMdOpk-kembali-ke-jakarta-penggawa-tampines-serasa-nostalgia\n",
      "Insert berita  Kembali ke Jakarta, Penggawa Tampines Serasa Nostalgia\n",
      "masuk\n",
      "http://bola.metrotvnews.com/indonesia/zNPvL8zk-lini-tengah-mumpuni-persib-bingung-tetapkan-skuat-inti\n",
      "Insert berita  Lini Tengah Mumpuni, Persib Bingung Tetapkan Skuat Inti\n",
      "masuk\n",
      "http://bola.metrotvnews.com/dunia/PNgJ9QAK-lawan-memuji-riko-simanjuntak-pilih-membumi\n",
      "Insert berita  Lawan Memuji, Riko SImanjuntak Pilih Membumi\n",
      "masuk\n",
      "http://bola.metrotvnews.com/dunia/0Kv3w6oN-bukan-simic-ini-pemain-yang-diwaspadai-tampines-rovers\n",
      "Insert berita  Bukan Simic, Ini Pemain yang Diwaspadai Tampines Rovers\n",
      "masuk\n",
      "http://bola.metrotvnews.com/dunia/Obzv379b-spaso-gagal-penalti-bali-united-harus-puas-diimbangi-global\n",
      "Insert berita  Spaso Gagal Penalti, Bali United Harus Puas Diimbangi Global\n",
      "masuk\n",
      "http://bola.metrotvnews.com/dunia/Rkjj7a3k-babak-1-bali-united-tertinggal-atas-global-cebu\n",
      "Insert berita  Babak 1: Bali United Tertinggal atas Global Cebu\n",
      "masuk\n",
      "http://bola.metrotvnews.com/indonesia/1bV43xaK-tiga-klub-diprediksi-menyulitkan-bhayangkara-pertahankan-gelar\n",
      "Insert berita  Tiga Klub Diprediksi Menyulitkan Bhayangkara Pertahankan Gelar\n",
      "masuk\n",
      "http://bola.metrotvnews.com/indonesia/8koJAqlb-persib-terus-berburu-striker-pendamping-ezechiel\n",
      "Insert berita  Persib Terus Berburu Striker Pendamping Ezechiel\n",
      "masuk\n",
      "http://bola.metrotvnews.com/indonesia/Obzv329b-buta-kekuatan-tampines-bandingkan-persija-dengan-bali-united\n",
      "Insert berita  Buta Kekuatan, Tampines Bandingkan Persija dengan Bali United\n",
      "masuk\n",
      "http://bola.metrotvnews.com/indonesia/zNA7q9ek-tekuk-psis-borneo-melaju-ke-semifinal\n",
      "Insert berita  Tekuk PSIS, Borneo Melaju ke Semifinal\n",
      "masuk\n",
      "http://bola.metrotvnews.com/indonesia/9K5ROo1N-lawan-bhayangkara-pss-menguji-tiga-aspek-sepak-bola\n",
      "Insert berita  Lawan Bhayangkara, PSS Menguji Tiga Aspek Sepak Bola\n",
      "masuk\n",
      "http://bola.metrotvnews.com/indonesia/8KyveWxN-simon-lawan-bhayangkara-semangat-pss-150-persen\n",
      "Insert berita  Simon: Lawan Bhayangkara, Semangat PSS 150 Persen\n",
      "masuk\n",
      "http://bola.metrotvnews.com/indonesia/8koJAyYb-djanur-puji-adaptasi-pemain-asing\n",
      "Insert berita  Djanur Puji Adaptasi Pemain Asing\n",
      "masuk\n",
      "http://bola.metrotvnews.com/inggris/ob3AQW8K-ilkay-gundogan-yakin-arsenal-tetap-lawan-tangguh\n",
      "Insert berita  Ilkay Gundogan Yakin Arsenal Tetap lawan Tangguh\n",
      "masuk\n",
      "http://bola.metrotvnews.com/dunia/zNPvLnEk-usain-bolt-akan-tampil-pada-laga-amal-di-old-trafford\n",
      "Insert berita  Usain Bolt akan Tampil pada Laga Amal di Old Trafford\n",
      "masuk\n",
      "http://bola.metrotvnews.com/inggris/wkBn6yvk-performa-meningkat-pesat-ini-penjelasan-bek-muda-liverpool\n",
      "Insert berita  Performa Meningkat Pesat, Ini Penjelasan Bek Muda Liverpool\n",
      "masuk\n",
      "http://bola.metrotvnews.com/inggris/ybJM5P6N-newcastle-united-butuh-pemain-pengalaman\n",
      "Insert berita  Newcastle United Butuh Pemain Pengalaman\n",
      "masuk\n",
      "http://bola.metrotvnews.com/inggris/nN9Dvp8K-mourinho-akan-tolak-tawaran-la-galaxy-untuk-ibrahimovic\n",
      "Insert berita  Mourinho akan Tolak Tawaran LA Galaxy untuk Ibrahimovic\n",
      "masuk\n",
      "http://bola.metrotvnews.com/inggris/4ba7geRK-chelsea-tawarkan-gaji-selangit-untuk-eden-hazard\n",
      "Insert berita  Chelsea Tawarkan Gaji Selangit untuk Eden Hazard\n",
      "masuk\n",
      "http://bola.metrotvnews.com/jerman/0Kv3wvRN-matthaus-lewandowski-adalah-messi-nya-bayern-muenchen\n",
      "Insert berita  Matthaus: Lewandowski Adalah Messi-nya Bayern Muenchen\n",
      "masuk\n",
      "http://bola.metrotvnews.com/spanyol/4KZOYogN-striker-pinjaman-arsenal-siap-comeback-dari-cedera\n",
      "Insert berita  Striker Pinjaman Arsenal Siap Comeback dari Cedera\n",
      "masuk\n",
      "http://bola.metrotvnews.com/spanyol/ybDMP6vk-raul-ingin-lihat-harry-kane-di-real-madrid\n",
      "Insert berita  Raul Ingin Lihat Harry Kane di Real Madrid\n",
      "masuk\n",
      "http://bola.metrotvnews.com/inggris/yNLQxJab-juara-piala-liga-kompany-menolak-lepas-pedal-gas\n",
      "Insert berita  Juara Piala Liga, Kompany Menolak Lepas Pedal Gas\n",
      "masuk\n",
      "http://bola.metrotvnews.com/dunia/JKRlwJQb-pindah-ke-tiongkok-carrasco-berharap-main-di-piala-dunia\n",
      "Insert berita  Pindah ke Tiongkok, Carrasco Berharap Main di Piala Dunia\n",
      "masuk\n"
     ]
    }
   ],
   "source": [
    "for single_date in daterange(start_date, end_date):\n",
    "    for cat in init_cat:\n",
    "        clear_output()\n",
    "        print(single_date.strftime(\"%Y-%m-%d\"))\n",
    "        print(cat[0])\n",
    "        obj.getAllBerita([], init_page, 0, cat[0], cat[1], single_date.strftime(\"%Y/%m/%d\"))\n",
    "        init_cat = list_cat\n",
    "    init_page = 1"
   ]
  },
  {
   "cell_type": "code",
   "execution_count": null,
   "metadata": {},
   "outputs": [],
   "source": []
  }
 ],
 "metadata": {
  "kernelspec": {
   "display_name": "Python 3",
   "language": "python",
   "name": "python3"
  },
  "language_info": {
   "codemirror_mode": {
    "name": "ipython",
    "version": 3
   },
   "file_extension": ".py",
   "mimetype": "text/x-python",
   "name": "python",
   "nbconvert_exporter": "python",
   "pygments_lexer": "ipython3",
   "version": "3.6.4"
  }
 },
 "nbformat": 4,
 "nbformat_minor": 2
}
