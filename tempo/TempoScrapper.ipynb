{
 "cells": [
  {
   "cell_type": "code",
   "execution_count": 1,
   "metadata": {},
   "outputs": [],
   "source": [
    "import requests\n",
    "from bs4 import BeautifulSoup\n",
    "from datetime import datetime, timedelta\n",
    "import locale\n",
    "locale.setlocale(locale.LC_ALL, 'ID')\n",
    "import re\n",
    "import pandas as pd\n",
    "from selenium import webdriver\n",
    "from selenium.webdriver.chrome.options import Options\n",
    "import html\n",
    "import json"
   ]
  },
  {
   "cell_type": "code",
   "execution_count": 26,
   "metadata": {},
   "outputs": [],
   "source": [
    "def getIndeksLink(links, date=datetime.strftime(datetime.today(), '%Y/%m/%d')):\n",
    "    \"\"\"\n",
    "    Untuk mengambil seluruh url \n",
    "    link pada indeks category tertentu\n",
    "    date format : YYYY-mm-dd\n",
    "    \"\"\"\n",
    "#     print(\"page \", page)\n",
    "    url = \"https://www.tempo.co/indeks/\"+date\n",
    "    print(url)\n",
    "    # Make the request and create the response object: response\n",
    "    response = requests.get(url)\n",
    "    # Extract HTML texts contained in Response object: html\n",
    "    html = response.text\n",
    "    # Create a BeautifulSoup object from the HTML: soup\n",
    "    soup = BeautifulSoup(html, \"html5lib\")\n",
    "    contentDiv = soup.find('section', {'id':'article'}).find('section', class_=\"list list-type-1\")\n",
    "    indeks = contentDiv.findAll('li')\n",
    "    if indeks:\n",
    "        for post in indeks:\n",
    "            link = [post.find('a', {'class':'col'}, href=True)['href'], \"\"]\n",
    "            links.append(link)\n",
    "#         links = getIndeksLink(links, date)\n",
    "    return links"
   ]
  },
  {
   "cell_type": "code",
   "execution_count": 29,
   "metadata": {},
   "outputs": [],
   "source": [
    "def getDetailBerita(links):\n",
    "    \"\"\"\n",
    "    Mengambil seluruh element dari halaman berita\n",
    "    \"\"\"\n",
    "    all_articles = []\n",
    "    for link in links[:2]:\n",
    "        articles = {}\n",
    "        #link\n",
    "        url = link[0]\n",
    "        print(url)\n",
    "        response = requests.get(url)\n",
    "        html = response.text\n",
    "        # Create a BeautifulSoup object from the HTML: soup\n",
    "        soup = BeautifulSoup(html, \"html5lib\")\n",
    "        \n",
    "        #extract scrip json ld\n",
    "        scripts_all = soup.findAll('script', attrs={'type':'application/ld+json'})\n",
    "#         print(len(scripts_all))\n",
    "        scripts = json.loads(scripts_all[0].text)\n",
    "        scripts2 = json.loads(scripts_all[1].text)\n",
    "        \n",
    "        #category\n",
    "        articles['category'] = scripts2['itemListElement'][-2]['item']['name']\n",
    "        articles['subcategory'] = scripts2['itemListElement'][-1]['item']['name']\n",
    "        \n",
    "        articles['url'] = url\n",
    "        \n",
    "        article = soup.find('article', {'itemtype':\"http://schema.org/NewsArticle\"})\n",
    "        \n",
    "        #extract date\n",
    "        pubdate = scripts['datePublished']\n",
    "        pubdate = pubdate[0:19].strip(' \\t\\n\\r')\n",
    "        articles['pubdate'] = datetime.strftime(datetime.strptime(pubdate, \"%Y-%m-%dT%H:%M:%S\"), '%Y-%m-%d %H:%M:%S')\n",
    "        articles['id'] = int(soup.find('meta', {'property':\"dable:item_id\"})['content'])\n",
    "        \n",
    "        #extract author\n",
    "        articles['author'] = scripts['editor']['name']\n",
    "        \n",
    "        #extract title\n",
    "        articles['title'] = scripts['headline']\n",
    "        \n",
    "        #source\n",
    "        articles['source'] = 'tempo'\n",
    "        \n",
    "        #extract comments count\n",
    "#         articles['comments'] = int(soup.find('span', class_=\"commentWidget-total\").find('b').text.strip(' \\t\\n\\r'))\n",
    "        articles['comments'] = 0\n",
    "    \n",
    "        #extract tags\n",
    "        tags = article.find('div', class_=\"tags clearfix\").findAll('a')\n",
    "        articles['tags'] = ','.join([x.text for x in tags])\n",
    "        \n",
    "        #extract images\n",
    "        articles['images'] = scripts['image']['url']\n",
    "        \n",
    "        #extract detail\n",
    "        detail = article.find('div', attrs={'id':'isi'})\n",
    "            \n",
    "        #hapus div\n",
    "        if detail.findAll('div'):\n",
    "            for div in detail.findAll('div'):\n",
    "                div.decompose()\n",
    "            \n",
    "        #hapus link sisip\n",
    "        if detail.findAll('p'):\n",
    "            for p in detail.findAll('p'):\n",
    "                if (\"baca:\" in p.text.lower()):\n",
    "                    p.decompose()\n",
    "            \n",
    "        #extract content\n",
    "        detail = BeautifulSoup(detail.decode_contents().replace('<br/>', ' '), \"html5lib\")\n",
    "        content = re.sub(r'\\n|\\t|\\b|\\r','',detail.text)\n",
    "        articles['content'] = content\n",
    "        print('memasukkan berita id ', articles['id'])\n",
    "        all_articles.append(articles)\n",
    "    return all_articles"
   ]
  },
  {
   "cell_type": "code",
   "execution_count": 27,
   "metadata": {},
   "outputs": [
    {
     "name": "stdout",
     "output_type": "stream",
     "text": [
      "https://www.tempo.co/indeks/2018/08/02\n"
     ]
    }
   ],
   "source": [
    "links = getIndeksLink([], '2018/08/02')"
   ]
  },
  {
   "cell_type": "code",
   "execution_count": null,
   "metadata": {},
   "outputs": [],
   "source": []
  }
 ],
 "metadata": {
  "kernelspec": {
   "display_name": "Python 3",
   "language": "python",
   "name": "python3"
  },
  "language_info": {
   "codemirror_mode": {
    "name": "ipython",
    "version": 3
   },
   "file_extension": ".py",
   "mimetype": "text/x-python",
   "name": "python",
   "nbconvert_exporter": "python",
   "pygments_lexer": "ipython3",
   "version": "3.6.6"
  }
 },
 "nbformat": 4,
 "nbformat_minor": 2
}
