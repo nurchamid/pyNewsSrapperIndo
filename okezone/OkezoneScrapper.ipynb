{
 "cells": [
  {
   "cell_type": "code",
   "execution_count": 3,
   "metadata": {},
   "outputs": [],
   "source": [
    "import requests\n",
    "from bs4 import BeautifulSoup\n",
    "from datetime import datetime, timedelta\n",
    "import locale\n",
    "locale.setlocale(locale.LC_ALL, 'ID')\n",
    "import re\n",
    "import pandas as pd\n",
    "from selenium import webdriver\n",
    "from selenium.webdriver.chrome.options import Options\n",
    "import html"
   ]
  },
  {
   "cell_type": "code",
   "execution_count": 15,
   "metadata": {},
   "outputs": [],
   "source": [
    "def getIndeksLink(links, page, offset=15, date=datetime.strftime(datetime.today(), '%Y/%m/%d')):\n",
    "    \"\"\"\n",
    "    Untuk mengambil seluruh url okezone\n",
    "    link pada indeks category tertentu\n",
    "    date format : dd/mm/YYYY\n",
    "    \"\"\"\n",
    "    print(\"page \", page)\n",
    "    url = \"https://index.okezone.com/bydate/index/\"+date+\"/\"+items+\"/\"\n",
    "    print(url)\n",
    "    # Make the request and create the response object: response\n",
    "    response = requests.get(url)\n",
    "    # Extract HTML texts contained in Response object: html\n",
    "    html = response.text\n",
    "    # Create a BeautifulSoup object from the HTML: soup\n",
    "    soup = BeautifulSoup(html, \"html5lib\")\n",
    "    contentDiv = soup.find('div', class_=\"news-content\")\n",
    "    indeks = contentDiv.findAll('li')\n",
    "    for post in indeks:\n",
    "        link = [post.find('a', href=True)['href'], category]\n",
    "        links.append(link)\n",
    "        \n",
    "    el_page = soup.find('div', class_=\"pagination-indexs\")\n",
    "    if el_page:\n",
    "        max_page = int(el_page.findAll('a')[-2].text.replace('\\n', '').strip(' '))\n",
    "    \n",
    "        if page < max_page:\n",
    "            links = getIndeksLink(links, page+1, page*15, date)\n",
    "        \n",
    "    return links"
   ]
  },
  {
   "cell_type": "code",
   "execution_count": 1,
   "metadata": {},
   "outputs": [],
   "source": [
    "def getDetailBerita(links):\n",
    "    all_articles = []\n",
    "    for link in links:\n",
    "        articles = {}\n",
    "        #link\n",
    "        url = link[0]\n",
    "        response = requests.get(url)\n",
    "        html = response.text\n",
    "        # Create a BeautifulSoup object from the HTML: soup\n",
    "        soup = BeautifulSoup(html, \"html5lib\")\n",
    "        \n",
    "        #extract subcategory from breadcrumb\n",
    "        bc = soup.find('div', class_=\"breadcrumb\")\n",
    "        if not bc:\n",
    "            continue\n",
    "        \n",
    "        sub = bc.findAll('a')[1].text\n",
    "        if (\"foto\" in sub.lower()) or  \"video\" in sub.lower(): \n",
    "            continue\n",
    "            \n",
    "        articles['subcategory'] = sub\n",
    "        \n",
    "        articles['id'] = int(soup.find(\"meta\", attrs={'name':'articleid'})['content'])\n",
    "        #category\n",
    "        articles['category'] = link[1]\n",
    "        articles['url'] = url\n",
    "        \n",
    "        article = soup.find('article')\n",
    "        \n",
    "        #extract date\n",
    "        pubdate = soup.find(\"meta\", attrs={'name':'publishdate'})['content']\n",
    "        pubdate = pubdate.strip(' \\t\\n\\r')\n",
    "        articles['pubdate'] = datetime.strftime(datetime.strptime(pubdate, \"%Y/%m/%d %H:%M:%S\"), '%Y-%m-%d %H:%M:%S')\n",
    "        \n",
    "        #extract author\n",
    "        articles['author'] = soup.find(\"meta\", attrs={'name':'author'})['content']\n",
    "        \n",
    "        #extract title\n",
    "        articles['title'] = article.find('div', class_=\"jdl\").find('h1').text\n",
    "        \n",
    "        #source\n",
    "        articles['source'] = 'detik'\n",
    "        \n",
    "        #extract comments count\n",
    "        articles['comments'] = int(soup.find('a', class_=\"komentar\").find('span').text.replace('Komentar', '').strip(' \\t\\n\\r'))\n",
    "        \n",
    "        #extract tags\n",
    "        tags = article.find('div', class_=\"detail_tag\").findAll('a')\n",
    "        articles['tags'] = ','.join([x.text for x in tags])\n",
    "        \n",
    "        #extract images\n",
    "        articles['images'] = article.find('div', class_=\"pic_artikel\").find('img')['src']\n",
    "        \n",
    "        #extract detail\n",
    "        detail = article.find('div', class_=\"detail_text\")\n",
    "        \n",
    "        #hapus link sisip\n",
    "        for link in detail.findAll('table', class_=\"linksisip\"):\n",
    "            link.decompose()\n",
    "        \n",
    "        #hapus video sisip\n",
    "        for tag in detail.findAll('div', class_=\"sisip_embed_sosmed\"):\n",
    "            tag.decompose()\n",
    "            \n",
    "        #hapus all setelah clear fix\n",
    "        for det in detail.find('div', class_=\"clearfix mb20\").findAllNext():\n",
    "            det.decompose()\n",
    "            \n",
    "        #hapus all script\n",
    "        for script in detail.findAll('script'):\n",
    "            script.decompose()\n",
    "        \n",
    "        #extract content\n",
    "        detail = BeautifulSoup(detail.decode_contents().replace('<br/>', ' '), \"html5lib\")\n",
    "        content = re.sub(r'\\n|\\t|\\b|\\r','',detail.text)\n",
    "        articles['content'] = re.sub(r'(Tonton juga).*','', content)\n",
    "        print('memasukkan berita id ', articles['id'])\n",
    "        all_articles.append(articles)\n",
    "    return all_articles"
   ]
  },
  {
   "cell_type": "code",
   "execution_count": 6,
   "metadata": {},
   "outputs": [
    {
     "data": {
      "text/plain": [
       "54"
      ]
     },
     "execution_count": 6,
     "metadata": {},
     "output_type": "execute_result"
    }
   ],
   "source": [
    "len(\"https://index.okezone.com/bydate/index/2018/06/27/480/\")"
   ]
  },
  {
   "cell_type": "code",
   "execution_count": 7,
   "metadata": {},
   "outputs": [],
   "source": [
    "tes = \"https://index.okezone.com/bydate/index/2018/06/27/480/\""
   ]
  },
  {
   "cell_type": "code",
   "execution_count": 9,
   "metadata": {},
   "outputs": [
    {
     "data": {
      "text/plain": [
       "'480/'"
      ]
     },
     "execution_count": 9,
     "metadata": {},
     "output_type": "execute_result"
    }
   ],
   "source": [
    "tes[50:]"
   ]
  },
  {
   "cell_type": "code",
   "execution_count": 10,
   "metadata": {},
   "outputs": [
    {
     "data": {
      "text/plain": [
       "0"
      ]
     },
     "execution_count": 10,
     "metadata": {},
     "output_type": "execute_result"
    }
   ],
   "source": [
    "510%15"
   ]
  },
  {
   "cell_type": "code",
   "execution_count": 12,
   "metadata": {},
   "outputs": [
    {
     "data": {
      "text/plain": [
       "34.0"
      ]
     },
     "execution_count": 12,
     "metadata": {},
     "output_type": "execute_result"
    }
   ],
   "source": [
    "510/15"
   ]
  },
  {
   "cell_type": "code",
   "execution_count": null,
   "metadata": {},
   "outputs": [],
   "source": []
  }
 ],
 "metadata": {
  "kernelspec": {
   "display_name": "Python 3",
   "language": "python",
   "name": "python3"
  },
  "language_info": {
   "codemirror_mode": {
    "name": "ipython",
    "version": 3
   },
   "file_extension": ".py",
   "mimetype": "text/x-python",
   "name": "python",
   "nbconvert_exporter": "python",
   "pygments_lexer": "ipython3",
   "version": "3.6.6"
  }
 },
 "nbformat": 4,
 "nbformat_minor": 2
}
