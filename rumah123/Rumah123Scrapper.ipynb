{
 "cells": [
  {
   "cell_type": "code",
   "execution_count": 1,
   "metadata": {},
   "outputs": [],
   "source": [
    "from Rumah123 import Rumah123\n",
    "obj = Rumah123()"
   ]
  },
  {
   "cell_type": "code",
   "execution_count": 2,
   "metadata": {},
   "outputs": [
    {
     "name": "stdout",
     "output_type": "stream",
     "text": [
      "page  1\n",
      "https://artikel.rumah123.com/search?page=1\n",
      "memasukkan berita id  46524\n",
      "Insert berita  Kolam Renang Kecil di Lahan Sempit\n",
      "masuk\n",
      "memasukkan berita id  46485\n",
      "Insert berita  Cristiano Ronaldo Punya Dua Rumah Sekaligus di Italia\n",
      "masuk\n",
      "memasukkan berita id  46483\n",
      "Insert berita  Tips Investasi Properti: 4 Hal yang Harus Diketahui Investor Pemula\n",
      "masuk\n",
      "memasukkan berita id  46559\n",
      "Insert berita  Punya Rumah Itu Harus, Apalagi Buat Kamu yang Udah Menikah!\n",
      "masuk\n"
     ]
    },
    {
     "data": {
      "text/plain": [
       "'berhasil ambil semua berita'"
      ]
     },
     "execution_count": 2,
     "metadata": {},
     "output_type": "execute_result"
    }
   ],
   "source": [
    "obj.getAllBerita([], 1)"
   ]
  },
  {
   "cell_type": "code",
   "execution_count": null,
   "metadata": {},
   "outputs": [],
   "source": []
  }
 ],
 "metadata": {
  "kernelspec": {
   "display_name": "Python 3",
   "language": "python",
   "name": "python3"
  },
  "language_info": {
   "codemirror_mode": {
    "name": "ipython",
    "version": 3
   },
   "file_extension": ".py",
   "mimetype": "text/x-python",
   "name": "python",
   "nbconvert_exporter": "python",
   "pygments_lexer": "ipython3",
   "version": "3.6.6"
  }
 },
 "nbformat": 4,
 "nbformat_minor": 2
}
