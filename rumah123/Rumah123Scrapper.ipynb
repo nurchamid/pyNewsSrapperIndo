{
 "cells": [
  {
   "cell_type": "code",
   "execution_count": 1,
   "metadata": {},
   "outputs": [],
   "source": [
    "from Rumah123 import Rumah123\n",
    "obj = Rumah123()"
   ]
  },
  {
   "cell_type": "code",
   "execution_count": null,
   "metadata": {},
   "outputs": [
    {
     "name": "stdout",
     "output_type": "stream",
     "text": [
      "page  1\n",
      "https://artikel.rumah123.com/search?page=1\n",
      "memasukkan berita id  46631\n",
      "Insert berita  Jakarta Bakal Tenggelam? Beli Rumah di Kawasan Penyangga Aja!\n",
      "masuk\n",
      "memasukkan berita id  46577\n",
      "Insert berita  Pengembang Bersaing Bangun Rumah Subsidi, yang Untung Ya Masyarakat!\n",
      "masuk\n",
      "memasukkan berita id  46632\n",
      "Insert berita  Makin Betah Aja Tinggal di BSD, Ada Arena Panahan Baru Lho!\n",
      "masuk\n"
     ]
    }
   ],
   "source": [
    "obj.getAllBerita([], 1)"
   ]
  },
  {
   "cell_type": "code",
   "execution_count": null,
   "metadata": {},
   "outputs": [],
   "source": []
  }
 ],
 "metadata": {
  "kernelspec": {
   "display_name": "Python 3",
   "language": "python",
   "name": "python3"
  },
  "language_info": {
   "codemirror_mode": {
    "name": "ipython",
    "version": 3
   },
   "file_extension": ".py",
   "mimetype": "text/x-python",
   "name": "python",
   "nbconvert_exporter": "python",
   "pygments_lexer": "ipython3",
   "version": "3.6.6"
  }
 },
 "nbformat": 4,
 "nbformat_minor": 2
}
