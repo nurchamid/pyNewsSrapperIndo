{
 "cells": [
  {
   "cell_type": "code",
   "execution_count": 1,
   "metadata": {},
   "outputs": [],
   "source": [
    "import requests\n",
    "from bs4 import BeautifulSoup\n",
    "from datetime import datetime, timedelta\n",
    "import locale\n",
    "locale.setlocale(locale.LC_ALL, 'ID')\n",
    "import re\n",
    "import pandas as pd\n",
    "from selenium import webdriver\n",
    "from selenium.webdriver.chrome.options import Options\n",
    "import html\n",
    "import json\n",
    "import time\n",
    "from requests.exceptions import ConnectionError, TooManyRedirects\n",
    "import unicodedata\n",
    "import mysql.connector"
   ]
  },
  {
   "cell_type": "code",
   "execution_count": 2,
   "metadata": {},
   "outputs": [],
   "source": [
    "con = mysql.connector.connect(user='root', password='', host='127.0.0.1', database='news_db')"
   ]
  },
  {
   "cell_type": "markdown",
   "metadata": {},
   "source": [
    "### Handling missing pubdate"
   ]
  },
  {
   "cell_type": "code",
   "execution_count": 8,
   "metadata": {},
   "outputs": [],
   "source": [
    "raw = pd.read_sql(\"SELECT id, url, source FROM article WHERE pubdate = '1970-01-01 01:01:01'\", con)\n",
    "for index, row in raw.iterrows():\n",
    "    print(row['url'])\n",
    "    response = requests.get(row['url'])\n",
    "    html = response.text\n",
    "    soup = BeautifulSoup(html, \"html5lib\")\n",
    "    pubdate = soup.find('meta', {'itemprop':'datePublished'})\n",
    "    pubdate = pubdate['content'][:-2] if pubdate else '1970-01-01 01:01:01'\n",
    "    pubdate = pubdate.strip(' \\t\\n\\r')\n",
    "    pubdate = datetime.strftime(datetime.strptime(pubdate, \"%Y-%m-%d %H:%M:%S\"), '%Y-%m-%d %H:%M:%S')\n",
    "    cursor = con.cursor()\n",
    "    sql = \"UPDATE article SET pubdate = '\"+pubdate+\"' WHERE id = \"+str(row['id'])\n",
    "    cursor.execute(sql)\n",
    "    con.commit()\n",
    "    cursor.close()"
   ]
  },
  {
   "cell_type": "code",
   "execution_count": null,
   "metadata": {},
   "outputs": [],
   "source": []
  }
 ],
 "metadata": {
  "kernelspec": {
   "display_name": "Python 3",
   "language": "python",
   "name": "python3"
  },
  "language_info": {
   "codemirror_mode": {
    "name": "ipython",
    "version": 3
   },
   "file_extension": ".py",
   "mimetype": "text/x-python",
   "name": "python",
   "nbconvert_exporter": "python",
   "pygments_lexer": "ipython3",
   "version": "3.6.6"
  }
 },
 "nbformat": 4,
 "nbformat_minor": 2
}
