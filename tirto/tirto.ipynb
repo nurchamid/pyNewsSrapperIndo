{
 "cells": [
  {
   "cell_type": "code",
   "execution_count": 1,
   "metadata": {},
   "outputs": [],
   "source": [
    "from Tirto import Tirto #class news Scrapper\n",
    "from datetime import timedelta, date, datetime\n",
    "from IPython.display import clear_output"
   ]
  },
  {
   "cell_type": "code",
   "execution_count": 2,
   "metadata": {},
   "outputs": [],
   "source": [
    "def daterange(start_date, end_date):\n",
    "    for n in range(int ((end_date - start_date).days)):\n",
    "        yield start_date + timedelta(n)"
   ]
  },
  {
   "cell_type": "code",
   "execution_count": 3,
   "metadata": {},
   "outputs": [],
   "source": [
    "obj = Tirto()\n",
    "end_date = date(2018, 8, 8)\n",
    "start_date = date(2018, 1, 12)\n",
    "init_page = 2"
   ]
  },
  {
   "cell_type": "code",
   "execution_count": null,
   "metadata": {
    "scrolled": false
   },
   "outputs": [
    {
     "name": "stdout",
     "output_type": "stream",
     "text": [
      "2018-01-20\n",
      "page  1\n",
      "https://tirto.id/indeks/1?date=2018-01-20\n",
      "https://tirto.id/hasil-arema-fc-vs-persela-di-piala-presiden-skor-akhir-2-2-cDxk\n",
      "Insert berita  Hasil Arema FC vs Persela di Piala Presiden Skor Akhir 2-2\n",
      "masuk\n",
      "https://tirto.id/jadwal-dan-siaran-langsung-piala-presiden-grup-a-minggu-21-januari-cDxj\n",
      "Insert berita  Jadwal dan Siaran Langsung Piala Presiden Grup A Minggu 21 Januari\n",
      "masuk\n",
      "https://tirto.id/hasil-arema-fc-vs-persela-di-piala-presiden-skor-babak-pertama-2-0-cDxi\n",
      "Insert berita  Hasil Arema FC vs Persela di Piala Presiden Skor Babak Pertama 2-0\n",
      "masuk\n",
      "https://tirto.id/malaysia-masters-2018-ganda-putra-indonesia-raih-tiket-ke-final-cDxg\n",
      "Insert berita  Malaysia Masters 2018: Ganda Putra Indonesia Raih Tiket ke Final\n",
      "masuk\n",
      "https://tirto.id/psm-tak-diperkuat-pemain-utama-saat-kontra-sriwijaya-fc-cDxd\n",
      "Insert berita  PSM Tak Diperkuat Pemain Utama saat Kontra Sriwijaya FC\n",
      "masuk\n",
      "https://tirto.id/polemik-keadilan-bagi-partai-setelah-kpu-pangkas-waktu-verifikasi-cDwD\n",
      "Insert berita  Polemik Keadilan bagi Partai Setelah KPU Pangkas Waktu Verifikasi\n",
      "masuk\n",
      "https://tirto.id/hasil-bhayangkara-fc-vs-psis-di-piala-presiden-2018-skor-akhir-1-0-cDw6\n",
      "Insert berita  Hasil Bhayangkara FC vs PSIS di Piala Presiden 2018 Skor Akhir 1-0\n",
      "masuk\n",
      "https://tirto.id/hujan-lebat-sebabkan-puluhan-pohon-tumbang-di-yogyakarta-cDw5\n",
      "Insert berita  Hujan Lebat Sebabkan Puluhan Pohon Tumbang di Yogyakarta\n",
      "masuk\n",
      "https://tirto.id/piala-presiden-2018-persib-antusias-sambut-duel-klasik-kontra-psms-cDw7\n",
      "Insert berita  Piala Presiden 2018: Persib Antusias Sambut Duel Klasik Kontra PSMS\n",
      "masuk\n",
      "https://tirto.id/mantan-komisioner-kpu-ungkap-ancaman-dpr-ke-penyelenggara-pemilu-cDwW\n",
      "Insert berita  Mantan Komisioner KPU Ungkap Ancaman DPR ke Penyelenggara Pemilu\n",
      "masuk\n",
      "https://tirto.id/dinkes-banjarbaru-lakukan-vaksinasi-difteri-pada-anak-sekolah-cDwT\n",
      "Insert berita  Dinkes Banjarbaru Lakukan Vaksinasi Difteri pada Anak Sekolah\n",
      "masuk\n",
      "https://tirto.id/liga-pekerja-indonesia-zona-sulawesi-selatan-siap-digelar-cDwU\n",
      "Insert berita  Liga Pekerja Indonesia Zona Sulawesi Selatan Siap Digelar\n",
      "masuk\n",
      "https://tirto.id/apakah-prajurit-tni-berkompeten-untuk-jabatan-sipil-cDww\n",
      "Insert berita  Apakah Prajurit TNI Berkompeten untuk Jabatan Sipil?\n",
      "masuk\n",
      "https://tirto.id/mensos-penderita-gizi-buruk-di-agats-papua-sudah-tertangani-cDwP\n",
      "Insert berita  Mensos: Penderita Gizi Buruk di Agats Papua Sudah Tertangani\n",
      "masuk\n",
      "https://tirto.id/hasil-babak-pertama-bhayangkara-fc-vs-psis-di-piala-presiden-cDwM\n",
      "Insert berita  Hasil Babak Pertama Bhayangkara FC vs PSIS di Piala Presiden\n",
      "masuk\n",
      "https://tirto.id/kisah-apes-kapten-gordon-dan-kapal-penjelajah-inggris-hms-exeter-cCHG\n",
      "Insert berita  Kisah Apes Kapten Gordon dan Kapal Penjelajah Inggris HMS Exeter\n",
      "masuk\n",
      "https://tirto.id/kpk-baru-1126-calon-kepala-daerah-yang-laporkan-lhkpn-cDwH\n",
      "Insert berita  KPK: Baru 1.126 Calon Kepala Daerah Yang Laporkan LHKPN\n",
      "masuk\n",
      "https://tirto.id/setahun-pemerintahan-trump-as-tutup-sementara-layanan-publik-cDwL\n",
      "Insert berita  Setahun Pemerintahan Trump: AS Tutup Sementara Layanan Publik\n",
      "masuk\n",
      "https://tirto.id/presiden-jokowi-akan-resmikan-tol-trans-sumatera-minggu-besok-cDwB\n",
      "Insert berita  Presiden Jokowi Akan Resmikan Tol Trans Sumatera Minggu Besok\n",
      "masuk\n",
      "https://tirto.id/silet-adalah-gillette-cDuH\n",
      "Insert berita  Silet adalah Gillette\n",
      "masuk\n",
      "https://tirto.id/loreal-tampilkan-model-berjilbab-di-iklan-perawatan-rambut-cDwA\n",
      "Insert berita  L'Oreal Tampilkan Model Berjilbab di Iklan Perawatan Rambut\n",
      "masuk\n",
      "https://tirto.id/dua-wni-sandera-abu-sayyaf-akhirnya-dibebaskan-cDwu\n",
      "Insert berita  Dua WNI Sandera Abu Sayyaf Akhirnya Dibebaskan\n",
      "masuk\n",
      "https://tirto.id/kpu-verifikasi-faktual-parpol-lama-terkendala-kekurangan-dana-cDvw\n",
      "Insert berita  KPU: Verifikasi Faktual Parpol Lama Terkendala Kekurangan Dana\n",
      "masuk\n",
      "https://tirto.id/mahar-politik-potret-buruk-transparansi-keuangan-partai-cDvv\n",
      "Insert berita  Mahar Politik, Potret Buruk Transparansi Keuangan Partai\n",
      "masuk\n",
      "https://tirto.id/sm-entertainment-album-jonghyun-shinee-akan-dirilis-23-januari-cDwo\n",
      "Insert berita  SM Entertainment: Album Jonghyun SHINee akan Dirilis 23 Januari\n",
      "masuk\n",
      "https://tirto.id/daftar-film-akhir-pekan-ini-tayang-di-bioskop-tanah-air-cDvu\n",
      "Insert berita  Daftar Film Akhir Pekan Ini Tayang di Bioskop Tanah Air\n",
      "masuk\n"
     ]
    }
   ],
   "source": [
    "for single_date in daterange(start_date, end_date):\n",
    "    clear_output()\n",
    "    print(single_date.strftime(\"%Y-%m-%d\"))\n",
    "    obj.getAllBerita([], init_page, single_date.strftime(\"%Y-%m-%d\"))\n",
    "    init_page = 1"
   ]
  },
  {
   "cell_type": "code",
   "execution_count": null,
   "metadata": {},
   "outputs": [],
   "source": []
  }
 ],
 "metadata": {
  "kernelspec": {
   "display_name": "Python 3",
   "language": "python",
   "name": "python3"
  },
  "language_info": {
   "codemirror_mode": {
    "name": "ipython",
    "version": 3
   },
   "file_extension": ".py",
   "mimetype": "text/x-python",
   "name": "python",
   "nbconvert_exporter": "python",
   "pygments_lexer": "ipython3",
   "version": "3.6.4"
  }
 },
 "nbformat": 4,
 "nbformat_minor": 2
}
