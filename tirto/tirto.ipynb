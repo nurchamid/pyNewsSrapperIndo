{
 "cells": [
  {
   "cell_type": "code",
   "execution_count": 1,
   "metadata": {},
   "outputs": [],
   "source": [
    "from Tirto import Tirto #class news Scrapper\n",
    "from datetime import timedelta, date, datetime\n",
    "from IPython.display import clear_output"
   ]
  },
  {
   "cell_type": "code",
   "execution_count": 2,
   "metadata": {},
   "outputs": [],
   "source": [
    "def daterange(start_date, end_date):\n",
    "    for n in range(int ((end_date - start_date).days)):\n",
    "        yield start_date + timedelta(n)"
   ]
  },
  {
   "cell_type": "code",
   "execution_count": 5,
   "metadata": {},
   "outputs": [],
   "source": [
    "obj = Tirto()\n",
    "end_date = date(2018, 8, 8)\n",
    "start_date = date(2018, 1, 26)\n",
    "init_page = 3"
   ]
  },
  {
   "cell_type": "code",
   "execution_count": null,
   "metadata": {
    "scrolled": false
   },
   "outputs": [
    {
     "name": "stdout",
     "output_type": "stream",
     "text": [
      "2018-01-29\n",
      "page  1\n",
      "https://tirto.id/indeks/1?date=2018-01-29\n",
      "https://tirto.id/langkah-langkah-yang-disiapkan-menhub-soal-tuntutan-taksi-online-cDZ2\n",
      "Insert berita  Langkah-langkah yang Disiapkan Menhub Soal Tuntutan Taksi Online\n",
      "masuk\n",
      "https://tirto.id/hasil-dan-klasemen-akhir-grup-d-piala-presiden-2018-cDZZ\n",
      "Insert berita  Hasil dan Klasemen Akhir Grup D Piala Presiden 2018\n",
      "masuk\n",
      "https://tirto.id/bali-united-lolos-sebagai-juara-grup-persija-runner-up-terbaik-cDZY\n",
      "Insert berita  Bali United Lolos Sebagai Juara Grup, Persija Runner Up Terbaik\n",
      "masuk\n",
      "https://tirto.id/perbedaan-xiaomi-redmi-5-dan-redmi-5-plus-mana-yang-lebih-unggul-cDZ1\n",
      "Insert berita  Perbedaan Xiaomi Redmi 5 dan Redmi 5 Plus, Mana yang lebih Unggul?\n",
      "masuk\n",
      "https://tirto.id/ada-kubu-presidium-alumni-212-tolak-nama-berubah-jadi-persaudaraan-cDZP\n",
      "Insert berita  Ada Kubu Presidium Alumni 212 Tolak Nama Berubah Jadi Persaudaraan\n",
      "masuk\n",
      "https://tirto.id/hasil-bali-united-vs-persija-di-piala-presiden-skor-akhir-3-2-cDZR\n",
      "Insert berita  Hasil Bali United vs Persija di Piala Presiden Skor Akhir 3-2\n",
      "masuk\n",
      "https://tirto.id/lokasi-ideal-amati-gerhana-bulan-super-blue-blood-moon-di-indonesia-cDZL\n",
      "Insert berita  Lokasi Ideal Amati Gerhana Bulan Super Blue Blood Moon di Indonesia\n",
      "masuk\n",
      "https://tirto.id/desain-penataan-jangka-menengah-tanah-abang-diumumkan-februari-cDZH\n",
      "Insert berita  Desain Penataan Jangka Menengah Tanah Abang Diumumkan Februari\n",
      "masuk\n",
      "https://tirto.id/raker-komisi-i-menhan-dan-panglima-tni-bahas-papua-merdeka-cDZF\n",
      "Insert berita  Raker Komisi I, Menhan dan Panglima TNI Bahas Papua Merdeka\n",
      "masuk\n",
      "https://tirto.id/ilija-spasojevic-hentikan-rekor-tak-kebobolan-persija-cDZK\n",
      "Insert berita  Ilija Spasojevic Hentikan Rekor Tak Kebobolan Persija\n",
      "masuk\n",
      "https://tirto.id/hasil-bali-united-vs-persija-skor-babak-pertama-2-0-cDZJ\n",
      "Insert berita  Hasil Bali United vs Persija Skor Babak Pertama 2-0\n",
      "masuk\n",
      "https://tirto.id/komisi-iii-dpr-minta-pemprov-dki-beri-sanksi-lurah-terkait-narkoba-cDZG\n",
      "Insert berita  Komisi III DPR Minta Pemprov DKI Beri Sanksi Lurah Terkait Narkoba\n",
      "masuk\n",
      "https://tirto.id/dpr-nilai-sikap-pemerintah-terbelah-di-pembahasan-ruu-terorisme-cDZC\n",
      "Insert berita  DPR Nilai Sikap Pemerintah Terbelah di Pembahasan RUU Terorisme\n",
      "masuk\n",
      "https://tirto.id/idi-tak-bisa-usut-kasus-di-rs-surabaya-karena-belum-ada-laporan-cDZE\n",
      "Insert berita  IDI Tak Bisa Usut Kasus di RS Surabaya karena Belum Ada Laporan\n",
      "masuk\n",
      "https://tirto.id/solusi-menkes-untuk-penanganan-wabah-gizi-buruk-dan-campak-di-asmat-cDZy\n",
      "Insert berita  Solusi Menkes untuk Penanganan Wabah Gizi Buruk dan Campak di Asmat\n",
      "masuk\n",
      "https://tirto.id/respons-prihatin-as-kutukan-inggris-soal-aksi-penjarahan-kapal-cDZd\n",
      "Insert berita  Respons Prihatin AS & \"Kutukan\" Inggris Soal Aksi Penjarahan Kapal\n",
      "masuk\n",
      "https://tirto.id/pengacara-harap-5-terdakwa-kasus-1-ton-sabu-tak-dihukum-berat-cDZx\n",
      "Insert berita  Pengacara Harap 5 Terdakwa Kasus 1 Ton Sabu Tak Dihukum Berat\n",
      "masuk\n",
      "https://tirto.id/menhan-tolak-skema-pelibatan-tni-di-penanganan-terorisme-usulan-dpr-cDZt\n",
      "Insert berita  Menhan Tolak Skema Pelibatan TNI di Penanganan Terorisme Usulan DPR\n",
      "masuk\n",
      "https://tirto.id/pkpi-tak-lolos-verifikasi-hendropriyono-ada-masalah-keluarga-cDZu\n",
      "Insert berita  PKPI Tak Lolos Verifikasi, Hendropriyono: Ada Masalah Keluarga\n",
      "masuk\n",
      "https://tirto.id/perbedaan-oppo-a83-dan-a71-mana-yang-lebih-unggul-cDZw\n",
      "Insert berita  Perbedaan Oppo A83 dan A71, Mana yang Lebih Unggul?\n",
      "masuk\n",
      "https://tirto.id/kpu-pastikan-pdip-lolos-verifikasi-faktual-untuk-tingkat-dpp-cDZm\n",
      "Insert berita  KPU Pastikan PDIP Lolos Verifikasi Faktual untuk Tingkat DPP\n",
      "masuk\n",
      "https://tirto.id/harga-dan-spesifikasi-new-honda-cbr150r-matte-black-victory-cDZp\n",
      "Insert berita  Harga dan Spesifikasi New Honda CBR150R Matte Black-Victory\n",
      "masuk\n",
      "https://tirto.id/warga-badui-desak-realisasi-kolom-agama-di-e-ktp-cDZq\n",
      "Insert berita  Warga Badui Desak Realisasi Kolom Agama di e-KTP\n",
      "masuk\n",
      "https://tirto.id/video-3-wni-disandera-pemerintah-didesak-tak-bayar-tebusan-cDY5\n",
      "Insert berita  Video 3 WNI Disandera: Pemerintah Didesak Tak Bayar Tebusan\n",
      "masuk\n",
      "https://tirto.id/gamawan-siap-dikonfrontasi-dengan-sejumlah-pihak-di-kasus-e-ktp-cDZn\n",
      "Insert berita  Gamawan Siap Dikonfrontasi dengan Sejumlah Pihak di Kasus e-KTP\n",
      "masuk\n",
      "https://tirto.id/ppp-target-singkirkan-gerindra-dari-3-besar-di-pemilu-2019-cDZs\n",
      "Insert berita  PPP Target Singkirkan Gerindra dari 3 Besar di Pemilu 2019\n",
      "masuk\n",
      "https://tirto.id/super-blue-blood-moon-terjadi-saat-gerhana-bulan-total-31-januari-cDZl\n",
      "Insert berita  Super Blue Blood Moon Terjadi Saat Gerhana Bulan Total 31 Januari\n",
      "masuk\n",
      "https://tirto.id/menristek-10-kampus-asing-akan-beroperasi-di-indonesia-tahun-ini-cDZk\n",
      "Insert berita  Menristek: 10 Kampus Asing akan Beroperasi di Indonesia Tahun Ini\n",
      "masuk\n",
      "https://tirto.id/boaz-solossa-tunjukkan-permainan-terbaik-di-laga-psps-vs-borneo-fc-cDZo\n",
      "Insert berita  Boaz Solossa Tunjukkan Permainan Terbaik di Laga PSPS vs Borneo FC\n",
      "masuk\n",
      "page  2\n",
      "https://tirto.id/indeks/2?date=2018-01-29\n",
      "https://tirto.id/ketua-mpr-zulkifli-akan-temui-jokowi-tolak-rencana-impor-beras-cDZb\n",
      "Insert berita  Ketua MPR Zulkifli akan Temui Jokowi Tolak Rencana Impor Beras\n",
      "masuk\n"
     ]
    }
   ],
   "source": [
    "for single_date in daterange(start_date, end_date):\n",
    "    clear_output()\n",
    "    print(single_date.strftime(\"%Y-%m-%d\"))\n",
    "    obj.getAllBerita([], init_page, single_date.strftime(\"%Y-%m-%d\"))\n",
    "    init_page = 1"
   ]
  },
  {
   "cell_type": "code",
   "execution_count": null,
   "metadata": {},
   "outputs": [],
   "source": []
  }
 ],
 "metadata": {
  "kernelspec": {
   "display_name": "Python 3",
   "language": "python",
   "name": "python3"
  },
  "language_info": {
   "codemirror_mode": {
    "name": "ipython",
    "version": 3
   },
   "file_extension": ".py",
   "mimetype": "text/x-python",
   "name": "python",
   "nbconvert_exporter": "python",
   "pygments_lexer": "ipython3",
   "version": "3.6.4"
  }
 },
 "nbformat": 4,
 "nbformat_minor": 2
}
