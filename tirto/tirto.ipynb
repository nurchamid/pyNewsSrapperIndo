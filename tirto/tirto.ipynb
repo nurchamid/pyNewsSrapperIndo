{
 "cells": [
  {
   "cell_type": "code",
   "execution_count": 1,
   "metadata": {},
   "outputs": [],
   "source": [
    "from Tirto import Tirto #class news Scrapper\n",
    "from datetime import timedelta, date, datetime\n",
    "from IPython.display import clear_output"
   ]
  },
  {
   "cell_type": "code",
   "execution_count": 2,
   "metadata": {},
   "outputs": [],
   "source": [
    "def daterange(start_date, end_date):\n",
    "    for n in range(int ((end_date - start_date).days)):\n",
    "        yield start_date + timedelta(n)"
   ]
  },
  {
   "cell_type": "code",
   "execution_count": 3,
   "metadata": {},
   "outputs": [],
   "source": [
    "obj = Tirto()\n",
    "end_date = date(2018, 8, 8)\n",
    "start_date = date(2018, 1, 29)\n",
    "init_page = 2"
   ]
  },
  {
   "cell_type": "code",
   "execution_count": null,
   "metadata": {
    "scrolled": false
   },
   "outputs": [
    {
     "name": "stdout",
     "output_type": "stream",
     "text": [
      "2018-01-29\n",
      "page  2\n",
      "https://tirto.id/indeks/2?date=2018-01-29\n",
      "https://tirto.id/ketua-mpr-zulkifli-akan-temui-jokowi-tolak-rencana-impor-beras-cDZb\n",
      "Insert berita  Ketua MPR Zulkifli akan Temui Jokowi Tolak Rencana Impor Beras\n",
      "salah2\n",
      "https://tirto.id/sekjen-pdip-puan-tunggu-arahan-jokowi-soal-rangkap-jabatan-menteri-cDZf\n",
      "Insert berita  Sekjen PDIP: Puan Tunggu Arahan Jokowi Soal Rangkap Jabatan Menteri\n",
      "salah2\n",
      "https://tirto.id/new-honda-cbr150r-hadir-dengan-dua-warna-baru-cDZe\n",
      "Insert berita  New Honda CBR150R Hadir dengan Dua Warna Baru\n",
      "salah2\n",
      "https://tirto.id/hasil-psps-vs-borneo-fc-di-piala-presiden-skor-akhir-0-3-cDZi\n",
      "Insert berita  Hasil PSPS vs Borneo FC di Piala Presiden Skor Akhir 0-3\n",
      "salah2\n",
      "https://tirto.id/mendagri-pj-gubernur-papua-saat-pilkada-2018-bisa-dari-tni-polri-cDY9\n",
      "Insert berita  Mendagri: Pj Gubernur Papua Saat Pilkada 2018 Bisa dari TNI/Polri\n",
      "salah2\n",
      "https://tirto.id/kabar-mobilisasi-becak-ke-dki-dan-inkonsistensi-ucapan-anies-sandi-cDYY\n",
      "Insert berita  Kabar Mobilisasi Becak ke DKI dan Inkonsistensi Ucapan Anies-Sandi\n",
      "salah2\n",
      "https://tirto.id/gamawan-meski-pernah-tersangka-irman-tetap-dilantik-jadi-dirjen-cDY8\n",
      "Insert berita  Gamawan: Meski Pernah Tersangka, Irman Tetap Dilantik Jadi Dirjen\n",
      "salah2\n",
      "https://tirto.id/ketika-arthur-wagner-masuk-islam-alasan-alasan-pindah-agama-cDUC\n",
      "Insert berita  Ketika Arthur Wagner Masuk Islam: Alasan-Alasan Pindah Agama\n",
      "salah2\n",
      "https://tirto.id/cak-imin-usulan-pati-polri-jadi-pj-gubernur-picu-kegaduhan-baru-cDY2\n",
      "Insert berita  Cak Imin: Usulan Pati Polri Jadi Pj Gubernur Picu Kegaduhan Baru\n",
      "salah2\n",
      "https://tirto.id/koordinator-aliando-jamin-demo-taksi-online-berlangsung-damai-cDY3\n",
      "Insert berita  Koordinator ALIANDO Jamin Demo Taksi Online Berlangsung Damai\n",
      "salah2\n",
      "https://tirto.id/mendagri-sebut-tak-pernah-usul-nama-perwira-polri-untuk-pj-gubernur-cDZg\n",
      "Insert berita  Mendagri Sebut Tak Pernah Usul Nama Perwira Polri untuk Pj Gubernur\n",
      "salah2\n",
      "https://tirto.id/jalan-rasuna-said-berganti-nama-menjadi-jalan-jendral-ah-nasution-cDZa\n",
      "Insert berita  Jalan Rasuna Said Berganti Nama Menjadi Jalan Jendral AH Nasution\n",
      "salah2\n",
      "https://tirto.id/jadwal-siaran-langsung-liga-inggris-31-januari--1-februari-2018-cDY6\n",
      "Insert berita  Jadwal & Siaran Langsung Liga Inggris 31 Januari - 1 Februari 2018\n",
      "salah2\n",
      "https://tirto.id/sandi-koordinasi-dengan-polisi-cegah-mobilisasi-becak-dari-daerah-cDYS\n",
      "Insert berita  Sandi Koordinasi dengan Polisi Cegah Mobilisasi Becak dari Daerah\n",
      "masuk\n"
     ]
    }
   ],
   "source": [
    "for single_date in daterange(start_date, end_date):\n",
    "    clear_output()\n",
    "    print(single_date.strftime(\"%Y-%m-%d\"))\n",
    "    obj.getAllBerita([], init_page, single_date.strftime(\"%Y-%m-%d\"))\n",
    "    init_page = 1"
   ]
  }
 ],
 "metadata": {
  "kernelspec": {
   "display_name": "Python 3",
   "language": "python",
   "name": "python3"
  },
  "language_info": {
   "codemirror_mode": {
    "name": "ipython",
    "version": 3
   },
   "file_extension": ".py",
   "mimetype": "text/x-python",
   "name": "python",
   "nbconvert_exporter": "python",
   "pygments_lexer": "ipython3",
   "version": "3.6.4"
  }
 },
 "nbformat": 4,
 "nbformat_minor": 2
}
