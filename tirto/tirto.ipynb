{
 "cells": [
  {
   "cell_type": "code",
   "execution_count": 1,
   "metadata": {},
   "outputs": [],
   "source": [
    "from Tirto import Tirto #class news Scrapper\n",
    "from datetime import timedelta, date, datetime\n",
    "from IPython.display import clear_output"
   ]
  },
  {
   "cell_type": "code",
   "execution_count": 2,
   "metadata": {},
   "outputs": [],
   "source": [
    "def daterange(start_date, end_date):\n",
    "    for n in range(int ((end_date - start_date).days)):\n",
    "        yield start_date + timedelta(n)"
   ]
  },
  {
   "cell_type": "code",
   "execution_count": 3,
   "metadata": {},
   "outputs": [],
   "source": [
    "obj = Tirto()\n",
    "end_date = date(2018, 8, 8)\n",
    "start_date = date(2018, 2, 14)\n",
    "init_page = 2"
   ]
  },
  {
   "cell_type": "code",
   "execution_count": null,
   "metadata": {
    "scrolled": false
   },
   "outputs": [
    {
     "name": "stdout",
     "output_type": "stream",
     "text": [
      "2018-02-14\n",
      "page  1\n",
      "https://tirto.id/indeks/1?date=2018-02-14\n",
      "https://tirto.id/kpk-tangkap-4-bupati-di-awal-2018-mendagri-saya-merasa-terpukul-cEN4\n",
      "Insert berita  KPK Tangkap 4 Bupati di Awal 2018, Mendagri: Saya Merasa Terpukul\n",
      "masuk\n",
      "https://tirto.id/cuplikan-gol-dan-highlight-bali-united-vs-sriwijaya-fc-di-leg-2-cEN6\n",
      "Insert berita  Cuplikan Gol dan Highlight Bali United vs Sriwijaya FC di Leg 2\n",
      "masuk\n",
      "https://tirto.id/hasil-persija di-piala-afc 2018-dibantai johor-darul-tazim 3-0-cEN5\n",
      "Insert berita  Hasil Persija di Piala AFC 2018: Dibantai Johor Darul Ta'zim 3-0\n",
      "masuk\n",
      "https://tirto.id/hasil-piala-presiden-2018-bali-united-ke-final-tantang-persija-cEN2\n",
      "Insert berita  Hasil Piala Presiden 2018: Bali United ke Final Tantang Persija\n",
      "masuk\n",
      "https://tirto.id/kronologi-ott-bupati-subang-imas-aryumningsih-cEN1\n",
      "Insert berita  Kronologi OTT Bupati Subang Imas Aryumningsih\n",
      "masuk\n",
      "https://tirto.id/kpk-tetapkan-bupati-subang-dan-3-orang-jadi-tersangka-kasus-suap-cENY\n",
      "Insert berita  KPK Tetapkan Bupati Subang dan 3 Orang Jadi Tersangka Kasus Suap\n",
      "masuk\n",
      "https://tirto.id/hasil-bali-united-vs-sriwijaya-fc-di-piala-presiden-skor-akhir-1-0-cENZ\n",
      "Insert berita  Hasil Bali United vs Sriwijaya FC di Piala Presiden Skor Akhir 1-0\n",
      "masuk\n",
      "https://tirto.id/hasil-pertemuan-aliando-dan-pihak-perwakilan-istana-soal-permenhub-cENX\n",
      "Insert berita  Hasil Pertemuan Aliando dan Pihak Perwakilan Istana Soal Permenhub\n",
      "masuk\n",
      "https://tirto.id/hasil-johor-darul-tazim-vs-persija-skor-babak-pertama-2-0-afc-cup-cENW\n",
      "Insert berita  Hasil Johor Darul Ta'zim vs Persija Skor Babak Pertama 2-0 AFC Cup\n",
      "masuk\n",
      "https://tirto.id/komentar-menhub-soal-kasus-pencabulan-penumpang-taksi-online-go-car-cENV\n",
      "Insert berita  Komentar Menhub Soal Kasus Pencabulan Penumpang Taksi Online Go-Car\n",
      "masuk\n",
      "https://tirto.id/bali-united-vs-sriwijaya-fc-skor-0-0-di-babak-pertama-leg-2-cENU\n",
      "Insert berita  Bali United vs Sriwijaya FC: Skor 0-0 di Babak Pertama Leg 2\n",
      "masuk\n",
      "https://tirto.id/fayakhun-andriadi-resmi-jadi-tersangka-kasus-suap-bakamla-cENR\n",
      "Insert berita  Fayakhun Andriadi Resmi Jadi Tersangka Kasus Suap Bakamla\n",
      "masuk\n",
      "https://tirto.id/hasil-bali-united-vs-sriwijaya-fc-skor-babak-pertama-0-0-cENS\n",
      "Insert berita  Hasil Bali United vs Sriwijaya FC Skor Babak Pertama 0-0\n",
      "masuk\n",
      "https://tirto.id/retakan-tanah-di-jakarta-adakah-hubungan-dengan-patahan-aktif-cEMJ\n",
      "Insert berita  Retakan Tanah di Jakarta, Adakah Hubungan dengan Patahan Aktif?\n",
      "masuk\n",
      "https://tirto.id/ditjen-pajak-minta-lembaga-jasa-keuangan-daftarkan-diri-sambut-aeoi-cENL\n",
      "Insert berita  Ditjen Pajak Minta Lembaga Jasa Keuangan Daftarkan Diri Sambut AEOI\n",
      "masuk\n",
      "https://tirto.id/bpjt-didesak-respons-kasus-saldo-e-toll-terpotong-2-kali-cENK\n",
      "Insert berita  BPJT Didesak Respons Kasus Saldo e-Toll Terpotong 2 Kali\n",
      "masuk\n",
      "https://tirto.id/jadwal-siaran-langsung-liga-champions-2018-di-sctv-madrid-vs-psg-cENM\n",
      "Insert berita  Jadwal Siaran Langsung Liga Champions 2018 di SCTV, Madrid vs PSG\n",
      "masuk\n",
      "https://tirto.id/kmk-online-kln-bersinergi-liputan6com-dikelola-grup-kapanlagi-cEND\n",
      "Insert berita  KMK Online & KLN Bersinergi, Liputan6.com Dikelola Grup KapanLagi\n",
      "masuk\n",
      "https://tirto.id/harga-tiket-final-piala-presiden-2018-rp75-ribu-hingga-rp300-ribu-cENE\n",
      "Insert berita  Harga Tiket Final Piala Presiden 2018: Rp75 Ribu Hingga Rp300 Ribu\n",
      "masuk\n",
      "https://tirto.id/zumi-zola akan-diperiksa-kpk-lagi-pada-kamis-besok-cENC\n",
      "Insert berita  Zumi Zola akan Diperiksa KPK Lagi pada Kamis Besok\n",
      "masuk\n",
      "https://tirto.id/800-kendaraan-ditilang-setelah-motor-diperbolehkan-di-thamrin-cENz\n",
      "Insert berita  800 Kendaraan Ditilang Setelah Motor Diperbolehkan di Thamrin\n",
      "masuk\n",
      "https://tirto.id/harga-dan-spesifikasi-xiaomi-redmi-note-5-yang-dirilis-di-india-cENy\n",
      "Insert berita  Harga dan Spesifikasi Xiaomi Redmi Note 5 yang Dirilis di India\n",
      "masuk\n",
      "https://tirto.id/fachri-albar-dibuntuti-polisi-sebelum-tertangkap-di-kasus-narkoba-cENv\n",
      "Insert berita  Fachri Albar Dibuntuti Polisi Sebelum Tertangkap di Kasus Narkoba\n",
      "masuk\n",
      "https://tirto.id/live-streaming-bali-united-vs-sriwijaya-di-indosiar-malam-ini-cENA\n",
      "Insert berita  Live Streaming Bali United vs Sriwijaya di Indosiar Malam Ini\n",
      "masuk\n",
      "https://tirto.id/wakil-ketua-pansus-setuju-lembaga-pengawas-masuk-rekomendasi-cENt\n",
      "Insert berita  Wakil Ketua Pansus Setuju Lembaga Pengawas Masuk Rekomendasi\n",
      "masuk\n",
      "https://tirto.id/tanggapi-rekomendasi-pansus-kpk-tegaskan-pengawasan-sudah-berjalan-cENp\n",
      "Insert berita  Tanggapi Rekomendasi Pansus, KPK Tegaskan Pengawasan Sudah Berjalan\n",
      "masuk\n",
      "https://tirto.id/sempat-ricuh-peserta-demo-aliando-usir-satpol-pp-dki-cENo\n",
      "Insert berita  Sempat Ricuh, Peserta Demo Aliando Usir Satpol PP DKI\n",
      "masuk\n",
      "https://tirto.id/sandiaga-ingin-pasang-60000-cctv-di-jakarta-dengan-bantuan-swasta-cENs\n",
      "Insert berita  Sandiaga Ingin Pasang 60.000 CCTV di Jakarta dengan Bantuan Swasta\n",
      "masuk\n",
      "https://tirto.id/hari-valentine-jatuh-saat-rabu-abu-di-2018-bagaimana-merayakannya-cENn\n",
      "Insert berita  Hari Valentine Jatuh Saat Rabu Abu di 2018, Bagaimana Merayakannya?\n",
      "masuk\n",
      "page  2\n",
      "https://tirto.id/indeks/2?date=2018-02-14\n"
     ]
    }
   ],
   "source": [
    "for single_date in daterange(start_date, end_date):\n",
    "    clear_output()\n",
    "    print(single_date.strftime(\"%Y-%m-%d\"))\n",
    "    obj.getAllBerita([], init_page, single_date.strftime(\"%Y-%m-%d\"))\n",
    "    init_page = 1"
   ]
  },
  {
   "cell_type": "code",
   "execution_count": null,
   "metadata": {},
   "outputs": [],
   "source": []
  }
 ],
 "metadata": {
  "kernelspec": {
   "display_name": "Python 3",
   "language": "python",
   "name": "python3"
  },
  "language_info": {
   "codemirror_mode": {
    "name": "ipython",
    "version": 3
   },
   "file_extension": ".py",
   "mimetype": "text/x-python",
   "name": "python",
   "nbconvert_exporter": "python",
   "pygments_lexer": "ipython3",
   "version": "3.6.4"
  }
 },
 "nbformat": 4,
 "nbformat_minor": 2
}
