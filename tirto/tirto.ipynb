{
 "cells": [
  {
   "cell_type": "code",
   "execution_count": 1,
   "metadata": {},
   "outputs": [],
   "source": [
    "from Tirto import Tirto #class news Scrapper\n",
    "from datetime import timedelta, date, datetime\n",
    "from IPython.display import clear_output"
   ]
  },
  {
   "cell_type": "code",
   "execution_count": 2,
   "metadata": {},
   "outputs": [],
   "source": [
    "def daterange(start_date, end_date):\n",
    "    for n in range(int ((end_date - start_date).days)):\n",
    "        yield start_date + timedelta(n)"
   ]
  },
  {
   "cell_type": "code",
   "execution_count": 3,
   "metadata": {},
   "outputs": [],
   "source": [
    "# error 2018-04-27 halaman 2 \n",
    "# start_date = date(2018, 5, 18) halaman 4\n",
    "obj = Tirto()\n",
    "end_date = date(2018, 9, 1)\n",
    "start_date = date(2018, 8, 11)\n",
    "init_page = 3"
   ]
  },
  {
   "cell_type": "code",
   "execution_count": null,
   "metadata": {
    "scrolled": false
   },
   "outputs": [
    {
     "name": "stdout",
     "output_type": "stream",
     "text": [
      "2018-08-12\n",
      "page  1\n",
      "https://tirto.id/indeks/1?date=2018-08-12\n",
      "https://tirto.id/demokrat-pemasangan-iklan-baliho-ahy-inisiatif-dari-kader-cR3d\n",
      "Insert berita  Demokrat: Pemasangan Iklan Baliho AHY Inisiatif dari Kader\n",
      "masuk\n",
      "https://tirto.id/hasil-arsenal-vs-manchester-city-liga-inggris-2018-skor-akhir-0-2-cR3h\n",
      "Insert berita  Hasil Arsenal vs Manchester City Liga Inggris 2018, Skor Akhir 0-2\n",
      "masuk\n",
      "https://tirto.id/bnpb-606-sekolah-rusak-akibat-gempa-lombok-termasuk-3051-kelas-cR2T\n",
      "Insert berita  BNPB: 606 Sekolah Rusak Akibat Gempa Lombok, Termasuk 3.051 Kelas\n",
      "masuk\n",
      "https://tirto.id/kpu-diminta-sediakan-informasi-lengkap-profil-bakal-caleg-di-dcs-cR2K\n",
      "Insert berita  KPU Diminta Sediakan Informasi Lengkap Profil Bakal Caleg di DCS\n",
      "masuk\n",
      "https://tirto.id/hasil-arsenal-vs-manchester-city-di-liga-inggris-babak-i-skor-0-1-cR2C\n",
      "Insert berita  Hasil Arsenal vs Manchester City di Liga Inggris, Babak I Skor 0-1\n",
      "masuk\n",
      "https://tirto.id/jokowi-klaim-wapres-jk-mau-bergabung-di-tim-kampanyenya-cR2B\n",
      "Insert berita  Jokowi Klaim Wapres JK Mau Bergabung di Tim Kampanyenya\n",
      "masuk\n",
      "https://tirto.id/jokowi-dan-maruf-amin-jalani-tes-kesehatan-selama-12-jam-cR2m\n",
      "Insert berita  Jokowi dan Maruf Amin Jalani Tes Kesehatan Selama 12 Jam\n",
      "masuk\n",
      "https://tirto.id/hasil-dan-klasemen-liga-inggris-2018-pekan-1-liverpool-di-puncak-cR2n\n",
      "Insert berita  Hasil dan Klasemen Liga Inggris 2018 Pekan 1: Liverpool di Puncak\n",
      "masuk\n",
      "https://tirto.id/hasil-liga-inggris-liverpool-vs-west-ham-skor-akhir-4-0-cR1F\n",
      "Insert berita  Hasil Liga Inggris, Liverpool vs West Ham Skor Akhir 4-0\n",
      "masuk\n",
      "https://tirto.id/timnas-indonesia-u-23-menang-stefano-lilipaly-cetak-gol-cantik-cR1Z\n",
      "Insert berita  Timnas Indonesia U-23 Menang, Stefano Lilipaly Cetak Gol Cantik\n",
      "masuk\n",
      "https://tirto.id/klasemen-terbaru-sepak-bola-asian-games-indonesia-tempel-palestina-cR1M\n",
      "Insert berita  Klasemen Terbaru Sepak Bola Asian Games: Indonesia Tempel Palestina\n",
      "masuk\n",
      "https://tirto.id/pesawat-dimonim-air-yang-jatuh-di-papua-ditemukan-8-orang-tewas-cRZy\n",
      "Insert berita  Pesawat Dimonim Air yang Jatuh di Papua Ditemukan, 8 Orang Tewas\n",
      "masuk\n",
      "https://tirto.id/hasil-liverpool-vs-west-ham-skor-2-0-di-babak-pertama-cR1u\n",
      "Insert berita  Hasil Liverpool vs West Ham: Skor 2-0 di Babak Pertama\n",
      "masuk\n",
      "https://tirto.id/hasil-timnas-u-23-indonesia-vs-taiwan-di-asian-games-skor-akhir-4-0-cR1m\n",
      "Insert berita  Hasil Timnas U-23 Indonesia vs Taiwan di Asian Games Skor Akhir 4-0\n",
      "masuk\n",
      "https://tirto.id/gempa-susulan-di-lombok-sampai-12-agustus-sore-terjadi-576-kali-cR1e\n",
      "Insert berita  Gempa Susulan di Lombok Sampai 12 Agustus Sore Terjadi 576 Kali\n",
      "masuk\n",
      "https://tirto.id/dampak-gempa-lombok-per-12-agustus-387-ribu-warga-masih-mengungsi-cR1c\n",
      "Insert berita  Dampak Gempa Lombok per 12 Agustus: 387 Ribu Warga Masih Mengungsi\n",
      "masuk\n",
      "https://tirto.id/klasemen-motogp-2018-terbaru-marquez-kokoh-lorenzo-ungguli-dovi-cR1d\n",
      "Insert berita  Klasemen MotoGP 2018 Terbaru: Marquez Kokoh, Lorenzo Ungguli Dovi\n",
      "masuk\n",
      "https://tirto.id/rekor-neil-etheridge-pemain-asia-tenggara-pertama-di-liga-inggris-cRWK\n",
      "Insert berita  Rekor Neil Etheridge, Pemain Asia Tenggara Pertama di Liga Inggris\n",
      "masuk\n",
      "https://tirto.id/bnpb-pastikan-kabar-soal-gempa-susulan-75-sr-malam-ini-hoaks-cRZ2\n",
      "Insert berita  BNPB Pastikan Kabar Soal Gempa Susulan 7,5 SR Malam Ini Hoaks\n",
      "masuk\n",
      "https://tirto.id/data-terbaru-korban-gempa-lombok-392-meninggal-dan-1353-luka-cRZV\n",
      "Insert berita  Data Terbaru Korban Gempa Lombok: 392 Meninggal dan 1.353 Luka\n",
      "masuk\n",
      "https://tirto.id/hasil-timnas-u-23-indonesia-vs-taiwan-skor-babak-pertama-0-0-cRZ3\n",
      "Insert berita  Hasil Timnas U-23 Indonesia vs Taiwan Skor Babak Pertama 0-0\n",
      "masuk\n",
      "https://tirto.id/hasil-motogp-austria-2018-jorge-lorenzo-juara-kalahkan-marquez-cRZN\n",
      "Insert berita  Hasil MotoGP Austria 2018: Jorge Lorenzo Juara, Kalahkan Marquez\n",
      "masuk\n",
      "https://tirto.id/kim-kurniawan-siap-tampil-bersama-persib-di-piala-indonesia-2018-cRWt\n",
      "Insert berita  Kim Kurniawan Siap Tampil Bersama Persib di Piala Indonesia 2018\n",
      "masuk\n",
      "https://tirto.id/maurizio-sarri-ungkap-perbedaan-wasit-liga-inggris-dan-liga-italia-cRWm\n",
      "Insert berita  Maurizio Sarri Ungkap Perbedaan Wasit Liga Inggris dan Liga Italia\n",
      "masuk\n",
      "https://tirto.id/catatan-kritis-ylbhi-mengenai-jokowi-maruf-dan-prabowo-sandiaga-cRZv\n",
      "Insert berita  Catatan Kritis YLBHI Mengenai Jokowi-Maruf dan Prabowo-Sandiaga\n",
      "masuk\n",
      "https://tirto.id/membedah-potensi-gelombang-golput-di-pilpres-2019-cRYi\n",
      "Insert berita  Membedah Potensi Gelombang Golput di Pilpres 2019\n",
      "masuk\n",
      "https://tirto.id/festival-jakarta-great-sale-2018-resmi-dibuka-meriahkan-asian-games-cRY7\n",
      "Insert berita  Festival Jakarta Great Sale 2018 Resmi Dibuka Meriahkan Asian Games\n",
      "masuk\n",
      "https://tirto.id/klasemen-terbaru-liga-1-per-12-agustus-barito-putera-geser-psm-cRY2\n",
      "Insert berita  Klasemen Terbaru Liga 1 per 12 Agustus: Barito Putera Geser PSM\n",
      "masuk\n",
      "https://tirto.id/hasil-gojek-liga-1-persija-vs-psms-medan-skor-akhir-0-0-cRYL\n",
      "Insert berita  Hasil Gojek Liga 1: Persija vs PSMS Medan Skor Akhir 0-0\n",
      "masuk\n",
      "page  2\n",
      "https://tirto.id/indeks/2?date=2018-08-12\n",
      "https://tirto.id/liverpool-vs-west-ham-jurgen-klopp-kami-seperti-ricky-balboa-cRV6\n",
      "Insert berita  Liverpool vs West Ham, Jurgen Klopp: Kami Seperti Ricky Balboa\n",
      "masuk\n",
      "https://tirto.id/hasil-barito-putera-vs-persebaya-di-liga-1-2018-skor-akhir-3-2-cRYw\n",
      "Insert berita  Hasil Barito Putera vs Persebaya di Liga 1 2018 Skor Akhir 3-2\n",
      "masuk\n"
     ]
    }
   ],
   "source": [
    "for single_date in daterange(start_date, end_date):\n",
    "    clear_output()\n",
    "    print(single_date.strftime(\"%Y-%m-%d\"))\n",
    "    obj.getAllBerita([], init_page, single_date.strftime(\"%Y-%m-%d\"))\n",
    "    init_page = 1"
   ]
  },
  {
   "cell_type": "code",
   "execution_count": null,
   "metadata": {},
   "outputs": [],
   "source": []
  }
 ],
 "metadata": {
  "kernelspec": {
   "display_name": "Python 3",
   "language": "python",
   "name": "python3"
  },
  "language_info": {
   "codemirror_mode": {
    "name": "ipython",
    "version": 3
   },
   "file_extension": ".py",
   "mimetype": "text/x-python",
   "name": "python",
   "nbconvert_exporter": "python",
   "pygments_lexer": "ipython3",
   "version": "3.6.4"
  }
 },
 "nbformat": 4,
 "nbformat_minor": 2
}
