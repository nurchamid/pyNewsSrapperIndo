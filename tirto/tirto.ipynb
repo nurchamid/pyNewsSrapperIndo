{
 "cells": [
  {
   "cell_type": "code",
   "execution_count": 1,
   "metadata": {},
   "outputs": [],
   "source": [
    "from Tirto import Tirto #class news Scrapper\n",
    "from datetime import timedelta, date, datetime\n",
    "from IPython.display import clear_output"
   ]
  },
  {
   "cell_type": "code",
   "execution_count": 2,
   "metadata": {},
   "outputs": [],
   "source": [
    "def daterange(start_date, end_date):\n",
    "    for n in range(int ((end_date - start_date).days)):\n",
    "        yield start_date + timedelta(n)"
   ]
  },
  {
   "cell_type": "code",
   "execution_count": 5,
   "metadata": {},
   "outputs": [],
   "source": [
    "obj = Tirto()\n",
    "end_date = date(2018, 8, 8)\n",
    "start_date = date(2018, 1, 12)\n",
    "init_page = 2"
   ]
  },
  {
   "cell_type": "code",
   "execution_count": null,
   "metadata": {
    "scrolled": false
   },
   "outputs": [
    {
     "name": "stdout",
     "output_type": "stream",
     "text": [
      "2018-01-12\n",
      "page  2\n",
      "https://tirto.id/indeks/2?date=2018-01-12\n",
      "https://tirto.id/sri-mulyani-pastikan-10-persen-saham-freeport-untuk-pemda-papua-cC9Y\n",
      "Insert berita  Sri Mulyani Pastikan 10 Persen Saham Freeport untuk Pemda Papua\n",
      "salah2\n",
      "https://tirto.id/sandiaga-kami-ingin-buat-kawasan-monas-seperti-central-park-cC91\n",
      "Insert berita  Sandiaga: Kami Ingin Buat Kawasan Monas Seperti Central Park\n",
      "salah2\n",
      "https://tirto.id/demokrat-optimistis-bisa-ajukan-calon-presiden-di-pilpres-2019-cC9X\n",
      "Insert berita  Demokrat Optimistis Bisa Ajukan Calon Presiden di Pilpres 2019\n",
      "salah2\n",
      "https://tirto.id/fredrich-yunadi-mangkir-dan-minta-kpk-tunda-pemeriksaan-dirinya-cC9R\n",
      "Insert berita  Fredrich Yunadi Mangkir dan Minta KPK Tunda Pemeriksaan Dirinya\n",
      "salah2\n",
      "https://tirto.id/ombudsman-sebut-maladministrasi-di-imigrasi-karena-keberadaan-calo-cC9P\n",
      "Insert berita  Ombudsman Sebut Maladministrasi di Imigrasi karena Keberadaan Calo\n",
      "salah2\n",
      "https://tirto.id/demo-fpi-ke-kantor-facebook-eggi-pemblokiran-akun-melanggar-uu-cC9N\n",
      "Insert berita  Demo FPI ke Kantor Facebook, Eggi: Pemblokiran Akun Melanggar UU\n",
      "salah2\n"
     ]
    }
   ],
   "source": [
    "for single_date in daterange(start_date, end_date):\n",
    "    clear_output()\n",
    "    print(single_date.strftime(\"%Y-%m-%d\"))\n",
    "    obj.getAllBerita([], init_page, single_date.strftime(\"%Y-%m-%d\"))\n",
    "    init_page = 1"
   ]
  },
  {
   "cell_type": "code",
   "execution_count": null,
   "metadata": {},
   "outputs": [],
   "source": []
  }
 ],
 "metadata": {
  "kernelspec": {
   "display_name": "Python 3",
   "language": "python",
   "name": "python3"
  },
  "language_info": {
   "codemirror_mode": {
    "name": "ipython",
    "version": 3
   },
   "file_extension": ".py",
   "mimetype": "text/x-python",
   "name": "python",
   "nbconvert_exporter": "python",
   "pygments_lexer": "ipython3",
   "version": "3.6.4"
  }
 },
 "nbformat": 4,
 "nbformat_minor": 2
}
