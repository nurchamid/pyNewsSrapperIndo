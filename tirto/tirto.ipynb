{
 "cells": [
  {
   "cell_type": "code",
   "execution_count": 4,
   "metadata": {},
   "outputs": [],
   "source": [
    "from Tirto import Tirto #class news Scrapper\n",
    "from datetime import timedelta, date, datetime\n",
    "from IPython.display import clear_output"
   ]
  },
  {
   "cell_type": "code",
   "execution_count": 5,
   "metadata": {},
   "outputs": [],
   "source": [
    "def daterange(start_date, end_date):\n",
    "    for n in range(int ((end_date - start_date).days)):\n",
    "        yield start_date + timedelta(n)"
   ]
  },
  {
   "cell_type": "code",
   "execution_count": 7,
   "metadata": {},
   "outputs": [],
   "source": [
    "obj = Tirto()\n",
    "end_date = date(2018, 8, 8)\n",
    "start_date = date(2018, 1, 1)\n",
    "init_page = 1"
   ]
  },
  {
   "cell_type": "code",
   "execution_count": null,
   "metadata": {},
   "outputs": [
    {
     "name": "stdout",
     "output_type": "stream",
     "text": [
      "2018-01-01\n",
      "page  1\n",
      "https://tirto.id/indeks/1?date=2018-01-01\n",
      "Insert berita  AP I Akan Segera Rampungkan Pengosongan Lahan Bandara Kulon Progo\n",
      "masuk\n",
      "Insert berita  Belum Ada Deklarasi Cagub Pasca-Dedi Mulyadi Bertemu Deddy Mizwar\n",
      "masuk\n",
      "Insert berita  Direktur Eksekutif ICJR Supriyadi Widodo Meninggal Dunia\n",
      "masuk\n",
      "Insert berita  Polisi Periksa Lima Saksi Terkait Bom Molotov di Polsek Bontoala\n",
      "masuk\n",
      "Insert berita  Dedi Mulyadi: Saya dan Deddy Mizwar Sudah Satu Visi Misi\n",
      "masuk\n",
      "Insert berita  Kapolda Sulsel Instruksikan Tangkap Pelaku Teror Polsek Bontoala\n",
      "masuk\n",
      "Insert berita  \"Merayakan\" Tahun Baru dengan Bertempur di Palembang\n",
      "masuk\n",
      "Insert berita  Polisi Berlakukan Jalur Satu Arah dari Garut ke Bandung\n",
      "masuk\n",
      "Insert berita  Majalah Rolling Stone Indonesia Berhenti Terbit per 1 Januari 2018\n",
      "masuk\n",
      "Insert berita  Puncak Macet Panjang, Pengendara Diminta Lewat Jalur Alternatif\n",
      "masuk\n",
      "Insert berita  Polsek Bontoala Dilempari Bom Molotov, 2 Polisi Terluka\n",
      "masuk\n",
      "Insert berita  Supermoon dan Ancaman Rob di Kawasan Pesisir Indonesia\n",
      "masuk\n",
      "Insert berita  Gempa 5 Skala Richter Guncang Bengkulu\n",
      "masuk\n",
      "Insert berita  Sejumlah Lokasi Wisata yang Jadi Tujuan Isi Libur Tahun Baru 2018\n",
      "masuk\n",
      "Insert berita  Iran Blokir Telegram & Instagram karena Dianggap Media Provokator\n",
      "masuk\n",
      "Insert berita  Pelajar Indonesia di Cina Rayakan Tahun Baru 2018 dengan Pengajian\n",
      "masuk\n",
      "Insert berita  Daftar 10 Festival Budaya Nasional Sepanjang Tahun 2018\n",
      "masuk\n",
      "Insert berita  Hari Pertama Tahun Baru 2018, 104 Ribu Kendaraan Kembali ke Jakarta\n",
      "masuk\n"
     ]
    }
   ],
   "source": [
    "for single_date in daterange(start_date, end_date):\n",
    "    clear_output()\n",
    "    print(single_date.strftime(\"%Y-%m-%d\"))\n",
    "    obj.getAllBerita([], init_page, single_date.strftime(\"%Y-%m-%d\"))\n",
    "    init_page = 1"
   ]
  }
 ],
 "metadata": {
  "kernelspec": {
   "display_name": "Python 3",
   "language": "python",
   "name": "python3"
  },
  "language_info": {
   "codemirror_mode": {
    "name": "ipython",
    "version": 3
   },
   "file_extension": ".py",
   "mimetype": "text/x-python",
   "name": "python",
   "nbconvert_exporter": "python",
   "pygments_lexer": "ipython3",
   "version": "3.6.4"
  }
 },
 "nbformat": 4,
 "nbformat_minor": 2
}
