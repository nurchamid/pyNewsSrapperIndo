{
 "cells": [
  {
   "cell_type": "code",
   "execution_count": 1,
   "metadata": {},
   "outputs": [],
   "source": [
    "from Otodriver import Otodriver\n",
    "import mysql.connector\n",
    "obj = Otodriver()\n",
    "#KELARRR"
   ]
  },
  {
   "cell_type": "code",
   "execution_count": 2,
   "metadata": {},
   "outputs": [],
   "source": [
    "cat = ['tips', 'berita']"
   ]
  },
  {
   "cell_type": "code",
   "execution_count": 3,
   "metadata": {},
   "outputs": [
    {
     "data": {
      "text/plain": [
       "['tips', 'berita']"
      ]
     },
     "execution_count": 3,
     "metadata": {},
     "output_type": "execute_result"
    }
   ],
   "source": [
    "cat"
   ]
  },
  {
   "cell_type": "code",
   "execution_count": 4,
   "metadata": {},
   "outputs": [
    {
     "name": "stdout",
     "output_type": "stream",
     "text": [
      "page  1\n",
      "http://otodriver.com/tips?page=1&per-page=18\n",
      "page  1\n",
      "http://otodriver.com/berita?page=1&per-page=18\n",
      "memasukkan berita id  1534838548\n",
      "Insert berita  Rolls-Royce Rilis Silver Ghost Collection Dalam Jumlah Sangat Terbatas\n",
      "masuk\n"
     ]
    }
   ],
   "source": [
    "init_page = 1\n",
    "for c in cat:\n",
    "    obj.getAllBerita([], init_page, c)\n",
    "    init_page = 1\n",
    "#     init_cat = cat"
   ]
  },
  {
   "cell_type": "code",
   "execution_count": null,
   "metadata": {},
   "outputs": [],
   "source": []
  }
 ],
 "metadata": {
  "kernelspec": {
   "display_name": "Python 3",
   "language": "python",
   "name": "python3"
  },
  "language_info": {
   "codemirror_mode": {
    "name": "ipython",
    "version": 3
   },
   "file_extension": ".py",
   "mimetype": "text/x-python",
   "name": "python",
   "nbconvert_exporter": "python",
   "pygments_lexer": "ipython3",
   "version": "3.6.6"
  }
 },
 "nbformat": 4,
 "nbformat_minor": 2
}
