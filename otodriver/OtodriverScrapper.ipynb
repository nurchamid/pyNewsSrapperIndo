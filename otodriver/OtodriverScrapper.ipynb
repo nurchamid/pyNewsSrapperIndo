{
 "cells": [
  {
   "cell_type": "code",
   "execution_count": 1,
   "metadata": {},
   "outputs": [],
   "source": [
    "from Otodriver import Otodriver\n",
    "import mysql.connector\n",
    "obj = Otodriver()"
   ]
  },
  {
   "cell_type": "code",
   "execution_count": 2,
   "metadata": {},
   "outputs": [
    {
     "name": "stdout",
     "output_type": "stream",
     "text": [
      "page  1\n",
      "http://otodriver.com/berita?page=1&per-page=18\n",
      "memasukkan berita id  1533729752\n",
      "{'category': 'Otomotif', 'subcategory': 'berita', 'url': 'http://otodriver.com/article/view/honda-ajak-para-siswa-sekolah-ke-giias-2018-demi-edukasi-teknologi-canggih/o1D1xV98RBzz0TEl0Ae4dXcVZjsHqk1m5D5s18vBKyg', 'pubdate': '2018-08-08 19:00:00', 'id': 1533729752, 'author': 'Hariawan Arif', 'title': 'Honda Ajak Para Siswa Sekolah ke GIIAS 2018 Demi Edukasi Teknologi Canggih', 'source': 'otorider', 'comments': 0, 'tags': '\\n                              Honda                            ,\\n                              Brio                            ,\\n                              LCGC                            ,\\n                              GIIAS 2018                            ', 'images': 'http://otodriver.com/image/load/200/150/gallery/honda-student-day_4081.jpg', 'content': 'Ajang Gaikindo Indonesia International Auto Show (GIIAS) 2018 dimanfaatkan oleh PT Honda Prospect Motor (HPM) untuk mengundang sebagian para pelajar Sekolah Menengah Kejuruan (SMK) yang terpilih untuk berkunjung ke booth Honda.Terhitung ada 65 pelajar dari 5 sekolah terpilih yang diundang PT HPM dan memiliki tujuan untuk memberkan edukasi mengenai teknologi canggih yang dimiliki Honda seperti mesin VTEC Turbo, sistem Hybrid i-MMD dan mobil listrik pintar Honda NeuV.  VTEC Turbo merupakan teknologi yang dibuat oleh Honda untuk meningkatkan tenaga mesin dengan memanfaatkan gas buang. Selain meningkatkan tenaga, efisiensi bahan bakar juga menjadi fokus utama dalam teknologi yang sudah ada di produk-produk Honda di Indonesia sepert Civic, Civic Hatchback, Civic Type R dan CR-V.Sementara teknologi i-MMD adalah sebuah teknologi hybrid yang memungkinkan mobil Honda dapat digunakan dengan jarah tempuh yang lebih jauh dengan tenaga motor listrik tanpa menyalakan mesin bakar terus menerus sehingga konsumsi BBM akan lebih hemat.  Sedangkan Honda NeuV yang merupakan konsep kendaraan listrik yang dilengkapi dengan teknologi Artificial Intelligence (AI) buatan Honda yang bernama \\'Honda Automated Network Assistant\\' yang memiliki kemampuan komunikasi antara pengendara dan kendaraannya.\"Aktivitas ini merupakan lanjutan dari komitmen kami untuk terus melakukan transfer teknologi bagi generasi muda Indonesia. Kami harap dengan memperkenalkan teknologi-teknologi baru ini, tidak hanya melengkapi pengetahuan para pelajar untuk siap terjun di dunia industri, namun juga meemberikan inspirasi untuk menciptakan inovas mobilitas di masa depan,\" ujar Jonfis Fandy selaku Marketing dan After Sales Service Director PT HPM.                    '}\n",
      "masuk\n",
      "Insert berita  Honda Ajak Para Siswa Sekolah ke GIIAS 2018 Demi Edukasi Teknologi Canggih\n",
      "memasukkan berita id  1533718938\n",
      "{'category': 'Otomotif', 'subcategory': 'berita', 'url': 'http://otodriver.com/article/view/toyota-konsisten-jalankan-komitmen-mobil-untuk-pohon-apa-itu/00-AvYoqyMXRuDRK95ydaI_5Ny7c630tXwYr4qECCps', 'pubdate': '2018-08-08 16:00:00', 'id': 1533718938, 'author': 'Hariawan Arif', 'title': \"Toyota Konsisten Jalankan Komitmen 'Mobil untuk pohon'. Apa Itu?\", 'source': 'otorider', 'comments': 0, 'tags': '\\n                              Toyota                            ', 'images': 'http://otodriver.com/image/load/200/150/gallery/img-20180503-wa00014015.jpg', 'content': \"Toyota tidak hanya melalui semangat Beyond Product, Beyond Technology, dan Beyond Service, ada komitmen lain yang juga diwujudkan dalam semangat “Toyota Berbagi” melalui berbagai program berbagai kegiatan sosial perusahaan (corporate social responsibility/CSR) yang bertujuan untuk menciptakan masyarakat dan lingkungan Indonesia yang lebih baik. Salah satu kegiatan CSR itu adalah program Car for Tree atau jika diterjemahkan berarti 'mobil untuk pohon', dan sudah berlangsung selama lebih dari 8 tahun. Kegiatan ini merupakan salah satu wujud partisipasi Toyota melalui PT Toyota Astra Motor (TAM) dalam menjaga dan melestarikan lingkungan hidup.Car for Tree merupakan program lingkungan hidup dan pemberdayaan masyarakat dari TAM sebagai wujud kontribusi perusahaan bagi upaya-upaya pencegahan pemanasan global, termasuk melalui aktifitas pendidikan guna meningkatkan pemahaman tentang konsep ramah lingkungan. Program yang melibatkan Toyota dan jaringan penjualannya ini, dilaksanakan dengan menyisihkan sebagian profit penjualan mobil untuk mendukung program konservasi lingkungan melalu penanaman pohon. Sejalan dengan semangat Let’s Go Beyond dan filosofi continuous development, program ini terus dikembangkan dan diperluas untuk menciptakan manfaat yang lebih dan berkelanjutan bagi masyarakat luas. Program ini tak hanya sekedar menanam pohon untuk penghijauan, TAM secara bertahap juga memperluas cakupan program Car for Tree ke seluruh wilayah Indonesia seperti melalui pemberdayaan petani, pelestarian terumbu karang dan memfasilitasi pengembangan budaya maritim, serta pembinaan budaya aman berkendaraan sejak usia dini.Vice President Director Toyota-Astra Motor, Henry Tanoto, menyebutkan bahwakonsep Toyota Bersama Membangun Negeri (“Toyota Berbagi”) dan dilandasi semangat Toyota Let’s Go Beyond, telah mendorong TAM untuk terus merancang dan mengembangkan program-program CSR melalui bidang pendidikan, lingkungan hidup, pemberdayaan masyarakat, dan keselamatan berkendara.“Untuk bidang lingkungan, TAM melakukan improvement terhadap program Car for Tree agar program tersebut dapat semakin bermanfaat bagi masyarakat luas dan berjalanberkesinambungan. Tidak hanya fokus pada menanam pohon untuk penghijauan, cakupan wilayah program Car for Tree juga kami perluas ke luar wilayah Jakarta,” kata Henry.Implementasi program Car for Tree dimulai pada 2010 dengan membangun Toyota Eco Island di Taman Impian Jaya Ancol. Kemudian program ini berlanjut dengan program revitalisasi Taman Semanggi Jakarta pada tahun 2014. Sejak tahun lalu, TAM berkomitmen  memperluas cakupan program Car for Tree ke daerah-daerah berdasarkan potensi lokal yang dimiliki dan tantangan lingkungan yang sesuai dengan daerahnya,  serta tidak hanya terfokus kepada penanaman pohon.“Tak hanya di sisi produk, teknologi, dan layanan,  improvement yang dilakukan TAM juga menyentuh berbagai kegiatan corporate social responsibility (CSR). Selain memiliki komitmen penuh pada pengembangan usaha yang baik dan sehat layaknya sebuah entitas bisnis,  TAM juga memiliki kepedulian dalam perbaikan masyarakat dan lingkungan demi membangun Indonesia yang lebih baik, salah satunya melalui implementasi program Car for Tree,” ujar Lina Agustina selaku General Manager Toyota Astra Motor, dalam acara media gathering CSR Toyota di GIIAS 2018 (7/8).                    \"}\n",
      "masuk\n",
      "Insert berita  Toyota Konsisten Jalankan Komitmen 'Mobil untuk pohon'. Apa Itu?\n",
      "memasukkan berita id  1533715346\n",
      "{'category': 'Otomotif', 'subcategory': 'berita', 'url': 'http://otodriver.com/article/view/gt-radial-belum-tertarik-produksi-ban-rft-di-indonesia-ini-alasannya/P86Tpz054GJNqdsJ63Qw_nr4FB66xoEfGoypsQWk_mo', 'pubdate': '2018-08-08 15:00:00', 'id': 1533715346, 'author': 'Purwananda', 'title': 'GT Radial Belum Tertarik Produksi Ban RFT di Indonesia. Ini Alasannya', 'source': 'otorider', 'comments': 0, 'tags': '\\n                              GT  Radial                            ,\\n                              Ban                            ', 'images': 'http://otodriver.com/image/load/200/150/gallery/20170214-2255464707.jpg', 'content': 'GT Radial yang bernaung di bawah PT Gajah Tunggal Tbk saat ini disebut-sebut sebagai salah satu produsen ban terbesar di Indonesia. Saat ini PT Gajah Tunggal Tbk mengoperasikan 5 pabrik ban yang berlokasi di Tangerang, Banten.Salah satu ban mobil andalannya saat ini adalah Champiro Eco yang diklaim memiliki kemampuan dalam mendukung efisiensi bahan bakar mobil. Ban ini dibuat khusus agar dapat memiliki rolling resistance (hambatan gulir) rendah sehingga mobil lebih mudah bergulir. Namun, jika berbicara soal salah satu teknologi ban terkini yang bahkan telah jamak ditemukan seperti RFT (Run Flat Tires), pihak GT Radial nampaknya belum tertarik untuk memproduksi ban jenis ini secara lokal. Padahal di kancah internasional mereka memiliki berbagai produk yang sudah mengadopsi teknologi RFT.Perbincangan kami dengan Rizki Andromerdi selaku Senior Brand Executive GT Radial membuahkan kesimpulan, bahwa pihaknya masih belum tertarik karena terbentur regulasi di Indonesia yang belum membuka kesempatan untuk ban jenis ini. “Pasar ban seperti ini niche sekali, beberapa pabrikan mobil premium di Indonesia memang sudah menggunakan, tapi masih berbenturan dengan regulasi pemerintah yang mewajibkan kehadiran ban cadangan di dalam mobil,” ujar Rizki.Regulasi soal ban cadangan saat ini memang masih menjadi perdebatan dan polemik di Indonesia. Rizki pun menyebutkan bahwa hingga saat ini belum ada mediasi atau diskusi dari pemerintah yang melibatkan produsen ban dalam (GT Radial) untuk membahas regulasi ban cadangan tersebut.                     '}\n",
      "masuk\n",
      "Insert berita  GT Radial Belum Tertarik Produksi Ban RFT di Indonesia. Ini Alasannya\n"
     ]
    },
    {
     "ename": "KeyboardInterrupt",
     "evalue": "",
     "output_type": "error",
     "traceback": [
      "\u001b[1;31m---------------------------------------------------------------------------\u001b[0m",
      "\u001b[1;31mKeyboardInterrupt\u001b[0m                         Traceback (most recent call last)",
      "\u001b[1;32m<ipython-input-2-0f550e79f431>\u001b[0m in \u001b[0;36m<module>\u001b[1;34m()\u001b[0m\n\u001b[1;32m----> 1\u001b[1;33m \u001b[0mlinks\u001b[0m \u001b[1;33m=\u001b[0m \u001b[0mobj\u001b[0m\u001b[1;33m.\u001b[0m\u001b[0mgetAllBerita\u001b[0m\u001b[1;33m(\u001b[0m\u001b[1;33m[\u001b[0m\u001b[1;33m]\u001b[0m\u001b[1;33m,\u001b[0m \u001b[1;36m1\u001b[0m\u001b[1;33m,\u001b[0m \u001b[1;34m'berita'\u001b[0m\u001b[1;33m)\u001b[0m\u001b[1;33m\u001b[0m\u001b[0m\n\u001b[0m\u001b[0;32m      2\u001b[0m \u001b[1;31m# details = obj.getDetailBerita(links)\u001b[0m\u001b[1;33m\u001b[0m\u001b[1;33m\u001b[0m\u001b[0m\n",
      "\u001b[1;32mD:\\OJT FILES\\Scrapper\\pyNewsSrapperIndo\\otodriver\\Otodriver.py\u001b[0m in \u001b[0;36mgetAllBerita\u001b[1;34m(self, details, page, cat, date)\u001b[0m\n\u001b[0;32m     63\u001b[0m                 \u001b[0mlast_page\u001b[0m \u001b[1;33m=\u001b[0m \u001b[1;36m2\u001b[0m\u001b[1;33m\u001b[0m\u001b[0m\n\u001b[0;32m     64\u001b[0m                 \u001b[1;32mif\u001b[0m \u001b[0mlast_page\u001b[0m \u001b[1;33m!=\u001b[0m \u001b[0mpage\u001b[0m\u001b[1;33m:\u001b[0m\u001b[1;33m\u001b[0m\u001b[0m\n\u001b[1;32m---> 65\u001b[1;33m                     \u001b[0mtime\u001b[0m\u001b[1;33m.\u001b[0m\u001b[0msleep\u001b[0m\u001b[1;33m(\u001b[0m\u001b[1;36m10\u001b[0m\u001b[1;33m)\u001b[0m\u001b[1;33m\u001b[0m\u001b[0m\n\u001b[0m\u001b[0;32m     66\u001b[0m                     \u001b[0mdetails\u001b[0m \u001b[1;33m=\u001b[0m \u001b[0mself\u001b[0m\u001b[1;33m.\u001b[0m\u001b[0mgetAllBerita\u001b[0m\u001b[1;33m(\u001b[0m\u001b[0mdetails\u001b[0m\u001b[1;33m,\u001b[0m \u001b[0mpage\u001b[0m\u001b[1;33m+\u001b[0m\u001b[1;36m1\u001b[0m\u001b[1;33m,\u001b[0m \u001b[0mcat\u001b[0m\u001b[1;33m,\u001b[0m \u001b[0mdate\u001b[0m\u001b[1;33m)\u001b[0m\u001b[1;33m\u001b[0m\u001b[0m\n\u001b[0;32m     67\u001b[0m         \u001b[0mcon\u001b[0m\u001b[1;33m.\u001b[0m\u001b[0mclose\u001b[0m\u001b[1;33m(\u001b[0m\u001b[1;33m)\u001b[0m\u001b[1;33m\u001b[0m\u001b[0m\n",
      "\u001b[1;31mKeyboardInterrupt\u001b[0m: "
     ]
    }
   ],
   "source": [
    "links = obj.getAllBerita([], 1, 'berita')\n",
    "# details = obj.getDetailBerita(links)"
   ]
  },
  {
   "cell_type": "code",
   "execution_count": null,
   "metadata": {},
   "outputs": [],
   "source": [
    "links = obj.getIndeksLink([], 1, '02-08-2018')\n",
    "details = obj.getDetailBerita(links)\n",
    "con = mysql.connector.connect(user='root', password='', host='127.0.0.1', database='news_db')\n",
    "cursor = con.cursor()\n",
    "for det in details:\n",
    "    add_article = (\"INSERT INTO article\"\n",
    "              \"(post_id, author, pubdate, category, subcategory, content, comments, images, title, tags, url, source) \"\n",
    "              \"VALUES (%(id)s, %(author)s, %(pubdate)s, %(category)s, %(subcategory)s, %(content)s, %(comments)s, %(images)s, %(title)s, %(tags)s, %(url)s, %(source)s)\")\n",
    "    # Insert article\n",
    "    cursor.execute(add_article, det)\n",
    "    con.commit()\n",
    "\n",
    "cursor.close()\n",
    "con.close()"
   ]
  }
 ],
 "metadata": {
  "kernelspec": {
   "display_name": "Python 3",
   "language": "python",
   "name": "python3"
  },
  "language_info": {
   "codemirror_mode": {
    "name": "ipython",
    "version": 3
   },
   "file_extension": ".py",
   "mimetype": "text/x-python",
   "name": "python",
   "nbconvert_exporter": "python",
   "pygments_lexer": "ipython3",
   "version": "3.6.6"
  }
 },
 "nbformat": 4,
 "nbformat_minor": 2
}
