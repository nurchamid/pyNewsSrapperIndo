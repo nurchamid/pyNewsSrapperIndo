{
 "cells": [
  {
   "cell_type": "code",
   "execution_count": 1,
   "metadata": {},
   "outputs": [],
   "source": [
    "from Cintamobil import Cintamobil\n",
    "# import mysql.connector"
   ]
  },
  {
   "cell_type": "code",
   "execution_count": 2,
   "metadata": {},
   "outputs": [],
   "source": [
    "obj = Cintamobil()"
   ]
  },
  {
   "cell_type": "code",
   "execution_count": 3,
   "metadata": {},
   "outputs": [],
   "source": [
    "cat = ['berita-mobil', 'tips-trik']\n",
    "init_cat = cat\n",
    "init_page = 1"
   ]
  },
  {
   "cell_type": "code",
   "execution_count": 5,
   "metadata": {},
   "outputs": [
    {
     "name": "stdout",
     "output_type": "stream",
     "text": [
      "page  1\n",
      "https://cintamobil.com/berita-mobil/berita-mobil/p1\n",
      "memasukkan berita id  2317\n",
      "Insert berita  Wuling Confero 1.200 cc Meluncur Akhir Tahun, Hanya Untuk Pasar ‘Fleet’?\n",
      "masuk\n",
      "page  1\n",
      "https://cintamobil.com/tips-trik/tips-trik/p1\n"
     ]
    }
   ],
   "source": [
    "for c in init_cat:\n",
    "    obj.getAllBerita([], init_page, c)\n",
    "    init_cat = cat\n",
    "    init_page = 1"
   ]
  },
  {
   "cell_type": "code",
   "execution_count": null,
   "metadata": {},
   "outputs": [],
   "source": []
  }
 ],
 "metadata": {
  "kernelspec": {
   "display_name": "Python 3",
   "language": "python",
   "name": "python3"
  },
  "language_info": {
   "codemirror_mode": {
    "name": "ipython",
    "version": 3
   },
   "file_extension": ".py",
   "mimetype": "text/x-python",
   "name": "python",
   "nbconvert_exporter": "python",
   "pygments_lexer": "ipython3",
   "version": "3.6.6"
  }
 },
 "nbformat": 4,
 "nbformat_minor": 2
}
