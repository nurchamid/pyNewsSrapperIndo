{
 "cells": [
  {
   "cell_type": "code",
   "execution_count": 1,
   "metadata": {},
   "outputs": [],
   "source": [
    "from Cintamobil import Cintamobil\n",
    "# import mysql.connector"
   ]
  },
  {
   "cell_type": "code",
   "execution_count": 2,
   "metadata": {},
   "outputs": [],
   "source": [
    "obj = Cintamobil()"
   ]
  },
  {
   "cell_type": "code",
   "execution_count": 3,
   "metadata": {},
   "outputs": [],
   "source": [
    "cat = ['berita-mobil', 'tips-trik']\n",
    "init_cat = cat\n",
    "init_page = 1"
   ]
  },
  {
   "cell_type": "code",
   "execution_count": 4,
   "metadata": {},
   "outputs": [
    {
     "name": "stdout",
     "output_type": "stream",
     "text": [
      "page  1\n",
      "https://cintamobil.com/berita-mobil/berita-mobil/p1\n",
      "memasukkan berita id  2498\n",
      "Insert berita  Enam Hari GIIAS Makassar 2018, DFSK Raih Tiga Penghargaan Bergengsi\n",
      "masuk\n",
      "memasukkan berita id  2503\n",
      "Insert berita  LEGO Bugatti Chiron: Hypercar Dari Lego dan Bisa Dikendarai\n",
      "masuk\n",
      "memasukkan berita id  2494\n",
      "Insert berita  Setelah Mission: Impossible, BMW Seri 5 Bintangi Tom Clancy’s Jack Ryan\n",
      "masuk\n",
      "memasukkan berita id  2506\n",
      "Insert berita  Toyota Resmikan Outlet Baru Di Tangerang dan Bekasi\n",
      "masuk\n",
      "memasukkan berita id  2484\n",
      "Insert berita  Supercar Sangar Baru, Ini 5 Fakta Bugatti Divo yang Belum Anda Ketahui\n",
      "masuk\n",
      "memasukkan berita id  2500\n",
      "Insert berita  Pininfarina Siapkan Hypercar Listrik Penantang Tesla Roadster\n",
      "masuk\n",
      "memasukkan berita id  2497\n",
      "Insert berita  Jelang Penutupan Asian Games, Ini Rencana Kebijakan Ganjil Genap di Jakarta\n",
      "masuk\n",
      "memasukkan berita id  2471\n",
      "Insert berita  Chevrolet Camaro 1967 edisi khusus Steve Rogers, Sang Captain America\n",
      "masuk\n",
      "memasukkan berita id  2433\n",
      "Insert berita  The Power of Women dari Bertha Benz, Pengemudi Mobil Pertama di Dunia\n",
      "masuk\n",
      "memasukkan berita id  2487\n",
      "Insert berita  Punya Banyak Model, Penjualan Chevrolet Per Bulan Tidak Sampai 500 Unit\n",
      "masuk\n",
      "page  2\n",
      "https://cintamobil.com/berita-mobil/berita-mobil/p2\n",
      "memasukkan berita id  2488\n",
      "Insert berita  Wow, Mobil Listrik Nissan Sylphy Dijual Separo Harga Nissan LEAF\n",
      "masuk\n",
      "page  1\n",
      "https://cintamobil.com/tips-trik/tips-trik/p1\n",
      "memasukkan berita id  2463\n",
      "Insert berita  Kabin Mobil Kurang Dingin? Begini Tips Menjaga Kondisi AC Mobil Tetap Normal\n",
      "masuk\n",
      "memasukkan berita id  2464\n",
      "Insert berita  Bukan Cuma Tenaga Dan Torsi, Power to Weight Ratio Juga Punya Peran Dalam Performa\n",
      "masuk\n",
      "memasukkan berita id  2449\n",
      "Insert berita  Ingin Liburan? Perhatikan Tips Aman di Jalan dari Nissan Indonesia Berikut\n",
      "masuk\n",
      "memasukkan berita id  2492\n",
      "Insert berita  6 Mobil Daihatsu Harga Di Bawah  Rp. 150 Juta\n",
      "masuk\n",
      "memasukkan berita id  2472\n",
      "Insert berita  Sering Kebanjiran? Flood Guard Car Bag Hindari Kerusakan Mobil\n",
      "masuk\n",
      "memasukkan berita id  2466\n",
      "Insert berita  5 Tips Mendeteksi Keaslian BPKB Menurut Polisi\n",
      "masuk\n",
      "memasukkan berita id  2454\n",
      "Insert berita  Posisi Ban Yang Benar Saat Parkir Di Jalan Menurun Dan Menanjak\n",
      "masuk\n",
      "memasukkan berita id  2460\n",
      "Insert berita  Alasan Mobil Modern Mudah Rusak, Ternyata untuk Pengemudi dan Pejalan Kaki\n",
      "masuk\n",
      "memasukkan berita id  2450\n",
      "Insert berita  Paket Pilihan Land Rover untuk Kenyamanan Membawa Hewan di Dalam Mobil\n",
      "masuk\n",
      "memasukkan berita id  2473\n",
      "Insert berita  Bukan Cuma Fitur Standar, Sabuk Pengaman Juga Ada Teknologinya\n",
      "masuk\n",
      "page  2\n",
      "https://cintamobil.com/tips-trik/tips-trik/p2\n"
     ]
    }
   ],
   "source": [
    "for c in init_cat:\n",
    "    obj.getAllBerita([], init_page, c)\n",
    "    init_cat = cat\n",
    "    init_page = 1"
   ]
  },
  {
   "cell_type": "code",
   "execution_count": null,
   "metadata": {},
   "outputs": [],
   "source": []
  }
 ],
 "metadata": {
  "kernelspec": {
   "display_name": "Python 3",
   "language": "python",
   "name": "python3"
  },
  "language_info": {
   "codemirror_mode": {
    "name": "ipython",
    "version": 3
   },
   "file_extension": ".py",
   "mimetype": "text/x-python",
   "name": "python",
   "nbconvert_exporter": "python",
   "pygments_lexer": "ipython3",
   "version": "3.6.6"
  }
 },
 "nbformat": 4,
 "nbformat_minor": 2
}
