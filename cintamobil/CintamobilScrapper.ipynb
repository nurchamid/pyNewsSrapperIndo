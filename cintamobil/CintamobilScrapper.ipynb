{
 "cells": [
  {
   "cell_type": "code",
   "execution_count": 1,
   "metadata": {},
   "outputs": [],
   "source": [
    "from Cintamobil import Cintamobil\n",
    "# import mysql.connector"
   ]
  },
  {
   "cell_type": "code",
   "execution_count": 2,
   "metadata": {},
   "outputs": [],
   "source": [
    "obj = Cintamobil()"
   ]
  },
  {
   "cell_type": "code",
   "execution_count": 3,
   "metadata": {},
   "outputs": [
    {
     "name": "stdout",
     "output_type": "stream",
     "text": [
      "page  1\n",
      "https://cintamobil.com/berita-mobil/berita-mobil/p1\n",
      "memasukkan berita id  2305\n",
      "Insert berita  Zaman Berubah Namun Pembuatan Mobil Masih Menggunakan Cara Konvensional\n",
      "masuk\n",
      "memasukkan berita id  2288\n",
      "Insert berita  Dari Trek Ke Jalanan: Supercar Bermesin Warisan Arena Balap\n",
      "masuk\n",
      "memasukkan berita id  2297\n",
      "Insert berita  New York Batasi Ojol dan Tetapkan Batas Minimum Pembayaran Pengemudi\n",
      "masuk\n",
      "memasukkan berita id  2299\n",
      "Insert berita  GIIAS 2018: DFSK Goda Tora Sudiro dan Astrid Tiar Kenyamanan Mengendarai Glory 580\n",
      "masuk\n",
      "memasukkan berita id  2298\n",
      "Insert berita  Wow, Toyota Innova CS Diskon Hingga Rp 100 Juta Di GIIAS 2018\n",
      "masuk\n",
      "memasukkan berita id  2291\n",
      "Insert berita  Jor-joran Diskon Mobil Low SUV di GIIAS 2018, Mana Paling Menggoda?\n",
      "masuk\n",
      "memasukkan berita id  2292\n",
      "Insert berita  Goda Pengunjung, Diskon Mobil Sejuta Umat Di GIIAS 2018 Sampai Rp 25 Juta\n",
      "masuk\n",
      "memasukkan berita id  2293\n",
      "Insert berita  Daihatsu: Orang Indonesia Tak Suka Mobil Kecil\n",
      "masuk\n",
      "memasukkan berita id  2286\n",
      "Insert berita  Tesla dan Waymo, Penantang Terberat Perlombaan Mobil Swakemudi Masa Depan\n",
      "masuk\n",
      "memasukkan berita id  2290\n",
      "Insert berita  Diam-Diam, Ford Ranger 2019 Sudah Merilis Informasi Variannya Dan Teknologi Barunya\n",
      "masuk\n",
      "page  2\n",
      "https://cintamobil.com/berita-mobil/berita-mobil/p2\n"
     ]
    },
    {
     "data": {
      "text/plain": [
       "'berhasil ambil semua berita'"
      ]
     },
     "execution_count": 3,
     "metadata": {},
     "output_type": "execute_result"
    }
   ],
   "source": [
    "obj.getAllBerita([], 1, 'berita-mobil')"
   ]
  },
  {
   "cell_type": "code",
   "execution_count": null,
   "metadata": {},
   "outputs": [],
   "source": []
  }
 ],
 "metadata": {
  "kernelspec": {
   "display_name": "Python 3",
   "language": "python",
   "name": "python3"
  },
  "language_info": {
   "codemirror_mode": {
    "name": "ipython",
    "version": 3
   },
   "file_extension": ".py",
   "mimetype": "text/x-python",
   "name": "python",
   "nbconvert_exporter": "python",
   "pygments_lexer": "ipython3",
   "version": "3.6.6"
  }
 },
 "nbformat": 4,
 "nbformat_minor": 2
}
