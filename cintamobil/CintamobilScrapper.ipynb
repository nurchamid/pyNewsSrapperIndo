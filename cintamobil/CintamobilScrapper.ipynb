{
 "cells": [
  {
   "cell_type": "code",
   "execution_count": 1,
   "metadata": {},
   "outputs": [],
   "source": [
    "from Cintamobil import Cintamobil\n",
    "# import mysql.connector"
   ]
  },
  {
   "cell_type": "code",
   "execution_count": 2,
   "metadata": {},
   "outputs": [],
   "source": [
    "obj = Cintamobil()"
   ]
  },
  {
   "cell_type": "code",
   "execution_count": 3,
   "metadata": {},
   "outputs": [],
   "source": [
    "cat = ['berita-mobil', 'tips-trik']\n",
    "init_cat = cat\n",
    "init_page = 1"
   ]
  },
  {
   "cell_type": "code",
   "execution_count": 4,
   "metadata": {},
   "outputs": [
    {
     "name": "stdout",
     "output_type": "stream",
     "text": [
      "page  1\n",
      "https://cintamobil.com/berita-mobil/berita-mobil/p1\n",
      "memasukkan berita id  2376\n",
      "Insert berita  Promo Kemerdekaan, Beli Mobil Wuling Diskon Hingga Rp 13 Juta\n",
      "masuk\n",
      "memasukkan berita id  2370\n",
      "Insert berita  Indonesia Kebagian Jatah 1 Aston Martin Vanquish S Ultimate\n",
      "masuk\n",
      "memasukkan berita id  2377\n",
      "Insert berita  Wuling SUV Siap Mengaspal Akhir Tahun\n",
      "masuk\n",
      "memasukkan berita id  2351\n",
      "Insert berita  Kelakukan Orang Kaya, Hypercar 30 Milyar Pagani Zonda Revolución Jadi Dinding Pemisah\n",
      "masuk\n",
      "memasukkan berita id  2369\n",
      "Insert berita  Pengalihan Lalu Lintas Pembukaan Asian Games, Hindari Ruas Jalan Berikut\n",
      "masuk\n",
      "memasukkan berita id  2365\n",
      "Insert berita  Dari Mobil Listrik hingga Mobil Kayu, 10 Mobil Unik Berbagai Desain dan Teknologi\n",
      "masuk\n",
      "memasukkan berita id  2366\n",
      "Insert berita  Layaknya Film Aksi, Maruti Baleno Lompati Jalan ke Atap Rumah di Sarkaghat, India\n",
      "masuk\n",
      "memasukkan berita id  2356\n",
      "Insert berita  Menyongsong Matahari Terbit dalam Uji Coba Audi E-Tron di Pikes Peak\n",
      "masuk\n",
      "memasukkan berita id  2363\n",
      "Insert berita  Xpander Tons of Real Happines Hadir Di Semarang Meriahkan HUT Kemerdekaan RI ke 73\n",
      "masuk\n",
      "memasukkan berita id  2364\n",
      "Insert berita  Libur Kemerdekaan, Lalu Lintas Kota Semarang Lengang\n",
      "masuk\n",
      "page  2\n",
      "https://cintamobil.com/berita-mobil/berita-mobil/p2\n",
      "memasukkan berita id  2362\n",
      "Insert berita  Honda HR-V 2019 Dilaporkan Siap Diluncurkan di India\n",
      "masuk\n",
      "page  1\n",
      "https://cintamobil.com/tips-trik/tips-trik/p1\n",
      "memasukkan berita id  2368\n",
      "Insert berita  Membeli Mobkas di APM Resmi, Apa Saja Keuntungannya?\n",
      "masuk\n",
      "memasukkan berita id  2367\n",
      "Insert berita  Awas, Jangan Tertipu Modus Mobil Bekas dengan Dokumen Mobil Palsu\n",
      "masuk\n",
      "memasukkan berita id  2339\n",
      "Insert berita  Buku Manual Kendaraan, Kelengkapan Kendaraan yang Diatur Dalam Hukum\n",
      "masuk\n",
      "memasukkan berita id  2350\n",
      "Insert berita  Untuk Pemakaian Harian, Ini Aturan Modifikasi Mobil Agar Tidak Ditilang\n",
      "masuk\n",
      "memasukkan berita id  2355\n",
      "Insert berita  Tool-Kit Tambahan bagi Penikmat Perjalanan Jauh di Malam Hari\n",
      "masuk\n",
      "memasukkan berita id  2342\n",
      "Insert berita  Kenali Tarif Mobil Derek, Penolong Dikala Susah dan Sendirian\n",
      "masuk\n",
      "memasukkan berita id  2338\n",
      "Insert berita  Tips Beli Nissan Terrano Bekas: SUV Kekar Yang Melegenda Dari Nissan\n",
      "masuk\n",
      "memasukkan berita id  2340\n",
      "Insert berita  Perkembangan Teknologi Parking Assist, Mulai dari Sensor Bunyi Hingga Parkir Assist Aktif\n",
      "masuk\n",
      "memasukkan berita id  2301\n",
      "Insert berita  Memeriksa Ban dan Pelek Sebelum Perjalanan Jauh: Keharusan untuk Keamanan\n",
      "masuk\n",
      "memasukkan berita id  2353\n",
      "Insert berita  Tips Beli Nissan Terrano Bekas\n",
      "masuk\n",
      "page  2\n",
      "https://cintamobil.com/tips-trik/tips-trik/p2\n"
     ]
    }
   ],
   "source": [
    "for c in init_cat:\n",
    "    obj.getAllBerita([], init_page, c)\n",
    "    init_cat = cat\n",
    "    init_page = 1"
   ]
  },
  {
   "cell_type": "code",
   "execution_count": null,
   "metadata": {},
   "outputs": [],
   "source": []
  }
 ],
 "metadata": {
  "kernelspec": {
   "display_name": "Python 3",
   "language": "python",
   "name": "python3"
  },
  "language_info": {
   "codemirror_mode": {
    "name": "ipython",
    "version": 3
   },
   "file_extension": ".py",
   "mimetype": "text/x-python",
   "name": "python",
   "nbconvert_exporter": "python",
   "pygments_lexer": "ipython3",
   "version": "3.6.6"
  }
 },
 "nbformat": 4,
 "nbformat_minor": 2
}
