{
 "cells": [
  {
   "cell_type": "code",
   "execution_count": 1,
   "metadata": {},
   "outputs": [],
   "source": [
    "from Cintamobil import Cintamobil\n",
    "# import mysql.connector"
   ]
  },
  {
   "cell_type": "code",
   "execution_count": 2,
   "metadata": {},
   "outputs": [],
   "source": [
    "obj = Cintamobil()"
   ]
  },
  {
   "cell_type": "code",
   "execution_count": 3,
   "metadata": {},
   "outputs": [],
   "source": [
    "cat = ['berita-mobil', 'tips-trik']\n",
    "init_cat = cat\n",
    "init_page = 1"
   ]
  },
  {
   "cell_type": "code",
   "execution_count": 4,
   "metadata": {},
   "outputs": [
    {
     "name": "stdout",
     "output_type": "stream",
     "text": [
      "page  1\n",
      "https://cintamobil.com/berita-mobil/berita-mobil/p1\n",
      "memasukkan berita id  2406\n",
      "Insert berita  Tak Perlu Pakai Lama Dan Galau, FORWOT Segera Serahkan Bantuan Kemanusiaan Gempa Lombok\n",
      "masuk\n",
      "memasukkan berita id  2405\n",
      "Insert berita  Gubernur Sulawesi Selatan Sambangi Booth DFSK\n",
      "masuk\n",
      "memasukkan berita id  2403\n",
      "Insert berita  DFSK Glory 580 Tampil Perdana di GIIAS Makassar 2018\n",
      "masuk\n",
      "memasukkan berita id  2404\n",
      "Insert berita  Mau Ke GIIAS 2018 Makassar? Harus Tahu Dulu Jam Operasionalnya Disini.\n",
      "masuk\n",
      "memasukkan berita id  2402\n",
      "Insert berita  Seru, Penjualan Xpander Juli 2018 Kembali Salip Avanza\n",
      "masuk\n",
      "memasukkan berita id  2400\n",
      "Insert berita  Kerjasama Berlanjut, Geely Dorong Ekspansi Proton ke Pasar Global\n",
      "masuk\n",
      "memasukkan berita id  2401\n",
      "Insert berita  Mitsubishi : Konsumen Makassar Itu Unik Dan Nyentrik\n",
      "masuk\n",
      "memasukkan berita id  2396\n",
      "Insert berita  Tiga Karyawan Tesla Dipulangkan Akibat Tak Capai Target Produksi Harian\n",
      "masuk\n",
      "page  1\n",
      "https://cintamobil.com/tips-trik/tips-trik/p1\n"
     ]
    }
   ],
   "source": [
    "for c in init_cat:\n",
    "    obj.getAllBerita([], init_page, c)\n",
    "    init_cat = cat\n",
    "    init_page = 1"
   ]
  },
  {
   "cell_type": "code",
   "execution_count": null,
   "metadata": {},
   "outputs": [],
   "source": []
  }
 ],
 "metadata": {
  "kernelspec": {
   "display_name": "Python 3",
   "language": "python",
   "name": "python3"
  },
  "language_info": {
   "codemirror_mode": {
    "name": "ipython",
    "version": 3
   },
   "file_extension": ".py",
   "mimetype": "text/x-python",
   "name": "python",
   "nbconvert_exporter": "python",
   "pygments_lexer": "ipython3",
   "version": "3.6.6"
  }
 },
 "nbformat": 4,
 "nbformat_minor": 2
}
