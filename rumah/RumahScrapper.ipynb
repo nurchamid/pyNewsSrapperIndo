{
 "cells": [
  {
   "cell_type": "code",
   "execution_count": 1,
   "metadata": {},
   "outputs": [],
   "source": [
    "from Rumah import Rumah\n",
    "obj = Rumah()"
   ]
  },
  {
   "cell_type": "code",
   "execution_count": 2,
   "metadata": {},
   "outputs": [],
   "source": [
    "cat = ['id-pm', 'id-mort', 'id-rumah-dan-gaya-hidup', 'riset-konsumen-properti', 'rumah-com-properti-index']"
   ]
  },
  {
   "cell_type": "code",
   "execution_count": null,
   "metadata": {},
   "outputs": [
    {
     "name": "stdout",
     "output_type": "stream",
     "text": [
      "page  1\n",
      "https://www.rumah.com/berita-properti/category/id-pm?page=1\n",
      "page  1\n",
      "https://www.rumah.com/berita-properti/category/id-mort?page=1\n"
     ]
    }
   ],
   "source": [
    "init_page = 1\n",
    "for c in cat:\n",
    "    obj.getAllBerita([], c, init_page)\n",
    "    init_page=1"
   ]
  },
  {
   "cell_type": "code",
   "execution_count": null,
   "metadata": {},
   "outputs": [],
   "source": []
  }
 ],
 "metadata": {
  "kernelspec": {
   "display_name": "Python 3",
   "language": "python",
   "name": "python3"
  },
  "language_info": {
   "codemirror_mode": {
    "name": "ipython",
    "version": 3
   },
   "file_extension": ".py",
   "mimetype": "text/x-python",
   "name": "python",
   "nbconvert_exporter": "python",
   "pygments_lexer": "ipython3",
   "version": "3.6.4"
  }
 },
 "nbformat": 4,
 "nbformat_minor": 2
}
