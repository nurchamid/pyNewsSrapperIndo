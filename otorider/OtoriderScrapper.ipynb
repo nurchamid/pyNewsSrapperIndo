{
 "cells": [
  {
   "cell_type": "code",
   "execution_count": 1,
   "metadata": {},
   "outputs": [],
   "source": [
    "from Otorider import Otorider\n",
    "import mysql.connector\n",
    "#kelarr\n",
    "obj = Otorider()"
   ]
  },
  {
   "cell_type": "code",
   "execution_count": 2,
   "metadata": {},
   "outputs": [],
   "source": [
    "cat = [1, 14, 12]"
   ]
  },
  {
   "cell_type": "code",
   "execution_count": 3,
   "metadata": {},
   "outputs": [
    {
     "name": "stdout",
     "output_type": "stream",
     "text": [
      "page  1\n",
      "http://otorider.com/post/jscategoryfeed?page=1&c=1&per-page=10\n",
      "memasukkan berita id  1534656729\n",
      "Insert berita  Modifikasi Motor Honda Dari Masa ke Masa, Keren Habis!\n",
      "masuk\n",
      "memasukkan berita id  1534591053\n",
      "Insert berita  Inilah Kumpulan Modifikasi Skutik 150cc Paling Keren Di Indonesia, Inspiratif!\n",
      "masuk\n",
      "memasukkan berita id  1534549935\n",
      "Insert berita  LED Headlight CR8 Diklaim Laris Manis, Inilah Keunggulannya\n",
      "masuk\n",
      "memasukkan berita id  1534479142\n",
      "Insert berita  Pilihan Helm Menarik Bergaya Anak Zaman Now, Adakah Yang Anda Suka?\n",
      "masuk\n",
      "memasukkan berita id  1534399056\n",
      "Insert berita  Dealer Honda Astra Motor Jual Helm Keren Berkelir Hitam, Harga Sangat Bersahabat\n",
      "masuk\n",
      "memasukkan berita id  1534328252\n",
      "Insert berita  Honda Indonesia Pamerkan Helm Modern Berkelir Putih, Harga Sangat Terjangkau\n",
      "masuk\n",
      "page  1\n",
      "http://otorider.com/post/jscategoryfeed?page=1&c=14&per-page=10\n",
      "page  1\n",
      "http://otorider.com/post/jscategoryfeed?page=1&c=12&per-page=10\n",
      "memasukkan berita id  1534672015\n",
      "Insert berita  Helm Nolan Jokowi Harganya Rp 5 Jutaan\n",
      "masuk\n",
      "memasukkan berita id  1534670251\n",
      "Insert berita  Ini Detail Motor Yamaha FZ1 yang Dipakai Jokowi Saat Pembukaan Asian Games\n",
      "masuk\n"
     ]
    }
   ],
   "source": [
    "init_page = 1\n",
    "for c in cat:\n",
    "    obj.getAllBerita([], init_page, c)\n",
    "    init_page = 1"
   ]
  },
  {
   "cell_type": "code",
   "execution_count": null,
   "metadata": {},
   "outputs": [],
   "source": []
  }
 ],
 "metadata": {
  "kernelspec": {
   "display_name": "Python 3",
   "language": "python",
   "name": "python3"
  },
  "language_info": {
   "codemirror_mode": {
    "name": "ipython",
    "version": 3
   },
   "file_extension": ".py",
   "mimetype": "text/x-python",
   "name": "python",
   "nbconvert_exporter": "python",
   "pygments_lexer": "ipython3",
   "version": "3.6.6"
  }
 },
 "nbformat": 4,
 "nbformat_minor": 2
}
