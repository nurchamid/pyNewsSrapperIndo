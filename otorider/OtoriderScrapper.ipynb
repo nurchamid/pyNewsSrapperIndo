{
 "cells": [
  {
   "cell_type": "code",
   "execution_count": 1,
   "metadata": {},
   "outputs": [],
   "source": [
    "from Otorider import Otorider\n",
    "import mysql.connector\n",
    "obj = Otorider()"
   ]
  },
  {
   "cell_type": "code",
   "execution_count": 2,
   "metadata": {},
   "outputs": [
    {
     "name": "stdout",
     "output_type": "stream",
     "text": [
      "page  1\n",
      "http://otorider.com/post/jscategoryfeed?page=1&c=12&per-page=10\n",
      "page  2\n",
      "http://otorider.com/post/jscategoryfeed?page=2&c=12&per-page=10\n",
      "page  3\n",
      "http://otorider.com/post/jscategoryfeed?page=3&c=12&per-page=10\n"
     ]
    }
   ],
   "source": [
    "links = obj.getIndeksLink([], 1, '12')"
   ]
  },
  {
   "cell_type": "code",
   "execution_count": null,
   "metadata": {},
   "outputs": [],
   "source": [
    "links = obj.getIndeksLink([], 1, '02-08-2018')\n",
    "details = obj.getDetailBerita(links)\n",
    "con = mysql.connector.connect(user='root', password='', host='127.0.0.1', database='news_db')\n",
    "cursor = con.cursor()\n",
    "for det in details:\n",
    "    add_article = (\"INSERT INTO article\"\n",
    "              \"(post_id, author, pubdate, category, subcategory, content, comments, images, title, tags, url, source) \"\n",
    "              \"VALUES (%(id)s, %(author)s, %(pubdate)s, %(category)s, %(subcategory)s, %(content)s, %(comments)s, %(images)s, %(title)s, %(tags)s, %(url)s, %(source)s)\")\n",
    "    # Insert article\n",
    "    cursor.execute(add_article, det)\n",
    "    con.commit()\n",
    "\n",
    "cursor.close()\n",
    "con.close()"
   ]
  }
 ],
 "metadata": {
  "kernelspec": {
   "display_name": "Python 3",
   "language": "python",
   "name": "python3"
  },
  "language_info": {
   "codemirror_mode": {
    "name": "ipython",
    "version": 3
   },
   "file_extension": ".py",
   "mimetype": "text/x-python",
   "name": "python",
   "nbconvert_exporter": "python",
   "pygments_lexer": "ipython3",
   "version": "3.6.6"
  }
 },
 "nbformat": 4,
 "nbformat_minor": 2
}
