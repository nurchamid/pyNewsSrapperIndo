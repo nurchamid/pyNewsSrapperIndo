{
 "cells": [
  {
   "cell_type": "code",
   "execution_count": 1,
   "metadata": {},
   "outputs": [],
   "source": [
    "from Otorider import Otorider\n",
    "import mysql.connector\n",
    "#kelarr\n",
    "obj = Otorider()"
   ]
  },
  {
   "cell_type": "code",
   "execution_count": 2,
   "metadata": {},
   "outputs": [],
   "source": [
    "cat = [1, 14, 12]"
   ]
  },
  {
   "cell_type": "code",
   "execution_count": null,
   "metadata": {},
   "outputs": [
    {
     "name": "stdout",
     "output_type": "stream",
     "text": [
      "page  1\n",
      "http://otorider.com/post/jscategoryfeed?page=1&c=1&per-page=10\n",
      "page  1\n",
      "http://otorider.com/post/jscategoryfeed?page=1&c=14&per-page=10\n",
      "page  1\n",
      "http://otorider.com/post/jscategoryfeed?page=1&c=12&per-page=10\n",
      "memasukkan berita id  1534850241\n",
      "Insert berita  Yamaha Indonesia Gelar Kredit Yamaha Mio S Tanpa Uang Muka, Ajaib\n",
      "masuk\n",
      "memasukkan berita id  1534845149\n",
      "Insert berita  Honda Indonesia Bikin Program Pembelian Tanpa Uang Muka & Potongan Cicilan\n",
      "masuk\n",
      "memasukkan berita id  1534843672\n",
      "Insert berita  Gaikindo Indonesia International Auto Show 2018 Seri Kedua Resmi Dibuka, Yamaha & Honda Ikutan Loh\n",
      "masuk\n"
     ]
    }
   ],
   "source": [
    "init_page = 1\n",
    "for c in cat:\n",
    "    obj.getAllBerita([], init_page, c)\n",
    "    init_page = 1"
   ]
  },
  {
   "cell_type": "code",
   "execution_count": null,
   "metadata": {},
   "outputs": [],
   "source": []
  }
 ],
 "metadata": {
  "kernelspec": {
   "display_name": "Python 3",
   "language": "python",
   "name": "python3"
  },
  "language_info": {
   "codemirror_mode": {
    "name": "ipython",
    "version": 3
   },
   "file_extension": ".py",
   "mimetype": "text/x-python",
   "name": "python",
   "nbconvert_exporter": "python",
   "pygments_lexer": "ipython3",
   "version": "3.6.6"
  }
 },
 "nbformat": 4,
 "nbformat_minor": 2
}
