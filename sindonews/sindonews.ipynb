{
 "cells": [
  {
   "cell_type": "code",
   "execution_count": 5,
   "metadata": {},
   "outputs": [],
   "source": [
    "from Sindonews import Sindonews\n",
    "import mysql.connector"
   ]
  },
  {
   "cell_type": "code",
   "execution_count": 6,
   "metadata": {},
   "outputs": [],
   "source": [
    "obj = Sindonews()"
   ]
  },
  {
   "cell_type": "code",
   "execution_count": null,
   "metadata": {
    "scrolled": false
   },
   "outputs": [
    {
     "name": "stdout",
     "output_type": "stream",
     "text": [
      "page  1\n",
      "https://index.sindonews.com/index/0/0?t=2018-08-01\n",
      "Insert berita  Batal Arsiteki Aston Villa, Henry Siap Tangani Mohamed Salah dkk\n",
      "masuk\n",
      "Insert berita  Perkuat Kerja Sama, Menteri PPPA Temui Pejabat Tinggi Iran\n",
      "masuk\n",
      "Insert berita  Ratusan Kendaraan Roda Empat di Mimika Terjaring Razia\n",
      "masuk\n",
      "Insert berita  Trump Serukan Jaksa Agung AS Hentikan Penyelidikan Soal Rusia\n",
      "masuk\n",
      "Insert berita  KPK Rekrut Ulang Direktur Penyidikan Baru\n",
      "masuk\n",
      "Insert berita  Toyota Vios SE Resmi Mengaspal di Vietnam\n",
      "masuk\n",
      "Insert berita  Chandra Asri Raih Kredit Modal Kerja USD120 Juta\n",
      "masuk\n",
      "Insert berita  AS: Jasad yang Dikembalikan Korut Kemungkinan Tentara Amerika\n",
      "masuk\n",
      "Insert berita  Kemendagri Pastikan Pelayanan Publik di Bekasi Berjalan Normal\n",
      "masuk\n",
      "Insert berita  Klasemen dan Jadwal Pertandingan Piala AFF U-16, Kamis (2/8/2018)\n",
      "masuk\n",
      "page  2\n",
      "https://index.sindonews.com/index/0/10?t=2018-08-01\n",
      "Insert berita  Sebanyak 139 TKI Bermasalah Dideportasi dari Malaysia\n",
      "masuk\n",
      "Insert berita  Lewat Surat, Arab Saudi Tolak dari Rencana Perdamaian AS\n",
      "masuk\n",
      "Insert berita  Mengukur Posisi Tawar Generasi Milenial di Pilpres 2019\n",
      "masuk\n",
      "Insert berita  Berpenampilan Unik, Nova 3i Ponsel 4 Kamera Rilis di Indonesia\n",
      "masuk\n",
      "Insert berita  Progres OK Otrip Naik Signifikan, Penumpang Tembus 27 Ribu Orang\n",
      "masuk\n",
      "Insert berita  Media Lokal Sebut Timnas Irak Mundur dari Sepak Bola Asian Games 2018\n",
      "masuk\n",
      "Insert berita  Data BPS, Produksi Industri Manufaktur Menanjak di Triwulan II/2018\n",
      "masuk\n",
      "Insert berita  Lama Absen, Kim Tetap Yakin Mendapat Tempat di Hati Bobotoh\n",
      "masuk\n",
      "Insert berita  Tak Dikirim ke Asian Games 2018, Pelatih Sepak Bola India Geram\n",
      "masuk\n",
      "Insert berita  Gelar Pertemuan, Sekjen Parpol Koalisi Prabowo Bahas Hal Teknis\n",
      "masuk\n",
      "page  3\n",
      "https://index.sindonews.com/index/0/20?t=2018-08-01\n",
      "Insert berita  Pj Wali Kota Bekasi Tunjuk Dadang Hidayat Jadi Plh Sekda\n",
      "masuk\n",
      "Insert berita  Anggota Tewas Tertembak Peluru Nyasar, Kapolsek Sampoabalo Diperiksa Propam Polda Sultra\n",
      "masuk\n",
      "Insert berita  Soal Waktu Pengumuman Capres-Cawapres, Sekjen PDIP Bilang Begini\n",
      "masuk\n",
      "Insert berita  Trump Sebut Pembangunan Tembok Perbatasan Meksiko Sudah Dimulai\n",
      "masuk\n",
      "Insert berita  Muktamar IMM XVIII di UMM Dimulai, Sejumlah Tokoh Hadir\n",
      "masuk\n",
      "Insert berita  Hasil Lengkap Wakil Indonesia di Kejuaraan Dunia Bulu Tangkis, Rabu (1/8/2018)\n",
      "masuk\n",
      "Insert berita  Kakorlantas Polri Tegaskan Pemalsu Pelat Nomor Bisa Dipenjara\n",
      "masuk\n",
      "Insert berita  Manajemen Oppo Sibuk Siapkan Kedatangan F9 ke Indonesia\n",
      "masuk\n",
      "Insert berita  Terkait Aset, Pemerintah Diminta Tak Lepas Tangan ke Pertamina\n",
      "masuk\n",
      "Insert berita  Tottenham dan Korea Selatan Sepakat Soal Pilihan Son Heung-min\n",
      "masuk\n",
      "page  4\n",
      "https://index.sindonews.com/index/0/30?t=2018-08-01\n",
      "Insert berita  Tak Bisa Internet, Ini Lima Smartphone Populer di Korea Utara\n",
      "masuk\n",
      "Insert berita  Diduga Keracunan Gas Mesin Genset, Tiga Pekerja Tower Tewas\n",
      "masuk\n"
     ]
    }
   ],
   "source": [
    "links = obj.getAllBerita([], 1, 0, 0, '2018-08-01')"
   ]
  },
  {
   "cell_type": "code",
   "execution_count": null,
   "metadata": {},
   "outputs": [],
   "source": [
    "import requests\n",
    "from bs4 import BeautifulSoup\n",
    "from datetime import datetime, timedelta\n",
    "import locale\n",
    "locale.setlocale(locale.LC_ALL, 'ID')\n",
    "import re\n",
    "import pandas as pd\n",
    "from selenium import webdriver\n",
    "from selenium.webdriver.chrome.options import Options\n",
    "import time\n",
    "from requests.exceptions import ConnectionError\n",
    "import unicodedata\n",
    "import mysql.connector"
   ]
  },
  {
   "cell_type": "code",
   "execution_count": null,
   "metadata": {},
   "outputs": [],
   "source": [
    "articles = {}"
   ]
  },
  {
   "cell_type": "code",
   "execution_count": null,
   "metadata": {},
   "outputs": [],
   "source": [
    "url = \"https://index.sindonews.com/index/0/20?t=2018-08-04\""
   ]
  },
  {
   "cell_type": "code",
   "execution_count": null,
   "metadata": {},
   "outputs": [],
   "source": [
    "response = requests.get(url)\n",
    "# Extract HTML texts contained in Response object: html\n",
    "html = response.text\n",
    "# Create a BeautifulSoup object from the HTML: soup\n",
    "soup = BeautifulSoup(html, \"html5lib\")"
   ]
  },
  {
   "cell_type": "code",
   "execution_count": null,
   "metadata": {},
   "outputs": [],
   "source": [
    "el_page = soup.find('div', class_=\"pagination\")\n",
    "el_page\n",
    "# if el_page:\n",
    "max_page = el_page.findAll('a')[-1]['data-ci-pagination-page']\n",
    "# max_page\n",
    "active_page = el_page.find('li', class_=\"active\").get_text(strip=True)\n",
    "active_page\n"
   ]
  },
  {
   "cell_type": "code",
   "execution_count": null,
   "metadata": {},
   "outputs": [],
   "source": []
  }
 ],
 "metadata": {
  "kernelspec": {
   "display_name": "Python 3",
   "language": "python",
   "name": "python3"
  },
  "language_info": {
   "codemirror_mode": {
    "name": "ipython",
    "version": 3
   },
   "file_extension": ".py",
   "mimetype": "text/x-python",
   "name": "python",
   "nbconvert_exporter": "python",
   "pygments_lexer": "ipython3",
   "version": "3.6.4"
  }
 },
 "nbformat": 4,
 "nbformat_minor": 2
}
