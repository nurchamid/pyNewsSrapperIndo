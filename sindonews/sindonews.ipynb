{
 "cells": [
  {
   "cell_type": "code",
   "execution_count": 1,
   "metadata": {},
   "outputs": [],
   "source": [
    "import requests\n",
    "from bs4 import BeautifulSoup\n",
    "from datetime import datetime, timedelta\n",
    "import locale\n",
    "locale.setlocale(locale.LC_ALL, 'ID')\n",
    "import re\n",
    "import pandas as pd\n",
    "from selenium import webdriver\n",
    "from selenium.webdriver.chrome.options import Options"
   ]
  },
  {
   "cell_type": "markdown",
   "metadata": {},
   "source": [
    "## GET INDEKS LINK"
   ]
  },
  {
   "cell_type": "code",
   "execution_count": 8,
   "metadata": {},
   "outputs": [],
   "source": [
    "response = requests.get(\"https://index.sindonews.com/index/0?t=2018-07-30\")\n",
    "    # Extract HTML texts contained in Response object: html\n",
    "html = response.text\n",
    "    # Create a BeautifulSoup object from the HTML: soup\n",
    "soup = BeautifulSoup(html, \"html5lib\")\n",
    "links = []"
   ]
  },
  {
   "cell_type": "code",
   "execution_count": 311,
   "metadata": {},
   "outputs": [],
   "source": [
    "def getIndeksLink(links, page, cat_link, offset=0, date=datetime.strftime(datetime.today(), '%Y-%m-%d')):\n",
    "    \"\"\"\n",
    "    Untuk mengambil seluruh url \n",
    "    link pada indeks category tertentu\n",
    "    date format : YYYY/mm/dd\n",
    "    \"\"\"\n",
    "    print(\"page \", page)\n",
    "    url = \"https://index.sindonews.com/index/\"+ str(cat_link)+ \"/\" + str(offset)+ \"?t=\"+ date\n",
    "    print(url)\n",
    "    \n",
    "    # Make the request and create the response object: response\n",
    "    response = requests.get(url)\n",
    "    # Extract HTML texts contained in Response object: html\n",
    "    html = response.text\n",
    "    # Create a BeautifulSoup object from the HTML: soup\n",
    "    soup = BeautifulSoup(html, \"html5lib\")\n",
    "    \n",
    "    contentDiv = soup.find('div', class_=\"indeks-news\")\n",
    "    if contentDiv:\n",
    "        for post in contentDiv.findAll('div', class_=\"indeks-title\"):\n",
    "            link = [post.find('a', href=True)['href'], \"\"]\n",
    "            links.append(link)\n",
    "        \n",
    "    el_page = soup.find('div', class_=\"pagination\")\n",
    "    if el_page:\n",
    "        max_page = int(soup.find('div', class_=\"pagination\").findAll('a')[-2]['data-ci-pagination-page'])\n",
    "            \n",
    "        if page < max_page:\n",
    "            links = getIndeksLink(links, page+1, cat_link, offset+10, date)\n",
    "        \n",
    "    return links"
   ]
  },
  {
   "cell_type": "code",
   "execution_count": 313,
   "metadata": {},
   "outputs": [],
   "source": [
    "link = \"https://index.sindonews.com/index/0/0?t=2018-07-30\"\n",
    "links = []"
   ]
  },
  {
   "cell_type": "code",
   "execution_count": 314,
   "metadata": {},
   "outputs": [
    {
     "name": "stdout",
     "output_type": "stream",
     "text": [
      "page  1\n",
      "https://index.sindonews.com/index/0/0?t=2018-07-30\n",
      "page  2\n",
      "https://index.sindonews.com/index/0/10?t=2018-07-30\n",
      "page  3\n",
      "https://index.sindonews.com/index/0/20?t=2018-07-30\n",
      "page  4\n",
      "https://index.sindonews.com/index/0/30?t=2018-07-30\n",
      "page  5\n",
      "https://index.sindonews.com/index/0/40?t=2018-07-30\n",
      "page  6\n",
      "https://index.sindonews.com/index/0/50?t=2018-07-30\n",
      "page  7\n",
      "https://index.sindonews.com/index/0/60?t=2018-07-30\n",
      "page  8\n",
      "https://index.sindonews.com/index/0/70?t=2018-07-30\n",
      "page  9\n",
      "https://index.sindonews.com/index/0/80?t=2018-07-30\n",
      "page  10\n",
      "https://index.sindonews.com/index/0/90?t=2018-07-30\n",
      "page  11\n",
      "https://index.sindonews.com/index/0/100?t=2018-07-30\n",
      "page  12\n",
      "https://index.sindonews.com/index/0/110?t=2018-07-30\n",
      "page  13\n",
      "https://index.sindonews.com/index/0/120?t=2018-07-30\n",
      "page  14\n",
      "https://index.sindonews.com/index/0/130?t=2018-07-30\n",
      "page  15\n",
      "https://index.sindonews.com/index/0/140?t=2018-07-30\n",
      "page  16\n",
      "https://index.sindonews.com/index/0/150?t=2018-07-30\n",
      "page  17\n",
      "https://index.sindonews.com/index/0/160?t=2018-07-30\n",
      "page  18\n",
      "https://index.sindonews.com/index/0/170?t=2018-07-30\n",
      "page  19\n",
      "https://index.sindonews.com/index/0/180?t=2018-07-30\n",
      "page  20\n",
      "https://index.sindonews.com/index/0/190?t=2018-07-30\n",
      "page  21\n",
      "https://index.sindonews.com/index/0/200?t=2018-07-30\n",
      "page  22\n",
      "https://index.sindonews.com/index/0/210?t=2018-07-30\n",
      "page  23\n",
      "https://index.sindonews.com/index/0/220?t=2018-07-30\n",
      "page  24\n",
      "https://index.sindonews.com/index/0/230?t=2018-07-30\n",
      "page  25\n",
      "https://index.sindonews.com/index/0/240?t=2018-07-30\n",
      "page  26\n",
      "https://index.sindonews.com/index/0/250?t=2018-07-30\n",
      "page  27\n",
      "https://index.sindonews.com/index/0/260?t=2018-07-30\n",
      "page  28\n",
      "https://index.sindonews.com/index/0/270?t=2018-07-30\n"
     ]
    }
   ],
   "source": [
    "links = getIndeksLink([], 1, 0, 0, '2018-07-30')"
   ]
  },
  {
   "cell_type": "code",
   "execution_count": 299,
   "metadata": {},
   "outputs": [],
   "source": [
    "# links"
   ]
  },
  {
   "cell_type": "markdown",
   "metadata": {},
   "source": [
    "## GET DETAIL BERITA"
   ]
  },
  {
   "cell_type": "code",
   "execution_count": 217,
   "metadata": {},
   "outputs": [],
   "source": [
    "response = requests.get(\"https://www.liputan6.com/news/read/3605072/pkb-mayoritas-ulama-ingin-jokowi-dua-periode\")\n",
    "    # Extract HTML texts contained in Response object: html\n",
    "html = response.text\n",
    "    # Create a BeautifulSoup object from the HTML: soup\n",
    "soup = BeautifulSoup(html, \"html5lib\")"
   ]
  },
  {
   "cell_type": "code",
   "execution_count": 314,
   "metadata": {},
   "outputs": [],
   "source": [
    "def getDetailBerita(links):\n",
    "    all_articles = []\n",
    "    for link in links:\n",
    "        articles = {}\n",
    "        #link\n",
    "        url = link[0]\n",
    "        response = requests.get(url)\n",
    "        html = response.text\n",
    "        # Create a BeautifulSoup object from the HTML: soup\n",
    "        soup = BeautifulSoup(html, \"html5lib\")\n",
    "\n",
    "        #extract subcategory from breadcrumb\n",
    "        bc = soup.find('ul', class_=\"read-page--breadcrumb\")\n",
    "        if not bc:\n",
    "            continue\n",
    "        cat = bc.findAll('a')[-2].text\n",
    "        sub = bc.findAll('a')[-1].text\n",
    "            \n",
    "        #articleid\n",
    "        articleid = int(soup.find('article', class_=\"hentry main read-page--core-article\")[\"data-article-id\"])\n",
    "        articles['id'] = articleid\n",
    "        \n",
    "        #category\n",
    "        articles['category'] = cat\n",
    "        articles['subcategory'] = sub\n",
    "        \n",
    "        #article_url\n",
    "        articles['url'] = url        \n",
    "\n",
    "        #article\n",
    "        article = soup.findAll(\"div\", class_=\"article-content-body__item-content\")\n",
    "\n",
    "        #extract date\n",
    "        pubdate = soup.find('p', class_=\"read-page--header--author__datetime-wrapper\").find('time').text\n",
    "        pubdate = pubdate.strip(' \\t\\n\\r')\n",
    "        pubdate = pubdate.replace(' WIB','')\n",
    "        articles['pubdate']=datetime.strftime(datetime.strptime(pubdate, \"%d %b %Y, %H:%M\"), \"%Y-%m-%d %H:%M:%S\")\n",
    "        articles['pubdate']\n",
    "\n",
    "        #extract author\n",
    "        author = soup.find('a', class_=\"read-page--header--author__link url fn\").find('span', class_=\"read-page--header--author__name fn\").text\n",
    "        articles['author'] = author\n",
    "\n",
    "        #extract title\n",
    "        title = soup.find('header', class_=\"read-page--header\").find('h1').text\n",
    "        if (\"foto\" in title.lower()) or  \"video\" in title.lower(): \n",
    "            continue\n",
    "        articles['title'] = title   \n",
    "\n",
    "        #source\n",
    "        articles['source'] = 'Liputan6'\n",
    "\n",
    "        #extract comments count\n",
    "        comments = soup.find('li', class_=\"read-page--social-share__list-item js-social-share-comment\").find('a')\n",
    "        comments = int(comments.find('span', class_=\"read-page--social-share__comment-total\").text)\n",
    "        articles['comments'] = comments\n",
    "\n",
    "        #extract tags\n",
    "        tags = soup.findAll('span', class_=\"tags--snippet__name\")\n",
    "        tags = ','.join([x.text for x in tags])\n",
    "        articles['tags'] = tags\n",
    "\n",
    "        #extract images\n",
    "        image = soup.find('picture', class_=\"read-page--photo-gallery--item__picture\").find('img')['src']\n",
    "        articles['image'] = image\n",
    "        content = ''\n",
    "        for art in article:\n",
    "            #hapus link sisip\n",
    "            for link in art.findAll('div'):\n",
    "                link.decompose()\n",
    "\n",
    "            #hapus figcaption\n",
    "            for capt in art.findAll('figcaption'):\n",
    "                capt.decompose()\n",
    "            \n",
    "            #extract content\n",
    "            detail = BeautifulSoup(art.decode_contents().replace('<br/>', ' '), \"html5lib\")\n",
    "            content += re.sub(r'\\n|\\t|\\b|\\r','',detail.text)\n",
    "            \n",
    "        #articles['content'] = re.sub('google*','', content).strip(' ')\n",
    "        articles['content'] = content\n",
    "        #print('memasukkan berita id ', articles['id'])\n",
    "        all_articles.append(articles)\n",
    "    return all_articles"
   ]
  },
  {
   "cell_type": "code",
   "execution_count": 76,
   "metadata": {},
   "outputs": [
    {
     "ename": "TypeError",
     "evalue": "getIndeksLink() takes from 2 to 3 positional arguments but 5 were given",
     "output_type": "error",
     "traceback": [
      "\u001b[1;31m---------------------------------------------------------------------------\u001b[0m",
      "\u001b[1;31mTypeError\u001b[0m                                 Traceback (most recent call last)",
      "\u001b[1;32m<ipython-input-76-261379541e04>\u001b[0m in \u001b[0;36m<module>\u001b[1;34m()\u001b[0m\n\u001b[1;32m----> 1\u001b[1;33m \u001b[0mlinks\u001b[0m \u001b[1;33m=\u001b[0m \u001b[0mgetIndeksLink\u001b[0m\u001b[1;33m(\u001b[0m\u001b[1;33m[\u001b[0m\u001b[1;33m]\u001b[0m\u001b[1;33m,\u001b[0m \u001b[1;36m1\u001b[0m\u001b[1;33m,\u001b[0m \u001b[1;34m'news'\u001b[0m\u001b[1;33m,\u001b[0m \u001b[1;34m'news'\u001b[0m\u001b[1;33m,\u001b[0m \u001b[1;34m'2018/07/30'\u001b[0m\u001b[1;33m)\u001b[0m\u001b[1;33m\u001b[0m\u001b[0m\n\u001b[0m",
      "\u001b[1;31mTypeError\u001b[0m: getIndeksLink() takes from 2 to 3 positional arguments but 5 were given"
     ]
    }
   ],
   "source": [
    "links = getIndeksLink([], 1, 'news', 'news', '2018/07/30')"
   ]
  },
  {
   "cell_type": "code",
   "execution_count": 75,
   "metadata": {},
   "outputs": [],
   "source": [
    "# links"
   ]
  },
  {
   "cell_type": "code",
   "execution_count": 315,
   "metadata": {},
   "outputs": [
    {
     "data": {
      "text/plain": [
       "[{'author': 'Luqman Rimadi',\n",
       "  'category': 'News',\n",
       "  'comments': 6,\n",
       "  'content': 'Liputan6.com, Jakarta - Ijtimak Ulama yang tergabung dalam Gerakan Nasional Pembela Fatwa (GNPF) Ulama menyatakan dukungan kepada Prabowo Subianto di Pilpres 2019. Wakil Sekjen DPP Partai Kebangkitan Bangsa (PKB) Faisol reza menilai dukungan itu hanya klaim semata.Menurut dia, kebanyakan ulama yang ada di Indonesia masih menginginkan Presiden Jokowi untuk kembali memimpin Indonesia.\"Ijtimak ulama itu kan hanya mengikat satu kelompok saja, mayoritas ulama masih menginginkan Jokowi memimpin Indonesia untuk periode kedua,\" ujar Faiso Reza kepada wartawan di Jakarta, Senin (30/7/18).Menurut Faisol, seharusnya nama ulama tidak dibawa ke dalam pertarungan Pilpres 2019. Namun, Ijtimak GNPF yang memulai membawa nama ulama dalam gelanggang politik.\"Sedih karena 2019 akan ada pertempuran antar ulama. Tapi, tidak ada jalan mundur. Harus dihadapi,\" ujar dia.\\xa0Faisol menambahkan, kedekatan Jokowi dengan para ulama sudah tidak perlu dipertanyakan lagi. Bagaimana kepedulian Jokowi terhadap dunia pesantren dan ulama sudah terliht dari beberapa program yang sudah dijalankan.\"Kunjungannya ke pesantren, acara-acara keagamaan yang sudah dihadiri dan dikung jokowi hingga penganugerahan gelar pahlawan nasional kepada KH Wahab Hasbullah dan peringatan Hari Santri Nasional membuktikan betapa dekatnya Jokowi kepada para alim ulama,\" tutup dia.Sebelumnya diberitakan Ijtimak Gerakan Nasional Pengawal Fatwa (GNPF) Ulama merekomendasikan untuk mengusung pasangan Prabowo sebagai calon presiden.Sementara itu untuk posisi cawapres, GNPF-U merekomendasikan nama mantan Menteri Sosial Salim Assegaf Al jufri dan Dai kondang Ustaz Abdul Somad.Saksikan Video Pilihan Berikut Ini:\\xa0\\xa0',\n",
       "  'id': 3605072,\n",
       "  'image': 'https://cdn-production-assets-kly.akamaized.net/assets/images/blank.png',\n",
       "  'pubdate': '2018-07-30 23:15:00',\n",
       "  'source': 'Liputan6',\n",
       "  'subcategory': 'Politik',\n",
       "  'tags': 'Jokowi,Ijtimak Ulama',\n",
       "  'title': 'PKB: Mayoritas Ulama Ingin Jokowi Dua Periode',\n",
       "  'url': 'https://www.liputan6.com/news/read/3605072/pkb-mayoritas-ulama-ingin-jokowi-dua-periode'},\n",
       " {'author': 'Fachrur Rozie',\n",
       "  'category': 'News',\n",
       "  'comments': 0,\n",
       "  'content': 'Liputan6.com, Jakarta - Penyidik Komisi Pemberantasan Korupsi (KPK) merampungkan berkas penyidikan empat tersangka kasus dugaan suap proyek pembangunan Purbalingga Islamic Center.Mereka adalah Kabag ULP Pemkab Purbalingga Hadi Iswanto (HIS) serta tiga orang lain dari pihak swasta yaitu Hamdani Kosen (HK), Librata Nababan (LN), dan Ardirawinata Nababan (AN).\"Hari ini dilakukan pelimpahan barang bukti, perkara dan 4 tersangka ke penuntutan tahap 2,\" ujar Pelaksana Harian Kabiro Humas KPK Yuyuk Andriati saat dikonfirmasi, Senin (30/7/2018).Jaksa penuntut umum pada KPK kini memiliki waktu sekitar 14 hari untuk menyusun surat dakwaan. \"Sidang rencananya akan dilaksanakan di Pengadilan Tipikor Jakarta,\" kata Yuyuk.Dalam kasus ini, KPK menetapkan Bupati nonaktif Purbalingga Tasdi sebagai tersangka. Tasdi diduga menerima suap senilai Rp 100 juta dari proyek pembangunan Purbalingga Islamic Center tahap dua dengan nilai proyek Rp 22 miliar.Selain Tasdi, KPK menetapkan Kabag ULP Pemkab Purbalingga Hadi Iswanto (HIS) serta tiga orang lain dari pihak swasta yaitu Hamdani Kosen (HK), Librata Nababan (LN), dan Ardirawinata Nababan (AN).Atas perbuatannya, Tasdi dan Hadi selaku penerima suap dijerat dengan Pasal 12 huruf a atau huruf b atau Pasal 11 dan Pasal 12 B Undang-Undang nomor 31 Tahun 1999 sebagaimana diubah dengan Undang-Undang nomor 20 Tahun 2001 juncto Pasal 55 ayat 1 ke-1 KUHP.Sementara, Hamdani, Librata, dan Ardirawinata sebagai pemberi suap dijerat dengan Pasal 5 ayat 1 huruf atau huruf b atau Pasal 13 Undang-Undang nomor 31 Tahun 1999 sebagaimana diubah dengan Undang-Undang nomor 20 Tahun 2001 juncto Pasal 55 ayat 1 ke-1 KUHP.\\xa0Saksikan Video Pilihan Berikut Ini:\\xa0',\n",
       "  'id': 3605065,\n",
       "  'image': 'https://cdn-production-assets-kly.akamaized.net/assets/images/blank.png',\n",
       "  'pubdate': '2018-07-30 22:34:00',\n",
       "  'source': 'Liputan6',\n",
       "  'subcategory': 'Peristiwa',\n",
       "  'tags': 'Korupsi Purbalingga,Bupati Purbalingga,Tasdi',\n",
       "  'title': '4 Tersangka Suap Pembangunan Purbalingga Islamic Center Segera Diadili',\n",
       "  'url': 'https://www.liputan6.com/news/read/3605065/4-tersangka-suap-pembangunan-purbalingga-islamic-center-segera-diadili'}]"
      ]
     },
     "execution_count": 315,
     "metadata": {},
     "output_type": "execute_result"
    }
   ],
   "source": [
    "details = getDetailBerita(links[0:3])\n",
    "details"
   ]
  },
  {
   "cell_type": "code",
   "execution_count": 316,
   "metadata": {},
   "outputs": [],
   "source": [
    "df = pd.DataFrame(details)"
   ]
  },
  {
   "cell_type": "code",
   "execution_count": 317,
   "metadata": {},
   "outputs": [
    {
     "data": {
      "text/html": [
       "<div>\n",
       "<style scoped>\n",
       "    .dataframe tbody tr th:only-of-type {\n",
       "        vertical-align: middle;\n",
       "    }\n",
       "\n",
       "    .dataframe tbody tr th {\n",
       "        vertical-align: top;\n",
       "    }\n",
       "\n",
       "    .dataframe thead th {\n",
       "        text-align: right;\n",
       "    }\n",
       "</style>\n",
       "<table border=\"1\" class=\"dataframe\">\n",
       "  <thead>\n",
       "    <tr style=\"text-align: right;\">\n",
       "      <th></th>\n",
       "      <th>author</th>\n",
       "      <th>category</th>\n",
       "      <th>comments</th>\n",
       "      <th>content</th>\n",
       "      <th>id</th>\n",
       "      <th>image</th>\n",
       "      <th>pubdate</th>\n",
       "      <th>source</th>\n",
       "      <th>subcategory</th>\n",
       "      <th>tags</th>\n",
       "      <th>title</th>\n",
       "      <th>url</th>\n",
       "    </tr>\n",
       "  </thead>\n",
       "  <tbody>\n",
       "    <tr>\n",
       "      <th>0</th>\n",
       "      <td>Luqman Rimadi</td>\n",
       "      <td>News</td>\n",
       "      <td>6</td>\n",
       "      <td>Liputan6.com, Jakarta - Ijtimak Ulama yang ter...</td>\n",
       "      <td>3605072</td>\n",
       "      <td>https://cdn-production-assets-kly.akamaized.ne...</td>\n",
       "      <td>2018-07-30 23:15:00</td>\n",
       "      <td>Liputan6</td>\n",
       "      <td>Politik</td>\n",
       "      <td>Jokowi,Ijtimak Ulama</td>\n",
       "      <td>PKB: Mayoritas Ulama Ingin Jokowi Dua Periode</td>\n",
       "      <td>https://www.liputan6.com/news/read/3605072/pkb...</td>\n",
       "    </tr>\n",
       "    <tr>\n",
       "      <th>1</th>\n",
       "      <td>Fachrur Rozie</td>\n",
       "      <td>News</td>\n",
       "      <td>0</td>\n",
       "      <td>Liputan6.com, Jakarta - Penyidik Komisi Pember...</td>\n",
       "      <td>3605065</td>\n",
       "      <td>https://cdn-production-assets-kly.akamaized.ne...</td>\n",
       "      <td>2018-07-30 22:34:00</td>\n",
       "      <td>Liputan6</td>\n",
       "      <td>Peristiwa</td>\n",
       "      <td>Korupsi Purbalingga,Bupati Purbalingga,Tasdi</td>\n",
       "      <td>4 Tersangka Suap Pembangunan Purbalingga Islam...</td>\n",
       "      <td>https://www.liputan6.com/news/read/3605065/4-t...</td>\n",
       "    </tr>\n",
       "  </tbody>\n",
       "</table>\n",
       "</div>"
      ],
      "text/plain": [
       "          author category  comments  \\\n",
       "0  Luqman Rimadi     News         6   \n",
       "1  Fachrur Rozie     News         0   \n",
       "\n",
       "                                             content       id  \\\n",
       "0  Liputan6.com, Jakarta - Ijtimak Ulama yang ter...  3605072   \n",
       "1  Liputan6.com, Jakarta - Penyidik Komisi Pember...  3605065   \n",
       "\n",
       "                                               image              pubdate  \\\n",
       "0  https://cdn-production-assets-kly.akamaized.ne...  2018-07-30 23:15:00   \n",
       "1  https://cdn-production-assets-kly.akamaized.ne...  2018-07-30 22:34:00   \n",
       "\n",
       "     source subcategory                                          tags  \\\n",
       "0  Liputan6     Politik                          Jokowi,Ijtimak Ulama   \n",
       "1  Liputan6   Peristiwa  Korupsi Purbalingga,Bupati Purbalingga,Tasdi   \n",
       "\n",
       "                                               title  \\\n",
       "0      PKB: Mayoritas Ulama Ingin Jokowi Dua Periode   \n",
       "1  4 Tersangka Suap Pembangunan Purbalingga Islam...   \n",
       "\n",
       "                                                 url  \n",
       "0  https://www.liputan6.com/news/read/3605072/pkb...  \n",
       "1  https://www.liputan6.com/news/read/3605065/4-t...  "
      ]
     },
     "execution_count": 317,
     "metadata": {},
     "output_type": "execute_result"
    }
   ],
   "source": [
    "df"
   ]
  },
  {
   "cell_type": "code",
   "execution_count": null,
   "metadata": {},
   "outputs": [],
   "source": []
  }
 ],
 "metadata": {
  "kernelspec": {
   "display_name": "Python 3",
   "language": "python",
   "name": "python3"
  },
  "language_info": {
   "codemirror_mode": {
    "name": "ipython",
    "version": 3
   },
   "file_extension": ".py",
   "mimetype": "text/x-python",
   "name": "python",
   "nbconvert_exporter": "python",
   "pygments_lexer": "ipython3",
   "version": "3.6.4"
  }
 },
 "nbformat": 4,
 "nbformat_minor": 2
}
