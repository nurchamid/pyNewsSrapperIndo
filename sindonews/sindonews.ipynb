{
 "cells": [
  {
   "cell_type": "code",
   "execution_count": 1,
   "metadata": {},
   "outputs": [],
   "source": [
    "from Sindonews import Sindonews #class news Scrapper\n",
    "from datetime import timedelta, date, datetime\n",
    "from IPython.display import clear_output"
   ]
  },
  {
   "cell_type": "code",
   "execution_count": 2,
   "metadata": {},
   "outputs": [],
   "source": [
    "def daterange(start_date, end_date):\n",
    "    for n in range(int ((end_date - start_date).days)):\n",
    "        yield start_date + timedelta(n)"
   ]
  },
  {
   "cell_type": "code",
   "execution_count": 5,
   "metadata": {},
   "outputs": [],
   "source": [
    "obj = Sindonews()\n",
    "end_date = date(2018, 7, 24)\n",
    "start_date = date(2018, 5, 7)\n",
    "init_page = 14\n",
    "init_offset = 130"
   ]
  },
  {
   "cell_type": "code",
   "execution_count": null,
   "metadata": {
    "scrolled": false
   },
   "outputs": [
    {
     "name": "stdout",
     "output_type": "stream",
     "text": [
      "2018-05-09\n",
      "page  1\n",
      "https://international.sindonews.com/read/1304449/40/serangan-terkoordinasi-hantam-ibu-kota-afghanistan-1525884947\n",
      "Insert berita  Serangan Terkoordinasi Hantam Ibu Kota Afghanistan\n",
      "masuk\n",
      "https://daerah.sindonews.com/read/1304448/21/pasangan-rindu-dukung-pemekaran-subang-utara-1525883922\n",
      "Insert berita  Pasangan Rindu Dukung Pemekaran Subang Utara\n",
      "masuk\n",
      "https://ekbis.sindonews.com/read/1304445/178/ciputra-life-luncurkan-jalur-distribusi-digital-1525882750\n",
      "Insert berita  Ciputra Life Luncurkan Jalur Distribusi Digital\n",
      "masuk\n",
      "https://autotekno.sindonews.com/read/1304447/123/hello-yo-ajak-fans-mobile-legends-main-game-sambil-beramal-1525883411\n",
      "Insert berita  Hello Yo Ajak Fans Mobile Legends Main Game Sambil Beramal\n",
      "masuk\n",
      "https://lifestyle.sindonews.com/read/1304398/155/haid-tak-teratur-bisa-menjadi-risiko-terkena-diabetes-tipe-2-1525871974\n",
      "Insert berita  Haid Tak Teratur Bisa Menjadi Risiko Terkena Diabetes Tipe 2\n",
      "masuk\n",
      "https://international.sindonews.com/read/1304446/40/mahathir-mohamad-klaim-menangi-pemilu-malaysia-1525883057\n",
      "Insert berita  Mahathir Mohamad Klaim Menangi Pemilu Malaysia\n",
      "masuk\n",
      "https://daerah.sindonews.com/read/1304444/21/aher-sukses-raih-gelar-doktor-dengan-predikat-cumlaude-1525882667\n",
      "Insert berita  Aher Sukses Raih Gelar Doktor dengan Predikat Cumlaude\n",
      "masuk\n",
      "https://ekbis.sindonews.com/read/1304443/34/pemerintah-catat-serapan-beras-di-petani-capai-678-238-ton-1525882211\n",
      "Insert berita  Pemerintah Catat Serapan Beras di Petani Capai 678.238 ton\n",
      "masuk\n",
      "https://sports.sindonews.com/read/1304442/47/pliskova-raih-kemenangan-perdana-atas-sloane-stephens-1525881911\n",
      "Insert berita  Pliskova Raih Kemenangan Perdana atas Sloane Stephens\n",
      "masuk\n",
      "https://soccer.sindonews.com/read/1304408/55/luis-suarez-ingin-griezmann-gabung-barcelona-1525873932\n",
      "Insert berita  Luis Suarez Ingin Griezmann Gabung Barcelona\n",
      "masuk\n",
      "page  2\n",
      "https://international.sindonews.com/read/1304441/42/keluar-dari-perjanjian-nuklir-as-akan-tetap-cegah-nuklir-iran-1525881486\n",
      "Insert berita  Keluar dari Perjanjian Nuklir, AS Akan Tetap Cegah Nuklir Iran\n",
      "masuk\n",
      "https://ekbis.sindonews.com/read/1304440/77/sasar-penghuni-ekspatriat-meikarta-tawarkan-fasiltas-terlengkap-1525881294\n",
      "Insert berita  Sasar Penghuni Ekspatriat, Meikarta Tawarkan Fasiltas Terlengkap\n",
      "masuk\n",
      "https://ekbis.sindonews.com/read/1304439/34/kementan-optimalkan-6-4-juta-ha-rawa-jadi-lahan-produktif-1525881286\n",
      "Insert berita  Kementan Optimalkan 6,4 Juta Ha Rawa Jadi Lahan Produktif\n",
      "masuk\n",
      "https://autotekno.sindonews.com/read/1304438/122/kemampuan-ai-cam-lg-g7-thinq-plus-bikin-jatuh-hati-1525881127\n",
      "Insert berita  Kemampuan AI Cam LG G7 ThinQ Plus Bikin Jatuh Hati\n",
      "masuk\n",
      "https://international.sindonews.com/read/1304437/42/korut-serahkan-3-warga-as-yang-dibebaskan-ke-pompeo-1525880817\n",
      "Insert berita  Korut Serahkan 3 Warga AS yang Dibebaskan ke Pompeo\n",
      "masuk\n",
      "https://ekbis.sindonews.com/read/1304436/34/bos-nivea-pendapatan-ekonomi-digital-di-indonesia-bisa-capai-usd130-m-1525880422\n",
      "Insert berita  Bos Nivea: Pendapatan Ekonomi Digital di Indonesia Bisa Capai USD130 M\n",
      "masuk\n",
      "https://nasional.sindonews.com/read/1304388/144/100-guru-bakal-dilatih-teknologi-digital-oleh-ite-singapura-1525870354\n",
      "Insert berita  100 Guru Bakal Dilatih Teknologi Digital oleh ITE Singapura\n",
      "masuk\n",
      "https://daerah.sindonews.com/read/1304435/191/ustaz-maulana-penceramah-ribuan-jamaah-hadiri-israk-mikraj-1525880009\n",
      "Insert berita  Ustaz Maulana Penceramah, Ribuan Jamaah Hadiri Israk Mikraj\n",
      "masuk\n",
      "https://sports.sindonews.com/read/1304428/49/galang-hendra-ingin-kibarkan-merah-putih-di-sirkuit-legendaris-imola-1525877900\n",
      "Insert berita  Galang Hendra Ingin Kibarkan Merah Putih di Sirkuit Legendaris Imola\n",
      "masuk\n",
      "https://daerah.sindonews.com/read/1304431/21/sudrajat-syaikhu-siap-genjot-mobilitas-kampanye-di-bulan-ramadhan-1525879184\n",
      "Insert berita  Sudrajat-Syaikhu Siap Genjot Mobilitas Kampanye di Bulan Ramadhan\n",
      "masuk\n",
      "page  3\n",
      "https://lifestyle.sindonews.com/read/1304391/155/taiwan-dan-indonesia-jajaki-kerja-sama-di-bidang-medis-dan-kesehatan-1525870953\n",
      "Insert berita  Taiwan dan Indonesia Jajaki Kerja Sama di Bidang Medis dan Kesehatan\n",
      "masuk\n",
      "https://autotekno.sindonews.com/read/1304434/120/naksir-all-new-ertiga-suzuki-bisa-atur-dengan-isi-kantong-konsumen-1525879506\n",
      "Insert berita  Naksir All New Ertiga, Suzuki Bisa Atur dengan Isi Kantong Konsumen\n",
      "masuk\n",
      "https://metro.sindonews.com/read/1304432/170/edukasi-kesehatan-ratusan-guru-dan-siswa-ikuti-pengobatan-gratis-1525879236\n",
      "Insert berita  Edukasi Kesehatan, Ratusan Guru dan Siswa Ikuti Pengobatan Gratis\n",
      "masuk\n",
      "https://nasional.sindonews.com/read/1304380/15/tmp-ansor-bertekad-lawan-hoaks-dan-radikalisme-1525869363\n",
      "Insert berita  TMP-Ansor Bertekad Lawan Hoaks dan Radikalisme\n",
      "masuk\n"
     ]
    }
   ],
   "source": [
    "for single_date in daterange(start_date, end_date):\n",
    "    clear_output()\n",
    "    print(single_date.strftime(\"%Y-%m-%d\"))\n",
    "    obj.getAllBerita([], init_page, 0, init_offset, single_date.strftime(\"%Y-%m-%d\"))\n",
    "    init_page = 1\n",
    "    init_offset = 0"
   ]
  },
  {
   "cell_type": "code",
   "execution_count": null,
   "metadata": {},
   "outputs": [],
   "source": []
  }
 ],
 "metadata": {
  "kernelspec": {
   "display_name": "Python 3",
   "language": "python",
   "name": "python3"
  },
  "language_info": {
   "codemirror_mode": {
    "name": "ipython",
    "version": 3
   },
   "file_extension": ".py",
   "mimetype": "text/x-python",
   "name": "python",
   "nbconvert_exporter": "python",
   "pygments_lexer": "ipython3",
   "version": "3.6.4"
  }
 },
 "nbformat": 4,
 "nbformat_minor": 2
}
