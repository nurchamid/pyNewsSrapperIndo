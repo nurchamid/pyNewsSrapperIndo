{
 "cells": [
  {
   "cell_type": "code",
   "execution_count": 1,
   "metadata": {},
   "outputs": [],
   "source": [
    "from Sindonews import Sindonews #class news Scrapper\n",
    "from datetime import timedelta, date, datetime\n",
    "from IPython.display import clear_output"
   ]
  },
  {
   "cell_type": "code",
   "execution_count": 2,
   "metadata": {},
   "outputs": [],
   "source": [
    "def daterange(start_date, end_date):\n",
    "    for n in range(int ((end_date - start_date).days)):\n",
    "        yield start_date + timedelta(n)"
   ]
  },
  {
   "cell_type": "code",
   "execution_count": 3,
   "metadata": {},
   "outputs": [],
   "source": [
    "obj = Sindonews()\n",
    "end_date = date(2018, 7, 24)\n",
    "start_date = date(2018, 5, 5)\n",
    "init_page = 9\n",
    "init_offset = 80"
   ]
  },
  {
   "cell_type": "code",
   "execution_count": null,
   "metadata": {
    "scrolled": false
   },
   "outputs": [
    {
     "name": "stdout",
     "output_type": "stream",
     "text": [
      "2018-05-06\n",
      "page  1\n",
      "https://index.sindonews.com/index/0/0?t=2018-05-06\n",
      "https://daerah.sindonews.com/read/1303534/174/pdip-bersiap-rebut-kemenangan-di-bali-1525625888\n",
      "Insert berita  PDIP Bersiap Rebut Kemenangan di Bali\n",
      "masuk\n",
      "https://sports.sindonews.com/read/1303530/51/persiapan-dan-promosi-asian-games-2018-memprihatinkan-1525621393\n",
      "Insert berita  Persiapan dan Promosi Asian Games 2018 Memprihatinkan\n",
      "masuk\n",
      "https://autotekno.sindonews.com/read/1303489/184/tekiro-tools-dan-polda-metro-gelar-servis-motor-gratis-1525610074\n",
      "Insert berita  Tekiro Tools dan Polda Metro Gelar Servis Motor Gratis\n",
      "masuk\n",
      "https://daerah.sindonews.com/read/1303533/174/gubernur-bali-ingatkan-masyarakat-waspadai-investasi-bodong-1525624073\n",
      "Insert berita  Gubernur Bali Ingatkan Masyarakat Waspadai Investasi Bodong\n",
      "masuk\n",
      "https://soccer.sindonews.com/read/1303532/54/babak-1-lewat-tandukan-giroud-chelsea-koyak-gawang-liverpool-1525623652\n",
      "Insert berita  Babak 1 : Lewat Tandukan Giroud, Chelsea Koyak Gawang Liverpool\n",
      "masuk\n",
      "https://metro.sindonews.com/read/1303473/171/rencana-satu-arah-di-jalan-kalimalang-bekasi-ini-rute-barunya-1525605873\n",
      "Insert berita  Rencana Satu Arah di Jalan Kalimalang Bekasi, Ini Rute Barunya\n",
      "masuk\n",
      "https://sports.sindonews.com/read/1303531/49/marc-marquez-ini-kemenangan-penting-1525622598\n",
      "Insert berita  Marc Marquez : Ini Kemenangan Penting!\n",
      "masuk\n",
      "https://sports.sindonews.com/read/1303526/51/kalsel-juara-umum-kejurnas-perguruan-karate-amura-2018-1525620201\n",
      "Insert berita  Kalsel Juara Umum Kejurnas Perguruan Karate Amura 2018\n",
      "masuk\n",
      "https://international.sindonews.com/read/1303519/43/tentara-israel-tembak-mati-dua-warga-gaza-di-perbatasan-1525617621\n",
      "Insert berita  Tentara Israel Tembak Mati Dua Warga Gaza di Perbatasan\n",
      "masuk\n",
      "https://nasional.sindonews.com/read/1303527/15/gerkindo-sukses-gelar-konferensi-pimpinan-gereja-1525620994\n",
      "Insert berita  Gerkindo Sukses Gelar Konferensi Pimpinan Gereja\n",
      "masuk\n",
      "page  2\n",
      "https://index.sindonews.com/index/0/10?t=2018-05-06\n",
      "https://autotekno.sindonews.com/read/1303482/122/samsung-targetkan-galaxy-x-bisa-diproduksi-massal-november-2018-1525608530\n",
      "Insert berita  Samsung Targetkan Galaxy X Bisa Diproduksi Massal November 2018\n",
      "masuk\n",
      "https://international.sindonews.com/read/1303505/41/macron-trump-akan-picu-perang-jika-mundur-dari-kesepakatan-nuklir-1525613235\n",
      "Insert berita  Macron: Trump Akan Picu Perang Jika Mundur dari Kesepakatan Nuklir\n",
      "masuk\n",
      "https://sports.sindonews.com/read/1303525/51/empat-tim-terbaik-keluar-sebagai-juara-grup-ibbamnas-2018-1525619620\n",
      "Insert berita  Empat Tim Terbaik Keluar Sebagai Juara Grup Ibbamnas 2018\n",
      "masuk\n",
      "https://metro.sindonews.com/read/1303474/170/kasus-prostitusi-online-2-mucikari-ditangkap-di-apartemen-kalibata-1525606507\n",
      "Insert berita  Kasus Prostitusi Online, 2 Mucikari Ditangkap di Apartemen Kalibata\n",
      "masuk\n",
      "https://sports.sindonews.com/read/1303524/49/pedrosa-celaka-marquez-balapan-bukan-hanya-cepat-1525619090\n",
      "Insert berita  Pedrosa Celaka, Marquez : Balapan Bukan Hanya Cepat\n",
      "masuk\n",
      "https://nasional.sindonews.com/read/1303529/12/pilpres-2019-yusril-siap-disandingkan-dengan-gatot-1525621366\n",
      "Insert berita  Pilpres 2019, Yusril Siap Disandingkan dengan Gatot\n",
      "masuk\n",
      "https://soccer.sindonews.com/read/1303523/54/susunan-pemain-chelsea-vs-liverpool-1525619064\n",
      "Insert berita  Susunan Pemain Chelsea vs Liverpool\n",
      "masuk\n",
      "https://soccer.sindonews.com/read/1303521/58/ht-berharap-futsal-bersinar-di-level-internasional-1525618255\n",
      "Insert berita  HT Berharap Futsal Bersinar di Level Internasional\n",
      "masuk\n",
      "https://nasional.sindonews.com/read/1303520/12/politikus-pan-eko-patrio-bertemu-habib-rizieq-1525617693\n",
      "Insert berita  Politikus PAN Eko Patrio Bertemu Habib Rizieq\n",
      "masuk\n",
      "https://international.sindonews.com/read/1303503/43/jet-tempur-irak-bombardir-basis-isis-di-suriah-1525613089\n",
      "Insert berita  Jet Tempur Irak Bombardir Basis ISIS di Suriah\n",
      "masuk\n",
      "page  3\n",
      "https://index.sindonews.com/index/0/20?t=2018-05-06\n"
     ]
    }
   ],
   "source": [
    "for single_date in daterange(start_date, end_date):\n",
    "    clear_output()\n",
    "    print(single_date.strftime(\"%Y-%m-%d\"))\n",
    "    obj.getAllBerita([], init_page, 0, init_offset, single_date.strftime(\"%Y-%m-%d\"))\n",
    "    init_page = 1\n",
    "    init_offset = 0"
   ]
  },
  {
   "cell_type": "code",
   "execution_count": null,
   "metadata": {},
   "outputs": [],
   "source": []
  }
 ],
 "metadata": {
  "kernelspec": {
   "display_name": "Python 3",
   "language": "python",
   "name": "python3"
  },
  "language_info": {
   "codemirror_mode": {
    "name": "ipython",
    "version": 3
   },
   "file_extension": ".py",
   "mimetype": "text/x-python",
   "name": "python",
   "nbconvert_exporter": "python",
   "pygments_lexer": "ipython3",
   "version": "3.6.4"
  }
 },
 "nbformat": 4,
 "nbformat_minor": 2
}
