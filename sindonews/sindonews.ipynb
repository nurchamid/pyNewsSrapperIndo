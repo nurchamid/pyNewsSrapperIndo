{
 "cells": [
  {
   "cell_type": "code",
   "execution_count": 1,
   "metadata": {},
   "outputs": [],
   "source": [
    "from Sindonews import Sindonews #class news Scrapper\n",
    "from datetime import timedelta, date, datetime\n",
    "from IPython.display import clear_output"
   ]
  },
  {
   "cell_type": "code",
   "execution_count": 2,
   "metadata": {},
   "outputs": [],
   "source": [
    "def daterange(start_date, end_date):\n",
    "    for n in range(int ((end_date - start_date).days)):\n",
    "        yield start_date + timedelta(n)"
   ]
  },
  {
   "cell_type": "code",
   "execution_count": 3,
   "metadata": {},
   "outputs": [],
   "source": [
    "obj = Sindonews()\n",
    "end_date = date(2018, 7, 24)\n",
    "start_date = date(2018, 1, 11)\n",
    "init_page = 1\n",
    "init_offset = 0"
   ]
  },
  {
   "cell_type": "code",
   "execution_count": null,
   "metadata": {},
   "outputs": [
    {
     "name": "stdout",
     "output_type": "stream",
     "text": [
      "2018-03-14\n",
      "page  1\n",
      "https://index.sindonews.com/index/0/0?t=2018-03-14\n",
      "https://international.sindonews.com/read/1289739/40/myanmar-ragukan-kredibilitas-laporan-pelanggaran-ham-rohingya-pbb-1521046629\n",
      "Insert berita  Myanmar Ragukan Kredibilitas Laporan Pelanggaran HAM Rohingya PBB\n",
      "masuk\n",
      "https://daerah.sindonews.com/read/1289736/190/4-pasangan-calon-gubernur-sumsel-fokus-pemerataan-pembangunan-1521045253\n",
      "Insert berita  4 Pasangan Calon Gubernur Sumsel Fokus Pemerataan Pembangunan\n",
      "masuk\n",
      "https://metro.sindonews.com/read/1289711/171/penindakan-lemah-tunggakan-sewa-rusun-capai-rp35-miliar-1521038768\n",
      "Insert berita  Penindakan Lemah, Tunggakan Sewa Rusun Capai Rp35 Miliar\n",
      "masuk\n",
      "https://soccer.sindonews.com/read/1289744/57/susunan-pemain-besiktas-vs-bayern-muenchen-1521048651\n",
      "Insert berita  Susunan Pemain Besiktas vs Bayern Muenchen\n",
      "masuk\n"
     ]
    }
   ],
   "source": [
    "for single_date in daterange(start_date, end_date):\n",
    "    clear_output()\n",
    "    print(single_date.strftime(\"%Y-%m-%d\"))\n",
    "    obj.getAllBerita([], init_page, 0, init_offset, single_date.strftime(\"%Y-%m-%d\"))\n",
    "    init_page = 1"
   ]
  },
  {
   "cell_type": "code",
   "execution_count": null,
   "metadata": {},
   "outputs": [],
   "source": []
  }
 ],
 "metadata": {
  "kernelspec": {
   "display_name": "Python 3",
   "language": "python",
   "name": "python3"
  },
  "language_info": {
   "codemirror_mode": {
    "name": "ipython",
    "version": 3
   },
   "file_extension": ".py",
   "mimetype": "text/x-python",
   "name": "python",
   "nbconvert_exporter": "python",
   "pygments_lexer": "ipython3",
   "version": "3.6.4"
  }
 },
 "nbformat": 4,
 "nbformat_minor": 2
}
