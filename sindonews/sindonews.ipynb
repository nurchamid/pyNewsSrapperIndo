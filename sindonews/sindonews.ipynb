{
 "cells": [
  {
   "cell_type": "code",
   "execution_count": 1,
   "metadata": {},
   "outputs": [],
   "source": [
    "from Sindonews import Sindonews #class news Scrapper\n",
    "from datetime import timedelta, date, datetime\n",
    "from IPython.display import clear_output"
   ]
  },
  {
   "cell_type": "code",
   "execution_count": 2,
   "metadata": {},
   "outputs": [],
   "source": [
    "def daterange(start_date, end_date):\n",
    "    for n in range(int ((end_date - start_date).days)):\n",
    "        yield start_date + timedelta(n)"
   ]
  },
  {
   "cell_type": "code",
   "execution_count": 3,
   "metadata": {},
   "outputs": [],
   "source": [
    "obj = Sindonews()\n",
    "end_date = date(2018, 7, 24)\n",
    "start_date = date(2018, 6, 9)\n",
    "init_page = 15\n",
    "init_offset = 140"
   ]
  },
  {
   "cell_type": "code",
   "execution_count": null,
   "metadata": {
    "scrolled": false
   },
   "outputs": [
    {
     "name": "stdout",
     "output_type": "stream",
     "text": [
      "2018-07-07\n",
      "page  1\n",
      "https://index.sindonews.com/index/0/0?t=2018-07-07\n",
      "https://autotekno.sindonews.com/read/1319809/121/kawasaki-z900rs-bikin-panas-honda-lahirkan-kembali-cbx-1530983118\n",
      "Insert berita  Kawasaki Z900RS Bikin Panas, Honda Lahirkan Kembali CBX\n",
      "masuk\n",
      "https://international.sindonews.com/read/1319807/43/iran-eksekusi-8-orang-terkait-serangan-mematikan-isis-di-teheran-1530981772\n",
      "Insert berita  Iran Eksekusi 8 Orang Terkait Serangan Mematikan ISIS di Teheran\n",
      "masuk\n",
      "https://international.sindonews.com/read/1319806/44/al-shabaab-serang-kementerian-dalam-negeri-somalia-9-tewas-1530981116\n",
      "Insert berita  Al-Shabaab Serang Kementerian Dalam Negeri Somalia, 9 Tewas\n",
      "masuk\n"
     ]
    }
   ],
   "source": [
    "for single_date in daterange(start_date, end_date):\n",
    "    clear_output()\n",
    "    print(single_date.strftime(\"%Y-%m-%d\"))\n",
    "    obj.getAllBerita([], init_page, 0, init_offset, single_date.strftime(\"%Y-%m-%d\"))\n",
    "    init_page = 1\n",
    "    init_offset = 0"
   ]
  },
  {
   "cell_type": "code",
   "execution_count": null,
   "metadata": {},
   "outputs": [],
   "source": []
  }
 ],
 "metadata": {
  "kernelspec": {
   "display_name": "Python 3",
   "language": "python",
   "name": "python3"
  },
  "language_info": {
   "codemirror_mode": {
    "name": "ipython",
    "version": 3
   },
   "file_extension": ".py",
   "mimetype": "text/x-python",
   "name": "python",
   "nbconvert_exporter": "python",
   "pygments_lexer": "ipython3",
   "version": "3.6.4"
  }
 },
 "nbformat": 4,
 "nbformat_minor": 2
}
