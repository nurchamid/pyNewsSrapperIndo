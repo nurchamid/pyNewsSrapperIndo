{
 "cells": [
  {
   "cell_type": "code",
   "execution_count": 3,
   "metadata": {},
   "outputs": [],
   "source": [
    "from Rajamobil import Rajamobil\n",
    "import mysql.connector\n",
    "obj = Rajamobil()"
   ]
  },
  {
   "cell_type": "code",
   "execution_count": 4,
   "metadata": {},
   "outputs": [
    {
     "name": "stdout",
     "output_type": "stream",
     "text": [
      "page  1\n",
      "https://berita.rajamobil.com/page/1\n"
     ]
    },
    {
     "ename": "TypeError",
     "evalue": "'NoneType' object is not subscriptable",
     "output_type": "error",
     "traceback": [
      "\u001b[1;31m---------------------------------------------------------------------------\u001b[0m",
      "\u001b[1;31mTypeError\u001b[0m                                 Traceback (most recent call last)",
      "\u001b[1;32m<ipython-input-4-bfe1d09ccad5>\u001b[0m in \u001b[0;36m<module>\u001b[1;34m()\u001b[0m\n\u001b[1;32m----> 1\u001b[1;33m \u001b[0mlinks\u001b[0m \u001b[1;33m=\u001b[0m \u001b[0mobj\u001b[0m\u001b[1;33m.\u001b[0m\u001b[0mgetAllBerita\u001b[0m\u001b[1;33m(\u001b[0m\u001b[1;33m[\u001b[0m\u001b[1;33m]\u001b[0m\u001b[1;33m,\u001b[0m \u001b[1;36m1\u001b[0m\u001b[1;33m,\u001b[0m \u001b[1;34m'berita'\u001b[0m\u001b[1;33m)\u001b[0m\u001b[1;33m\u001b[0m\u001b[0m\n\u001b[0m",
      "\u001b[1;32mD:\\OJT FILES\\Scrapper\\pyNewsSrapperIndo\\rajamobil\\Rajamobil.py\u001b[0m in \u001b[0;36mgetAllBerita\u001b[1;34m(self, details, page, cat, date)\u001b[0m\n\u001b[0;32m     52\u001b[0m                 \u001b[1;32mbreak\u001b[0m\u001b[1;33m\u001b[0m\u001b[0m\n\u001b[0;32m     53\u001b[0m             \u001b[1;32melse\u001b[0m\u001b[1;33m:\u001b[0m\u001b[1;33m\u001b[0m\u001b[0m\n\u001b[1;32m---> 54\u001b[1;33m                 \u001b[0mdetail\u001b[0m \u001b[1;33m=\u001b[0m \u001b[0mself\u001b[0m\u001b[1;33m.\u001b[0m\u001b[0mgetDetailBerita\u001b[0m\u001b[1;33m(\u001b[0m\u001b[0mlink\u001b[0m\u001b[1;33m)\u001b[0m\u001b[1;33m\u001b[0m\u001b[0m\n\u001b[0m\u001b[0;32m     55\u001b[0m                 \u001b[1;32mif\u001b[0m \u001b[0mself\u001b[0m\u001b[1;33m.\u001b[0m\u001b[0minsertDB\u001b[0m\u001b[1;33m(\u001b[0m\u001b[0mcon\u001b[0m\u001b[1;33m,\u001b[0m \u001b[0mdetail\u001b[0m\u001b[1;33m)\u001b[0m\u001b[1;33m:\u001b[0m\u001b[1;33m\u001b[0m\u001b[0m\n\u001b[0;32m     56\u001b[0m                     \u001b[0mprint\u001b[0m\u001b[1;33m(\u001b[0m\u001b[1;34m\"Insert berita \"\u001b[0m\u001b[1;33m,\u001b[0m \u001b[0mdetail\u001b[0m\u001b[1;33m[\u001b[0m\u001b[1;34m'title'\u001b[0m\u001b[1;33m]\u001b[0m\u001b[1;33m)\u001b[0m\u001b[1;33m\u001b[0m\u001b[0m\n",
      "\u001b[1;32mD:\\OJT FILES\\Scrapper\\pyNewsSrapperIndo\\rajamobil\\Rajamobil.py\u001b[0m in \u001b[0;36mgetDetailBerita\u001b[1;34m(self, link)\u001b[0m\n\u001b[0;32m     90\u001b[0m \u001b[1;33m\u001b[0m\u001b[0m\n\u001b[0;32m     91\u001b[0m         \u001b[1;31m#extract date\u001b[0m\u001b[1;33m\u001b[0m\u001b[1;33m\u001b[0m\u001b[0m\n\u001b[1;32m---> 92\u001b[1;33m         \u001b[0mpubdate\u001b[0m \u001b[1;33m=\u001b[0m \u001b[0marticle\u001b[0m\u001b[1;33m.\u001b[0m\u001b[0mfind\u001b[0m\u001b[1;33m(\u001b[0m\u001b[1;34m'meta'\u001b[0m\u001b[1;33m,\u001b[0m \u001b[1;33m{\u001b[0m\u001b[1;34m'property'\u001b[0m\u001b[1;33m:\u001b[0m\u001b[1;34m'article:published_time'\u001b[0m\u001b[1;33m}\u001b[0m\u001b[1;33m)\u001b[0m\u001b[1;33m[\u001b[0m\u001b[1;34m'content'\u001b[0m\u001b[1;33m]\u001b[0m\u001b[1;33m\u001b[0m\u001b[0m\n\u001b[0m\u001b[0;32m     93\u001b[0m         \u001b[0mpubdate\u001b[0m \u001b[1;33m=\u001b[0m \u001b[0mpubdate\u001b[0m\u001b[1;33m[\u001b[0m\u001b[1;36m0\u001b[0m\u001b[1;33m:\u001b[0m\u001b[1;36m19\u001b[0m\u001b[1;33m]\u001b[0m\u001b[1;33m.\u001b[0m\u001b[0mstrip\u001b[0m\u001b[1;33m(\u001b[0m\u001b[1;34m' \\t\\n\\r'\u001b[0m\u001b[1;33m)\u001b[0m\u001b[1;33m\u001b[0m\u001b[0m\n\u001b[0;32m     94\u001b[0m         \u001b[0marticles\u001b[0m\u001b[1;33m[\u001b[0m\u001b[1;34m'pubdate'\u001b[0m\u001b[1;33m]\u001b[0m \u001b[1;33m=\u001b[0m \u001b[0mdatetime\u001b[0m\u001b[1;33m.\u001b[0m\u001b[0mstrftime\u001b[0m\u001b[1;33m(\u001b[0m\u001b[0mdatetime\u001b[0m\u001b[1;33m.\u001b[0m\u001b[0mstrptime\u001b[0m\u001b[1;33m(\u001b[0m\u001b[0mpubdate\u001b[0m\u001b[1;33m,\u001b[0m \u001b[1;34m\"%Y-%m-%dT%H:%M:%S\"\u001b[0m\u001b[1;33m)\u001b[0m\u001b[1;33m,\u001b[0m \u001b[1;34m'%Y-%m-%d %H:%M:%S'\u001b[0m\u001b[1;33m)\u001b[0m\u001b[1;33m\u001b[0m\u001b[0m\n",
      "\u001b[1;31mTypeError\u001b[0m: 'NoneType' object is not subscriptable"
     ]
    }
   ],
   "source": [
    "links = obj.getAllBerita([], 1, 'berita')"
   ]
  },
  {
   "cell_type": "code",
   "execution_count": 3,
   "metadata": {},
   "outputs": [
    {
     "data": {
      "text/plain": [
       "[['https://berita.rajamobil.com/showroom-mobil/2016/06/29/sambut-ramadan-dan-lebaran-fuso-siagakan-servis-ekstra.htm',\n",
       "  'berita'],\n",
       " ['https://berita.rajamobil.com/berita-mobil/2016/06/27/saingi-bmw-mercy-siapkan-divisi-mobil-listrik-di-masa-depan.htm',\n",
       "  'berita'],\n",
       " ['https://berita.rajamobil.com/berita-mobil/2018/08/06/all-new-ertiga-jadi-kendaraan-favorit-test-drive-pengunjung-giias-2018.htm',\n",
       "  'berita'],\n",
       " ['https://berita.rajamobil.com/berita-mobil/2018/08/06/komitmen-majukan-pendidikan-indonesia-suzuki-sumbang-baleno-untuk-belajar-siswa.htm',\n",
       "  'berita'],\n",
       " ['https://berita.rajamobil.com/giias-2018/2018/08/06/lewat-edukasi-autovison-berikan-tips-memilih-lampu-led-terbaik.htm',\n",
       "  'berita'],\n",
       " ['https://berita.rajamobil.com/berita-mobil/2018/08/05/suzuki-buat-nyaman-konsumen-dengan-hadirkan-bengkel-body-and-paint.htm',\n",
       "  'berita'],\n",
       " ['https://berita.rajamobil.com/berita-mobil/2018/08/05/dua-model-terbaru-chevrolet-curi-pehatian-pengunjung-giias-2018.htm',\n",
       "  'berita'],\n",
       " ['https://berita.rajamobil.com/berita-mobil/2018/08/04/mercedes-benz-kian-pertahankan-gelar-mobil-premium-terlaris.htm',\n",
       "  'berita'],\n",
       " ['https://berita.rajamobil.com/berita-mobil/2018/08/04/solar-gard-hadirkan-black-phantom-series-dengan-empat-varian-kegelapan.htm',\n",
       "  'berita'],\n",
       " ['https://berita.rajamobil.com/giias-2018/2018/08/04/new-nissan-terra-resmi-mengaspal-di-tanah-air-pada-giias-2018.htm',\n",
       "  'berita'],\n",
       " ['https://berita.rajamobil.com/berita-mobil/2018/08/04/bingung-pilih-suv-simak-dulu-ulasan-new-nissan-terra.htm',\n",
       "  'berita'],\n",
       " ['https://berita.rajamobil.com/giias-2018/2018/08/04/20-tahun-suv-mewah-dari-strutgart-hadir-di-indonesia.htm',\n",
       "  'berita'],\n",
       " ['https://berita.rajamobil.com/giias-2018/2018/08/03/datsun-go-live-special-version-berawal-dari-sebuah-konsep-pada-giias-2017.htm',\n",
       "  'berita'],\n",
       " ['https://berita.rajamobil.com/berita-mobil/2018/08/03/giias-2018-tiga-model-suzuki-ini-tersedia-varian-sport.htm',\n",
       "  'berita'],\n",
       " ['https://berita.rajamobil.com/berita-mobil/2018/08/03/giias-2018-wuling-hadirkan-dua-model-istimewa-yang-segera-meluncur.htm',\n",
       "  'berita'],\n",
       " ['https://berita.rajamobil.com/berita-mobil/2018/08/03/new-honda-hr-v-menggoda-giias-2018.htm',\n",
       "  'berita'],\n",
       " ['https://berita.rajamobil.com/berita-mobil/2018/08/03/audi-luncurkan-dua-primadona-bermesin-turbo-di-giias-2018.htm',\n",
       "  'berita'],\n",
       " ['https://berita.rajamobil.com/giias-2018/2018/08/03/civic-tcr-dan-typer-mejeng-di-giias-2018.htm',\n",
       "  'berita'],\n",
       " ['https://berita.rajamobil.com/giias-2018/2018/08/03/new-tiguan-vrs-bertenaga-150-bhp.htm',\n",
       "  'berita'],\n",
       " ['https://berita.rajamobil.com/giias-2018/2018/08/03/new-tiguan-vrs-hadir-dengan-desain-lebih-kharismatik-di-giias-2018.htm',\n",
       "  'berita'],\n",
       " ['https://berita.rajamobil.com/giias-2018/2018/08/03/honda-forza-250-motor-baru-giias-2018.htm',\n",
       "  'berita'],\n",
       " ['https://berita.rajamobil.com/giias-2018/2018/08/03/all-new-brio-gairah-baru-city-car.htm',\n",
       "  'berita'],\n",
       " ['https://berita.rajamobil.com/berita-mobil/2018/08/03/mazda-facelift-di-giias-2018.htm',\n",
       "  'berita'],\n",
       " ['https://berita.rajamobil.com/berita-mobil/2018/08/02/presiden-joko-widodo-buka-giias-2018.htm',\n",
       "  'berita'],\n",
       " ['https://berita.rajamobil.com/berita-mobil/2018/08/01/fitur-adaptive-cruise-control.htm',\n",
       "  'berita'],\n",
       " ['https://berita.rajamobil.com/berita-mobil/2018/08/01/new-nissan-terra-di-giias-2018.htm',\n",
       "  'berita'],\n",
       " ['https://berita.rajamobil.com/berita-mobil/2018/07/31/plat-nomor-kendaraan-menjadi-warna-putih.htm',\n",
       "  'berita'],\n",
       " ['https://berita.rajamobil.com/berita-mobil/2018/07/31/astra-luncurkan-robot-demi-mendukung-sistem-smart-factory-di-tahun-2025.htm',\n",
       "  'berita'],\n",
       " ['https://berita.rajamobil.com/berita-mobil/2018/07/31/beginilah-cara-jitu-autovision-berikan-edukasi-lewat-ajang-kompetisi.htm',\n",
       "  'berita'],\n",
       " ['https://berita.rajamobil.com/berita-motor/2018/07/31/teknologi-vespa-sprint-carbon.htm',\n",
       "  'berita'],\n",
       " ['https://berita.rajamobil.com/berita-mobil/2018/07/30/datsun-special-version-hadir-di-giias-2018.htm',\n",
       "  'berita'],\n",
       " ['https://berita.rajamobil.com/berita-mobil/2018/07/30/chevrolet-trailblazer-wajib-dimiliki.htm',\n",
       "  'berita']]"
      ]
     },
     "execution_count": 3,
     "metadata": {},
     "output_type": "execute_result"
    }
   ],
   "source": [
    "links"
   ]
  },
  {
   "cell_type": "code",
   "execution_count": null,
   "metadata": {},
   "outputs": [],
   "source": [
    "links = obj.getIndeksLink([], 1, '02-08-2018')\n",
    "details = obj.getDetailBerita(links)\n",
    "con = mysql.connector.connect(user='root', password='', host='127.0.0.1', database='news_db')\n",
    "cursor = con.cursor()\n",
    "for det in details:\n",
    "    add_article = (\"INSERT INTO article\"\n",
    "              \"(post_id, author, pubdate, category, subcategory, content, comments, images, title, tags, url, source) \"\n",
    "              \"VALUES (%(id)s, %(author)s, %(pubdate)s, %(category)s, %(subcategory)s, %(content)s, %(comments)s, %(images)s, %(title)s, %(tags)s, %(url)s, %(source)s)\")\n",
    "    # Insert article\n",
    "    cursor.execute(add_article, det)\n",
    "    con.commit()\n",
    "\n",
    "cursor.close()\n",
    "con.close()"
   ]
  }
 ],
 "metadata": {
  "kernelspec": {
   "display_name": "Python 3",
   "language": "python",
   "name": "python3"
  },
  "language_info": {
   "codemirror_mode": {
    "name": "ipython",
    "version": 3
   },
   "file_extension": ".py",
   "mimetype": "text/x-python",
   "name": "python",
   "nbconvert_exporter": "python",
   "pygments_lexer": "ipython3",
   "version": "3.6.6"
  }
 },
 "nbformat": 4,
 "nbformat_minor": 2
}
