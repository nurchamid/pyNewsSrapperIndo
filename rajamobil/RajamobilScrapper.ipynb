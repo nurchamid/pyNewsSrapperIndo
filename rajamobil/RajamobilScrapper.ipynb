{
 "cells": [
  {
   "cell_type": "code",
   "execution_count": 1,
   "metadata": {},
   "outputs": [],
   "source": [
    "from Rajamobil import Rajamobil\n",
    "import mysql.connector\n",
    "obj = Rajamobil()"
   ]
  },
  {
   "cell_type": "code",
   "execution_count": 2,
   "metadata": {},
   "outputs": [
    {
     "name": "stdout",
     "output_type": "stream",
     "text": [
      "page  1\n",
      "https://berita.rajamobil.com/page/1\n",
      "page  2\n",
      "https://berita.rajamobil.com/page/2\n",
      "page  3\n",
      "https://berita.rajamobil.com/page/3\n"
     ]
    }
   ],
   "source": [
    "links = obj.getIndeksLink([], 1, 'berita')"
   ]
  },
  {
   "cell_type": "code",
   "execution_count": 3,
   "metadata": {},
   "outputs": [
    {
     "data": {
      "text/plain": [
       "[['https://berita.rajamobil.com/showroom-mobil/2016/06/29/sambut-ramadan-dan-lebaran-fuso-siagakan-servis-ekstra.htm',\n",
       "  'berita'],\n",
       " ['https://berita.rajamobil.com/berita-mobil/2016/06/27/saingi-bmw-mercy-siapkan-divisi-mobil-listrik-di-masa-depan.htm',\n",
       "  'berita'],\n",
       " ['https://berita.rajamobil.com/berita-mobil/2018/08/06/all-new-ertiga-jadi-kendaraan-favorit-test-drive-pengunjung-giias-2018.htm',\n",
       "  'berita'],\n",
       " ['https://berita.rajamobil.com/berita-mobil/2018/08/06/komitmen-majukan-pendidikan-indonesia-suzuki-sumbang-baleno-untuk-belajar-siswa.htm',\n",
       "  'berita'],\n",
       " ['https://berita.rajamobil.com/giias-2018/2018/08/06/lewat-edukasi-autovison-berikan-tips-memilih-lampu-led-terbaik.htm',\n",
       "  'berita'],\n",
       " ['https://berita.rajamobil.com/berita-mobil/2018/08/05/suzuki-buat-nyaman-konsumen-dengan-hadirkan-bengkel-body-and-paint.htm',\n",
       "  'berita'],\n",
       " ['https://berita.rajamobil.com/berita-mobil/2018/08/05/dua-model-terbaru-chevrolet-curi-pehatian-pengunjung-giias-2018.htm',\n",
       "  'berita'],\n",
       " ['https://berita.rajamobil.com/berita-mobil/2018/08/04/mercedes-benz-kian-pertahankan-gelar-mobil-premium-terlaris.htm',\n",
       "  'berita'],\n",
       " ['https://berita.rajamobil.com/berita-mobil/2018/08/04/solar-gard-hadirkan-black-phantom-series-dengan-empat-varian-kegelapan.htm',\n",
       "  'berita'],\n",
       " ['https://berita.rajamobil.com/giias-2018/2018/08/04/new-nissan-terra-resmi-mengaspal-di-tanah-air-pada-giias-2018.htm',\n",
       "  'berita'],\n",
       " ['https://berita.rajamobil.com/berita-mobil/2018/08/04/bingung-pilih-suv-simak-dulu-ulasan-new-nissan-terra.htm',\n",
       "  'berita'],\n",
       " ['https://berita.rajamobil.com/giias-2018/2018/08/04/20-tahun-suv-mewah-dari-strutgart-hadir-di-indonesia.htm',\n",
       "  'berita'],\n",
       " ['https://berita.rajamobil.com/giias-2018/2018/08/03/datsun-go-live-special-version-berawal-dari-sebuah-konsep-pada-giias-2017.htm',\n",
       "  'berita'],\n",
       " ['https://berita.rajamobil.com/berita-mobil/2018/08/03/giias-2018-tiga-model-suzuki-ini-tersedia-varian-sport.htm',\n",
       "  'berita'],\n",
       " ['https://berita.rajamobil.com/berita-mobil/2018/08/03/giias-2018-wuling-hadirkan-dua-model-istimewa-yang-segera-meluncur.htm',\n",
       "  'berita'],\n",
       " ['https://berita.rajamobil.com/berita-mobil/2018/08/03/new-honda-hr-v-menggoda-giias-2018.htm',\n",
       "  'berita'],\n",
       " ['https://berita.rajamobil.com/berita-mobil/2018/08/03/audi-luncurkan-dua-primadona-bermesin-turbo-di-giias-2018.htm',\n",
       "  'berita'],\n",
       " ['https://berita.rajamobil.com/giias-2018/2018/08/03/civic-tcr-dan-typer-mejeng-di-giias-2018.htm',\n",
       "  'berita'],\n",
       " ['https://berita.rajamobil.com/giias-2018/2018/08/03/new-tiguan-vrs-bertenaga-150-bhp.htm',\n",
       "  'berita'],\n",
       " ['https://berita.rajamobil.com/giias-2018/2018/08/03/new-tiguan-vrs-hadir-dengan-desain-lebih-kharismatik-di-giias-2018.htm',\n",
       "  'berita'],\n",
       " ['https://berita.rajamobil.com/giias-2018/2018/08/03/honda-forza-250-motor-baru-giias-2018.htm',\n",
       "  'berita'],\n",
       " ['https://berita.rajamobil.com/giias-2018/2018/08/03/all-new-brio-gairah-baru-city-car.htm',\n",
       "  'berita'],\n",
       " ['https://berita.rajamobil.com/berita-mobil/2018/08/03/mazda-facelift-di-giias-2018.htm',\n",
       "  'berita'],\n",
       " ['https://berita.rajamobil.com/berita-mobil/2018/08/02/presiden-joko-widodo-buka-giias-2018.htm',\n",
       "  'berita'],\n",
       " ['https://berita.rajamobil.com/berita-mobil/2018/08/01/fitur-adaptive-cruise-control.htm',\n",
       "  'berita'],\n",
       " ['https://berita.rajamobil.com/berita-mobil/2018/08/01/new-nissan-terra-di-giias-2018.htm',\n",
       "  'berita'],\n",
       " ['https://berita.rajamobil.com/berita-mobil/2018/07/31/plat-nomor-kendaraan-menjadi-warna-putih.htm',\n",
       "  'berita'],\n",
       " ['https://berita.rajamobil.com/berita-mobil/2018/07/31/astra-luncurkan-robot-demi-mendukung-sistem-smart-factory-di-tahun-2025.htm',\n",
       "  'berita'],\n",
       " ['https://berita.rajamobil.com/berita-mobil/2018/07/31/beginilah-cara-jitu-autovision-berikan-edukasi-lewat-ajang-kompetisi.htm',\n",
       "  'berita'],\n",
       " ['https://berita.rajamobil.com/berita-motor/2018/07/31/teknologi-vespa-sprint-carbon.htm',\n",
       "  'berita'],\n",
       " ['https://berita.rajamobil.com/berita-mobil/2018/07/30/datsun-special-version-hadir-di-giias-2018.htm',\n",
       "  'berita'],\n",
       " ['https://berita.rajamobil.com/berita-mobil/2018/07/30/chevrolet-trailblazer-wajib-dimiliki.htm',\n",
       "  'berita']]"
      ]
     },
     "execution_count": 3,
     "metadata": {},
     "output_type": "execute_result"
    }
   ],
   "source": [
    "links"
   ]
  },
  {
   "cell_type": "code",
   "execution_count": null,
   "metadata": {},
   "outputs": [],
   "source": [
    "links = obj.getIndeksLink([], 1, '02-08-2018')\n",
    "details = obj.getDetailBerita(links)\n",
    "con = mysql.connector.connect(user='root', password='', host='127.0.0.1', database='news_db')\n",
    "cursor = con.cursor()\n",
    "for det in details:\n",
    "    add_article = (\"INSERT INTO article\"\n",
    "              \"(post_id, author, pubdate, category, subcategory, content, comments, images, title, tags, url, source) \"\n",
    "              \"VALUES (%(id)s, %(author)s, %(pubdate)s, %(category)s, %(subcategory)s, %(content)s, %(comments)s, %(images)s, %(title)s, %(tags)s, %(url)s, %(source)s)\")\n",
    "    # Insert article\n",
    "    cursor.execute(add_article, det)\n",
    "    con.commit()\n",
    "\n",
    "cursor.close()\n",
    "con.close()"
   ]
  }
 ],
 "metadata": {
  "kernelspec": {
   "display_name": "Python 3",
   "language": "python",
   "name": "python3"
  },
  "language_info": {
   "codemirror_mode": {
    "name": "ipython",
    "version": 3
   },
   "file_extension": ".py",
   "mimetype": "text/x-python",
   "name": "python",
   "nbconvert_exporter": "python",
   "pygments_lexer": "ipython3",
   "version": "3.6.6"
  }
 },
 "nbformat": 4,
 "nbformat_minor": 2
}
