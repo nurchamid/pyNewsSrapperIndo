{
 "cells": [
  {
   "cell_type": "code",
   "execution_count": 1,
   "metadata": {},
   "outputs": [],
   "source": [
    "from Mobil123 import Mobil123 #class news Scrapper\n",
    "import mysql.connector"
   ]
  },
  {
   "cell_type": "code",
   "execution_count": 2,
   "metadata": {},
   "outputs": [],
   "source": [
    "obj = Mobil123()"
   ]
  },
  {
   "cell_type": "code",
   "execution_count": null,
   "metadata": {},
   "outputs": [
    {
     "name": "stdout",
     "output_type": "stream",
     "text": [
      "page  1\n",
      "https://www.mobil123.com/berita/terbaru?page_number=1\n",
      "page  2\n",
      "https://www.mobil123.com/berita/terbaru?page_number=2\n"
     ]
    }
   ],
   "source": [
    "links = obj.getAllBerita([], 1)"
   ]
  },
  {
   "cell_type": "code",
   "execution_count": 4,
   "metadata": {},
   "outputs": [
    {
     "data": {
      "text/plain": [
       "[{'author': 'Insan Akbar Krisnamusi',\n",
       "  'category': 'Otomotif',\n",
       "  'comments': 0,\n",
       "  'content': 'TANGERANG – All-New Suzuki Ertiga Support Concept kini sedang dipelajari untuk dijadikan versi produksi di masa yang akan datang.All-New Ertiga Support Concept\\xa0diperkenalkan di Gaikindo Indonesia International Auto Show (GIIAS) 2018, 2 – 12 Agustus di Indonesia Convention Exhibition (ICE), Serpong Tangerang. Perbedaannya dari All-New Ertiga standar adalah kemampuan kursi baris pertama yang bisa diputar 90 derajat ke arah kiri dan digeser keluar pintu agar para penyandang disabilitas bisa keluar-masuk kendaraan lebih mudah.Yulius Purwanto, Head of 4W Product Development and Accessories PT. Suzuki Indomobil Sales (SIS) mengatakan bahwa All-New Ertiga Concept bukan sekadar ‘pertunjukan’ di GIIAS 2018. Mereka kini juga sedang mempelajari peluang pasar untuk merealisasikannya.“Mobil seperti ini sebenarnya sudah ada di pasar, tapi kebanyakan di segmen-segmen mewah. Biasanya mobil-mobil itu dilengkapi kursi swivel (putar) untuk mempermudah penumpang naik-turun kendaraan. Kali ini Suzuki mencoba menghadirkan kendaraan ramah untuk para penyandang disabilitas dengan basis All-New Ertiga,” paparnya dalam konferensi pers di sela-sela GIIAS 2018.     Aksesoris berupa kursi khusus untuk para penyandang disabilitas sebenarnya tersedia di pasar. Namun, menurut dia, banderolnya mahal karena bisa mencapai ratusan juta rupiah.Suzuki mengutip data Profil Penduduk Hasil Survei Penduduk Antar Sensus 2015 milik Badan Pusat Statistik. Menurut data, ada 21.843.408 penyandang disabilitas di Indonesia atau setara 8,56 persen dari jumlah keseluruhan penduduk Indonesia. Adapun penyandang disabilitas yang berkaitan dengan kesulitan berjalan dan menaiki tangga berjumlah 3,76 persen dari total penduduk.“Komposisi 3,76 persen itu secara volume sudah cukup besar dan masih jarang sekali yang masuk ke sini,” ujar Yulius.Pasar yang cukup besar itu hingga kini masih diisi mobil-mobil mahal atau aksesoris berharga selangit. Suzuki berpikir menyediakan mobil keluarga terjangkau dengan fitur ramah bagi penyandang disabilitas khususnya yang terkait kesulitan berjalan.“Kenapa All-New Ertiga yang kami pilih karena ini adalah mobil keluarga dan target yang kami coba lihat para manula yang keluarganya mungkin punya kesulitan membawa mereka naik-turun kendaraan. All-New Ertiga kami anggap segmen paling tepat untuk trial,” tandas Yulius.Sayang, ia belum bisa menjelaskan kapan kira-kira All-New Ertiga Support Concept bisa terwujud. Ia juga belum dapat memaparkan apakah kursi ramah disabilitas itu hadir dalam bentuk varian baru All-New Ertiga atau hanya berupa aksesoris tambahan yang dibeli terpisah.“Semuanya masih kami pelajari,” tandas Yulius. [Xan/Ari]                                ',\n",
       "  'id': 52020,\n",
       "  'image': 'https://content.icarcdn.com/styles/article_cover/s3/field/article/cover/2018/all-new-suzuki-ertiga-support-concept-di-giias-2018-2_1.jpg?itok=A0dgeaTD',\n",
       "  'pubdate': '2018-08-08 08:11:00',\n",
       "  'source': 'mobil123.com',\n",
       "  'subcategory': 'Berita Otomotif',\n",
       "  'tags': 'Berita Otomotif, Suzuki, Suzuki Indonesia, PT. Suzuki Indomobil Sales, SIS, all-new Suzuki Ertiga, All-New Suzuki Ertiga Support Concept, All-New Ertiga Support Concept',\n",
       "  'title': 'All-New Suzuki Ertiga Support Concept Berpotensi Segera Diproduksi',\n",
       "  'url': 'https://www.mobil123.com/berita/all-new-suzuki-ertiga-support-concept-berpotensi-jadi-kenyataan/52020'},\n",
       " {'author': 'Insan Akbar Krisnamusi',\n",
       "  'category': 'Otomotif',\n",
       "  'comments': 0,\n",
       "  'content': 'TOKYO –\\xa0Mitsubishi Xpander\\xa0bakal ditambah produksinya hinga mencapai 150 ribu unit per tahun pada tahun fiskal 2019 yang dimulai dari April tahun depan sampai maret 2020.Mitsubishi Motors Corporation (MMC) mengumumkan rencana penambahan produksi menjadi 150 ribu unit pada tahun fiskal selanjutnya di pabrik mereka\\xa0di Cikarang, Bekasi yang dioperasikan PT. Mitsubishi Motors Krama Yudha Indonesia (MMKI). Penambahan dilakukan demi memenuhi permintaan konsumen dalam negeri sekaligus untuk ekspansi ekspor.“Saya sangat senang bahwa pelanggan di Indonesia dan pasar Asean\\xa0lainnya menerima Xpander\\xa0dengan antusias. Kami akan terus berupaya untuk mengantarkan kendaraan yang sangat menarik ini secepat mungkin kepada konsumen,” ucap Osamu Masuko, Chief Executive Officer MMC.Tidak dijelaskan mengenai komposisi produksi untuk pasar domestik serta ekspor. Tidak diberitahukan pula apakah volume tersebut sudah termasuk dengan\\xa0low multi purpose vehicle (LMPV) Nissan yang menggunakan platform Xpander.     Pasalnya, aliansi Nissan-Renault-Mitsubishi beberapa waktu lalu mengungkapkan bahwa pabrik Mitsubishi di Cikarang akan mulai menyuplai LMPV Nissan pada 2019.Xpander meluncur di Indonesia pada 10 Agustus 2017 dan permintaan pasar terhadapnya melebihi ekspektasi Mitsubishi sampai merek asal Jepang ini kewalahan memenuhinya akibat pabrik baru tersebut belum bisa beroperasi maksimal. Inden pun bisa mengular bahkan sampai lebih dari enam bulan.Kapasitas produksi terus ditambah dari 5.000 unit per bulan, 8.000 unit per bulan, sampai 10 ribu unit per bulan pada akhir kuartal satu 2018. Menurut MMC, total pemesanan Xpander mencapai 80 ribu unit sejak Agustus 2017 sampai Juni 2018.Mulai April kemarin, Xpander\\xa0diekspor ke Filipina\\xa0sebagai negara tujuan pertama. Target selanjutnya adalah Thailand, Malaysia, Vietnam, hingga ke region Timur Tengah plus Amerika Latin. [Xan/Ari]                                ',\n",
       "  'id': 52021,\n",
       "  'image': 'https://content.icarcdn.com/styles/article_cover/s3/field/article/cover/2018/mitsubishi-xpander-ditambah-produksinya-jadi-150-ribu-unit-pada-2019-2_5.jpg?itok=KI_-3j31',\n",
       "  'pubdate': '2018-08-08 08:01:00',\n",
       "  'source': 'mobil123.com',\n",
       "  'subcategory': 'Berita Otomotif',\n",
       "  'tags': 'Berita Otomotif, mitsubishi, Mitsubishi Xpander, Xpander, kapasitas produksi Xpander, kapasitas produksi Xpander ditambah, kapasitas produksi Xpander 2019',\n",
       "  'title': 'Mitsubishi Xpander Ditambah Produksinya jadi 150 Ribu di 2019',\n",
       "  'url': 'https://www.mobil123.com/berita/mitsubishi-xpander-ditambah-produksinya-jadi-150-ribu-unit-di-2019/52021'},\n",
       " {'author': 'Adi Hidayat',\n",
       "  'category': 'Otomotif',\n",
       "  'comments': 0,\n",
       "  'content': 'TANGERANG – DFSK Glory 580 telah dilengkapi dengan mesin berteknologi turbo.Teknologi tersebut merupakan salah satu teknologi yang cukup disukai oleh pecinta otomotif dunia karena beragam kelebihannya. Di antaranya adalah perfoma kendaraan dapat menjadi lebih maksimal namun konsumsi bahan bakar tetap efisien.Menariknya, meski memiliki teknologi tinggi, namun perawatan DFSK Glory 580 tetaplah sama layaknya mobil-mobil dengan teknologi di bawahnya. Hal ini disampaikan oleh Taqwa Suryo Swasono, owner bengkel Garden Speed.“Perawatan mobil turbo itu sama saja dengan mobil-mobil lain pada umumnya. Cukup rajin mengganti oli dan melakukan perawatan rutin maka itu saja sudah cukup,” ungkapnya.Sederhanya perawatan mobil berteknologi turbo tersebut dikarenakan saat ini sparepart sudah cukup mendukung. Maka dari itu, teknologi turbo di mobil dianggap sudah dapat ditingkatkan secara maksimal.“Pada tahun 1980-an, ada sebuah pabrikan yang mengimpor langsung mobil berteknologi turbo. Sayangnya ketika itu, meski mobilnya sudah memiliki teknologi tinggi namun oli-oli\\xa0di pasaran tidak ada yang sesuai. Makanya banyak yang mengalami kerusakan. Kondisi tersebut kini sudah berbeda, pelanggan memiliki banyak pilihan oli bagus dan cocok untuk mobil berteknologi turbo,” tambahnya.Tak hanya itu, untuk memudahkan pelanggannya dalam merawat kendaraan, DFSK pun terus mengembangkan jaringan dealer dan bengkel resminya di Indonesia. Mereka bahkan menargetkan untuk dapat meresmikan sedikitnya 50 dealer di seluruh Indonesia. [Adi/Ari]                                ',\n",
       "  'id': 52023,\n",
       "  'image': 'https://content.icarcdn.com/styles/article_cover/s3/field/article/cover/2018/dfsk-glorry-580-tetap-mudah-dirawat-123_3.jpg?itok=GAuyt8NB',\n",
       "  'pubdate': '2018-08-08 07:58:00',\n",
       "  'source': 'mobil123.com',\n",
       "  'subcategory': 'Berita Otomotif',\n",
       "  'tags': 'Berita Otomotif, DFSK Glory 580, suv, mobil cina, mobil baru, mobil indonesia',\n",
       "  'title': 'DFSK Glory 580 Punya Mesin Turbo Efisien dan Mudah Dirawat ',\n",
       "  'url': 'https://www.mobil123.com/berita/dfsk-glorry-580-tetap-mudah-dirawat/52023'}]"
      ]
     },
     "execution_count": 4,
     "metadata": {},
     "output_type": "execute_result"
    }
   ],
   "source": [
    "links"
   ]
  },
  {
   "cell_type": "code",
   "execution_count": null,
   "metadata": {},
   "outputs": [],
   "source": [
    "con = mysql.connector.connect(user='root', password='',\n",
    "                              host='127.0.0.1',\n",
    "                              database='news_db')\n",
    "cursor = con.cursor()"
   ]
  },
  {
   "cell_type": "code",
   "execution_count": null,
   "metadata": {},
   "outputs": [],
   "source": [
    "for det in detail:\n",
    "    add_article = (\"INSERT INTO article\"\n",
    "              \"(post_id, author, pubdate, category, subcategory, content, comments, images, title, tags, url, source) \"\n",
    "              \"VALUES (%(id)s, %(author)s, %(pubdate)s, %(category)s, %(subcategory)s, %(content)s, %(comments)s, %(images)s, %(title)s, %(tags)s, %(url)s, %(source)s)\")\n",
    "    # Insert article\n",
    "    cursor.execute(add_article, det)\n",
    "    con.commit()\n",
    "\n",
    "cursor.close()"
   ]
  },
  {
   "cell_type": "code",
   "execution_count": null,
   "metadata": {},
   "outputs": [],
   "source": [
    "import pandas as pd"
   ]
  },
  {
   "cell_type": "code",
   "execution_count": null,
   "metadata": {},
   "outputs": [],
   "source": [
    "df1 = pd.read_sql(\"Select * from article\", con)"
   ]
  },
  {
   "cell_type": "code",
   "execution_count": null,
   "metadata": {},
   "outputs": [],
   "source": [
    "df1"
   ]
  },
  {
   "cell_type": "code",
   "execution_count": null,
   "metadata": {},
   "outputs": [],
   "source": [
    "con.close()"
   ]
  },
  {
   "cell_type": "code",
   "execution_count": null,
   "metadata": {},
   "outputs": [],
   "source": [
    "from datetime import datetime, timedelta\n",
    "import locale\n",
    "locale.setlocale(locale.LC_ALL, 'ID')"
   ]
  },
  {
   "cell_type": "code",
   "execution_count": null,
   "metadata": {},
   "outputs": [],
   "source": [
    "yes = datetime.now() - timedelta(1)"
   ]
  },
  {
   "cell_type": "code",
   "execution_count": null,
   "metadata": {},
   "outputs": [],
   "source": [
    "datetime.strftime(yes, '%a %Y-%b-%d %H:%M:%S')"
   ]
  }
 ],
 "metadata": {
  "kernelspec": {
   "display_name": "Python 3",
   "language": "python",
   "name": "python3"
  },
  "language_info": {
   "codemirror_mode": {
    "name": "ipython",
    "version": 3
   },
   "file_extension": ".py",
   "mimetype": "text/x-python",
   "name": "python",
   "nbconvert_exporter": "python",
   "pygments_lexer": "ipython3",
   "version": "3.6.4"
  }
 },
 "nbformat": 4,
 "nbformat_minor": 2
}
