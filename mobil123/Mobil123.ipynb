{
 "cells": [
  {
   "cell_type": "code",
   "execution_count": 1,
   "metadata": {},
   "outputs": [],
   "source": [
    "from Mobil123 import Mobil123 #class news Scrapper"
   ]
  },
  {
   "cell_type": "code",
   "execution_count": 2,
   "metadata": {},
   "outputs": [],
   "source": [
    "obj = Mobil123()"
   ]
  },
  {
   "cell_type": "code",
   "execution_count": null,
   "metadata": {
    "scrolled": false
   },
   "outputs": [
    {
     "name": "stdout",
     "output_type": "stream",
     "text": [
      "page  1\n",
      "https://www.mobil123.com/berita/terbaru?page_number=1\n",
      "Insert berita  Toyota akan Tingkatkan Produksi di Cina\n",
      "masuk\n",
      "Insert berita  DFSK Glory 580 Pikat Anggota DPR di Sulawesi Selatan\n",
      "masuk\n",
      "Insert berita  Suzuki Auto Value Gratiskan Biaya Jasa Balik Nama\n",
      "masuk\n",
      "Insert berita  Lexus Bermasalah, Pengadilan Perintahkan Ganti Rugi Rp 3,5 T\n",
      "masuk\n",
      "Insert berita  DFSK Operasikan Dealer Pertama di Sulawesi\n",
      "masuk\n",
      "Insert berita  Proton Gandeng Geely untuk Jual Mobil di China\n",
      "masuk\n",
      "Insert berita  Mitsubishi Buka Dealer Kendaraan Penumpang di Pangkal Pinang\n",
      "masuk\n",
      "Insert berita  Mobil Balap Listrik Formula E Generasi Pertama Dijual Bebas\n",
      "masuk\n",
      "Insert berita  Inden Mitsubishi Xpander Diusahakan Jadi Hanya Satu Bulan\n",
      "masuk\n",
      "Insert berita  DFSK Punya Program Menarik Sambut Asian Games 2018\n",
      "masuk\n",
      "Insert berita  Lebih Dari 50 Persen Pengemudi Gaptek\n",
      "masuk\n",
      "Insert berita  Harga Mitsubishi Xpander di Thailand Lebih Mahal Rp 100 Juta ++\n",
      "masuk\n",
      "Insert berita  12.000 Unit Suzuki Ertiga Segera Diekspor\n",
      "masuk\n",
      "Insert berita  Contact Center Pertamina Raih 8 Penghargaan, ORI Beri Apresiasi\n",
      "masuk\n",
      "Insert berita  Mitsubishi Xpander Garap Pasar Fleet Tanpa Varian Khusus\n",
      "masuk\n",
      "Insert berita  Mitsubishi Xpander Perlihatkan Kemampuan Penggerak Roda Depannya di Semarang\n",
      "masuk\n"
     ]
    }
   ],
   "source": [
    "obj.getAllBerita([],1)"
   ]
  },
  {
   "cell_type": "code",
   "execution_count": null,
   "metadata": {},
   "outputs": [],
   "source": []
  }
 ],
 "metadata": {
  "kernelspec": {
   "display_name": "Python 3",
   "language": "python",
   "name": "python3"
  },
  "language_info": {
   "codemirror_mode": {
    "name": "ipython",
    "version": 3
   },
   "file_extension": ".py",
   "mimetype": "text/x-python",
   "name": "python",
   "nbconvert_exporter": "python",
   "pygments_lexer": "ipython3",
   "version": "3.6.4"
  }
 },
 "nbformat": 4,
 "nbformat_minor": 2
}
