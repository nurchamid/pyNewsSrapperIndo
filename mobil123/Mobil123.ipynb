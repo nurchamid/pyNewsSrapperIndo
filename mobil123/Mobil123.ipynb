{
 "cells": [
  {
   "cell_type": "code",
   "execution_count": 1,
   "metadata": {},
   "outputs": [],
   "source": [
    "from Mobil123 import Mobil123 #class news Scrapper"
   ]
  },
  {
   "cell_type": "code",
   "execution_count": 2,
   "metadata": {},
   "outputs": [],
   "source": [
    "obj = Mobil123()"
   ]
  },
  {
   "cell_type": "code",
   "execution_count": null,
   "metadata": {
    "scrolled": false
   },
   "outputs": [
    {
     "name": "stdout",
     "output_type": "stream",
     "text": [
      "page  550\n",
      "https://www.mobil123.com/berita/terbaru?page_number=550\n",
      "Insert berita  3 Rider Italia Akhirnya Bungkam Pasukan Spanyol\n",
      "salah2\n",
      "Insert berita  Tak Jadi Menang, Lorenzo Salahkan Helm\n",
      "salah2\n",
      "Insert berita  Horor Bernama Rezvani Beast 2016\n",
      "salah2\n",
      "Insert berita  Toyota Supra bakal Pakai Teknologi Hybrid\n",
      "salah2\n",
      "Insert berita  Populasi Mobil Listrik Meledak\n",
      "salah2\n",
      "Insert berita  Pendapatan CEO Ford di 2014 Rp 243 Miliar\n",
      "salah2\n",
      "Insert berita  Paten Honda Fit Shuttle Bocor\n",
      "salah2\n",
      "Insert berita  Tata Motors Masuk Lampung\n",
      "salah2\n",
      "Insert berita  Valentino Rossi Menang di Seri Pembuka MotoGP 2015\n",
      "salah2\n"
     ]
    }
   ],
   "source": [
    "obj.getAllBerita([],550)"
   ]
  },
  {
   "cell_type": "code",
   "execution_count": null,
   "metadata": {},
   "outputs": [],
   "source": []
  }
 ],
 "metadata": {
  "kernelspec": {
   "display_name": "Python 3",
   "language": "python",
   "name": "python3"
  },
  "language_info": {
   "codemirror_mode": {
    "name": "ipython",
    "version": 3
   },
   "file_extension": ".py",
   "mimetype": "text/x-python",
   "name": "python",
   "nbconvert_exporter": "python",
   "pygments_lexer": "ipython3",
   "version": "3.6.4"
  }
 },
 "nbformat": 4,
 "nbformat_minor": 2
}
