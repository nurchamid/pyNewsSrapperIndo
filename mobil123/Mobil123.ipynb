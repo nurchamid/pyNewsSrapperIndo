{
 "cells": [
  {
   "cell_type": "code",
   "execution_count": 1,
   "metadata": {},
   "outputs": [],
   "source": [
    "from Mobil123 import Mobil123 #class news Scrapper"
   ]
  },
  {
   "cell_type": "code",
   "execution_count": 2,
   "metadata": {},
   "outputs": [],
   "source": [
    "obj = Mobil123()"
   ]
  },
  {
   "cell_type": "code",
   "execution_count": 3,
   "metadata": {
    "scrolled": false
   },
   "outputs": [
    {
     "name": "stdout",
     "output_type": "stream",
     "text": [
      "page  1\n",
      "https://www.mobil123.com/berita/terbaru?page_number=1\n",
      "Insert berita  Medali Emas Kevin/Marcus Genapkan Prestasi Duta Bridgestone di Asian Games\n",
      "masuk\n",
      "Insert berita  Toyota Kini Punya 324 Dealer di Indonesia\n",
      "masuk\n",
      "Insert berita  Goodyear Assurance TripleMax 2 Meluncur dengan Teknologi Baru\n",
      "masuk\n",
      "Insert berita  Porsche 959 Ringsek Laku Rp 6 M\n",
      "masuk\n",
      "Insert berita  Installer Kaca Film Indonesia Jauh Lebih Cepat dari Jepang\n",
      "masuk\n",
      "Insert berita  Suzuki Resmikan Dealer Baru di Lampung Selatan\n",
      "masuk\n",
      "Insert berita  Honda HR-V 1.5L E Special Edition, Kaya Fitur & Sasar Konsumen Baru\n",
      "masuk\n",
      "Insert berita  DFSK Panen Penghargaan di GIIAS Makassar 2018\n",
      "masuk\n",
      "Insert berita  Lomba Gambar Mobil Masa Depan Toyota Dimenangkan Anak Indonesia\n",
      "masuk\n",
      "Insert berita  Nissan-Datsun Resmikan Dealer Terbarunya di Bekasi\n",
      "masuk\n",
      "Insert berita  Aston Martin DB5 Versi Film James Bond Diproduksi Terbatas\n",
      "masuk\n",
      "Insert berita  Pertamax Turbo Mulai Didistribusikan ke Pontianak\n",
      "masuk\n",
      "Insert berita  Wincos Film Undang Installer Jepang, Ajarkan Pasang Kaca Film\n",
      "masuk\n",
      "Insert berita  Kia Terlibat Masalah Internal, Tak Lagi Jadi Anggota Gaikindo\n",
      "masuk\n",
      "Insert berita  New Suzuki Jimny 'Meledak', Target Setahun Habis Sebulan\n",
      "masuk\n",
      "Insert berita  Hati-Hati Beli Mobil Bekas Tabrakan\n",
      "masuk\n",
      "Insert berita  Polusi Udara Sebabkan Penurunan Kecerdasan Besar-besaran, Waspadalah\n",
      "masuk\n",
      "Insert berita  Toyota Corolla Kini Namanya Digunakan Secara Global\n",
      "masuk\n",
      "page  2\n",
      "https://www.mobil123.com/berita/terbaru?page_number=2\n",
      "Insert berita  Daihatsu Ingatkan Bahaya Hydroplanning\n",
      "masuk\n",
      "Insert berita  Nissan Juke Generasi Kedua Meluncur 2019\n",
      "masuk\n",
      "Insert berita  Mitsubishi Outlander PHEV Diimpor dari Jepang Jika Jadi Dijual di Indonesia\n",
      "masuk\n",
      "Insert berita  Guinness Pensiunkan Rekor Dunia Penjualan Mobil Terbanyak oleh 1 Orang\n",
      "masuk\n",
      "Insert berita  5 Aksesoris Mobil yang Pantang Digunakan\n",
      "masuk\n",
      "Insert berita  Toyota Trust Klaim Tak Bakal Jual Mobil Bekas Berkualitas Jelek\n",
      "masuk\n",
      "Insert berita  Mitsubishi Xpander Susun Strategi Demi Saingi Toyota Avanza di Pasar Fleet\n",
      "masuk\n",
      "Insert berita  Closing Ceremony Asian Games 2018, Kendaraan Tidak Boleh Masuk GBK\n",
      "masuk\n",
      "Insert berita  Toyota Investasikan $500 juta Pada Uber\n",
      "masuk\n",
      "Insert berita  Buku Art Edition Ferrari Dijual Rp 400 Juta\n",
      "masuk\n",
      "Insert berita  Toyota Meneliti Gerakan Manusia saat Mobil Otonom Kecelakaan\n",
      "masuk\n",
      "Insert berita  Auto2000 Siapkan Fasilitas Uji Emisi untuk Dukung Penerapan EURO 4\n",
      "masuk\n"
     ]
    },
    {
     "data": {
      "text/plain": [
       "'berhasil ambil semua berita'"
      ]
     },
     "execution_count": 3,
     "metadata": {},
     "output_type": "execute_result"
    }
   ],
   "source": [
    "obj.getAllBerita([],1)"
   ]
  },
  {
   "cell_type": "code",
   "execution_count": null,
   "metadata": {},
   "outputs": [],
   "source": []
  }
 ],
 "metadata": {
  "kernelspec": {
   "display_name": "Python 3",
   "language": "python",
   "name": "python3"
  },
  "language_info": {
   "codemirror_mode": {
    "name": "ipython",
    "version": 3
   },
   "file_extension": ".py",
   "mimetype": "text/x-python",
   "name": "python",
   "nbconvert_exporter": "python",
   "pygments_lexer": "ipython3",
   "version": "3.6.4"
  }
 },
 "nbformat": 4,
 "nbformat_minor": 2
}
