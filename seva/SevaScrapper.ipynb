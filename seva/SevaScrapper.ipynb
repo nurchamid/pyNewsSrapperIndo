{
 "cells": [
  {
   "cell_type": "code",
   "execution_count": 1,
   "metadata": {},
   "outputs": [],
   "source": [
    "from Seva import Seva\n",
    "# import mysql.connector\n",
    "obj = Seva()"
   ]
  },
  {
   "cell_type": "code",
   "execution_count": 2,
   "metadata": {},
   "outputs": [],
   "source": [
    "list_cat = [['properti', 'tips-n-rekomendasi'], ['otomotif', 'keuangan'], ['otomotif', 'hobi-komunitas']\n",
    "            , ['otomotif', 'editors-pick'], ['otomotif', 'modifikasi'], ['otomotif', 'review-otomotif']\n",
    "            , ['otomotif', 'tips-rekomendasi'], ['otomotif', 'berita-terbaru'], ['otomotif', 'travel-lifestyle']\n",
    "           , ['otomotif', 'berita-otomotif']]"
   ]
  },
  {
   "cell_type": "code",
   "execution_count": 3,
   "metadata": {},
   "outputs": [
    {
     "name": "stdout",
     "output_type": "stream",
     "text": [
      "page  1\n",
      "https://www.seva.id/properti/blog/category/tips-n-rekomendasi/page/1\n",
      "page  1\n",
      "https://www.seva.id/otomotif/blog/category/keuangan/page/1\n",
      "page  1\n",
      "https://www.seva.id/otomotif/blog/category/hobi-komunitas/page/1\n",
      "page  1\n",
      "https://www.seva.id/otomotif/blog/category/editors-pick/page/1\n",
      "page  1\n",
      "https://www.seva.id/otomotif/blog/category/modifikasi/page/1\n",
      "page  1\n",
      "https://www.seva.id/otomotif/blog/category/review-otomotif/page/1\n",
      "page  1\n",
      "https://www.seva.id/otomotif/blog/category/tips-rekomendasi/page/1\n",
      "page  1\n",
      "https://www.seva.id/otomotif/blog/category/berita-terbaru/page/1\n",
      "page  1\n",
      "https://www.seva.id/otomotif/blog/category/travel-lifestyle/page/1\n",
      "page  1\n",
      "https://www.seva.id/otomotif/blog/category/berita-otomotif/page/1\n"
     ]
    }
   ],
   "source": [
    "for cat in list_cat:\n",
    "    obj.getAllBerita([], 1, cat[1], cat[0])"
   ]
  },
  {
   "cell_type": "code",
   "execution_count": null,
   "metadata": {},
   "outputs": [],
   "source": []
  }
 ],
 "metadata": {
  "kernelspec": {
   "display_name": "Python 3",
   "language": "python",
   "name": "python3"
  },
  "language_info": {
   "codemirror_mode": {
    "name": "ipython",
    "version": 3
   },
   "file_extension": ".py",
   "mimetype": "text/x-python",
   "name": "python",
   "nbconvert_exporter": "python",
   "pygments_lexer": "ipython3",
   "version": "3.6.6"
  }
 },
 "nbformat": 4,
 "nbformat_minor": 2
}
