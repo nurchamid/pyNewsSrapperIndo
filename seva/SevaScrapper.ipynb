{
 "cells": [
  {
   "cell_type": "code",
   "execution_count": 1,
   "metadata": {},
   "outputs": [],
   "source": [
    "from Seva import Seva\n",
    "# import mysql.connector\n",
    "obj = Seva()"
   ]
  },
  {
   "cell_type": "code",
   "execution_count": 2,
   "metadata": {},
   "outputs": [],
   "source": [
    "list_cat = [['properti', 'tips-n-rekomendasi'], ['otomotif', 'keuangan'], ['otomotif', 'hobi-komunitas']\n",
    "            , ['otomotif', 'editors-pick'], ['otomotif', 'modifikasi'], ['otomotif', 'review-otomotif']\n",
    "            , ['otomotif', 'tips-rekomendasi'], ['otomotif', 'berita-terbaru'], ['otomotif', 'travel-lifestyle']\n",
    "           , ['otomotif', 'berita-otomotif']]"
   ]
  },
  {
   "cell_type": "code",
   "execution_count": 3,
   "metadata": {},
   "outputs": [
    {
     "name": "stdout",
     "output_type": "stream",
     "text": [
      "page  1\n",
      "https://www.seva.id/properti/blog/category/tips-n-rekomendasi/page/1\n",
      "page  1\n",
      "https://www.seva.id/otomotif/blog/category/keuangan/page/1\n",
      "page  1\n",
      "https://www.seva.id/otomotif/blog/category/hobi-komunitas/page/1\n",
      "memasukkan berita id  872359\n",
      "Insert berita  Rutin Silaturahmi Jadi Kunci Solidnya Komunitas TeRuCi\n",
      "masuk\n",
      "page  1\n",
      "https://www.seva.id/otomotif/blog/category/editors-pick/page/1\n",
      "page  1\n",
      "https://www.seva.id/otomotif/blog/category/modifikasi/page/1\n",
      "page  1\n",
      "https://www.seva.id/otomotif/blog/category/review-otomotif/page/1\n",
      "memasukkan berita id  872252\n",
      "Insert berita  Mobil Zaman Now Gampang Ringsek, Ternyata karena Faktor Keselamatan\n",
      "masuk\n",
      "page  1\n",
      "https://www.seva.id/otomotif/blog/category/tips-rekomendasi/page/1\n",
      "memasukkan berita id  872397\n",
      "Insert berita  Teliti Sebelum Membeli, Yuk Kenali Mobil Bekas Terendam Banjir\n",
      "masuk\n",
      "memasukkan berita id  872396\n",
      "Insert berita  AC Mobil Akan Lebih Cepat Dingin dengan Cara Berikut\n",
      "masuk\n",
      "memasukkan berita id  872376\n",
      "Insert berita  Perlu Diingat, Ini Resiko Jika Cat Ulang Mobil Sembarangan\n",
      "masuk\n",
      "memasukkan berita id  872379\n",
      "Insert berita  Awas! Mobil Akan Terbakar Jika Hal Ini Tidak Diperhatikan\n",
      "masuk\n",
      "memasukkan berita id  872338\n",
      "Insert berita  Trik Usir Bosan Saat Terjebak Macet\n",
      "masuk\n",
      "memasukkan berita id  872266\n",
      "Insert berita  7 Langkah Cepat Mengganti Ban Mobil, Nomor 6 Jangan Sampai Lupa\n",
      "masuk\n",
      "memasukkan berita id  872251\n",
      "Insert berita  Jangan Sembarangan! Ini Caranya Merawat Mesin Turbo\n",
      "masuk\n",
      "page  1\n",
      "https://www.seva.id/otomotif/blog/category/berita-terbaru/page/1\n",
      "memasukkan berita id  872336\n",
      "Insert berita  Cuma di Sini Toyota New Yaris Harganya Rp50 Juta\n",
      "masuk\n",
      "memasukkan berita id  872297\n",
      "Insert berita  MRT Jakarta Mulai Diujicoba, Ini Penampakan di Dalamnya\n",
      "masuk\n",
      "memasukkan berita id  872284\n",
      "Insert berita  Cara Mudah Menuju Venue Asian Games 2018\n",
      "masuk\n",
      "memasukkan berita id  872213\n",
      "Insert berita  Lokasi Parkir Nonton Asian Games 2018 di Sekitar Gelora Bung Karno\n",
      "masuk\n",
      "memasukkan berita id  872227\n",
      "Insert berita  Ada Mobil Harganya Rp50 Juta di Flash Sale Seva.id\n",
      "masuk\n",
      "memasukkan berita id  872207\n",
      "Insert berita  Ingin Nonton Asian Games 2018? Cek Daftar Venue Ini\n",
      "masuk\n",
      "page  1\n",
      "https://www.seva.id/otomotif/blog/category/travel-lifestyle/page/1\n",
      "page  1\n",
      "https://www.seva.id/otomotif/blog/category/berita-otomotif/page/1\n",
      "memasukkan berita id  872199\n",
      "Insert berita  Fitur Canggih Mobil Dinas Pejabat Tinggi Negara di Indonesia\n",
      "masuk\n"
     ]
    }
   ],
   "source": [
    "for cat in list_cat:\n",
    "    obj.getAllBerita([], 1, cat[1], cat[0])"
   ]
  },
  {
   "cell_type": "code",
   "execution_count": null,
   "metadata": {},
   "outputs": [],
   "source": []
  }
 ],
 "metadata": {
  "kernelspec": {
   "display_name": "Python 3",
   "language": "python",
   "name": "python3"
  },
  "language_info": {
   "codemirror_mode": {
    "name": "ipython",
    "version": 3
   },
   "file_extension": ".py",
   "mimetype": "text/x-python",
   "name": "python",
   "nbconvert_exporter": "python",
   "pygments_lexer": "ipython3",
   "version": "3.6.6"
  }
 },
 "nbformat": 4,
 "nbformat_minor": 2
}
