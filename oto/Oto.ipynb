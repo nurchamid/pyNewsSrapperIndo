{
 "cells": [
  {
   "cell_type": "code",
   "execution_count": 1,
   "metadata": {},
   "outputs": [],
   "source": [
    "from Oto import Oto #class news Scrapper\n",
    "from datetime import timedelta, date, datetime\n",
    "from IPython.display import clear_output"
   ]
  },
  {
   "cell_type": "code",
   "execution_count": 2,
   "metadata": {},
   "outputs": [],
   "source": [
    "obj = Oto()\n",
    "init_page = 1\n",
    "list_cat = [['berita-motor'],['berita-mobil']]\n",
    "init_cat = list_cat[0:]"
   ]
  },
  {
   "cell_type": "code",
   "execution_count": 3,
   "metadata": {
    "scrolled": false
   },
   "outputs": [
    {
     "name": "stdout",
     "output_type": "stream",
     "text": [
      "berita-motor\n",
      "page  1\n",
      "https://www.oto.com/berita-motor?page=1\n",
      "Insert berita  Spesifikasi Lengkap Benelli Motobi 200 Evo, Gaya Retro Harga Terjangkau\n",
      "masuk\n",
      "Insert berita  Yamaha Vixion, R15 dan Aerox Pakai Livery MotoGP Terbaru!\n",
      "masuk\n",
      "Insert berita  Yamaha Cup Race Makassar Lebih Spesial, Ini Alasannya\n",
      "masuk\n",
      "Insert berita  Website Yamaha Kirim Sinyal Kelahiran R25 Terbaru!\n",
      "masuk\n",
      "Insert berita  Yamaha Fino Grande Kena Virus Merah Doff\n",
      "masuk\n",
      "Insert berita  Yamaha Tidak Takut dengan Laris Manisnya Honda Forza 250\n",
      "masuk\n",
      "Insert berita  Triumph Scrambler Terbaru, Istimewa Pakai Mesin 1200 cc\n",
      "masuk\n",
      "berita-mobil\n",
      "page  1\n",
      "https://www.oto.com/berita-mobil?page=1\n",
      "Insert berita  Honda HR-V 2019 Pakai Mesin Turbo!\n",
      "masuk\n"
     ]
    }
   ],
   "source": [
    "for cat in init_cat:\n",
    "    print(cat[0])\n",
    "    obj.getAllBerita([], init_page, cat[0])\n",
    "    init_page = 1\n",
    "init_cat = list_cat"
   ]
  },
  {
   "cell_type": "code",
   "execution_count": null,
   "metadata": {},
   "outputs": [],
   "source": []
  }
 ],
 "metadata": {
  "kernelspec": {
   "display_name": "Python 3",
   "language": "python",
   "name": "python3"
  },
  "language_info": {
   "codemirror_mode": {
    "name": "ipython",
    "version": 3
   },
   "file_extension": ".py",
   "mimetype": "text/x-python",
   "name": "python",
   "nbconvert_exporter": "python",
   "pygments_lexer": "ipython3",
   "version": "3.6.4"
  }
 },
 "nbformat": 4,
 "nbformat_minor": 2
}
