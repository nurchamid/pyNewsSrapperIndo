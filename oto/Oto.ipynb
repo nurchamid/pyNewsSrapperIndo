{
 "cells": [
  {
   "cell_type": "code",
   "execution_count": 1,
   "metadata": {},
   "outputs": [],
   "source": [
    "from Oto import Oto #class news Scrapper\n",
    "from datetime import timedelta, date, datetime\n",
    "from IPython.display import clear_output"
   ]
  },
  {
   "cell_type": "code",
   "execution_count": 2,
   "metadata": {},
   "outputs": [],
   "source": [
    "obj = Oto()\n",
    "init_page = 1\n",
    "list_cat = [['berita-motor'],['berita-mobil']]\n",
    "init_cat = list_cat[1:]"
   ]
  },
  {
   "cell_type": "code",
   "execution_count": 3,
   "metadata": {
    "scrolled": false
   },
   "outputs": [
    {
     "name": "stdout",
     "output_type": "stream",
     "text": [
      "berita-mobil\n",
      "page  1\n",
      "https://www.oto.com/berita-mobil?page=1\n",
      "Insert berita  Jaguar Land Rover Siapkan Platform dan Sejumlah Mobil Baru\n",
      "masuk\n",
      "Insert berita  GIIAS 2018: BMW Group Indonesia Pecahkan Rekor\n",
      "masuk\n",
      "Insert berita  BMW 3-Series Terbaru Bakal Lebih Mengasyikkan Dikendarai\n",
      "masuk\n",
      "Insert berita  Apakah Mitsubishi Mirage Akan Disuntik Mati Seperti Delica?\n",
      "masuk\n",
      "Insert berita  Laris di GIIAS 2018, Lexus Kehabisan Stok\n",
      "masuk\n",
      "Insert berita  Pelumas Shell Mendapat Sertifikat SNI dan TKDN\n",
      "masuk\n",
      "Insert berita  Fuzz Townshend Ditunjuk Sebagai Brand Ambassador SsangYong Inggris\n",
      "masuk\n",
      "Insert berita  Mitsubishi Tuban, Diler Pertama dengan Konsep Baru\n",
      "masuk\n",
      "Insert berita  Toyota dan Isuzu Resmi Bercerai, Apa Sebabnya?\n",
      "masuk\n",
      "Insert berita  Chevrolet Trax 2020 Tertangkap Kamera Saat Pengujian\n",
      "masuk\n"
     ]
    }
   ],
   "source": [
    "for cat in init_cat:\n",
    "    print(cat[0])\n",
    "    obj.getAllBerita([], init_page, cat[0])\n",
    "    init_page = 1\n",
    "init_cat = list_cat"
   ]
  },
  {
   "cell_type": "code",
   "execution_count": null,
   "metadata": {},
   "outputs": [],
   "source": []
  }
 ],
 "metadata": {
  "kernelspec": {
   "display_name": "Python 3",
   "language": "python",
   "name": "python3"
  },
  "language_info": {
   "codemirror_mode": {
    "name": "ipython",
    "version": 3
   },
   "file_extension": ".py",
   "mimetype": "text/x-python",
   "name": "python",
   "nbconvert_exporter": "python",
   "pygments_lexer": "ipython3",
   "version": "3.6.4"
  }
 },
 "nbformat": 4,
 "nbformat_minor": 2
}
