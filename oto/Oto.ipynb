{
 "cells": [
  {
   "cell_type": "code",
   "execution_count": 1,
   "metadata": {},
   "outputs": [],
   "source": [
    "from Oto import Oto #class news Scrapper\n",
    "import mysql.connector"
   ]
  },
  {
   "cell_type": "code",
   "execution_count": 2,
   "metadata": {},
   "outputs": [],
   "source": [
    "obj = Oto()"
   ]
  },
  {
   "cell_type": "code",
   "execution_count": 3,
   "metadata": {},
   "outputs": [
    {
     "name": "stdout",
     "output_type": "stream",
     "text": [
      "page  1\n",
      "https://www.oto.com/berita-motor?page1\n"
     ]
    }
   ],
   "source": [
    "links = obj.getAllBerita([], 1, 'berita-motor')"
   ]
  },
  {
   "cell_type": "code",
   "execution_count": 4,
   "metadata": {},
   "outputs": [
    {
     "data": {
      "text/plain": [
       "[{'author': 'Baghendra Lodra',\n",
       "  'category': 'Otomotif',\n",
       "  'comments': 0,\n",
       "  'content': 'Ducati sungguh luar biasa di Brno. Kedua pembalapnya sukses finish posisi terbaik. Andrea Dovizioso pertama dan Jorge Lorenzo kedua. Kesuksesan ini semakin istimewa karena sebelumnya, GP Brno dikenal sebagai malapetaka buat Ducati. Sudah delapan tahun mereka puasa gelar, terakhir Casey Stoner yang naik podium pada 2010.  Dovizioso memang sudah menunjukkan hasil baik sejak latihan, yang kemudian didukung pole position. Meski begitu, pembalap asal Italia itu bukan menang dengan mulus ketika race. Dia harus menghadapi Valentino Rossi (Movistar Yamaha) yang sempat merangsek ke depan pada lap-lap awal. Serta meladeni jual beli serangan dari Lorenzo dan Marc Marquez (Repsol Honda). \"Ini kemenangan luar biasa! Sebelumnya saya merasa yakin bisa melakukan yang terbaik, tapi tidak berharap kemenangannya sehebat ini. Saya sangat cepat di sesi pertama (latihan), lalu kualifikasi begitu istimewa (pole position), hari ini saya punya staregi tepat dan sangat senang dengan semuanya,\" ujar Dovizioso seperti dikutip laman resmi Ducati. Sementara Rossi yang sempat memberi perlawanan, akhirnya harus puas finish di posisi empat. Taringnya hilang di lap-lap akhir karena masalah keausan ban. Lorenzo justru yang mengejutkan. Memulai dari peringkat empat, dia bisa bertarung dengan baik untuk finish kedua. X-Fuera sungguh jadi karakter yang berbeda di GP Brno. Kerap kali menyerang lawan dengan gaya agresif, bahkan beberapa kali mencoba peruntungan menyalip Dovizioso menjelang akhir balapan. Sayangnya tidak berhasil. \"Kami sangat senang, karena tidak seperti rival, kami tidak dapat kesempatan menguji motor di Brno, maka finish urutan pertama dan kedua itu hasil yang luar biasa. Saya yakin ini bukti nyata kami telah memberi para pembalap motor yang kompetitif,\" kata Ducati Corse General Manager, Luigi Dall\\'lgna. Pria berkumis itu berharap di balapan selanjutnya, hasil baik bisa terus menaungi Ducati. Tentu juara dunia tetap jadi target mereka untuk MotoGP musim ini. Hanya saja memang tidak mudah. Apalagi melihat Marquez finish posisi tiga. Walau tidak juara satu, setidaknya pembalap spanyol itu mampu bertahan sebagai pemimpin klasemen dengan total 181 poin. Dia menciptakan gap yang cukup jauh ke pembalap lain. Termasuk Dovizioso yang cuma masuk di peringkat tiga lewat total 113 poin. Jorge Lorenzo posisi lima, 105 poin. Penantang terdekat Marquez adalah Rossi yang berbeda 49 poin. (Lod/Odi) Berikut 10 Besar Klasemen Sementara MotoGP 2018, setelah GP Brno:  Marc Marquez (Repsol Honda) 181 Poin Valentino Rossi (Movistar Yamaha) 132 Poin Andrea Dovizioso (Ducati) 113 Poin Maverick Vinales (Movistar Yamaha) 109 Poin Jorge Lorenzo (Ducati) 105 Poin Johann Zarco (Yamaha Tech 3) 97 Poin Danillo Petruci (Alma Pramac) 94 Poin Cal Crutchlow (LCR Honda) 90 Poin Andrea Iannone (Suzuki Ecstar) 81 Poin Jack Miller (Alma Pramac) 61 Poin                                                                               ',\n",
       "  'id': 12775,\n",
       "  'image': 'https://imgbn.carbay.com/bikeBlog/wp-content/uploads/2018/08/06084807/734848.jpg',\n",
       "  'pubdate': '2018-08-06 08:49:30',\n",
       "  'source': 'oto.com',\n",
       "  'subcategory': 'MotoGP',\n",
       "  'tags': 'Dovizioso,GP Brno,Jorge Lorenzo,MotoGP,motogp 2018,Valentino Rossi',\n",
       "  'title': 'MotoGP: Ducati Menggila, Andrea Dovizioso Juara di Brno',\n",
       "  'url': 'https://www.oto.com/berita-motor/motogp-ducati-menggila-andrea-dovizioso-juara-di-brno-21112775'},\n",
       " {'author': 'Baghendra Lodra',\n",
       "  'category': 'Otomotif',\n",
       "  'comments': 0,\n",
       "  'content': 'Terhitung delapan motor lahir di GIIAS 2018. Ada yang berjenis skutik, cruiser, sampai adventure. Brandnya bukan cuma Jepang, Eropa bahkan Indonesia. Simak bahasan berikut: 1. Honda Super Cub C125  \\xa0  Super Cub C125 tampilannya begitu memikat. Sekilas persis Honda bebek zaman dulu. Lampu depan bulat, stang berbentuk sayap burung dan bodi tanpa sudut jadi ciri khas. Pemilihan warnanya juga tidak kalah istimewa. Bodi dicat biru dan putih, sementara jok tampil mentereng dengan balutan merah. Meski retro tapi Honda sudah membekali C125 dengan fitur modern berlimpah. Ada sistem pencahayaan LED, remote pintar dengan answer back system dan alarm, bahkan panel instrumen kombinasi analog serta digital. Menggendong mesin berkapasitas 125 cc dengan sistem penyemprotan bahan bakar injeksi. Honda Super Cub C125 produksi Thailand ini dijual Rp 55 juta (OTR Jakarta). 2. Suzuki GSX150 Bandit  \\xa0 Ada konsumen yang kurang puas dengan sosok GSX-S150 sebagai motor naked sport. Suzuki kemudian menerima masukan mereka, menggodoknya kembali dan melahirkan GSX150 Bandit. Ada beberapa bagian direvisi, misal, desain lampu depan dan belakang yang justru kini mengadopsi dari Satria F150. Jok juga dibuat tandem agar nyaman berboncengan. Suzuki mengklaim dengan penyegaran itu, GSX150 Bandit tampil sebagai motor yang berbeda dari GSX-S150. Bandit dijanjikan lebih nyaman ditunggangi berdua, segmentasinya juga untuk konsumen lebih dewasa. Sayang, untuk harga belum ada informasi resmi. Di GIIAS 2018, Suzuki cuma memperkenalkannya. 3. Benelli Motobi 200 Evo  Sebagai brand Italia yang kurang terdengar namanya, Benelli cukup agresif di pasar otomotif tanah air pada tahun ini. Mereka meluncurkan cruiser retro, Motobi 200 Evo di GIIAS 2018. Padahal sebelumnya di Jakarta Fair Kemayoran (JFK), produk retro lain bergaya cafe racer sudah dilahirkan: Motobi 152. Motobi 200 Evo istimewa karena meski tampilannya retro, tapi punya berbagai fitur modern. Panel instrumen sudah digital, cakram tersemat di kedua roda, serta suspensi belakang jenis tabung. Jantung mekanis motor anyar Benelli ini berkapasitas 197 cc. Harganya Rp 30,8 juta (OTR jakarta). 4. KTM RC200  Motor Sport full fairing ini tampil beda dengan pilihan warna baru yang lebih eksklusif, hitam. Meski begitu, tidak lantas seluruh tubuhnya dicat hitam. KTM masih menyisakan ruang untuk kelir oranye di beberapa sisi, selaku warna khas pabrikan Austria. Soal spesifikasi, KTM RC200 tidak ada yang berubah. Masih mengandalkan mesin 199,5 cc satu silinder berpendingin cairan. Jantung mekanis ini bisa mengeluarkan tenaga maksimal 25,8 PS. Bila Anda tertarik, harganya RP 43,5 juta (OTR Jakarta). 5. BMW F850GS  Buat Anda yang berpikir R1200GS terlalu besar dan kemahalan, maka F850GS bisa jadi alternatif. Motor adventure anyar ini punya desain tubuh ramping serta jauh lebih ringan. Kemudian kapasitas mesin cuma 853 cc. Harga Rp 549 juta (OTR Jakarta). F850GS pun menurunkan berbagai fitur milik R1200GS yang meningkatkan rasa percaya diri ketika bertualang. Sebut saja anti-lock braking system (ABS) Pro, DTC PPro, Dynamic ESA, Anti-hoping Clutch serta Shift Assist Pro. Ada pula lima mode berkendara: rain, road, dynamic, enduro dan enduro pro. Tidak terlewat, panel instrumen TFT yang mampu terintegrasi smartphone. 6. Honda CRF1000L Africa Twin Adventure Sport  Varian terbaru dari Honda CRF1000L Africa Twin ini diklaim lebih pas untuk melewati berbagai jalan non aspal. Terutama karena kemunculan fitur tambahan, seperti bodi protector yang berbentuk besi melingkar untuk melindungi fairing dan lampu. Ada pula skid plate sebagai pelindung mesin bagian bawah. Tangki bahan bakar ukurannya diperbesar jadi 24,2 liter. Suspensi depan juga dibuat lebih jenjang. Tidak ketinggalan panel instrumen sudah LCD yang bisa memberi berbagai informasi penting soal berkendara. Mulai dari speedometer, tripmeter, rata-rata konsumsi bahan bakar, sisa bahan bakar, takometer, suhu mesin. Fungsi peranti elektronik juga dapat dipantau dari panel ini. Harga Honda CRF1000L Africa Twin Adventure Sport Rp 585 juta (OTR Jakarta) dengan transmisi DCT. 7. Viar Vintech  Viar dikenal sebagai brand motor roda tiga yang melebarkan sayap ke kendaraan elektrik. Di GIIAS 2018, mereka menambah produk lain sebagai portofolio untuk pasar retro: ViarVintech. Motor ini terdiri dari dua pilihan mesin, 200 cc dan 250 cc. Dari sisi tampilan mirip, sama-sama telanjang. Bedanya Vintech 200 dibalut warna hitam secara keseluruhan serta teknologinya masih sederhana. Panel instrumen analog, sistem pencahayaan belum LED, rem belakang masih teromol dan lain-lain. Sementara fitur Vintech 250 lebih modern. Suspensi depan pakai upside down dan belakang jenis tabung. Panel instrumen sudah full digital. Sistem pencahayaan mengadopsi LED. Tampilannya pun dibuat lebih berwarna lewat penggunaan jok warna coklat dan bodi berkelir merah. Keduanya belum dijual secara resmi. Viar cuma memberi kisaran harganya Rp 22 juta untuk Fintech 200 dan Rp 29 juta bagi Vintech 250. Bila penasaran soal performa, Anda bisa langsung menjajal di booth test ride GIIAS 2018. 8. Honda Forza 250  \\xa0 Satu-satunya skutik yang meluncur adalah Forza 250. Lawan Yamaha Xmax 250 ini, punya banderol mencapai Rp 70 jutaan. Jauh lebih mahal dari skutik garputala. Meski begitu motor milik pabrikan berlambang sayap bukan tanpa keunggulan. Forza 250 tampil lebih mewah dibanding Xmax 250 terutama lewat kemunculan aksen krom di sekujur tubuh, termasuk knalpot. Kemudian bodinya yang lebih kompak, harusnya lebih asyik diajak selap-selip di jalan ibu kota. Forza juga memiliki jok lebih rendah dan fitur elektrik windshield.                                                                             ',\n",
       "  'id': 12727,\n",
       "  'image': 'https://imgbn.carbay.com/bikeBlog/wp-content/uploads/2018/08/06071722/GIIAS2018_Honda_Super_Cub_C125-2-002.jpg',\n",
       "  'pubdate': '2018-08-05 11:17:18',\n",
       "  'source': 'oto.com',\n",
       "  'subcategory': 'News',\n",
       "  'tags': 'Africa twin,F850GS,giias,giias 2018,Honda,honda forza,Honda Forza 250',\n",
       "  'title': 'GIIAS 2018: Delapan Motor Baru Meluncur',\n",
       "  'url': 'https://www.oto.com/berita-motor/giias-2018-delapan-motor-baru-meluncur-21112727'},\n",
       " {'author': 'Baghendra Lodra',\n",
       "  'category': 'Otomotif',\n",
       "  'comments': 0,\n",
       "  'content': 'Bila Anda datang ke booth Viar, ada yang unik. Mereka memamerkan dua motor anyar: Vintech 200 dan 250. Sekilas desainnya mirip motor retro, Kawasaki W175. Maklum, Viar memang membuat Vintech untuk bertarung di kelas tersebut. Vintech unggul karena dibekali kapasitas mesin lebih besar. Pilihannya 200 cc dan 250 cc. Otomatis performanya semakin mantap dibanding Kawasaki W175. Khusus Vintech 200 mampu mengeluarkan torsi puncak 15 Nm pada 8.000 rpm dan tenaga maksimal 18,21 PS pada 9.000 rpm. Sementara Vintech 250, torsinya mencapai 18 Nm dan tenganya 20,39 PS.  \"Dari sisi mesin tidak usah khawatir karena basisnya Cross X (motor trail). Sudah teruji durabilitasnya,\" ujar Marketing Communication PT Triangle Motorindo, Frengky Osmond di GIIAS 2018, beberapa waktu lalu. Sistem penyemprotan konsumsi bahan bakar Vintech masih pakai karburator. Tangki bahan bakarnya sanggup menampung cukup banyak, maksimal 15 liter. Pelek menggunakan jenis jari-jari dengan ukuran ban besar berprofil klasik, 90/90-17 inci di depan dan 120/80-17 inci di belakang. Di samping mesin, beda Vintech 200 dengan kakaknya, terletak pada fitur. Motor ini masih menggunakan panel instrumen analog dan lampu depan bohlam. Cakram hanya tersemat di roda depan, roda belakang mengandalkan teromol.  Vintech 250 sudah lebih modern karena punya pencahyaaan LED, serta panel instrumen digital. Bukan cuma itu, suspensi depan upside down dan belakang jenis tabung, sengaja dihadirkan untuk mendapat kestabilan berkendara lebih baik di kecepatan tinggi. Dari sisi tampilan, Vintech 200 tampak lebih istimewa dengan warna jok coklat dan bodi merah hati. Harga kisaran Viar Vintech 200 Rp 22 juta. Sementara untuk Vintech 250 Rp 29 juta. \"Keduanya hadir karena kami memperoleh permintaan dari komunitas dan teman-teman Viar. Harga resminya belum ada, tapi bagi yang tertarik bisa mendaftar langsung ke sales. Paling lambat awal tahun depan, motornya sudah bisa dikirim ke konsumen,\" jelas Frengky. Selain Vintech, Viar juga memboyong tiga motor elektrik di GIIAS 2018: Q1, E-Cross dan Pulse. Hanya saja, untuk Pulse dan E-Cross, belum dipasarkan karena masih dalam pengembangan lebih lanjut.                                                                             ',\n",
       "  'id': 12722,\n",
       "  'image': 'https://imgbn.carbay.com/bikeBlog/wp-content/uploads/2018/08/05100558/IMG20180803191254.jpg',\n",
       "  'pubdate': '2018-08-05 10:10:26',\n",
       "  'source': 'oto.com',\n",
       "  'subcategory': 'Viar',\n",
       "  'tags': 'giias 2018,Triangle motorindo,Viar,Viar Fintech',\n",
       "  'title': 'GIIAS 2018: Viar Vintech Tantang Kawasaki W175 di Segmen Retro',\n",
       "  'url': 'https://www.oto.com/berita-motor/giias-2018-viar-vintech-tantang-kawasaki-w175-di-segmen-retro-21112722'}]"
      ]
     },
     "execution_count": 4,
     "metadata": {},
     "output_type": "execute_result"
    }
   ],
   "source": [
    "links"
   ]
  },
  {
   "cell_type": "code",
   "execution_count": null,
   "metadata": {},
   "outputs": [],
   "source": [
    "# detail"
   ]
  },
  {
   "cell_type": "code",
   "execution_count": null,
   "metadata": {},
   "outputs": [],
   "source": [
    "# con = mysql.connector.connect(user='root', password='',\n",
    "#                               host='192.168.43.93',\n",
    "#                               database='news_db')\n",
    "# cursor = con.cursor()"
   ]
  },
  {
   "cell_type": "code",
   "execution_count": null,
   "metadata": {},
   "outputs": [],
   "source": [
    "# for det in detail:\n",
    "#     add_article = (\"INSERT INTO article\"\n",
    "#               \"(post_id, author, pubdate, category, subcategory, content, comments, images, title, tags, url, source) \"\n",
    "#               \"VALUES (%(id)s, %(author)s, %(pubdate)s, %(category)s, %(subcategory)s, %(content)s, %(comments)s, %(images)s, %(title)s, %(tags)s, %(url)s, %(source)s)\")\n",
    "#     # Insert article\n",
    "#     cursor.execute(add_article, det)\n",
    "#     con.commit()\n",
    "\n",
    "# cursor.close()"
   ]
  },
  {
   "cell_type": "code",
   "execution_count": null,
   "metadata": {},
   "outputs": [],
   "source": [
    "import pandas as pd"
   ]
  },
  {
   "cell_type": "code",
   "execution_count": null,
   "metadata": {},
   "outputs": [],
   "source": [
    "df1 = pd.read_sql(\"Select * from article\", con)"
   ]
  },
  {
   "cell_type": "code",
   "execution_count": null,
   "metadata": {},
   "outputs": [],
   "source": [
    "df1"
   ]
  },
  {
   "cell_type": "code",
   "execution_count": null,
   "metadata": {},
   "outputs": [],
   "source": [
    "con.close()"
   ]
  },
  {
   "cell_type": "code",
   "execution_count": null,
   "metadata": {},
   "outputs": [],
   "source": [
    "from datetime import datetime, timedelta\n",
    "import locale\n",
    "locale.setlocale(locale.LC_ALL, 'ID')"
   ]
  },
  {
   "cell_type": "code",
   "execution_count": null,
   "metadata": {},
   "outputs": [],
   "source": [
    "yes = datetime.now() - timedelta(1)"
   ]
  },
  {
   "cell_type": "code",
   "execution_count": null,
   "metadata": {},
   "outputs": [],
   "source": [
    "datetime.strftime(yes, '%a %Y-%b-%d %H:%M:%S')"
   ]
  }
 ],
 "metadata": {
  "kernelspec": {
   "display_name": "Python 3",
   "language": "python",
   "name": "python3"
  },
  "language_info": {
   "codemirror_mode": {
    "name": "ipython",
    "version": 3
   },
   "file_extension": ".py",
   "mimetype": "text/x-python",
   "name": "python",
   "nbconvert_exporter": "python",
   "pygments_lexer": "ipython3",
   "version": "3.6.4"
  }
 },
 "nbformat": 4,
 "nbformat_minor": 2
}
