{
 "cells": [
  {
   "cell_type": "code",
   "execution_count": 36,
   "metadata": {},
   "outputs": [],
   "source": [
    "import requests\n",
    "from bs4 import BeautifulSoup\n",
    "from datetime import datetime, timedelta\n",
    "import locale\n",
    "locale.setlocale(locale.LC_ALL, 'ID')\n",
    "import re\n",
    "import pandas as pd\n",
    "from selenium import webdriver\n",
    "from selenium.webdriver.chrome.options import Options"
   ]
  },
  {
   "cell_type": "code",
   "execution_count": 26,
   "metadata": {},
   "outputs": [],
   "source": [
    "def getIndeksLink(links, page, cat_link, category, date=datetime.strftime(datetime.today(), '%m/%d/%Y')):\n",
    "    \"\"\"\n",
    "    Untuk mengambil seluruh url \n",
    "    link pada indeks category tertentu\n",
    "    date format : dd/mm/YYYY\n",
    "    \"\"\"\n",
    "    print(\"page \", page)\n",
    "    if cat_link == 'news':\n",
    "        url = \"https://\"+cat_link+\".detik.com/indeks/all/\"+str(page)+\"?date=\"+date\n",
    "    else :\n",
    "        url = \"https://\"+cat_link+\".detik.com/indeks/\"+str(page)+\"?date=\"+date\n",
    "    print(url)\n",
    "    # Make the request and create the response object: response\n",
    "    response = requests.get(url)\n",
    "    # Extract HTML texts contained in Response object: html\n",
    "    html = response.text\n",
    "    # Create a BeautifulSoup object from the HTML: soup\n",
    "    soup = BeautifulSoup(html, \"html5lib\")\n",
    "    contentDiv = soup.find('ul', attrs={'id':'indeks-container'})\n",
    "    indeks = contentDiv.findAll('article')\n",
    "    for post in indeks:\n",
    "        link = [post.find('a', href=True)['href'], category]\n",
    "        links.append(link)\n",
    "        \n",
    "    el_page = soup.find('div', class_=\"paging paging2\")\n",
    "    if el_page:\n",
    "        max_page = int(soup.find('div', class_=\"paging paging2\").findAll('a')[-2].text.replace('\\n', '').strip(' '))\n",
    "    \n",
    "        if page < max_page:\n",
    "            links = getIndeksLink(links, page+1, cat_link, category, date)\n",
    "        \n",
    "    return links"
   ]
  },
  {
   "cell_type": "code",
   "execution_count": 27,
   "metadata": {},
   "outputs": [],
   "source": [
    "def getDetailBerita(links):\n",
    "    all_articles = []\n",
    "    for link in links:\n",
    "        articles = {}\n",
    "        #link\n",
    "        url = link[0]\n",
    "        response = requests.get(url)\n",
    "        html = response.text\n",
    "        # Create a BeautifulSoup object from the HTML: soup\n",
    "        soup = BeautifulSoup(html, \"html5lib\")\n",
    "        \n",
    "        #extract subcategory from breadcrumb\n",
    "        bc = soup.find('div', class_=\"breadcrumb\")\n",
    "        if not bc:\n",
    "            continue\n",
    "        \n",
    "        sub = bc.findAll('a')[1].text\n",
    "        if (\"foto\" in sub.lower()) or  \"video\" in sub.lower(): \n",
    "            continue\n",
    "            \n",
    "        articles['subcategory'] = sub\n",
    "        \n",
    "        articles['id'] = int(soup.find(\"meta\", attrs={'name':'articleid'})['content'])\n",
    "        #category\n",
    "        articles['category'] = link[1]\n",
    "        articles['url'] = url\n",
    "        \n",
    "        article = soup.find('article')\n",
    "        \n",
    "        #extract date\n",
    "        pubdate = soup.find(\"meta\", attrs={'name':'publishdate'})['content']\n",
    "        pubdate = pubdate.strip(' \\t\\n\\r')\n",
    "        articles['pubdate'] = datetime.strftime(datetime.strptime(pubdate, \"%Y/%m/%d %H:%M:%S\"), '%Y-%m-%d %H:%M:%S')\n",
    "        \n",
    "        #extract author\n",
    "        articles['author'] = soup.find(\"meta\", attrs={'name':'author'})['content']\n",
    "        \n",
    "        #extract title\n",
    "        articles['title'] = article.find('div', class_=\"jdl\").find('h1').text\n",
    "        \n",
    "        #source\n",
    "        articles['source'] = 'detik'\n",
    "        \n",
    "        #extract comments count\n",
    "        articles['comments'] = int(soup.find('a', class_=\"komentar\").find('span').text.replace('Komentar', '').strip(' \\t\\n\\r'))\n",
    "        \n",
    "        #extract tags\n",
    "        tags = article.find('div', class_=\"detail_tag\").findAll('a')\n",
    "        articles['tags'] = ','.join([x.text for x in tags])\n",
    "        \n",
    "        #extract images\n",
    "        articles['images'] = article.find('div', class_=\"pic_artikel\").find('img')['src']\n",
    "        \n",
    "        #extract detail\n",
    "        detail = article.find('div', class_=\"detail_text\")\n",
    "        \n",
    "        #hapus link sisip\n",
    "        for link in detail.findAll('table', class_=\"linksisip\"):\n",
    "            link.decompose()\n",
    "        \n",
    "        #hapus video sisip\n",
    "        for tag in detail.findAll('div', class_=\"sisip_embed_sosmed\"):\n",
    "            tag.decompose()\n",
    "            \n",
    "        #hapus all setelah clear fix\n",
    "        for det in detail.find('div', class_=\"clearfix mb20\").findAllNext():\n",
    "            det.decompose()\n",
    "            \n",
    "        #hapus all script\n",
    "        for script in detail.findAll('script'):\n",
    "            script.decompose()\n",
    "        \n",
    "        #extract content\n",
    "        detail = BeautifulSoup(detail.decode_contents().replace('<br/>', ' '), \"html5lib\")\n",
    "        content = re.sub(r'\\n|\\t|\\b|\\r','',detail.text)\n",
    "        articles['content'] = re.sub(r'(Tonton juga).*','', content)\n",
    "        print('memasukkan berita id ', articles['id'])\n",
    "        all_articles.append(articles)\n",
    "    return all_articles"
   ]
  },
  {
   "cell_type": "code",
   "execution_count": 40,
   "metadata": {},
   "outputs": [],
   "source": [
    "# links = getIndeksLink([], 1, 'news', 'news')"
   ]
  },
  {
   "cell_type": "code",
   "execution_count": 29,
   "metadata": {},
   "outputs": [
    {
     "name": "stdout",
     "output_type": "stream",
     "text": [
      "memasukkan berita id  4138819\n",
      "memasukkan berita id  4138815\n",
      "memasukkan berita id  4138816\n"
     ]
    }
   ],
   "source": [
    "detail = getDetailBerita(links[10:13])"
   ]
  },
  {
   "cell_type": "code",
   "execution_count": 31,
   "metadata": {},
   "outputs": [
    {
     "data": {
      "text/plain": [
       "[{'author': 'Faiq Hidayat',\n",
       "  'category': 'news',\n",
       "  'comments': 0,\n",
       "  'content': 'Jakarta -Gempa bumi berkekuatan 5,0 skala richter menguncang Lombok Utara, Nusa Tenggara Barat. Gempa itu tidak menimbulkan potensi tsunami.  Dilihat detikcom dari situs Badan Meteorologi, Klimatologi dan Geofisika (BMKG), Minggu (29/7/2018), gempa terjadi sekitar pukul 06.15 WIB.    Pusat gempa berada di laut tepatnya 37 km timur laut Lombok Utara. Kedalaman gempa mencapai 10 km.  Lokasi tepatnya berada di 8.16 LS - 116.54 BT. Belum diketahui ada atau tidaknya kerusakan akibat gempa ini.               (fai/haf)                                                            ',\n",
       "  'id': 4138819,\n",
       "  'images': 'https://akcdn.detik.net.id/community/media/visual/2015/07/10/ceaea5cf-a1ca-4de1-8dd0-96092a0fc333_169.jpg?w=780&q=90',\n",
       "  'pubdate': '2018-07-29 06:33:50',\n",
       "  'source': 'detik',\n",
       "  'subcategory': 'Berita',\n",
       "  'tags': 'gempa bumi,gempa',\n",
       "  'title': 'Gempa 5,0 SR Guncang Lombok Utara',\n",
       "  'url': 'https://news.detik.com/berita/d-4138819/gempa-50-sr-guncang-lombok-utara'},\n",
       " {'author': 'Haris Fadhil',\n",
       "  'category': 'news',\n",
       "  'comments': 0,\n",
       "  'content': 'Jakarta -Penyidik KPK Novel Baswedan kembali bertugas setelah melewati 16 bulan masa perawatan akibat teror air keras. Apa yang dilakukan Novel saat hari pertama dirinya kembali ngantor di KPK?  \"Bang Novel tentu saja kemarin sudah duduk di meja kerjanya yang dulu ya, yang 16 bulan tidak pernah diduduki dan dibiarkan kosong. Yaitu tempat duduk Kasatgas penyidikan yang diemban olehnya,\" kata Ketua Wadah Pegawai KPK Yudi Purnomo Harahap kepada detikcom, Sabtu (28/7/2018) malam.   Dia mengatakan Novel memanfaatkan hari pertamanya dengan bersilaturahmi ke rekan-rekannya sesama pegawai KPK. Yudi menyebut Novel juga bertemu dengan atasannya secara struktural yaitu Direktur Penyidikan, Brigjen Aris Budiman dan Deputi Bidang Penindakan, Irjen Firli.  \"Sepengetahuan saya, silaturahmi dengan kawan-kawan penyidik yang saat itu ada di ruang kerja penyidik kemudian Bang Novel juga sempat ke tempat kerja teman-teman jaksa penuntut umum. Novel juga sudah bertemu dengan atasannya secara struktural, yaitu Aris Budiman selaku Direktur Penyidikan dan Firli selaku Deputi Penindakan,\" ucapnya.  Meski demikian, Yudi tak tahu apakah Novel langsung membahas perkembangan kasus pada Satgas yang dipimpinnya. Dia menyatakan pembahasan kasus hanya boleh diketahui Satgas terkait.  \"Untuk kegiatan di Satgasnya, apakah Novel Baswedan langsung membicarakan perkembangan kasus yang ditangani olehnya saya tidak mengetahuinya. Karena memang di KPK hanya Satgas penyidikan terkait yang diperbolehkan mengetahui materi penyidikan,\" tuturnya.   Yudi menyatakan Novel melanjutkan silaturahmi usai salat berjemaah di Masjid KPK. Ia mengatakan silaturahmi itu dilakukan Novel kepada para pegawai di kedeputian lainnya setelah 16 bulan tak berjumpa.  Sebelumnya, Novel kembali masuk kerja pada Jumat (27/7) kemarin. Dia disambut pimpinan, eks pimpinan dan para pegawai KPK.  Novel mengalami teror penyiraman air keras pada 11 April 2017 seusai salat subuh di masjid yang tak jauh dari rumahnya. Beberapa kali koordinasi dilakukan KPK bersama Polri, tapi pelaku penyerangan Novel belum juga ditemukan.             (haf/haf)                                                            ',\n",
       "  'id': 4138815,\n",
       "  'images': 'https://akcdn.detik.net.id/community/media/visual/2018/07/27/93c9dd75-3489-4f49-bcdf-cbab48d508a3.jpeg?w=780&q=90',\n",
       "  'pubdate': '2018-07-29 06:20:39',\n",
       "  'source': 'detik',\n",
       "  'subcategory': 'Berita',\n",
       "  'tags': 'novel baswedan,kpk',\n",
       "  'title': 'Ini yang Dilakukan Novel Baswedan saat Kembali Ngantor di KPK',\n",
       "  'url': 'https://news.detik.com/berita/d-4138815/ini-yang-dilakukan-novel-baswedan-saat-kembali-ngantor-di-kpk'},\n",
       " {'author': 'Faiq Hidayat',\n",
       "  'category': 'news',\n",
       "  'comments': 0,\n",
       "  'content': ' Kecelakaan mobi di Tol Pejompongan (Foto: Dok. Twitter TMC Polda Metro Jaya)Jakarta -Tiga mobil mengalami kecelakaan di KM 9,600 Tol Pejompongan arah Tomang, Jakarta Barat pada pagi ini. Ketiga mobil itu terlihat remuk di beberapa sisi.  \"Iya memang betul informasi ada kecelakaan di KM 9.600 Tol Pejompongan,\" ucap petugas call center NTMC Polri, Lisa ketika dikonfirmasi, Minggu (29/7/2018).    Kecelakaan mobil di Tol Pejompongan Foto: Dok. Twitter TMC Polda Metro Jaya   Peristiwa kecelakaan itu terjadi sekitar pukul 05.40 WIB. Lisa mengaku belum mengetahui penyebab kecelakaan mobil itu.   Adapun mobil itu yakni BMW bernopol D 1184 LY, BMW bernopol B 1689 BG dan Honda Jazz bernopol B 45 SAL.  Saat ini petugas polisi sedang menangani kecelakaan tersebut. Belum diketahui ada tidaknya korban dalam kecelakaan itu.  [Gambas:Twitter]             (fai/haf)                                                            ',\n",
       "  'id': 4138816,\n",
       "  'images': 'https://akcdn.detik.net.id/community/media/visual/2018/07/29/5f70ceea-016f-40fc-b9c6-ac66756219e7.jpeg?w=780&q=90',\n",
       "  'pubdate': '2018-07-29 06:17:49',\n",
       "  'source': 'detik',\n",
       "  'subcategory': 'Berita',\n",
       "  'tags': 'kecelakaan,kecelakaan mobil',\n",
       "  'title': 'Tiga Mobil Remuk Akibat Kecelakaan di Tol Pejompongan Jakbar',\n",
       "  'url': 'https://news.detik.com/berita/d-4138816/tiga-mobil-remuk-akibat-kecelakaan-di-tol-pejompongan-jakbar'}]"
      ]
     },
     "execution_count": 31,
     "metadata": {},
     "output_type": "execute_result"
    }
   ],
   "source": [
    "detail"
   ]
  },
  {
   "cell_type": "code",
   "execution_count": 32,
   "metadata": {},
   "outputs": [],
   "source": [
    "df = pd.DataFrame(detail)"
   ]
  },
  {
   "cell_type": "code",
   "execution_count": 33,
   "metadata": {},
   "outputs": [],
   "source": [
    "df.to_csv('tes.csv')"
   ]
  },
  {
   "cell_type": "code",
   "execution_count": 34,
   "metadata": {},
   "outputs": [
    {
     "data": {
      "text/html": [
       "<div>\n",
       "<style scoped>\n",
       "    .dataframe tbody tr th:only-of-type {\n",
       "        vertical-align: middle;\n",
       "    }\n",
       "\n",
       "    .dataframe tbody tr th {\n",
       "        vertical-align: top;\n",
       "    }\n",
       "\n",
       "    .dataframe thead th {\n",
       "        text-align: right;\n",
       "    }\n",
       "</style>\n",
       "<table border=\"1\" class=\"dataframe\">\n",
       "  <thead>\n",
       "    <tr style=\"text-align: right;\">\n",
       "      <th></th>\n",
       "      <th>author</th>\n",
       "      <th>category</th>\n",
       "      <th>comments</th>\n",
       "      <th>content</th>\n",
       "      <th>id</th>\n",
       "      <th>images</th>\n",
       "      <th>pubdate</th>\n",
       "      <th>source</th>\n",
       "      <th>subcategory</th>\n",
       "      <th>tags</th>\n",
       "      <th>title</th>\n",
       "      <th>url</th>\n",
       "    </tr>\n",
       "  </thead>\n",
       "  <tbody>\n",
       "    <tr>\n",
       "      <th>0</th>\n",
       "      <td>Faiq Hidayat</td>\n",
       "      <td>news</td>\n",
       "      <td>0</td>\n",
       "      <td>Jakarta -Gempa bumi berkekuatan 5,0 skala rich...</td>\n",
       "      <td>4138819</td>\n",
       "      <td>https://akcdn.detik.net.id/community/media/vis...</td>\n",
       "      <td>2018-07-29 06:33:50</td>\n",
       "      <td>detik</td>\n",
       "      <td>Berita</td>\n",
       "      <td>gempa bumi,gempa</td>\n",
       "      <td>Gempa 5,0 SR Guncang Lombok Utara</td>\n",
       "      <td>https://news.detik.com/berita/d-4138819/gempa-...</td>\n",
       "    </tr>\n",
       "    <tr>\n",
       "      <th>1</th>\n",
       "      <td>Haris Fadhil</td>\n",
       "      <td>news</td>\n",
       "      <td>0</td>\n",
       "      <td>Jakarta -Penyidik KPK Novel Baswedan kembali b...</td>\n",
       "      <td>4138815</td>\n",
       "      <td>https://akcdn.detik.net.id/community/media/vis...</td>\n",
       "      <td>2018-07-29 06:20:39</td>\n",
       "      <td>detik</td>\n",
       "      <td>Berita</td>\n",
       "      <td>novel baswedan,kpk</td>\n",
       "      <td>Ini yang Dilakukan Novel Baswedan saat Kembali...</td>\n",
       "      <td>https://news.detik.com/berita/d-4138815/ini-ya...</td>\n",
       "    </tr>\n",
       "    <tr>\n",
       "      <th>2</th>\n",
       "      <td>Faiq Hidayat</td>\n",
       "      <td>news</td>\n",
       "      <td>0</td>\n",
       "      <td>Kecelakaan mobi di Tol Pejompongan (Foto: Dok...</td>\n",
       "      <td>4138816</td>\n",
       "      <td>https://akcdn.detik.net.id/community/media/vis...</td>\n",
       "      <td>2018-07-29 06:17:49</td>\n",
       "      <td>detik</td>\n",
       "      <td>Berita</td>\n",
       "      <td>kecelakaan,kecelakaan mobil</td>\n",
       "      <td>Tiga Mobil Remuk Akibat Kecelakaan di Tol Pejo...</td>\n",
       "      <td>https://news.detik.com/berita/d-4138816/tiga-m...</td>\n",
       "    </tr>\n",
       "  </tbody>\n",
       "</table>\n",
       "</div>"
      ],
      "text/plain": [
       "         author category  comments  \\\n",
       "0  Faiq Hidayat     news         0   \n",
       "1  Haris Fadhil     news         0   \n",
       "2  Faiq Hidayat     news         0   \n",
       "\n",
       "                                             content       id  \\\n",
       "0  Jakarta -Gempa bumi berkekuatan 5,0 skala rich...  4138819   \n",
       "1  Jakarta -Penyidik KPK Novel Baswedan kembali b...  4138815   \n",
       "2   Kecelakaan mobi di Tol Pejompongan (Foto: Dok...  4138816   \n",
       "\n",
       "                                              images              pubdate  \\\n",
       "0  https://akcdn.detik.net.id/community/media/vis...  2018-07-29 06:33:50   \n",
       "1  https://akcdn.detik.net.id/community/media/vis...  2018-07-29 06:20:39   \n",
       "2  https://akcdn.detik.net.id/community/media/vis...  2018-07-29 06:17:49   \n",
       "\n",
       "  source subcategory                         tags  \\\n",
       "0  detik      Berita             gempa bumi,gempa   \n",
       "1  detik      Berita           novel baswedan,kpk   \n",
       "2  detik      Berita  kecelakaan,kecelakaan mobil   \n",
       "\n",
       "                                               title  \\\n",
       "0                  Gempa 5,0 SR Guncang Lombok Utara   \n",
       "1  Ini yang Dilakukan Novel Baswedan saat Kembali...   \n",
       "2  Tiga Mobil Remuk Akibat Kecelakaan di Tol Pejo...   \n",
       "\n",
       "                                                 url  \n",
       "0  https://news.detik.com/berita/d-4138819/gempa-...  \n",
       "1  https://news.detik.com/berita/d-4138815/ini-ya...  \n",
       "2  https://news.detik.com/berita/d-4138816/tiga-m...  "
      ]
     },
     "execution_count": 34,
     "metadata": {},
     "output_type": "execute_result"
    }
   ],
   "source": [
    "df"
   ]
  },
  {
   "cell_type": "code",
   "execution_count": 4,
   "metadata": {},
   "outputs": [],
   "source": [
    "options = Options()\n",
    "options.add_argument('--headless')\n",
    "options.add_argument('--disable-gpu')  # Last I checked this was necessary.\n",
    "options.add_argument('--disable-extensions')\n",
    "# options.add_argument('--enable-javascript')\n",
    "\n",
    "driver = webdriver.Chrome(\"../chromedriver.exe\", chrome_options=options)"
   ]
  },
  {
   "cell_type": "code",
   "execution_count": 5,
   "metadata": {},
   "outputs": [],
   "source": [
    "driver.get(\"https://nasional.kompas.com/read/2018/07/27/12344561/adiknya-ditangkap-kpk-zulkifli-mohon-maaf\")\n",
    "html = driver.page_source"
   ]
  },
  {
   "cell_type": "code",
   "execution_count": 151,
   "metadata": {},
   "outputs": [],
   "source": [
    "soup = BeautifulSoup(html, 'html5lib')"
   ]
  },
  {
   "cell_type": "code",
   "execution_count": 152,
   "metadata": {},
   "outputs": [
    {
     "data": {
      "text/plain": [
       "<div class=\"span4 comments-count tright\" style=\"float:right;font-weight: bold;\">Ada 43 komentar untuk artikel ini</div>"
      ]
     },
     "execution_count": 152,
     "metadata": {},
     "output_type": "execute_result"
    }
   ],
   "source": [
    "soup.find('div', class_=\"span4 comments-count tright\")"
   ]
  },
  {
   "cell_type": "code",
   "execution_count": 16,
   "metadata": {},
   "outputs": [
    {
     "data": {
      "text/plain": [
       "<div class=\"paging paging2\">\n",
       "                            <a href=\"https://news.detik.com/indeks/all/?date=07/28/2018\">Â«</a>\n",
       "            \n",
       "            \n",
       "                            <a href=\"https://news.detik.com/indeks/all/1?date=07/28/2018\">1</a>\n",
       "                            <a class=\"selected\" href=\"https://news.detik.com/indeks/all/2?date=07/28/2018\">2</a>\n",
       "                            <a href=\"https://news.detik.com/indeks/all/3?date=07/28/2018\">3</a>\n",
       "                            <a href=\"https://news.detik.com/indeks/all/4?date=07/28/2018\">4</a>\n",
       "                            <a href=\"https://news.detik.com/indeks/all/5?date=07/28/2018\">5</a>\n",
       "            \n",
       "                                                <a class=\"range\">...</a>\n",
       "                                <a href=\"https://news.detik.com/indeks/all/11?date=07/28/2018\">11            \n",
       "                            </a><a href=\"https://news.detik.com/indeks/all/3?date=07/28/2018\">Â»</a>\n",
       "                    </div>"
      ]
     },
     "execution_count": 16,
     "metadata": {},
     "output_type": "execute_result"
    }
   ],
   "source": [
    "response = requests.get(url)\n",
    "html = response.text\n",
    "soup = BeautifulSoup(html, \"html5lib\")\n",
    "el_page = soup.find('div', class_=\"paging paging2\")\n",
    "el_page"
   ]
  },
  {
   "cell_type": "code",
   "execution_count": 41,
   "metadata": {},
   "outputs": [
    {
     "ename": "AttributeError",
     "evalue": "'list' object has no attribute 'findAll'",
     "output_type": "error",
     "traceback": [
      "\u001b[1;31m---------------------------------------------------------------------------\u001b[0m",
      "\u001b[1;31mAttributeError\u001b[0m                            Traceback (most recent call last)",
      "\u001b[1;32m<ipython-input-41-ed3d2a1f75fe>\u001b[0m in \u001b[0;36m<module>\u001b[1;34m()\u001b[0m\n\u001b[1;32m----> 1\u001b[1;33m \u001b[0mdetail\u001b[0m\u001b[1;33m.\u001b[0m\u001b[0mfindAll\u001b[0m\u001b[1;33m(\u001b[0m\u001b[1;34m'div'\u001b[0m\u001b[1;33m,\u001b[0m \u001b[0mclass_\u001b[0m\u001b[1;33m=\u001b[0m\u001b[1;34m\"sisip_embed_sosmed\"\u001b[0m\u001b[1;33m)\u001b[0m\u001b[1;33m\u001b[0m\u001b[0m\n\u001b[0m",
      "\u001b[1;31mAttributeError\u001b[0m: 'list' object has no attribute 'findAll'"
     ]
    }
   ],
   "source": [
    "detail.findAll('div', class_=\"sisip_embed_sosmed\")"
   ]
  },
  {
   "cell_type": "code",
   "execution_count": null,
   "metadata": {},
   "outputs": [],
   "source": []
  }
 ],
 "metadata": {
  "kernelspec": {
   "display_name": "Python 3",
   "language": "python",
   "name": "python3"
  },
  "language_info": {
   "codemirror_mode": {
    "name": "ipython",
    "version": 3
   },
   "file_extension": ".py",
   "mimetype": "text/x-python",
   "name": "python",
   "nbconvert_exporter": "python",
   "pygments_lexer": "ipython3",
   "version": "3.6.4"
  }
 },
 "nbformat": 4,
 "nbformat_minor": 2
}
