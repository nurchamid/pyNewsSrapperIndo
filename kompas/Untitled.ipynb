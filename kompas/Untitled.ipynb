{
 "cells": [
  {
   "cell_type": "code",
   "execution_count": 153,
   "metadata": {},
   "outputs": [],
   "source": [
    "import requests\n",
    "from bs4 import BeautifulSoup\n",
    "from datetime import datetime, timedelta\n",
    "import locale\n",
    "locale.setlocale(locale.LC_ALL, 'ID')\n",
    "import re\n",
    "import pandas as pd\n",
    "from selenium import webdriver\n",
    "from selenium.webdriver.chrome.options import Options\n",
    "import urllib\n",
    "from urllib.parse import urlparse, urljoin"
   ]
  },
  {
   "cell_type": "markdown",
   "metadata": {},
   "source": [
    "## GET INDEKS LINK"
   ]
  },
  {
   "cell_type": "code",
   "execution_count": null,
   "metadata": {},
   "outputs": [],
   "source": [
    "    el_page = soup.find('div', class_=\"paging__wrap clearfix\")\n",
    "    if el_page:\n",
    "        a_page = soup.find('div', class_=\"paging__wrap clearfix\").findAll('div', class_='paging__item')[-1].find('a')\n",
    "        if 'data-ci-pagination-page' not in a_page:\n",
    "            max_page = page\n",
    "        else:\n",
    "            max_page = int(a_page['data-ci-pagination-page'].replace('\\n', '').strip(' '))\n",
    "            \n",
    "        if page < max_page:\n",
    "            links = getIndeksLink(links, page+1, cat_link, category, date)\n",
    "        \n",
    "    return links"
   ]
  },
  {
   "cell_type": "code",
   "execution_count": 119,
   "metadata": {},
   "outputs": [],
   "source": [
    "response = requests.get(\"https://indeks.kompas.com/news/2018-07-28\")\n",
    "    # Extract HTML texts contained in Response object: html\n",
    "html = response.text\n",
    "    # Create a BeautifulSoup object from the HTML: soup\n",
    "soup = BeautifulSoup(html, \"html5lib\")"
   ]
  },
  {
   "cell_type": "code",
   "execution_count": 120,
   "metadata": {},
   "outputs": [
    {
     "data": {
      "text/plain": [
       "[<div class=\"paging__wrap clearfix\"><div class=\"paging__item\"><a class=\"paging__link paging__link--active\" href=\"#\">1</a></div><div class=\"paging__item\"><a class=\"paging__link\" data-ci-pagination-page=\"2\" href=\"http://indeks.kompas.com/news/2018-07-28/2\">2</a></div><div class=\"paging__item\"><a class=\"paging__link\" data-ci-pagination-page=\"3\" href=\"http://indeks.kompas.com/news/2018-07-28/3\">3</a></div><div class=\"paging__item\"><a class=\"paging__link paging__link--next\" data-ci-pagination-page=\"2\" href=\"http://indeks.kompas.com/news/2018-07-28/2\" rel=\"next\">Next</a></div><div class=\"paging__item\"><a class=\"paging__link paging__link--prev\" data-ci-pagination-page=\"7\" href=\"http://indeks.kompas.com/news/2018-07-28/7\">Last ›</a></div></div>]"
      ]
     },
     "execution_count": 120,
     "metadata": {},
     "output_type": "execute_result"
    }
   ],
   "source": [
    "el_page = soup.findAll('div', class_=\"paging__wrap clearfix\")\n",
    "el_page"
   ]
  },
  {
   "cell_type": "code",
   "execution_count": 121,
   "metadata": {},
   "outputs": [
    {
     "data": {
      "text/plain": [
       "[<div class=\"paging__item\"><a class=\"paging__link paging__link--active\" href=\"#\">1</a></div>,\n",
       " <div class=\"paging__item\"><a class=\"paging__link\" data-ci-pagination-page=\"2\" href=\"http://indeks.kompas.com/news/2018-07-28/2\">2</a></div>,\n",
       " <div class=\"paging__item\"><a class=\"paging__link\" data-ci-pagination-page=\"3\" href=\"http://indeks.kompas.com/news/2018-07-28/3\">3</a></div>,\n",
       " <div class=\"paging__item\"><a class=\"paging__link paging__link--next\" data-ci-pagination-page=\"2\" href=\"http://indeks.kompas.com/news/2018-07-28/2\" rel=\"next\">Next</a></div>,\n",
       " <div class=\"paging__item\"><a class=\"paging__link paging__link--prev\" data-ci-pagination-page=\"7\" href=\"http://indeks.kompas.com/news/2018-07-28/7\">Last ›</a></div>]"
      ]
     },
     "execution_count": 121,
     "metadata": {},
     "output_type": "execute_result"
    }
   ],
   "source": [
    "pages = soup.findAll('div', class_=\"paging__item\")\n",
    "pages\n",
    "# a"
   ]
  },
  {
   "cell_type": "code",
   "execution_count": 104,
   "metadata": {},
   "outputs": [
    {
     "data": {
      "text/plain": [
       "[]"
      ]
     },
     "execution_count": 104,
     "metadata": {},
     "output_type": "execute_result"
    }
   ],
   "source": [
    "for pages in soup.find('div', class_=\"paging__item\"):\n",
    "    page = el_page.a\n",
    "    print(page)"
   ]
  },
  {
   "cell_type": "code",
   "execution_count": 154,
   "metadata": {},
   "outputs": [],
   "source": [
    "def parseNextThemeUrl(url):\n",
    "    urls = []\n",
    "    urls.append(url)\n",
    "    html = urllib.request.urlopen(url)\n",
    "    soup = BeautifulSoup(html, 'html5lib')\n",
    "    new_page = soup.find('a', class_='paging__link paging__link--next')\n",
    "    if new_page:\n",
    "        new_url = urljoin(url, new_page.get('href'))\n",
    "        urls1 = parseNextThemeUrl(new_url)\n",
    "        for url1 in urls1:\n",
    "            urls.append(url1)\n",
    "        return urls"
   ]
  },
  {
   "cell_type": "code",
   "execution_count": null,
   "metadata": {},
   "outputs": [],
   "source": [
    "html = urllib.request.urlopen(\"https://indeks.kompas.com/news/2018-07-28\")\n",
    "new_page = soup.find('a', class_='paging__link paging__link--next')\n",
    "new_page"
   ]
  },
  {
   "cell_type": "code",
   "execution_count": 146,
   "metadata": {},
   "outputs": [
    {
     "ename": "NameError",
     "evalue": "name 'urljoin' is not defined",
     "output_type": "error",
     "traceback": [
      "\u001b[1;31m---------------------------------------------------------------------------\u001b[0m",
      "\u001b[1;31mNameError\u001b[0m                                 Traceback (most recent call last)",
      "\u001b[1;32m<ipython-input-146-da5790bdfe37>\u001b[0m in \u001b[0;36m<module>\u001b[1;34m()\u001b[0m\n\u001b[0;32m      1\u001b[0m \u001b[1;32mif\u001b[0m \u001b[0mnew_page\u001b[0m\u001b[1;33m:\u001b[0m\u001b[1;33m\u001b[0m\u001b[0m\n\u001b[1;32m----> 2\u001b[1;33m     \u001b[0mnew_url\u001b[0m \u001b[1;33m=\u001b[0m \u001b[0murljoin\u001b[0m\u001b[1;33m(\u001b[0m\u001b[0murl\u001b[0m\u001b[1;33m,\u001b[0m \u001b[0mnew_page\u001b[0m\u001b[1;33m.\u001b[0m\u001b[0mget\u001b[0m\u001b[1;33m(\u001b[0m\u001b[1;34m'href'\u001b[0m\u001b[1;33m)\u001b[0m\u001b[1;33m)\u001b[0m\u001b[1;33m\u001b[0m\u001b[0m\n\u001b[0m\u001b[0;32m      3\u001b[0m     \u001b[0murls1\u001b[0m \u001b[1;33m=\u001b[0m \u001b[0mparseNextThemeUrl\u001b[0m\u001b[1;33m(\u001b[0m\u001b[0mnew_url\u001b[0m\u001b[1;33m)\u001b[0m\u001b[1;33m\u001b[0m\u001b[0m\n",
      "\u001b[1;31mNameError\u001b[0m: name 'urljoin' is not defined"
     ]
    }
   ],
   "source": [
    "if new_page:\n",
    "    new_url = urljoin(url, new_page.get('href'))\n",
    "    urls1 = parseNextThemeUrl(new_url)"
   ]
  },
  {
   "cell_type": "code",
   "execution_count": null,
   "metadata": {},
   "outputs": [],
   "source": [
    "parseNextThemeUrl(\"https://indeks.kompas.com/news/2018-07-28\")"
   ]
  },
  {
   "cell_type": "code",
   "execution_count": 60,
   "metadata": {},
   "outputs": [
    {
     "name": "stdout",
     "output_type": "stream",
     "text": [
      "['http://www.pour-les-personnes-agees.gouv.fr/annuaire-ehpad-en-hebergement-permanent/64/0?page=1', 'http://www.pour-les-personnes-agees.gouv.fr/annuaire-ehpad-en-hebergement-permanent/64/0?page=2', 'http://www.pour-les-personnes-agees.gouv.fr/annuaire-ehpad-en-hebergement-permanent/64/0?page=3', 'http://www.pour-les-personnes-agees.gouv.fr/annuaire-ehpad-en-hebergement-permanent/64/0?page=4', 'http://www.pour-les-personnes-agees.gouv.fr/annuaire-ehpad-en-hebergement-permanent/64/0?page=5', 'http://www.pour-les-personnes-agees.gouv.fr/annuaire-ehpad-en-hebergement-permanent/64/0?page=6', 'http://www.pour-les-personnes-agees.gouv.fr/annuaire-ehpad-en-hebergement-permanent/64/0?page=7', 'http://www.pour-les-personnes-agees.gouv.fr/annuaire-ehpad-en-hebergement-permanent/64/0?page=8', 'http://www.pour-les-personnes-agees.gouv.fr/annuaire-ehpad-en-hebergement-permanent/64/0?page=9', 'http://www.pour-les-personnes-agees.gouv.fr/annuaire-ehpad-en-hebergement-permanent/64/0?page=10', 'http://www.pour-les-personnes-agees.gouv.fr/annuaire-ehpad-en-hebergement-permanent/64/0?page=11']\n"
     ]
    }
   ],
   "source": [
    "url_pagination= \"http://www.pour-les-personnes-agees.gouv.fr/annuaire-ehpad-en-hebergement-permanent/64/0\"\n",
    "r = requests.get(url_pagination)\n",
    "soup = BeautifulSoup(r.content, \"html.parser\")\n",
    "\n",
    "page_url = \"http://www.pour-les-personnes-agees.gouv.fr/annuaire-ehpad-en-hebergement-permanent/64/0?page={}\"\n",
    "last_page = soup.find('ul', class_='pagination').find('li', class_='next').a['href'].split('=')[1]\n",
    "#last_page = soup.select_one('ul.pagination li.next a')['href'].split('=')[1] # with css selectors\n",
    "dept_page_url = [page_url.format(i) for i in range(1, int(last_page)+1)]\n",
    "\n",
    "print(dept_page_url)"
   ]
  },
  {
   "cell_type": "code",
   "execution_count": 63,
   "metadata": {},
   "outputs": [
    {
     "data": {
      "text/plain": [
       "<li class=\"next last\"><a href=\"/annuaire-ehpad-en-hebergement-permanent/64/0?page=11\" title=\"Aller à la dernière page\"><span class=\"element-invisible\">Aller à la dernière page</span></a></li>"
      ]
     },
     "execution_count": 63,
     "metadata": {},
     "output_type": "execute_result"
    }
   ],
   "source": [
    "soup.find('ul', class_='pagination').find('li', class_='next')"
   ]
  },
  {
   "cell_type": "code",
   "execution_count": 14,
   "metadata": {},
   "outputs": [],
   "source": [
    "def getIndeksLink(links, page, cat_link, category, date=datetime.strftime(datetime.today(), '%Y-%m-%d')):\n",
    "    \"\"\"\n",
    "    Untuk mengambil seluruh url \n",
    "    link pada indeks category tertentu\n",
    "    date format : YYYY-mm-dd\n",
    "    \"\"\"\n",
    "    print(\"page \", page)\n",
    "    if cat_link == 'otomotif':\n",
    "        url = \"https://indeks.kompas.com/\"+cat_link+\"/\"+date+\"/\"+str(page)\n",
    "    else :\n",
    "        url = \"https://indeks.kompas.com/\"+cat_link+\"/\"+date+\"/\"+str(page)\n",
    "    print(url)\n",
    "    # Make the request and create the response object: response\n",
    "    response = requests.get(url)\n",
    "    # Extract HTML texts contained in Response object: html\n",
    "    html = response.text\n",
    "    # Create a BeautifulSoup object from the HTML: soup\n",
    "    soup = BeautifulSoup(html, \"html5lib\")\n",
    "    contentDiv = soup.findAll('div', class_=\"latest--indeks mt2 clearfix\")\n",
    "    for post in contentDiv:\n",
    "        link = [post.find('a', href=True)['href'], category]\n",
    "        links.append(link)\n",
    "        \n",
    "    el_page = soup.find('div', class_=\"paging__wrap clearfix\")\n",
    "    if el_page:\n",
    "        a_page = soup.find('div', class_=\"paging__wrap clearfix\").findAll('div', class_='paging__item')[-1].find('a')\n",
    "        if 'data-ci-pagination-page' not in a_page:\n",
    "            max_page = page\n",
    "        else:\n",
    "            max_page = int(a_page['data-ci-pagination-page'].replace('\\n', '').strip(' '))\n",
    "            \n",
    "        if page < max_page:\n",
    "            links = getIndeksLink(links, page+1, cat_link, category, date)\n",
    "        \n",
    "    return links"
   ]
  },
  {
   "cell_type": "markdown",
   "metadata": {},
   "source": [
    "## GET DETAIL BERITA"
   ]
  },
  {
   "cell_type": "code",
   "execution_count": 15,
   "metadata": {},
   "outputs": [],
   "source": [
    "def getDetailBerita(links):\n",
    "    articles = {}\n",
    "    for link in links:\n",
    "        #link\n",
    "        articles['url'] = link[0]\n",
    "        response = requests.get(url)\n",
    "        html = response.text\n",
    "        # Create a BeautifulSoup object from the HTML: soup\n",
    "        soup = BeautifulSoup(html, \"html5lib\")\n",
    "        \n",
    "        #articleid\n",
    "        articles['id'] = int(soup.find(\"meta\", attrs={'name':'cXenseParse:articleid'})['content'])\n",
    "        \n",
    "        #category\n",
    "        articles['category'] = link[1]\n",
    "        \n",
    "        #extract subcategory from breadcrumb\n",
    "        bc = soup.find('ul', class_=\"breadcrumb__wrap\")\n",
    "        articles['subcategory'] = bc.findAll('li')[2].text\n",
    "        \n",
    "        #article\n",
    "        article = soup.find(\"div\", class_=\"read__content\")\n",
    "        \n",
    "        #extract date\n",
    "        pubdate = soup.find(\"meta\", attrs={\"name\":\"content_PublishedDate\"})['content']\n",
    "        pubdate = pubdate.strip(' \\t\\n\\r')\n",
    "        articles['pubdate']=datetime.strftime(datetime.strptime(pubdate, \"%Y-%m-%d %H:%M:%S\"), \"%Y-%m-%d %H:%M:%S\")\n",
    "        \n",
    "        #extract author\n",
    "        articles['author'] = soup.find('div', class_=\"read__author\").text\n",
    "        \n",
    "        #extract title\n",
    "        articles['title'] = soup.find('h1', class_=\"read__title\").text      \n",
    "\n",
    "        #source\n",
    "        articles['source'] = 'detik'\n",
    "        \n",
    "        #extract comments count\n",
    "        #articles['comments'] = int(soup.find('a', class_=\"komentar\").find('span').text.replace('Komentar', '').strip(' \\t\\n\\r'))\n",
    "        \n",
    "        #extract tags\n",
    "        tags = soup.find(\"meta\", attrs={'name':'content_tag'})['content']\n",
    "        articles['tags'] = ','.join([x.text for x in tags])\n",
    "        \n",
    "        #extract images\n",
    "        articles['images'] = soup.find('meta', attrs={'property':'og:image'})['content']\n",
    "        \n",
    "       \n",
    "        #hapus link sisip\n",
    "#         for link in detail.findAll('table', class_=\"linksisip\"):\n",
    "#             link.decompose()\n",
    "        \n",
    "        #hapus video sisip\n",
    "#         for tag in detail.findAll('div', class_=\"detail_tag\"):\n",
    "#             tag.decompose()\n",
    "        \n",
    "        #extract content\n",
    "        detail = BeautifulSoup(article.decode_contents().replace('<br/>', ' '), \"html5lib\")\n",
    "        content = re.sub(r'\\n|\\t|\\b|\\r','',detail.text)\n",
    "        articles['content'] = content\n",
    "        \n",
    "        return articles"
   ]
  },
  {
   "cell_type": "code",
   "execution_count": 17,
   "metadata": {},
   "outputs": [],
   "source": [
    "links = []"
   ]
  },
  {
   "cell_type": "code",
   "execution_count": 18,
   "metadata": {},
   "outputs": [
    {
     "name": "stdout",
     "output_type": "stream",
     "text": [
      "page  1\n",
      "https://indeks.kompas.com/otomotif/2018-07-28/1\n"
     ]
    }
   ],
   "source": [
    "detail = getIndeksLink(links, 1, 'otomotif', 'otomotif')"
   ]
  },
  {
   "cell_type": "code",
   "execution_count": 156,
   "metadata": {},
   "outputs": [],
   "source": [
    "response = requests.get(\"https://indeks.kompas.com/otomotif/2018-07-27/1\")\n",
    "    # Extract HTML texts contained in Response object: html\n",
    "html = response.text\n",
    "    # Create a BeautifulSoup object from the HTML: soup\n",
    "soup = BeautifulSoup(html, \"html5lib\")"
   ]
  },
  {
   "cell_type": "code",
   "execution_count": 20,
   "metadata": {},
   "outputs": [],
   "source": [
    "max_page = soup.find('div', class_=\"paging__wrap clearfix\").findAll('div', class_='paging__item')[-1].find('a')['data-ci-pagination-page'].replace('\\n', '').strip(' ')"
   ]
  },
  {
   "cell_type": "code",
   "execution_count": 21,
   "metadata": {},
   "outputs": [
    {
     "data": {
      "text/plain": [
       "[['http://otomotif.kompas.com/read/2018/07/28/112200715/pedagang-mobkas-sediakan-layanan-ganti-nopol-kendaraan',\n",
       "  'otomotif']]"
      ]
     },
     "execution_count": 21,
     "metadata": {},
     "output_type": "execute_result"
    }
   ],
   "source": [
    "detail"
   ]
  },
  {
   "cell_type": "code",
   "execution_count": 162,
   "metadata": {},
   "outputs": [
    {
     "name": "stdout",
     "output_type": "stream",
     "text": [
      "http://indeks.kompas.com/otomotif/2018-07-27/2\n"
     ]
    }
   ],
   "source": [
    "link = soup.find(attrs={\"class\":\"paging__link paging__link--next\"})['href']\n",
    "print(link)"
   ]
  },
  {
   "cell_type": "code",
   "execution_count": 168,
   "metadata": {},
   "outputs": [
    {
     "name": "stdout",
     "output_type": "stream",
     "text": [
      "None\n"
     ]
    }
   ],
   "source": [
    "link = soup.find(attrs={\"class\":\"paging__link paging__link--prev\"})\n",
    "print(link)"
   ]
  },
  {
   "cell_type": "code",
   "execution_count": null,
   "metadata": {},
   "outputs": [],
   "source": []
  }
 ],
 "metadata": {
  "kernelspec": {
   "display_name": "Python 3",
   "language": "python",
   "name": "python3"
  },
  "language_info": {
   "codemirror_mode": {
    "name": "ipython",
    "version": 3
   },
   "file_extension": ".py",
   "mimetype": "text/x-python",
   "name": "python",
   "nbconvert_exporter": "python",
   "pygments_lexer": "ipython3",
   "version": "3.6.4"
  }
 },
 "nbformat": 4,
 "nbformat_minor": 2
}
