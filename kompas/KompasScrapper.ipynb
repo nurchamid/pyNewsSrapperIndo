{
 "cells": [
  {
   "cell_type": "code",
   "execution_count": 1,
   "metadata": {},
   "outputs": [],
   "source": [
    "import requests\n",
    "from bs4 import BeautifulSoup\n",
    "from datetime import datetime, timedelta\n",
    "import locale\n",
    "locale.setlocale(locale.LC_ALL, 'ID')\n",
    "import re\n",
    "import pandas as pd\n",
    "from selenium import webdriver\n",
    "from selenium.webdriver.chrome.options import Options"
   ]
  },
  {
   "cell_type": "code",
   "execution_count": 29,
   "metadata": {},
   "outputs": [],
   "source": [
    "from selenium import webdriver\n",
    "from selenium.webdriver.support.wait import WebDriverWait\n",
    "from selenium.webdriver.support import expected_conditions as EC\n",
    "from selenium.webdriver.common.by import By"
   ]
  },
  {
   "cell_type": "markdown",
   "metadata": {},
   "source": [
    "## Get Indeks Link"
   ]
  },
  {
   "cell_type": "code",
   "execution_count": 2,
   "metadata": {},
   "outputs": [],
   "source": [
    "def getIndeksLink(links, page, cat_link, category, date=datetime.strftime(datetime.today(), '%Y-%m-%d')):\n",
    "    \"\"\"\n",
    "    Untuk mengambil seluruh url \n",
    "    link pada indeks category tertentu\n",
    "    date format : YYYY-mm-dd\n",
    "    \"\"\"\n",
    "    print(\"page \", page)\n",
    "    url = \"https://indeks.kompas.com/\"+cat_link+\"/\"+date+\"/\"+str(page)\n",
    "    print(url)\n",
    "    # Make the request and create the response object: response\n",
    "    response = requests.get(url)\n",
    "    # Extract HTML texts contained in Response object: html\n",
    "    html = response.text\n",
    "    # Create a BeautifulSoup object from the HTML: soup\n",
    "    soup = BeautifulSoup(html, \"html5lib\")\n",
    "    contentDiv = soup.findAll('div', class_=\"article__list clearfix\")\n",
    "    for post in contentDiv:\n",
    "        link = [post.find('a', href=True)['href'], category]\n",
    "#         print(link)\n",
    "        links.append(link)\n",
    "        \n",
    "    el_page = soup.find('div', class_=\"paging__wrap clearfix\")\n",
    "    if el_page:\n",
    "        a_page = el_page.findAll('div', class_='paging__item')[-1].find('a')\n",
    "        if  el_page.findAll('div', class_='paging__item')[-1].find('a', class_=\"paging__link paging__link--active\"):\n",
    "            max_page = page\n",
    "        else:\n",
    "            max_page = int(a_page['data-ci-pagination-page'].replace('\\n', '').strip(' '))\n",
    "            \n",
    "        if page < max_page:\n",
    "            links = getIndeksLink(links, page+1, cat_link, category, date)\n",
    "        \n",
    "    return links"
   ]
  },
  {
   "cell_type": "markdown",
   "metadata": {},
   "source": [
    "## Get Detail Berita"
   ]
  },
  {
   "cell_type": "code",
   "execution_count": 21,
   "metadata": {},
   "outputs": [],
   "source": [
    "def getDetailBerita(links):\n",
    "    all_articles = []\n",
    "    for link in links:\n",
    "        articles = {}\n",
    "        #link\n",
    "        url = link[0]\n",
    "        response = requests.get(url)\n",
    "        html = response.text\n",
    "        # Create a BeautifulSoup object from the HTML: soup\n",
    "        soup = BeautifulSoup(html, \"html5lib\")\n",
    "\n",
    "        #articleid\n",
    "        articles['id'] = int(soup.find(\"meta\", attrs={'name':'cXenseParse:articleid'})['content'])\n",
    "\n",
    "        #category\n",
    "        articles['category'] = link[1]\n",
    "        articles['url'] = url\n",
    "\n",
    "        #extract subcategory from breadcrumb\n",
    "        bc = soup.find('ul', class_=\"breadcrumb__wrap\")\n",
    "        articles['subcategory'] = bc.findAll('li')[2].text\n",
    "\n",
    "        #article\n",
    "        article = soup.find(\"div\", class_=\"read__content\")\n",
    "\n",
    "        #extract date\n",
    "        pubdate = soup.find(\"meta\", attrs={\"name\":\"content_PublishedDate\"})['content']\n",
    "        pubdate = pubdate.strip(' \\t\\n\\r')\n",
    "        articles['pubdate']=datetime.strftime(datetime.strptime(pubdate, \"%Y-%m-%d %H:%M:%S\"), \"%Y-%m-%d %H:%M:%S\")\n",
    "\n",
    "        #extract author\n",
    "        articles['author'] = soup.find('div', class_=\"read__author\").text\n",
    "\n",
    "        #extract title\n",
    "        articles['title'] = soup.find('h1', class_=\"read__title\").text      \n",
    "\n",
    "        #source\n",
    "        articles['source'] = 'kompas'\n",
    "\n",
    "        #extract comments count\n",
    "#         options = Options()\n",
    "#         options.add_argument('--headless')\n",
    "#         options.add_argument('--disable-gpu')  # Last I checked this was necessary.\n",
    "#         options.add_argument('--disable-extensions')\n",
    "\n",
    "#         driver = webdriver.Chrome(\"../chromedriver.exe\", chrome_options=options)\n",
    "#         driver.get(url)\n",
    "#         html = driver.page_source\n",
    "#         soup = BeautifulSoup(html, 'html5lib')\n",
    "\n",
    "#         comment = soup.find('div', class_=\"span4 comments-count tright\")\n",
    "#         comment_num = comment.text.replace('Ada ', '')\n",
    "#         comment_num = comment_num.replace(' komentar untuk artikel ini', '')\n",
    "        articles['comments'] = 0\n",
    "\n",
    "        #extract tags\n",
    "        tags = soup.find(\"meta\", attrs={'name':'content_tag'})['content']\n",
    "        articles['tags'] = tags\n",
    "\n",
    "        #extract images\n",
    "        articles['images'] = soup.find('meta', attrs={'property':'og:image'})['content']\n",
    "\n",
    "        #hapus all script\n",
    "        for script in article.findAll('script'):\n",
    "            script.decompose()\n",
    "\n",
    "        #extract content\n",
    "        detail = BeautifulSoup(article.decode_contents().replace('<br/>', ' '), \"html5lib\")\n",
    "        content = re.sub(r'\\n|\\t|\\b|\\r','',detail.text)\n",
    "        articles['content'] = content\n",
    "        #print('memasukkan berita id ', articles['id'])\n",
    "        all_articles.append(articles)\n",
    "    return all_articles"
   ]
  },
  {
   "cell_type": "code",
   "execution_count": 8,
   "metadata": {
    "scrolled": true
   },
   "outputs": [
    {
     "name": "stdout",
     "output_type": "stream",
     "text": [
      "page  1\n",
      "https://indeks.kompas.com/news/2018-07-31/1\n",
      "page  2\n",
      "https://indeks.kompas.com/news/2018-07-31/2\n",
      "page  3\n",
      "https://indeks.kompas.com/news/2018-07-31/3\n",
      "page  4\n",
      "https://indeks.kompas.com/news/2018-07-31/4\n",
      "page  5\n",
      "https://indeks.kompas.com/news/2018-07-31/5\n",
      "page  6\n",
      "https://indeks.kompas.com/news/2018-07-31/6\n",
      "page  7\n",
      "https://indeks.kompas.com/news/2018-07-31/7\n"
     ]
    }
   ],
   "source": [
    "links = getIndeksLink([], 1, 'news', 'news')"
   ]
  },
  {
   "cell_type": "code",
   "execution_count": 31,
   "metadata": {},
   "outputs": [
    {
     "data": {
      "text/plain": [
       "[{'author': 'Kontributor Palembang, Aji YK Putra',\n",
       "  'category': 'news',\n",
       "  'comments': 0,\n",
       "  'content': ' PALEMBANG, KOMPAS.com -\\xa0Aksi pencurian yang dilakukan JR (25 ) warga  Palembang, Sumatera Selatan tak berjalan mulus.Sebab, Romadhon malah tepergok  korban ketika hendak masuk ke dalam rumah.  Korban yang diketahui bernama Joni (37) pun langsung mencoba menangkap pelaku, namun, Romadhon yang membawa sebilah gunting, langsung menusukkannya ke perut Joni.Dikatakan Joni, kejadian itu bermula ketika istrinya melihat pelaku masuk dari tangga lantai tiga melewati pintu terali besi dari rekaman CCTV. Melihat hal tersebut, korban langsung mencoba mendekati pelaku.\"Dia bilang disuruh orang dibawa ambil barang, padahal dibawah sudah tutup dan tidak ada orang,” kata Joni, Senin (30/7/2018).Baca juga: Demi Fakultas Kedokteran, 8 Calon Mahasiswa Pakai Alat Canggih Penjawab SoalMerasa aksinya tepergok, Romadhon pun terdesak. Ia langsung menusuk Joni dengan menggunakan sebilah gunting. Karena tak mau kalah, korban dan pelaku akhirnya bergulat.“Saya langsung teriak, dan istri saya memanggil warga, (pelaku) mencoba kabur,” ujarnya.Ketika hendak kabur, langkah Romadhon pun terhenti melihat kerumunan massa dibawah. Hingga diapun akhirnya tertangkap.Namun, saat ditengah jalan, lagi-lagi Romadhon berusaha melarikan diri dengan melompat dari mobil petugas. Akibatnya, satu timah panas bersarang dikaki tersangka.“Kami lumpuhkan tersangka karena mencoba kabur. Korban mengalami luka  tusuk diperut dan tangan,” jelas Kapolsek Kemuning AKP Robert P Sihombing.Baca juga: BPJS Kesehatan Menunggak Rp 13,4 Miliar, RSUD Wates Pasang Spanduk KritikMenurut Robert, Romadhon diketahui adalah seorang  residivis yang pernah mendekam disel tahanan atas kasus pencurian. Dari pengakuannya, tersangka juga telah empat kali beraksi sejak keluar dari penjara.“Pengakuannya ada 4 TKP, kita masih kembangkan,” ungkap Kapolsek.Atas perbuatannya, kini Robert dijerat dengan pasal 365 KUHP tentang pencurian dengan kekerasan ancaman hukuman 5 tahun penjara.Kompas TV Polisi menyita sejumlah barang bukti berupa telepon seluler, buku tabungan, dan ATM, serta uang tunai hasil kejahatan.                                                 ',\n",
       "  'id': 1635060,\n",
       "  'images': 'https://asset.kompas.com/crop/89x7:1000x615/780x390/filters:watermark(data/photo/2018/01/24/3095122789.png,0,-0,1)/data/photo/2018/07/30/53879903.jpeg',\n",
       "  'pubdate': '2018-07-31 14:00:00',\n",
       "  'source': 'kompas',\n",
       "  'subcategory': 'Regional',\n",
       "  'tags': 'tusuk, korban, pencuri, residivis, Palembang',\n",
       "  'title': 'Tepergok Korban Saat Beraksi, Residivis Pencuri Ini Tusuk Korbannya   ',\n",
       "  'url': 'http://regional.kompas.com/read/2018/07/31/14000031/tepergok-korban-saat-beraksi-residivis-pencuri-ini-tusuk-korbannya-'},\n",
       " {'author': 'Nursita Sari',\n",
       "  'category': 'news',\n",
       "  'comments': 0,\n",
       "  'content': 'JAKARTA, KOMPAS.com -  Jalur sepeda di  trotoar Jalan Asia Afrika, tepatnya di luar gerbang Kompleks Gelora Bung Karno ( GBK), terhalang tiang.Tiang yang menghalangi itu ada yang tepat berada di tengah-tengah  jalur sepeda, ada juga yang memakan sedikit jalur tersebut. Berdasarkan pantauan Kompas.com, Selasa (31/7/2018), ada sejumlah tiang yang menghalangi jalur sepeda tersebut, mulai dari tiang lampu penerangan jalan umum (PJU), tiang lampu lalu lintas, hingga tiang rambu penunjuk jalan. Setelah Kompas.com menyusuri trotoar di sekeliling kawasan GBK, jalur sepeda tampak dimulai dari Jalan Gerbang Pemuda.Tidak ada penghalang di sepanjang jalur sepeda di Jalan Gerbang Pemuda. Saat belok kiri ke Jalan Asia Afrika, barulah terlihat sejumlah tiang menghalangi jalur sepeda itu.Baca juga: Pasukan Pelangi Akan Bersihkan Kawasan GBK Sampai Asian Games Tiba Di dekat pintu masuk 11 GBK misalnya, jalur khusus untuk pesepeda itu terhalang tiga tiang, satu di antaranya yakni tiang PJU sekaligus tiang listrik. Kemudian, jalur sepeda di dekat pintu masuk 12 GBK juga terhalang tiang. Bahkan, ada sebuah pohon besar yang memakan badan jalur sepeda di dekat pintu masuk 12 GBK meskipun tidak di tengah-tengah.KOMPAS.com/NURSITA SARI Jalur sepeda di trotoar Jalan Asia Afrika, tepatnya di luar gerbang kompleks Gelora Bung Karno (GBK), terhalang tiang lampu lalu lintas. Foto diambil Selasa (31/7/2018). Hal lain yang menarik perhatian, awal dan ujung jalur sepeda di pintu masuk 11 dan 12 GBK itu tidak dilengkapi bidang miring untuk naik-turun sepeda.Bidang miring hanya ada di sebelahnya, yakni di jalur untuk kaum difabel yang dilengkapi dengan guiding block.Baca juga: Dinas Lingkungan Hidup Klaim Kualitas Udara di GBK Berkategori Baik Tak sampai di situ, jalur sepeda di dekat perempatan Hotel Fairmont juga terhalang tiang rambu penunjuk jalan. Tiang rambu penunjuk jalan itu tepat berada di tengah jalur sepeda. Jalur sepeda di belokan Jalan Asia Afrika menuju Jalan Pintu Satu Senayan juga terhalang. Lampu lalu lintas tepat berada di tengah jalur sepeda di belokan tersebut. Jalur sepeda di trotoar luar gerbang Kompleks GBK ini berakhir di Jalan Pintu Satu Senayan.                                                 ',\n",
       "  'id': 1635296,\n",
       "  'images': 'https://asset.kompas.com/crop/56x0:900x563/780x390/filters:watermark(data/photo/2018/01/24/3095122789.png,0,-0,1)/data/photo/2018/07/31/3717968110.jpg',\n",
       "  'pubdate': '2018-07-31 13:50:16',\n",
       "  'source': 'kompas',\n",
       "  'subcategory': 'Megapolitan',\n",
       "  'tags': 'jalur sepeda, trotoar, GBK',\n",
       "  'title': 'Jalur Sepeda di Trotoar Jalan Asia Afrika Kawasan GBK Terhalang Tiang ',\n",
       "  'url': 'http://megapolitan.kompas.com/read/2018/07/31/13501671/jalur-sepeda-di-trotoar-jalan-asia-afrika-kawasan-gbk-terhalang-tiang'}]"
      ]
     },
     "execution_count": 31,
     "metadata": {},
     "output_type": "execute_result"
    }
   ],
   "source": [
    "details = getDetailBerita(links[0:2])\n",
    "details"
   ]
  },
  {
   "cell_type": "code",
   "execution_count": 27,
   "metadata": {},
   "outputs": [],
   "source": [
    "df = pd.DataFrame(details)"
   ]
  },
  {
   "cell_type": "code",
   "execution_count": 28,
   "metadata": {},
   "outputs": [
    {
     "data": {
      "text/html": [
       "<div>\n",
       "<style scoped>\n",
       "    .dataframe tbody tr th:only-of-type {\n",
       "        vertical-align: middle;\n",
       "    }\n",
       "\n",
       "    .dataframe tbody tr th {\n",
       "        vertical-align: top;\n",
       "    }\n",
       "\n",
       "    .dataframe thead th {\n",
       "        text-align: right;\n",
       "    }\n",
       "</style>\n",
       "<table border=\"1\" class=\"dataframe\">\n",
       "  <thead>\n",
       "    <tr style=\"text-align: right;\">\n",
       "      <th></th>\n",
       "      <th>author</th>\n",
       "      <th>category</th>\n",
       "      <th>comments</th>\n",
       "      <th>content</th>\n",
       "      <th>id</th>\n",
       "      <th>images</th>\n",
       "      <th>pubdate</th>\n",
       "      <th>source</th>\n",
       "      <th>subcategory</th>\n",
       "      <th>tags</th>\n",
       "      <th>title</th>\n",
       "      <th>url</th>\n",
       "    </tr>\n",
       "  </thead>\n",
       "  <tbody>\n",
       "    <tr>\n",
       "      <th>0</th>\n",
       "      <td>Kontributor Palembang, Aji YK Putra</td>\n",
       "      <td>news</td>\n",
       "      <td>0</td>\n",
       "      <td>PALEMBANG, KOMPAS.com - Aksi pencurian yang d...</td>\n",
       "      <td>1635060</td>\n",
       "      <td>https://asset.kompas.com/crop/89x7:1000x615/78...</td>\n",
       "      <td>2018-07-31 14:00:00</td>\n",
       "      <td>kompas</td>\n",
       "      <td>Regional</td>\n",
       "      <td>tusuk, korban, pencuri, residivis, Palembang</td>\n",
       "      <td>Tepergok Korban Saat Beraksi, Residivis Pencur...</td>\n",
       "      <td>http://regional.kompas.com/read/2018/07/31/140...</td>\n",
       "    </tr>\n",
       "    <tr>\n",
       "      <th>1</th>\n",
       "      <td>Nursita Sari</td>\n",
       "      <td>news</td>\n",
       "      <td>0</td>\n",
       "      <td>JAKARTA, KOMPAS.com -  Jalur sepeda di  trotoa...</td>\n",
       "      <td>1635296</td>\n",
       "      <td>https://asset.kompas.com/crop/56x0:900x563/780...</td>\n",
       "      <td>2018-07-31 13:50:16</td>\n",
       "      <td>kompas</td>\n",
       "      <td>Megapolitan</td>\n",
       "      <td>jalur sepeda, trotoar, GBK</td>\n",
       "      <td>Jalur Sepeda di Trotoar Jalan Asia Afrika Kawa...</td>\n",
       "      <td>http://megapolitan.kompas.com/read/2018/07/31/...</td>\n",
       "    </tr>\n",
       "  </tbody>\n",
       "</table>\n",
       "</div>"
      ],
      "text/plain": [
       "                                author category  comments  \\\n",
       "0  Kontributor Palembang, Aji YK Putra     news         0   \n",
       "1                         Nursita Sari     news         0   \n",
       "\n",
       "                                             content       id  \\\n",
       "0   PALEMBANG, KOMPAS.com - Aksi pencurian yang d...  1635060   \n",
       "1  JAKARTA, KOMPAS.com -  Jalur sepeda di  trotoa...  1635296   \n",
       "\n",
       "                                              images              pubdate  \\\n",
       "0  https://asset.kompas.com/crop/89x7:1000x615/78...  2018-07-31 14:00:00   \n",
       "1  https://asset.kompas.com/crop/56x0:900x563/780...  2018-07-31 13:50:16   \n",
       "\n",
       "   source  subcategory                                          tags  \\\n",
       "0  kompas     Regional  tusuk, korban, pencuri, residivis, Palembang   \n",
       "1  kompas  Megapolitan                    jalur sepeda, trotoar, GBK   \n",
       "\n",
       "                                               title  \\\n",
       "0  Tepergok Korban Saat Beraksi, Residivis Pencur...   \n",
       "1  Jalur Sepeda di Trotoar Jalan Asia Afrika Kawa...   \n",
       "\n",
       "                                                 url  \n",
       "0  http://regional.kompas.com/read/2018/07/31/140...  \n",
       "1  http://megapolitan.kompas.com/read/2018/07/31/...  "
      ]
     },
     "execution_count": 28,
     "metadata": {},
     "output_type": "execute_result"
    }
   ],
   "source": [
    "df"
   ]
  },
  {
   "cell_type": "code",
   "execution_count": 446,
   "metadata": {},
   "outputs": [
    {
     "data": {
      "text/plain": [
       "[<a class=\"inner-link\" href=\"http://indeks.kompas.com/tag/Bandar-Lampung\" style=\"color:#428bca;\" target=\"_blank\">BANDAR LAMPUNG</a>,\n",
       " <a class=\"inner-link\" href=\"http://indeks.kompas.com/tag/Ombudsman\" style=\"color:#428bca;\" target=\"_blank\">Ombudsman</a>,\n",
       " <a class=\"inner-link\" href=\"http://indeks.kompas.com/tag/Lampung-Selatan\" style=\"color:#428bca;\" target=\"_blank\">Lampung Selatan</a>,\n",
       " <a class=\"inner-link\" href=\"http://nasional.kompas.com/read/2018/07/28/18401441/kasus-suap-bupati-lampung-selatan-kpk-geledah-lima-tempat\" target=\"_blank\">Kasus Suap Bupati Lampung Selatan, KPK Geledah Lima Tempat</a>,\n",
       " <a class=\"inner-link\" href=\"http://indeks.kompas.com/tag/OTT\" style=\"color:#428bca;\" target=\"_blank\">OTT</a>,\n",
       " <a class=\"inner-link\" href=\"http://indeks.kompas.com/tag/KPK\" style=\"color:#428bca;\" target=\"_blank\">KPK</a>,\n",
       " <a class=\"inner-link\" href=\"http://indeks.kompas.com/tag/Zainuddin-Hasan\" style=\"color:#428bca;\" target=\"_blank\">Zainuddin Hasan</a>,\n",
       " <a class=\"inner-link\" href=\"http://nasional.kompas.com/read/2018/07/28/09074011/pelukan-erat-keluarga-sebelum-bupati-lampung-selatan-naik-mobil-tahanan\" target=\"_blank\">Pelukan Erat Keluarga Sebelum Bupati Lampung Selatan Naik Mobil Tahanan</a>]"
      ]
     },
     "execution_count": 446,
     "metadata": {},
     "output_type": "execute_result"
    }
   ],
   "source": [
    "soup.findAll('a', class_=\"inner-link\")"
   ]
  }
 ],
 "metadata": {
  "kernelspec": {
   "display_name": "Python 3",
   "language": "python",
   "name": "python3"
  },
  "language_info": {
   "codemirror_mode": {
    "name": "ipython",
    "version": 3
   },
   "file_extension": ".py",
   "mimetype": "text/x-python",
   "name": "python",
   "nbconvert_exporter": "python",
   "pygments_lexer": "ipython3",
   "version": "3.6.4"
  }
 },
 "nbformat": 4,
 "nbformat_minor": 2
}
