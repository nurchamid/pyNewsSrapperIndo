{
 "cells": [
  {
   "cell_type": "code",
   "execution_count": 1,
   "metadata": {},
   "outputs": [],
   "source": [
    "from Kompas import Kompas #class news Scrapper\n",
    "from datetime import timedelta, date, datetime\n",
    "from IPython.display import clear_output"
   ]
  },
  {
   "cell_type": "code",
   "execution_count": 2,
   "metadata": {},
   "outputs": [],
   "source": [
    "def daterange(start_date, end_date):\n",
    "    for n in range(int ((end_date - start_date).days)):\n",
    "        yield start_date + timedelta(n)"
   ]
  },
  {
   "cell_type": "code",
   "execution_count": 3,
   "metadata": {},
   "outputs": [],
   "source": [
    "# health\n",
    "obj = Kompas()\n",
    "end_date = date(2018, 8, 8)\n",
    "start_date = date(2018, 1, 1)\n",
    "init_page = 1\n",
    "list_cat = [['news', 'news'], ['otomotif', 'otomotif'], ['properti', 'properti'],['ekonomi','ekonomi'],['bola','bola'],\n",
    "            ['tekno','tekno'],['sains','sains'],['entertainment','entertainment'],['lifestyle','lifestyle'],\n",
    "            ['travel','travel'],['edukasi','edukasi']]\n",
    "init_cat = list_cat[4:]"
   ]
  },
  {
   "cell_type": "code",
   "execution_count": null,
   "metadata": {
    "scrolled": true
   },
   "outputs": [
    {
     "name": "stdout",
     "output_type": "stream",
     "text": [
      "2018-01-01\n",
      "entertainment\n",
      "page  1\n",
      "https://indeks.kompas.com/entertainment/2018-01-01/1\n",
      "Insert berita  Judika Ingin Adakan Konser Tunggal Perdana dalam Kariernya\n",
      "masuk\n",
      "Insert berita  Rhoma Irama Ingin Ciptakan 1.000 Lagu\n",
      "masuk\n",
      "Insert berita  KLa Project Lebih Jazzy Saat Manggung di Karawang\n",
      "masuk\n",
      "Insert berita  Chicco Jerikho Rayakan Tahun Baru bersama Putri Marino\n",
      "masuk\n",
      "Insert berita  2018 Tiba, Randy Pangalila Berharap Dapat Jodoh\n",
      "masuk\n",
      "Insert berita  Rahasia Sheila on 7 Dapat Bertahan di Dunia Musik Selama 22 Tahun\n",
      "masuk\n",
      "Insert berita  Marshanda: Aku Ceritanya Jadi Pelakor\n",
      "masuk\n",
      "Insert berita  Sandra Dewi dan Harvey Moeis Dikaruniai Anak Pertama\n",
      "masuk\n"
     ]
    }
   ],
   "source": [
    "for single_date in daterange(start_date, end_date):\n",
    "    for cat in init_cat:\n",
    "        clear_output()\n",
    "        print(single_date.strftime(\"%Y-%m-%d\"))\n",
    "        print(cat[0])\n",
    "        obj.getAllBerita([], init_page, cat[0], cat[1], single_date.strftime(\"%Y-%m-%d\"))\n",
    "        init_page = 1\n",
    "    init_cat = list_cat"
   ]
  },
  {
   "cell_type": "code",
   "execution_count": null,
   "metadata": {},
   "outputs": [],
   "source": []
  }
 ],
 "metadata": {
  "kernelspec": {
   "display_name": "Python 3",
   "language": "python",
   "name": "python3"
  },
  "language_info": {
   "codemirror_mode": {
    "name": "ipython",
    "version": 3
   },
   "file_extension": ".py",
   "mimetype": "text/x-python",
   "name": "python",
   "nbconvert_exporter": "python",
   "pygments_lexer": "ipython3",
   "version": "3.6.4"
  }
 },
 "nbformat": 4,
 "nbformat_minor": 2
}
