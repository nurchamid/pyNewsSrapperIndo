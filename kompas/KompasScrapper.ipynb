{
 "cells": [
  {
   "cell_type": "code",
   "execution_count": 1,
   "metadata": {},
   "outputs": [],
   "source": [
    "import requests\n",
    "from bs4 import BeautifulSoup\n",
    "from datetime import datetime, timedelta\n",
    "import locale\n",
    "locale.setlocale(locale.LC_ALL, 'ID')\n",
    "import re"
   ]
  },
  {
   "cell_type": "code",
   "execution_count": null,
   "metadata": {},
   "outputs": [],
   "source": [
    "https://indeks.kompas.com/news/2018-07-19/2"
   ]
  },
  {
   "cell_type": "code",
   "execution_count": 223,
   "metadata": {},
   "outputs": [],
   "source": [
    "def getIndeksLink(links, page, cat_link, category, date=datetime.strftime(datetime.today(), '%Y-%m-%d')):\n",
    "    \"\"\"\n",
    "    Untuk mengambil seluruh url \n",
    "    link pada indeks category tertentu\n",
    "    date format : YYYY-mm-dd\n",
    "    \"\"\"\n",
    "    print(\"page \", page)\n",
    "    if cat_link == 'otomotif':\n",
    "        url = \"https://indeks.kompas.com/\"+cat_link+\"/\"+date+\"/\"+str(page)\n",
    "    else :\n",
    "        url = \"https://indeks.kompas.com/\"+cat_link+\"/\"+date+\"/\"+str(page)\n",
    "    print(url)\n",
    "    # Make the request and create the response object: response\n",
    "    response = requests.get(url)\n",
    "    # Extract HTML texts contained in Response object: html\n",
    "    html = response.text\n",
    "    # Create a BeautifulSoup object from the HTML: soup\n",
    "    soup = BeautifulSoup(html, \"html5lib\")\n",
    "    contentDiv = soup.findAll('div', class_=\"latest--indeks mt2 clearfix\")\n",
    "    for post in contentDiv:\n",
    "        link = [post.find('a', href=True)['href'], category]\n",
    "        links.append(link)\n",
    "        \n",
    "    el_page = soup.find('div', class_=\"paging__wrap clearfix\")\n",
    "    if el_page:\n",
    "        a_page = soup.find('div', class_=\"paging__wrap clearfix\").findAll('div', class_='paging__item')[-1].find('a')\n",
    "        if 'data-ci-pagination-page' not in a_page:\n",
    "            max_page = page\n",
    "        else:\n",
    "            max_page = int(a_page['data-ci-pagination-page'].replace('\\n', '').strip(' '))\n",
    "            \n",
    "        if page < max_page:\n",
    "            links = getIndeksLink(links, page+1, cat_link, category, date)\n",
    "        \n",
    "    return links"
   ]
  },
  {
   "cell_type": "code",
   "execution_count": 224,
   "metadata": {},
   "outputs": [],
   "source": [
    "def getDetailBerita(links):\n",
    "    articles = {}\n",
    "    for link in links:\n",
    "        #link\n",
    "        articles['url'] = link[0]\n",
    "        response = requests.get(url)\n",
    "        html = response.text\n",
    "        # Create a BeautifulSoup object from the HTML: soup\n",
    "        soup = BeautifulSoup(html, \"html5lib\")\n",
    "        \n",
    "        #articleid\n",
    "        articles['id'] = int(soup.find(\"meta\", attrs={'name':'cXenseParse:articleid'})['content'])\n",
    "        \n",
    "        #category\n",
    "        articles['category'] = link[1]\n",
    "        \n",
    "        #extract subcategory from breadcrumb\n",
    "        bc = soup.find('ul', class_=\"breadcrumb__wrap\")\n",
    "        articles['subcategory'] = bc.findAll('li')[2].text\n",
    "        \n",
    "        #article\n",
    "        article = soup.find(\"div\", class_=\"read__content\")\n",
    "        \n",
    "        #extract date\n",
    "        pubdate = soup.find(\"meta\", attrs={\"name\":\"content_PublishedDate\"})['content']\n",
    "        pubdate = pubdate.strip(' \\t\\n\\r')\n",
    "        articles['pubdate']=datetime.strftime(datetime.strptime(pubdate, \"%Y-%m-%d %H:%M:%S\"), \"%Y-%m-%d %H:%M:%S\")\n",
    "        \n",
    "        #extract author\n",
    "        articles['author'] = soup.find('div', class_=\"read__author\").text\n",
    "        \n",
    "        #extract title\n",
    "        articles['title'] = soup.find('h1', class_=\"read__title\").text      \n",
    "\n",
    "        #source\n",
    "        articles['source'] = 'detik'\n",
    "        \n",
    "        #extract comments count\n",
    "        #articles['comments'] = int(soup.find('a', class_=\"komentar\").find('span').text.replace('Komentar', '').strip(' \\t\\n\\r'))\n",
    "        \n",
    "        #extract tags\n",
    "        tags = soup.find(\"meta\", attrs={'name':'content_tag'})['content']\n",
    "        articles['tags'] = ','.join([x.text for x in tags])\n",
    "        \n",
    "        #extract images\n",
    "        articles['images'] = soup.find('meta', attrs={'property':'og:image'})['content']\n",
    "        \n",
    "       \n",
    "        #hapus link sisip\n",
    "#         for link in detail.findAll('table', class_=\"linksisip\"):\n",
    "#             link.decompose()\n",
    "        \n",
    "        #hapus video sisip\n",
    "#         for tag in detail.findAll('div', class_=\"detail_tag\"):\n",
    "#             tag.decompose()\n",
    "        \n",
    "        #extract content\n",
    "        detail = BeautifulSoup(article.decode_contents().replace('<br/>', ' '), \"html5lib\")\n",
    "        content = re.sub(r'\\n|\\t|\\b|\\r','',detail.text)\n",
    "        articles['content'] = content\n",
    "        \n",
    "        return articles"
   ]
  },
  {
   "cell_type": "code",
   "execution_count": 225,
   "metadata": {},
   "outputs": [],
   "source": [
    "links = []"
   ]
  },
  {
   "cell_type": "code",
   "execution_count": 226,
   "metadata": {},
   "outputs": [
    {
     "data": {
      "text/plain": [
       "[]"
      ]
     },
     "execution_count": 226,
     "metadata": {},
     "output_type": "execute_result"
    }
   ],
   "source": [
    "links"
   ]
  },
  {
   "cell_type": "code",
   "execution_count": 227,
   "metadata": {},
   "outputs": [
    {
     "name": "stdout",
     "output_type": "stream",
     "text": [
      "page  1\n",
      "https://indeks.kompas.com/otomotif/2018-07-27/1\n"
     ]
    }
   ],
   "source": [
    "detail = getIndeksLink(links, 1, 'otomotif', 'otomotif')"
   ]
  },
  {
   "cell_type": "code",
   "execution_count": 147,
   "metadata": {},
   "outputs": [],
   "source": [
    "# links = getIndeksLink(links, 1, news, news)"
   ]
  },
  {
   "cell_type": "code",
   "execution_count": 195,
   "metadata": {},
   "outputs": [],
   "source": [
    "response = requests.get(\"https://indeks.kompas.com/otomotif/2018-07-27/1\")\n",
    "    # Extract HTML texts contained in Response object: html\n",
    "html = response.text\n",
    "    # Create a BeautifulSoup object from the HTML: soup\n",
    "soup = BeautifulSoup(html, \"html5lib\")"
   ]
  },
  {
   "cell_type": "code",
   "execution_count": 200,
   "metadata": {},
   "outputs": [],
   "source": [
    "max_page = soup.find('div', class_=\"paging__wrap clearfix\").findAll('div', class_='paging__item')[-1].find('a')['data-ci-pagination-page'].replace('\\n', '').strip(' ')\n"
   ]
  },
  {
   "cell_type": "code",
   "execution_count": 228,
   "metadata": {},
   "outputs": [
    {
     "data": {
      "text/plain": [
       "[['http://otomotif.kompas.com/read/2018/07/27/162926715/polisi-tindak-pengendara-dengan-modus-akali-ganjil-genap',\n",
       "  'otomotif']]"
      ]
     },
     "execution_count": 228,
     "metadata": {},
     "output_type": "execute_result"
    }
   ],
   "source": [
    "detail"
   ]
  },
  {
   "cell_type": "code",
   "execution_count": null,
   "metadata": {},
   "outputs": [],
   "source": []
  }
 ],
 "metadata": {
  "kernelspec": {
   "display_name": "Python 3",
   "language": "python",
   "name": "python3"
  },
  "language_info": {
   "codemirror_mode": {
    "name": "ipython",
    "version": 3
   },
   "file_extension": ".py",
   "mimetype": "text/x-python",
   "name": "python",
   "nbconvert_exporter": "python",
   "pygments_lexer": "ipython3",
   "version": "3.6.4"
  }
 },
 "nbformat": 4,
 "nbformat_minor": 2
}
