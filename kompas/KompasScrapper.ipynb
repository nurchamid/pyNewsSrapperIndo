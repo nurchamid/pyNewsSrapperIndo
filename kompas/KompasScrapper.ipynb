{
 "cells": [
  {
   "cell_type": "code",
   "execution_count": 1,
   "metadata": {},
   "outputs": [],
   "source": [
    "import requests\n",
    "from bs4 import BeautifulSoup\n",
    "from datetime import datetime, timedelta\n",
    "import locale\n",
    "locale.setlocale(locale.LC_ALL, 'ID')\n",
    "import re\n",
    "import pandas as pd\n",
    "from selenium import webdriver\n",
    "from selenium.webdriver.chrome.options import Options"
   ]
  },
  {
   "cell_type": "code",
   "execution_count": 2,
   "metadata": {},
   "outputs": [],
   "source": [
    "from selenium import webdriver\n",
    "from selenium.webdriver.support.wait import WebDriverWait\n",
    "from selenium.webdriver.support import expected_conditions as EC\n",
    "from selenium.webdriver.common.by import By"
   ]
  },
  {
   "cell_type": "markdown",
   "metadata": {},
   "source": [
    "## Get Indeks Link"
   ]
  },
  {
   "cell_type": "code",
   "execution_count": 4,
   "metadata": {},
   "outputs": [],
   "source": [
    "def getIndeksLink(links, page, cat_link, category, date=datetime.strftime(datetime.today(), '%Y-%m-%d')):\n",
    "    \"\"\"\n",
    "    Untuk mengambil seluruh url \n",
    "    link pada indeks category tertentu\n",
    "    date format : YYYY-mm-dd\n",
    "    \"\"\"\n",
    "    print(\"page \", page)\n",
    "    url = \"https://indeks.kompas.com/\"+cat_link+\"/\"+date+\"/\"+str(page)\n",
    "    print(url)\n",
    "    # Make the request and create the response object: response\n",
    "    response = requests.get(url)\n",
    "    # Extract HTML texts contained in Response object: html\n",
    "    html = response.text\n",
    "    # Create a BeautifulSoup object from the HTML: soup\n",
    "    soup = BeautifulSoup(html, \"html5lib\")\n",
    "    contentDiv = soup.findAll('div', class_=\"article__list clearfix\")\n",
    "    for post in contentDiv:\n",
    "        link = [post.find('a', href=True)['href'], category]\n",
    "        links.append(link)\n",
    "        \n",
    "    el_page =  soup.find('div', class_=\"paging__wrap clearfix\")\n",
    "    if el_page:\n",
    "        a_page = el_page.findAll('div', class_='paging__item')[-1].find('a')\n",
    "        if  el_page.findAll('div', class_='paging__item')[-1].find('a', class_=\"paging__link paging__link--active\"):\n",
    "            max_page = page\n",
    "        else:\n",
    "            max_page = int(a_page['data-ci-pagination-page'].replace('\\n', '').strip(' '))\n",
    "            \n",
    "        if page < max_page:\n",
    "            links = getIndeksLink(links, page+1, cat_link, category, date)\n",
    "        \n",
    "    return links"
   ]
  },
  {
   "cell_type": "markdown",
   "metadata": {},
   "source": [
    "## Get Detail Berita"
   ]
  },
  {
   "cell_type": "code",
   "execution_count": 24,
   "metadata": {},
   "outputs": [],
   "source": [
    "def getDetailBerita(links):\n",
    "    all_articles = []\n",
    "    for link in links:\n",
    "        articles = {}\n",
    "        #link\n",
    "        url = link[0]\n",
    "        response = requests.get(url)\n",
    "        html = response.text\n",
    "        # Create a BeautifulSoup object from the HTML: soup\n",
    "        soup = BeautifulSoup(html, \"html5lib\")\n",
    "\n",
    "        #articleid\n",
    "        articles['id'] = int(soup.find(\"meta\", attrs={'name':'cXenseParse:articleid'})['content'])\n",
    "\n",
    "        #category\n",
    "        articles['category'] = link[1]\n",
    "        articles['url'] = url\n",
    "\n",
    "        #extract subcategory from breadcrumb\n",
    "        bc = soup.find('ul', class_=\"breadcrumb__wrap\")\n",
    "        articles['subcategory'] = bc.findAll('li')[2].text\n",
    "\n",
    "        #article\n",
    "        article = soup.find(\"div\", class_=\"read__content\")\n",
    "\n",
    "        #extract date\n",
    "        pubdate = soup.find(\"meta\", attrs={\"name\":\"content_PublishedDate\"})['content']\n",
    "        pubdate = pubdate.strip(' \\t\\n\\r')\n",
    "        articles['pubdate']=datetime.strftime(datetime.strptime(pubdate, \"%Y-%m-%d %H:%M:%S\"), \"%Y-%m-%d %H:%M:%S\")\n",
    "\n",
    "        #extract author\n",
    "        articles['author'] = soup.find('div', class_=\"read__author\").text\n",
    "\n",
    "        #extract title\n",
    "        articles['title'] = soup.find('h1', class_=\"read__title\").text      \n",
    "\n",
    "        #source\n",
    "        articles['source'] = 'kompas'\n",
    "\n",
    "        #extract comments count\n",
    "        #articles['comments'] = 0\n",
    "        options = Options()\n",
    "        options.add_argument('--headless')\n",
    "        options.add_argument('--disable-gpu')  # Last I checked this was necessary.\n",
    "        options.add_argument('--disable-extensions')\n",
    "\n",
    "        driver = webdriver.Chrome(\"../chromedriver.exe\", chrome_options=options)\n",
    "        driver.get(url)\n",
    "        html = driver.page_source\n",
    "        soup = BeautifulSoup(html, 'html5lib')\n",
    "\n",
    "        comment = soup.find('div', class_=\"span4 comments-count tright\")\n",
    "        comment_num = comment.text.replace('Ada ', '')\n",
    "        comment_num = comment_num.replace(' komentar untuk artikel ini', '')\n",
    "        articles['comments'] = comment_num\n",
    "\n",
    "        #extract tags\n",
    "        tags = soup.find(\"meta\", attrs={'name':'content_tag'})['content']\n",
    "        articles['tags'] = tags\n",
    "\n",
    "        #extract images\n",
    "        articles['images'] = soup.find('meta', attrs={'property':'og:image'})['content']\n",
    "\n",
    "        #hapus all script\n",
    "        for script in article.findAll('script'):\n",
    "            script.decompose()\n",
    "\n",
    "        #extract content\n",
    "        detail = BeautifulSoup(article.decode_contents().replace('<br/>', ' '), \"html5lib\")\n",
    "        content = re.sub(r'\\n|\\t|\\b|\\r','',detail.text)\n",
    "        articles['content'] = content\n",
    "        #print('memasukkan berita id ', articles['id'])\n",
    "        all_articles.append(articles)\n",
    "    return all_articles"
   ]
  },
  {
   "cell_type": "code",
   "execution_count": 12,
   "metadata": {
    "scrolled": true
   },
   "outputs": [
    {
     "name": "stdout",
     "output_type": "stream",
     "text": [
      "page  1\n",
      "https://indeks.kompas.com/news/2018-07-01/1\n",
      "page  2\n",
      "https://indeks.kompas.com/news/2018-07-01/2\n",
      "page  3\n",
      "https://indeks.kompas.com/news/2018-07-01/3\n",
      "page  4\n",
      "https://indeks.kompas.com/news/2018-07-01/4\n",
      "page  5\n",
      "https://indeks.kompas.com/news/2018-07-01/5\n",
      "page  6\n",
      "https://indeks.kompas.com/news/2018-07-01/6\n"
     ]
    }
   ],
   "source": [
    "links = getIndeksLink([], 1, 'news', 'news', '2018-07-01')"
   ]
  },
  {
   "cell_type": "code",
   "execution_count": 25,
   "metadata": {},
   "outputs": [
    {
     "data": {
      "text/plain": [
       "[{'author': 'Kontributor Kompas TV Babel, Rahmatul Fauza',\n",
       "  'category': 'news',\n",
       "  'comments': '3',\n",
       "  'content': 'PANGKALPINANG, KOMPAS.com — Menteri Pemuda dan Olahraga Imam Nahrawi meminta proses hukum terkait kasus pemukulan pada anaknya tetap diteruskan.\"Saya berharap kepolisian akan terus melanjutkan proses hukumnya,\" kata Imam seusai menyaksikan MXGP 2018 seri Pangkalpinang, Kepulauan Bangka Belitung, Minggu (1/7/2018).Imam menyayangkan kekerasan yang dialami anaknya saat menonton pertandingan sepak bola antara Persija melawan Persebaya beberapa waktu lalu.Menurut dia, seharusnya suporter tidak bertindak anarkistis. Jalur hukum ditempuh untuk memberikan pembelajaran kepada para suporter.Baca juga: Jakmania yang Diduga Pukul Anak Menpora Jadi Tersangka tetapi Tak Ditahan\"Karena ini juga merupakan pembelajaran bagi suporter sepakbola yang seharusnya berlaku baik,\" ujar Imam.Imam mengatakan, walaupun akan ada upaya damai ataupun permohonan maaf dari Jakmania, proses hukum harus tetap berlanjut.Baca juga: Polisi Amankan Jakmania yang Diduga Pukul Anak Menpora\"Kita semua sudah lihat videonya, kan. Apakah pantas seorang ketua kelompok suporter sepak bola berlaku seperti itu?\" ujarnya. Pemukulan ini terjadi ketika anak Imam Nahrawi menyaksikan laga antara Persija Jakarta melawan Persebaya Surabaya di Stadion PTIK, Jakarta Selatan, Selasa (26/6/2018). Dalam video yang beredar di media sosial, putra Imam Nahrawi diusir dari bangku tribune penonton dan kemudian dipukul oleh salah satu oknum suporter dari arah belakang ketika sedang berjalan. Pemukulan ini terjadi ketika anak Imam Nahrawi menyaksikan laga antara Persija Jakarta melawan Persebaya Surabaya di Stadion PTIK, Jakarta Selatan, Selasa (26/6/2018). Dalam video yang beredar di media sosial, putra Imam Nahrawi diusir dari bangku tribune penonton dan kemudian dipukul oleh salah satu oknum suporter dari arah belakang ketika sedang berjalan. Artikel ini telah tayang di Kompas.com dengan judul \"Anaknya Dipukul Oknum Suporter, Imam Nahrawi Tempuh Jalur Hukum\", https://bola.kompas.com/read/2018/06/29/09320088/anaknya-dipukul-oknum-suporter-imam-nahrawi-tempuh-jalur-hukum.  Penulis : M. Hafidz Imaduddin Editor : Eris Eka Jaya                                                 ',\n",
       "  'id': 1618444,\n",
       "  'images': 'https://asset.kompas.com/crop/0x0:780x390/780x390/filters:watermark(data/photo/2018/01/24/3095122789.png,0,-0,1)/data/photo/2018/05/21/4289859831.jpg',\n",
       "  'pubdate': '2018-07-01 23:06:22',\n",
       "  'source': 'kompas',\n",
       "  'subcategory': 'Regional',\n",
       "  'tags': '',\n",
       "  'title': 'Menpora Minta Kasus Penganiayaan Anaknya Tetap Diproses',\n",
       "  'url': 'http://regional.kompas.com/read/2018/07/01/23062241/menpora-minta-kasus-penganiayaan-anaknya-tetap-diproses'},\n",
       " {'author': '',\n",
       "  'category': 'news',\n",
       "  'comments': '1',\n",
       "  'content': 'KOMPAS.com - Mahasiswa Indonesia di Mesir, Muhammad Ulin Nuha (35), meninggal setelah jatuh dari lantai 5 balkon apartemennya di Nasr City, Kairo, Sabtu (30/6/2018) pukul 23.00 waktu setempat.Ulin Nuha merupakan mahasiswa S2 jurusan Takhossus Fiqh Syafi\\'i, Universitas Al Azhar Kairo, Mesir. Dia meninggal di Rumah Sakit Tayseer, Kairo.Berdasarkan keterangan tertulis dari Kedubes RI di Mesir kepada Kompas.com, Minggu (1/7/2018), kejadian ini bermula karena kunci apartemen Ulin tertinggal. Menurut tetangga apartemennya, Bakri, Ulin berusaha masuk melalui balkon. Untuk itu, dia permisi untuk menumpang lewat balkon unit apartemen Bakri.Bakri mengaku sudah mencegah Ulin untuk tidak turun melalui balkon. Sebab, kala itu kondisi sudah larut malam dan cukup tinggi. Akan tetapi, Ulin tetap bersikeras.Ulin kemudian menuruni balkon menggunakan pipa yang terpasang di tembok apartemen. Sayangnya, usaha Ulin untuk masuk ke apartemennya tidak menemui hasil. Dia terjatuh ke lantai dasar hunian bertingkat tersebut.Ulin sempat dilarikan ke Rumah Sakit Tayseer, Nasr City, Kairo. Namun, akibat luka parah yang dideritanya, nyawa mahasiswa asal Jawa Timur tersebut tidak tertolong.Pihak KBRI Kairo sudah menghubungi keluarga Ulin di Indonesia. Ulin meninggalkan istri dan 2 anak. Saat insiden terjadi, istri dan anak Ulin sedang mudik Lebaran ke kampung halaman.Duta Besar Indonesia untuk Mesir, Helmy Fauzy, menjelaskan, saat mendengar kabar insiden tersebut perwakilan KBRI Kairo langsung menuju rumah sakit.\"Kami ikut berduka atas meninggalnya Ulin,\" ujar Helmy.Helmy berpesan agar mahasiswa asal Indonesia selalu mengedepankan keselamatan jiwa. Apalagi, lanjut Helmy, mayoritas mahasiswa Indonesia yang mengenyam pendidikan di Mesir tidak memiliki asuransi kesehatan.“Keselamatan dan kesehatan kita sangat penting, mohon untuk bisa lebih berhati-hati,” ucap Helmy.Sebelumnya, pada 9 Juni 2018, seorang mahasiswi asal Sumatera Barat juga meninggal dunia di Kairo. Fatimah Darsan Abdul Malik mengalami kecelakaan di sekitar tempat penantian bus di kawasan H-7, Nasr City, Kairo. Fatimah tercatat sebagai mahasiswi jurusan Syari\\'ah, Universitas Al Azhar.                                                 ',\n",
       "  'id': 1618434,\n",
       "  'images': 'https://asset.kompas.com/crop/0x0:1000x667/780x390/filters:watermark(data/photo/2018/01/24/3095122789.png,0,-0,1)/data/photo/2017/07/14/641871851.jpg',\n",
       "  'pubdate': '2018-07-01 22:26:36',\n",
       "  'source': 'kompas',\n",
       "  'subcategory': 'Internasional',\n",
       "  'tags': '',\n",
       "  'title': 'Jatuh dari Balkon Apartemen di Mesir, Mahasiswa Asal Indonesia Meninggal',\n",
       "  'url': 'http://internasional.kompas.com/read/2018/07/01/22263631/jatuh-dari-balkon-apartemen-di-mesir-mahasiswa-asal-indonesia-meninggal'}]"
      ]
     },
     "execution_count": 25,
     "metadata": {},
     "output_type": "execute_result"
    }
   ],
   "source": [
    "details = getDetailBerita(links[0:2])\n",
    "details"
   ]
  },
  {
   "cell_type": "code",
   "execution_count": 26,
   "metadata": {},
   "outputs": [],
   "source": [
    "df = pd.DataFrame(details)"
   ]
  },
  {
   "cell_type": "code",
   "execution_count": 27,
   "metadata": {},
   "outputs": [
    {
     "data": {
      "text/html": [
       "<div>\n",
       "<style scoped>\n",
       "    .dataframe tbody tr th:only-of-type {\n",
       "        vertical-align: middle;\n",
       "    }\n",
       "\n",
       "    .dataframe tbody tr th {\n",
       "        vertical-align: top;\n",
       "    }\n",
       "\n",
       "    .dataframe thead th {\n",
       "        text-align: right;\n",
       "    }\n",
       "</style>\n",
       "<table border=\"1\" class=\"dataframe\">\n",
       "  <thead>\n",
       "    <tr style=\"text-align: right;\">\n",
       "      <th></th>\n",
       "      <th>author</th>\n",
       "      <th>category</th>\n",
       "      <th>comments</th>\n",
       "      <th>content</th>\n",
       "      <th>id</th>\n",
       "      <th>images</th>\n",
       "      <th>pubdate</th>\n",
       "      <th>source</th>\n",
       "      <th>subcategory</th>\n",
       "      <th>tags</th>\n",
       "      <th>title</th>\n",
       "      <th>url</th>\n",
       "    </tr>\n",
       "  </thead>\n",
       "  <tbody>\n",
       "    <tr>\n",
       "      <th>0</th>\n",
       "      <td>Kontributor Kompas TV Babel, Rahmatul Fauza</td>\n",
       "      <td>news</td>\n",
       "      <td>3</td>\n",
       "      <td>PANGKALPINANG, KOMPAS.com — Menteri Pemuda dan...</td>\n",
       "      <td>1618444</td>\n",
       "      <td>https://asset.kompas.com/crop/0x0:780x390/780x...</td>\n",
       "      <td>2018-07-01 23:06:22</td>\n",
       "      <td>kompas</td>\n",
       "      <td>Regional</td>\n",
       "      <td></td>\n",
       "      <td>Menpora Minta Kasus Penganiayaan Anaknya Tetap...</td>\n",
       "      <td>http://regional.kompas.com/read/2018/07/01/230...</td>\n",
       "    </tr>\n",
       "    <tr>\n",
       "      <th>1</th>\n",
       "      <td></td>\n",
       "      <td>news</td>\n",
       "      <td>1</td>\n",
       "      <td>KOMPAS.com - Mahasiswa Indonesia di Mesir, Muh...</td>\n",
       "      <td>1618434</td>\n",
       "      <td>https://asset.kompas.com/crop/0x0:1000x667/780...</td>\n",
       "      <td>2018-07-01 22:26:36</td>\n",
       "      <td>kompas</td>\n",
       "      <td>Internasional</td>\n",
       "      <td></td>\n",
       "      <td>Jatuh dari Balkon Apartemen di Mesir, Mahasisw...</td>\n",
       "      <td>http://internasional.kompas.com/read/2018/07/0...</td>\n",
       "    </tr>\n",
       "  </tbody>\n",
       "</table>\n",
       "</div>"
      ],
      "text/plain": [
       "                                        author category comments  \\\n",
       "0  Kontributor Kompas TV Babel, Rahmatul Fauza     news        3   \n",
       "1                                                  news        1   \n",
       "\n",
       "                                             content       id  \\\n",
       "0  PANGKALPINANG, KOMPAS.com — Menteri Pemuda dan...  1618444   \n",
       "1  KOMPAS.com - Mahasiswa Indonesia di Mesir, Muh...  1618434   \n",
       "\n",
       "                                              images              pubdate  \\\n",
       "0  https://asset.kompas.com/crop/0x0:780x390/780x...  2018-07-01 23:06:22   \n",
       "1  https://asset.kompas.com/crop/0x0:1000x667/780...  2018-07-01 22:26:36   \n",
       "\n",
       "   source    subcategory tags  \\\n",
       "0  kompas       Regional        \n",
       "1  kompas  Internasional        \n",
       "\n",
       "                                               title  \\\n",
       "0  Menpora Minta Kasus Penganiayaan Anaknya Tetap...   \n",
       "1  Jatuh dari Balkon Apartemen di Mesir, Mahasisw...   \n",
       "\n",
       "                                                 url  \n",
       "0  http://regional.kompas.com/read/2018/07/01/230...  \n",
       "1  http://internasional.kompas.com/read/2018/07/0...  "
      ]
     },
     "execution_count": 27,
     "metadata": {},
     "output_type": "execute_result"
    }
   ],
   "source": [
    "df"
   ]
  },
  {
   "cell_type": "code",
   "execution_count": 28,
   "metadata": {},
   "outputs": [
    {
     "data": {
      "text/plain": [
       "[<a class=\"inner-link\" href=\"http://megapolitan.kompas.com/read/2018/07/01/11355491/jakmania-yang-diduga-pukul-anak-menpora-jadi-tersangka-tetapi-tak-ditahan\" target=\"_self\">Jakmania yang Diduga Pukul Anak Menpora Jadi Tersangka tetapi Tak Ditahan</a>,\n",
       " <a class=\"inner-link\" href=\"http://megapolitan.kompas.com/read/2018/06/30/21255791/polisi-amankan-jakmania-yang-diduga-pukul-anak-menpora\" target=\"_self\">Polisi Amankan Jakmania yang Diduga Pukul Anak Menpora</a>,\n",
       " <a class=\"inner-link\" href=\"http://kompas.com\" target=\"_blank\">Kompas.com</a>]"
      ]
     },
     "execution_count": 28,
     "metadata": {},
     "output_type": "execute_result"
    }
   ],
   "source": [
    "soup.findAll('a', class_=\"inner-link\")"
   ]
  },
  {
   "cell_type": "code",
   "execution_count": null,
   "metadata": {},
   "outputs": [],
   "source": []
  }
 ],
 "metadata": {
  "kernelspec": {
   "display_name": "Python 3",
   "language": "python",
   "name": "python3"
  },
  "language_info": {
   "codemirror_mode": {
    "name": "ipython",
    "version": 3
   },
   "file_extension": ".py",
   "mimetype": "text/x-python",
   "name": "python",
   "nbconvert_exporter": "python",
   "pygments_lexer": "ipython3",
   "version": "3.6.4"
  }
 },
 "nbformat": 4,
 "nbformat_minor": 2
}
