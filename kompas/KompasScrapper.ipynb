{
 "cells": [
  {
   "cell_type": "code",
   "execution_count": 28,
   "metadata": {},
   "outputs": [],
   "source": [
    "import requests\n",
    "from bs4 import BeautifulSoup\n",
    "from datetime import datetime, timedelta\n",
    "import locale\n",
    "locale.setlocale(locale.LC_ALL, 'ID')\n",
    "import re\n",
    "import pandas as pd\n",
    "from selenium import webdriver\n",
    "from selenium.webdriver.chrome.options import Options"
   ]
  },
  {
   "cell_type": "code",
   "execution_count": 29,
   "metadata": {},
   "outputs": [],
   "source": [
    "from selenium import webdriver\n",
    "from selenium.webdriver.support.wait import WebDriverWait\n",
    "from selenium.webdriver.support import expected_conditions as EC\n",
    "from selenium.webdriver.common.by import By"
   ]
  },
  {
   "cell_type": "markdown",
   "metadata": {},
   "source": [
    "## Get Indeks Link"
   ]
  },
  {
   "cell_type": "code",
   "execution_count": 42,
   "metadata": {},
   "outputs": [
    {
     "name": "stdout",
     "output_type": "stream",
     "text": [
      "page  1\n",
      "https://indeks.kompas.com/news/2018-07-28/1\n",
      "page  2\n",
      "https://indeks.kompas.com/news/2018-07-28/2\n",
      "page  3\n",
      "https://indeks.kompas.com/news/2018-07-28/3\n",
      "page  4\n",
      "https://indeks.kompas.com/news/2018-07-28/4\n",
      "page  5\n",
      "https://indeks.kompas.com/news/2018-07-28/5\n",
      "page  6\n",
      "https://indeks.kompas.com/news/2018-07-28/6\n",
      "page  7\n",
      "https://indeks.kompas.com/news/2018-07-28/7\n"
     ]
    }
   ],
   "source": [
    "links = getIndeksLink([], 1, 'news', 'news', '2018-07-28')"
   ]
  },
  {
   "cell_type": "code",
   "execution_count": 43,
   "metadata": {},
   "outputs": [
    {
     "data": {
      "text/plain": [
       "[['http://regional.kompas.com/read/2018/07/28/23173601/1-agustus-api-obor-asian-games-2018-mampir-ke-danau-toba',\n",
       "  'news'],\n",
       " ['http://nasional.kompas.com/read/2018/07/28/23103901/bertemu-demokrat-pks-akan-bahas-opsi-capres-cawapres-alternatif',\n",
       "  'news'],\n",
       " ['http://regional.kompas.com/read/2018/07/28/23083031/karir-politik-bupati-lampung-selatan-sebelum-terjegal-fee-rp-700-juta',\n",
       "  'news'],\n",
       " ['http://regional.kompas.com/read/2018/07/28/22524061/sebelum-ott-kpk-lampung-selatan-tiga-kali-dapat-penilaian-zona-merah',\n",
       "  'news'],\n",
       " ['http://regional.kompas.com/read/2018/07/28/22505251/tilang-on-the-spot-segera-diterapkan-di-surabaya',\n",
       "  'news'],\n",
       " ['http://regional.kompas.com/read/2018/07/28/22453671/di-karawang-aksi-long-march-laskar-santri-disambut-pawai-obor',\n",
       "  'news'],\n",
       " ['http://regional.kompas.com/read/2018/07/28/22255841/sebelum-dikirim-ilegal-ke-malaysia-31-wna-bangladesh-disembunyikan-di-hutan',\n",
       "  'news'],\n",
       " ['http://megapolitan.kompas.com/read/2018/07/28/22232341/syarif-hasil-pemeriksaan-kasn-kok-disampaikan-lewat-siaran-pers',\n",
       "  'news'],\n",
       " ['http://nasional.kompas.com/read/2018/07/28/22162421/selamat-dari-kapal-tenggelam-di-samudera-atlantik-tujuh-wni-dipulangkan',\n",
       "  'news'],\n",
       " ['http://megapolitan.kompas.com/read/2018/07/28/22132921/penembakan-yang-tewaskan-pengusaha-minyak-di-pejagalan-karena-persaingan',\n",
       "  'news'],\n",
       " ['http://megapolitan.kompas.com/read/2018/07/28/22111701/tanggapi-kasn-soal-perombakan-pejabat-dki-anies-akan-kirim-surat',\n",
       "  'news'],\n",
       " ['http://megapolitan.kompas.com/read/2018/07/28/21560741/disdik-dki-siswa-34-sekolah-yang-libur-akan-diberi-tugas-bisa-saja',\n",
       "  'news'],\n",
       " ['http://nasional.kompas.com/read/2018/07/28/21541741/hasto-sebut-pdi-p-tak-cari-pemimpin-yang-besar-karena-orangtua',\n",
       "  'news'],\n",
       " ['http://nasional.kompas.com/read/2018/07/28/21462631/sportscapes-merayakan-dunia-olahraga-indonesia-lewat-fotografi',\n",
       "  'news'],\n",
       " ['http://megapolitan.kompas.com/read/2018/07/28/21412161/syarif-rekomendasi-kasn-soal-perombakan-pejabat-prematur-dan-politis',\n",
       "  'news'],\n",
       " ['http://regional.kompas.com/read/2018/07/28/21064901/densus-88-tangkap-lima-terduga-teroris-di-riau',\n",
       "  'news'],\n",
       " ['http://nasional.kompas.com/read/2018/07/28/21012971/menurut-pendiri-pks-2019-tak-akan-ganti-presiden',\n",
       "  'news'],\n",
       " ['http://nasional.kompas.com/read/2018/07/28/20471751/ngabalin-sebut-kritik-prabowo-subianto-soal-kemiskinan-menyesatkan',\n",
       "  'news'],\n",
       " ['http://internasional.kompas.com/read/2018/07/28/20350091/dari-perut-remaja-dokter-keluarkan-gumpalan-rambut-seperti-bayi',\n",
       "  'news'],\n",
       " ['http://nasional.kompas.com/read/2018/07/28/20120571/pengurus-parpol-dinilai-akan-sulit-akali-kpu-untuk-jadi-anggota-dpd',\n",
       "  'news'],\n",
       " ['http://internasional.kompas.com/read/2018/07/28/20000051/taliban-mengklaim-bertemu-pejabat-as-bahas-perdamaian',\n",
       "  'news'],\n",
       " ['http://megapolitan.kompas.com/read/2018/07/28/19542791/gor-bulungan-dipakai-asian-games-sekolah-yang-diliburkan-mungkin',\n",
       "  'news'],\n",
       " ['http://megapolitan.kompas.com/read/2018/07/28/19365831/kronologi-penembakan-yang-menewaskan-pengusaha-minyak-di-pejagalan',\n",
       "  'news'],\n",
       " ['http://nasional.kompas.com/read/2018/07/28/19300021/girl-in-tech-indonesia--upaya-optimalkan-peran-wanita-dalam-teknologi',\n",
       "  'news'],\n",
       " ['http://internasional.kompas.com/read/2018/07/28/19150051/ratusan-anak-di-kamp-musim-panas-rusia-dikepung-keluarga-beruang',\n",
       "  'news'],\n",
       " ['http://nasional.kompas.com/read/2018/07/28/19072961/dikritik-fadli-zon-soal-penunjukkan-komisaris-bumn-ini-kata-ngabalin',\n",
       "  'news'],\n",
       " ['http://nasional.kompas.com/read/2018/07/28/18401441/kasus-suap-bupati-lampung-selatan-kpk-geledah-lima-tempat',\n",
       "  'news'],\n",
       " ['http://regional.kompas.com/read/2018/07/28/18300071/sedang-tren-bisnis-jual-barang-kuno-yang-hasilnya-menggiurkan',\n",
       "  'news'],\n",
       " ['http://internasional.kompas.com/read/2018/07/28/18300021/berusaha-melahirkan-di-rumah-bermodalkan-youtube-seorang-ibu-tewas',\n",
       "  'news'],\n",
       " ['http://megapolitan.kompas.com/read/2018/07/28/18172071/empat-pelaku-penembakan-di-pejagalan-ditangkap-satu-orang-buron',\n",
       "  'news'],\n",
       " ['http://regional.kompas.com/read/2018/07/28/18000041/startup-pamer-kuliner-kreatif-di-surabaya-ada-kripik-tempe-krezi-hingga-sate',\n",
       "  'news'],\n",
       " ['http://megapolitan.kompas.com/read/2018/07/28/17520271/anies-yang-disemprot-ke-kali-item-itu-penghilang-bau-bukan-pewangi',\n",
       "  'news'],\n",
       " ['http://nasional.kompas.com/read/2018/07/28/17385621/putusan-mk-soal-pengurus-parpol-dilarang-ke-dpd-dinilai-langsung-berlaku',\n",
       "  'news'],\n",
       " ['http://internasional.kompas.com/read/2018/07/28/17250091/pesawat-jatuh-di-gunung-alpen-4-orang-tewas',\n",
       "  'news'],\n",
       " ['http://internasional.kompas.com/read/2018/07/28/17150051/jet-tempur-termahal-f-35-israel-dilaporkan-tertangkap-radar',\n",
       "  'news'],\n",
       " ['http://regional.kompas.com/read/2018/07/28/17000001/kaum-ibu-gabung-gerakan-jadibarulagi-ubah-barang-bekas-jadi-berguna',\n",
       "  'news'],\n",
       " ['http://regional.kompas.com/read/2018/07/28/16412411/simpan-lebih-dari-30-paket-ganja-warga-papua-niugini-diringkus-polisi',\n",
       "  'news'],\n",
       " ['http://megapolitan.kompas.com/read/2018/07/28/16251661/anies-janji-akan-menambah-slb-di-jakarta',\n",
       "  'news'],\n",
       " ['http://megapolitan.kompas.com/read/2018/07/28/16121101/sandiaga-puji-prabowo-yang-legawa-tak-maju-jika-ada-yang-lebih-baik',\n",
       "  'news'],\n",
       " ['http://nasional.kompas.com/read/2018/07/28/15544521/diaz-hendropriyono-jika-pak-jokowi-terpilih-lagi-akan-ada-lebih-banyak-wajah',\n",
       "  'news'],\n",
       " ['http://megapolitan.kompas.com/read/2018/07/28/15492951/sandiaga-keterlibatan-pemerintah-pusat-di-kali-sentiong-adalah-kolaborasi',\n",
       "  'news'],\n",
       " ['http://nasional.kompas.com/read/2018/07/28/15470891/bukan-rahasia-lagi-kalau-dpd-dikuasai-partai-politik',\n",
       "  'news'],\n",
       " ['http://nasional.kompas.com/read/2018/07/28/15434671/mabes-tni-kirim-bantuan-untuk-suku-mausu-ane-yang-kena-musibah-kelaparan',\n",
       "  'news'],\n",
       " ['http://edukasi.kompas.com/read/2018/07/28/15410451/mengulik-sejarah-gedung-hoogere-kweek-school-sekolah-guru-di-masa-kolonial',\n",
       "  'news'],\n",
       " ['http://regional.kompas.com/read/2018/07/28/15360271/dari-papua-api-obor-asian-games-tiba-di-makassar-diarak-keliling-sulsel',\n",
       "  'news'],\n",
       " ['http://megapolitan.kompas.com/read/2018/07/28/15303471/sandiaga-2017-2018-2019-katanya-tahun-politik-politik-terus-kapan',\n",
       "  'news'],\n",
       " ['http://regional.kompas.com/read/2018/07/28/15225231/gubernur-sumsel-jamin-asian-games-tak-diganggu-kabut-asap',\n",
       "  'news'],\n",
       " ['http://regional.kompas.com/read/2018/07/28/15195781/antasena-tank-boat-pertama-di-dunia-yang-dibuat-di-banyuwangi',\n",
       "  'news'],\n",
       " ['http://nasional.kompas.com/read/2018/07/28/15193191/bertemu-jokowi-ketua-umum-psi-perindo-dan-pkpi-bahas-cawapres',\n",
       "  'news'],\n",
       " ['http://internasional.kompas.com/read/2018/07/28/15155941/kabar-dunia-sepekan-gajah-kerdil-hingga-perbandingan-militer-as-iran',\n",
       "  'news'],\n",
       " ['http://internasional.kompas.com/read/2018/07/28/14390091/anggota-parlemen-ghana-tertawa-karena-mendengar-nama-desa-ini',\n",
       "  'news'],\n",
       " ['http://megapolitan.kompas.com/read/2018/07/28/14324591/sandiaga-jika-harga-naik-siapa-yang-disalahin-bukan-presiden-menteri',\n",
       "  'news'],\n",
       " ['http://megapolitan.kompas.com/read/2018/07/28/14265901/anies-kenapa-kasn-harus-press-release-kan-bukan-partai-bukan-ormas',\n",
       "  'news'],\n",
       " ['http://regional.kompas.com/read/2018/07/28/14260081/ini-penjelasan-bmkg-soal-embun-es-dieng-dan-kabut-pagi-cilacap',\n",
       "  'news'],\n",
       " ['http://megapolitan.kompas.com/read/2018/07/28/14205401/kali-item-mau-dikasih-pewangi-sandiaga-bilang-harusnya-urus-sumber-baunya',\n",
       "  'news'],\n",
       " ['http://regional.kompas.com/read/2018/07/28/14153981/dedi-mulyadi-siap-ke-china-untuk-jemput-para-korban-kawin-kontrak',\n",
       "  'news'],\n",
       " ['http://megapolitan.kompas.com/read/2018/07/28/14153351/oknum-suporter-sepak-bola-keroyok-penumpang-kereta-di-stasiun-senen',\n",
       "  'news'],\n",
       " ['http://internasional.kompas.com/read/2018/07/28/14050621/menhan-as-bantah-bakal-menyerang-iran-bulan-depan',\n",
       "  'news'],\n",
       " ['http://nasional.kompas.com/read/2018/07/28/13575341/santap-siang-dengan-jokowi-pkpi-tidak-sodorkan-nama-cawapres',\n",
       "  'news'],\n",
       " ['http://regional.kompas.com/read/2018/07/28/13500791/samantha-gadis-cilik-juara-dunia-catur-asal-bandung-kejar-gelar-grandmaster',\n",
       "  'news'],\n",
       " ['http://internasional.kompas.com/read/2018/07/28/13373161/as-harus-cek-jika-kerangka-tentara-yang-dikembalikan-korut-asli',\n",
       "  'news'],\n",
       " ['http://nasional.kompas.com/read/2018/07/28/13373031/pks-peluang-anies-baswedan-diusung-sebagai-capres-2019-semakin-kecil',\n",
       "  'news'],\n",
       " ['http://megapolitan.kompas.com/read/2018/07/28/13232401/ramai-ramai-berlebaran-betawi-di-setu-babakan',\n",
       "  'news'],\n",
       " ['http://nasional.kompas.com/read/2018/07/28/13180061/jokowi-mereka-membawa-pikiran-semangat-dan-kegairahan-baru-di-dunia-politik',\n",
       "  'news'],\n",
       " ['http://nasional.kompas.com/read/2018/07/28/13102881/sabtu-siang-jokowi-jamu-santap-siang-grace-natalie-hary-tanoe-dan-diaz',\n",
       "  'news'],\n",
       " ['http://regional.kompas.com/read/2018/07/28/12183721/hanya-dengan-pengurusan-skck-polres-merauke-sumbang-rp-113-juta-ke-negara',\n",
       "  'news'],\n",
       " ['http://megapolitan.kompas.com/read/2018/07/28/12095421/kali-item-direncanakan-disemprot-pewangi-sabtu-ini-petugas-lapangan-tidak',\n",
       "  'news'],\n",
       " ['http://megapolitan.kompas.com/read/2018/07/28/12082051/sandiaga-perombakan-pejabat-dki-sudah-sesuai-aturan',\n",
       "  'news'],\n",
       " ['http://megapolitan.kompas.com/read/2018/07/28/12002331/bina-marga-jpo-yang-memprihatinkan-di-daan-mogot-sudah-diperbaiki',\n",
       "  'news'],\n",
       " ['http://nasional.kompas.com/read/2018/07/28/11592991/pks-jangan-sampai-pacaran-dengan-siapa-nikahnya-dengan-siapa',\n",
       "  'news'],\n",
       " ['http://nasional.kompas.com/read/2018/07/28/11591621/hari-ini-dalam-sejarah-28-juli-1995-vietnam-menjadi-anggota-asean',\n",
       "  'news'],\n",
       " ['http://regional.kompas.com/read/2018/07/28/11511221/harga-jual-ayam-potong-di-batam-capai-rp-42-ribu-perkilonya',\n",
       "  'news'],\n",
       " ['http://internasional.kompas.com/read/2018/07/28/11382111/trump-bantah-putranya-adakan-pertemuan-dengan-rusia',\n",
       "  'news'],\n",
       " ['http://megapolitan.kompas.com/read/2018/07/28/11274661/saat-pemerintah-pusat-turun-tangan-mengatasi-permasalahan-kali-item',\n",
       "  'news'],\n",
       " ['http://nasional.kompas.com/read/2018/07/28/10334441/zulkifli-hasan-sebut-adiknya-diberhentikan-dari-partai-setelah-berstatus',\n",
       "  'news'],\n",
       " ['http://nasional.kompas.com/read/2018/07/28/10262681/16-bacaleg-mantan-napi-korupsi-partai-berkarya-akui-kecolongan',\n",
       "  'news'],\n",
       " ['http://edukasi.kompas.com/read/2018/07/28/10030041/sebelum-membuat-infografis-pahami-dulu-konsepnya-',\n",
       "  'news'],\n",
       " ['http://nasional.kompas.com/read/2018/07/28/09470021/zulkifli-hasan-sekarang-keadaan-kita-tambah-susah-apa-senang',\n",
       "  'news'],\n",
       " ['http://nasional.kompas.com/read/2018/07/28/09333411/ditahan-15-tahun-oleh-majikan-tki-asal-lampung-segera-dipulangkan',\n",
       "  'news'],\n",
       " ['http://nasional.kompas.com/read/2018/07/28/09240401/prabowo-capek-juga-ketemu-orang-orang-pks-sama-pan',\n",
       "  'news'],\n",
       " ['http://nasional.kompas.com/read/2018/07/28/09140791/prabowo-legowo-jika-tak-jadi-capres-pks-anggap-sikap-negarawan',\n",
       "  'news'],\n",
       " ['http://nasional.kompas.com/read/2018/07/28/09074011/pelukan-erat-keluarga-sebelum-bupati-lampung-selatan-naik-mobil-tahanan',\n",
       "  'news'],\n",
       " ['http://nasional.kompas.com/read/2018/07/28/08564501/kecolongan-5-bacalegnya-eks-koruptor-pks-cari-pengganti',\n",
       "  'news'],\n",
       " ['http://megapolitan.kompas.com/read/2018/07/28/08392031/ada-bus-transjakarta-gratis-untuk-warga-yang-ingin-ke-lebaran-betawi',\n",
       "  'news'],\n",
       " ['http://regional.kompas.com/read/2018/07/28/08105451/peringatan-keras-jokowi-kepala-daerah-jangan-main-main-dengan-korupsi',\n",
       "  'news'],\n",
       " ['http://nasional.kompas.com/read/2018/07/28/08000011/infografik--17-bakal-caleg-di-11-kota-eks-koruptor',\n",
       "  'news'],\n",
       " ['http://megapolitan.kompas.com/read/2018/07/28/07563371/anies-tak-harus-kembalikan-pejabat-yang-dicopot-ke-posisi-semula-tetapi',\n",
       "  'news'],\n",
       " ['http://megapolitan.kompas.com/read/2018/07/28/07465651/sebelum-penusukan-tetangga-lihat-seseorang-masuk-rumah-s-di-villa-kapuk',\n",
       "  'news'],\n",
       " ['http://megapolitan.kompas.com/read/2018/07/28/07403301/mau-ke-lebaran-betawi-parkir-kendaraan-anda-di-tempat-ini',\n",
       "  'news'],\n",
       " ['http://megapolitan.kompas.com/read/2018/07/28/07361371/polisi-tangkap-tiga-penembak-pria-hingga-tewas-di-pejagalan',\n",
       "  'news'],\n",
       " ['http://megapolitan.kompas.com/read/2018/07/28/07305901/ada-lebaran-betawi-di-setu-babakan-ini-pengaturan-lalu-lintasnya',\n",
       "  'news'],\n",
       " ['http://megapolitan.kompas.com/read/2018/07/28/07261791/kronologi-truk-tabrak-odong-odong-hingga-masuk-saluran-air-di-cakung',\n",
       "  'news'],\n",
       " ['http://nasional.kompas.com/read/2018/07/28/07080071/keanekaragaman-hayati-dan-eksistensi-kelapa-sawit-di-indonesia',\n",
       "  'news'],\n",
       " ['http://megapolitan.kompas.com/read/2018/07/28/06502021/ketika-perombakan-pejabat-ala-anies-sandiaga-dinyatakan-langgar-prosedur',\n",
       "  'news'],\n",
       " ['http://nasional.kompas.com/read/2018/07/28/06440231/infografik-tuan-guru-bajang',\n",
       "  'news'],\n",
       " ['http://regional.kompas.com/read/2018/07/28/06342621/dua-pelaku-pungli-pembuatan-sertifikat-tanah-di-bpn-siak-ditahan',\n",
       "  'news'],\n",
       " ['http://nasional.kompas.com/read/2018/07/28/05300081/densus-tangkap-terduga-teroris-yang-akan-beraksi-di-tahun-baru-2019',\n",
       "  'news'],\n",
       " ['http://nasional.kompas.com/read/2018/07/28/01031791/kata-majelis-syuro-pks-soal-kepentingan-partai-partai-koalisi-di-pilpres',\n",
       "  'news'],\n",
       " ['http://nasional.kompas.com/read/2018/07/28/00402521/bupati-lampung-selatan-mengaku-terima-uang-untuk-kegiatan-tarbiyah',\n",
       "  'news'],\n",
       " ['http://nasional.kompas.com/read/2018/07/28/00362121/ketua-majelis-syuro-pks-tetap-9-nama-di-luar-itu-belum-dibicarakan',\n",
       "  'news']]"
      ]
     },
     "execution_count": 43,
     "metadata": {},
     "output_type": "execute_result"
    }
   ],
   "source": [
    "links"
   ]
  },
  {
   "cell_type": "code",
   "execution_count": 97,
   "metadata": {},
   "outputs": [],
   "source": [
    "def getIndeksLink(links, page, cat_link, category, date=datetime.strftime(datetime.today(), '%Y-%m-%d')):\n",
    "    \"\"\"\n",
    "    Untuk mengambil seluruh url \n",
    "    link pada indeks category tertentu\n",
    "    date format : YYYY-mm-dd\n",
    "    \"\"\"\n",
    "    print(\"page \", page)\n",
    "    url = \"https://indeks.kompas.com/\"+cat_link+\"/\"+date+\"/\"+str(page)\n",
    "    print(url)\n",
    "    # Make the request and create the response object: response\n",
    "    response = requests.get(url)\n",
    "    # Extract HTML texts contained in Response object: html\n",
    "    html = response.text\n",
    "    # Create a BeautifulSoup object from the HTML: soup\n",
    "    soup = BeautifulSoup(html, \"html5lib\")\n",
    "    contentDiv = soup.findAll('div', class_=\"article__list clearfix\")\n",
    "    for post in contentDiv:\n",
    "        link = [post.find('a', href=True)['href'], category]\n",
    "#         print(link)\n",
    "        links.append(link)\n",
    "        \n",
    "    el_page = soup.find('div', class_=\"paging__wrap clearfix\")\n",
    "    if el_page:\n",
    "        a_page = el_page.findAll('div', class_='paging__item')[-1].find('a')\n",
    "        if  el_page.findAll('div', class_='paging__item')[-1].find('a', class_=\"paging__link paging__link--active\"):\n",
    "            max_page = page\n",
    "        else:\n",
    "            max_page = int(a_page['data-ci-pagination-page'].replace('\\n', '').strip(' '))\n",
    "            \n",
    "        if page < max_page:\n",
    "            links = getIndeksLink(links, page+1, cat_link, category, date)\n",
    "        \n",
    "    return links"
   ]
  },
  {
   "cell_type": "code",
   "execution_count": 116,
   "metadata": {},
   "outputs": [],
   "source": [
    "articles = {}\n",
    "url = \"https://indeks.kompas.com/news/2018-07-28/7\"\n",
    "response = requests.get(url)\n",
    "    # Extract HTML texts contained in Response object: html\n",
    "html = response.text\n",
    "    # Create a BeautifulSoup object from the HTML: soup\n",
    "soup = BeautifulSoup(html, \"html5lib\")\n",
    "# soup"
   ]
  },
  {
   "cell_type": "code",
   "execution_count": 117,
   "metadata": {},
   "outputs": [
    {
     "data": {
      "text/plain": [
       "<div class=\"paging__wrap clearfix\"><div class=\"paging__item\"><a class=\"paging__link paging__link--next\" data-ci-pagination-page=\"1\" href=\"http://indeks.kompas.com/news/2018-07-28\" rel=\"start\">‹ First</a></div><div class=\"paging__item\"><a class=\"paging__link paging__link--prev\" data-ci-pagination-page=\"6\" href=\"http://indeks.kompas.com/news/2018-07-28/6\" rel=\"prev\">Prev</a></div><div class=\"paging__item\"><a class=\"paging__link\" data-ci-pagination-page=\"5\" href=\"http://indeks.kompas.com/news/2018-07-28/5\">5</a></div><div class=\"paging__item\"><a class=\"paging__link\" data-ci-pagination-page=\"6\" href=\"http://indeks.kompas.com/news/2018-07-28/6\">6</a></div><div class=\"paging__item\"><a class=\"paging__link paging__link--active\" href=\"#\">7</a></div></div>"
      ]
     },
     "execution_count": 117,
     "metadata": {},
     "output_type": "execute_result"
    }
   ],
   "source": [
    "el_page = soup.find('div', class_=\"paging__wrap clearfix\")\n",
    "el_page"
   ]
  },
  {
   "cell_type": "code",
   "execution_count": 118,
   "metadata": {},
   "outputs": [
    {
     "data": {
      "text/plain": [
       "<a class=\"paging__link paging__link--active\" href=\"#\">7</a>"
      ]
     },
     "execution_count": 118,
     "metadata": {},
     "output_type": "execute_result"
    }
   ],
   "source": [
    "a_page = el_page.findAll('div', class_='paging__item')[-1].find('a')\n",
    "a_page"
   ]
  },
  {
   "cell_type": "code",
   "execution_count": 119,
   "metadata": {},
   "outputs": [
    {
     "data": {
      "text/plain": [
       "<a class=\"paging__link paging__link--active\" href=\"#\">7</a>"
      ]
     },
     "execution_count": 119,
     "metadata": {},
     "output_type": "execute_result"
    }
   ],
   "source": [
    "soup.findAll('div', class_='paging__item')[-1].find('a')"
   ]
  },
  {
   "cell_type": "code",
   "execution_count": 114,
   "metadata": {},
   "outputs": [],
   "source": [
    "el_page.findAll('div', class_='paging__item')[-1].find('a', class_=\"paging__link paging__link--active\")"
   ]
  },
  {
   "cell_type": "code",
   "execution_count": 115,
   "metadata": {},
   "outputs": [
    {
     "data": {
      "text/plain": [
       "7"
      ]
     },
     "execution_count": 115,
     "metadata": {},
     "output_type": "execute_result"
    }
   ],
   "source": [
    "max_page = int(a_page['data-ci-pagination-page'].replace('\\n', '').strip(' '))\n",
    "max_page"
   ]
  },
  {
   "cell_type": "markdown",
   "metadata": {},
   "source": [
    "## Get Detail Berita"
   ]
  },
  {
   "cell_type": "code",
   "execution_count": null,
   "metadata": {},
   "outputs": [],
   "source": [
    "def getDetailBerita(links):\n",
    "    all_articles = {}\n",
    "    for link in links:\n",
    "        #link\n",
    "        articles['url'] = link[0]\n",
    "        response = requests.get(url)\n",
    "        html = response.text\n",
    "        # Create a BeautifulSoup object from the HTML: soup\n",
    "        soup = BeautifulSoup(html, \"html5lib\")\n",
    "\n",
    "        #articleid\n",
    "        articles['id'] = int(soup.find(\"meta\", attrs={'name':'cXenseParse:articleid'})['content'])\n",
    "\n",
    "        #category\n",
    "        articles['category'] = link[1]\n",
    "        articles['url'] = url\n",
    "\n",
    "        #extract subcategory from breadcrumb\n",
    "        bc = soup.find('ul', class_=\"breadcrumb__wrap\")\n",
    "        articles['subcategory'] = bc.findAll('li')[2].text\n",
    "\n",
    "        #article\n",
    "        article = soup.find(\"div\", class_=\"read__content\")\n",
    "\n",
    "        #extract date\n",
    "        pubdate = soup.find(\"meta\", attrs={\"name\":\"content_PublishedDate\"})['content']\n",
    "        pubdate = pubdate.strip(' \\t\\n\\r')\n",
    "        articles['pubdate']=datetime.strftime(datetime.strptime(pubdate, \"%Y-%m-%d %H:%M:%S\"), \"%Y-%m-%d %H:%M:%S\")\n",
    "\n",
    "        #extract author\n",
    "        articles['author'] = soup.find('div', class_=\"read__author\").text\n",
    "\n",
    "        #extract title\n",
    "        articles['title'] = soup.find('h1', class_=\"read__title\").text      \n",
    "\n",
    "        #source\n",
    "        articles['source'] = 'kompas'\n",
    "\n",
    "        #extract comments count\n",
    "#         options = Options()\n",
    "#         options.add_argument('--headless')\n",
    "#         options.add_argument('--disable-gpu')  # Last I checked this was necessary.\n",
    "#         options.add_argument('--disable-extensions')\n",
    "\n",
    "#         driver = webdriver.Chrome(\"../chromedriver.exe\", chrome_options=options)\n",
    "#         driver.get(url)\n",
    "#         html = driver.page_source\n",
    "#         soup = BeautifulSoup(html, 'html5lib')\n",
    "\n",
    "#         comment = soup.find('div', class_=\"span4 comments-count tright\")\n",
    "#         comment_num = comment.text.replace('Ada ', '')\n",
    "#         comment_num = comment_num.replace(' komentar untuk artikel ini', '')\n",
    "        articles['comments'] = 0\n",
    "\n",
    "        #extract tags\n",
    "        tags = soup.find(\"meta\", attrs={'name':'content_tag'})['content']\n",
    "        articles['tags'] = tags\n",
    "\n",
    "        #extract images\n",
    "        articles['images'] = soup.find('meta', attrs={'property':'og:image'})['content']\n",
    "\n",
    "\n",
    "        #hapus link sisip\n",
    "        #         for link in detail.findAll('table', class_=\"linksisip\"):\n",
    "        #             link.decompose()\n",
    "\n",
    "        #hapus video sisip\n",
    "        #         for tag in detail.findAll('div', class_=\"detail_tag\"):\n",
    "        #             tag.decompose()\n",
    "\n",
    "        #hapus all setelah clear fix\n",
    "        #for det in detail.find('div', class_=\"wfull fl rl\"):\n",
    "        #     det.decompose()\n",
    "\n",
    "        #hapus all script\n",
    "        for script in article.findAll('script'):\n",
    "            script.decompose()\n",
    "\n",
    "        #extract content\n",
    "        detail = BeautifulSoup(article.decode_contents().replace('<br/>', ' '), \"html5lib\")\n",
    "        content = re.sub(r'\\n|\\t|\\b|\\r','',detail.text)\n",
    "        #articles['content'] = re.sub('google*','', content).strip(' ')\n",
    "        articles['content']\n",
    "        #print('memasukkan berita id ', articles['id'])\n",
    "\n",
    "        all_articles.append(articles)\n",
    "\n",
    "    return all_articles"
   ]
  },
  {
   "cell_type": "code",
   "execution_count": 66,
   "metadata": {},
   "outputs": [],
   "source": [
    "url = \"https://regional.kompas.com/read/2018/07/28/22524061/sebelum-ott-kpk-lampung-selatan-tiga-kali-dapat-penilaian-zona-merah\""
   ]
  },
  {
   "cell_type": "code",
   "execution_count": 67,
   "metadata": {},
   "outputs": [],
   "source": [
    "articles = {}\n",
    "url = \"https://regional.kompas.com/read/2018/07/28/22524061/sebelum-ott-kpk-lampung-selatan-tiga-kali-dapat-penilaian-zona-merah\"\n",
    "response = requests.get(url)\n",
    "    # Extract HTML texts contained in Response object: html\n",
    "html = response.text\n",
    "    # Create a BeautifulSoup object from the HTML: soup\n",
    "soup = BeautifulSoup(html, \"html5lib\")\n",
    "# soup"
   ]
  },
  {
   "cell_type": "code",
   "execution_count": null,
   "metadata": {},
   "outputs": [],
   "source": [
    "details = [getDetailBerita(links[0:2])]\n",
    "details"
   ]
  },
  {
   "cell_type": "code",
   "execution_count": null,
   "metadata": {},
   "outputs": [],
   "source": [
    "df = pd.DataFrame(detail)"
   ]
  },
  {
   "cell_type": "code",
   "execution_count": 445,
   "metadata": {},
   "outputs": [
    {
     "data": {
      "text/html": [
       "<div>\n",
       "<style scoped>\n",
       "    .dataframe tbody tr th:only-of-type {\n",
       "        vertical-align: middle;\n",
       "    }\n",
       "\n",
       "    .dataframe tbody tr th {\n",
       "        vertical-align: top;\n",
       "    }\n",
       "\n",
       "    .dataframe thead th {\n",
       "        text-align: right;\n",
       "    }\n",
       "</style>\n",
       "<table border=\"1\" class=\"dataframe\">\n",
       "  <thead>\n",
       "    <tr style=\"text-align: right;\">\n",
       "      <th></th>\n",
       "      <th>author</th>\n",
       "      <th>comments</th>\n",
       "      <th>content</th>\n",
       "      <th>id</th>\n",
       "      <th>images</th>\n",
       "      <th>pubdate</th>\n",
       "      <th>source</th>\n",
       "      <th>subcategory</th>\n",
       "      <th>tags</th>\n",
       "      <th>title</th>\n",
       "      <th>url</th>\n",
       "    </tr>\n",
       "  </thead>\n",
       "  <tbody>\n",
       "    <tr>\n",
       "      <th>0</th>\n",
       "      <td>Kontributor Lampung, Eni Muslihah</td>\n",
       "      <td>7</td>\n",
       "      <td>BANDAR LAMPUNG, KOMPAS.com -  Ombudsman RI Per...</td>\n",
       "      <td>1634180</td>\n",
       "      <td>https://asset.kompas.com/crop/0x0:1000x667/780...</td>\n",
       "      <td>2018-07-28 22:52:40</td>\n",
       "      <td>kompas</td>\n",
       "      <td>Regional</td>\n",
       "      <td>KPK, Ombudsman, Bandar Lampung, Lampung Selata...</td>\n",
       "      <td>Sebelum OTT KPK, Lampung Selatan Tiga Kali Dap...</td>\n",
       "      <td>https://regional.kompas.com/read/2018/07/28/22...</td>\n",
       "    </tr>\n",
       "  </tbody>\n",
       "</table>\n",
       "</div>"
      ],
      "text/plain": [
       "                              author  comments  \\\n",
       "0  Kontributor Lampung, Eni Muslihah         7   \n",
       "\n",
       "                                             content       id  \\\n",
       "0  BANDAR LAMPUNG, KOMPAS.com -  Ombudsman RI Per...  1634180   \n",
       "\n",
       "                                              images              pubdate  \\\n",
       "0  https://asset.kompas.com/crop/0x0:1000x667/780...  2018-07-28 22:52:40   \n",
       "\n",
       "   source subcategory                                               tags  \\\n",
       "0  kompas    Regional  KPK, Ombudsman, Bandar Lampung, Lampung Selata...   \n",
       "\n",
       "                                               title  \\\n",
       "0  Sebelum OTT KPK, Lampung Selatan Tiga Kali Dap...   \n",
       "\n",
       "                                                 url  \n",
       "0  https://regional.kompas.com/read/2018/07/28/22...  "
      ]
     },
     "execution_count": 445,
     "metadata": {},
     "output_type": "execute_result"
    }
   ],
   "source": [
    "df"
   ]
  },
  {
   "cell_type": "code",
   "execution_count": 446,
   "metadata": {},
   "outputs": [
    {
     "data": {
      "text/plain": [
       "[<a class=\"inner-link\" href=\"http://indeks.kompas.com/tag/Bandar-Lampung\" style=\"color:#428bca;\" target=\"_blank\">BANDAR LAMPUNG</a>,\n",
       " <a class=\"inner-link\" href=\"http://indeks.kompas.com/tag/Ombudsman\" style=\"color:#428bca;\" target=\"_blank\">Ombudsman</a>,\n",
       " <a class=\"inner-link\" href=\"http://indeks.kompas.com/tag/Lampung-Selatan\" style=\"color:#428bca;\" target=\"_blank\">Lampung Selatan</a>,\n",
       " <a class=\"inner-link\" href=\"http://nasional.kompas.com/read/2018/07/28/18401441/kasus-suap-bupati-lampung-selatan-kpk-geledah-lima-tempat\" target=\"_blank\">Kasus Suap Bupati Lampung Selatan, KPK Geledah Lima Tempat</a>,\n",
       " <a class=\"inner-link\" href=\"http://indeks.kompas.com/tag/OTT\" style=\"color:#428bca;\" target=\"_blank\">OTT</a>,\n",
       " <a class=\"inner-link\" href=\"http://indeks.kompas.com/tag/KPK\" style=\"color:#428bca;\" target=\"_blank\">KPK</a>,\n",
       " <a class=\"inner-link\" href=\"http://indeks.kompas.com/tag/Zainuddin-Hasan\" style=\"color:#428bca;\" target=\"_blank\">Zainuddin Hasan</a>,\n",
       " <a class=\"inner-link\" href=\"http://nasional.kompas.com/read/2018/07/28/09074011/pelukan-erat-keluarga-sebelum-bupati-lampung-selatan-naik-mobil-tahanan\" target=\"_blank\">Pelukan Erat Keluarga Sebelum Bupati Lampung Selatan Naik Mobil Tahanan</a>]"
      ]
     },
     "execution_count": 446,
     "metadata": {},
     "output_type": "execute_result"
    }
   ],
   "source": [
    "soup.findAll('a', class_=\"inner-link\")"
   ]
  },
  {
   "cell_type": "code",
   "execution_count": 438,
   "metadata": {},
   "outputs": [],
   "source": [
    "# detail = BeautifulSoup(article.decode_contents().replace('<br/>', ' '), \"html5lib\")\n",
    "# content = re.sub(r'\\n|\\t|\\b|\\r','',detail.text)\n",
    "# articles['content'] = re.sub('google.*','', content).strip(' ')\n",
    "# articles['content']\n",
    "# # print('memasukkan berita id ', articles['id'])"
   ]
  }
 ],
 "metadata": {
  "kernelspec": {
   "display_name": "Python 3",
   "language": "python",
   "name": "python3"
  },
  "language_info": {
   "codemirror_mode": {
    "name": "ipython",
    "version": 3
   },
   "file_extension": ".py",
   "mimetype": "text/x-python",
   "name": "python",
   "nbconvert_exporter": "python",
   "pygments_lexer": "ipython3",
   "version": "3.6.4"
  }
 },
 "nbformat": 4,
 "nbformat_minor": 2
}
