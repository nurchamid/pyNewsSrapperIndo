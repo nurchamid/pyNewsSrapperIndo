{
 "cells": [
  {
   "cell_type": "code",
   "execution_count": 1,
   "metadata": {},
   "outputs": [],
   "source": [
    "from Gridoto import Gridoto\n",
    "from datetime import timedelta, date, datetime\n",
    "from IPython.display import clear_output\n",
    "\n",
    "def daterange(start_date, end_date):\n",
    "    for n in range(int ((end_date - start_date).days)):\n",
    "        yield start_date + timedelta(n)\n",
    "obj = Gridoto()"
   ]
  },
  {
   "cell_type": "code",
   "execution_count": 2,
   "metadata": {},
   "outputs": [],
   "source": [
    "end_date = date(2018, 8, 13)\n",
    "start_date = date(2018, 2, 20)\n",
    "init_page = 6"
   ]
  },
  {
   "cell_type": "code",
   "execution_count": 3,
   "metadata": {},
   "outputs": [
    {
     "name": "stdout",
     "output_type": "stream",
     "text": [
      "2018-03-16\n",
      "page  1\n",
      "https://www.gridoto.com/index?day=16&month=3&year=2018&section=all&page=1\n",
      "https://www.gridoto.com/read/01233074/keluar-percikan-api-ada-masalah-apa-dengan-motor-lorenzo?page=all\n",
      "memasukkan berita id  233074\n",
      "Insert berita  https://www.gridoto.com/read/01233074/keluar-percikan-api-ada-masalah-apa-dengan-motor-lorenzo?page=all\n",
      "SELECT count(*) FROM article WHERE url like 'https://www.gridoto.com/read/01233074/keluar-percikan-api-ada-masalah-apa-dengan-motor-lorenzo?page=all'\n",
      "masuk\n",
      "https://www.gridoto.com/read/01232583/jenis-kompon-ban-yang-cocok-untuk-motor-harian?page=all\n",
      "memasukkan berita id  232583\n",
      "Insert berita  https://www.gridoto.com/read/01232583/jenis-kompon-ban-yang-cocok-untuk-motor-harian?page=all\n",
      "SELECT count(*) FROM article WHERE url like 'https://www.gridoto.com/read/01232583/jenis-kompon-ban-yang-cocok-untuk-motor-harian?page=all'\n",
      "masuk\n",
      "https://www.gridoto.com/read/01232927/jangan-nonton-sendirian-kuntilanak-enggak-pakai-helm-ditilang-polisi?page=all\n",
      "memasukkan berita id  232927\n",
      "Insert berita  https://www.gridoto.com/read/01232927/jangan-nonton-sendirian-kuntilanak-enggak-pakai-helm-ditilang-polisi?page=all\n",
      "SELECT count(*) FROM article WHERE url like 'https://www.gridoto.com/read/01232927/jangan-nonton-sendirian-kuntilanak-enggak-pakai-helm-ditilang-polisi?page=all'\n",
      "masuk\n",
      "https://www.gridoto.com/read/01233063/mau-dek-yamaha-mio-m3-bebas-baret-ini-caranya-kawan?page=all\n",
      "memasukkan berita id  233063\n",
      "Insert berita  https://www.gridoto.com/read/01233063/mau-dek-yamaha-mio-m3-bebas-baret-ini-caranya-kawan?page=all\n",
      "SELECT count(*) FROM article WHERE url like 'https://www.gridoto.com/read/01233063/mau-dek-yamaha-mio-m3-bebas-baret-ini-caranya-kawan?page=all'\n",
      "masuk\n",
      "https://www.gridoto.com/read/01233058/lagi-cari-pocket-bike-buat-seru-seruan-beli-disini-aja-bos?page=all\n",
      "memasukkan berita id  233058\n",
      "Insert berita  https://www.gridoto.com/read/01233058/lagi-cari-pocket-bike-buat-seru-seruan-beli-disini-aja-bos?page=all\n",
      "SELECT count(*) FROM article WHERE url like 'https://www.gridoto.com/read/01233058/lagi-cari-pocket-bike-buat-seru-seruan-beli-disini-aja-bos?page=all'\n",
      "masuk\n",
      "https://www.gridoto.com/read/01233044/niat-suap-polisi-untuk-lulus-ujian-sim-pria-ini-malah-disuruh-bikin-beginian?page=all\n",
      "memasukkan berita id  233044\n",
      "Insert berita  https://www.gridoto.com/read/01233044/niat-suap-polisi-untuk-lulus-ujian-sim-pria-ini-malah-disuruh-bikin-beginian?page=all\n",
      "SELECT count(*) FROM article WHERE url like 'https://www.gridoto.com/read/01233044/niat-suap-polisi-untuk-lulus-ujian-sim-pria-ini-malah-disuruh-bikin-beginian?page=all'\n",
      "masuk\n",
      "https://www.gridoto.com/read/01233009/innova-satu-ini-beda-sendiri-ukuran-peleknya-jadi-lebih-agresif?page=all\n",
      "memasukkan berita id  233009\n",
      "Insert berita  https://www.gridoto.com/read/01233009/innova-satu-ini-beda-sendiri-ukuran-peleknya-jadi-lebih-agresif?page=all\n",
      "SELECT count(*) FROM article WHERE url like 'https://www.gridoto.com/read/01233009/innova-satu-ini-beda-sendiri-ukuran-peleknya-jadi-lebih-agresif?page=all'\n",
      "masuk\n",
      "https://www.gridoto.com/read/01233053/jumlah-penumpang-transjabodetabek-naik-598-persen-dalam-seminggu-efek-ganjil-genap-mulai-terasa?page=all\n",
      "memasukkan berita id  233053\n",
      "Insert berita  https://www.gridoto.com/read/01233053/jumlah-penumpang-transjabodetabek-naik-598-persen-dalam-seminggu-efek-ganjil-genap-mulai-terasa?page=all\n",
      "SELECT count(*) FROM article WHERE url like 'https://www.gridoto.com/read/01233053/jumlah-penumpang-transjabodetabek-naik-598-persen-dalam-seminggu-efek-ganjil-genap-mulai-terasa?page=all'\n",
      "masuk\n",
      "Connection Error, but it's still trying...\n",
      "https://www.gridoto.com/read/01233037/ford-mustang-s550-besutan-shelby-saat-impian-jadi-kenyataan?page=all\n",
      "memasukkan berita id  233037\n"
     ]
    },
    {
     "ename": "UnboundLocalError",
     "evalue": "local variable 'response' referenced before assignment",
     "output_type": "error",
     "traceback": [
      "\u001b[1;31m---------------------------------------------------------------------------\u001b[0m",
      "\u001b[1;31mUnboundLocalError\u001b[0m                         Traceback (most recent call last)",
      "\u001b[1;32m<ipython-input-3-c6891f3cbdf1>\u001b[0m in \u001b[0;36m<module>\u001b[1;34m()\u001b[0m\n\u001b[0;32m      2\u001b[0m     \u001b[0mclear_output\u001b[0m\u001b[1;33m(\u001b[0m\u001b[1;33m)\u001b[0m\u001b[1;33m\u001b[0m\u001b[0m\n\u001b[0;32m      3\u001b[0m     \u001b[0mprint\u001b[0m\u001b[1;33m(\u001b[0m\u001b[0msingle_date\u001b[0m\u001b[1;33m.\u001b[0m\u001b[0mstrftime\u001b[0m\u001b[1;33m(\u001b[0m\u001b[1;34m\"%Y-%m-%d\"\u001b[0m\u001b[1;33m)\u001b[0m\u001b[1;33m)\u001b[0m\u001b[1;33m\u001b[0m\u001b[0m\n\u001b[1;32m----> 4\u001b[1;33m     \u001b[0mobj\u001b[0m\u001b[1;33m.\u001b[0m\u001b[0mgetAllBerita\u001b[0m\u001b[1;33m(\u001b[0m\u001b[1;33m[\u001b[0m\u001b[1;33m]\u001b[0m\u001b[1;33m,\u001b[0m \u001b[0minit_page\u001b[0m\u001b[1;33m,\u001b[0m \u001b[0msingle_date\u001b[0m\u001b[1;33m.\u001b[0m\u001b[0mstrftime\u001b[0m\u001b[1;33m(\u001b[0m\u001b[1;34m\"%Y/%m/%d\"\u001b[0m\u001b[1;33m)\u001b[0m\u001b[1;33m)\u001b[0m\u001b[1;33m\u001b[0m\u001b[0m\n\u001b[0m\u001b[0;32m      5\u001b[0m     \u001b[0minit_page\u001b[0m \u001b[1;33m=\u001b[0m \u001b[1;36m1\u001b[0m\u001b[1;33m\u001b[0m\u001b[0m\n",
      "\u001b[1;32mD:\\OJT FILES\\Scrapper\\pyNewsSrapperIndo\\gridoto\\Gridoto.py\u001b[0m in \u001b[0;36mgetAllBerita\u001b[1;34m(self, details, page, date)\u001b[0m\n\u001b[0;32m     57\u001b[0m             \u001b[1;31m#     break\u001b[0m\u001b[1;33m\u001b[0m\u001b[1;33m\u001b[0m\u001b[0m\n\u001b[0;32m     58\u001b[0m             \u001b[1;31m# else:\u001b[0m\u001b[1;33m\u001b[0m\u001b[1;33m\u001b[0m\u001b[0m\n\u001b[1;32m---> 59\u001b[1;33m             \u001b[0mdetail\u001b[0m \u001b[1;33m=\u001b[0m \u001b[0mself\u001b[0m\u001b[1;33m.\u001b[0m\u001b[0mgetDetailBerita\u001b[0m\u001b[1;33m(\u001b[0m\u001b[0mlink\u001b[0m\u001b[1;33m)\u001b[0m\u001b[1;33m\u001b[0m\u001b[0m\n\u001b[0m\u001b[0;32m     60\u001b[0m             \u001b[1;32mif\u001b[0m \u001b[0mdetail\u001b[0m\u001b[1;33m:\u001b[0m\u001b[1;33m\u001b[0m\u001b[0m\n\u001b[0;32m     61\u001b[0m                 \u001b[1;32mif\u001b[0m \u001b[0mself\u001b[0m\u001b[1;33m.\u001b[0m\u001b[0minsertDB\u001b[0m\u001b[1;33m(\u001b[0m\u001b[0mdetail\u001b[0m\u001b[1;33m)\u001b[0m\u001b[1;33m:\u001b[0m\u001b[1;33m\u001b[0m\u001b[0m\n",
      "\u001b[1;32mD:\\OJT FILES\\Scrapper\\pyNewsSrapperIndo\\gridoto\\Gridoto.py\u001b[0m in \u001b[0;36mgetDetailBerita\u001b[1;34m(self, link)\u001b[0m\n\u001b[0;32m     90\u001b[0m             \u001b[0mtime\u001b[0m\u001b[1;33m.\u001b[0m\u001b[0msleep\u001b[0m\u001b[1;33m(\u001b[0m\u001b[1;36m10\u001b[0m\u001b[1;33m)\u001b[0m\u001b[1;33m\u001b[0m\u001b[0m\n\u001b[0;32m     91\u001b[0m             \u001b[0mdetails\u001b[0m \u001b[1;33m=\u001b[0m \u001b[0mself\u001b[0m\u001b[1;33m.\u001b[0m\u001b[0mgetDetailBerita\u001b[0m\u001b[1;33m(\u001b[0m\u001b[0mlink\u001b[0m\u001b[1;33m)\u001b[0m\u001b[1;33m\u001b[0m\u001b[0m\n\u001b[1;32m---> 92\u001b[1;33m         \u001b[0mhtml2\u001b[0m \u001b[1;33m=\u001b[0m \u001b[0mresponse\u001b[0m\u001b[1;33m.\u001b[0m\u001b[0mtext\u001b[0m\u001b[1;33m\u001b[0m\u001b[0m\n\u001b[0m\u001b[0;32m     93\u001b[0m         \u001b[1;31m# Create a BeautifulSoup object from the HTML: soup\u001b[0m\u001b[1;33m\u001b[0m\u001b[1;33m\u001b[0m\u001b[0m\n\u001b[0;32m     94\u001b[0m         \u001b[0msoup\u001b[0m \u001b[1;33m=\u001b[0m \u001b[0mBeautifulSoup\u001b[0m\u001b[1;33m(\u001b[0m\u001b[0mhtml2\u001b[0m\u001b[1;33m,\u001b[0m \u001b[1;34m\"html5lib\"\u001b[0m\u001b[1;33m)\u001b[0m\u001b[1;33m\u001b[0m\u001b[0m\n",
      "\u001b[1;31mUnboundLocalError\u001b[0m: local variable 'response' referenced before assignment"
     ]
    }
   ],
   "source": [
    "for single_date in daterange(start_date, end_date):\n",
    "    clear_output()\n",
    "    print(single_date.strftime(\"%Y-%m-%d\"))\n",
    "    obj.getAllBerita([], init_page, single_date.strftime(\"%Y/%m/%d\"))\n",
    "    init_page = 1"
   ]
  },
  {
   "cell_type": "code",
   "execution_count": null,
   "metadata": {},
   "outputs": [],
   "source": []
  }
 ],
 "metadata": {
  "kernelspec": {
   "display_name": "Python 3",
   "language": "python",
   "name": "python3"
  },
  "language_info": {
   "codemirror_mode": {
    "name": "ipython",
    "version": 3
   },
   "file_extension": ".py",
   "mimetype": "text/x-python",
   "name": "python",
   "nbconvert_exporter": "python",
   "pygments_lexer": "ipython3",
   "version": "3.6.6"
  }
 },
 "nbformat": 4,
 "nbformat_minor": 2
}
