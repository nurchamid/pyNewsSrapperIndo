{
 "cells": [
  {
   "cell_type": "code",
   "execution_count": 2,
   "metadata": {},
   "outputs": [],
   "source": [
    "from Gridoto import Gridoto\n",
    "# import mysql.connector\n",
    "obj = Gridoto()"
   ]
  },
  {
   "cell_type": "code",
   "execution_count": null,
   "metadata": {
    "scrolled": true
   },
   "outputs": [
    {
     "name": "stdout",
     "output_type": "stream",
     "text": [
      "page  1\n",
      "https://www.gridoto.com/index?day=8&month=8&year=2018&section=all&page=1\n",
      "https://www.gridoto.com/read/01263887/cara-mudah-setel-ketinggian-lampu-all-new-honda-scoopy?page=all\n",
      "memasukkan berita id  263887\n",
      "Cara Mudah Setel Ketinggian Lampu All New Honda Scoopy\n",
      "salah2\n",
      "https://www.gridoto.com/read/01263998/video-truk-mogok-di-perlintasan-kereta-api-sampai-dievakuasi-oleh-lokomotif?page=all\n",
      "memasukkan berita id  263998\n",
      "Video Truk Mogok di Perlintasan Kereta Api, Sampai Dievakuasi Oleh Lokomotif!\n",
      "salah2\n",
      "https://www.gridoto.com/read/01263991/terkenal-petrol-head-raffi-ahmad-kepergok-pakai-motor-listrik-imut?page=all\n",
      "memasukkan berita id  263991\n",
      "Terkenal Petrol Head, Raffi Ahmad Kepergok Pakai Motor Listrik Imut\n",
      "salah2\n",
      "https://www.gridoto.com/read/01263989/begini-tanggapan-dfsk-tentang-suv-wuling?page=all\n",
      "memasukkan berita id  263989\n",
      "Begini Tanggapan DFSK Tentang SUV Wuling\n",
      "salah2\n",
      "https://www.gridoto.com/read/01263977/aslinya-ini-cruiser-baru-dari-yamaha-lho-kok-pakai-sespan?page=all\n",
      "memasukkan berita id  263977\n",
      "Aslinya Ini Cruiser Baru dari Yamaha, Lho Kok Pakai Sespan?\n",
      "salah2\n",
      "https://www.gridoto.com/read/01263985/viral-pemotor-nyelonong-lewat-jalan-tol-polisi-beri-tanggapan-begini?page=all\n",
      "memasukkan berita id  263985\n",
      "Viral Pemotor Nyelonong Lewat Jalan Tol, Polisi Beri Tanggapan Begini\n",
      "salah2\n",
      "https://www.gridoto.com/read/01263934/atap-jeep-wrangler-dijebol-plus-bodi-dipanjangkan-biar-siap-camping?page=all\n",
      "memasukkan berita id  263934\n",
      "Atap Jeep Wrangler Dijebol Plus Bodi Dipanjangkan Biar Siap Camping\n",
      "salah2\n",
      "https://www.gridoto.com/read/01263941/keren-ternyata-ini-motor-tom-hardy-di-film-venom?page=all\n",
      "memasukkan berita id  263941\n",
      "Keren, Ternyata Ini Motor Tom Hardy di Film Venom\n",
      "salah2\n"
     ]
    }
   ],
   "source": [
    "obj.getAllBerita([],1,'2018/08/08')"
   ]
  },
  {
   "cell_type": "code",
   "execution_count": 10,
   "metadata": {},
   "outputs": [],
   "source": [
    "url = \"https://www.gridoto.com/read/01263919/sikat-ada-promo-spesial-dari-kn-nih-semua-produknya-kena-diskon?page=all\""
   ]
  },
  {
   "cell_type": "code",
   "execution_count": 7,
   "metadata": {},
   "outputs": [],
   "source": [
    "import requests\n",
    "from bs4 import BeautifulSoup\n",
    "from datetime import datetime, timedelta\n",
    "import locale\n",
    "locale.setlocale(locale.LC_ALL, 'ID')\n",
    "import re\n",
    "import pandas as pd\n",
    "from selenium import webdriver\n",
    "from selenium.webdriver.chrome.options import Options\n",
    "import html\n",
    "import json\n",
    "import time\n",
    "from requests.exceptions import ConnectionError\n",
    "import unicodedata\n",
    "import mysql.connector"
   ]
  },
  {
   "cell_type": "code",
   "execution_count": 11,
   "metadata": {},
   "outputs": [],
   "source": [
    "# url = url+'?page=all'\n",
    "response = requests.get(url)\n",
    "html2 = response.text\n",
    "# Create a BeautifulSoup object from the HTML: soup\n",
    "soup = BeautifulSoup(html2, \"html5lib\")"
   ]
  },
  {
   "cell_type": "code",
   "execution_count": 16,
   "metadata": {},
   "outputs": [],
   "source": [
    "scripts = json.loads(html.unescape(soup.findAll('script', {'type':'application/ld+json'})[-3].get_text(strip=True)))"
   ]
  },
  {
   "cell_type": "code",
   "execution_count": null,
   "metadata": {},
   "outputs": [],
   "source": []
  }
 ],
 "metadata": {
  "kernelspec": {
   "display_name": "Python 3",
   "language": "python",
   "name": "python3"
  },
  "language_info": {
   "codemirror_mode": {
    "name": "ipython",
    "version": 3
   },
   "file_extension": ".py",
   "mimetype": "text/x-python",
   "name": "python",
   "nbconvert_exporter": "python",
   "pygments_lexer": "ipython3",
   "version": "3.6.6"
  }
 },
 "nbformat": 4,
 "nbformat_minor": 2
}
