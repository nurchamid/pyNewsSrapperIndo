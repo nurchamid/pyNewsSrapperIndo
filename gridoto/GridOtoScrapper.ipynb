{
 "cells": [
  {
   "cell_type": "code",
   "execution_count": 1,
   "metadata": {},
   "outputs": [],
   "source": [
    "from Gridoto import Gridoto\n",
    "import mysql.connector\n",
    "obj = Gridoto()"
   ]
  },
  {
   "cell_type": "code",
   "execution_count": 3,
   "metadata": {},
   "outputs": [
    {
     "name": "stdout",
     "output_type": "stream",
     "text": [
      "page  1\n",
      "https://www.gridoto.com/index?day=9&month=8&year=2018&section=all&page=1\n",
      "memasukkan berita id  263946\n",
      "{'category': 'Otomotif', 'subcategory': 'Tips & Trick', 'url': 'https://www.gridoto.com/read/01263946/video-demonstrasi-pemolesan-bodi-mobil-dengan-produk-sonax?page=all', 'pubdate': '2018-08-09 06:00:23', 'id': 263946, 'author': 'Radityo Herdianto', 'title': 'Video Demonstrasi Pemolesan Bodi Mobil Dengan Produk Sonax', 'source': 'gridoto', 'comments': 0, 'tags': 'video,produk baru,sonax', 'images': 'https://assets.gridoto.com/crop/0x0:0x0/700x465/filters:watermark(file/2017/gridoto/img/watermark.png,5,5,60)/photo/2018/08/08/2962024629.jpg', 'content': '  GridOto.com-Halo pemirsa GridOto, kali ini reporter GridOto.com, Radityo Herdianto berada di acara launching produk car care Sonax (8/8). Dalam acara ini, selain Sonax meluncurkan beberapa produk baru untuk car care, Sonax juga mendemonstrasikan aplikasi produknya pada panel bodi mobil sebagai gambaran. Seperti apa? Simak video berikut.                                                                                '}\n",
      "masuk\n",
      "Insert berita  Video Demonstrasi Pemolesan Bodi Mobil Dengan Produk Sonax\n"
     ]
    }
   ],
   "source": [
    "det = obj.getAllBerita([],1)"
   ]
  },
  {
   "cell_type": "code",
   "execution_count": null,
   "metadata": {},
   "outputs": [],
   "source": []
  }
 ],
 "metadata": {
  "kernelspec": {
   "display_name": "Python 3",
   "language": "python",
   "name": "python3"
  },
  "language_info": {
   "codemirror_mode": {
    "name": "ipython",
    "version": 3
   },
   "file_extension": ".py",
   "mimetype": "text/x-python",
   "name": "python",
   "nbconvert_exporter": "python",
   "pygments_lexer": "ipython3",
   "version": "3.6.6"
  }
 },
 "nbformat": 4,
 "nbformat_minor": 2
}
