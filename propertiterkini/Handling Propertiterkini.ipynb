{
 "cells": [
  {
   "cell_type": "code",
   "execution_count": 2,
   "metadata": {},
   "outputs": [],
   "source": [
    "import requests\n",
    "from bs4 import BeautifulSoup\n",
    "from datetime import datetime, timedelta\n",
    "import locale\n",
    "locale.setlocale(locale.LC_ALL, 'ID')\n",
    "import re\n",
    "import pandas as pd\n",
    "from selenium import webdriver\n",
    "from selenium.webdriver.chrome.options import Options\n",
    "import html\n",
    "import json\n",
    "import time\n",
    "from requests.exceptions import ConnectionError, TooManyRedirects\n",
    "import unicodedata\n",
    "import mysql.connector"
   ]
  },
  {
   "cell_type": "code",
   "execution_count": 3,
   "metadata": {},
   "outputs": [],
   "source": [
    "con = mysql.connector.connect(user='root', password='', host='127.0.0.1', database='news_db')"
   ]
  },
  {
   "cell_type": "markdown",
   "metadata": {},
   "source": [
    "### Handling Miss The Content"
   ]
  },
  {
   "cell_type": "code",
   "execution_count": 5,
   "metadata": {},
   "outputs": [
    {
     "name": "stdout",
     "output_type": "stream",
     "text": [
      "https://www.propertiterkini.com/bisnis-lampu-rotari-yanto-raup-omzet-miliaran-rupiah-1/\n",
      "https://www.propertiterkini.com/yanto-mantan-anak-jalanan-yang-sukses-dengan-omzet-miliaran-2/\n",
      "https://www.propertiterkini.com/kisah-insinyur-pesawat-yang-jatuh-bangun-jualan-mebel/\n",
      "https://www.propertiterkini.com/bermula-suka-inayah-panen-omzet-dari-bisnis-tas-jeans/\n",
      "https://www.propertiterkini.com/mantan-supir-truk-pun-bisa-jadi-miliarder/\n",
      "https://www.propertiterkini.com/bunarto-dan-temuannya-untuk-instalasi-gas-medis-rs-yang-efisien-dan-reasonable-2/\n",
      "https://www.propertiterkini.com/bunarto-hardjasaputra-intens-edukasi-rs-akan-pentingnya-produk-lokal-gas-medis-1/\n",
      "https://www.propertiterkini.com/arief-widhiyasa-drop-out-demi-game-kini-ceo/\n",
      "https://www.propertiterkini.com/berdayakan-kreativitas-masyarakat-lokal-apa-adanya/\n",
      "https://www.propertiterkini.com/peluang-usaha-nanik-mendulang-rupiah-dari-rajutan/\n",
      "https://www.propertiterkini.com/kisah-hironimus-pala-yang-sukses-berdayakan-petani-kampung/\n",
      "https://www.propertiterkini.com/perubahan-itu-ternyata-lahir-dari-sosok-sederhana-mantan-tki/\n",
      "https://www.propertiterkini.com/ini-penggiat-kewirausahaan-sosial-pemenang-kusala-swadaya-2013/\n",
      "https://www.propertiterkini.com/kewirausahaan-sosial-kini-jadi-perhatian-pemerintah/\n",
      "https://www.propertiterkini.com/yulie-mantan-karyawan-yang-sukses-dengan-usaha-perhiasan-bernuansa-etnik/\n",
      "https://www.propertiterkini.com/tengok-kreativitas-ries-suryanita-kelola-bisnis-madu-bubuk-dan-turunannya/\n",
      "https://www.propertiterkini.com/suwandi-kreator-kipas-lipat-sakti-dari-jombang/\n"
     ]
    }
   ],
   "source": [
    "raw = pd.read_sql(\"select id, url, source from article where source='propertiterkini' and post_id in (1404243087, 1404232294, 1395334826, 1394033486, 1392825674, 1392310913, 1392139913, 1390881676, 1389808883, 1385488882, 1385134291, 1382581893, 1381465895, 1381465884, 1365300105, 1355324506, 1351344679)\", con)\n",
    "for index, row in raw.iterrows():\n",
    "    print(row['url'])\n",
    "    response = requests.get(row['url'])\n",
    "    html = response.text\n",
    "    soup = BeautifulSoup(html, \"html5lib\")\n",
    "    \n",
    "    article =  soup.find('div', class_='entry')\n",
    "           \n",
    "    for share in article.findAll('div', class_='share-post'):\n",
    "        if \"share\" in share.get_text(strip=True).lower():\n",
    "            share.decompose()\n",
    "\n",
    "    for image in article.findAll('td'):\n",
    "        image.decompose()\n",
    "\n",
    "    for related in article.findAll('section', {'id':'related_posts'}):\n",
    "        related.decompose()\n",
    "\n",
    "    for ul in article.findAll('ul'):\n",
    "        ul.decompose()\n",
    "\n",
    "    for baca in article.findAll('p'):\n",
    "        if \"baca juga:\" in baca.text.lower():\n",
    "            baca.decompose()\n",
    "\n",
    "    # for baca2 in article.findAll('div', attrs = {'style':'text-align: justify;'}):\n",
    "    #     if \"baca juga:\" in baca2.text.lower():\n",
    "    #         baca2[:-1].decompose()\n",
    "\n",
    "    for com in article.findAll('p'):\n",
    "        if \"propertiterkini.com\" in com.text.lower():\n",
    "            baca.decompose()\n",
    "\n",
    "    for share in article.findAll('div', class_='sharedaddy sd-sharing-enabled'):\n",
    "        share.decompose()\n",
    "\n",
    "    for like in article.findAll('h3',class_='sd-title'):\n",
    "        like.decompose()\n",
    "\n",
    "    for like2 in article.findAll('span',class_='button'):\n",
    "        like2.decompose()\n",
    "\n",
    "    for like3 in article.findAll('div',class_='likes-widget-placeholder post-likes-widget-placeholder'):\n",
    "        like3.decompose()\n",
    "        \n",
    "    detail = BeautifulSoup(article.decode_contents().replace('<br/>', ' '), \"html5lib\")\n",
    "    content = re.sub(r'\\n|\\t|\\b|\\r','',unicodedata.normalize(\"NFKD\",detail.get_text(strip=True)))\n",
    "    content = content.replace(\"‘\",\"\").replace(\"‘\",\"\").replace(\"'\",\"\")\n",
    "                \n",
    "    cursor = con.cursor()\n",
    "    sql = \"UPDATE article SET content = '\"+content+\"' WHERE id = \"+str(row['id'])\n",
    "    cursor.execute(sql)\n",
    "    con.commit()\n",
    "    cursor.close()\n"
   ]
  },
  {
   "cell_type": "code",
   "execution_count": null,
   "metadata": {},
   "outputs": [],
   "source": []
  }
 ],
 "metadata": {
  "kernelspec": {
   "display_name": "Python 3",
   "language": "python",
   "name": "python3"
  },
  "language_info": {
   "codemirror_mode": {
    "name": "ipython",
    "version": 3
   },
   "file_extension": ".py",
   "mimetype": "text/x-python",
   "name": "python",
   "nbconvert_exporter": "python",
   "pygments_lexer": "ipython3",
   "version": "3.6.4"
  }
 },
 "nbformat": 4,
 "nbformat_minor": 2
}
