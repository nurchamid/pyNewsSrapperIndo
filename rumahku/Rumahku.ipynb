{
 "cells": [
  {
   "cell_type": "code",
   "execution_count": 1,
   "metadata": {},
   "outputs": [],
   "source": [
    "from Rumahku import Rumahku #class news Scrapper\n",
    "from datetime import timedelta, date, datetime\n",
    "from IPython.display import clear_output"
   ]
  },
  {
   "cell_type": "code",
   "execution_count": 2,
   "metadata": {},
   "outputs": [],
   "source": [
    "obj = Rumahku()"
   ]
  },
  {
   "cell_type": "code",
   "execution_count": null,
   "metadata": {
    "scrolled": false
   },
   "outputs": [
    {
     "name": "stdout",
     "output_type": "stream",
     "text": [
      "page  21\n",
      "http://www.rumahku.com/artikel/berita/page:21/\n",
      "http://www.rumahku.com/artikel/read/4-kota-ini-akan-bayar-siapa-saja-yang-mau-tinggal-414640\n",
      "memasukkan berita id  414640\n",
      "Insert berita  4 Kota Ini Akan Bayar Siapa Saja yang Mau Tinggal\n",
      "salah2\n",
      "http://www.rumahku.com/artikel/read/membaiknya-ekonomi-global-beri-angin-segar-pada-pasar-properti-414641\n",
      "memasukkan berita id  414641\n",
      "Insert berita  Membaiknya Ekonomi Global Beri Angin Segar Pada Pasar Properti\n",
      "salah2\n",
      "http://www.rumahku.com/artikel/read/kabar-gembira-bunga-kpr-hanya-5-persen-414639\n",
      "memasukkan berita id  414639\n",
      "Insert berita  Kabar Gembira, Bunga KPR Hanya 5 Persen\n",
      "salah2\n",
      "http://www.rumahku.com/artikel/read/branz-simatupang-bangun-fasilitas-pendukung-untuk-penghuni-414638\n",
      "memasukkan berita id  414638\n",
      "Insert berita  Branz Simatupang Bangun Fasilitas Pendukung untuk Penghuni\n",
      "salah2\n",
      "http://www.rumahku.com/artikel/read/sistem-plat-nomor-ganjil-genap-mulai-diberlakukan-di-jakarta-414631\n",
      "memasukkan berita id  414631\n",
      "Insert berita  Sistem Plat Nomor Ganjil-Genap Mulai Diberlakukan di Jakarta\n",
      "salah2\n",
      "http://www.rumahku.com/artikel/read/manusia-tertua-di-bumi-ada-di-indonesia-dan-masih-hidup-414629\n",
      "memasukkan berita id  414629\n",
      "Insert berita  Manusia Tertua di Bumi Ada di Indonesia dan Masih Hidup\n",
      "salah2\n",
      "http://www.rumahku.com/artikel/read/natura-gardenia-rumah-rp-500-juta-dengan-jaringan-triple-play-414620\n",
      "memasukkan berita id  414620\n",
      "Insert berita  Natura Gardenia, Rumah Rp 500 Juta dengan Jaringan Triple Play\n",
      "masuk\n",
      "http://www.rumahku.com/artikel/read/damai-putra-gelar-bazaar-rumah-siap-huni-414627\n",
      "memasukkan berita id  414627\n",
      "Insert berita  Damai Putra Gelar Bazaar Rumah Siap Huni\n",
      "masuk\n",
      "http://www.rumahku.com/artikel/read/lakukan-groundbreaking-apartemen-ini-siap-huni-di-2019-414625\n",
      "memasukkan berita id  414625\n",
      "Insert berita  Lakukan Groundbreaking, Apartemen Ini Siap Huni di 2019\n",
      "masuk\n",
      "http://www.rumahku.com/artikel/read/jembatan-ini-terletak-di-ketinggian-1-403-meter-di-pinggir-tebing-414612\n",
      "memasukkan berita id  414612\n",
      "Insert berita  Jembatan Ini Terletak di Ketinggian 1.403 Meter di Pinggir Tebing\n",
      "masuk\n",
      "http://www.rumahku.com/artikel/read/hotel-tertinggi-di-indonesia-resmi-dibuka-414626\n",
      "memasukkan berita id  414626\n",
      "Insert berita  Hotel Tertinggi di Indonesia Resmi Dibuka\n",
      "masuk\n",
      "http://www.rumahku.com/artikel/read/miris-sekolah-ini-jadikan-toilet-kamar-asrama-414613\n",
      "memasukkan berita id  414613\n",
      "Insert berita  Miris, Sekolah Ini Jadikan Toilet Kamar Asrama\n",
      "masuk\n",
      "http://www.rumahku.com/artikel/read/menguak-asal-usul-sebutan-belanda-yang-hanya-di-indonesia-414608\n",
      "memasukkan berita id  414608\n",
      "Insert berita  Menguak Asal Usul Sebutan \"Belanda\" yang Hanya di Indonesia\n",
      "masuk\n",
      "http://www.rumahku.com/artikel/read/natura-gardenia-tahap-2-cetak-nup-180-persen-414618\n",
      "memasukkan berita id  414618\n",
      "Insert berita  Natura Gardenia Tahap 2 Cetak NUP 180 Persen\n",
      "masuk\n",
      "http://www.rumahku.com/artikel/read/paramount-village-semarang-raih-penghargaan-prospective-housing-concept-414607\n"
     ]
    }
   ],
   "source": [
    "obj.getAllBerita([],21)"
   ]
  },
  {
   "cell_type": "code",
   "execution_count": null,
   "metadata": {},
   "outputs": [],
   "source": []
  }
 ],
 "metadata": {
  "kernelspec": {
   "display_name": "Python 3",
   "language": "python",
   "name": "python3"
  },
  "language_info": {
   "codemirror_mode": {
    "name": "ipython",
    "version": 3
   },
   "file_extension": ".py",
   "mimetype": "text/x-python",
   "name": "python",
   "nbconvert_exporter": "python",
   "pygments_lexer": "ipython3",
   "version": "3.6.4"
  }
 },
 "nbformat": 4,
 "nbformat_minor": 2
}
