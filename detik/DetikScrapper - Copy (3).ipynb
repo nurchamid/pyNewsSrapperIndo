{
 "cells": [
  {
   "cell_type": "code",
   "execution_count": 1,
   "metadata": {},
   "outputs": [],
   "source": [
    "from Detik import Detik #class news Scrapper\n",
    "from datetime import timedelta, date, datetime\n",
    "from IPython.display import clear_output"
   ]
  },
  {
   "cell_type": "code",
   "execution_count": 2,
   "metadata": {},
   "outputs": [],
   "source": [
    "def daterange(start_date, end_date):\n",
    "    for n in range(int ((end_date - start_date).days)):\n",
    "        yield start_date + timedelta(n)"
   ]
  },
  {
   "cell_type": "code",
   "execution_count": 5,
   "metadata": {},
   "outputs": [],
   "source": [
    "obj = Detik()\n",
    "end_date = date(2018, 8, 12)\n",
    "start_date = date(2018, 1, 15)\n",
    "init_page = 1\n",
    "list_cat = [['finance', 'finance']\n",
    "           , ['hot', 'hot']]\n",
    "init_cat = list_cat"
   ]
  },
  {
   "cell_type": "code",
   "execution_count": null,
   "metadata": {},
   "outputs": [
    {
     "name": "stdout",
     "output_type": "stream",
     "text": [
      "2018-01-15\n",
      "finance\n",
      "page  1\n",
      "https://finance.detik.com/indeks/1?date=01/15/2018\n",
      "https://finance.detik.com/berita-ekonomi-bisnis/d-3816531/gedung-berhantu-di-kemenkeu-akan-dipugar-ini-penjelasannya\n",
      "memasukkan berita id  3816531\n",
      "Insert berita  \n",
      "salah2\n",
      "https://finance.detik.com/berita-ekonomi-bisnis/d-3816523/kemenkeu-revaluasi-500000-aset-negara-termasuk-jalan-daendels\n",
      "memasukkan berita id  3816523\n",
      "Insert berita  \n",
      "salah2\n",
      "foto bisnis\n",
      "https://finance.detik.com/berita-ekonomi-bisnis/d-3816493/sri-mulyani-siapkan-insentif-pajak-ukm-online\n",
      "memasukkan berita id  3816493\n",
      "Insert berita  \n",
      "salah2\n",
      "https://finance.detik.com/berita-ekonomi-bisnis/d-3816478/rini-copot-edi-sukmoro-dari-jabatan-dirut-kai\n",
      "memasukkan berita id  3816478\n",
      "Insert berita  \n",
      "salah2\n",
      "https://finance.detik.com/bursa-dan-valas/d-3816474/pengelola-gedung-bei-kita-tak-salahi-aturan-gedung-layak-pakai\n",
      "memasukkan berita id  3816474\n",
      "Insert berita  \n",
      "salah2\n",
      "https://finance.detik.com/berita-ekonomi-bisnis/d-3816469/soal-impor-beras-jokowi-agar-tidak-terjadi-gejolak-harga\n",
      "memasukkan berita id  3816469\n",
      "Insert berita  \n",
      "salah2\n",
      "https://finance.detik.com/infrastruktur/d-3816466/kemenhub-diminta-perpanjang-runway-bandara-kertajati-500-m\n",
      "memasukkan berita id  3816466\n",
      "Insert berita  \n",
      "salah2\n",
      "foto bisnis\n",
      "https://finance.detik.com/berita-ekonomi-bisnis/d-3816452/kppu-impor-beras-jelang-panen-raya-bisa-rugikan-petani\n",
      "memasukkan berita id  3816452\n",
      "Insert berita  \n",
      "salah2\n",
      "https://finance.detik.com/berita-ekonomi-bisnis/d-3816440/harga-minyak-terus-naik-apbn-2018-akan-direvisi-sri-mulyani\n",
      "memasukkan berita id  3816440\n",
      "Insert berita  \n",
      "salah2\n",
      "https://finance.detik.com/berita-ekonomi-bisnis/d-3816414/bupati-ini-tawarkan-sektor-pariwisata-ke-investor-saudi\n",
      "memasukkan berita id  3816414\n",
      "Insert berita  \n",
      "salah2\n",
      "https://finance.detik.com/moneter/d-3816500/5-kepala-satuan-kerja-bi-resmi-dilantik\n"
     ]
    }
   ],
   "source": [
    "for single_date in daterange(start_date, end_date):\n",
    "    for cat in init_cat:\n",
    "        clear_output()\n",
    "        print(single_date.strftime(\"%Y-%m-%d\"))\n",
    "        print(cat[0])\n",
    "        obj.getAllBerita([], init_page, cat[0], cat[1], single_date.strftime(\"%m/%d/%Y\"))\n",
    "        init_page = 1\n",
    "    init_cat = list_cat"
   ]
  },
  {
   "cell_type": "code",
   "execution_count": null,
   "metadata": {},
   "outputs": [],
   "source": []
  }
 ],
 "metadata": {
  "kernelspec": {
   "display_name": "Python 3",
   "language": "python",
   "name": "python3"
  },
  "language_info": {
   "codemirror_mode": {
    "name": "ipython",
    "version": 3
   },
   "file_extension": ".py",
   "mimetype": "text/x-python",
   "name": "python",
   "nbconvert_exporter": "python",
   "pygments_lexer": "ipython3",
   "version": "3.6.6"
  }
 },
 "nbformat": 4,
 "nbformat_minor": 2
}
