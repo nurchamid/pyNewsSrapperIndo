{
 "cells": [
  {
   "cell_type": "code",
   "execution_count": 9,
   "metadata": {},
   "outputs": [],
   "source": [
    "from Detik import Detik #class news Scrapper\n",
    "from datetime import timedelta, date, datetime\n",
    "from IPython.display import clear_output"
   ]
  },
  {
   "cell_type": "code",
   "execution_count": 10,
   "metadata": {},
   "outputs": [],
   "source": [
    "def daterange(start_date, end_date):\n",
    "    for n in range(int ((end_date - start_date).days)):\n",
    "        yield start_date + timedelta(n)"
   ]
  },
  {
   "cell_type": "code",
   "execution_count": 11,
   "metadata": {},
   "outputs": [],
   "source": [
    "obj = Detik()\n",
    "end_date = date(2018, 8, 20)\n",
    "start_date = date(2018, 8, 12)\n",
    "init_page = 1\n",
    "list_cat = [['food', 'food']]\n",
    "init_cat = list_cat"
   ]
  },
  {
   "cell_type": "code",
   "execution_count": 12,
   "metadata": {},
   "outputs": [
    {
     "name": "stdout",
     "output_type": "stream",
     "text": [
      "2018-08-19\n",
      "food\n",
      "page  1\n",
      "https://food.detik.com/indeks/1?date=08/19/2018\n",
      "galeri foto\n",
      "galeri foto\n",
      "galeri foto\n",
      "galeri foto\n",
      "https://food.detik.com/berita-boga/d-4173141/ada-demo-masak-seru-di-transliving-lebak-bulus-ikutan-yuk\n",
      "memasukkan berita id  4173141\n",
      "Insert berita  \n",
      "masuk\n",
      "https://food.detik.com/info-kuliner/d-4173083/mantan-napi-sengaja-kunjungi-restoran-ini-untuk-kenang-aksi-pencuriannya\n",
      "memasukkan berita id  4173083\n",
      "Insert berita  \n",
      "masuk\n",
      "terbaik dari indonesia\n",
      "https://food.detik.com/info-kuliner/d-4173011/apa-benar-rempah-rempah-punya-khasiat-bangkitkan-gairah-seks\n",
      "memasukkan berita id  4173011\n",
      "Insert berita  \n",
      "masuk\n",
      "galeri foto\n",
      "https://food.detik.com/info-kuliner/d-4172880/cantiknya-pizza-keju-bertabur-glitter-pelangi-yang-lagi-hits\n",
      "memasukkan berita id  4172880\n",
      "Insert berita  \n",
      "masuk\n",
      "rekomendasi tempat makan\n",
      "https://food.detik.com/info-kuliner/d-4172806/minggu-ini-bisa-hangout-di-5-resto-bergaya-rustic-modern-yang-keren\n",
      "memasukkan berita id  4172806\n",
      "Insert berita  \n",
      "masuk\n",
      "https://food.detik.com/info-kuliner/d-4172735/ya-ampun-sebutir-telur-rebus-di-hotel-ini-harganya-rp-61-juta\n",
      "memasukkan berita id  4172735\n",
      "Insert berita  \n",
      "masuk\n",
      "galeri foto\n",
      "galeri foto\n",
      "galleri foto\n"
     ]
    }
   ],
   "source": [
    "for single_date in daterange(start_date, end_date):\n",
    "    for cat in init_cat:\n",
    "        clear_output()\n",
    "        print(single_date.strftime(\"%Y-%m-%d\"))\n",
    "        print(cat[0])\n",
    "        obj.getAllBerita([], init_page, cat[0], cat[1], single_date.strftime(\"%m/%d/%Y\"))\n",
    "        init_page = 1\n",
    "    init_cat = list_cat"
   ]
  },
  {
   "cell_type": "code",
   "execution_count": null,
   "metadata": {},
   "outputs": [],
   "source": []
  }
 ],
 "metadata": {
  "kernelspec": {
   "display_name": "Python 3",
   "language": "python",
   "name": "python3"
  },
  "language_info": {
   "codemirror_mode": {
    "name": "ipython",
    "version": 3
   },
   "file_extension": ".py",
   "mimetype": "text/x-python",
   "name": "python",
   "nbconvert_exporter": "python",
   "pygments_lexer": "ipython3",
   "version": "3.6.6"
  }
 },
 "nbformat": 4,
 "nbformat_minor": 2
}
