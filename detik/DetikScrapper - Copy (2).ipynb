{
 "cells": [
  {
   "cell_type": "code",
   "execution_count": 1,
   "metadata": {},
   "outputs": [],
   "source": [
    "from Detik import Detik #class news Scrapper\n",
    "from datetime import timedelta, date, datetime\n",
    "from IPython.display import clear_output"
   ]
  },
  {
   "cell_type": "code",
   "execution_count": 2,
   "metadata": {},
   "outputs": [],
   "source": [
    "def daterange(start_date, end_date):\n",
    "    for n in range(int ((end_date - start_date).days)):\n",
    "        yield start_date + timedelta(n)"
   ]
  },
  {
   "cell_type": "code",
   "execution_count": 5,
   "metadata": {},
   "outputs": [],
   "source": [
    "obj = Detik()\n",
    "end_date = date(2018, 8, 12)\n",
    "start_date = date(2018, 2, 14)\n",
    "init_page = 1\n",
    "list_cat = [['oto', 'otomotif'], ['travel', 'travel']]\n",
    "init_cat = list_cat"
   ]
  },
  {
   "cell_type": "code",
   "execution_count": null,
   "metadata": {},
   "outputs": [
    {
     "name": "stdout",
     "output_type": "stream",
     "text": [
      "2018-02-14\n",
      "oto\n",
      "page  1\n",
      "https://oto.detik.com/indeks/1?date=02/14/2018\n",
      "foto oto\n",
      "https://oto.detik.com/mobil/d-3867921/daihatsu-terios-terbaru-alami-kecelakaan-di-riau\n",
      "memasukkan berita id  3867921\n",
      "Insert berita  \n",
      "salah2\n",
      "https://oto.detik.com/mobil/d-3867821/toyota-yaris-siap-ganti-baju-ini-kata-honda\n",
      "memasukkan berita id  3867821\n",
      "Insert berita  \n",
      "salah2\n",
      "https://oto.detik.com/berita/d-3867675/bus-baru-transjakarta-gantikan-peran-bus-kota\n",
      "memasukkan berita id  3867675\n",
      "Insert berita  \n",
      "salah2\n",
      "ototes\n",
      "https://oto.detik.com/detiktv/d-3867649/mobil-tercepat-ini-siap-melesat-di-indonesia\n",
      "memasukkan berita id  3867649\n",
      "Insert berita  \n",
      "salah2\n",
      "https://oto.detik.com/berita/d-3867626/selain-aluminium-bus-transjakarta-pakai-baja-ini-kelebihannya\n",
      "memasukkan berita id  3867626\n",
      "Insert berita  \n",
      "salah2\n",
      "https://oto.detik.com/mobil/d-3867643/memacu-adrenalin-di-es-dengan-aston-martin\n"
     ]
    }
   ],
   "source": [
    "for single_date in daterange(start_date, end_date):\n",
    "    for cat in init_cat:\n",
    "        clear_output()\n",
    "        print(single_date.strftime(\"%Y-%m-%d\"))\n",
    "        print(cat[0])\n",
    "        obj.getAllBerita([], init_page, cat[0], cat[1], single_date.strftime(\"%m/%d/%Y\"))\n",
    "        init_page = 1\n",
    "    init_cat = list_cat"
   ]
  },
  {
   "cell_type": "code",
   "execution_count": null,
   "metadata": {},
   "outputs": [],
   "source": []
  }
 ],
 "metadata": {
  "kernelspec": {
   "display_name": "Python 3",
   "language": "python",
   "name": "python3"
  },
  "language_info": {
   "codemirror_mode": {
    "name": "ipython",
    "version": 3
   },
   "file_extension": ".py",
   "mimetype": "text/x-python",
   "name": "python",
   "nbconvert_exporter": "python",
   "pygments_lexer": "ipython3",
   "version": "3.6.6"
  }
 },
 "nbformat": 4,
 "nbformat_minor": 2
}
