{
 "cells": [
  {
   "cell_type": "code",
   "execution_count": 1,
   "metadata": {},
   "outputs": [],
   "source": [
    "from Detik import Detik #class news Scrapper\n",
    "from datetime import timedelta, date, datetime\n",
    "from IPython.display import clear_output"
   ]
  },
  {
   "cell_type": "code",
   "execution_count": 2,
   "metadata": {},
   "outputs": [],
   "source": [
    "def daterange(start_date, end_date):\n",
    "    for n in range(int ((end_date - start_date).days)):\n",
    "        yield start_date + timedelta(n)"
   ]
  },
  {
   "cell_type": "code",
   "execution_count": 3,
   "metadata": {},
   "outputs": [],
   "source": [
    "obj = Detik()\n",
    "end_date = date(2018, 8, 12)\n",
    "start_date = date(2018, 2, 28)\n",
    "init_page = 1\n",
    "list_cat = [['oto', 'otomotif']]\n",
    "init_cat = list_cat"
   ]
  },
  {
   "cell_type": "code",
   "execution_count": 4,
   "metadata": {},
   "outputs": [
    {
     "name": "stdout",
     "output_type": "stream",
     "text": [
      "2018-08-11\n",
      "oto\n",
      "page  1\n",
      "https://oto.detik.com/indeks/1?date=08/11/2018\n",
      "https://oto.detik.com/otoshow/d-4161998/ini-mobil-favorit-pengunjung-di-giias-2018\n",
      "memasukkan berita id  4161998\n",
      "Insert berita  \n",
      "masuk\n",
      "https://oto.detik.com/otoshow/d-4161981/ini-yang-unik-di-giias-2018\n",
      "memasukkan berita id  4161981\n",
      "Insert berita  \n",
      "masuk\n",
      "https://oto.detik.com/otoshow/d-4161874/ahy-sapa-giias-2018-langsung-lirik-suzuki-jimny\n",
      "memasukkan berita id  4161874\n",
      "Insert berita  \n",
      "masuk\n",
      "foto oto\n",
      "https://oto.detik.com/otoshow/d-4161812/bmw-kami-brand-paling-banyak-miliki-line-up-mobil-ramah-lingkungan\n",
      "memasukkan berita id  4161812\n",
      "Insert berita  \n",
      "masuk\n",
      "https://oto.detik.com/otoshow/d-4161753/pelumas-khusus-euro4-lebih-mahal\n",
      "memasukkan berita id  4161753\n",
      "Insert berita  \n",
      "masuk\n",
      "https://oto.detik.com/otoshow/d-4161734/giias-2018-xpander-masih-kuasai-penjualan-mitsubishi\n",
      "memasukkan berita id  4161734\n",
      "Insert berita  \n",
      "masuk\n",
      "https://oto.detik.com/mobil/d-4161687/konsisten-garap-anak-muda-ingin-ikut-lcgc-jilid-2-datsun\n",
      "memasukkan berita id  4161687\n",
      "Insert berita  \n",
      "masuk\n",
      "https://oto.detik.com/otoshow/d-4161659/suv-wuling-sudah-bisa-dipesan\n",
      "memasukkan berita id  4161659\n",
      "Insert berita  \n",
      "masuk\n",
      "https://oto.detik.com/otoshow/d-4161606/pesona-giias-2018-di-akhir-pekan-masih-jadi-magnet\n",
      "memasukkan berita id  4161606\n",
      "Insert berita  \n",
      "masuk\n",
      "https://oto.detik.com/otoshow/d-4161587/saat-toyota-hiace-seperti-rumah-hasilnya-keren-abis\n",
      "memasukkan berita id  4161587\n",
      "Insert berita  \n",
      "masuk\n",
      "https://oto.detik.com/otoshow/d-4161524/ratusan-orang-sudah-lakukan-test-drive-mobil-suzuki-di-giias-2018\n",
      "memasukkan berita id  4161524\n",
      "Insert berita  \n",
      "masuk\n",
      "foto oto\n",
      "https://oto.detik.com/mobil/d-4161421/bmw-masih-punya-kejutan-mobil-listrik-tapi-datangnya-tergantung-pemerintah\n",
      "memasukkan berita id  4161421\n",
      "Insert berita  \n",
      "masuk\n",
      "https://oto.detik.com/mobil/d-4161352/nasib-regulasi-otomotif-yang-belum-selesai-jika-ganti-presiden\n",
      "memasukkan berita id  4161352\n",
      "Insert berita  \n",
      "masuk\n",
      "https://oto.detik.com/otoshow/d-4161277/orang-indonesia-kurang-suka-mesin-kecil-berturbo\n",
      "memasukkan berita id  4161277\n",
      "Insert berita  \n",
      "masuk\n",
      "https://oto.detik.com/otoshow/d-4161168/polisi-mau-selamat-beli-mobil-yang-mahal\n",
      "memasukkan berita id  4161168\n",
      "Insert berita  \n",
      "masuk\n",
      "https://oto.detik.com/otoshow/d-4161134/harapan-produsen-mobil-china-saat-ada-presiden-terpilih-baru\n",
      "memasukkan berita id  4161134\n",
      "Insert berita  \n",
      "masuk\n",
      "https://oto.detik.com/otoshow/d-4161124/brio-saja-sudah-pakai-abs-dan-ebd-ayla-kapan\n",
      "memasukkan berita id  4161124\n",
      "Insert berita  \n",
      "masuk\n"
     ]
    }
   ],
   "source": [
    "for single_date in daterange(start_date, end_date):\n",
    "    for cat in init_cat:\n",
    "        clear_output()\n",
    "        print(single_date.strftime(\"%Y-%m-%d\"))\n",
    "        print(cat[0])\n",
    "        obj.getAllBerita([], init_page, cat[0], cat[1], single_date.strftime(\"%m/%d/%Y\"))\n",
    "        init_page = 1\n",
    "    init_cat = list_cat"
   ]
  },
  {
   "cell_type": "code",
   "execution_count": 5,
   "metadata": {},
   "outputs": [],
   "source": [
    "import requests\n",
    "from bs4 import BeautifulSoup\n",
    "from datetime import datetime, timedelta\n",
    "import locale\n",
    "locale.setlocale(locale.LC_ALL, 'ID')\n",
    "import re\n",
    "import pandas as pd\n",
    "from selenium import webdriver\n",
    "from selenium.webdriver.chrome.options import Options\n",
    "import html\n",
    "import json\n",
    "import time\n",
    "from requests.exceptions import ConnectionError\n",
    "import unicodedata\n",
    "import mysql.connector"
   ]
  },
  {
   "cell_type": "code",
   "execution_count": 10,
   "metadata": {},
   "outputs": [],
   "source": [
    "options = Options()\n",
    "options.add_argument('--headless')\n",
    "options.add_argument('--disable-gpu')  # Last I checked this was necessary.\n",
    "options.add_argument('--disable-extensions')\n",
    "\n",
    "driver = webdriver.Chrome(\"../chromedriver.exe\", chrome_options=options)"
   ]
  },
  {
   "cell_type": "code",
   "execution_count": 13,
   "metadata": {},
   "outputs": [],
   "source": [
    "driver.quit()"
   ]
  },
  {
   "cell_type": "code",
   "execution_count": null,
   "metadata": {},
   "outputs": [],
   "source": []
  }
 ],
 "metadata": {
  "kernelspec": {
   "display_name": "Python 3",
   "language": "python",
   "name": "python3"
  },
  "language_info": {
   "codemirror_mode": {
    "name": "ipython",
    "version": 3
   },
   "file_extension": ".py",
   "mimetype": "text/x-python",
   "name": "python",
   "nbconvert_exporter": "python",
   "pygments_lexer": "ipython3",
   "version": "3.6.6"
  }
 },
 "nbformat": 4,
 "nbformat_minor": 2
}
