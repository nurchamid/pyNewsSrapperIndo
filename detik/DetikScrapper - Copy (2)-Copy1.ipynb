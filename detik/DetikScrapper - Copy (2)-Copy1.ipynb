{
 "cells": [
  {
   "cell_type": "code",
   "execution_count": 1,
   "metadata": {},
   "outputs": [],
   "source": [
    "from Detik import Detik #class news Scrapper\n",
    "from datetime import timedelta, date, datetime\n",
    "from IPython.display import clear_output"
   ]
  },
  {
   "cell_type": "code",
   "execution_count": 2,
   "metadata": {},
   "outputs": [],
   "source": [
    "def daterange(start_date, end_date):\n",
    "    for n in range(int ((end_date - start_date).days)):\n",
    "        yield start_date + timedelta(n)"
   ]
  },
  {
   "cell_type": "code",
   "execution_count": 3,
   "metadata": {},
   "outputs": [],
   "source": [
    "obj = Detik()\n",
    "end_date = date(2018, 8, 12)\n",
    "start_date = date(2018, 1, 9)\n",
    "init_page = 1\n",
    "list_cat = [['travel', 'travel']]\n",
    "init_cat = list_cat"
   ]
  },
  {
   "cell_type": "code",
   "execution_count": 4,
   "metadata": {},
   "outputs": [
    {
     "name": "stdout",
     "output_type": "stream",
     "text": [
      "2018-08-02\n",
      "travel\n",
      "page  1\n",
      "https://travel.detik.com/indeks/1?date=08/02/2018\n",
      "https://travel.detik.com/fototravel/d-4147422/foto-liburannya-miliarder-muda-turki-emir-bahadir\n",
      "https://travel.detik.com/international-destination/d-4147417/tempatnya-belanja-murah-meriah-di-singapura\n",
      "https://travel.detik.com/fototravel/d-4147389/foto-terpesona-italia-dan-si-cantik-maudy-ayunda\n",
      "https://travel.detik.com/detiktv/d-4147385/gili-lawa-kebakaran-begini-penampakannya\n",
      "https://travel.detik.com/travel-news/d-4147370/cerita-saksi-mata-yang-melihat-gili-lawa-kebakaran\n",
      "https://travel.detik.com/fototravel/d-4147339/bunga-abadi-di-puncak-gunung-ciremai-kemarau-ini\n",
      "https://travel.detik.com/travel-news/d-4147325/pasca-kebakaran-gili-lawa-dibiarkan-pulih-secara-alami\n",
      "https://travel.detik.com/fototravel/d-4147286/foto-liburannya-sosialita-cantik-yang-disebut-mirip-snow-white\n",
      "https://travel.detik.com/fototravel/d-4147268/foto-begini-indahnya-gili-lawa-sebelum-kebakaran\n",
      "https://travel.detik.com/travel-news/d-4147231/kebakaran-di-gili-lawa-sebenarnya-bisa-dihindarkan\n",
      "https://travel.detik.com/travel-news/d-4147104/sedih-gili-lawa-yang-hijau-kini-hitam-karena-kebakaran\n",
      "https://travel.detik.com/travel-news/d-4147101/ini-alasan-kamu-nggak-boleh-lupa-datang-ke-pameran-seni-istana\n",
      "https://travel.detik.com/travel-news/d-4147035/viral-video-menteri-susi-goggle-for-coastal-children\n",
      "https://travel.detik.com/travel-news/d-4147009/penyebab-gili-lawa-kebakaran-masih-diselidiki\n",
      "https://travel.detik.com/travel-news/d-4146990/gili-lawa-taman-nasional-komodo-kebakaran-ini-kronologinya\n",
      "https://travel.detik.com/travel-news/d-4146942/puas-jelajahi-pesona-papua-di-festival-lembah-baliem-2018\n",
      "https://travel.detik.com/travel-news/d-4146874/antrean-turis-terlalu-panjang-menara-eiffel-tutup\n",
      "https://travel.detik.com/domestic-destination/d-4146821/nonton-dieng-culture-festival-jangan-lupa-kunjungi-8-destinasi-ini\n",
      "https://travel.detik.com/travel-news/d-4146753/tour-leader-adalah-pekerjaan-dari-hati\n",
      "https://travel.detik.com/international-destination/d-4146715/siapa-sangka-pulau-berbentuk-topi-ini-adalah-resort-mewah\n",
      "https://travel.detik.com/detiktravel/d-4146634/dahsyatnya-deburan-ombak-pantai-banyu-tibo\n",
      "memasukkan berita id  4104096\n",
      "Insert berita  \n",
      "masuk\n",
      "https://travel.detik.com/detiktravel/d-4146515/ada-yang-kurang-kalau-ke-geopark-ciletuh-tapi-belum-ke-sini\n",
      "memasukkan berita id  4066354\n",
      "Insert berita  \n",
      "masuk\n",
      "https://travel.detik.com/travel-news/d-4146457/pasar-kakilangit-jadi-objek-wisata-foto-dan-kuliner-di-yogyakarta\n",
      "https://travel.detik.com/travel-news/d-4146375/ada-ribuan-lowongan-kerja-di-trans-studio-jakarta-cibubur-mau\n",
      "https://travel.detik.com/travel-news/d-4146321/ini-yang-beda-dari-jember-fashion-carnaval-2018\n",
      "https://travel.detik.com/domestic-destination/d-4146272/destinasi-baru-di-bandung-isinya-ratusan-jenis-anggrek-cantik\n",
      "https://travel.detik.com/fototravel/d-4146228/foto-chinatown-tertua-di-dunia\n",
      "https://travel.detik.com/international-destination/d-4146194/pengalaman-naik-kereta-dari-stasiun-tak-berpenghuni-di-jepang\n",
      "https://travel.detik.com/detiktravel/d-4146031/siang-siang-enaknya-wisata-kuliner-dendeng-batokok-di-jambi\n",
      "memasukkan berita id  4082832\n",
      "Insert berita  \n",
      "masuk\n",
      "https://travel.detik.com/detiktravel/d-4145960/kisah-kota-kuno-di-india-tempat-syuting-serial-tv-jodha-akbar\n",
      "memasukkan berita id  4063799\n",
      "Insert berita  \n",
      "masuk\n",
      "https://travel.detik.com/detiktv/d-4145917/uniknya-sumber-air-panas-tuti-adagae\n",
      "https://travel.detik.com/detiktravel/d-4145904/api-biru-ijen-yang-selalu-memukau\n",
      "memasukkan berita id  4140494\n",
      "Insert berita  \n",
      "masuk\n",
      "https://travel.detik.com/fototravel/d-4145857/bukan-foto-bakteri-ini-tanah-kering-di-australia\n",
      "https://travel.detik.com/international-destination/d-4145792/liburan-ke-selandia-baru-nia-ramadhani-main-ski-di-sini\n",
      "https://travel.detik.com/fototravel/d-4145765/foto-melihat-taman-indoor-raksasa-kebanggaan-singapura\n",
      "https://travel.detik.com/travel-news/d-4145696/mau-liburan-ke-karimunjawa-terbang-saja-dari-semarang\n",
      "https://travel.detik.com/fototravel/d-4145658/yang-kangen-pantai-kuta-mana-suaranya\n"
     ]
    },
    {
     "ename": "KeyboardInterrupt",
     "evalue": "",
     "output_type": "error",
     "traceback": [
      "\u001b[1;31m---------------------------------------------------------------------------\u001b[0m",
      "\u001b[1;31mKeyboardInterrupt\u001b[0m                         Traceback (most recent call last)",
      "\u001b[1;32m<ipython-input-4-29162da0a68f>\u001b[0m in \u001b[0;36m<module>\u001b[1;34m()\u001b[0m\n\u001b[0;32m      4\u001b[0m         \u001b[0mprint\u001b[0m\u001b[1;33m(\u001b[0m\u001b[0msingle_date\u001b[0m\u001b[1;33m.\u001b[0m\u001b[0mstrftime\u001b[0m\u001b[1;33m(\u001b[0m\u001b[1;34m\"%Y-%m-%d\"\u001b[0m\u001b[1;33m)\u001b[0m\u001b[1;33m)\u001b[0m\u001b[1;33m\u001b[0m\u001b[0m\n\u001b[0;32m      5\u001b[0m         \u001b[0mprint\u001b[0m\u001b[1;33m(\u001b[0m\u001b[0mcat\u001b[0m\u001b[1;33m[\u001b[0m\u001b[1;36m0\u001b[0m\u001b[1;33m]\u001b[0m\u001b[1;33m)\u001b[0m\u001b[1;33m\u001b[0m\u001b[0m\n\u001b[1;32m----> 6\u001b[1;33m         \u001b[0mobj\u001b[0m\u001b[1;33m.\u001b[0m\u001b[0mgetAllBerita\u001b[0m\u001b[1;33m(\u001b[0m\u001b[1;33m[\u001b[0m\u001b[1;33m]\u001b[0m\u001b[1;33m,\u001b[0m \u001b[0minit_page\u001b[0m\u001b[1;33m,\u001b[0m \u001b[0mcat\u001b[0m\u001b[1;33m[\u001b[0m\u001b[1;36m0\u001b[0m\u001b[1;33m]\u001b[0m\u001b[1;33m,\u001b[0m \u001b[0mcat\u001b[0m\u001b[1;33m[\u001b[0m\u001b[1;36m1\u001b[0m\u001b[1;33m]\u001b[0m\u001b[1;33m,\u001b[0m \u001b[0msingle_date\u001b[0m\u001b[1;33m.\u001b[0m\u001b[0mstrftime\u001b[0m\u001b[1;33m(\u001b[0m\u001b[1;34m\"%m/%d/%Y\"\u001b[0m\u001b[1;33m)\u001b[0m\u001b[1;33m)\u001b[0m\u001b[1;33m\u001b[0m\u001b[0m\n\u001b[0m\u001b[0;32m      7\u001b[0m         \u001b[0minit_page\u001b[0m \u001b[1;33m=\u001b[0m \u001b[1;36m1\u001b[0m\u001b[1;33m\u001b[0m\u001b[0m\n\u001b[0;32m      8\u001b[0m     \u001b[0minit_cat\u001b[0m \u001b[1;33m=\u001b[0m \u001b[0mlist_cat\u001b[0m\u001b[1;33m\u001b[0m\u001b[0m\n",
      "\u001b[1;32mD:\\OJT FILES\\Scrapper\\pyNewsSrapperIndo\\detik\\Detik.py\u001b[0m in \u001b[0;36mgetAllBerita\u001b[1;34m(self, details, page, cat_link, category, date)\u001b[0m\n\u001b[0;32m     51\u001b[0m                     \u001b[1;32mcontinue\u001b[0m\u001b[1;33m\u001b[0m\u001b[0m\n\u001b[0;32m     52\u001b[0m             \u001b[0mlink\u001b[0m \u001b[1;33m=\u001b[0m \u001b[1;33m[\u001b[0m\u001b[0mpost\u001b[0m\u001b[1;33m.\u001b[0m\u001b[0mfind\u001b[0m\u001b[1;33m(\u001b[0m\u001b[1;34m'a'\u001b[0m\u001b[1;33m,\u001b[0m \u001b[0mhref\u001b[0m\u001b[1;33m=\u001b[0m\u001b[1;32mTrue\u001b[0m\u001b[1;33m)\u001b[0m\u001b[1;33m[\u001b[0m\u001b[1;34m'href'\u001b[0m\u001b[1;33m]\u001b[0m\u001b[1;33m,\u001b[0m \u001b[0mcategory\u001b[0m\u001b[1;33m]\u001b[0m\u001b[1;33m\u001b[0m\u001b[0m\n\u001b[1;32m---> 53\u001b[1;33m             \u001b[0mdetail\u001b[0m \u001b[1;33m=\u001b[0m \u001b[0mself\u001b[0m\u001b[1;33m.\u001b[0m\u001b[0mgetDetailBerita\u001b[0m\u001b[1;33m(\u001b[0m\u001b[1;36m0\u001b[0m\u001b[1;33m,\u001b[0m \u001b[0mlink\u001b[0m\u001b[1;33m)\u001b[0m\u001b[1;33m\u001b[0m\u001b[0m\n\u001b[0m\u001b[0;32m     54\u001b[0m             \u001b[1;32mif\u001b[0m \u001b[0mdetail\u001b[0m\u001b[1;33m:\u001b[0m\u001b[1;33m\u001b[0m\u001b[0m\n\u001b[0;32m     55\u001b[0m                 \u001b[1;32mif\u001b[0m \u001b[0mself\u001b[0m\u001b[1;33m.\u001b[0m\u001b[0minsertDB\u001b[0m\u001b[1;33m(\u001b[0m\u001b[0mdetail\u001b[0m\u001b[1;33m)\u001b[0m\u001b[1;33m:\u001b[0m\u001b[1;33m\u001b[0m\u001b[0m\n",
      "\u001b[1;32mD:\\OJT FILES\\Scrapper\\pyNewsSrapperIndo\\detik\\Detik.py\u001b[0m in \u001b[0;36mgetDetailBerita\u001b[1;34m(self, link)\u001b[0m\n\u001b[0;32m     70\u001b[0m         \u001b[0mMengambil\u001b[0m \u001b[0mseluruh\u001b[0m \u001b[0melement\u001b[0m \u001b[0mdari\u001b[0m \u001b[0mhalaman\u001b[0m \u001b[0mberita\u001b[0m\u001b[1;33m\u001b[0m\u001b[0m\n\u001b[0;32m     71\u001b[0m         \"\"\"\n\u001b[1;32m---> 72\u001b[1;33m         \u001b[0mtime\u001b[0m\u001b[1;33m.\u001b[0m\u001b[0msleep\u001b[0m\u001b[1;33m(\u001b[0m\u001b[1;36m10\u001b[0m\u001b[1;33m)\u001b[0m\u001b[1;33m\u001b[0m\u001b[0m\n\u001b[0m\u001b[0;32m     73\u001b[0m         \u001b[0marticles\u001b[0m \u001b[1;33m=\u001b[0m \u001b[1;33m{\u001b[0m\u001b[1;33m}\u001b[0m\u001b[1;33m\u001b[0m\u001b[0m\n\u001b[0;32m     74\u001b[0m         \u001b[1;31m#link\u001b[0m\u001b[1;33m\u001b[0m\u001b[1;33m\u001b[0m\u001b[0m\n",
      "\u001b[1;31mKeyboardInterrupt\u001b[0m: "
     ]
    }
   ],
   "source": [
    "for single_date in daterange(start_date, end_date):\n",
    "    for cat in init_cat:\n",
    "        clear_output()\n",
    "        print(single_date.strftime(\"%Y-%m-%d\"))\n",
    "        print(cat[0])\n",
    "        obj.getAllBerita([], init_page, cat[0], cat[1], single_date.strftime(\"%m/%d/%Y\"))\n",
    "        init_page = 1\n",
    "    init_cat = list_cat"
   ]
  },
  {
   "cell_type": "code",
   "execution_count": null,
   "metadata": {},
   "outputs": [],
   "source": []
  }
 ],
 "metadata": {
  "kernelspec": {
   "display_name": "Python 3",
   "language": "python",
   "name": "python3"
  },
  "language_info": {
   "codemirror_mode": {
    "name": "ipython",
    "version": 3
   },
   "file_extension": ".py",
   "mimetype": "text/x-python",
   "name": "python",
   "nbconvert_exporter": "python",
   "pygments_lexer": "ipython3",
   "version": "3.6.6"
  }
 },
 "nbformat": 4,
 "nbformat_minor": 2
}
