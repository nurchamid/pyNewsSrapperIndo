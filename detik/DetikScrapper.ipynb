{
 "cells": [
  {
   "cell_type": "code",
   "execution_count": 1,
   "metadata": {},
   "outputs": [],
   "source": [
    "import requests\n",
    "from bs4 import BeautifulSoup\n",
    "from datetime import datetime, timedelta\n",
    "import locale\n",
    "locale.setlocale(locale.LC_ALL, 'ID')\n",
    "import re"
   ]
  },
  {
   "cell_type": "code",
   "execution_count": 422,
   "metadata": {},
   "outputs": [],
   "source": [
    "def getIndeksLink(links, page, cat_link, category, date=datetime.strftime(datetime.today(), '%m/%d/%Y')):\n",
    "    \"\"\"\n",
    "    Untuk mengambil seluruh url \n",
    "    link pada indeks category tertentu\n",
    "    date format : dd/mm/YYYY\n",
    "    \"\"\"\n",
    "    if cat_link == 'news':\n",
    "        url = \"https://\"+cat_link+\".detik.com/indeks/all/\"+str(page)+\"?date=\"+date\n",
    "    else :\n",
    "        url = \"https://\"+cat_link+\".detik.com/indeks/\"+str(page)+\"?date=\"+date\n",
    "    # Make the request and create the response object: response\n",
    "    response = requests.get(url)\n",
    "    # Extract HTML texts contained in Response object: html\n",
    "    html = response.text\n",
    "    # Create a BeautifulSoup object from the HTML: soup\n",
    "    soup = BeautifulSoup(html, \"html5lib\")\n",
    "    contentDiv = soup.find('ul', attrs={'id':'indeks-container'})\n",
    "    indeks = contentDiv.findAll('article')\n",
    "    for post in indeks:\n",
    "        link = [post.find('a', href=True)['href'], category]\n",
    "        links.append(link)\n",
    "        \n",
    "    el_page = soup.find('div', class_=\"paging paging2\")\n",
    "    if el_page:\n",
    "        max_page = int(soup.find('div', class_=\"paging paging2\").findAll('a')[-2].text.replace('\\n', '').strip(' '))\n",
    "    \n",
    "        if page <= max_page:\n",
    "            links = getIndeksLink(links, i+1, cat_link, category, date)\n",
    "        \n",
    "    return url"
   ]
  },
  {
   "cell_type": "code",
   "execution_count": 423,
   "metadata": {},
   "outputs": [],
   "source": [
    "def getDetailBerita(links):\n",
    "    articles = {}\n",
    "    for link in links:\n",
    "        #link\n",
    "        articles['url'] = link[0]\n",
    "        response = requests.get(url)\n",
    "        html = response.text\n",
    "        # Create a BeautifulSoup object from the HTML: soup\n",
    "        soup = BeautifulSoup(html, \"html5lib\")\n",
    "        articles['id'] = int(soup.find(\"meta\", attrs={'name':'articleid'})['content'])\n",
    "        #category\n",
    "        articles['category'] = link[1]\n",
    "        \n",
    "        #extract subcategory from breadcrumb\n",
    "        bc = soup.find('div', class_=\"breadcrumb\")\n",
    "        articles['subcategory'] = bc.findAll('a')[1].text\n",
    "        \n",
    "        article = soup.find('article')\n",
    "        \n",
    "        #extract date\n",
    "        pubdate = article.find('div', class_='date')\n",
    "        pubdate = pubdate.text.replace('WIB', '').strip(' \\t\\n\\r')\n",
    "        articles['pubdate'] = datetime.strftime(datetime.strptime(pubdate, \"%A %d %B %Y, %H:%M\"), '%Y-%m-%d %H:%M')\n",
    "        \n",
    "        #extract author\n",
    "        articles['author'] = article.find('div', class_=\"author\").text\n",
    "        \n",
    "        #extract title\n",
    "        articles['title'] = article.find('div', class_=\"jdl\").find('h1').text\n",
    "        \n",
    "        #source\n",
    "        articles['source'] = 'detik'\n",
    "        \n",
    "        #extract comments count\n",
    "        articles['comments'] = int(soup.find('a', class_=\"komentar\").find('span').text.replace('Komentar', '').strip(' \\t\\n\\r'))\n",
    "        \n",
    "        #extract tags\n",
    "        tags = article.find('div', class_=\"detail_tag\").findAll('a')\n",
    "        articles['tags'] = ','.join([x.text for x in tags])\n",
    "        \n",
    "        #extract images\n",
    "        articles['images'] = article.find('div', class_=\"pic_artikel\").find('img')['src']\n",
    "        \n",
    "        #extract detail\n",
    "        detail = article.find('div', class_=\"detail_text\")\n",
    "        \n",
    "        #hapus link sisip\n",
    "        for link in detail.findAll('table', class_=\"linksisip\"):\n",
    "            link.decompose()\n",
    "        \n",
    "        #hapus video sisip\n",
    "        for tag in detail.findAll('div', class_=\"detail_tag\"):\n",
    "            tag.decompose()\n",
    "        \n",
    "        #extract content\n",
    "        detail = BeautifulSoup(detail.decode_contents().replace('<br/>', ' '), \"html5lib\")\n",
    "        content = re.sub(r'\\n|\\t|\\b|\\r','',detail.text)\n",
    "        articles['content'] = re.sub(r'(Tonton juga).*','', content)\n",
    "        \n",
    "        return articles"
   ]
  },
  {
   "cell_type": "code",
   "execution_count": 9,
   "metadata": {},
   "outputs": [],
   "source": [
    "# links = getIndeksLink([], 1, 'news', 'news')"
   ]
  },
  {
   "cell_type": "code",
   "execution_count": 425,
   "metadata": {},
   "outputs": [
    {
     "data": {
      "text/plain": [
       "'https://news.detik.com/indeks/all/1?date=07/26/2018'"
      ]
     },
     "execution_count": 425,
     "metadata": {},
     "output_type": "execute_result"
    }
   ],
   "source": [
    "links"
   ]
  },
  {
   "cell_type": "code",
   "execution_count": 16,
   "metadata": {},
   "outputs": [],
   "source": [
    "url = \"https://oto.detik.com/indeks/1?date=07/26/2018\"\n",
    "    # Make the request and create the response object: response\n",
    "response = requests.get(url)\n",
    "    # Extract HTML texts contained in Response object: html\n",
    "html = response.text\n",
    "    # Create a BeautifulSoup object from the HTML: soup\n",
    "soup = BeautifulSoup(html, \"html5lib\")"
   ]
  },
  {
   "cell_type": "code",
   "execution_count": 17,
   "metadata": {},
   "outputs": [],
   "source": [
    "el_page = soup.find('div', class_=\"paging paging2\")"
   ]
  },
  {
   "cell_type": "code",
   "execution_count": 391,
   "metadata": {},
   "outputs": [
    {
     "name": "stdout",
     "output_type": "stream",
     "text": [
      "tes\n"
     ]
    }
   ],
   "source": [
    "if not el_page:\n",
    "    print('tes')"
   ]
  },
  {
   "cell_type": "code",
   "execution_count": 21,
   "metadata": {},
   "outputs": [],
   "source": [
    "articles = {}\n",
    "url = \"https://oto.detik.com/tips-and-tricks-motor/d-4136157/lapisan-tear-off-untuk-helm-harian-perlukah\""
   ]
  },
  {
   "cell_type": "code",
   "execution_count": 22,
   "metadata": {},
   "outputs": [],
   "source": [
    "response = requests.get(url)\n",
    "html = response.text\n",
    "        # Create a BeautifulSoup object from the HTML: soup\n",
    "soup = BeautifulSoup(html, \"html5lib\")\n",
    "articles['id'] = int(soup.find(\"meta\", attrs={'name':'articleid'})['content'])"
   ]
  },
  {
   "cell_type": "code",
   "execution_count": 23,
   "metadata": {},
   "outputs": [
    {
     "data": {
      "text/plain": [
       "'detikOto'"
      ]
     },
     "execution_count": 23,
     "metadata": {},
     "output_type": "execute_result"
    }
   ],
   "source": [
    "        #extract subcategory from breadcrumb\n",
    "bc = soup.find('div', class_=\"breadcrumb\")\n",
    "articles['subcategory'] = bc.findAll('a')[0].text\n",
    "articles['subcategory']"
   ]
  },
  {
   "cell_type": "code",
   "execution_count": 24,
   "metadata": {},
   "outputs": [],
   "source": [
    "article = soup.find('article')"
   ]
  },
  {
   "cell_type": "code",
   "execution_count": 25,
   "metadata": {},
   "outputs": [
    {
     "data": {
      "text/plain": [
       "<article class=\"box pd15\">\n",
       "\n",
       "                <div class=\"follow_btn\">\n",
       "FOLLOW detikOto  \n",
       "<a class=\"fb\" href=\"https://facebook.com/detikoto\" target=\"_blank\">\n",
       "        <img alt=\"\" src=\"https://cdn.detik.net.id/oto/images/icon_fb.png?v=2.9.7\"/>\n",
       "    </a>\n",
       "    <a class=\"tw\" href=\"https://twitter.com/detikoto\" target=\"_blank\">\n",
       "        <img alt=\"\" src=\"https://cdn.detik.net.id/oto/images/icon_tw.png?v=2.9.7\"/>\n",
       "    </a>\n",
       "    <a class=\"gplus\" href=\"https://plus.google.com/u/0/+detikcom/posts\" target=\"_blank\">\n",
       "        <img alt=\"\" src=\"https://cdn.detik.net.id/oto/images/icon_gplus.png?v=2.9.7\"/>\n",
       "    </a>\n",
       "    <a class=\"ig\" href=\"https://instagram.com/detikoto\" target=\"_blank\">\n",
       "        <img alt=\"\" src=\"https://cdn.detik.net.id/oto/images/icon_insta.png?v=2.9.7\"/>\n",
       "    </a>\n",
       "</div>\n",
       "\n",
       "                <!--S:BREADCRUMB-->\n",
       "                <div class=\"breadcrumb breadcrumb_ga\">\n",
       "    <a href=\"https://oto.detik.com\">detikOto</a> /\n",
       "            \n",
       "        <a href=\"https://oto.detik.com/tips-and-tricks-motor\"> Tips And Tricks Motor</a> /\n",
       "        <a href=\"#\">Detail Berita</a>\n",
       "</div>\n",
       "                <!--E:BREADCRUMB-->\n",
       "\n",
       "                <div class=\"adv text_center pt20 mb20\">\n",
       "\n",
       "                <!-- S:topdetail --><div id=\"banner_top_detail\">\n",
       "\t<script type=\"text/javascript\"><!--// <![CDATA[\n",
       "        OA_show('topdetail');\n",
       " // ]]> --></script>\n",
       "</div><!-- E:topdetail -->\n",
       "                </div>\n",
       "\n",
       "                <!--S:TITLE-->\n",
       "                <div class=\"jdl\">\n",
       "    <div class=\"date\">Jumat, 27 Jul 2018 10:30 WIB</div>\n",
       "    <h2></h2>\n",
       "    <h1>Lapisan Tear Off untuk Helm Harian, Perlukah?</h1>\n",
       "    <div class=\"author\">Rangga Rahadiansyah - detikOto</div>\n",
       "</div>\n",
       "                <!--E:TITLE-->\n",
       "\n",
       "                <!--S:SHARE BOX-->\n",
       "\n",
       "<script>\n",
       "    var article = {\n",
       "        idnews: 4136157,\n",
       "        idkanal: 1214,\n",
       "    }\n",
       "    var baseurl = \"https://oto.detik.com\"\n",
       "\n",
       "    $(document).ready(function () {\n",
       "        setTimeout(function(){\n",
       "            shareBox.run($('.share-top-new'))}\n",
       "        ,1000)\n",
       "    });\n",
       "\n",
       "</script>\n",
       "\n",
       "<link href=\"https://cdn.detik.net.id/oto/css/sharebox.css?v=2.9.7\" rel=\"stylesheet\" type=\"text/css\"/>\n",
       "\n",
       "<div class=\"share-top-new \" id=\"share_top\">\n",
       "    <a class=\"fb\" data-desc=\"Dengan flat visor pemilik helm juga bisa menempelkan lapisan tear off yang biasa digunakan untuk balapan. Apakah perlu pakai tear off untuk harian?\" data-image=\"https://akcdn.detik.net.id/community/media/visual/2018/07/26/7dba43e7-f199-4376-a29c-7ae5988c08f8.jpeg\" data-title=\"Lapisan Tear Off untuk Helm Harian, Perlukah?\" data-url=\"https://oto.detik.com/tips-and-tricks-motor/d-4136157/lapisan-tear-off-untuk-helm-harian-perlukah\" href=\"#\">\n",
       "        <img alt=\"\" src=\"https://cdn.detik.net.id/libs/sharebox/images/sh-fb.png\"/>\n",
       "        <span>Share <b>0</b></span>\n",
       "    </a>\n",
       "    <a class=\"tw\" data-desc=\"Dengan flat visor pemilik helm juga bisa menempelkan lapisan tear off yang biasa digunakan untuk balapan. Apakah perlu pakai tear off untuk harian?\" data-image=\"https://akcdn.detik.net.id/community/media/visual/2018/07/26/7dba43e7-f199-4376-a29c-7ae5988c08f8.jpeg\" data-title=\"Lapisan Tear Off untuk Helm Harian, Perlukah?\" data-url=\"https://oto.detik.com/tips-and-tricks-motor/d-4136157/lapisan-tear-off-untuk-helm-harian-perlukah\" href=\"#\">\n",
       "        <img alt=\"\" src=\"https://cdn.detik.net.id/libs/sharebox/images/sh-tw.png\"/>\n",
       "        <span>Tweet <b></b></span>\n",
       "    </a>\n",
       "    <a class=\"gplus\" data-desc=\"Dengan flat visor pemilik helm juga bisa menempelkan lapisan tear off yang biasa digunakan untuk balapan. Apakah perlu pakai tear off untuk harian?\" data-image=\"https://akcdn.detik.net.id/community/media/visual/2018/07/26/7dba43e7-f199-4376-a29c-7ae5988c08f8.jpeg\" data-title=\"Lapisan Tear Off untuk Helm Harian, Perlukah?\" data-url=\"https://oto.detik.com/tips-and-tricks-motor/d-4136157/lapisan-tear-off-untuk-helm-harian-perlukah\" href=\"#\">\n",
       "        <img alt=\"\" src=\"https://cdn.detik.net.id/libs/sharebox/images/sh-gplus.png\"/>\n",
       "        <span>Share <b>0</b></span>\n",
       "    </a>\n",
       "    <a class=\"komentar\" data-desc=\"Dengan flat visor pemilik helm juga bisa menempelkan lapisan tear off yang biasa digunakan untuk balapan. Apakah perlu pakai tear off untuk harian?\" data-image=\"https://akcdn.detik.net.id/community/media/visual/2018/07/26/7dba43e7-f199-4376-a29c-7ae5988c08f8.jpeg\" data-title=\"Lapisan Tear Off untuk Helm Harian, Perlukah?\" data-url=\"https://oto.detik.com/tips-and-tricks-motor/d-4136157/lapisan-tear-off-untuk-helm-harian-perlukah\" href=\"#komentar\">\n",
       "        <img alt=\"\" src=\"https://cdn.detik.net.id/libs/sharebox/images/sh-com.png\"/>\n",
       "        <span>0 Komentar</span>\n",
       "    </a>\n",
       "    <div class=\"clearfix\"></div>\n",
       "</div>\n",
       "\n",
       "                \n",
       "                \n",
       "\n",
       "\n",
       "    <div class=\"media_artikel wide\">\n",
       "         <img alt=\"Lapisan tear off yang menempel di kaca helm. Foto: Rangga Rahadiansyah\" class=\"\" src=\"https://akcdn.detik.net.id/community/media/visual/2018/07/26/7dba43e7-f199-4376-a29c-7ae5988c08f8.jpeg?w=780&amp;q=90\" title=\"Lapisan tear off yang menempel di kaca helm. Foto: Rangga Rahadiansyah\"/>        <span>Lapisan tear off yang menempel di kaca helm. Foto: Rangga Rahadiansyah</span>\n",
       "    </div>\n",
       "\n",
       "<div class=\"clearfix \"></div>\n",
       "\n",
       "<!--S:FOKUS INFO-->\n",
       "<!--E:FOKUS INFO-->\n",
       "\n",
       "<div data-sticky_parent=\"\">\n",
       "\n",
       "    <div class=\"share-top-new\" style=\"margin: 0px;height:auto;\">\n",
       "        <div class=\"share_float sticky\" data-sticky_column=\"\">\n",
       "\n",
       "        <a class=\"share_detail fb\" data-desc=\"Dengan flat visor pemilik helm juga bisa menempelkan lapisan tear off yang biasa digunakan untuk balapan. Apakah perlu pakai tear off untuk harian?\" data-image=\"https://akcdn.detik.net.id/community/media/visual/2018/07/26/7dba43e7-f199-4376-a29c-7ae5988c08f8.jpeg\" data-title=\"Lapisan Tear Off untuk Helm Harian, Perlukah?\" data-url=\"https://oto.detik.com/tips-and-tricks-motor/d-4136157/lapisan-tear-off-untuk-helm-harian-perlukah\" href=\"#\" style=\"width:45px; height: 65px; border-radius: 0px;\">\n",
       "            <img alt=\"\" src=\"https://cdn.detik.net.id/oto/images/icon_fb.png?v=2.9.7\"/>\n",
       "            <span class=\"nolabel\" style=\"padding-left:18px;\">0</span>\n",
       "        </a>\n",
       "\n",
       "        <a class=\"share_detail tw\" data-desc=\"Dengan flat visor pemilik helm juga bisa menempelkan lapisan tear off yang biasa digunakan untuk balapan. Apakah perlu pakai tear off untuk harian?\" data-image=\"https://akcdn.detik.net.id/community/media/visual/2018/07/26/7dba43e7-f199-4376-a29c-7ae5988c08f8.jpeg\" data-title=\"Lapisan Tear Off untuk Helm Harian, Perlukah?\" data-url=\"https://oto.detik.com/tips-and-tricks-motor/d-4136157/lapisan-tear-off-untuk-helm-harian-perlukah\" href=\"#\" style=\"width:45px; border-radius: 0px;\">\n",
       "            <img alt=\"\" src=\"https://cdn.detik.net.id/oto/images/icon_tw.png?v=2.9.7\"/>\n",
       "            <span class=\"nolabel\" style=\"padding-left:18px;\">0</span>\n",
       "        </a>\n",
       "\n",
       "        <a class=\"share_detail gplus\" data-desc=\"Dengan flat visor pemilik helm juga bisa menempelkan lapisan tear off yang biasa digunakan untuk balapan. Apakah perlu pakai tear off untuk harian?\" data-image=\"https://akcdn.detik.net.id/community/media/visual/2018/07/26/7dba43e7-f199-4376-a29c-7ae5988c08f8.jpeg\" data-title=\"Lapisan Tear Off untuk Helm Harian, Perlukah?\" data-url=\"https://oto.detik.com/tips-and-tricks-motor/d-4136157/lapisan-tear-off-untuk-helm-harian-perlukah\" href=\"#\" style=\"width:45px; height: 65px; border-radius: 0px;\">\n",
       "            <img alt=\"\" src=\"https://cdn.detik.net.id/oto/images/icon_gplus.png?v=2.9.7\"/>\n",
       "            <span class=\"nolabel\" style=\"padding-left:18px;\">0</span>\n",
       "        </a>\n",
       "\n",
       "        <a class=\"share_detail comm komentar\" data-desc=\"Dengan flat visor pemilik helm juga bisa menempelkan lapisan tear off yang biasa digunakan untuk balapan. Apakah perlu pakai tear off untuk harian?\" data-image=\"https://akcdn.detik.net.id/community/media/visual/2018/07/26/7dba43e7-f199-4376-a29c-7ae5988c08f8.jpeg\" data-title=\"Lapisan Tear Off untuk Helm Harian, Perlukah?\" data-url=\"https://oto.detik.com/tips-and-tricks-motor/d-4136157/lapisan-tear-off-untuk-helm-harian-perlukah\" href=\"#\" style=\"width:45px; height: 65px; border-radius: 0px;\">\n",
       "            <img alt=\"\" src=\"https://cdn.detik.net.id/oto/images/icon_comment.png?v=2.9.7\"/>\n",
       "            <span class=\"nolabel\" style=\"padding-left:18px;\">0</span>\n",
       "        </a>\n",
       "    </div>\n",
       "</div>\n",
       "\n",
       "    <div class=\"detail_text\" id=\"detikdetailtext\">\n",
       "\n",
       "        \n",
       "        <b>Jakarta</b> - <a href=\"https://www.detik.com/tag/helm\" target=\"_blank\">Helm</a> ganteng saat ini banyak digunakan oleh pengendara sepeda motor. Tak cuma jadi perangkat pelindung kepala, <a href=\"https://www.detik.com/tag/helm\" target=\"_blank\">helm</a> saat ini juga menjadi 'obat ganteng' penggunanya.<br/><br/>Salah satu yang bikin helm tambah ganteng adalah penggunaan <a href=\"https://www.detik.com/tag/flat-visor\" target=\"_blank\">flat visor</a>. <a href=\"https://www.detik.com/tag/flat-visor\" target=\"_blank\">Flat visor</a> merupakan kaca helm datar yang biasanya digunakan di balapan, seperti pebalap MotoGP. Banyak keuntungan dari kaca helm datar itu, salah satunya memberikan visibilitas tanpa adanya distorsi.<br/><br/>Selain itu, dengan flat visor pemilik helm juga bisa menempelkan lapisan tear off. Tear off adalah sebuah lapisan khusus pada visor atau kaca helm untuk melindungi visor tersebut. Biasanya dipakai di balapan sehingga kaca helm tidak tergores akibat benturan dengan objek-objek kecil. Jadi, visibilitas pengendara tetap bersih tanpa terhalang goresan di kaca.<br/><br/><table class=\"linksisip\"><tbody><tr><td><div class=\"lihatjg\"><strong>Baca juga: </strong><a data-action=\"Berita Pilihan\" data-category=\"Detil Artikel\" data-label=\"List Berita\" href=\"https://oto.detik.com/read/2018/07/26/151113/4135844/1208/lagi-zaman-helm-dengan-flat-visor-apa-kelebihannya\" target=\"_blank\">Lagi Zaman Helm dengan Flat Visor, Apa Kelebihannya?</a></div></td></tr></tbody></table><br/><br/>\"Kalau visor udah buram sama saja mata kelilipan. Naik motor jadi nggak enak,\" ucap Salcomo Eato dari komunitas Belajar Helm.<br/><br/>Meski tear off lebih banyak digunakan di balapan, saat ini banyak juga pengguna helm yang pakai tear off untuk harian. Apakah perlu?<br/><br/>\"Kalau untuk harian tidak terlalu penting. Jadi kalau pakai tear off kita pilih tempat,\" kata kata Eato.<br/><br/>Kata Eato, tear off jauh lebih penting digunakan di sirkuit. Dengan kecepatan tinggi, kalau tanpa tear off kaca helm lebih berisiko tergores.<br/><br/><table class=\"linksisip\"><tbody><tr><td><div class=\"lihatjg\"><strong>Baca juga: </strong><a data-action=\"Berita Pilihan\" data-category=\"Detil Artikel\" data-label=\"List Berita\" href=\"https://oto.detik.com/readfoto/2018/02/03/175921/3848534/647/1/helm-unik-pebalap-motogp\" target=\"_blank\">Helm Unik Pebalap MotoGP</a></div></td></tr></tbody></table><br/><br/>\"Karena di sirkuit kalau kita di belakang motor orang, itu kerikil pada naik, jadi ngelindungin visornya. Makanya kalau pebalap itu pakai tear off 2-3 lapis. Kalau tear off pertama udah agak rusak (buram) tinggal lepas, masih ada tear off lapisan kedua yang lebih bening,\" ujarnya.<br/><br/>Selain di sirkuit, tear off bisa diugnakan untuk perjalanan jauh seperti touring. Bila melewati jalur berdebu atau banyak truk, lapisan tear off jadi lebih berfungsi dengan melindungi kaca helm.<br/><br/>\"Cuma, untuk harian sebenarnya nggak perlu juga. Tapi kalau mau pakai ya silakan, terserah. Tapi pemakaian harian untuk apa? Karena kan kita di jalan kota. Istilahnya pas kena visor itu jarang banget.        <strong>(rgr/ddn)</strong>\n",
       "\n",
       "        <div class=\"clearfix mb20\"></div>\n",
       "\n",
       "        \n",
       "        \n",
       "        <div class=\"detail_tag\">\n",
       "            <a \"=\"\" href=\"https://www.detik.com/tag/helm/\">helm</a>\n",
       "<a \"=\"\" href=\"https://www.detik.com/tag/helm-motor/\">helm motor</a>\n",
       "<a \"=\"\" href=\"https://www.detik.com/tag/tips-otomotif/\">tips otomotif</a>\n",
       "<a \"=\"\" href=\"https://www.detik.com/tag/tips-motor/\">tips motor</a>\n",
       "<a \"=\"\" href=\"https://www.detik.com/tag/flat-visor/\">flat visor</a>\n",
       "        </div>\n",
       "\n",
       "        <div class=\"clearfix mb20\"></div>\n",
       "\n",
       "        <!-- S:newstag --><div class=\"newstag newstag2\">\n",
       "<script type=\"text/javascript\"><!--// <![CDATA[\n",
       "OA_show('newstag'); \n",
       "// ]]> --></script>\n",
       "</div><!-- E:newstag -->\n",
       "                    <!-- S:hiddenquiz --><script type=\"text/javascript\"><!--// <![CDATA[\n",
       "OA_show('hiddenquiz'); \n",
       "// ]]> --></script><!-- E:hiddenquiz -->        \n",
       "    </div>\n",
       "\n",
       "    <!-- S:skyscraper --><div class=\"skybanner\">\n",
       "<div class=\"skybanner_container sticky\">\n",
       "<!-- /4905536/detik_desktop/oto/skyscrapper -->\n",
       "<div id=\"div-gpt-ad-1508753013193-0\" style=\"height:600px; width:120px;\">\n",
       "<script>\n",
       "googletag.cmd.push(function() { googletag.display('div-gpt-ad-1508753013193-0'); });\n",
       "</script>\n",
       "</div>\n",
       "</div>\n",
       "</div><!-- E:skyscraper -->\n",
       "    <div class=\"clearfix\"></div>\n",
       "\n",
       "</div>\n",
       "\n",
       "\n",
       "<!--S:FOKUS INFO-->\n",
       "<!--E:FOKUS INFO-->\n",
       "\n",
       "            </article>"
      ]
     },
     "execution_count": 25,
     "metadata": {},
     "output_type": "execute_result"
    }
   ],
   "source": [
    "article"
   ]
  },
  {
   "cell_type": "code",
   "execution_count": 32,
   "metadata": {},
   "outputs": [
    {
     "data": {
      "text/plain": [
       "<div class=\"date\">Jumat, 27 Jul 2018 10:30 WIB</div>"
      ]
     },
     "execution_count": 32,
     "metadata": {},
     "output_type": "execute_result"
    }
   ],
   "source": [
    "pubdate = article.find('div', class_='date')\n",
    "pubdate"
   ]
  },
  {
   "cell_type": "code",
   "execution_count": 33,
   "metadata": {},
   "outputs": [
    {
     "data": {
      "text/plain": [
       "'Jumat, 27 Jul 2018 10:30'"
      ]
     },
     "execution_count": 33,
     "metadata": {},
     "output_type": "execute_result"
    }
   ],
   "source": [
    "pubdate = pubdate.text.replace('WIB', '').strip(' \\t\\n\\r')\n",
    "pubdate"
   ]
  },
  {
   "cell_type": "code",
   "execution_count": 39,
   "metadata": {},
   "outputs": [],
   "source": [
    "# articles['pubdate'] = datetime.strftime(datetime.strptime(pubdate, \"%A, %d %B %Y %H:%M\"), '%Y-%m-%d %H:%M')"
   ]
  },
  {
   "cell_type": "code",
   "execution_count": 42,
   "metadata": {},
   "outputs": [
    {
     "ename": "AttributeError",
     "evalue": "'NoneType' object has no attribute 'find'",
     "output_type": "error",
     "traceback": [
      "\u001b[1;31m---------------------------------------------------------------------------\u001b[0m",
      "\u001b[1;31mAttributeError\u001b[0m                            Traceback (most recent call last)",
      "\u001b[1;32m<ipython-input-42-4f4ebb62d9e5>\u001b[0m in \u001b[0;36m<module>\u001b[1;34m()\u001b[0m\n\u001b[1;32m----> 1\u001b[1;33m \u001b[0marticles\u001b[0m\u001b[1;33m[\u001b[0m\u001b[1;34m'images'\u001b[0m\u001b[1;33m]\u001b[0m \u001b[1;33m=\u001b[0m \u001b[0marticle\u001b[0m\u001b[1;33m.\u001b[0m\u001b[0mfind\u001b[0m\u001b[1;33m(\u001b[0m\u001b[1;34m'div'\u001b[0m\u001b[1;33m,\u001b[0m \u001b[0mclass_\u001b[0m\u001b[1;33m=\u001b[0m\u001b[1;34m\"pic_artikel\"\u001b[0m\u001b[1;33m)\u001b[0m\u001b[1;33m.\u001b[0m\u001b[0mfind\u001b[0m\u001b[1;33m(\u001b[0m\u001b[1;34m'img'\u001b[0m\u001b[1;33m)\u001b[0m\u001b[1;33m[\u001b[0m\u001b[1;34m'src'\u001b[0m\u001b[1;33m]\u001b[0m\u001b[1;33m\u001b[0m\u001b[0m\n\u001b[0m",
      "\u001b[1;31mAttributeError\u001b[0m: 'NoneType' object has no attribute 'find'"
     ]
    }
   ],
   "source": [
    "articles['images'] = article.find('div', class_=\"pic_artikel\").find('img')['src']"
   ]
  },
  {
   "cell_type": "code",
   "execution_count": 44,
   "metadata": {},
   "outputs": [
    {
     "data": {
      "text/plain": [
       "<div class=\"detail_text\" id=\"detikdetailtext\">\n",
       "\n",
       "        \n",
       "        <b>Jakarta</b> - <a href=\"https://www.detik.com/tag/helm\" target=\"_blank\">Helm</a> ganteng saat ini banyak digunakan oleh pengendara sepeda motor. Tak cuma jadi perangkat pelindung kepala, <a href=\"https://www.detik.com/tag/helm\" target=\"_blank\">helm</a> saat ini juga menjadi 'obat ganteng' penggunanya.<br/><br/>Salah satu yang bikin helm tambah ganteng adalah penggunaan <a href=\"https://www.detik.com/tag/flat-visor\" target=\"_blank\">flat visor</a>. <a href=\"https://www.detik.com/tag/flat-visor\" target=\"_blank\">Flat visor</a> merupakan kaca helm datar yang biasanya digunakan di balapan, seperti pebalap MotoGP. Banyak keuntungan dari kaca helm datar itu, salah satunya memberikan visibilitas tanpa adanya distorsi.<br/><br/>Selain itu, dengan flat visor pemilik helm juga bisa menempelkan lapisan tear off. Tear off adalah sebuah lapisan khusus pada visor atau kaca helm untuk melindungi visor tersebut. Biasanya dipakai di balapan sehingga kaca helm tidak tergores akibat benturan dengan objek-objek kecil. Jadi, visibilitas pengendara tetap bersih tanpa terhalang goresan di kaca.<br/><br/><table class=\"linksisip\"><tbody><tr><td><div class=\"lihatjg\"><strong>Baca juga: </strong><a data-action=\"Berita Pilihan\" data-category=\"Detil Artikel\" data-label=\"List Berita\" href=\"https://oto.detik.com/read/2018/07/26/151113/4135844/1208/lagi-zaman-helm-dengan-flat-visor-apa-kelebihannya\" target=\"_blank\">Lagi Zaman Helm dengan Flat Visor, Apa Kelebihannya?</a></div></td></tr></tbody></table><br/><br/>\"Kalau visor udah buram sama saja mata kelilipan. Naik motor jadi nggak enak,\" ucap Salcomo Eato dari komunitas Belajar Helm.<br/><br/>Meski tear off lebih banyak digunakan di balapan, saat ini banyak juga pengguna helm yang pakai tear off untuk harian. Apakah perlu?<br/><br/>\"Kalau untuk harian tidak terlalu penting. Jadi kalau pakai tear off kita pilih tempat,\" kata kata Eato.<br/><br/>Kata Eato, tear off jauh lebih penting digunakan di sirkuit. Dengan kecepatan tinggi, kalau tanpa tear off kaca helm lebih berisiko tergores.<br/><br/><table class=\"linksisip\"><tbody><tr><td><div class=\"lihatjg\"><strong>Baca juga: </strong><a data-action=\"Berita Pilihan\" data-category=\"Detil Artikel\" data-label=\"List Berita\" href=\"https://oto.detik.com/readfoto/2018/02/03/175921/3848534/647/1/helm-unik-pebalap-motogp\" target=\"_blank\">Helm Unik Pebalap MotoGP</a></div></td></tr></tbody></table><br/><br/>\"Karena di sirkuit kalau kita di belakang motor orang, itu kerikil pada naik, jadi ngelindungin visornya. Makanya kalau pebalap itu pakai tear off 2-3 lapis. Kalau tear off pertama udah agak rusak (buram) tinggal lepas, masih ada tear off lapisan kedua yang lebih bening,\" ujarnya.<br/><br/>Selain di sirkuit, tear off bisa diugnakan untuk perjalanan jauh seperti touring. Bila melewati jalur berdebu atau banyak truk, lapisan tear off jadi lebih berfungsi dengan melindungi kaca helm.<br/><br/>\"Cuma, untuk harian sebenarnya nggak perlu juga. Tapi kalau mau pakai ya silakan, terserah. Tapi pemakaian harian untuk apa? Karena kan kita di jalan kota. Istilahnya pas kena visor itu jarang banget.        <strong>(rgr/ddn)</strong>\n",
       "\n",
       "        <div class=\"clearfix mb20\"></div>\n",
       "\n",
       "        \n",
       "        \n",
       "        <div class=\"detail_tag\">\n",
       "            <a \"=\"\" href=\"https://www.detik.com/tag/helm/\">helm</a>\n",
       "<a \"=\"\" href=\"https://www.detik.com/tag/helm-motor/\">helm motor</a>\n",
       "<a \"=\"\" href=\"https://www.detik.com/tag/tips-otomotif/\">tips otomotif</a>\n",
       "<a \"=\"\" href=\"https://www.detik.com/tag/tips-motor/\">tips motor</a>\n",
       "<a \"=\"\" href=\"https://www.detik.com/tag/flat-visor/\">flat visor</a>\n",
       "        </div>\n",
       "\n",
       "        <div class=\"clearfix mb20\"></div>\n",
       "\n",
       "        <!-- S:newstag --><div class=\"newstag newstag2\">\n",
       "<script type=\"text/javascript\"><!--// <![CDATA[\n",
       "OA_show('newstag'); \n",
       "// ]]> --></script>\n",
       "</div><!-- E:newstag -->\n",
       "                    <!-- S:hiddenquiz --><script type=\"text/javascript\"><!--// <![CDATA[\n",
       "OA_show('hiddenquiz'); \n",
       "// ]]> --></script><!-- E:hiddenquiz -->        \n",
       "    </div>"
      ]
     },
     "execution_count": 44,
     "metadata": {},
     "output_type": "execute_result"
    }
   ],
   "source": [
    "detail = article.find('div', class_=\"detail_text\")\n",
    "detail"
   ]
  },
  {
   "cell_type": "code",
   "execution_count": null,
   "metadata": {},
   "outputs": [],
   "source": []
  }
 ],
 "metadata": {
  "kernelspec": {
   "display_name": "Python 3",
   "language": "python",
   "name": "python3"
  },
  "language_info": {
   "codemirror_mode": {
    "name": "ipython",
    "version": 3
   },
   "file_extension": ".py",
   "mimetype": "text/x-python",
   "name": "python",
   "nbconvert_exporter": "python",
   "pygments_lexer": "ipython3",
   "version": "3.6.4"
  }
 },
 "nbformat": 4,
 "nbformat_minor": 2
}
