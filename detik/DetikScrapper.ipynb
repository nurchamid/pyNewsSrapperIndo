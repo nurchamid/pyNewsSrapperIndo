{
 "cells": [
  {
   "cell_type": "code",
   "execution_count": null,
   "metadata": {},
   "outputs": [],
   "source": [
    "from Detik import Detik #class news Scrapper\n",
    "import mysql.connector"
   ]
  },
  {
   "cell_type": "code",
   "execution_count": null,
   "metadata": {},
   "outputs": [],
   "source": [
    "obj = Detik()"
   ]
  },
  {
   "cell_type": "code",
   "execution_count": 4,
   "metadata": {},
   "outputs": [
    {
     "name": "stdout",
     "output_type": "stream",
     "text": [
      "page  1\n",
      "https://news.detik.com/indeks/all/1?date=08/03/2018\n",
      "page  2\n",
      "https://news.detik.com/indeks/all/2?date=08/03/2018\n"
     ]
    }
   ],
   "source": [
    "links = obj.getIndeksLink([], 1, 'news', 'news')"
   ]
  },
  {
   "cell_type": "code",
   "execution_count": 5,
   "metadata": {},
   "outputs": [
    {
     "name": "stdout",
     "output_type": "stream",
     "text": [
      "memasukkan berita id  4147543\n",
      "memasukkan berita id  4147530\n",
      "memasukkan berita id  4147515\n"
     ]
    }
   ],
   "source": [
    "detail = obj.getDetailBerita(links[10:13])"
   ]
  },
  {
   "cell_type": "code",
   "execution_count": 6,
   "metadata": {},
   "outputs": [
    {
     "data": {
      "text/plain": [
       "[{'subcategory': 'Berita',\n",
       "  'id': 4147543,\n",
       "  'category': 'news',\n",
       "  'url': 'https://news.detik.com/berita/d-4147543/tonton-blak-blakan-menkumham-2-napi-kakap-ancam-yasonna',\n",
       "  'pubdate': '2018-08-03 07:20:30',\n",
       "  'author': 'Erwin Dariyanto',\n",
       "  'title': 'Tonton Blak blakan Menkumham, 2 Napi Kakap Ancam Yasonna',\n",
       "  'source': 'detik',\n",
       "  'comments': 0,\n",
       "  'tags': 'lapas sukamiskin',\n",
       "  'images': 'https://akcdn.detik.net.id/community/media/visual/2018/07/02/fc066d61-8c8d-4a9a-99c8-f5566b206db6_169.png?w=780&q=90',\n",
       "  'content': 'Jakarta -Penjara rupanya belum sepenuhnya membuat seorang terpidana jera dan berhenti melakukan pelanggaran hukum. Menteri Hukum dan Hak Asasi Manusia Yasonna Hamonangan Laoly mengaku mendapat ancaman dari dua orang narapidana yang mendekam di Lembaga Pemasyarakatan Sukamiskin, Bandung.Yasonna tak menyebut siapa kedua narapidana dimaksud. Tapi yang pasti ancaman itu muncul terkait dengan upaya dia bersama para stafnya membehani berbagai penyimpangan yang terjadi di sana. Seperti diketahui, pada dua pekan lalu Kelapa Lapas Sukamiskin Wahid Husein ditangkap KPK.   Dari hasil sidak Dirjen Pemasyarakatan Sri Puguh Utami kemudian patut diduga dua narapidana yakni Setya Novanto dan M. Nazarudin menempati sel palsu untuk mengelabui petugas dan masyarakat. Yasonna pun bertindak. Selain mencopot Wahid Husein, dia juga mencopot atau memutasikan para staf di bawahnya.Untuk memeriksa kemungkinan masih adanya pelanggaran, Yasonna juga menerjunkan Inspektur Jenderal Kemenkumham ke Sukamiskin. Namun rupanya semua langkah itu mendapat perlawanan. \"Ya jujur saja ada yang ancam saya kok. Tapi saya tak akan mundur, bila mereka nekad saya tentu akan membuat perhitungan,\" kata Yasonna saat Blak blakan dengan detikcom.Siapa yang mengancam?\"Ya dari dua orang lah pokoknya. Saya bilang, saya bukan orang yang bisa diancam-ancam,\" politikus PDIP itu berkeras tak mau menyebut para pihak yang mengancamnya.   Selain soal Sukamiskin, dia juga memaparkan sejumlah ironi yang terjadi di lingkungan lapas di seluruh daerah. Misalnya saja lapas narkoba yang lebih banyak dihuni oleh para bandar  dan pengedar ketimbang pemakai. \"Ini aneh,\" tegasnya.Lantas, setujukah dia agar para koruptor dikirimkan ke penjara Nusakambangan atau penjara khusus di pulau terpencil? Apa solusinya guna mengatasi ketimpangan antara jumlah napi dan kapas penjara yang ada? Seperti apa pula bentuk ancaman yang diterima Yasonna seperti diungkapkanya tadi? Saksikan Blak blakan detikcom yang akan tayang hari ini, Jumat 3 Agustus 2018 pukul 14.00 WIB.                (erd/jat)                                                            '},\n",
       " {'subcategory': 'Berita',\n",
       "  'id': 4147530,\n",
       "  'category': 'news',\n",
       "  'url': 'https://news.detik.com/berita/d-4147530/bmkg-waspadai-geombang-tinggi-3-hari-ke-depan',\n",
       "  'pubdate': '2018-08-03 07:16:57',\n",
       "  'author': 'Ahmad Bil Wahid',\n",
       "  'title': 'BMKG: Waspadai Geombang Tinggi 3 Hari ke Depan',\n",
       "  'source': 'detik',\n",
       "  'comments': 0,\n",
       "  'tags': 'bmkg,gelombang tinggi,cuaca buruk',\n",
       "  'images': 'https://akcdn.detik.net.id/community/media/visual/2018/07/01/39c39e74-7663-47bd-baac-6853f7908056_169.jpeg?w=780&q=90',\n",
       "  'content': 'Jakarta -Badan Meteorologi, Klimiatologi dan Geofisika (BMKG) mengimbau masyarakat waspada terhadap gelombang tinggi di sebagian perairan Indonesia. Gelombang itu disebabkan peningkatan kecepatan angin di selatan Jawa hingga Bali.  \"Selain adanya peningkatan kecepatan angin Timuran, terdapat pula peningkatan ketinggian swell di Selatan Jawa Timur hingga Bali yang mengakibatkan potensi gelombang tinggi di beberapa wilayah perairan Indonesia khususnya di Perairan Barat Daya Sumatera hingga Selatan NTT,\" kata Deputi Meteorologi BMKG, Mulyono Prabowo, dalam keterangannya, Jumat (3/8/2018).    Kondisi itu diperkirakan masih terjadi hingga tanggal Minggu (5/8). Para nelayan diminta waspada karena perahu nelayan sangat rentan terhadap kecepatan angin 15 knots atau 27 km/jam dan tinggi gelombang diatas 1,25 meter. Sedangkan kapal tongkang perlu mewaspadai risiko apabila kecepatan angin lebih dari 16 knots (30 km/jam) dan tingggi gelombang diatas 1,5 meter.  \"Untuk kapal ferry yang biasa digunakan sebagai transportasi penyeberangan, sangat rentan jika terjadi kecepatan angin lebih dari 21 knots (39 km/jam) dengan ketinggian gelombang diatas 2.5 meter. Sedangkan, bagi kapal yang berukuran besar, seperti kapal Kargo/kapal pesiar, beresiko untuk berlayar apabila terjadi peningkatan kecepatan angin lebih dari 27 knots (50 km/jam) dan tinggi gelombang diatas 4.0 meter,\" ujar Prabowo.    Prabowo menyebut gelombang tinggi 4 sampai 6 meter berpeluang terjadi di Perairan Kepulauan Mentawai, perairan Enggano Bengkulu, perairan barat Lampung, perairan selatan Banten sampai Jawa Timur, perairan selatan Bali hingga Sumbawa, Selat Bali, Lombok, Alas bagian selatan hingga Sumbawa. Sedangkan gelombang setinggi 1 sampai 2 meter berpeluang terjadi di Selat Malaka bagian utara Selat Sunda bagian utara, Selat Makasar hingga Papua Barat.  Kondisi tersebur juga membahayakan wisatawan yang berenang di pantai. Sebab arus kuat bisa saja tiba-tiba datan dan menyeret ke tengah laut. Nelayan juga diminta tak memaksakan diri untuk melaut selama masa gelombang tinggi itu.    '},\n",
       " {'subcategory': 'Berita',\n",
       "  'id': 4147515,\n",
       "  'category': 'news',\n",
       "  'url': 'https://news.detik.com/berita/d-4147515/prabowo-dilema-pilih-salim-segaf-atau-ahy',\n",
       "  'pubdate': '2018-08-03 07:01:44',\n",
       "  'author': 'Ahmad Bil Wahid',\n",
       "  'title': 'Prabowo Dilema Pilih Salim Segaf atau AHY',\n",
       "  'source': 'detik',\n",
       "  'comments': 0,\n",
       "  'tags': 'prabowo,ahy,salim segaf,pilpres 2019',\n",
       "  'images': 'https://akcdn.detik.net.id/community/media/visual/2018/03/27/9e49d8af-1c86-40e6-9c28-ae1b3ce0c7e6_169.jpeg?w=780&q=90',\n",
       "  'content': 'Jakarta - Nama Ketua Majelis Syuro PKS Salim Segaf Aljufri dan Ketua Kogasma Pemenangan Pemilu Demokrat Agus Harimurti Yudhoyono (AHY) digadang menjadi kandidat cawapres Prabowo Subianto. Siapa yang dipilih Prabowo?  Pengamat politik Universitas Andalas Padang, Asrinaldi menilai Prabowo dilema menghadapi pilihan itu. AHY yang disodorkan Demokrat punya suara lebih menjanjikan, sedangkan PKS merupakan partai yang sudah lama bermitra dengan Gerindra.  \"Kalau dia (Prabowo) pilih Demokrat karena suara Demokrat lebih tinggi, itu adalah mengingkari komitmen mereka (Gerindra) di 2014 yang lalu, bahkan di beberapa pilkada mereka juga bersama dengan PKS. Ini kan menjadi dilema bagi Prabowo,\" kata Asrinaldi saat dihubungi detikcom, Kamis (3/8/2018).    Asrinaldi menyebut baik AHY maupun Salim Segaf punya posisi kunci dalam koalisi dengan Gerindra. Dia mengatakan saat ini Demokrat punya jaringan di daerah yang lebih luas ketimbang PKS. Namun, PKS unggul dalam militansi kadernya meski hanya terpusat di wilayah perkotaan.  \"Dilemanya seperti itu. Kecuali Prabowo bisa memberikan tawaran-tawaran lain, atau deal-deal lain seperti komitmen tapi untuk jangka panjang. Itu mungkin bisa diterima oleh kedua kubu,\" ujarnya.  Hal lain yang membuat dilema Prabowo adalah AHY saat ini dianggap sebagai sosok populer di mata generasi milenial atau mempertimbangkan koalisi yang sudah terjalin lama dengan PKS. Jika akhirnya Prabowo memilih AHY, PKS pun harus rela jadi kawan lama yang tercampakkan. Asrinaldi kemudian menyinggung saat Prabowo ditinggalkan Megawati Soekarnoputri setelah gagal di Pilpres 2009.    \"Tapi kan begitu lah politik sebenarnya. Bagaimana Prabowo itu dinafikkan oleh Megawati pada 2009 dan 2014 kan juga kecewa Prabowo. Barangkali dalam politik memang harus begitu, drama politik memang pengkhianatan,\" tuturnya.  Seperti diketahui, hingga saat ini Prabowo masih belum mengumumkan nama pendampingnya dalam Pilpres 2019. Selain AHY dan Salim Segaf, ada juga nama Ustad Abdul Somad yang direkomendasikan lewat ijtimak ulama, sama seperti Salim Segaf.    Terakhir, sekjen Gerindra menyebut ada 4 nama yang masuk bursa cawapres Prabowo. Nama Gubernur DKI Jakarta Anies Baswedan pun masuk di dalamnya.  \"Ya ada (nama) Pak Anies, ada seperti Pak Ustaz Salim, Ustaz Abdul Somad. Empat nama,\" kata Muzani di Jl Kertanegara IV, Kebayoran Baru, Jakarta Selatan, Kamis (2/8).    '}]"
      ]
     },
     "execution_count": 6,
     "metadata": {},
     "output_type": "execute_result"
    }
   ],
   "source": [
    "detail"
   ]
  },
  {
   "cell_type": "code",
   "execution_count": 11,
   "metadata": {},
   "outputs": [],
   "source": [
    "con = mysql.connector.connect(user='root', password='',\n",
    "                              host='127.0.0.1',\n",
    "                              database='news_db')\n",
    "cursor = con.cursor()"
   ]
  },
  {
   "cell_type": "code",
   "execution_count": 9,
   "metadata": {},
   "outputs": [],
   "source": [
    "for det in detail:\n",
    "    add_article = (\"INSERT INTO article\"\n",
    "              \"(post_id, author, pubdate, category, subcategory, content, comments, images, title, tags, url, source) \"\n",
    "              \"VALUES (%(id)s, %(author)s, %(pubdate)s, %(category)s, %(subcategory)s, %(content)s, %(comments)s, %(images)s, %(title)s, %(tags)s, %(url)s, %(source)s)\")\n",
    "    # Insert article\n",
    "    cursor.execute(add_article, det)\n",
    "    con.commit()\n",
    "\n",
    "cursor.close()"
   ]
  },
  {
   "cell_type": "code",
   "execution_count": 10,
   "metadata": {},
   "outputs": [],
   "source": [
    "import pandas as pd"
   ]
  },
  {
   "cell_type": "code",
   "execution_count": 16,
   "metadata": {},
   "outputs": [],
   "source": [
    "df1 = pd.read_sql(\"Select * from article\", con)"
   ]
  },
  {
   "cell_type": "code",
   "execution_count": 17,
   "metadata": {},
   "outputs": [
    {
     "data": {
      "text/html": [
       "<div>\n",
       "<style scoped>\n",
       "    .dataframe tbody tr th:only-of-type {\n",
       "        vertical-align: middle;\n",
       "    }\n",
       "\n",
       "    .dataframe tbody tr th {\n",
       "        vertical-align: top;\n",
       "    }\n",
       "\n",
       "    .dataframe thead th {\n",
       "        text-align: right;\n",
       "    }\n",
       "</style>\n",
       "<table border=\"1\" class=\"dataframe\">\n",
       "  <thead>\n",
       "    <tr style=\"text-align: right;\">\n",
       "      <th></th>\n",
       "      <th>id</th>\n",
       "      <th>post_id</th>\n",
       "      <th>author</th>\n",
       "      <th>pubdate</th>\n",
       "      <th>category</th>\n",
       "      <th>subcategory</th>\n",
       "      <th>content</th>\n",
       "      <th>comments</th>\n",
       "      <th>images</th>\n",
       "      <th>title</th>\n",
       "      <th>tags</th>\n",
       "      <th>url</th>\n",
       "      <th>source</th>\n",
       "    </tr>\n",
       "  </thead>\n",
       "  <tbody>\n",
       "    <tr>\n",
       "      <th>0</th>\n",
       "      <td>1</td>\n",
       "      <td>4147543</td>\n",
       "      <td>Erwin Dariyanto</td>\n",
       "      <td>2018-08-03 07:20:30</td>\n",
       "      <td>news</td>\n",
       "      <td>Berita</td>\n",
       "      <td>Jakarta -Penjara rupanya belum sepenuhnya memb...</td>\n",
       "      <td>0</td>\n",
       "      <td>https://akcdn.detik.net.id/community/media/vis...</td>\n",
       "      <td>Tonton Blak blakan Menkumham, 2 Napi Kakap Anc...</td>\n",
       "      <td>lapas sukamiskin</td>\n",
       "      <td>https://news.detik.com/berita/d-4147543/tonton...</td>\n",
       "      <td>detik</td>\n",
       "    </tr>\n",
       "    <tr>\n",
       "      <th>1</th>\n",
       "      <td>2</td>\n",
       "      <td>4147530</td>\n",
       "      <td>Ahmad Bil Wahid</td>\n",
       "      <td>2018-08-03 07:16:57</td>\n",
       "      <td>news</td>\n",
       "      <td>Berita</td>\n",
       "      <td>Jakarta -Badan Meteorologi, Klimiatologi dan G...</td>\n",
       "      <td>0</td>\n",
       "      <td>https://akcdn.detik.net.id/community/media/vis...</td>\n",
       "      <td>BMKG: Waspadai Geombang Tinggi 3 Hari ke Depan</td>\n",
       "      <td>bmkg,gelombang tinggi,cuaca buruk</td>\n",
       "      <td>https://news.detik.com/berita/d-4147530/bmkg-w...</td>\n",
       "      <td>detik</td>\n",
       "    </tr>\n",
       "    <tr>\n",
       "      <th>2</th>\n",
       "      <td>3</td>\n",
       "      <td>4147515</td>\n",
       "      <td>Ahmad Bil Wahid</td>\n",
       "      <td>2018-08-03 07:01:44</td>\n",
       "      <td>news</td>\n",
       "      <td>Berita</td>\n",
       "      <td>Jakarta - Nama Ketua Majelis Syuro PKS Salim S...</td>\n",
       "      <td>0</td>\n",
       "      <td>https://akcdn.detik.net.id/community/media/vis...</td>\n",
       "      <td>Prabowo Dilema Pilih Salim Segaf atau AHY</td>\n",
       "      <td>prabowo,ahy,salim segaf,pilpres 2019</td>\n",
       "      <td>https://news.detik.com/berita/d-4147515/prabow...</td>\n",
       "      <td>detik</td>\n",
       "    </tr>\n",
       "  </tbody>\n",
       "</table>\n",
       "</div>"
      ],
      "text/plain": [
       "   id  post_id           author             pubdate category subcategory  \\\n",
       "0   1  4147543  Erwin Dariyanto 2018-08-03 07:20:30     news      Berita   \n",
       "1   2  4147530  Ahmad Bil Wahid 2018-08-03 07:16:57     news      Berita   \n",
       "2   3  4147515  Ahmad Bil Wahid 2018-08-03 07:01:44     news      Berita   \n",
       "\n",
       "                                             content  comments  \\\n",
       "0  Jakarta -Penjara rupanya belum sepenuhnya memb...         0   \n",
       "1  Jakarta -Badan Meteorologi, Klimiatologi dan G...         0   \n",
       "2  Jakarta - Nama Ketua Majelis Syuro PKS Salim S...         0   \n",
       "\n",
       "                                              images  \\\n",
       "0  https://akcdn.detik.net.id/community/media/vis...   \n",
       "1  https://akcdn.detik.net.id/community/media/vis...   \n",
       "2  https://akcdn.detik.net.id/community/media/vis...   \n",
       "\n",
       "                                               title  \\\n",
       "0  Tonton Blak blakan Menkumham, 2 Napi Kakap Anc...   \n",
       "1     BMKG: Waspadai Geombang Tinggi 3 Hari ke Depan   \n",
       "2          Prabowo Dilema Pilih Salim Segaf atau AHY   \n",
       "\n",
       "                                   tags  \\\n",
       "0                      lapas sukamiskin   \n",
       "1     bmkg,gelombang tinggi,cuaca buruk   \n",
       "2  prabowo,ahy,salim segaf,pilpres 2019   \n",
       "\n",
       "                                                 url source  \n",
       "0  https://news.detik.com/berita/d-4147543/tonton...  detik  \n",
       "1  https://news.detik.com/berita/d-4147530/bmkg-w...  detik  \n",
       "2  https://news.detik.com/berita/d-4147515/prabow...  detik  "
      ]
     },
     "execution_count": 17,
     "metadata": {},
     "output_type": "execute_result"
    }
   ],
   "source": [
    "df1"
   ]
  },
  {
   "cell_type": "code",
   "execution_count": 18,
   "metadata": {},
   "outputs": [],
   "source": [
    "con.close()"
   ]
  },
  {
   "cell_type": "code",
   "execution_count": null,
   "metadata": {},
   "outputs": [],
   "source": []
  }
 ],
 "metadata": {
  "kernelspec": {
   "display_name": "Python 3",
   "language": "python",
   "name": "python3"
  },
  "language_info": {
   "codemirror_mode": {
    "name": "ipython",
    "version": 3
   },
   "file_extension": ".py",
   "mimetype": "text/x-python",
   "name": "python",
   "nbconvert_exporter": "python",
   "pygments_lexer": "ipython3",
   "version": "3.6.6"
  }
 },
 "nbformat": 4,
 "nbformat_minor": 2
}
