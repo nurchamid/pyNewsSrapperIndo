{
 "cells": [
  {
   "cell_type": "code",
   "execution_count": 6,
   "metadata": {},
   "outputs": [],
   "source": [
    "import requests\n",
    "from bs4 import BeautifulSoup\n",
    "from datetime import datetime, timedelta\n",
    "import locale\n",
    "locale.setlocale(locale.LC_ALL, 'ID')\n",
    "import re"
   ]
  },
  {
   "cell_type": "code",
   "execution_count": 36,
   "metadata": {},
   "outputs": [],
   "source": [
    "def getIndeksLink(links, page, cat_link, category, date=datetime.strftime(datetime.today(), '%m/%d/%Y')):\n",
    "    \"\"\"\n",
    "    Untuk mengambil seluruh url \n",
    "    link pada indeks category tertentu\n",
    "    date format : dd/mm/YYYY\n",
    "    \"\"\"\n",
    "    print(\"page \", page)\n",
    "    if cat_link == 'news':\n",
    "        url = \"https://\"+cat_link+\".detik.com/indeks/all/\"+str(page)+\"?date=\"+date\n",
    "    else :\n",
    "        url = \"https://\"+cat_link+\".detik.com/indeks/\"+str(page)+\"?date=\"+date\n",
    "    print(url)\n",
    "    # Make the request and create the response object: response\n",
    "    response = requests.get(url)\n",
    "    # Extract HTML texts contained in Response object: html\n",
    "    html = response.text\n",
    "    # Create a BeautifulSoup object from the HTML: soup\n",
    "    soup = BeautifulSoup(html, \"html5lib\")\n",
    "    contentDiv = soup.find('ul', attrs={'id':'indeks-container'})\n",
    "    indeks = contentDiv.findAll('article')\n",
    "    for post in indeks:\n",
    "        link = [post.find('a', href=True)['href'], category]\n",
    "        links.append(link)\n",
    "        \n",
    "    el_page = soup.find('div', class_=\"paging paging2\")\n",
    "    if el_page:\n",
    "        max_page = int(soup.find('div', class_=\"paging paging2\").findAll('a')[-2].text.replace('\\n', '').strip(' '))\n",
    "    \n",
    "        if page < max_page:\n",
    "            links = getIndeksLink(links, page+1, cat_link, category, date)\n",
    "        \n",
    "    return links"
   ]
  },
  {
   "cell_type": "code",
   "execution_count": 122,
   "metadata": {},
   "outputs": [],
   "source": [
    "def getDetailBerita(links):\n",
    "    all_articles = []\n",
    "    for link in links:\n",
    "        articles = {}\n",
    "        #link\n",
    "        url = link[0]\n",
    "        response = requests.get(url)\n",
    "        html = response.text\n",
    "        # Create a BeautifulSoup object from the HTML: soup\n",
    "        soup = BeautifulSoup(html, \"html5lib\")\n",
    "        \n",
    "        #extract subcategory from breadcrumb\n",
    "        bc = soup.find('div', class_=\"breadcrumb\")\n",
    "        if not bc:\n",
    "            continue\n",
    "        \n",
    "        sub = bc.findAll('a')[1].text\n",
    "        if (\"foto\" in sub.lower()) or  \"video\" in sub.lower(): \n",
    "            continue\n",
    "            \n",
    "        articles['subcategory'] = sub\n",
    "        \n",
    "        articles['id'] = int(soup.find(\"meta\", attrs={'name':'articleid'})['content'])\n",
    "        #category\n",
    "        articles['category'] = link[1]\n",
    "        articles['url'] = url\n",
    "        \n",
    "        article = soup.find('article')\n",
    "        \n",
    "        #extract date\n",
    "        pubdate = soup.find(\"meta\", attrs={'name':'publishdate'})['content']\n",
    "        pubdate = pubdate.strip(' \\t\\n\\r')\n",
    "        articles['pubdate'] = datetime.strftime(datetime.strptime(pubdate, \"%Y/%m/%d %H:%M:%S\"), '%Y-%m-%d %H:%M:%S')\n",
    "        \n",
    "        #extract author\n",
    "        articles['author'] = soup.find(\"meta\", attrs={'name':'author'})['content']\n",
    "        \n",
    "        #extract title\n",
    "        articles['title'] = article.find('div', class_=\"jdl\").find('h1').text\n",
    "        \n",
    "        #source\n",
    "        articles['source'] = 'detik'\n",
    "        \n",
    "        #extract comments count\n",
    "        articles['comments'] = int(soup.find('a', class_=\"komentar\").find('span').text.replace('Komentar', '').strip(' \\t\\n\\r'))\n",
    "        \n",
    "        #extract tags\n",
    "        tags = article.find('div', class_=\"detail_tag\").findAll('a')\n",
    "        articles['tags'] = ','.join([x.text for x in tags])\n",
    "        \n",
    "        #extract images\n",
    "        articles['images'] = article.find('div', class_=\"pic_artikel\").find('img')['src']\n",
    "        \n",
    "        #extract detail\n",
    "        detail = article.find('div', class_=\"detail_text\")\n",
    "        \n",
    "        #hapus link sisip\n",
    "        for link in detail.findAll('table', class_=\"linksisip\"):\n",
    "            link.decompose()\n",
    "        \n",
    "        #hapus video sisip\n",
    "        for tag in detail.findAll('div', class_=\"sisip_embed_sosmed\"):\n",
    "            tag.decompose()\n",
    "            \n",
    "        #hapus all setelah clear fix\n",
    "        for det in detail.find('div', class_=\"clearfix mb20\").findAllNext():\n",
    "            det.decompose()\n",
    "            \n",
    "        #hapus all script\n",
    "        for script in detail.findAll('script'):\n",
    "            script.decompose()\n",
    "        \n",
    "        #extract content\n",
    "        detail = BeautifulSoup(detail.decode_contents().replace('<br/>', ' '), \"html5lib\")\n",
    "        content = re.sub(r'\\n|\\t|\\b|\\r','',detail.text)\n",
    "        articles['content'] = re.sub(r'(Tonton juga).*','', content)\n",
    "        print('memasukkan berita id ', articles['id'])\n",
    "        all_articles.append(articles)\n",
    "    return all_articles"
   ]
  },
  {
   "cell_type": "code",
   "execution_count": 42,
   "metadata": {},
   "outputs": [],
   "source": [
    "links = []"
   ]
  },
  {
   "cell_type": "code",
   "execution_count": 53,
   "metadata": {},
   "outputs": [
    {
     "name": "stdout",
     "output_type": "stream",
     "text": [
      "page  1\n",
      "https://news.detik.com/indeks/all/1?date=07/27/2018\n",
      "page  2\n",
      "https://news.detik.com/indeks/all/2?date=07/27/2018\n",
      "page  3\n",
      "https://news.detik.com/indeks/all/3?date=07/27/2018\n",
      "page  4\n",
      "https://news.detik.com/indeks/all/4?date=07/27/2018\n",
      "page  5\n",
      "https://news.detik.com/indeks/all/5?date=07/27/2018\n",
      "page  6\n",
      "https://news.detik.com/indeks/all/6?date=07/27/2018\n",
      "page  7\n",
      "https://news.detik.com/indeks/all/7?date=07/27/2018\n",
      "page  8\n",
      "https://news.detik.com/indeks/all/8?date=07/27/2018\n"
     ]
    }
   ],
   "source": [
    "links = getIndeksLink(links, 1, 'news', 'news')"
   ]
  },
  {
   "cell_type": "code",
   "execution_count": 123,
   "metadata": {},
   "outputs": [
    {
     "name": "stdout",
     "output_type": "stream",
     "text": [
      "memasukkan berita id  4136427\n",
      "memasukkan berita id  4136402\n"
     ]
    }
   ],
   "source": [
    "detail = getDetailBerita(links[10:13])"
   ]
  },
  {
   "cell_type": "code",
   "execution_count": 124,
   "metadata": {},
   "outputs": [
    {
     "data": {
      "text/plain": [
       "[{'subcategory': 'Berita',\n",
       "  'id': 4136427,\n",
       "  'category': 'news',\n",
       "  'url': 'https://news.detik.com/berita/d-4136427/priit-pelanggar-ganjil-genap-ditilang-mulai-1-agustus',\n",
       "  'pubdate': '2018-07-27 13:00:00',\n",
       "  'author': 'Peti',\n",
       "  'title': 'Priit! Pelanggar Ganjil-Genap Ditilang Mulai 1 Agustus',\n",
       "  'source': 'detik',\n",
       "  'comments': 0,\n",
       "  'tags': 'asian games 2018,ganjil genap,ganjil genap asian games,ganjil genap diperluas',\n",
       "  'images': 'https://akcdn.detik.net.id/community/media/visual/2018/07/18/d7868207-2c18-4a20-a933-9aa4692c4dcb_169.jpeg?w=780&q=90',\n",
       "  'content': 'Jakarta - Uji coba dan sosialisasi perluasan ganjil-genap akan berakhir pada 31 Juli 2018. Polisi akan mulai menindak pelanggar aturan ganjil-genap pada 1 Agustus 2018.  \"Sudah fix, jadi mulai 1 Agustus akan dilaksanakan penindakan. Jadi kalau sekarang kan masih sosialisasi, kemudian yang melanggar disuruh keluar dari jalur itu,\" ujar Direktur Lalu Lintas Polda Metro Jaya Kombes Yusuf kepada wartawan di Mapolda Metro Jaya, Jakarta, Jumat (27/7/2018).   Yusuf mengatakan pelanggar aturan ganjil-genap akan ditilang. Pelanggar akan dikenai denda maksimal sesuai dengan ketentuan Undang-Undang No 22 Tahun 2009 tentang Lalu Lintas dan Angkutan Jalan.  \"Sistem tilang biasa dendanya Rp 500 ribu, denda maksimal,\" imbuhnya.    Perluasan ganjil-genap di jalur arteri ini dibuat demi kelancaran Asian Games 2018. Polisi optimistis upaya tersebut dapat mengurangi kemacetan, terutama di rute-rute yang dilalui peserta Asian Games 2018.  \"Ya kita berupaya semaksimal mungkin ini akan berjalan dengan lancar, harus optimis dong,\" lanjutnya.  Sejak uji coba dilakukan, Yusuf mengakui, pihaknya tidak memiliki kendala. Menurutnya pula, tingkat kesadaran masyarakat selama proses uji coba sudah mulai meningkat.  \"Dari mulai sosialisasi pertama, banyak yang ditegur mungkin karena banyak yang tidak tahu. Semakin ke sini semakin berkurang, mudah-mudahan nanti pada saat penindakan tanggal 1 tidak ada yang ditindak, berarti sudah tertib,\" papar Yusuf.  Rencana perluasan lokasi ganjil-genap adalah sebagai berikut:  1. Jalan S Parman-Jalan Gatot Subroto-Jalan MT Haryono-Jalan DI Panjaitan-Jalan Ahmad Yani-Simpang Coca Cola/Perintis Kemerdekaan Cempaka Putih.  2. Arteri Pondok Indah mulai simpang Kartini sampai simpang Kebayoran Baru.  3. Jalan Rasuna Said, Jaksel.  4. Jalan Benyamin Sueb, Kemayoran, Jakpus.   (mei/dkp)               '},\n",
       " {'subcategory': 'Berita-jawa-timur',\n",
       "  'id': 4136402,\n",
       "  'category': 'news',\n",
       "  'url': 'https://news.detik.com/berita-jawa-timur/d-4136402/durasi-nyala-traffic-light-perempatan-purutrejo-sepakat-dievaluasi',\n",
       "  'pubdate': '2018-07-27 12:55:53',\n",
       "  'author': 'Muhajir Arifin',\n",
       "  'title': 'Durasi Nyala Traffic Light Perempatan Purutrejo Sepakat Dievaluasi',\n",
       "  'source': 'detik',\n",
       "  'comments': 0,\n",
       "  'tags': 'traffic light,purutrejo,pasuruan',\n",
       "  'images': 'https://akcdn.detik.net.id/community/media/visual/2018/07/26/43666f1c-1b87-4e57-81da-cf2d2ca0400b_169.jpeg?w=780&q=90',\n",
       "  'content': 'Pasuruan -Polisi dan Dinas Perhubungan sepakat mengevaluasi durasi nyala traffic light Perempatan Purutrejo. Durasi nyala lampu yang jomplang menjadi salah satu penyebab utama kekacauan lalu lintas.  \"Tadi pagi kami coba menormalkan traffic light, tapi ternyata imbasnya kemacetan luar biasa di keempat arah. Ekor kemacetan di timur hingga SPBU Bakalan, di barat sampai Perempatan Kebonagung. Arah selatan-utara juga menumpuk roda dua karena jam kerja,\" kata Kanit Patroli Sat Lantas Polresta Pasuruan Ipda Sukisno kepada detikcom, Jumat (27/7/2018).  Akibat kemacetan horor tersebut, pihaknya kembali melakukan flashing. Menurut dia traffic light bisa dinormalkan secara permanen jika durasi nyala lampu dievaluasi.  \"Saat ini durasi lampu hijau arah timur ke barat 60 detik, sedangkan dari barat ke timur cuma 15 detik. Sementara arah utara ke selatan dan sebaliknya 20 detik. Idealnya durasi nyala lampu hijau dari timur ke barat dan sebaliknya sama-sama 70 detik. Kalau utara ke selatan dan sebaliknya tetap 20 detik nggak masalah karena kepadatan hanya saat jam kerja,\" urai Sukisno.   Sukirno menegaskan durasi nyala lampu timur ke barat dan barat ke timur yang jomplang jadi penyebab utama kemacetan.  \"Jalur itu kan saat ini jadi jalur utama kendaraan keluar-masuk Pintu Tol Gempol-Pasuruan di Kelurahan Pohjentrek. Semua kendaraan dari segala penjuru lewat sana. Bahkan traffic light di Perempatan Kebonagung sering kami flashing karena kendaraan keluar dari tol menumpuk,\" terangnya.  Oleh karena itu pihaknya meminta Dishub merubah durasi nyala traffic light. \"Kami sudah sampaikan ke Dishub kondisi lapangan,\" tandasnya.   Kepala Bidang Lalu-lintas Dishub Kota Pasuruan Andriyanto mengatakan, mengevaluasi durasi nyala traffic light memang kewenangannya. Pihaknya akan mengkaji ulang dan melakukan evaluasi.  \"Iya memang durasi menjadi masalah. Kami akan segera mengevaluasi. Mungkin minggu depan sudah bisa diterapkan durasi yang baru,\" terang Andri.  Pihaknya berjanji segera berkoordinasi dengan pihak terkait terutama kepolisian agar kekacauan lalu-lintas di Perempatan Purutrejo teratasi.             (iwd/iwd)                                                            '}]"
      ]
     },
     "execution_count": 124,
     "metadata": {},
     "output_type": "execute_result"
    }
   ],
   "source": [
    "detail"
   ]
  },
  {
   "cell_type": "code",
   "execution_count": 112,
   "metadata": {},
   "outputs": [],
   "source": [
    "import pandas as pd"
   ]
  },
  {
   "cell_type": "code",
   "execution_count": 113,
   "metadata": {},
   "outputs": [],
   "source": [
    "df = pd.DataFrame(detail)"
   ]
  },
  {
   "cell_type": "code",
   "execution_count": 115,
   "metadata": {},
   "outputs": [],
   "source": [
    "df.to_csv('tes.csv')"
   ]
  },
  {
   "cell_type": "code",
   "execution_count": 116,
   "metadata": {},
   "outputs": [
    {
     "data": {
      "text/html": [
       "<div>\n",
       "<style scoped>\n",
       "    .dataframe tbody tr th:only-of-type {\n",
       "        vertical-align: middle;\n",
       "    }\n",
       "\n",
       "    .dataframe tbody tr th {\n",
       "        vertical-align: top;\n",
       "    }\n",
       "\n",
       "    .dataframe thead th {\n",
       "        text-align: right;\n",
       "    }\n",
       "</style>\n",
       "<table border=\"1\" class=\"dataframe\">\n",
       "  <thead>\n",
       "    <tr style=\"text-align: right;\">\n",
       "      <th></th>\n",
       "      <th>author</th>\n",
       "      <th>category</th>\n",
       "      <th>comments</th>\n",
       "      <th>content</th>\n",
       "      <th>id</th>\n",
       "      <th>images</th>\n",
       "      <th>pubdate</th>\n",
       "      <th>source</th>\n",
       "      <th>subcategory</th>\n",
       "      <th>tags</th>\n",
       "      <th>title</th>\n",
       "      <th>url</th>\n",
       "    </tr>\n",
       "  </thead>\n",
       "  <tbody>\n",
       "    <tr>\n",
       "      <th>0</th>\n",
       "      <td>Peti - detikNews</td>\n",
       "      <td>news</td>\n",
       "      <td>0</td>\n",
       "      <td>Jakarta - Uji coba dan sosialisasi perluasan g...</td>\n",
       "      <td>4136427</td>\n",
       "      <td>https://akcdn.detik.net.id/community/media/vis...</td>\n",
       "      <td>2018-07-27 13:00:00</td>\n",
       "      <td>detik</td>\n",
       "      <td>Berita</td>\n",
       "      <td>asian games 2018,ganjil genap,ganjil genap asi...</td>\n",
       "      <td>Priit! Pelanggar Ganjil-Genap Ditilang Mulai 1...</td>\n",
       "      <td>https://news.detik.com/berita/d-4136427/priit-...</td>\n",
       "    </tr>\n",
       "    <tr>\n",
       "      <th>1</th>\n",
       "      <td>Muhajir Arifin - detikNews</td>\n",
       "      <td>news</td>\n",
       "      <td>0</td>\n",
       "      <td>Pasuruan -Polisi dan Dinas Perhubungan sepakat...</td>\n",
       "      <td>4136402</td>\n",
       "      <td>https://akcdn.detik.net.id/community/media/vis...</td>\n",
       "      <td>2018-07-27 12:55:53</td>\n",
       "      <td>detik</td>\n",
       "      <td>Berita-jawa-timur</td>\n",
       "      <td>traffic light,purutrejo,pasuruan</td>\n",
       "      <td>Durasi Nyala Traffic Light Perempatan Purutrej...</td>\n",
       "      <td>https://news.detik.com/berita-jawa-timur/d-413...</td>\n",
       "    </tr>\n",
       "  </tbody>\n",
       "</table>\n",
       "</div>"
      ],
      "text/plain": [
       "                       author category  comments  \\\n",
       "0            Peti - detikNews     news         0   \n",
       "1  Muhajir Arifin - detikNews     news         0   \n",
       "\n",
       "                                             content       id  \\\n",
       "0  Jakarta - Uji coba dan sosialisasi perluasan g...  4136427   \n",
       "1  Pasuruan -Polisi dan Dinas Perhubungan sepakat...  4136402   \n",
       "\n",
       "                                              images              pubdate  \\\n",
       "0  https://akcdn.detik.net.id/community/media/vis...  2018-07-27 13:00:00   \n",
       "1  https://akcdn.detik.net.id/community/media/vis...  2018-07-27 12:55:53   \n",
       "\n",
       "  source        subcategory  \\\n",
       "0  detik             Berita   \n",
       "1  detik  Berita-jawa-timur   \n",
       "\n",
       "                                                tags  \\\n",
       "0  asian games 2018,ganjil genap,ganjil genap asi...   \n",
       "1                   traffic light,purutrejo,pasuruan   \n",
       "\n",
       "                                               title  \\\n",
       "0  Priit! Pelanggar Ganjil-Genap Ditilang Mulai 1...   \n",
       "1  Durasi Nyala Traffic Light Perempatan Purutrej...   \n",
       "\n",
       "                                                 url  \n",
       "0  https://news.detik.com/berita/d-4136427/priit-...  \n",
       "1  https://news.detik.com/berita-jawa-timur/d-413...  "
      ]
     },
     "execution_count": 116,
     "metadata": {},
     "output_type": "execute_result"
    }
   ],
   "source": [
    "df"
   ]
  },
  {
   "cell_type": "code",
   "execution_count": 138,
   "metadata": {},
   "outputs": [],
   "source": [
    "from selenium import webdriver\n",
    "from selenium.webdriver.chrome.options import Options"
   ]
  },
  {
   "cell_type": "code",
   "execution_count": null,
   "metadata": {},
   "outputs": [],
   "source": [
    "options = Options()\n",
    "options.add_argument('--headless')\n",
    "options.add_argument('--disable-gpu')  # Last I checked this was necessary.\n",
    "# options.add_argument('--disable-extensions')\n",
    "\n",
    "driver = webdriver.Chrome(\"../chromedriver.exe\", chrome_options=options)"
   ]
  },
  {
   "cell_type": "code",
   "execution_count": 144,
   "metadata": {},
   "outputs": [],
   "source": [
    "driver.get(\"https://nasional.kompas.com/read/2018/07/27/12344561/adiknya-ditangkap-kpk-zulkifli-mohon-maaf\")\n",
    "html = driver.page_source"
   ]
  },
  {
   "cell_type": "code",
   "execution_count": 147,
   "metadata": {},
   "outputs": [],
   "source": [
    "soup = BeautifulSoup(html, 'html5lib')"
   ]
  },
  {
   "cell_type": "code",
   "execution_count": 148,
   "metadata": {},
   "outputs": [],
   "source": [
    "soup.find('div', class_=\"span4 comments-count tright\")"
   ]
  },
  {
   "cell_type": "code",
   "execution_count": null,
   "metadata": {},
   "outputs": [],
   "source": []
  }
 ],
 "metadata": {
  "kernelspec": {
   "display_name": "Python 3",
   "language": "python",
   "name": "python3"
  },
  "language_info": {
   "codemirror_mode": {
    "name": "ipython",
    "version": 3
   },
   "file_extension": ".py",
   "mimetype": "text/x-python",
   "name": "python",
   "nbconvert_exporter": "python",
   "pygments_lexer": "ipython3",
   "version": "3.6.6"
  }
 },
 "nbformat": 4,
 "nbformat_minor": 2
}
