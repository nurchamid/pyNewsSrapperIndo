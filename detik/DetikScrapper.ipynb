{
 "cells": [
  {
   "cell_type": "code",
   "execution_count": 1,
   "metadata": {},
   "outputs": [],
   "source": [
    "from Detik import Detik #class news Scrapper\n",
    "from datetime import timedelta, date, datetime\n",
    "from IPython.display import clear_output"
   ]
  },
  {
   "cell_type": "code",
   "execution_count": 2,
   "metadata": {},
   "outputs": [],
   "source": [
    "def daterange(start_date, end_date):\n",
    "    for n in range(int ((end_date - start_date).days)):\n",
    "        yield start_date + timedelta(n)"
   ]
  },
  {
   "cell_type": "code",
   "execution_count": 5,
   "metadata": {},
   "outputs": [],
   "source": [
    "obj = Detik()\n",
    "end_date = date(2018, 9, 1)\n",
    "start_date = date(2018, 8, 31)\n",
    "init_page = 21\n",
    "list_cat = [['news', 'news']]\n",
    "init_cat = list_cat"
   ]
  },
  {
   "cell_type": "code",
   "execution_count": 6,
   "metadata": {},
   "outputs": [
    {
     "name": "stdout",
     "output_type": "stream",
     "text": [
      "2018-08-31\n",
      "news\n",
      "page  21\n",
      "https://news.detik.com/indeks/all/21?date=08/31/2018\n",
      "https://news.detik.com/internasional/d-4190678/rebutan-kerang-nelayan-prancis-inggris-saling-tabrakan-kapal\n",
      "memasukkan berita id  4190678\n",
      "Insert berita  \n",
      "salah2\n",
      "laporan dari mekah\n",
      "https://news.detik.com/berita/d-4190677/terungkap-begini-pembagian-zamzam-ganti-presiden-di-jeddah\n",
      "memasukkan berita id  4190677\n",
      "Insert berita  \n",
      "salah2\n",
      "https://news.detik.com/berita/d-4190676/dolar-as-tembus-rp-14744-fadli-zon-bahaya-jangan-anggap-enteng\n",
      "memasukkan berita id  4190676\n",
      "Insert berita  \n",
      "salah2\n",
      "https://news.detik.com/berita/d-4190673/gerindra-struktur-timses-prabowo-sandi-final-ada-12-direktorat\n",
      "memasukkan berita id  4190673\n",
      "Insert berita  \n",
      "salah2\n",
      "https://news.detik.com/berita/d-4190681/dolar-as-tembus-rp-14744-sandiaga-kami-khawatir\n",
      "memasukkan berita id  4190681\n",
      "Insert berita  \n",
      "salah2\n",
      "https://news.detik.com/berita/d-4190666/kumpulkan-dpd-gerindra-prabowo-jelaskan-lika-liku-koalisi\n",
      "memasukkan berita id  4190666\n",
      "Insert berita  \n",
      "salah2\n",
      "https://news.detik.com/berita/d-4190661/koalisi-prabowo-sandiaga-sepakat-djoko-santoso-jadi-ketua-timses\n",
      "memasukkan berita id  4190661\n",
      "Insert berita  \n",
      "salah2\n",
      "https://news.detik.com/berita/d-4190660/respons-maruf-amin-soal-2019gantipresiden\n",
      "memasukkan berita id  4190660\n",
      "Insert berita  \n",
      "salah2\n"
     ]
    }
   ],
   "source": [
    "for single_date in daterange(start_date, end_date):\n",
    "    for cat in init_cat:\n",
    "        clear_output()\n",
    "        print(single_date.strftime(\"%Y-%m-%d\"))\n",
    "        print(cat[0])\n",
    "        obj.getAllBerita([], init_page, cat[0], cat[1], single_date.strftime(\"%m/%d/%Y\"))\n",
    "        init_page = 1\n",
    "    init_cat = list_cat"
   ]
  },
  {
   "cell_type": "code",
   "execution_count": null,
   "metadata": {},
   "outputs": [],
   "source": []
  }
 ],
 "metadata": {
  "kernelspec": {
   "display_name": "Python 3",
   "language": "python",
   "name": "python3"
  },
  "language_info": {
   "codemirror_mode": {
    "name": "ipython",
    "version": 3
   },
   "file_extension": ".py",
   "mimetype": "text/x-python",
   "name": "python",
   "nbconvert_exporter": "python",
   "pygments_lexer": "ipython3",
   "version": "3.6.6"
  }
 },
 "nbformat": 4,
 "nbformat_minor": 2
}
