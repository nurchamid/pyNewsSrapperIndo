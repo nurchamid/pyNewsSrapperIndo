{
 "cells": [
  {
   "cell_type": "code",
   "execution_count": 4,
   "metadata": {},
   "outputs": [],
   "source": [
    "from Detik import Detik #class news Scrapper\n",
    "import mysql.connector"
   ]
  },
  {
   "cell_type": "code",
   "execution_count": 5,
   "metadata": {},
   "outputs": [],
   "source": [
    "obj = Detik()"
   ]
  },
  {
   "cell_type": "code",
   "execution_count": 6,
   "metadata": {},
   "outputs": [
    {
     "name": "stdout",
     "output_type": "stream",
     "text": [
      "page  1\n",
      "https://news.detik.com/indeks/all/1?date=08/06/2018\n",
      "page  2\n",
      "https://news.detik.com/indeks/all/2?date=08/06/2018\n",
      "page  3\n",
      "https://news.detik.com/indeks/all/3?date=08/06/2018\n"
     ]
    }
   ],
   "source": [
    "links = obj.getIndeksLink([], 1, 'news', 'news')"
   ]
  },
  {
   "cell_type": "code",
   "execution_count": 7,
   "metadata": {},
   "outputs": [
    {
     "name": "stdout",
     "output_type": "stream",
     "text": [
      "memasukkan berita id  4151462\n",
      "memasukkan berita id  4151434\n"
     ]
    }
   ],
   "source": [
    "detail = obj.getDetailBerita(links[10:13])"
   ]
  },
  {
   "cell_type": "code",
   "execution_count": 8,
   "metadata": {},
   "outputs": [
    {
     "data": {
      "text/plain": [
       "[{'subcategory': 'Berita',\n",
       "  'id': 4151462,\n",
       "  'category': 'news',\n",
       "  'url': 'https://news.detik.com/berita/d-4151462/gempa-lombok-berpusat-di-darat-kenapa-bisa-tsunami',\n",
       "  'pubdate': '2018-08-06 07:40:49',\n",
       "  'author': 'Ray Jordan',\n",
       "  'title': 'Gempa Lombok Berpusat di Darat, Kenapa Bisa Tsunami?',\n",
       "  'source': 'detik',\n",
       "  'comments': 0,\n",
       "  'tags': 'gempa,gempa bumi,gempa lombok,gempa ntb,tsunami,bmkg',\n",
       "  'images': 'https://akcdn.detik.net.id/community/media/visual/2018/08/05/a395dd33-5411-480d-a757-b147ebfad353_34.jpeg?w=780&q=90',\n",
       "  'content': '  Foto: Screenshot dari aplikasi BMKG    Jakarta - Gempa bumi berkekuatan 7 Skala Richter (SR) di Lombok Utara, Nusa Tenggara Barat (NTB) menimbulkan potensi tsunami, meski pusat gempa berada di daratan. Kenapa tsunami bisa terjadi padahal gempa di darat?  Kepala Bagian Humas Badan Meteorologi, Klimatologi dan Geofisoka (BMKG) Harry Tirto Djatmiko mengatakan, gempa 7 SR tersebut memang berpusat di darat, yakni tepatnya pada titik 8.37 LS dan 116.48 BT pada kedalaman 15 km. Namun, patahan gempa tersebut terjadi sampai ke laut.  Hal itulah yang menyebabkan terjadinya tsunami. Selain itu, gempa bumi tersebut termasuk dalam kategori gempa dangkal.  \"Itu karena patahannya sampai ke laut. Jadi itu yang menyebabkan kami tetap firm mengeluarkan peringatan dini tsunami. Dia di darat tapi tidak jauh dari pantai,\" kata Harry saat berbincang dengan detikcom, Senin (6/8/2018).  Gempa bumi tersebut awalnya dilaporkan terjadi pada Minggu (5/6) pukul 18.46 WIB dengan kekuatan 6,8 SR dan tidak menimbulkan tsunami. Namun, BMKG kemudian melakukan pemutakhiran informasi dan menyebut gempa tersebut berkekuatan 7 SR dan berpotensi tsunami.  Kepala Pusat Data Informasi dan Humas BNPB Sutopo Purwo Nugroho mengatakan, tsunami yang dimaksud telah terjadi dan menyentuh daratan. Ketinggian tsunami itu di bawah setengah meter.  \"Berdasarkan laporan BMKG telah ada tsunami dengan ketinggian tsunami yang masuk ke daratan 10 cm dan 13 cm,\" kata Kepala Pusat Data Informasi dan Humas BNPB Sutopo Purwo Nugroho dalam keterangannya, Minggu (5/8/2018).  \"Diperkirakan maksimum ketinggian tsunami 0,5 meter,\" imbuh Sutopo.  Namun, pada Minggu (5/8) pukul 20.25 WIB, pihak BMKG kemudian mencabut peringatan tsunami tersebut.  Dengan adanya peringatan tsunami itu, masyarakat NTB mengungsi ke dataran lebih tinggi. Usai pencabutan peringatan tsunami, masyarakat diimbau untuk tetap tenang dan kembali ke rumah masing-masing. Meski demikian, masih banyak warga yang brtahan di tempat pengungsian karena rumah mereka hancur terkena gempa, terutama di kawasan Lombok Utara, Lombok Timur dan Mataram.    '},\n",
       " {'subcategory': 'Berita',\n",
       "  'id': 4151434,\n",
       "  'category': 'news',\n",
       "  'url': 'https://news.detik.com/berita/d-4151434/pd-desak-jokowi-minta-maaf-hanura-belajar-bahasa-indonesia-deh',\n",
       "  'pubdate': '2018-08-06 07:18:07',\n",
       "  'author': 'Audrey Santoso',\n",
       "  'title': 'PD Desak Jokowi Minta Maaf, Hanura: Belajar Bahasa Indonesia Deh',\n",
       "  'source': 'detik',\n",
       "  'comments': 0,\n",
       "  'tags': 'hanura,demokrat',\n",
       "  'images': 'https://akcdn.detik.net.id/community/media/visual/2018/06/30/6f0f1120-fc63-4a05-9d98-b10b2a92f6e4_43.jpeg?w=780&q=90',\n",
       "  'content': 'Jakarta - Ketua DPP Hanura Inas Nasrullah Zubir mempertanyakan sikap Partai Demokrat (PD) yang mendesak Presiden Joko Widodo (Jokowi) meminta maaf atas arahan \\'berani jika diajak berantem\\' kepada relawannya. Inas meminta Partai Demokrat belajar bahasa Indonesia sesuai Kamus Besar Bahasa Indonesia (KBBI).  \"Kenapa harus meminta maaf? Memang Pak Jokowi suruh relawan berantem? Pada belajar bahasa Indonesia deh Demokrat,\" kata Inas kepada detikcom, Senin (6/8/2018).  Pihak Demokrat yang mendesak Jokowi agar meminta maaf adalah Kadiv Advokasi dan Bantuan Hukum Ferdinand Hutahaean. Inas menilai Ferdinand tak mengerti arti kata berantem dan salah menafsirkan.   \"Itu berantem kan tidak disuruh berantem. Kalau diajak berantem ya dilayani. Sekarang begini, selama ini kan semua itu bicara dalam konteks yang jelek-jelekin Pemerintah, menghujat pemerintah itu kan dalam konteks di sosmed bukan di keseharian,\" ujar Inas.  \"Artinya kalau misalnya mereka terus melakukan itu, harus dilawan dong, harus berani melawan,\" sambung Inas.  Inas mengatakan berantem yang dimaksud Jokowi bukanlah berkelahi secara fisik. Dia pun menyebut Partai Demokrat terlalu bawa perasaan (baper) menyikapi kata-kata Jokowi.   \"Bertengkar kan bisa di dalam sosmed bertengkarnya. Bukan ajak tawuran. Memang anak SMA? Jadi jangan baper. Sedikit-sedikit baper Demokrat. Demokrat kaya ketua umumnya saja dikit-dikit baper,\" tandas Inas.  Inas mencontohkan jika dirinya perang pernyataan di sosial media dengan Ferdinand, bukan berarti di kehidupan sehari-sehari mereka berkelahi secara fisik. Diapun meminta Ferdinand mencari arti kata berantem di KBBI.   \"Misalnya saja saya ribut sama Ferdinand Hutahaean, kan berantem namanya. Kan di sosmed, bukan berarti tonjok-tonjokan, bukan berarti pukul-pukulan. Bertengkar tidak harus berkelahi, misalnya adu mulut, bukan kekerasan fisik,\" ucap Inas.   \"Jangan langsung ditafsirkan kekerasan. Yang ngomong (desak Jokowi minta maaf) belajar bahasa Indonesia yang benar atau buka KBBI,\" imbuh dia.  Inas menilai Demokrat bersikap demikian lantaran tak memiliki daya untuk melawan Jokowi di Pemilihan Presiden 2019 nanti, sehingga berupaya menjelek-jelekan Jokowi.  \"Mereka kan sudah nggak punya daya menang dari Jokowi jadi apapun dia framing Jokowi yang jelek-jelek,\" tutur Inas.  Inas pun menyebut Demokrat bersikap seperti itu lantaran koalisi Jokowi menolak Agus Harimurti Yudhoyono (AHY) sebagai calon wakil presiden (cawapres)-nya di Pemilihan Presiden 2019.  \"Apalagi Demokrat, apa yang mereka punya? Punya anak mami? Masa anak mami dijual untuk cawapres. Anak mami dijual ke Jokowi, nggak laku lalu ngambek\" tutup Inas.  Ferdinand sebelumnya menyayangkan pernyataan \\'berani jika diajak berantem\\' yang disampaikan Presiden Joko Widodo (Jokowi) kepada relawannya. PD meminta Jokowi tidak berlaku seperti provokator.  Dia menilai pernyataan Jokowi tidak patut. PD menyarankan DPR memanggil Jokowi soal arahannya itu. \"Sungguh ini tak layak, tak patut dan tidak etis. Saya pikir DPR harus memanggil presiden dan menegurnya karena ini bibit perang saudara,\" cetusnya dalam pesan singkat yang diterima detikcom.  Selain itu, Jokowi didesak menarik kata-katanya. \"Presiden juga harus menarik kata-katanya, minta maaf salah diksi dan menganjurkan persaudaraan bukan perpecahan. Presiden kok mengamjurkan perkelahian? Ini salah dan harus ditegur,\" jelas Ferdinand.   '}]"
      ]
     },
     "execution_count": 8,
     "metadata": {},
     "output_type": "execute_result"
    }
   ],
   "source": [
    "detail"
   ]
  },
  {
   "cell_type": "code",
   "execution_count": 11,
   "metadata": {},
   "outputs": [],
   "source": [
    "con = mysql.connector.connect(user='root', password='',\n",
    "                              host='192.168.43.93',\n",
    "                              database='news_db')\n",
    "cursor = con.cursor()"
   ]
  },
  {
   "cell_type": "code",
   "execution_count": 9,
   "metadata": {},
   "outputs": [],
   "source": [
    "for det in detail:\n",
    "    add_article = (\"INSERT INTO article\"\n",
    "              \"(post_id, author, pubdate, category, subcategory, content, comments, images, title, tags, url, source) \"\n",
    "              \"VALUES (%(id)s, %(author)s, %(pubdate)s, %(category)s, %(subcategory)s, %(content)s, %(comments)s, %(images)s, %(title)s, %(tags)s, %(url)s, %(source)s)\")\n",
    "    # Insert article\n",
    "    cursor.execute(add_article, det)\n",
    "    con.commit()\n",
    "\n",
    "cursor.close()"
   ]
  },
  {
   "cell_type": "code",
   "execution_count": 10,
   "metadata": {},
   "outputs": [],
   "source": [
    "import pandas as pd"
   ]
  },
  {
   "cell_type": "code",
   "execution_count": 16,
   "metadata": {},
   "outputs": [],
   "source": [
    "df1 = pd.read_sql(\"Select * from article\", con)"
   ]
  },
  {
   "cell_type": "code",
   "execution_count": 17,
   "metadata": {},
   "outputs": [
    {
     "data": {
      "text/html": [
       "<div>\n",
       "<style scoped>\n",
       "    .dataframe tbody tr th:only-of-type {\n",
       "        vertical-align: middle;\n",
       "    }\n",
       "\n",
       "    .dataframe tbody tr th {\n",
       "        vertical-align: top;\n",
       "    }\n",
       "\n",
       "    .dataframe thead th {\n",
       "        text-align: right;\n",
       "    }\n",
       "</style>\n",
       "<table border=\"1\" class=\"dataframe\">\n",
       "  <thead>\n",
       "    <tr style=\"text-align: right;\">\n",
       "      <th></th>\n",
       "      <th>id</th>\n",
       "      <th>post_id</th>\n",
       "      <th>author</th>\n",
       "      <th>pubdate</th>\n",
       "      <th>category</th>\n",
       "      <th>subcategory</th>\n",
       "      <th>content</th>\n",
       "      <th>comments</th>\n",
       "      <th>images</th>\n",
       "      <th>title</th>\n",
       "      <th>tags</th>\n",
       "      <th>url</th>\n",
       "      <th>source</th>\n",
       "    </tr>\n",
       "  </thead>\n",
       "  <tbody>\n",
       "    <tr>\n",
       "      <th>0</th>\n",
       "      <td>1</td>\n",
       "      <td>4147543</td>\n",
       "      <td>Erwin Dariyanto</td>\n",
       "      <td>2018-08-03 07:20:30</td>\n",
       "      <td>news</td>\n",
       "      <td>Berita</td>\n",
       "      <td>Jakarta -Penjara rupanya belum sepenuhnya memb...</td>\n",
       "      <td>0</td>\n",
       "      <td>https://akcdn.detik.net.id/community/media/vis...</td>\n",
       "      <td>Tonton Blak blakan Menkumham, 2 Napi Kakap Anc...</td>\n",
       "      <td>lapas sukamiskin</td>\n",
       "      <td>https://news.detik.com/berita/d-4147543/tonton...</td>\n",
       "      <td>detik</td>\n",
       "    </tr>\n",
       "    <tr>\n",
       "      <th>1</th>\n",
       "      <td>2</td>\n",
       "      <td>4147530</td>\n",
       "      <td>Ahmad Bil Wahid</td>\n",
       "      <td>2018-08-03 07:16:57</td>\n",
       "      <td>news</td>\n",
       "      <td>Berita</td>\n",
       "      <td>Jakarta -Badan Meteorologi, Klimiatologi dan G...</td>\n",
       "      <td>0</td>\n",
       "      <td>https://akcdn.detik.net.id/community/media/vis...</td>\n",
       "      <td>BMKG: Waspadai Geombang Tinggi 3 Hari ke Depan</td>\n",
       "      <td>bmkg,gelombang tinggi,cuaca buruk</td>\n",
       "      <td>https://news.detik.com/berita/d-4147530/bmkg-w...</td>\n",
       "      <td>detik</td>\n",
       "    </tr>\n",
       "    <tr>\n",
       "      <th>2</th>\n",
       "      <td>3</td>\n",
       "      <td>4147515</td>\n",
       "      <td>Ahmad Bil Wahid</td>\n",
       "      <td>2018-08-03 07:01:44</td>\n",
       "      <td>news</td>\n",
       "      <td>Berita</td>\n",
       "      <td>Jakarta - Nama Ketua Majelis Syuro PKS Salim S...</td>\n",
       "      <td>0</td>\n",
       "      <td>https://akcdn.detik.net.id/community/media/vis...</td>\n",
       "      <td>Prabowo Dilema Pilih Salim Segaf atau AHY</td>\n",
       "      <td>prabowo,ahy,salim segaf,pilpres 2019</td>\n",
       "      <td>https://news.detik.com/berita/d-4147515/prabow...</td>\n",
       "      <td>detik</td>\n",
       "    </tr>\n",
       "  </tbody>\n",
       "</table>\n",
       "</div>"
      ],
      "text/plain": [
       "   id  post_id           author             pubdate category subcategory  \\\n",
       "0   1  4147543  Erwin Dariyanto 2018-08-03 07:20:30     news      Berita   \n",
       "1   2  4147530  Ahmad Bil Wahid 2018-08-03 07:16:57     news      Berita   \n",
       "2   3  4147515  Ahmad Bil Wahid 2018-08-03 07:01:44     news      Berita   \n",
       "\n",
       "                                             content  comments  \\\n",
       "0  Jakarta -Penjara rupanya belum sepenuhnya memb...         0   \n",
       "1  Jakarta -Badan Meteorologi, Klimiatologi dan G...         0   \n",
       "2  Jakarta - Nama Ketua Majelis Syuro PKS Salim S...         0   \n",
       "\n",
       "                                              images  \\\n",
       "0  https://akcdn.detik.net.id/community/media/vis...   \n",
       "1  https://akcdn.detik.net.id/community/media/vis...   \n",
       "2  https://akcdn.detik.net.id/community/media/vis...   \n",
       "\n",
       "                                               title  \\\n",
       "0  Tonton Blak blakan Menkumham, 2 Napi Kakap Anc...   \n",
       "1     BMKG: Waspadai Geombang Tinggi 3 Hari ke Depan   \n",
       "2          Prabowo Dilema Pilih Salim Segaf atau AHY   \n",
       "\n",
       "                                   tags  \\\n",
       "0                      lapas sukamiskin   \n",
       "1     bmkg,gelombang tinggi,cuaca buruk   \n",
       "2  prabowo,ahy,salim segaf,pilpres 2019   \n",
       "\n",
       "                                                 url source  \n",
       "0  https://news.detik.com/berita/d-4147543/tonton...  detik  \n",
       "1  https://news.detik.com/berita/d-4147530/bmkg-w...  detik  \n",
       "2  https://news.detik.com/berita/d-4147515/prabow...  detik  "
      ]
     },
     "execution_count": 17,
     "metadata": {},
     "output_type": "execute_result"
    }
   ],
   "source": [
    "df1"
   ]
  },
  {
   "cell_type": "code",
   "execution_count": 18,
   "metadata": {},
   "outputs": [],
   "source": [
    "con.close()"
   ]
  },
  {
   "cell_type": "code",
   "execution_count": 13,
   "metadata": {},
   "outputs": [
    {
     "data": {
      "text/plain": [
       "'ID'"
      ]
     },
     "execution_count": 13,
     "metadata": {},
     "output_type": "execute_result"
    }
   ],
   "source": [
    "from datetime import datetime, timedelta\n",
    "import locale\n",
    "locale.setlocale(locale.LC_ALL, 'ID')"
   ]
  },
  {
   "cell_type": "code",
   "execution_count": 15,
   "metadata": {},
   "outputs": [],
   "source": [
    "yes = datetime.now() - timedelta(1)"
   ]
  },
  {
   "cell_type": "code",
   "execution_count": 23,
   "metadata": {},
   "outputs": [
    {
     "data": {
      "text/plain": [
       "'Min 2018-Agt-05 10:04:52'"
      ]
     },
     "execution_count": 23,
     "metadata": {},
     "output_type": "execute_result"
    }
   ],
   "source": [
    "datetime.strftime(yes, '%a %Y-%b-%d %H:%M:%S')"
   ]
  },
  {
   "cell_type": "code",
   "execution_count": null,
   "metadata": {},
   "outputs": [],
   "source": []
  }
 ],
 "metadata": {
  "kernelspec": {
   "display_name": "Python 3",
   "language": "python",
   "name": "python3"
  },
  "language_info": {
   "codemirror_mode": {
    "name": "ipython",
    "version": 3
   },
   "file_extension": ".py",
   "mimetype": "text/x-python",
   "name": "python",
   "nbconvert_exporter": "python",
   "pygments_lexer": "ipython3",
   "version": "3.6.6"
  }
 },
 "nbformat": 4,
 "nbformat_minor": 2
}
