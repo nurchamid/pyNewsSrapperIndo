{
 "cells": [
  {
   "cell_type": "code",
   "execution_count": 1,
   "metadata": {},
   "outputs": [],
   "source": [
    "from Carmudi import Carmudi #class news Scrapper"
   ]
  },
  {
   "cell_type": "code",
   "execution_count": 2,
   "metadata": {},
   "outputs": [],
   "source": [
    "obj = Carmudi()"
   ]
  },
  {
   "cell_type": "code",
   "execution_count": 3,
   "metadata": {},
   "outputs": [
    {
     "name": "stdout",
     "output_type": "stream",
     "text": [
      "page  1\n",
      "https://www.carmudi.co.id/journal/page/1\n",
      "memasukkan berita id  38254\n",
      "Insert berita  Harga Lexus ES Terbaru di Indonesia Lebih Murah Dibandingkan di Thailand\n",
      "masuk\n",
      "memasukkan berita id  38252\n",
      "Insert berita  Tips Merawat Mesin Turbo : Yang Penting Rajin Ganti Oli dan Service Berkala\n",
      "masuk\n",
      "memasukkan berita id  38227\n",
      "Insert berita  Stres Saat Mengemudi di Jalan, Ini Cara Mudah Mengatasinya\n",
      "masuk\n",
      "memasukkan berita id  38238\n",
      "Insert berita  Aston Martin DB5 James Bond Kembali Diproduksi dengan ‘Gadget’ Khas 007\n",
      "masuk\n"
     ]
    },
    {
     "data": {
      "text/plain": [
       "'berhasil ambil semua berita'"
      ]
     },
     "execution_count": 3,
     "metadata": {},
     "output_type": "execute_result"
    }
   ],
   "source": [
    "obj.getAllBerita([], 1)"
   ]
  },
  {
   "cell_type": "code",
   "execution_count": null,
   "metadata": {},
   "outputs": [],
   "source": []
  }
 ],
 "metadata": {
  "kernelspec": {
   "display_name": "Python 3",
   "language": "python",
   "name": "python3"
  },
  "language_info": {
   "codemirror_mode": {
    "name": "ipython",
    "version": 3
   },
   "file_extension": ".py",
   "mimetype": "text/x-python",
   "name": "python",
   "nbconvert_exporter": "python",
   "pygments_lexer": "ipython3",
   "version": "3.6.6"
  }
 },
 "nbformat": 4,
 "nbformat_minor": 2
}
