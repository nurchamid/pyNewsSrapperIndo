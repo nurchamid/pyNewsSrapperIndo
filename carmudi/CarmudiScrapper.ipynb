{
 "cells": [
  {
   "cell_type": "code",
   "execution_count": 1,
   "metadata": {},
   "outputs": [],
   "source": [
    "from Carmudi import Carmudi #class news Scrapper"
   ]
  },
  {
   "cell_type": "code",
   "execution_count": 2,
   "metadata": {},
   "outputs": [],
   "source": [
    "obj = Carmudi()"
   ]
  },
  {
   "cell_type": "code",
   "execution_count": 3,
   "metadata": {},
   "outputs": [
    {
     "name": "stdout",
     "output_type": "stream",
     "text": [
      "page  1\n",
      "https://www.carmudi.co.id/journal/page/1\n",
      "memasukkan berita id  38150\n",
      "Insert berita  Ini Wajah Stuntman Jokowi saat Mengendarai Yamaha FZ1\n",
      "masuk\n",
      "memasukkan berita id  38139\n",
      "Insert berita  Penuh Gaya, Jokowi Buka Asian Games 2018 Pakai Motor Yamaha\n",
      "masuk\n",
      "memasukkan berita id  38162\n",
      "Insert berita  Sebanyak 2.800 Bikers Honda Rayakan HUT RI ke-73 dengan Convoy Merdeka\n",
      "masuk\n",
      "memasukkan berita id  38132\n",
      "Insert berita  Kakorlantas Himbau Hari Ini Jangan Lewat Kawasan GBK\n",
      "masuk\n",
      "memasukkan berita id  38116\n",
      "Insert berita  Warna Baru Yamaha Fino Grande dan Vixion Tampil Lebih Segarkan\n",
      "masuk\n",
      "memasukkan berita id  38124\n",
      "Insert berita  Cuma Ada 175 di Dunia, Supercar Langka “Versi Terakhir” Ini Hadir di Indonesia\n",
      "masuk\n",
      "memasukkan berita id  38114\n",
      "Insert berita  Terungkap, Ternyata Ini Alasan Mitsubishi Berhenti Jual Delica di Indonesia\n",
      "masuk\n"
     ]
    },
    {
     "data": {
      "text/plain": [
       "'berhasil ambil semua berita'"
      ]
     },
     "execution_count": 3,
     "metadata": {},
     "output_type": "execute_result"
    }
   ],
   "source": [
    "obj.getAllBerita([], 1)"
   ]
  },
  {
   "cell_type": "code",
   "execution_count": null,
   "metadata": {},
   "outputs": [],
   "source": []
  }
 ],
 "metadata": {
  "kernelspec": {
   "display_name": "Python 3",
   "language": "python",
   "name": "python3"
  },
  "language_info": {
   "codemirror_mode": {
    "name": "ipython",
    "version": 3
   },
   "file_extension": ".py",
   "mimetype": "text/x-python",
   "name": "python",
   "nbconvert_exporter": "python",
   "pygments_lexer": "ipython3",
   "version": "3.6.6"
  }
 },
 "nbformat": 4,
 "nbformat_minor": 2
}
